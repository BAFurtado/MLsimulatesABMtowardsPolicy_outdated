{
 "cells": [
  {
   "cell_type": "code",
   "execution_count": 2,
   "metadata": {
    "collapsed": true
   },
   "outputs": [],
   "source": [
    "import pandas as pd\n",
    "import numpy as np\n",
    "import groups_cols\n",
    "from matplotlib import pyplot as plt\n",
    "import seaborn as sns\n",
    "tables = {}"
   ]
  },
  {
   "cell_type": "markdown",
   "source": [
    "# Mean and std tables"
   ],
   "metadata": {
    "collapsed": false
   }
  },
  {
   "cell_type": "code",
   "execution_count": 2,
   "outputs": [],
   "source": [
    "iqr = pd.read_csv('IQR.csv', sep=';')"
   ],
   "metadata": {
    "collapsed": false,
    "pycharm": {
     "name": "#%%\n"
    }
   }
  },
  {
   "cell_type": "code",
   "execution_count": 3,
   "outputs": [
    {
     "data": {
      "text/plain": "     Unnamed: 0                                          ACP  \\\n0             0                                          all   \n1             1                                          all   \n2             2                                          all   \n3             3                                          all   \n4             4               PROCESSING_ACPS_BELO HORIZONTE   \n..          ...                                          ...   \n183         183                       PROCESSING_ACPS_SANTOS   \n184         184  PROCESSING_ACPS_VOLTA REDONDA - BARRA MANSA   \n185         185  PROCESSING_ACPS_VOLTA REDONDA - BARRA MANSA   \n186         186  PROCESSING_ACPS_VOLTA REDONDA - BARRA MANSA   \n187         187  PROCESSING_ACPS_VOLTA REDONDA - BARRA MANSA   \n\n                    pol   q3   q1  median  IQR      mean       std     count  \\\n0          POLICIES_buy  0.0  0.0     0.0  0.0  0.036194  0.186773  250592.0   \n1         POLICIES_rent  1.0  0.0     0.0  1.0  0.310333  0.462630  250070.0   \n2         POLICIES_wage  1.0  0.0     0.0  1.0  0.329212  0.469927  250015.0   \n3    POLICIES_no_policy  0.0  0.0     0.0  0.0  0.178652  0.383060  249323.0   \n4          POLICIES_buy  0.0  0.0     0.0  0.0  0.094223  0.292138    5487.0   \n..                  ...  ...  ...     ...  ...       ...       ...       ...   \n183  POLICIES_no_policy  0.0  0.0     0.0  0.0  0.146734  0.353841    5343.0   \n184        POLICIES_buy  0.0  0.0     0.0  0.0  0.031109  0.173614    5336.0   \n185       POLICIES_rent  1.0  0.0     0.0  1.0  0.269522  0.443711    5417.0   \n186       POLICIES_wage  1.0  0.0     0.0  1.0  0.286105  0.451939    5484.0   \n187  POLICIES_no_policy  0.0  0.0     0.0  0.0  0.172324  0.377662    5362.0   \n\n     optimal_count  \n0           9070.0  \n1          77605.0  \n2          82308.0  \n3          44542.0  \n4            517.0  \n..             ...  \n183          784.0  \n184          166.0  \n185         1460.0  \n186         1569.0  \n187          924.0  \n\n[188 rows x 11 columns]",
      "text/html": "<div>\n<style scoped>\n    .dataframe tbody tr th:only-of-type {\n        vertical-align: middle;\n    }\n\n    .dataframe tbody tr th {\n        vertical-align: top;\n    }\n\n    .dataframe thead th {\n        text-align: right;\n    }\n</style>\n<table border=\"1\" class=\"dataframe\">\n  <thead>\n    <tr style=\"text-align: right;\">\n      <th></th>\n      <th>Unnamed: 0</th>\n      <th>ACP</th>\n      <th>pol</th>\n      <th>q3</th>\n      <th>q1</th>\n      <th>median</th>\n      <th>IQR</th>\n      <th>mean</th>\n      <th>std</th>\n      <th>count</th>\n      <th>optimal_count</th>\n    </tr>\n  </thead>\n  <tbody>\n    <tr>\n      <th>0</th>\n      <td>0</td>\n      <td>all</td>\n      <td>POLICIES_buy</td>\n      <td>0.0</td>\n      <td>0.0</td>\n      <td>0.0</td>\n      <td>0.0</td>\n      <td>0.036194</td>\n      <td>0.186773</td>\n      <td>250592.0</td>\n      <td>9070.0</td>\n    </tr>\n    <tr>\n      <th>1</th>\n      <td>1</td>\n      <td>all</td>\n      <td>POLICIES_rent</td>\n      <td>1.0</td>\n      <td>0.0</td>\n      <td>0.0</td>\n      <td>1.0</td>\n      <td>0.310333</td>\n      <td>0.462630</td>\n      <td>250070.0</td>\n      <td>77605.0</td>\n    </tr>\n    <tr>\n      <th>2</th>\n      <td>2</td>\n      <td>all</td>\n      <td>POLICIES_wage</td>\n      <td>1.0</td>\n      <td>0.0</td>\n      <td>0.0</td>\n      <td>1.0</td>\n      <td>0.329212</td>\n      <td>0.469927</td>\n      <td>250015.0</td>\n      <td>82308.0</td>\n    </tr>\n    <tr>\n      <th>3</th>\n      <td>3</td>\n      <td>all</td>\n      <td>POLICIES_no_policy</td>\n      <td>0.0</td>\n      <td>0.0</td>\n      <td>0.0</td>\n      <td>0.0</td>\n      <td>0.178652</td>\n      <td>0.383060</td>\n      <td>249323.0</td>\n      <td>44542.0</td>\n    </tr>\n    <tr>\n      <th>4</th>\n      <td>4</td>\n      <td>PROCESSING_ACPS_BELO HORIZONTE</td>\n      <td>POLICIES_buy</td>\n      <td>0.0</td>\n      <td>0.0</td>\n      <td>0.0</td>\n      <td>0.0</td>\n      <td>0.094223</td>\n      <td>0.292138</td>\n      <td>5487.0</td>\n      <td>517.0</td>\n    </tr>\n    <tr>\n      <th>...</th>\n      <td>...</td>\n      <td>...</td>\n      <td>...</td>\n      <td>...</td>\n      <td>...</td>\n      <td>...</td>\n      <td>...</td>\n      <td>...</td>\n      <td>...</td>\n      <td>...</td>\n      <td>...</td>\n    </tr>\n    <tr>\n      <th>183</th>\n      <td>183</td>\n      <td>PROCESSING_ACPS_SANTOS</td>\n      <td>POLICIES_no_policy</td>\n      <td>0.0</td>\n      <td>0.0</td>\n      <td>0.0</td>\n      <td>0.0</td>\n      <td>0.146734</td>\n      <td>0.353841</td>\n      <td>5343.0</td>\n      <td>784.0</td>\n    </tr>\n    <tr>\n      <th>184</th>\n      <td>184</td>\n      <td>PROCESSING_ACPS_VOLTA REDONDA - BARRA MANSA</td>\n      <td>POLICIES_buy</td>\n      <td>0.0</td>\n      <td>0.0</td>\n      <td>0.0</td>\n      <td>0.0</td>\n      <td>0.031109</td>\n      <td>0.173614</td>\n      <td>5336.0</td>\n      <td>166.0</td>\n    </tr>\n    <tr>\n      <th>185</th>\n      <td>185</td>\n      <td>PROCESSING_ACPS_VOLTA REDONDA - BARRA MANSA</td>\n      <td>POLICIES_rent</td>\n      <td>1.0</td>\n      <td>0.0</td>\n      <td>0.0</td>\n      <td>1.0</td>\n      <td>0.269522</td>\n      <td>0.443711</td>\n      <td>5417.0</td>\n      <td>1460.0</td>\n    </tr>\n    <tr>\n      <th>186</th>\n      <td>186</td>\n      <td>PROCESSING_ACPS_VOLTA REDONDA - BARRA MANSA</td>\n      <td>POLICIES_wage</td>\n      <td>1.0</td>\n      <td>0.0</td>\n      <td>0.0</td>\n      <td>1.0</td>\n      <td>0.286105</td>\n      <td>0.451939</td>\n      <td>5484.0</td>\n      <td>1569.0</td>\n    </tr>\n    <tr>\n      <th>187</th>\n      <td>187</td>\n      <td>PROCESSING_ACPS_VOLTA REDONDA - BARRA MANSA</td>\n      <td>POLICIES_no_policy</td>\n      <td>0.0</td>\n      <td>0.0</td>\n      <td>0.0</td>\n      <td>0.0</td>\n      <td>0.172324</td>\n      <td>0.377662</td>\n      <td>5362.0</td>\n      <td>924.0</td>\n    </tr>\n  </tbody>\n</table>\n<p>188 rows × 11 columns</p>\n</div>"
     },
     "execution_count": 3,
     "metadata": {},
     "output_type": "execute_result"
    }
   ],
   "source": [
    "iqr"
   ],
   "metadata": {
    "collapsed": false,
    "pycharm": {
     "name": "#%%\n"
    }
   }
  },
  {
   "cell_type": "code",
   "execution_count": 4,
   "outputs": [],
   "source": [
    "mean_policy_acp = pd.DataFrame()\n",
    "std_policy_acp = mean_policy_acp.copy()\n",
    "acps = ['all'] + groups_cols.abm_dummies['acps']\n",
    "\n",
    "for acp in acps:\n",
    "    row_mean = {'MR' : acp}\n",
    "    row_std = row_mean.copy()\n",
    "    for policy in ['POLICIES_no_policy','POLICIES_buy', 'POLICIES_rent', 'POLICIES_wage']:\n",
    "        dataframe_mean = iqr.loc[(iqr['ACP'] == acp) & (iqr['pol'] == policy)]['mean'].values[0]\n",
    "        dataframe_std = iqr.loc[(iqr['ACP'] == acp) & (iqr['pol'] == policy)]['std'].values[0]\n",
    "        if policy == 'POLICIES_no_policy':\n",
    "            mean = dataframe_mean*100\n",
    "            std = dataframe_std*100\n",
    "        else:\n",
    "            mean = (dataframe_mean*100-row_mean['POLICIES_no_policy'])\n",
    "            std = (dataframe_std*100-row_std['POLICIES_no_policy'])\n",
    "        row_mean[policy] = mean.round(decimals=2)\n",
    "        row_std[policy] = std.round(decimals=2)\n",
    "    mean_policy_acp = mean_policy_acp.append(row_mean,\n",
    "                ignore_index=True)\n",
    "    std_policy_acp = std_policy_acp.append(row_std,\n",
    "                ignore_index=True)\n",
    "\n",
    "for df in [mean_policy_acp, std_policy_acp]:\n",
    "    df.sort_values(ascending=False, by='POLICIES_no_policy', inplace=True)\n",
    "    df.replace({'MR': groups_cols.abm_dummies_show})\n",
    "\n",
    "mean_policy_acp = mean_policy_acp.replace(groups_cols.abm_dummies_show).rename(columns=groups_cols.abm_dummies_show)\n",
    "std_policy_acp = std_policy_acp.replace(groups_cols.abm_dummies_show).rename(columns=groups_cols.abm_dummies_show)"
   ],
   "metadata": {
    "collapsed": false,
    "pycharm": {
     "name": "#%%\n"
    }
   }
  },
  {
   "cell_type": "code",
   "execution_count": 5,
   "outputs": [
    {
     "data": {
      "text/plain": "                    MR  Policy: none  Policy: buy  Policy: rent  Policy: wage\n1       Belo Horizonte        100.00       -90.58          0.00          0.00\n7            São Paulo         29.84        -1.14         -0.90          7.23\n44      Rio de Janeiro         27.38        -0.12          1.11          1.33\n8            Joinville         19.43       -14.26          7.67          8.91\n9         Campo Grande         18.63       -15.02         10.02          8.91\n41             Pelotas         18.58       -15.81         10.24         10.71\n15         João Pessoa         18.47       -14.78         10.11          8.97\n17              Maceio         18.43       -15.06          9.84          9.83\n22             Maringá         18.14       -14.33         10.16         10.86\n42  Petrolina-Juazeiro         18.11       -13.97          9.16          9.25\n34               Crato         17.92       -15.45          9.81         10.55\n11    Feira de Santana         17.88       -14.90         10.29          9.08\n0                  All         17.87       -14.25         13.16         15.05\n24              Cuiabá         17.59       -14.91         10.70         10.21\n21          Uberlandia         17.57       -13.62         10.73         10.39\n14            Sorocaba         17.56       -14.45         11.14         10.60\n18                 SJC         17.54       -14.21         10.55          9.59\n28              Manaus         17.30       -14.58         11.94         11.14\n46       Volta Redonda         17.23       -14.12          9.72         11.38\n12            Ipatinga         17.22       -14.61         11.26         11.34\n26               NH-SL         17.21       -14.78         10.61         11.06\n23             Vitória         17.18       -14.97         11.86         10.99\n6               Recife         17.02       -14.62         11.65         10.69\n31      Campina Grande         16.96       -14.73         12.92         11.15\n13            Londrina         16.77       -13.63         11.96         11.48\n40               Natal         16.62       -14.53         10.81         11.59\n36       Florianópolis         16.50       -13.53         12.25         11.57\n19      Ilheus-Itabuna         16.50       -14.49         12.57         12.52\n38        Juiz de Fora         16.40       -12.68         11.81         10.90\n27            Teresina         16.21       -14.34         12.15         12.15\n39              Macapá         16.15       -13.75         11.67         12.36\n43      Ribeirão Preto         16.08       -14.28         12.20         12.16\n30             Aracaju         15.87       -13.97         11.93         11.73\n37             Goiânia         15.86       -14.32         13.58         12.45\n32              Campos         15.83       -13.76         13.06         11.73\n20            Sao Luis         15.73       -13.54         13.22         11.61\n33       Caxias do Sul         15.71       -13.06         13.46         11.89\n5             Salvador         15.04       -14.01         13.83         13.62\n45              Santos         14.67       -13.48         13.20         13.62\n10             Jundiai         14.56       -12.39         13.91         15.50\n16                SJRP         14.36       -12.68         13.23         14.07\n2            Fortaleza         13.99       -12.79         14.26         13.88\n35            Curitiba         12.37       -12.30         71.55         79.85\n25               Belém          8.00        -8.00         19.12         61.69\n3         Porto Alegre          4.62        -4.47         13.50         14.24\n4             Campinas          0.94        -0.94         63.56         97.53\n29            Brasília          0.00         0.00          0.00          0.00",
      "text/html": "<div>\n<style scoped>\n    .dataframe tbody tr th:only-of-type {\n        vertical-align: middle;\n    }\n\n    .dataframe tbody tr th {\n        vertical-align: top;\n    }\n\n    .dataframe thead th {\n        text-align: right;\n    }\n</style>\n<table border=\"1\" class=\"dataframe\">\n  <thead>\n    <tr style=\"text-align: right;\">\n      <th></th>\n      <th>MR</th>\n      <th>Policy: none</th>\n      <th>Policy: buy</th>\n      <th>Policy: rent</th>\n      <th>Policy: wage</th>\n    </tr>\n  </thead>\n  <tbody>\n    <tr>\n      <th>1</th>\n      <td>Belo Horizonte</td>\n      <td>100.00</td>\n      <td>-90.58</td>\n      <td>0.00</td>\n      <td>0.00</td>\n    </tr>\n    <tr>\n      <th>7</th>\n      <td>São Paulo</td>\n      <td>29.84</td>\n      <td>-1.14</td>\n      <td>-0.90</td>\n      <td>7.23</td>\n    </tr>\n    <tr>\n      <th>44</th>\n      <td>Rio de Janeiro</td>\n      <td>27.38</td>\n      <td>-0.12</td>\n      <td>1.11</td>\n      <td>1.33</td>\n    </tr>\n    <tr>\n      <th>8</th>\n      <td>Joinville</td>\n      <td>19.43</td>\n      <td>-14.26</td>\n      <td>7.67</td>\n      <td>8.91</td>\n    </tr>\n    <tr>\n      <th>9</th>\n      <td>Campo Grande</td>\n      <td>18.63</td>\n      <td>-15.02</td>\n      <td>10.02</td>\n      <td>8.91</td>\n    </tr>\n    <tr>\n      <th>41</th>\n      <td>Pelotas</td>\n      <td>18.58</td>\n      <td>-15.81</td>\n      <td>10.24</td>\n      <td>10.71</td>\n    </tr>\n    <tr>\n      <th>15</th>\n      <td>João Pessoa</td>\n      <td>18.47</td>\n      <td>-14.78</td>\n      <td>10.11</td>\n      <td>8.97</td>\n    </tr>\n    <tr>\n      <th>17</th>\n      <td>Maceio</td>\n      <td>18.43</td>\n      <td>-15.06</td>\n      <td>9.84</td>\n      <td>9.83</td>\n    </tr>\n    <tr>\n      <th>22</th>\n      <td>Maringá</td>\n      <td>18.14</td>\n      <td>-14.33</td>\n      <td>10.16</td>\n      <td>10.86</td>\n    </tr>\n    <tr>\n      <th>42</th>\n      <td>Petrolina-Juazeiro</td>\n      <td>18.11</td>\n      <td>-13.97</td>\n      <td>9.16</td>\n      <td>9.25</td>\n    </tr>\n    <tr>\n      <th>34</th>\n      <td>Crato</td>\n      <td>17.92</td>\n      <td>-15.45</td>\n      <td>9.81</td>\n      <td>10.55</td>\n    </tr>\n    <tr>\n      <th>11</th>\n      <td>Feira de Santana</td>\n      <td>17.88</td>\n      <td>-14.90</td>\n      <td>10.29</td>\n      <td>9.08</td>\n    </tr>\n    <tr>\n      <th>0</th>\n      <td>All</td>\n      <td>17.87</td>\n      <td>-14.25</td>\n      <td>13.16</td>\n      <td>15.05</td>\n    </tr>\n    <tr>\n      <th>24</th>\n      <td>Cuiabá</td>\n      <td>17.59</td>\n      <td>-14.91</td>\n      <td>10.70</td>\n      <td>10.21</td>\n    </tr>\n    <tr>\n      <th>21</th>\n      <td>Uberlandia</td>\n      <td>17.57</td>\n      <td>-13.62</td>\n      <td>10.73</td>\n      <td>10.39</td>\n    </tr>\n    <tr>\n      <th>14</th>\n      <td>Sorocaba</td>\n      <td>17.56</td>\n      <td>-14.45</td>\n      <td>11.14</td>\n      <td>10.60</td>\n    </tr>\n    <tr>\n      <th>18</th>\n      <td>SJC</td>\n      <td>17.54</td>\n      <td>-14.21</td>\n      <td>10.55</td>\n      <td>9.59</td>\n    </tr>\n    <tr>\n      <th>28</th>\n      <td>Manaus</td>\n      <td>17.30</td>\n      <td>-14.58</td>\n      <td>11.94</td>\n      <td>11.14</td>\n    </tr>\n    <tr>\n      <th>46</th>\n      <td>Volta Redonda</td>\n      <td>17.23</td>\n      <td>-14.12</td>\n      <td>9.72</td>\n      <td>11.38</td>\n    </tr>\n    <tr>\n      <th>12</th>\n      <td>Ipatinga</td>\n      <td>17.22</td>\n      <td>-14.61</td>\n      <td>11.26</td>\n      <td>11.34</td>\n    </tr>\n    <tr>\n      <th>26</th>\n      <td>NH-SL</td>\n      <td>17.21</td>\n      <td>-14.78</td>\n      <td>10.61</td>\n      <td>11.06</td>\n    </tr>\n    <tr>\n      <th>23</th>\n      <td>Vitória</td>\n      <td>17.18</td>\n      <td>-14.97</td>\n      <td>11.86</td>\n      <td>10.99</td>\n    </tr>\n    <tr>\n      <th>6</th>\n      <td>Recife</td>\n      <td>17.02</td>\n      <td>-14.62</td>\n      <td>11.65</td>\n      <td>10.69</td>\n    </tr>\n    <tr>\n      <th>31</th>\n      <td>Campina Grande</td>\n      <td>16.96</td>\n      <td>-14.73</td>\n      <td>12.92</td>\n      <td>11.15</td>\n    </tr>\n    <tr>\n      <th>13</th>\n      <td>Londrina</td>\n      <td>16.77</td>\n      <td>-13.63</td>\n      <td>11.96</td>\n      <td>11.48</td>\n    </tr>\n    <tr>\n      <th>40</th>\n      <td>Natal</td>\n      <td>16.62</td>\n      <td>-14.53</td>\n      <td>10.81</td>\n      <td>11.59</td>\n    </tr>\n    <tr>\n      <th>36</th>\n      <td>Florianópolis</td>\n      <td>16.50</td>\n      <td>-13.53</td>\n      <td>12.25</td>\n      <td>11.57</td>\n    </tr>\n    <tr>\n      <th>19</th>\n      <td>Ilheus-Itabuna</td>\n      <td>16.50</td>\n      <td>-14.49</td>\n      <td>12.57</td>\n      <td>12.52</td>\n    </tr>\n    <tr>\n      <th>38</th>\n      <td>Juiz de Fora</td>\n      <td>16.40</td>\n      <td>-12.68</td>\n      <td>11.81</td>\n      <td>10.90</td>\n    </tr>\n    <tr>\n      <th>27</th>\n      <td>Teresina</td>\n      <td>16.21</td>\n      <td>-14.34</td>\n      <td>12.15</td>\n      <td>12.15</td>\n    </tr>\n    <tr>\n      <th>39</th>\n      <td>Macapá</td>\n      <td>16.15</td>\n      <td>-13.75</td>\n      <td>11.67</td>\n      <td>12.36</td>\n    </tr>\n    <tr>\n      <th>43</th>\n      <td>Ribeirão Preto</td>\n      <td>16.08</td>\n      <td>-14.28</td>\n      <td>12.20</td>\n      <td>12.16</td>\n    </tr>\n    <tr>\n      <th>30</th>\n      <td>Aracaju</td>\n      <td>15.87</td>\n      <td>-13.97</td>\n      <td>11.93</td>\n      <td>11.73</td>\n    </tr>\n    <tr>\n      <th>37</th>\n      <td>Goiânia</td>\n      <td>15.86</td>\n      <td>-14.32</td>\n      <td>13.58</td>\n      <td>12.45</td>\n    </tr>\n    <tr>\n      <th>32</th>\n      <td>Campos</td>\n      <td>15.83</td>\n      <td>-13.76</td>\n      <td>13.06</td>\n      <td>11.73</td>\n    </tr>\n    <tr>\n      <th>20</th>\n      <td>Sao Luis</td>\n      <td>15.73</td>\n      <td>-13.54</td>\n      <td>13.22</td>\n      <td>11.61</td>\n    </tr>\n    <tr>\n      <th>33</th>\n      <td>Caxias do Sul</td>\n      <td>15.71</td>\n      <td>-13.06</td>\n      <td>13.46</td>\n      <td>11.89</td>\n    </tr>\n    <tr>\n      <th>5</th>\n      <td>Salvador</td>\n      <td>15.04</td>\n      <td>-14.01</td>\n      <td>13.83</td>\n      <td>13.62</td>\n    </tr>\n    <tr>\n      <th>45</th>\n      <td>Santos</td>\n      <td>14.67</td>\n      <td>-13.48</td>\n      <td>13.20</td>\n      <td>13.62</td>\n    </tr>\n    <tr>\n      <th>10</th>\n      <td>Jundiai</td>\n      <td>14.56</td>\n      <td>-12.39</td>\n      <td>13.91</td>\n      <td>15.50</td>\n    </tr>\n    <tr>\n      <th>16</th>\n      <td>SJRP</td>\n      <td>14.36</td>\n      <td>-12.68</td>\n      <td>13.23</td>\n      <td>14.07</td>\n    </tr>\n    <tr>\n      <th>2</th>\n      <td>Fortaleza</td>\n      <td>13.99</td>\n      <td>-12.79</td>\n      <td>14.26</td>\n      <td>13.88</td>\n    </tr>\n    <tr>\n      <th>35</th>\n      <td>Curitiba</td>\n      <td>12.37</td>\n      <td>-12.30</td>\n      <td>71.55</td>\n      <td>79.85</td>\n    </tr>\n    <tr>\n      <th>25</th>\n      <td>Belém</td>\n      <td>8.00</td>\n      <td>-8.00</td>\n      <td>19.12</td>\n      <td>61.69</td>\n    </tr>\n    <tr>\n      <th>3</th>\n      <td>Porto Alegre</td>\n      <td>4.62</td>\n      <td>-4.47</td>\n      <td>13.50</td>\n      <td>14.24</td>\n    </tr>\n    <tr>\n      <th>4</th>\n      <td>Campinas</td>\n      <td>0.94</td>\n      <td>-0.94</td>\n      <td>63.56</td>\n      <td>97.53</td>\n    </tr>\n    <tr>\n      <th>29</th>\n      <td>Brasília</td>\n      <td>0.00</td>\n      <td>0.00</td>\n      <td>0.00</td>\n      <td>0.00</td>\n    </tr>\n  </tbody>\n</table>\n</div>"
     },
     "execution_count": 5,
     "metadata": {},
     "output_type": "execute_result"
    }
   ],
   "source": [
    "mean_policy_acp"
   ],
   "metadata": {
    "collapsed": false,
    "pycharm": {
     "name": "#%%\n"
    }
   }
  },
  {
   "cell_type": "code",
   "execution_count": 6,
   "outputs": [
    {
     "data": {
      "text/plain": "                    MR  Policy: none  Policy: buy  Policy: rent  Policy: wage\n7            São Paulo         45.75        -0.51         -0.40          2.55\n44      Rio de Janeiro         44.59        -0.06          0.55          0.65\n8            Joinville         39.56       -17.41          4.89          5.51\n9         Campo Grande         38.94       -20.30          6.27          5.73\n41             Pelotas         38.90       -22.48          6.39          6.61\n15         João Pessoa         38.80       -19.95          6.38          5.82\n17              Maceio         38.78       -20.74          6.25          6.25\n22             Maringá         38.54       -19.39          6.51          6.84\n42  Petrolina-Juazeiro         38.51       -18.59          6.02          6.07\n34               Crato         38.35       -22.82          6.42          6.78\n11    Feira de Santana         38.32       -21.31          6.66          6.05\n0                  All         38.31       -19.63          7.95          8.68\n24              Cuiabá         38.08       -21.93          6.96          6.72\n21          Uberlandia         38.06       -18.59          6.99          6.82\n14            Sorocaba         38.05       -20.70          7.19          6.93\n18                 SJC         38.03       -20.09          6.91          6.43\n28              Manaus         37.82       -21.56          7.67          7.29\n46       Volta Redonda         37.77       -20.41          6.60          7.42\n12            Ipatinga         37.75       -21.81          7.38          7.42\n26               NH-SL         37.75       -22.36          7.06          7.28\n23             Vitória         37.72       -23.02          7.68          7.26\n6               Recife         37.58       -22.28          7.64          7.18\n31      Campina Grande         37.53       -22.75          8.24          7.42\n13            Londrina         37.36       -19.91          7.89          7.66\n40               Natal         37.23       -22.91          7.39          7.77\n36       Florianópolis         37.12       -20.15          8.14          7.81\n19      Ilheus-Itabuna         37.11       -23.08          8.30          8.28\n38        Juiz de Fora         37.03       -18.12          7.97          7.52\n27            Teresina         36.85       -23.30          8.22          8.23\n39              Macapá         36.80       -21.49          8.01          8.35\n43      Ribeirão Preto         36.74       -23.44          8.29          8.28\n30             Aracaju         36.54       -22.87          8.26          8.16\n37             Goiânia         36.53       -24.20          9.05          8.52\n32              Campos         36.50       -22.25          8.82          8.18\n20            Sao Luis         36.41       -21.76          8.94          8.16\n33       Caxias do Sul         36.39       -20.32          9.06          8.31\n5             Salvador         35.75       -25.64          9.57          9.47\n45              Santos         35.38       -24.54          9.45          9.66\n10             Jundiai         35.27       -20.71          9.86         10.58\n16                SJRP         35.07       -22.23          9.63         10.04\n2            Fortaleza         34.69       -23.80         10.33         10.15\n35            Curitiba         32.92       -30.22          3.81         -6.13\n25               Belém         27.12       -27.12         17.34         18.84\n3         Porto Alegre         20.99       -17.11         17.53         18.13\n4             Campinas          9.63        -9.63         38.22          2.64\n29            Brasília          0.00         0.00          0.00          0.00\n1       Belo Horizonte          0.00        29.21          0.00          0.00",
      "text/html": "<div>\n<style scoped>\n    .dataframe tbody tr th:only-of-type {\n        vertical-align: middle;\n    }\n\n    .dataframe tbody tr th {\n        vertical-align: top;\n    }\n\n    .dataframe thead th {\n        text-align: right;\n    }\n</style>\n<table border=\"1\" class=\"dataframe\">\n  <thead>\n    <tr style=\"text-align: right;\">\n      <th></th>\n      <th>MR</th>\n      <th>Policy: none</th>\n      <th>Policy: buy</th>\n      <th>Policy: rent</th>\n      <th>Policy: wage</th>\n    </tr>\n  </thead>\n  <tbody>\n    <tr>\n      <th>7</th>\n      <td>São Paulo</td>\n      <td>45.75</td>\n      <td>-0.51</td>\n      <td>-0.40</td>\n      <td>2.55</td>\n    </tr>\n    <tr>\n      <th>44</th>\n      <td>Rio de Janeiro</td>\n      <td>44.59</td>\n      <td>-0.06</td>\n      <td>0.55</td>\n      <td>0.65</td>\n    </tr>\n    <tr>\n      <th>8</th>\n      <td>Joinville</td>\n      <td>39.56</td>\n      <td>-17.41</td>\n      <td>4.89</td>\n      <td>5.51</td>\n    </tr>\n    <tr>\n      <th>9</th>\n      <td>Campo Grande</td>\n      <td>38.94</td>\n      <td>-20.30</td>\n      <td>6.27</td>\n      <td>5.73</td>\n    </tr>\n    <tr>\n      <th>41</th>\n      <td>Pelotas</td>\n      <td>38.90</td>\n      <td>-22.48</td>\n      <td>6.39</td>\n      <td>6.61</td>\n    </tr>\n    <tr>\n      <th>15</th>\n      <td>João Pessoa</td>\n      <td>38.80</td>\n      <td>-19.95</td>\n      <td>6.38</td>\n      <td>5.82</td>\n    </tr>\n    <tr>\n      <th>17</th>\n      <td>Maceio</td>\n      <td>38.78</td>\n      <td>-20.74</td>\n      <td>6.25</td>\n      <td>6.25</td>\n    </tr>\n    <tr>\n      <th>22</th>\n      <td>Maringá</td>\n      <td>38.54</td>\n      <td>-19.39</td>\n      <td>6.51</td>\n      <td>6.84</td>\n    </tr>\n    <tr>\n      <th>42</th>\n      <td>Petrolina-Juazeiro</td>\n      <td>38.51</td>\n      <td>-18.59</td>\n      <td>6.02</td>\n      <td>6.07</td>\n    </tr>\n    <tr>\n      <th>34</th>\n      <td>Crato</td>\n      <td>38.35</td>\n      <td>-22.82</td>\n      <td>6.42</td>\n      <td>6.78</td>\n    </tr>\n    <tr>\n      <th>11</th>\n      <td>Feira de Santana</td>\n      <td>38.32</td>\n      <td>-21.31</td>\n      <td>6.66</td>\n      <td>6.05</td>\n    </tr>\n    <tr>\n      <th>0</th>\n      <td>All</td>\n      <td>38.31</td>\n      <td>-19.63</td>\n      <td>7.95</td>\n      <td>8.68</td>\n    </tr>\n    <tr>\n      <th>24</th>\n      <td>Cuiabá</td>\n      <td>38.08</td>\n      <td>-21.93</td>\n      <td>6.96</td>\n      <td>6.72</td>\n    </tr>\n    <tr>\n      <th>21</th>\n      <td>Uberlandia</td>\n      <td>38.06</td>\n      <td>-18.59</td>\n      <td>6.99</td>\n      <td>6.82</td>\n    </tr>\n    <tr>\n      <th>14</th>\n      <td>Sorocaba</td>\n      <td>38.05</td>\n      <td>-20.70</td>\n      <td>7.19</td>\n      <td>6.93</td>\n    </tr>\n    <tr>\n      <th>18</th>\n      <td>SJC</td>\n      <td>38.03</td>\n      <td>-20.09</td>\n      <td>6.91</td>\n      <td>6.43</td>\n    </tr>\n    <tr>\n      <th>28</th>\n      <td>Manaus</td>\n      <td>37.82</td>\n      <td>-21.56</td>\n      <td>7.67</td>\n      <td>7.29</td>\n    </tr>\n    <tr>\n      <th>46</th>\n      <td>Volta Redonda</td>\n      <td>37.77</td>\n      <td>-20.41</td>\n      <td>6.60</td>\n      <td>7.42</td>\n    </tr>\n    <tr>\n      <th>12</th>\n      <td>Ipatinga</td>\n      <td>37.75</td>\n      <td>-21.81</td>\n      <td>7.38</td>\n      <td>7.42</td>\n    </tr>\n    <tr>\n      <th>26</th>\n      <td>NH-SL</td>\n      <td>37.75</td>\n      <td>-22.36</td>\n      <td>7.06</td>\n      <td>7.28</td>\n    </tr>\n    <tr>\n      <th>23</th>\n      <td>Vitória</td>\n      <td>37.72</td>\n      <td>-23.02</td>\n      <td>7.68</td>\n      <td>7.26</td>\n    </tr>\n    <tr>\n      <th>6</th>\n      <td>Recife</td>\n      <td>37.58</td>\n      <td>-22.28</td>\n      <td>7.64</td>\n      <td>7.18</td>\n    </tr>\n    <tr>\n      <th>31</th>\n      <td>Campina Grande</td>\n      <td>37.53</td>\n      <td>-22.75</td>\n      <td>8.24</td>\n      <td>7.42</td>\n    </tr>\n    <tr>\n      <th>13</th>\n      <td>Londrina</td>\n      <td>37.36</td>\n      <td>-19.91</td>\n      <td>7.89</td>\n      <td>7.66</td>\n    </tr>\n    <tr>\n      <th>40</th>\n      <td>Natal</td>\n      <td>37.23</td>\n      <td>-22.91</td>\n      <td>7.39</td>\n      <td>7.77</td>\n    </tr>\n    <tr>\n      <th>36</th>\n      <td>Florianópolis</td>\n      <td>37.12</td>\n      <td>-20.15</td>\n      <td>8.14</td>\n      <td>7.81</td>\n    </tr>\n    <tr>\n      <th>19</th>\n      <td>Ilheus-Itabuna</td>\n      <td>37.11</td>\n      <td>-23.08</td>\n      <td>8.30</td>\n      <td>8.28</td>\n    </tr>\n    <tr>\n      <th>38</th>\n      <td>Juiz de Fora</td>\n      <td>37.03</td>\n      <td>-18.12</td>\n      <td>7.97</td>\n      <td>7.52</td>\n    </tr>\n    <tr>\n      <th>27</th>\n      <td>Teresina</td>\n      <td>36.85</td>\n      <td>-23.30</td>\n      <td>8.22</td>\n      <td>8.23</td>\n    </tr>\n    <tr>\n      <th>39</th>\n      <td>Macapá</td>\n      <td>36.80</td>\n      <td>-21.49</td>\n      <td>8.01</td>\n      <td>8.35</td>\n    </tr>\n    <tr>\n      <th>43</th>\n      <td>Ribeirão Preto</td>\n      <td>36.74</td>\n      <td>-23.44</td>\n      <td>8.29</td>\n      <td>8.28</td>\n    </tr>\n    <tr>\n      <th>30</th>\n      <td>Aracaju</td>\n      <td>36.54</td>\n      <td>-22.87</td>\n      <td>8.26</td>\n      <td>8.16</td>\n    </tr>\n    <tr>\n      <th>37</th>\n      <td>Goiânia</td>\n      <td>36.53</td>\n      <td>-24.20</td>\n      <td>9.05</td>\n      <td>8.52</td>\n    </tr>\n    <tr>\n      <th>32</th>\n      <td>Campos</td>\n      <td>36.50</td>\n      <td>-22.25</td>\n      <td>8.82</td>\n      <td>8.18</td>\n    </tr>\n    <tr>\n      <th>20</th>\n      <td>Sao Luis</td>\n      <td>36.41</td>\n      <td>-21.76</td>\n      <td>8.94</td>\n      <td>8.16</td>\n    </tr>\n    <tr>\n      <th>33</th>\n      <td>Caxias do Sul</td>\n      <td>36.39</td>\n      <td>-20.32</td>\n      <td>9.06</td>\n      <td>8.31</td>\n    </tr>\n    <tr>\n      <th>5</th>\n      <td>Salvador</td>\n      <td>35.75</td>\n      <td>-25.64</td>\n      <td>9.57</td>\n      <td>9.47</td>\n    </tr>\n    <tr>\n      <th>45</th>\n      <td>Santos</td>\n      <td>35.38</td>\n      <td>-24.54</td>\n      <td>9.45</td>\n      <td>9.66</td>\n    </tr>\n    <tr>\n      <th>10</th>\n      <td>Jundiai</td>\n      <td>35.27</td>\n      <td>-20.71</td>\n      <td>9.86</td>\n      <td>10.58</td>\n    </tr>\n    <tr>\n      <th>16</th>\n      <td>SJRP</td>\n      <td>35.07</td>\n      <td>-22.23</td>\n      <td>9.63</td>\n      <td>10.04</td>\n    </tr>\n    <tr>\n      <th>2</th>\n      <td>Fortaleza</td>\n      <td>34.69</td>\n      <td>-23.80</td>\n      <td>10.33</td>\n      <td>10.15</td>\n    </tr>\n    <tr>\n      <th>35</th>\n      <td>Curitiba</td>\n      <td>32.92</td>\n      <td>-30.22</td>\n      <td>3.81</td>\n      <td>-6.13</td>\n    </tr>\n    <tr>\n      <th>25</th>\n      <td>Belém</td>\n      <td>27.12</td>\n      <td>-27.12</td>\n      <td>17.34</td>\n      <td>18.84</td>\n    </tr>\n    <tr>\n      <th>3</th>\n      <td>Porto Alegre</td>\n      <td>20.99</td>\n      <td>-17.11</td>\n      <td>17.53</td>\n      <td>18.13</td>\n    </tr>\n    <tr>\n      <th>4</th>\n      <td>Campinas</td>\n      <td>9.63</td>\n      <td>-9.63</td>\n      <td>38.22</td>\n      <td>2.64</td>\n    </tr>\n    <tr>\n      <th>29</th>\n      <td>Brasília</td>\n      <td>0.00</td>\n      <td>0.00</td>\n      <td>0.00</td>\n      <td>0.00</td>\n    </tr>\n    <tr>\n      <th>1</th>\n      <td>Belo Horizonte</td>\n      <td>0.00</td>\n      <td>29.21</td>\n      <td>0.00</td>\n      <td>0.00</td>\n    </tr>\n  </tbody>\n</table>\n</div>"
     },
     "execution_count": 6,
     "metadata": {},
     "output_type": "execute_result"
    }
   ],
   "source": [
    "std_policy_acp"
   ],
   "metadata": {
    "collapsed": false,
    "pycharm": {
     "name": "#%%\n"
    }
   }
  },
  {
   "cell_type": "markdown",
   "source": [
    "### No policy is in absolute value (%) and all other columns are in percentage points of difference to the No policy case. NH-SL: Novo Hamburgo/Sao Leopoldo, SJRP: Sao Jose do Rio Preto, SJC: Sao Jose dos Campos"
   ],
   "metadata": {
    "collapsed": false
   }
  },
  {
   "cell_type": "markdown",
   "source": [
    "# Differences in dummies"
   ],
   "metadata": {
    "collapsed": false
   }
  },
  {
   "cell_type": "code",
   "execution_count": 7,
   "outputs": [],
   "source": [
    "current = pd.read_csv('../pre_processed_data/counting_Current.csv', sep=';').round(decimals=4)\n",
    "current #.replace({'Unnamed: 0': groups_cols.abm_dummies_show}, inplace=True)\n",
    "current = current.rename(columns={'Unnamed: 0' : 'Dummy'})\n",
    "current.sort_values(ascending=False, by='optimal', inplace=True)"
   ],
   "metadata": {
    "collapsed": false,
    "pycharm": {
     "name": "#%%\n"
    }
   }
  },
  {
   "cell_type": "code",
   "execution_count": 8,
   "outputs": [
    {
     "data": {
      "text/plain": "                                           Dummy    size  optimal  \\\n13                     PROCESSING_ACPS_SAO PAULO  0.0106   1.0000   \n7                 PROCESSING_ACPS_BELO HORIZONTE  0.0200   0.8108   \n50                PROCESSING_ACPS_RIO DE JANEIRO  0.0181   0.5473   \n41                      PROCESSING_ACPS_CURITIBA  0.0106   0.4786   \n10                      PROCESSING_ACPS_CAMPINAS  0.0200   0.3288   \n..                                           ...     ...      ...   \n9                   PROCESSING_ACPS_PORTO ALEGRE  0.0200   0.0000   \n32  PROCESSING_ACPS_NOVO HAMBURGO - SAO LEOPOLDO  0.0106   0.0000   \n33                      PROCESSING_ACPS_TERESINA  0.0106   0.0000   \n34                        PROCESSING_ACPS_MANAUS  0.0106   0.0000   \n37                PROCESSING_ACPS_CAMPINA GRANDE  0.0106   0.0000   \n\n    non_optimal  optimal_count  non_optimal_count  \n13       0.0000            117                  0  \n7        0.1892            180                 42  \n50       0.4527            110                 91  \n41       0.5214             56                 61  \n10       0.6712             73                149  \n..          ...            ...                ...  \n9        1.0000              0                222  \n32       1.0000              0                117  \n33       1.0000              0                117  \n34       1.0000              0                117  \n37       1.0000              0                117  \n\n[62 rows x 6 columns]",
      "text/html": "<div>\n<style scoped>\n    .dataframe tbody tr th:only-of-type {\n        vertical-align: middle;\n    }\n\n    .dataframe tbody tr th {\n        vertical-align: top;\n    }\n\n    .dataframe thead th {\n        text-align: right;\n    }\n</style>\n<table border=\"1\" class=\"dataframe\">\n  <thead>\n    <tr style=\"text-align: right;\">\n      <th></th>\n      <th>Dummy</th>\n      <th>size</th>\n      <th>optimal</th>\n      <th>non_optimal</th>\n      <th>optimal_count</th>\n      <th>non_optimal_count</th>\n    </tr>\n  </thead>\n  <tbody>\n    <tr>\n      <th>13</th>\n      <td>PROCESSING_ACPS_SAO PAULO</td>\n      <td>0.0106</td>\n      <td>1.0000</td>\n      <td>0.0000</td>\n      <td>117</td>\n      <td>0</td>\n    </tr>\n    <tr>\n      <th>7</th>\n      <td>PROCESSING_ACPS_BELO HORIZONTE</td>\n      <td>0.0200</td>\n      <td>0.8108</td>\n      <td>0.1892</td>\n      <td>180</td>\n      <td>42</td>\n    </tr>\n    <tr>\n      <th>50</th>\n      <td>PROCESSING_ACPS_RIO DE JANEIRO</td>\n      <td>0.0181</td>\n      <td>0.5473</td>\n      <td>0.4527</td>\n      <td>110</td>\n      <td>91</td>\n    </tr>\n    <tr>\n      <th>41</th>\n      <td>PROCESSING_ACPS_CURITIBA</td>\n      <td>0.0106</td>\n      <td>0.4786</td>\n      <td>0.5214</td>\n      <td>56</td>\n      <td>61</td>\n    </tr>\n    <tr>\n      <th>10</th>\n      <td>PROCESSING_ACPS_CAMPINAS</td>\n      <td>0.0200</td>\n      <td>0.3288</td>\n      <td>0.6712</td>\n      <td>73</td>\n      <td>149</td>\n    </tr>\n    <tr>\n      <th>...</th>\n      <td>...</td>\n      <td>...</td>\n      <td>...</td>\n      <td>...</td>\n      <td>...</td>\n      <td>...</td>\n    </tr>\n    <tr>\n      <th>9</th>\n      <td>PROCESSING_ACPS_PORTO ALEGRE</td>\n      <td>0.0200</td>\n      <td>0.0000</td>\n      <td>1.0000</td>\n      <td>0</td>\n      <td>222</td>\n    </tr>\n    <tr>\n      <th>32</th>\n      <td>PROCESSING_ACPS_NOVO HAMBURGO - SAO LEOPOLDO</td>\n      <td>0.0106</td>\n      <td>0.0000</td>\n      <td>1.0000</td>\n      <td>0</td>\n      <td>117</td>\n    </tr>\n    <tr>\n      <th>33</th>\n      <td>PROCESSING_ACPS_TERESINA</td>\n      <td>0.0106</td>\n      <td>0.0000</td>\n      <td>1.0000</td>\n      <td>0</td>\n      <td>117</td>\n    </tr>\n    <tr>\n      <th>34</th>\n      <td>PROCESSING_ACPS_MANAUS</td>\n      <td>0.0106</td>\n      <td>0.0000</td>\n      <td>1.0000</td>\n      <td>0</td>\n      <td>117</td>\n    </tr>\n    <tr>\n      <th>37</th>\n      <td>PROCESSING_ACPS_CAMPINA GRANDE</td>\n      <td>0.0106</td>\n      <td>0.0000</td>\n      <td>1.0000</td>\n      <td>0</td>\n      <td>117</td>\n    </tr>\n  </tbody>\n</table>\n<p>62 rows × 6 columns</p>\n</div>"
     },
     "execution_count": 8,
     "metadata": {},
     "output_type": "execute_result"
    }
   ],
   "source": [
    "current"
   ],
   "metadata": {
    "collapsed": false,
    "pycharm": {
     "name": "#%%\n"
    }
   }
  },
  {
   "cell_type": "code",
   "execution_count": 9,
   "outputs": [],
   "source": [
    "tree = pd.read_csv('../pre_processed_data/counting_Tree.csv', sep=';').round(decimals=4)\n",
    "tree #.replace({'Unnamed: 0': groups_cols.abm_dummies_show}, inplace=True)\n",
    "tree = tree.rename(columns={'Unnamed: 0' : 'Dummy'})\n",
    "tree.sort_values(ascending=False, by='optimal', inplace=True)"
   ],
   "metadata": {
    "collapsed": false,
    "pycharm": {
     "name": "#%%\n"
    }
   }
  },
  {
   "cell_type": "code",
   "execution_count": 10,
   "outputs": [
    {
     "data": {
      "text/plain": "                             Dummy    size  optimal  non_optimal  \\\n7   PROCESSING_ACPS_BELO HORIZONTE  0.0217   0.7706       0.2294   \n41        PROCESSING_ACPS_CURITIBA  0.0215   0.4699       0.5301   \n10        PROCESSING_ACPS_CAMPINAS  0.0218   0.4101       0.5899   \n2                    POLICIES_wage  0.2500   0.3292       0.6708   \n13       PROCESSING_ACPS_SAO PAULO  0.0219   0.3110       0.6890   \n..                             ...     ...      ...          ...   \n8        PROCESSING_ACPS_FORTALEZA  0.0217   0.1795       0.8205   \n3               POLICIES_no_policy  0.2493   0.1787       0.8213   \n9     PROCESSING_ACPS_PORTO ALEGRE  0.0220   0.1052       0.8948   \n0                     POLICIES_buy  0.2506   0.0362       0.9638   \n35        PROCESSING_ACPS_BRASILIA  0.0219   0.0000       1.0000   \n\n    optimal_count  non_optimal_count  \n7           16698               4970  \n41          10112              11407  \n10           8943              12866  \n2           82308             167707  \n13           6814              15098  \n..            ...                ...  \n8            3891              17786  \n3           44542             204781  \n9            2313              19664  \n0            9070             241522  \n35              0              21898  \n\n[62 rows x 6 columns]",
      "text/html": "<div>\n<style scoped>\n    .dataframe tbody tr th:only-of-type {\n        vertical-align: middle;\n    }\n\n    .dataframe tbody tr th {\n        vertical-align: top;\n    }\n\n    .dataframe thead th {\n        text-align: right;\n    }\n</style>\n<table border=\"1\" class=\"dataframe\">\n  <thead>\n    <tr style=\"text-align: right;\">\n      <th></th>\n      <th>Dummy</th>\n      <th>size</th>\n      <th>optimal</th>\n      <th>non_optimal</th>\n      <th>optimal_count</th>\n      <th>non_optimal_count</th>\n    </tr>\n  </thead>\n  <tbody>\n    <tr>\n      <th>7</th>\n      <td>PROCESSING_ACPS_BELO HORIZONTE</td>\n      <td>0.0217</td>\n      <td>0.7706</td>\n      <td>0.2294</td>\n      <td>16698</td>\n      <td>4970</td>\n    </tr>\n    <tr>\n      <th>41</th>\n      <td>PROCESSING_ACPS_CURITIBA</td>\n      <td>0.0215</td>\n      <td>0.4699</td>\n      <td>0.5301</td>\n      <td>10112</td>\n      <td>11407</td>\n    </tr>\n    <tr>\n      <th>10</th>\n      <td>PROCESSING_ACPS_CAMPINAS</td>\n      <td>0.0218</td>\n      <td>0.4101</td>\n      <td>0.5899</td>\n      <td>8943</td>\n      <td>12866</td>\n    </tr>\n    <tr>\n      <th>2</th>\n      <td>POLICIES_wage</td>\n      <td>0.2500</td>\n      <td>0.3292</td>\n      <td>0.6708</td>\n      <td>82308</td>\n      <td>167707</td>\n    </tr>\n    <tr>\n      <th>13</th>\n      <td>PROCESSING_ACPS_SAO PAULO</td>\n      <td>0.0219</td>\n      <td>0.3110</td>\n      <td>0.6890</td>\n      <td>6814</td>\n      <td>15098</td>\n    </tr>\n    <tr>\n      <th>...</th>\n      <td>...</td>\n      <td>...</td>\n      <td>...</td>\n      <td>...</td>\n      <td>...</td>\n      <td>...</td>\n    </tr>\n    <tr>\n      <th>8</th>\n      <td>PROCESSING_ACPS_FORTALEZA</td>\n      <td>0.0217</td>\n      <td>0.1795</td>\n      <td>0.8205</td>\n      <td>3891</td>\n      <td>17786</td>\n    </tr>\n    <tr>\n      <th>3</th>\n      <td>POLICIES_no_policy</td>\n      <td>0.2493</td>\n      <td>0.1787</td>\n      <td>0.8213</td>\n      <td>44542</td>\n      <td>204781</td>\n    </tr>\n    <tr>\n      <th>9</th>\n      <td>PROCESSING_ACPS_PORTO ALEGRE</td>\n      <td>0.0220</td>\n      <td>0.1052</td>\n      <td>0.8948</td>\n      <td>2313</td>\n      <td>19664</td>\n    </tr>\n    <tr>\n      <th>0</th>\n      <td>POLICIES_buy</td>\n      <td>0.2506</td>\n      <td>0.0362</td>\n      <td>0.9638</td>\n      <td>9070</td>\n      <td>241522</td>\n    </tr>\n    <tr>\n      <th>35</th>\n      <td>PROCESSING_ACPS_BRASILIA</td>\n      <td>0.0219</td>\n      <td>0.0000</td>\n      <td>1.0000</td>\n      <td>0</td>\n      <td>21898</td>\n    </tr>\n  </tbody>\n</table>\n<p>62 rows × 6 columns</p>\n</div>"
     },
     "execution_count": 10,
     "metadata": {},
     "output_type": "execute_result"
    }
   ],
   "source": [
    "tree"
   ],
   "metadata": {
    "collapsed": false,
    "pycharm": {
     "name": "#%%\n"
    }
   }
  },
  {
   "cell_type": "markdown",
   "source": [
    "## differences in non-acp\n"
   ],
   "metadata": {
    "collapsed": false,
    "pycharm": {
     "name": "#%% md\n"
    }
   }
  },
  {
   "cell_type": "code",
   "execution_count": 11,
   "outputs": [],
   "source": [
    "SON = pd.DataFrame()\n",
    "SON_acp = SON.copy()"
   ],
   "metadata": {
    "collapsed": false,
    "pycharm": {
     "name": "#%%\n"
    }
   }
  },
  {
   "cell_type": "code",
   "execution_count": 123,
   "outputs": [
    {
     "data": {
      "text/plain": "['POLICIES_buy',\n 'POLICIES_rent',\n 'POLICIES_wage',\n 'POLICIES_no_policy',\n 'T_LICENSES_PER_REGION_False',\n 'T_LICENSES_PER_REGION_True',\n 'T_LICENSES_PER_REGION_random',\n 'STARTING_DAY_2000-01-01',\n 'STARTING_DAY_2010-01-01',\n 'FPM_DISTRIBUTION_False',\n 'FPM_DISTRIBUTION_True',\n 'ALTERNATIVE0_False',\n 'ALTERNATIVE0_True',\n 'INTEREST_fixed',\n 'INTEREST_real',\n 'INTEREST_nominal',\n 'all']"
     },
     "execution_count": 123,
     "metadata": {},
     "output_type": "execute_result"
    }
   ],
   "source": [
    "dummies = list(groups_cols.abm_dummies_show.keys())\n",
    "dummies = [elem for elem in dummies if elem not in groups_cols.abm_dummies[\"acps\"]]\n",
    "dummies"
   ],
   "metadata": {
    "collapsed": false,
    "pycharm": {
     "name": "#%%\n"
    }
   }
  },
  {
   "cell_type": "code",
   "execution_count": 13,
   "outputs": [
    {
     "name": "stdout",
     "output_type": "stream",
     "text": [
      "{'Dummy': 'POLICIES_buy', 'Size: sur': 25.06, 'Size: ABM': 12.19, 'Opt: sur': 3.62, 'Opt: ABM': 2.59, 'Non-opt: sur': 96.38, 'Non-opt: ABM': 97.41}\n",
      "{'Dummy': 'POLICIES_rent', 'Size: sur': 25.009999999999998, 'Size: ABM': 12.19, 'Opt: sur': 31.03, 'Opt: ABM': 10.37, 'Non-opt: sur': 68.97, 'Non-opt: ABM': 89.63}\n",
      "{'Dummy': 'POLICIES_wage', 'Size: sur': 25.0, 'Size: ABM': 12.19, 'Opt: sur': 32.92, 'Opt: ABM': 13.930000000000001, 'Non-opt: sur': 67.08, 'Non-opt: ABM': 86.07000000000001}\n",
      "{'Dummy': 'POLICIES_no_policy', 'Size: sur': 24.93, 'Size: ABM': 63.43, 'Opt: sur': 17.87, 'Opt: ABM': 3.91, 'Non-opt: sur': 82.13000000000001, 'Non-opt: ABM': 96.09}\n",
      "{'Dummy': 'PROCESSING_ACPS_BELO HORIZONTE', 'Size: sur': 2.17, 'Size: ABM': 2.0, 'Opt: sur': 77.06, 'Opt: ABM': 81.08, 'Non-opt: sur': 22.939999999999998, 'Non-opt: ABM': 18.92}\n",
      "{'Dummy': 'PROCESSING_ACPS_FORTALEZA', 'Size: sur': 2.17, 'Size: ABM': 2.0, 'Opt: sur': 17.95, 'Opt: ABM': 3.15, 'Non-opt: sur': 82.05, 'Non-opt: ABM': 96.85000000000001}\n",
      "{'Dummy': 'PROCESSING_ACPS_PORTO ALEGRE', 'Size: sur': 2.1999999999999997, 'Size: ABM': 2.0, 'Opt: sur': 10.52, 'Opt: ABM': 0.0, 'Non-opt: sur': 89.48, 'Non-opt: ABM': 100.0}\n",
      "{'Dummy': 'PROCESSING_ACPS_CAMPINAS', 'Size: sur': 2.18, 'Size: ABM': 2.0, 'Opt: sur': 41.010000000000005, 'Opt: ABM': 32.879999999999995, 'Non-opt: sur': 58.989999999999995, 'Non-opt: ABM': 67.12}\n",
      "{'Dummy': 'PROCESSING_ACPS_SALVADOR', 'Size: sur': 2.17, 'Size: ABM': 1.06, 'Opt: sur': 18.27, 'Opt: ABM': 11.110000000000001, 'Non-opt: sur': 81.73, 'Non-opt: ABM': 88.89}\n",
      "{'Dummy': 'PROCESSING_ACPS_RECIFE', 'Size: sur': 2.17, 'Size: ABM': 1.06, 'Opt: sur': 18.92, 'Opt: ABM': 0.0, 'Non-opt: sur': 81.08, 'Non-opt: ABM': 100.0}\n",
      "{'Dummy': 'PROCESSING_ACPS_SAO PAULO', 'Size: sur': 2.19, 'Size: ABM': 1.06, 'Opt: sur': 31.1, 'Opt: ABM': 100.0, 'Non-opt: sur': 68.89999999999999, 'Non-opt: ABM': 0.0}\n",
      "{'Dummy': 'PROCESSING_ACPS_JOINVILLE', 'Size: sur': 2.16, 'Size: ABM': 0.3, 'Opt: sur': 19.99, 'Opt: ABM': 0.0, 'Non-opt: sur': 80.01, 'Non-opt: ABM': 100.0}\n",
      "{'Dummy': 'PROCESSING_ACPS_CAMPO GRANDE', 'Size: sur': 2.15, 'Size: ABM': 1.06, 'Opt: sur': 19.54, 'Opt: ABM': 0.0, 'Non-opt: sur': 80.46, 'Non-opt: ABM': 100.0}\n",
      "{'Dummy': 'PROCESSING_ACPS_JUNDIAI', 'Size: sur': 2.18, 'Size: ABM': 1.06, 'Opt: sur': 18.8, 'Opt: ABM': 0.0, 'Non-opt: sur': 81.2, 'Non-opt: ABM': 100.0}\n",
      "{'Dummy': 'PROCESSING_ACPS_FEIRA DE SANTANA', 'Size: sur': 2.16, 'Size: ABM': 1.06, 'Opt: sur': 18.89, 'Opt: ABM': 0.0, 'Non-opt: sur': 81.11, 'Non-opt: ABM': 100.0}\n",
      "{'Dummy': 'PROCESSING_ACPS_IPATINGA', 'Size: sur': 2.17, 'Size: ABM': 1.06, 'Opt: sur': 19.25, 'Opt: ABM': 0.0, 'Non-opt: sur': 80.75, 'Non-opt: ABM': 100.0}\n",
      "{'Dummy': 'PROCESSING_ACPS_LONDRINA', 'Size: sur': 2.18, 'Size: ABM': 1.06, 'Opt: sur': 19.24, 'Opt: ABM': 0.0, 'Non-opt: sur': 80.76, 'Non-opt: ABM': 100.0}\n",
      "{'Dummy': 'PROCESSING_ACPS_SOROCABA', 'Size: sur': 2.17, 'Size: ABM': 1.06, 'Opt: sur': 19.259999999999998, 'Opt: ABM': 0.0, 'Non-opt: sur': 80.74, 'Non-opt: ABM': 100.0}\n",
      "{'Dummy': 'PROCESSING_ACPS_JOAO PESSOA', 'Size: sur': 2.18, 'Size: ABM': 1.06, 'Opt: sur': 19.52, 'Opt: ABM': 0.0, 'Non-opt: sur': 80.47999999999999, 'Non-opt: ABM': 100.0}\n",
      "{'Dummy': 'PROCESSING_ACPS_SAO JOSE DO RIO PRETO', 'Size: sur': 2.17, 'Size: ABM': 1.06, 'Opt: sur': 17.97, 'Opt: ABM': 0.0, 'Non-opt: sur': 82.03, 'Non-opt: ABM': 100.0}\n",
      "{'Dummy': 'PROCESSING_ACPS_MACEIO', 'Size: sur': 2.16, 'Size: ABM': 1.06, 'Opt: sur': 19.66, 'Opt: ABM': 0.0, 'Non-opt: sur': 80.34, 'Non-opt: ABM': 100.0}\n",
      "{'Dummy': 'PROCESSING_ACPS_SAO JOSE DOS CAMPOS', 'Size: sur': 2.18, 'Size: ABM': 1.06, 'Opt: sur': 18.95, 'Opt: ABM': 0.0, 'Non-opt: sur': 81.05, 'Non-opt: ABM': 100.0}\n",
      "{'Dummy': 'PROCESSING_ACPS_ILHEUS - ITABUNA', 'Size: sur': 2.18, 'Size: ABM': 1.06, 'Opt: sur': 19.2, 'Opt: ABM': 0.0, 'Non-opt: sur': 80.80000000000001, 'Non-opt: ABM': 100.0}\n",
      "{'Dummy': 'PROCESSING_ACPS_SAO LUIS', 'Size: sur': 2.17, 'Size: ABM': 1.06, 'Opt: sur': 18.529999999999998, 'Opt: ABM': 0.0, 'Non-opt: sur': 81.47, 'Non-opt: ABM': 100.0}\n",
      "{'Dummy': 'PROCESSING_ACPS_UBERLANDIA', 'Size: sur': 2.18, 'Size: ABM': 1.06, 'Opt: sur': 19.43, 'Opt: ABM': 0.0, 'Non-opt: sur': 80.57, 'Non-opt: ABM': 100.0}\n",
      "{'Dummy': 'PROCESSING_ACPS_MARINGA', 'Size: sur': 2.16, 'Size: ABM': 1.06, 'Opt: sur': 19.900000000000002, 'Opt: ABM': 0.0, 'Non-opt: sur': 80.10000000000001, 'Non-opt: ABM': 100.0}\n",
      "{'Dummy': 'PROCESSING_ACPS_VITORIA', 'Size: sur': 2.1999999999999997, 'Size: ABM': 1.06, 'Opt: sur': 19.2, 'Opt: ABM': 0.0, 'Non-opt: sur': 80.80000000000001, 'Non-opt: ABM': 100.0}\n",
      "{'Dummy': 'PROCESSING_ACPS_CUIABA', 'Size: sur': 2.16, 'Size: ABM': 1.06, 'Opt: sur': 19.1, 'Opt: ABM': 0.0, 'Non-opt: sur': 80.9, 'Non-opt: ABM': 100.0}\n",
      "{'Dummy': 'PROCESSING_ACPS_BELEM', 'Size: sur': 2.18, 'Size: ABM': 1.06, 'Opt: sur': 26.490000000000002, 'Opt: ABM': 21.37, 'Non-opt: sur': 73.50999999999999, 'Non-opt: ABM': 78.63}\n",
      "{'Dummy': 'PROCESSING_ACPS_NOVO HAMBURGO - SAO LEOPOLDO', 'Size: sur': 2.16, 'Size: ABM': 1.06, 'Opt: sur': 18.98, 'Opt: ABM': 0.0, 'Non-opt: sur': 81.02000000000001, 'Non-opt: ABM': 100.0}\n",
      "{'Dummy': 'PROCESSING_ACPS_TERESINA', 'Size: sur': 2.19, 'Size: ABM': 1.06, 'Opt: sur': 18.81, 'Opt: ABM': 0.0, 'Non-opt: sur': 81.19, 'Non-opt: ABM': 100.0}\n",
      "{'Dummy': 'PROCESSING_ACPS_MANAUS', 'Size: sur': 2.17, 'Size: ABM': 1.06, 'Opt: sur': 19.42, 'Opt: ABM': 0.0, 'Non-opt: sur': 80.58, 'Non-opt: ABM': 100.0}\n",
      "{'Dummy': 'PROCESSING_ACPS_BRASILIA', 'Size: sur': 2.19, 'Size: ABM': 48.67, 'Opt: sur': 0.0, 'Opt: ABM': 1.06, 'Non-opt: sur': 100.0, 'Non-opt: ABM': 98.94}\n",
      "{'Dummy': 'T_LICENSES_PER_REGION_False', 'Size: sur': 33.43, 'Size: ABM': 0.19, 'Opt: sur': 21.36, 'Opt: ABM': 0.0, 'Non-opt: sur': 78.64, 'Non-opt: ABM': 100.0}\n",
      "{'Dummy': 'T_LICENSES_PER_REGION_True', 'Size: sur': 33.23, 'Size: ABM': 0.19, 'Opt: sur': 21.38, 'Opt: ABM': 0.0, 'Non-opt: sur': 78.62, 'Non-opt: ABM': 100.0}\n",
      "{'Dummy': 'T_LICENSES_PER_REGION_random', 'Size: sur': 33.339999999999996, 'Size: ABM': 99.62, 'Opt: sur': 21.32, 'Opt: ABM': 5.779999999999999, 'Non-opt: sur': 78.68, 'Non-opt: ABM': 94.22}\n",
      "{'Dummy': 'STARTING_DAY_2000-01-01', 'Size: sur': 49.99, 'Size: ABM': 0.76, 'Opt: sur': 21.26, 'Opt: ABM': 0.0, 'Non-opt: sur': 78.74, 'Non-opt: ABM': 100.0}\n",
      "{'Dummy': 'STARTING_DAY_2010-01-01', 'Size: sur': 50.01, 'Size: ABM': 99.24, 'Opt: sur': 21.45, 'Opt: ABM': 5.800000000000001, 'Non-opt: sur': 78.55, 'Non-opt: ABM': 94.19999999999999}\n",
      "{'Dummy': 'FPM_DISTRIBUTION_False', 'Size: sur': 49.97, 'Size: ABM': 0.38, 'Opt: sur': 21.310000000000002, 'Opt: ABM': 0.0, 'Non-opt: sur': 78.69, 'Non-opt: ABM': 100.0}\n",
      "{'Dummy': 'FPM_DISTRIBUTION_True', 'Size: sur': 50.029999999999994, 'Size: ABM': 99.62, 'Opt: sur': 21.4, 'Opt: ABM': 5.779999999999999, 'Non-opt: sur': 78.60000000000001, 'Non-opt: ABM': 94.22}\n",
      "{'Dummy': 'ALTERNATIVE0_False', 'Size: sur': 49.919999999999995, 'Size: ABM': 0.38, 'Opt: sur': 21.29, 'Opt: ABM': 0.0, 'Non-opt: sur': 78.71000000000001, 'Non-opt: ABM': 100.0}\n",
      "{'Dummy': 'ALTERNATIVE0_True', 'Size: sur': 50.080000000000005, 'Size: ABM': 99.62, 'Opt: sur': 21.42, 'Opt: ABM': 5.779999999999999, 'Non-opt: sur': 78.58000000000001, 'Non-opt: ABM': 94.22}\n",
      "{'Dummy': 'INTEREST_fixed', 'Size: sur': 33.35, 'Size: ABM': 0.19, 'Opt: sur': 21.37, 'Opt: ABM': 0.0, 'Non-opt: sur': 78.63, 'Non-opt: ABM': 100.0}\n",
      "{'Dummy': 'INTEREST_real', 'Size: sur': 33.33, 'Size: ABM': 99.62, 'Opt: sur': 21.37, 'Opt: ABM': 5.779999999999999, 'Non-opt: sur': 78.63, 'Non-opt: ABM': 94.22}\n",
      "{'Dummy': 'INTEREST_nominal', 'Size: sur': 33.32, 'Size: ABM': 0.19, 'Opt: sur': 21.32, 'Opt: ABM': 0.0, 'Non-opt: sur': 78.68, 'Non-opt: ABM': 100.0}\n",
      "{'Dummy': 'PROCESSING_ACPS_ARACAJU', 'Size: sur': 2.21, 'Size: ABM': 1.06, 'Opt: sur': 18.16, 'Opt: ABM': 0.0, 'Non-opt: sur': 81.84, 'Non-opt: ABM': 100.0}\n",
      "{'Dummy': 'PROCESSING_ACPS_CAMPINA GRANDE', 'Size: sur': 2.16, 'Size: ABM': 1.06, 'Opt: sur': 19.29, 'Opt: ABM': 0.0, 'Non-opt: sur': 80.71000000000001, 'Non-opt: ABM': 100.0}\n",
      "{'Dummy': 'PROCESSING_ACPS_CAMPOS DOS GOYTACAZES', 'Size: sur': 2.17, 'Size: ABM': 1.06, 'Opt: sur': 18.41, 'Opt: ABM': 0.0, 'Non-opt: sur': 81.58999999999999, 'Non-opt: ABM': 100.0}\n",
      "{'Dummy': 'PROCESSING_ACPS_CAXIAS DO SUL', 'Size: sur': 2.18, 'Size: ABM': 1.06, 'Opt: sur': 18.94, 'Opt: ABM': 0.0, 'Non-opt: sur': 81.06, 'Non-opt: ABM': 100.0}\n",
      "{'Dummy': 'PROCESSING_ACPS_CRAJUBAR', 'Size: sur': 2.18, 'Size: ABM': 1.06, 'Opt: sur': 19.07, 'Opt: ABM': 0.0, 'Non-opt: sur': 80.93, 'Non-opt: ABM': 100.0}\n",
      "{'Dummy': 'PROCESSING_ACPS_CURITIBA', 'Size: sur': 2.15, 'Size: ABM': 1.06, 'Opt: sur': 46.989999999999995, 'Opt: ABM': 47.86, 'Non-opt: sur': 53.010000000000005, 'Non-opt: ABM': 52.14}\n",
      "{'Dummy': 'PROCESSING_ACPS_FLORIANOPOLIS', 'Size: sur': 2.18, 'Size: ABM': 1.06, 'Opt: sur': 19.18, 'Opt: ABM': 0.0, 'Non-opt: sur': 80.82000000000001, 'Non-opt: ABM': 100.0}\n",
      "{'Dummy': 'PROCESSING_ACPS_GOIANIA', 'Size: sur': 2.16, 'Size: ABM': 1.06, 'Opt: sur': 18.759999999999998, 'Opt: ABM': 0.0, 'Non-opt: sur': 81.24, 'Non-opt: ABM': 100.0}\n",
      "{'Dummy': 'PROCESSING_ACPS_JUIZ DE FORA', 'Size: sur': 2.16, 'Size: ABM': 1.06, 'Opt: sur': 18.78, 'Opt: ABM': 0.0, 'Non-opt: sur': 81.22, 'Non-opt: ABM': 100.0}\n",
      "{'Dummy': 'PROCESSING_ACPS_MACAPA', 'Size: sur': 2.18, 'Size: ABM': 1.06, 'Opt: sur': 18.82, 'Opt: ABM': 0.0, 'Non-opt: sur': 81.17999999999999, 'Non-opt: ABM': 100.0}\n",
      "{'Dummy': 'PROCESSING_ACPS_NATAL', 'Size: sur': 2.19, 'Size: ABM': 1.06, 'Opt: sur': 18.54, 'Opt: ABM': 0.0, 'Non-opt: sur': 81.46, 'Non-opt: ABM': 100.0}\n",
      "{'Dummy': 'PROCESSING_ACPS_PELOTAS - RIO GRANDE', 'Size: sur': 2.16, 'Size: ABM': 1.06, 'Opt: sur': 19.81, 'Opt: ABM': 0.0, 'Non-opt: sur': 80.19, 'Non-opt: ABM': 100.0}\n",
      "{'Dummy': 'PROCESSING_ACPS_PETROLINA - JUAZEIRO', 'Size: sur': 2.18, 'Size: ABM': 1.06, 'Opt: sur': 19.21, 'Opt: ABM': 0.0, 'Non-opt: sur': 80.78999999999999, 'Non-opt: ABM': 100.0}\n",
      "{'Dummy': 'PROCESSING_ACPS_RIBEIRAO PRETO', 'Size: sur': 2.16, 'Size: ABM': 1.06, 'Opt: sur': 18.73, 'Opt: ABM': 0.0, 'Non-opt: sur': 81.27, 'Non-opt: ABM': 100.0}\n",
      "{'Dummy': 'PROCESSING_ACPS_RIO DE JANEIRO', 'Size: sur': 2.19, 'Size: ABM': 1.81, 'Opt: sur': 27.950000000000003, 'Opt: ABM': 54.730000000000004, 'Non-opt: sur': 72.05, 'Non-opt: ABM': 45.269999999999996}\n",
      "{'Dummy': 'PROCESSING_ACPS_SANTOS', 'Size: sur': 2.17, 'Size: ABM': 1.06, 'Opt: sur': 18.01, 'Opt: ABM': 0.0, 'Non-opt: sur': 81.99, 'Non-opt: ABM': 100.0}\n",
      "{'Dummy': 'PROCESSING_ACPS_VOLTA REDONDA - BARRA MANSA', 'Size: sur': 2.16, 'Size: ABM': 1.06, 'Opt: sur': 19.07, 'Opt: ABM': 0.0, 'Non-opt: sur': 80.93, 'Non-opt: ABM': 100.0}\n"
     ]
    },
    {
     "ename": "IndexError",
     "evalue": "index 0 is out of bounds for axis 0 with size 0",
     "output_type": "error",
     "traceback": [
      "\u001B[1;31m---------------------------------------------------------------------------\u001B[0m",
      "\u001B[1;31mIndexError\u001B[0m                                Traceback (most recent call last)",
      "\u001B[1;32m<ipython-input-13-b2da74ac18d5>\u001B[0m in \u001B[0;36m<module>\u001B[1;34m\u001B[0m\n\u001B[0;32m      1\u001B[0m \u001B[1;32mfor\u001B[0m \u001B[0mkey\u001B[0m \u001B[1;32min\u001B[0m \u001B[0mlist\u001B[0m\u001B[1;33m(\u001B[0m\u001B[0mgroups_cols\u001B[0m\u001B[1;33m.\u001B[0m\u001B[0mabm_dummies_show\u001B[0m\u001B[1;33m.\u001B[0m\u001B[0mkeys\u001B[0m\u001B[1;33m(\u001B[0m\u001B[1;33m)\u001B[0m\u001B[1;33m)\u001B[0m\u001B[1;33m:\u001B[0m\u001B[1;33m\u001B[0m\u001B[1;33m\u001B[0m\u001B[0m\n\u001B[0;32m      2\u001B[0m     to_add = {'Dummy' : key,\n\u001B[1;32m----> 3\u001B[1;33m               \u001B[1;34m'Size: sur'\u001B[0m\u001B[1;33m:\u001B[0m \u001B[0mtree\u001B[0m\u001B[1;33m.\u001B[0m\u001B[0mloc\u001B[0m\u001B[1;33m[\u001B[0m\u001B[1;33m(\u001B[0m\u001B[0mtree\u001B[0m\u001B[1;33m[\u001B[0m\u001B[1;34m'Dummy'\u001B[0m\u001B[1;33m]\u001B[0m \u001B[1;33m==\u001B[0m \u001B[0mkey\u001B[0m\u001B[1;33m)\u001B[0m\u001B[1;33m]\u001B[0m\u001B[1;33m[\u001B[0m\u001B[1;34m'size'\u001B[0m\u001B[1;33m]\u001B[0m\u001B[1;33m.\u001B[0m\u001B[0mvalues\u001B[0m\u001B[1;33m[\u001B[0m\u001B[1;36m0\u001B[0m\u001B[1;33m]\u001B[0m\u001B[1;33m*\u001B[0m\u001B[1;36m100\u001B[0m\u001B[1;33m,\u001B[0m\u001B[1;33m\u001B[0m\u001B[1;33m\u001B[0m\u001B[0m\n\u001B[0m\u001B[0;32m      4\u001B[0m               \u001B[1;34m'Size: ABM'\u001B[0m\u001B[1;33m:\u001B[0m \u001B[0mcurrent\u001B[0m\u001B[1;33m.\u001B[0m\u001B[0mloc\u001B[0m\u001B[1;33m[\u001B[0m\u001B[1;33m(\u001B[0m\u001B[0mtree\u001B[0m\u001B[1;33m[\u001B[0m\u001B[1;34m'Dummy'\u001B[0m\u001B[1;33m]\u001B[0m \u001B[1;33m==\u001B[0m \u001B[0mkey\u001B[0m\u001B[1;33m)\u001B[0m\u001B[1;33m]\u001B[0m\u001B[1;33m[\u001B[0m\u001B[1;34m'size'\u001B[0m\u001B[1;33m]\u001B[0m\u001B[1;33m.\u001B[0m\u001B[0mvalues\u001B[0m\u001B[1;33m[\u001B[0m\u001B[1;36m0\u001B[0m\u001B[1;33m]\u001B[0m\u001B[1;33m*\u001B[0m\u001B[1;36m100\u001B[0m\u001B[1;33m,\u001B[0m\u001B[1;33m\u001B[0m\u001B[1;33m\u001B[0m\u001B[0m\n\u001B[0;32m      5\u001B[0m               \u001B[1;34m'Opt: sur'\u001B[0m\u001B[1;33m:\u001B[0m \u001B[0mtree\u001B[0m\u001B[1;33m.\u001B[0m\u001B[0mloc\u001B[0m\u001B[1;33m[\u001B[0m\u001B[1;33m(\u001B[0m\u001B[0mtree\u001B[0m\u001B[1;33m[\u001B[0m\u001B[1;34m'Dummy'\u001B[0m\u001B[1;33m]\u001B[0m \u001B[1;33m==\u001B[0m \u001B[0mkey\u001B[0m\u001B[1;33m)\u001B[0m\u001B[1;33m]\u001B[0m\u001B[1;33m[\u001B[0m\u001B[1;34m'optimal'\u001B[0m\u001B[1;33m]\u001B[0m\u001B[1;33m.\u001B[0m\u001B[0mvalues\u001B[0m\u001B[1;33m[\u001B[0m\u001B[1;36m0\u001B[0m\u001B[1;33m]\u001B[0m\u001B[1;33m*\u001B[0m\u001B[1;36m100\u001B[0m\u001B[1;33m,\u001B[0m\u001B[1;33m\u001B[0m\u001B[1;33m\u001B[0m\u001B[0m\n",
      "\u001B[1;31mIndexError\u001B[0m: index 0 is out of bounds for axis 0 with size 0"
     ]
    }
   ],
   "source": [
    "for key in list(groups_cols.abm_dummies_show.keys()):\n",
    "    to_add = {'Dummy' : key,\n",
    "              'Size: sur': tree.loc[(tree['Dummy'] == key)]['size'].values[0]*100,\n",
    "              'Size: ABM': current.loc[(tree['Dummy'] == key)]['size'].values[0]*100,\n",
    "              'Opt: sur': tree.loc[(tree['Dummy'] == key)]['optimal'].values[0]*100,\n",
    "              'Opt: ABM': current.loc[(tree['Dummy'] == key)]['optimal'].values[0]*100,\n",
    "              'Non-opt: sur': tree.loc[(tree['Dummy'] == key)]['non_optimal'].values[0]*100,\n",
    "              'Non-opt: ABM': current.loc[(tree['Dummy'] == key)]['non_optimal'].values[0]*100\n",
    "    }\n",
    "    print(to_add)\n",
    "\n",
    "    if key in groups_cols.abm_dummies[\"acps\"]:\n",
    "        SON_acp = SON_acp.append(to_add, ignore_index=True)\n",
    "    else:\n",
    "        SON = SON.append(to_add, ignore_index=True)\n",
    "\n",
    "SON = SON.replace(groups_cols.abm_dummies_show)\n",
    "SON_acp = SON_acp.replace(groups_cols.abm_dummies_show)"
   ],
   "metadata": {
    "collapsed": false,
    "pycharm": {
     "name": "#%%\n"
    }
   }
  },
  {
   "cell_type": "code",
   "execution_count": null,
   "outputs": [],
   "source": [
    "SON"
   ],
   "metadata": {
    "collapsed": false,
    "pycharm": {
     "name": "#%%\n"
    }
   }
  },
  {
   "cell_type": "code",
   "execution_count": null,
   "outputs": [],
   "source": [
    "SON.sort_values(by='Dummy', inplace=True)\n",
    "SON_acp.sort_values(by='Dummy', inplace=True)"
   ],
   "metadata": {
    "collapsed": false,
    "pycharm": {
     "name": "#%%\n"
    }
   }
  },
  {
   "cell_type": "code",
   "execution_count": null,
   "outputs": [],
   "source": [
    "SON"
   ],
   "metadata": {
    "collapsed": false,
    "pycharm": {
     "name": "#%%\n"
    }
   }
  },
  {
   "cell_type": "code",
   "execution_count": null,
   "outputs": [],
   "source": [
    "SON_acp"
   ],
   "metadata": {
    "collapsed": false,
    "pycharm": {
     "name": "#%%\n"
    }
   }
  },
  {
   "cell_type": "markdown",
   "source": [
    "# Comparison of parameters"
   ],
   "metadata": {
    "collapsed": false
   }
  },
  {
   "cell_type": "code",
   "execution_count": null,
   "outputs": [],
   "source": [
    "comp = pd.read_csv('../pre_processed_data/parameters_comparison.csv', sep=';').round(decimals=4)\n",
    "comp"
   ],
   "metadata": {
    "collapsed": false,
    "pycharm": {
     "name": "#%%\n"
    }
   }
  },
  {
   "cell_type": "code",
   "execution_count": null,
   "outputs": [],
   "source": [
    "params = pd.DataFrame()\n",
    "for row in range(0,len(comp['Unnamed: 0'])):\n",
    "    to_add = {'Parameter' : comp.iloc[row, 0],\n",
    "              'Surrogate': comp.iloc[row, 1]*100,\n",
    "              'ABM': comp.iloc[row, 2]*100,\n",
    "              'Difference (p.p.)': comp.iloc[row, 2]*100 - comp.iloc[row, 1]*100\n",
    "    }\n",
    "    print(to_add)\n",
    "    params = params.append(to_add, ignore_index=True)"
   ],
   "metadata": {
    "collapsed": false,
    "pycharm": {
     "name": "#%%\n"
    }
   }
  },
  {
   "cell_type": "code",
   "execution_count": null,
   "outputs": [],
   "source": [
    "params.replace({'Parameter': groups_cols.abm_params_show}, inplace=True)\n",
    "params.sort_values(by='Parameter', inplace=True)\n",
    "params"
   ],
   "metadata": {
    "collapsed": false,
    "pycharm": {
     "name": "#%%\n"
    }
   }
  },
  {
   "cell_type": "code",
   "execution_count": null,
   "outputs": [],
   "source": [
    "tables.update({'mean_policy_acp': mean_policy_acp,\n",
    "               'std_policy_acp': std_policy_acp,\n",
    "               \"SON\" : SON,\n",
    "               \"SON_acp\" : SON_acp,\n",
    "               \"params\" : params})"
   ],
   "metadata": {
    "collapsed": false,
    "pycharm": {
     "name": "#%%\n"
    }
   }
  },
  {
   "cell_type": "code",
   "execution_count": null,
   "outputs": [],
   "source": [
    "tables"
   ],
   "metadata": {
    "collapsed": false,
    "pycharm": {
     "name": "#%%\n"
    }
   }
  },
  {
   "cell_type": "code",
   "execution_count": null,
   "outputs": [],
   "source": [
    "for key in tables:\n",
    "    table = tables[key]\n",
    "    print(table.to_latex(index=False))\n",
    "    name = 'table_csvs/' + key + '.csv'\n",
    "    table.to_csv(name, index=False, sep=';')"
   ],
   "metadata": {
    "collapsed": false,
    "pycharm": {
     "name": "#%%\n"
    }
   }
  },
  {
   "cell_type": "markdown",
   "source": [
    "# Creating the histogram for the mean and standard deviations per MR"
   ],
   "metadata": {
    "collapsed": false
   }
  },
  {
   "cell_type": "code",
   "execution_count": null,
   "outputs": [],
   "source": [
    "mean_policy_acp"
   ],
   "metadata": {
    "collapsed": false,
    "pycharm": {
     "name": "#%%\n"
    }
   }
  },
  {
   "cell_type": "code",
   "execution_count": 14,
   "outputs": [],
   "source": [
    "hist_mean = mean_policy_acp.copy()\n",
    "hist_std = std_policy_acp.copy()\n",
    "\n",
    "for col in ['Policy: buy', 'Policy: rent', 'Policy: wage']:\n",
    "    hist_mean[col] = mean_policy_acp.loc[:,['Policy: none',col]].sum(axis=1)\n",
    "    hist_std[col] = std_policy_acp.loc[:,['Policy: none',col]].sum(axis=1)"
   ],
   "metadata": {
    "collapsed": false,
    "pycharm": {
     "name": "#%%\n"
    }
   }
  },
  {
   "cell_type": "code",
   "execution_count": null,
   "outputs": [],
   "source": [
    "hist_mean"
   ],
   "metadata": {
    "collapsed": false,
    "pycharm": {
     "name": "#%%\n"
    }
   }
  },
  {
   "cell_type": "code",
   "execution_count": 15,
   "outputs": [],
   "source": [
    "hist_std.sort_values(by='MR', inplace=True)\n",
    "hist_mean.sort_values(by='MR', inplace=True)"
   ],
   "metadata": {
    "collapsed": false,
    "pycharm": {
     "name": "#%%\n"
    }
   }
  },
  {
   "cell_type": "code",
   "execution_count": null,
   "outputs": [],
   "source": [
    "hist_mean"
   ],
   "metadata": {
    "collapsed": false,
    "pycharm": {
     "name": "#%%\n"
    }
   }
  },
  {
   "cell_type": "code",
   "execution_count": null,
   "outputs": [],
   "source": [
    "hist_std"
   ],
   "metadata": {
    "collapsed": false,
    "pycharm": {
     "name": "#%%\n"
    }
   }
  },
  {
   "cell_type": "code",
   "execution_count": 16,
   "outputs": [
    {
     "name": "stdout",
     "output_type": "stream",
     "text": [
      "{'MR': 'All', 'max': 56.18000000000001, 'value': 17.87, 'min': 0}\n",
      "{'MR': 'All', 'max': 22.300000000000004, 'value': 3.620000000000001, 'min': 0}\n",
      "{'MR': 'All', 'max': 77.29, 'value': 31.03, 'min': 0}\n",
      "{'MR': 'All', 'max': 79.91, 'value': 32.92, 'min': 0}\n",
      "{'MR': 'Aracaju', 'max': 52.41, 'value': 15.87, 'min': 0}\n",
      "{'MR': 'Aracaju', 'max': 15.569999999999997, 'value': 1.8999999999999986, 'min': 0}\n",
      "{'MR': 'Aracaju', 'max': 72.6, 'value': 27.799999999999997, 'min': 0}\n",
      "{'MR': 'Aracaju', 'max': 72.30000000000001, 'value': 27.6, 'min': 0}\n",
      "{'MR': 'Belo Horizonte', 'max': 100, 'value': 100.0, 'min': 100.0}\n",
      "{'MR': 'Belo Horizonte', 'max': 38.63, 'value': 9.420000000000002, 'min': 0}\n",
      "{'MR': 'Belo Horizonte', 'max': 100, 'value': 100.0, 'min': 100.0}\n",
      "{'MR': 'Belo Horizonte', 'max': 100, 'value': 100.0, 'min': 100.0}\n",
      "{'MR': 'Belém', 'max': 35.120000000000005, 'value': 8.0, 'min': 0}\n",
      "{'MR': 'Belém', 'max': 0.0, 'value': 0.0, 'min': 0}\n",
      "{'MR': 'Belém', 'max': 71.58, 'value': 27.12, 'min': 0}\n",
      "{'MR': 'Belém', 'max': 100, 'value': 69.69, 'min': 23.729999999999997}\n",
      "{'MR': 'Brasília', 'max': 0.0, 'value': 0.0, 'min': 0}\n",
      "{'MR': 'Brasília', 'max': 0.0, 'value': 0.0, 'min': 0}\n",
      "{'MR': 'Brasília', 'max': 0.0, 'value': 0.0, 'min': 0}\n",
      "{'MR': 'Brasília', 'max': 0.0, 'value': 0.0, 'min': 0}\n",
      "{'MR': 'Campina Grande', 'max': 54.49, 'value': 16.96, 'min': 0}\n",
      "{'MR': 'Campina Grande', 'max': 17.01, 'value': 2.2300000000000004, 'min': 0}\n",
      "{'MR': 'Campina Grande', 'max': 75.65, 'value': 29.880000000000003, 'min': 0}\n",
      "{'MR': 'Campina Grande', 'max': 73.06, 'value': 28.11, 'min': 0}\n",
      "{'MR': 'Campinas', 'max': 10.57, 'value': 0.94, 'min': 0}\n",
      "{'MR': 'Campinas', 'max': 0.0, 'value': 0.0, 'min': 0}\n",
      "{'MR': 'Campinas', 'max': 100, 'value': 64.5, 'min': 16.65}\n",
      "{'MR': 'Campinas', 'max': 100, 'value': 98.47, 'min': 86.2}\n",
      "{'MR': 'Campo Grande', 'max': 57.56999999999999, 'value': 18.63, 'min': 0}\n",
      "{'MR': 'Campo Grande', 'max': 22.249999999999996, 'value': 3.6099999999999994, 'min': 0}\n",
      "{'MR': 'Campo Grande', 'max': 73.85999999999999, 'value': 28.65, 'min': 0}\n",
      "{'MR': 'Campo Grande', 'max': 72.21000000000001, 'value': 27.54, 'min': 0}\n",
      "{'MR': 'Campos', 'max': 52.33, 'value': 15.83, 'min': 0}\n",
      "{'MR': 'Campos', 'max': 16.32, 'value': 2.0700000000000003, 'min': 0}\n",
      "{'MR': 'Campos', 'max': 74.21000000000001, 'value': 28.89, 'min': 0}\n",
      "{'MR': 'Campos', 'max': 72.24000000000001, 'value': 27.560000000000002, 'min': 0}\n",
      "{'MR': 'Caxias do Sul', 'max': 52.1, 'value': 15.71, 'min': 0}\n",
      "{'MR': 'Caxias do Sul', 'max': 18.72, 'value': 2.6500000000000004, 'min': 0}\n",
      "{'MR': 'Caxias do Sul', 'max': 74.62, 'value': 29.17, 'min': 0}\n",
      "{'MR': 'Caxias do Sul', 'max': 72.30000000000001, 'value': 27.6, 'min': 0}\n",
      "{'MR': 'Crato', 'max': 56.27, 'value': 17.92, 'min': 0}\n",
      "{'MR': 'Crato', 'max': 18.000000000000004, 'value': 2.4700000000000024, 'min': 0}\n",
      "{'MR': 'Crato', 'max': 72.5, 'value': 27.730000000000004, 'min': 0}\n",
      "{'MR': 'Crato', 'max': 73.60000000000001, 'value': 28.470000000000002, 'min': 0}\n",
      "{'MR': 'Cuiabá', 'max': 55.67, 'value': 17.59, 'min': 0}\n",
      "{'MR': 'Cuiabá', 'max': 18.83, 'value': 2.6799999999999997, 'min': 0}\n",
      "{'MR': 'Cuiabá', 'max': 73.33, 'value': 28.29, 'min': 0}\n",
      "{'MR': 'Cuiabá', 'max': 72.6, 'value': 27.8, 'min': 0}\n",
      "{'MR': 'Curitiba', 'max': 45.29, 'value': 12.37, 'min': 0}\n",
      "{'MR': 'Curitiba', 'max': 2.7700000000000014, 'value': 0.06999999999999851, 'min': 0}\n",
      "{'MR': 'Curitiba', 'max': 100, 'value': 83.92, 'min': 47.19}\n",
      "{'MR': 'Curitiba', 'max': 100, 'value': 92.22, 'min': 65.42999999999999}\n",
      "{'MR': 'Feira de Santana', 'max': 56.2, 'value': 17.88, 'min': 0}\n",
      "{'MR': 'Feira de Santana', 'max': 19.990000000000002, 'value': 2.9799999999999986, 'min': 0}\n",
      "{'MR': 'Feira de Santana', 'max': 73.15, 'value': 28.169999999999998, 'min': 0}\n",
      "{'MR': 'Feira de Santana', 'max': 71.33, 'value': 26.96, 'min': 0}\n",
      "{'MR': 'Florianópolis', 'max': 53.62, 'value': 16.5, 'min': 0}\n",
      "{'MR': 'Florianópolis', 'max': 19.939999999999998, 'value': 2.9700000000000006, 'min': 0}\n",
      "{'MR': 'Florianópolis', 'max': 74.00999999999999, 'value': 28.75, 'min': 0}\n",
      "{'MR': 'Florianópolis', 'max': 73.0, 'value': 28.07, 'min': 0}\n",
      "{'MR': 'Fortaleza', 'max': 48.68, 'value': 13.99, 'min': 0}\n",
      "{'MR': 'Fortaleza', 'max': 12.089999999999998, 'value': 1.200000000000001, 'min': 0}\n",
      "{'MR': 'Fortaleza', 'max': 73.27, 'value': 28.25, 'min': 0}\n",
      "{'MR': 'Fortaleza', 'max': 72.71, 'value': 27.87, 'min': 0}\n",
      "{'MR': 'Goiânia', 'max': 52.39, 'value': 15.86, 'min': 0}\n",
      "{'MR': 'Goiânia', 'max': 13.870000000000001, 'value': 1.5399999999999991, 'min': 0}\n",
      "{'MR': 'Goiânia', 'max': 75.02, 'value': 29.439999999999998, 'min': 0}\n",
      "{'MR': 'Goiânia', 'max': 73.36, 'value': 28.31, 'min': 0}\n",
      "{'MR': 'Ilheus-Itabuna', 'max': 53.61, 'value': 16.5, 'min': 0}\n",
      "{'MR': 'Ilheus-Itabuna', 'max': 16.04, 'value': 2.01, 'min': 0}\n",
      "{'MR': 'Ilheus-Itabuna', 'max': 74.47999999999999, 'value': 29.07, 'min': 0}\n",
      "{'MR': 'Ilheus-Itabuna', 'max': 74.41, 'value': 29.02, 'min': 0}\n",
      "{'MR': 'Ipatinga', 'max': 54.97, 'value': 17.22, 'min': 0}\n",
      "{'MR': 'Ipatinga', 'max': 18.55, 'value': 2.6099999999999994, 'min': 0}\n",
      "{'MR': 'Ipatinga', 'max': 73.61, 'value': 28.479999999999997, 'min': 0}\n",
      "{'MR': 'Ipatinga', 'max': 73.73, 'value': 28.56, 'min': 0}\n",
      "{'MR': 'Joinville', 'max': 58.99, 'value': 19.43, 'min': 0}\n",
      "{'MR': 'Joinville', 'max': 27.32, 'value': 5.17, 'min': 0}\n",
      "{'MR': 'Joinville', 'max': 71.55000000000001, 'value': 27.1, 'min': 0}\n",
      "{'MR': 'Joinville', 'max': 73.41, 'value': 28.34, 'min': 0}\n",
      "{'MR': 'João Pessoa', 'max': 57.269999999999996, 'value': 18.47, 'min': 0}\n",
      "{'MR': 'João Pessoa', 'max': 22.54, 'value': 3.6899999999999995, 'min': 0}\n",
      "{'MR': 'João Pessoa', 'max': 73.75999999999999, 'value': 28.58, 'min': 0}\n",
      "{'MR': 'João Pessoa', 'max': 72.06, 'value': 27.439999999999998, 'min': 0}\n",
      "{'MR': 'Juiz de Fora', 'max': 53.43, 'value': 16.4, 'min': 0}\n",
      "{'MR': 'Juiz de Fora', 'max': 22.63, 'value': 3.719999999999999, 'min': 0}\n",
      "{'MR': 'Juiz de Fora', 'max': 73.21000000000001, 'value': 28.21, 'min': 0}\n",
      "{'MR': 'Juiz de Fora', 'max': 71.85, 'value': 27.299999999999997, 'min': 0}\n",
      "{'MR': 'Jundiai', 'max': 49.830000000000005, 'value': 14.56, 'min': 0}\n",
      "{'MR': 'Jundiai', 'max': 16.730000000000004, 'value': 2.17, 'min': 0}\n",
      "{'MR': 'Jundiai', 'max': 73.6, 'value': 28.47, 'min': 0}\n",
      "{'MR': 'Jundiai', 'max': 75.91, 'value': 30.060000000000002, 'min': 0}\n",
      "{'MR': 'Londrina', 'max': 54.129999999999995, 'value': 16.77, 'min': 0}\n",
      "{'MR': 'Londrina', 'max': 20.589999999999996, 'value': 3.139999999999999, 'min': 0}\n",
      "{'MR': 'Londrina', 'max': 73.98, 'value': 28.73, 'min': 0}\n",
      "{'MR': 'Londrina', 'max': 73.27, 'value': 28.25, 'min': 0}\n",
      "{'MR': 'Macapá', 'max': 52.949999999999996, 'value': 16.15, 'min': 0}\n",
      "{'MR': 'Macapá', 'max': 17.709999999999997, 'value': 2.3999999999999986, 'min': 0}\n",
      "{'MR': 'Macapá', 'max': 72.63, 'value': 27.82, 'min': 0}\n",
      "{'MR': 'Macapá', 'max': 73.66, 'value': 28.509999999999998, 'min': 0}\n",
      "{'MR': 'Maceio', 'max': 57.21, 'value': 18.43, 'min': 0}\n",
      "{'MR': 'Maceio', 'max': 21.410000000000004, 'value': 3.369999999999999, 'min': 0}\n",
      "{'MR': 'Maceio', 'max': 73.3, 'value': 28.27, 'min': 0}\n",
      "{'MR': 'Maceio', 'max': 73.28999999999999, 'value': 28.259999999999998, 'min': 0}\n",
      "{'MR': 'Manaus', 'max': 55.120000000000005, 'value': 17.3, 'min': 0}\n",
      "{'MR': 'Manaus', 'max': 18.980000000000004, 'value': 2.7200000000000006, 'min': 0}\n",
      "{'MR': 'Manaus', 'max': 74.73, 'value': 29.240000000000002, 'min': 0}\n",
      "{'MR': 'Manaus', 'max': 73.55, 'value': 28.44, 'min': 0}\n",
      "{'MR': 'Maringá', 'max': 56.68, 'value': 18.14, 'min': 0}\n",
      "{'MR': 'Maringá', 'max': 22.96, 'value': 3.8100000000000005, 'min': 0}\n",
      "{'MR': 'Maringá', 'max': 73.35, 'value': 28.3, 'min': 0}\n",
      "{'MR': 'Maringá', 'max': 74.38, 'value': 29.0, 'min': 0}\n",
      "{'MR': 'NH-SL', 'max': 54.96, 'value': 17.21, 'min': 0}\n",
      "{'MR': 'NH-SL', 'max': 17.82, 'value': 2.4300000000000015, 'min': 0}\n",
      "{'MR': 'NH-SL', 'max': 72.63, 'value': 27.82, 'min': 0}\n",
      "{'MR': 'NH-SL', 'max': 73.30000000000001, 'value': 28.270000000000003, 'min': 0}\n",
      "{'MR': 'Natal', 'max': 53.849999999999994, 'value': 16.62, 'min': 0}\n",
      "{'MR': 'Natal', 'max': 16.409999999999997, 'value': 2.0900000000000016, 'min': 0}\n",
      "{'MR': 'Natal', 'max': 72.05, 'value': 27.43, 'min': 0}\n",
      "{'MR': 'Natal', 'max': 73.21000000000001, 'value': 28.21, 'min': 0}\n",
      "{'MR': 'Pelotas', 'max': 57.48, 'value': 18.58, 'min': 0}\n",
      "{'MR': 'Pelotas', 'max': 19.189999999999998, 'value': 2.769999999999998, 'min': 0}\n",
      "{'MR': 'Pelotas', 'max': 74.11, 'value': 28.82, 'min': 0}\n",
      "{'MR': 'Pelotas', 'max': 74.8, 'value': 29.29, 'min': 0}\n",
      "{'MR': 'Petrolina-Juazeiro', 'max': 56.62, 'value': 18.11, 'min': 0}\n",
      "{'MR': 'Petrolina-Juazeiro', 'max': 24.059999999999995, 'value': 4.139999999999999, 'min': 0}\n",
      "{'MR': 'Petrolina-Juazeiro', 'max': 71.8, 'value': 27.27, 'min': 0}\n",
      "{'MR': 'Petrolina-Juazeiro', 'max': 71.94, 'value': 27.36, 'min': 0}\n",
      "{'MR': 'Porto Alegre', 'max': 25.61, 'value': 4.62, 'min': 0}\n",
      "{'MR': 'Porto Alegre', 'max': 4.029999999999999, 'value': 0.15000000000000036, 'min': 0}\n",
      "{'MR': 'Porto Alegre', 'max': 56.64, 'value': 18.12, 'min': 0}\n",
      "{'MR': 'Porto Alegre', 'max': 57.98, 'value': 18.86, 'min': 0}\n",
      "{'MR': 'Recife', 'max': 54.599999999999994, 'value': 17.02, 'min': 0}\n",
      "{'MR': 'Recife', 'max': 17.699999999999996, 'value': 2.4000000000000004, 'min': 0}\n",
      "{'MR': 'Recife', 'max': 73.89, 'value': 28.67, 'min': 0}\n",
      "{'MR': 'Recife', 'max': 72.47, 'value': 27.71, 'min': 0}\n",
      "{'MR': 'Ribeirão Preto', 'max': 52.82, 'value': 16.08, 'min': 0}\n",
      "{'MR': 'Ribeirão Preto', 'max': 15.1, 'value': 1.799999999999999, 'min': 0}\n",
      "{'MR': 'Ribeirão Preto', 'max': 73.31, 'value': 28.279999999999998, 'min': 0}\n",
      "{'MR': 'Ribeirão Preto', 'max': 73.26, 'value': 28.24, 'min': 0}\n",
      "{'MR': 'Rio de Janeiro', 'max': 71.97, 'value': 27.38, 'min': 0}\n",
      "{'MR': 'Rio de Janeiro', 'max': 71.78999999999999, 'value': 27.259999999999998, 'min': 0}\n",
      "{'MR': 'Rio de Janeiro', 'max': 73.63, 'value': 28.49, 'min': 0}\n",
      "{'MR': 'Rio de Janeiro', 'max': 73.95, 'value': 28.71, 'min': 0}\n",
      "{'MR': 'SJC', 'max': 55.57, 'value': 17.54, 'min': 0}\n",
      "{'MR': 'SJC', 'max': 21.27, 'value': 3.3299999999999983, 'min': 0}\n",
      "{'MR': 'SJC', 'max': 73.03, 'value': 28.09, 'min': 0}\n",
      "{'MR': 'SJC', 'max': 71.59, 'value': 27.13, 'min': 0}\n",
      "{'MR': 'SJRP', 'max': 49.43, 'value': 14.36, 'min': 0}\n",
      "{'MR': 'SJRP', 'max': 14.52, 'value': 1.6799999999999997, 'min': 0}\n",
      "{'MR': 'SJRP', 'max': 72.29, 'value': 27.59, 'min': 0}\n",
      "{'MR': 'SJRP', 'max': 73.53999999999999, 'value': 28.43, 'min': 0}\n",
      "{'MR': 'Salvador', 'max': 50.79, 'value': 15.04, 'min': 0}\n",
      "{'MR': 'Salvador', 'max': 11.139999999999999, 'value': 1.0299999999999994, 'min': 0}\n",
      "{'MR': 'Salvador', 'max': 74.19, 'value': 28.869999999999997, 'min': 0}\n",
      "{'MR': 'Salvador', 'max': 73.88, 'value': 28.659999999999997, 'min': 0}\n",
      "{'MR': 'Santos', 'max': 50.050000000000004, 'value': 14.67, 'min': 0}\n",
      "{'MR': 'Santos', 'max': 12.030000000000003, 'value': 1.1899999999999995, 'min': 0}\n",
      "{'MR': 'Santos', 'max': 72.69999999999999, 'value': 27.869999999999997, 'min': 0}\n",
      "{'MR': 'Santos', 'max': 73.33000000000001, 'value': 28.29, 'min': 0}\n",
      "{'MR': 'Sao Luis', 'max': 52.14, 'value': 15.73, 'min': 0}\n",
      "{'MR': 'Sao Luis', 'max': 16.839999999999996, 'value': 2.1900000000000013, 'min': 0}\n",
      "{'MR': 'Sao Luis', 'max': 74.3, 'value': 28.950000000000003, 'min': 0}\n",
      "{'MR': 'Sao Luis', 'max': 71.91, 'value': 27.34, 'min': 0}\n",
      "{'MR': 'Sorocaba', 'max': 55.61, 'value': 17.56, 'min': 0}\n",
      "{'MR': 'Sorocaba', 'max': 20.459999999999997, 'value': 3.1099999999999994, 'min': 0}\n",
      "{'MR': 'Sorocaba', 'max': 73.94, 'value': 28.7, 'min': 0}\n",
      "{'MR': 'Sorocaba', 'max': 73.13999999999999, 'value': 28.159999999999997, 'min': 0}\n",
      "{'MR': 'São Paulo', 'max': 75.59, 'value': 29.84, 'min': 0}\n",
      "{'MR': 'São Paulo', 'max': 73.94, 'value': 28.7, 'min': 0}\n",
      "{'MR': 'São Paulo', 'max': 74.29, 'value': 28.94, 'min': 0}\n",
      "{'MR': 'São Paulo', 'max': 85.37, 'value': 37.07, 'min': 0}\n",
      "{'MR': 'Teresina', 'max': 53.06, 'value': 16.21, 'min': 0}\n",
      "{'MR': 'Teresina', 'max': 15.420000000000002, 'value': 1.870000000000001, 'min': 0}\n",
      "{'MR': 'Teresina', 'max': 73.43, 'value': 28.36, 'min': 0}\n",
      "{'MR': 'Teresina', 'max': 73.44, 'value': 28.36, 'min': 0}\n",
      "{'MR': 'Uberlandia', 'max': 55.63, 'value': 17.57, 'min': 0}\n",
      "{'MR': 'Uberlandia', 'max': 23.42, 'value': 3.950000000000001, 'min': 0}\n",
      "{'MR': 'Uberlandia', 'max': 73.35000000000001, 'value': 28.3, 'min': 0}\n",
      "{'MR': 'Uberlandia', 'max': 72.84, 'value': 27.96, 'min': 0}\n",
      "{'MR': 'Vitória', 'max': 54.9, 'value': 17.18, 'min': 0}\n",
      "{'MR': 'Vitória', 'max': 16.909999999999997, 'value': 2.209999999999999, 'min': 0}\n",
      "{'MR': 'Vitória', 'max': 74.44, 'value': 29.04, 'min': 0}\n",
      "{'MR': 'Vitória', 'max': 73.15, 'value': 28.17, 'min': 0}\n",
      "{'MR': 'Volta Redonda', 'max': 55.0, 'value': 17.23, 'min': 0}\n",
      "{'MR': 'Volta Redonda', 'max': 20.470000000000006, 'value': 3.110000000000001, 'min': 0}\n",
      "{'MR': 'Volta Redonda', 'max': 71.32000000000001, 'value': 26.950000000000003, 'min': 0}\n",
      "{'MR': 'Volta Redonda', 'max': 73.80000000000001, 'value': 28.61, 'min': 0}\n"
     ]
    }
   ],
   "source": [
    "no_policy, buy, rent, wage = pd.DataFrame(), pd.DataFrame(), pd.DataFrame(), pd.DataFrame()\n",
    "_dict = {'Policy: none' : no_policy,\n",
    "        'Policy: buy' : buy,\n",
    "        'Policy: rent' : rent,\n",
    "        'Policy: wage' : wage}\n",
    "\n",
    "for acp in list(hist_mean['MR']):\n",
    "    for policy in ['Policy: none', 'Policy: buy', 'Policy: rent', 'Policy: wage']:\n",
    "        row = {'MR' : hist_mean.loc[(hist_mean['MR'] == acp)]['MR'].values[0],\n",
    "               'max' : min(100,\n",
    "                           hist_mean.loc[(hist_mean['MR'] == acp)][policy].values[0] + hist_std.loc[(hist_std['MR'] == acp)][policy].values[0]),\n",
    "               'value' : hist_mean.loc[(hist_mean['MR'] == acp)][policy].values[0],\n",
    "               'min' : max(0,\n",
    "                           hist_mean.loc[(hist_mean['MR'] == acp)][policy].values[0] - hist_std.loc[(hist_std['MR'] == acp)][policy].values[0])}\n",
    "        print(row)\n",
    "        _dict[policy] = _dict[policy].append(row, ignore_index=True)\n",
    "\n",
    "_dict['Policy: buy'].sort_values(ascending=False, by='value', inplace=True)"
   ],
   "metadata": {
    "collapsed": false,
    "pycharm": {
     "name": "#%%\n"
    }
   }
  },
  {
   "cell_type": "code",
   "execution_count": 17,
   "outputs": [
    {
     "data": {
      "text/plain": "<Figure size 576x576 with 4 Axes>",
      "image/png": "[encoded data removed]"
     },
     "metadata": {
      "needs_background": "light"
     },
     "output_type": "display_data"
    }
   ],
   "source": [
    "### in matplotlib\n",
    "\n",
    "_dict['Policy: buy'].sort_values(ascending=False, by='value', inplace=True)\n",
    "\n",
    "fig, axes = plt.subplots(nrows=4, ncols=1, squeeze=True, figsize=(8, 8))\n",
    "\n",
    "plt.subplot(4, 1, 2).set_title('Policy: buy')\n",
    "plt.ylim((0, 100))\n",
    "_dict['Policy: buy'].set_index('MR').T.boxplot(widths = 0.6, column=list(_dict['Policy: buy']['MR'])).set(xticklabels=[])\n",
    "plt.grid(visible=False, axis='y')\n",
    "\n",
    "plt.subplot(4, 1, 1).set_title('Policy: none')\n",
    "plt.ylim((0, 100))\n",
    "_dict['Policy: none'].set_index('MR').T.boxplot(widths = 0.6, column=list(_dict['Policy: buy']['MR'])).set(xticklabels=[])\n",
    "plt.grid(visible=False, axis='y')\n",
    "\n",
    "plt.subplot(4, 1, 3).set_title('Policy: wage')\n",
    "plt.ylim((0, 100))\n",
    "_dict['Policy: wage'].set_index('MR').T.boxplot(widths = 0.6, column=list(_dict['Policy: buy']['MR'])).set(xticklabels=[])\n",
    "plt.grid(visible=False, axis='y')\n",
    "\n",
    "plt.subplot(4, 1, 4).set_title('Policy: rent')\n",
    "plt.ylim((0, 100))\n",
    "_dict['Policy: rent'].set_index('MR').T.boxplot(widths = 0.6, column=list(_dict['Policy: buy']['MR']))\n",
    "\n",
    "plt.xticks(rotation=90)\n",
    "plt.grid(visible=False, axis='y')\n",
    "\n",
    "\n",
    "plt.savefig(f'../text/figures/boxplot.png', bbox_inches='tight', transparent=True)\n",
    "plt.show()"
   ],
   "metadata": {
    "collapsed": false,
    "pycharm": {
     "name": "#%%\n"
    }
   }
  },
  {
   "cell_type": "markdown",
   "source": [
    "# parameter restriction table"
   ],
   "metadata": {
    "collapsed": false
   }
  },
  {
   "cell_type": "code",
   "execution_count": 52,
   "outputs": [],
   "source": [
    "#attempted to do this in a pythonic manner, failed miserably...\n",
    "\n",
    "params_dict={\n",
    "    \"PRODUCTIVITY_EXPONENT\" : {'max': 1, 'min': 0, 'distribution': 'normal'},\n",
    "    \"PRODUCTIVITY_MAGNITUDE_DIVISOR\" : {'max': 20, 'min': 1, 'distribution': 'normal'},\n",
    "    \"MUNICIPAL_EFFICIENCY_MANAGEMENT\" : {'max': .001, 'min': .00001, 'distribution': 'normal'},\n",
    "    \"INTEREST\" : {'alternatives': ['nominal', 'real', 'fixed'], 'distribution': 'choice'},\n",
    "    \"MARKUP\" : {'max': .5, 'min': 0, 'distribution': 'normal'},\n",
    "    \"STICKY_PRICES\" : {'max': 1, 'min': 0, 'distribution': 'normal'},\n",
    "    \"SIZE_MARKET\" : {'max': 100, 'min': 1, 'distribution': 'normal'},\n",
    "    \"LABOR_MARKET\" : {'max': 1, 'min': 0, 'distribution': 'normal'},\n",
    "    \"PCT_DISTANCE_HIRING\" : {'max': 1, 'min': 0, 'distribution': 'normal'},\n",
    "    \"WAGE_IGNORE_UNEMPLOYMENT\" : {'alternatives': [True, False], 'distribution': 'choice'},\n",
    "    \"HIRING_SAMPLE_SIZE\" : {'max': 100, 'min': 1, 'distribution': 'normal'},\n",
    "    \"TAX_CONSUMPTION\" : {'max': .6, 'min': .1, 'distribution': 'normal'},\n",
    "    \"TAX_LABOR\" : {'max': .6, 'min': .01, 'distribution': 'normal'},\n",
    "    \"TAX_ESTATE_TRANSACTION\" : {'max': .01, 'min': .0001, 'distribution': 'normal'},\n",
    "    \"TAX_FIRM\" : {'max': .6, 'min': .01, 'distribution': 'normal'},\n",
    "    \"TAX_PROPERTY\" : {'max': .01, 'min': .0001, 'distribution': 'normal'},\n",
    "    \"ALTERNATIVE0\" : {'alternatives': [True, False], 'distribution': 'choice'},\n",
    "    \"FPM_DISTRIBUTION\" : {'alternatives': [True, False], 'distribution': 'choice'},\n",
    "    \"POLICY_COEFFICIENT\" : {'max': .4, 'min': 0, 'distribution': 'normal'},\n",
    "    \"POLICIES\" : {'alternatives': ['buy', 'rent', 'wage', 'no_policy'], 'distribution': 'choice'},\n",
    "    \"POLICY_DAYS\" : {'max': 3600, 'min': 0, 'distribution': 'normal'},\n",
    "    \"POLICY_QUANTILE\" : {'max': 1, 'min': 0, 'distribution': 'normal'},\n",
    "    \"MAX_LOAN_AGE\" : {'max': 100, 'min': 50, 'distribution': 'normal'},\n",
    "    \"LOAN_PAYMENT_TO_PERMANENT_INCOME\" : {'max': 1, 'min': 0, 'distribution': 'normal'},\n",
    "    \"MAX_LOAN_TO_VALUE\" : {'max': 1, 'min': 0, 'distribution': 'normal'},\n",
    "    \"MAX_LOAN_BANK_PERCENT\" : {'max': 1, 'min': 0, 'distribution': 'normal'},\n",
    "    \"CAPPED_TOP_VALUE\" : {'max': 2, 'min': 1, 'distribution': 'normal'},\n",
    "    \"CAPPED_LOW_VALUE\" : {'max': 1, 'min': 0, 'distribution': 'normal'},\n",
    "    \"OFFER_SIZE_ON_PRICE\" : {'max': 5, 'min': 0, 'distribution': 'normal'},\n",
    "    \"ON_MARKET_DECAY_FACTOR\" : {'max': 0, 'min': -.1, 'distribution': 'normal'},\n",
    "    \"MAX_OFFER_DISCOUNT\" : {'max': 1, 'min': .4, 'distribution': 'normal'},\n",
    "    \"PERCENTAGE_ENTERING_ESTATE_MARKET\" : {'max': .01, 'min': 0, 'distribution': 'normal'},\n",
    "    \"NEIGHBORHOOD_EFFECT\" : {'max': 5, 'min': 0, 'distribution': 'normal'},\n",
    "    \"RENTAL_SHARE\" : {'max': 1, 'min': 0, 'distribution': 'normal'},\n",
    "    \"INITIAL_RENTAL_PRICE\" : {'max': .01, 'min': 0, 'distribution': 'normal'},\n",
    "    \"T_LICENSES_PER_REGION\" : {'alternatives': [True, False], 'distribution': 'choice'},\n",
    "    \"PERCENT_CONSTRUCTION_FIRMS\" : {'max': .2, 'min': 0, 'distribution': 'normal'},\n",
    "    \"CONSTRUCTION_ACC_CASH_FLOW\" : {'max':100, 'min': 1, 'distribution': 'normal'},\n",
    "    \"LOT_COST\" : {'max': .7, 'min': 0, 'distribution': 'normal'},\n",
    "    \"PRIVATE_TRANSIT_COST\" : {'max': .5, 'min': 0, 'distribution': 'normal'},\n",
    "    \"PUBLIC_TRANSIT_COST\" : {'max': .5, 'min': 0, 'distribution': 'normal'},\n",
    "    \"PERCENTAGE_ACTUAL_POP\" : {'max': 1, 'min': 0, 'distribution': 'normal'},\n",
    "    \"STARTING_DAY\" : {'alternatives': ['2010-01-01', '2000-01-01'], 'distribution': 'choice'},\n",
    "    \"TOTAL_DAYS\" : {'max': 14610, 'min': 1826, 'distribution': 'normal'},\n",
    "}"
   ],
   "metadata": {
    "collapsed": false,
    "pycharm": {
     "name": "#%%\n"
    }
   }
  },
  {
   "cell_type": "code",
   "execution_count": 118,
   "outputs": [
    {
     "name": "stdout",
     "output_type": "stream",
     "text": [
      "{'max': 1, 'min': 0, 'distribution': 'normal'}\n",
      "{'max': 20, 'min': 1, 'distribution': 'normal'}\n",
      "{'max': 0.001, 'min': 1e-05, 'distribution': 'normal'}\n",
      "{'alternatives': ['nominal', 'real', 'fixed'], 'distribution': 'choice'}\n",
      "{'max': 0.5, 'min': 0, 'distribution': 'normal'}\n",
      "{'max': 1, 'min': 0, 'distribution': 'normal'}\n",
      "{'max': 100, 'min': 1, 'distribution': 'normal'}\n",
      "{'max': 1, 'min': 0, 'distribution': 'normal'}\n",
      "{'max': 1, 'min': 0, 'distribution': 'normal'}\n",
      "{'alternatives': [True, False], 'distribution': 'choice'}\n",
      "{'max': 100, 'min': 1, 'distribution': 'normal'}\n",
      "{'max': 0.6, 'min': 0.1, 'distribution': 'normal'}\n",
      "{'max': 0.6, 'min': 0.01, 'distribution': 'normal'}\n",
      "{'max': 0.01, 'min': 0.0001, 'distribution': 'normal'}\n",
      "{'max': 0.6, 'min': 0.01, 'distribution': 'normal'}\n",
      "{'max': 0.01, 'min': 0.0001, 'distribution': 'normal'}\n",
      "{'alternatives': [True, False], 'distribution': 'choice'}\n",
      "{'alternatives': [True, False], 'distribution': 'choice'}\n",
      "{'max': 0.4, 'min': 0, 'distribution': 'normal'}\n",
      "{'alternatives': ['buy', 'rent', 'wage', 'no_policy'], 'distribution': 'choice'}\n",
      "{'max': 3600, 'min': 0, 'distribution': 'normal'}\n",
      "{'max': 1, 'min': 0, 'distribution': 'normal'}\n",
      "{'max': 100, 'min': 50, 'distribution': 'normal'}\n",
      "{'max': 1, 'min': 0, 'distribution': 'normal'}\n",
      "{'max': 1, 'min': 0, 'distribution': 'normal'}\n",
      "{'max': 1, 'min': 0, 'distribution': 'normal'}\n",
      "{'max': 2, 'min': 1, 'distribution': 'normal'}\n",
      "{'max': 1, 'min': 0, 'distribution': 'normal'}\n",
      "{'max': 5, 'min': 0, 'distribution': 'normal'}\n",
      "{'max': 0, 'min': -0.1, 'distribution': 'normal'}\n",
      "{'max': 1, 'min': 0.4, 'distribution': 'normal'}\n",
      "{'max': 0.01, 'min': 0, 'distribution': 'normal'}\n",
      "{'max': 5, 'min': 0, 'distribution': 'normal'}\n",
      "{'max': 1, 'min': 0, 'distribution': 'normal'}\n",
      "{'max': 0.01, 'min': 0, 'distribution': 'normal'}\n",
      "{'alternatives': [True, False], 'distribution': 'choice'}\n",
      "{'max': 0.2, 'min': 0, 'distribution': 'normal'}\n",
      "{'max': 100, 'min': 1, 'distribution': 'normal'}\n",
      "{'max': 0.7, 'min': 0, 'distribution': 'normal'}\n",
      "{'max': 0.5, 'min': 0, 'distribution': 'normal'}\n",
      "{'max': 0.5, 'min': 0, 'distribution': 'normal'}\n",
      "{'max': 1, 'min': 0, 'distribution': 'normal'}\n",
      "{'alternatives': ['2010-01-01', '2000-01-01'], 'distribution': 'choice'}\n",
      "{'max': 14610, 'min': 1826, 'distribution': 'normal'}\n"
     ]
    }
   ],
   "source": [
    "restriction_normal =  pd.DataFrame(columns=['Parameter', 'max', 'min'])\n",
    "restriction_dummy =  pd.DataFrame(columns=['Parameter', 'alternatives'])\n",
    "restriction = pd.DataFrame()\n",
    "\n",
    "for entry in params_dict:\n",
    "    parameter = params_dict[entry]\n",
    "    print(parameter)\n",
    "    row = {'Parameter': entry}\n",
    "    if 'alternatives' in parameter.keys():\n",
    "        # dummy\n",
    "        alternatives = ', '.join(str(e) for e in parameter['alternatives'])\n",
    "        row.update({'alternatives': alternatives})\n",
    "        restriction_dummy = restriction_dummy.append(row, ignore_index=True)\n",
    "    else:\n",
    "        # normal\n",
    "        row.update({'max': parameter['max'],\n",
    "                'min': parameter['min']})\n",
    "        restriction_normal = restriction_normal.append(row, ignore_index=True)\n",
    "    restriction = restriction.append(row, ignore_index=True)"
   ],
   "metadata": {
    "collapsed": false,
    "pycharm": {
     "name": "#%%\n"
    }
   }
  },
  {
   "cell_type": "code",
   "execution_count": 119,
   "outputs": [
    {
     "name": "stdout",
     "output_type": "stream",
     "text": [
      "\\begin{tabular}{lrr}\n",
      "\\toprule\n",
      "                                   Parameter &       max &        min \\\\\n",
      "\\midrule\n",
      "                      Productivity: exponent &     1.000 &    0.00000 \\\\\n",
      "                       Productivity: divisor &    20.000 &    1.00000 \\\\\n",
      "             Municipal efficiency management &     0.001 &    0.00001 \\\\\n",
      "                                      Markup &     0.500 &    0.00000 \\\\\n",
      "                               Sticky Prices &     1.000 &    0.00000 \\\\\n",
      "                       Perceived market size &   100.000 &    1.00000 \\\\\n",
      "Frequency of firms entering the labor market &     1.000 &    0.00000 \\\\\n",
      "        \\% firms analyzing commuting distance &     1.000 &    0.00000 \\\\\n",
      "                          Hiring sample size &   100.000 &    1.00000 \\\\\n",
      "                             TAX\\_CONSUMPTION &     0.600 &    0.10000 \\\\\n",
      "                                   TAX\\_LABOR &     0.600 &    0.01000 \\\\\n",
      "                Tax over estate transactions &     0.010 &    0.00010 \\\\\n",
      "                                    TAX\\_FIRM &     0.600 &    0.01000 \\\\\n",
      "                                TAX\\_PROPERTY &     0.010 &    0.00010 \\\\\n",
      "                          Policy coefficient &     0.400 &    0.00000 \\\\\n",
      "                                 Policy days &  3600.000 &    0.00000 \\\\\n",
      "                             Policy Quantile &     1.000 &    0.00000 \\\\\n",
      "                                MAX\\_LOAN\\_AGE &   100.000 &   50.00000 \\\\\n",
      "                 Loan/permament income ratio &     1.000 &    0.00000 \\\\\n",
      "                       Maximum Loan-to-Value &     1.000 &    0.00000 \\\\\n",
      "                       MAX\\_LOAN\\_BANK\\_PERCENT &     1.000 &    0.00000 \\\\\n",
      "                            CAPPED\\_TOP\\_VALUE &     2.000 &    1.00000 \\\\\n",
      "                            CAPPED\\_LOW\\_VALUE &     1.000 &    0.00000 \\\\\n",
      "  Supply-demand effect on real estate prices &     5.000 &    0.00000 \\\\\n",
      "                      ON\\_MARKET\\_DECAY\\_FACTOR &     0.000 &   -0.10000 \\\\\n",
      "                          MAX\\_OFFER\\_DISCOUNT &     1.000 &    0.40000 \\\\\n",
      "      \\% families entering real estate market &     0.010 &    0.00000 \\\\\n",
      "                         Neighborhood effect &     5.000 &    0.00000 \\\\\n",
      "                                RENTAL\\_SHARE &     1.000 &    0.00000 \\\\\n",
      "                        INITIAL\\_RENTAL\\_PRICE &     0.010 &    0.00000 \\\\\n",
      "                     \\% of construction firms &     0.200 &    0.00000 \\\\\n",
      "                  CONSTRUCTION\\_ACC\\_CASH\\_FLOW &   100.000 &    1.00000 \\\\\n",
      "                                    LOT\\_COST &     0.700 &    0.00000 \\\\\n",
      "                     Cost of private transit &     0.500 &    0.00000 \\\\\n",
      "                      Cost of public transit &     0.500 &    0.00000 \\\\\n",
      "                             \\% of population &     1.000 &    0.00000 \\\\\n",
      "                                  Total Days & 14610.000 & 1826.00000 \\\\\n",
      "\\bottomrule\n",
      "\\end{tabular}\n",
      "\n"
     ]
    }
   ],
   "source": [
    "restriction_normal = restriction_normal.replace(groups_cols.abm_params_show)\n",
    "restriction_normal = restriction_normal.replace(groups_cols.abm_dummies_show)\n",
    "print(restriction_normal.to_latex(index=False))\n",
    "name = 'table_csvs/' + 'restriction_normal' + '.csv'\n",
    "restriction_normal.to_csv(name, index=False, sep=';')"
   ],
   "metadata": {
    "collapsed": false,
    "pycharm": {
     "name": "#%%\n"
    }
   }
  },
  {
   "cell_type": "code",
   "execution_count": 124,
   "outputs": [
    {
     "name": "stdout",
     "output_type": "stream",
     "text": [
      "\\begin{tabular}{ll}\n",
      "\\toprule\n",
      "               Parameter &               alternatives \\\\\n",
      "\\midrule\n",
      "                INTEREST &       nominal, real, fixed \\\\\n",
      "WAGE\\_IGNORE\\_UNEMPLOYMENT &                True, False \\\\\n",
      "            ALTERNATIVE0 &                True, False \\\\\n",
      "        FPM\\_DISTRIBUTION &                True, False \\\\\n",
      "                POLICIES & buy, rent, wage, no\\_policy \\\\\n",
      "   T\\_LICENSES\\_PER\\_REGION &                True, False \\\\\n",
      "            STARTING\\_DAY &     2010-01-01, 2000-01-01 \\\\\n",
      "\\bottomrule\n",
      "\\end{tabular}\n",
      "\n"
     ]
    }
   ],
   "source": [
    "restriction_dummy = restriction_dummy.replace(groups_cols.abm_params_show)\n",
    "restriction_dummy = restriction_dummy.replace(dummies)\n",
    "print(restriction_dummy.to_latex(index=False))\n",
    "name = 'table_csvs/' + 'restriction_dummy' + '.csv'"
   ],
   "metadata": {
    "collapsed": false,
    "pycharm": {
     "name": "#%%\n"
    }
   }
  },
  {
   "cell_type": "code",
   "execution_count": 125,
   "outputs": [
    {
     "name": "stdout",
     "output_type": "stream",
     "text": [
      "\\begin{tabular}{lrrl}\n",
      "\\toprule\n",
      "                                   Parameter &       max &        min &               alternatives \\\\\n",
      "\\midrule\n",
      "                      Productivity: exponent &     1.000 &    0.00000 &                        NaN \\\\\n",
      "                       Productivity: divisor &    20.000 &    1.00000 &                        NaN \\\\\n",
      "             Municipal efficiency management &     0.001 &    0.00001 &                        NaN \\\\\n",
      "                                    INTEREST &       NaN &        NaN &       nominal, real, fixed \\\\\n",
      "                                      Markup &     0.500 &    0.00000 &                        NaN \\\\\n",
      "                               Sticky Prices &     1.000 &    0.00000 &                        NaN \\\\\n",
      "                       Perceived market size &   100.000 &    1.00000 &                        NaN \\\\\n",
      "Frequency of firms entering the labor market &     1.000 &    0.00000 &                        NaN \\\\\n",
      "        \\% firms analyzing commuting distance &     1.000 &    0.00000 &                        NaN \\\\\n",
      "                    WAGE\\_IGNORE\\_UNEMPLOYMENT &       NaN &        NaN &                True, False \\\\\n",
      "                          Hiring sample size &   100.000 &    1.00000 &                        NaN \\\\\n",
      "                             TAX\\_CONSUMPTION &     0.600 &    0.10000 &                        NaN \\\\\n",
      "                                   TAX\\_LABOR &     0.600 &    0.01000 &                        NaN \\\\\n",
      "                Tax over estate transactions &     0.010 &    0.00010 &                        NaN \\\\\n",
      "                                    TAX\\_FIRM &     0.600 &    0.01000 &                        NaN \\\\\n",
      "                                TAX\\_PROPERTY &     0.010 &    0.00010 &                        NaN \\\\\n",
      "                                ALTERNATIVE0 &       NaN &        NaN &                True, False \\\\\n",
      "                            FPM\\_DISTRIBUTION &       NaN &        NaN &                True, False \\\\\n",
      "                          Policy coefficient &     0.400 &    0.00000 &                        NaN \\\\\n",
      "                                    POLICIES &       NaN &        NaN & buy, rent, wage, no\\_policy \\\\\n",
      "                                 Policy days &  3600.000 &    0.00000 &                        NaN \\\\\n",
      "                             Policy Quantile &     1.000 &    0.00000 &                        NaN \\\\\n",
      "                                MAX\\_LOAN\\_AGE &   100.000 &   50.00000 &                        NaN \\\\\n",
      "                 Loan/permament income ratio &     1.000 &    0.00000 &                        NaN \\\\\n",
      "                       Maximum Loan-to-Value &     1.000 &    0.00000 &                        NaN \\\\\n",
      "                       MAX\\_LOAN\\_BANK\\_PERCENT &     1.000 &    0.00000 &                        NaN \\\\\n",
      "                            CAPPED\\_TOP\\_VALUE &     2.000 &    1.00000 &                        NaN \\\\\n",
      "                            CAPPED\\_LOW\\_VALUE &     1.000 &    0.00000 &                        NaN \\\\\n",
      "  Supply-demand effect on real estate prices &     5.000 &    0.00000 &                        NaN \\\\\n",
      "                      ON\\_MARKET\\_DECAY\\_FACTOR &     0.000 &   -0.10000 &                        NaN \\\\\n",
      "                          MAX\\_OFFER\\_DISCOUNT &     1.000 &    0.40000 &                        NaN \\\\\n",
      "      \\% families entering real estate market &     0.010 &    0.00000 &                        NaN \\\\\n",
      "                         Neighborhood effect &     5.000 &    0.00000 &                        NaN \\\\\n",
      "                                RENTAL\\_SHARE &     1.000 &    0.00000 &                        NaN \\\\\n",
      "                        INITIAL\\_RENTAL\\_PRICE &     0.010 &    0.00000 &                        NaN \\\\\n",
      "                       T\\_LICENSES\\_PER\\_REGION &       NaN &        NaN &                True, False \\\\\n",
      "                     \\% of construction firms &     0.200 &    0.00000 &                        NaN \\\\\n",
      "                  CONSTRUCTION\\_ACC\\_CASH\\_FLOW &   100.000 &    1.00000 &                        NaN \\\\\n",
      "                                    LOT\\_COST &     0.700 &    0.00000 &                        NaN \\\\\n",
      "                     Cost of private transit &     0.500 &    0.00000 &                        NaN \\\\\n",
      "                      Cost of public transit &     0.500 &    0.00000 &                        NaN \\\\\n",
      "                             \\% of population &     1.000 &    0.00000 &                        NaN \\\\\n",
      "                                STARTING\\_DAY &       NaN &        NaN &     2010-01-01, 2000-01-01 \\\\\n",
      "                                  Total Days & 14610.000 & 1826.00000 &                        NaN \\\\\n",
      "\\bottomrule\n",
      "\\end{tabular}\n",
      "\n"
     ]
    }
   ],
   "source": [
    "restriction = restriction.replace(groups_cols.abm_params_show)\n",
    "restriction = restriction.replace(dummies)\n",
    "print(restriction.to_latex(index=False))\n",
    "name = 'table_csvs/' + 'restriction' + '.csv'\n"
   ],
   "metadata": {
    "collapsed": false,
    "pycharm": {
     "name": "#%%\n"
    }
   }
  }
 ],
 "metadata": {
  "kernelspec": {
   "display_name": "Python 3",
   "language": "python",
   "name": "python3"
  },
  "language_info": {
   "codemirror_mode": {
    "name": "ipython",
    "version": 2
   },
   "file_extension": ".py",
   "mimetype": "text/x-python",
   "name": "python",
   "nbconvert_exporter": "python",
   "pygments_lexer": "ipython2",
   "version": "2.7.6"
  }
 },
 "nbformat": 4,
 "nbformat_minor": 0
}