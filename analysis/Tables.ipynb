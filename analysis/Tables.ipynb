{
 "cells": [
  {
   "cell_type": "code",
   "execution_count": 1,
   "metadata": {
    "collapsed": true
   },
   "outputs": [],
   "source": [
    "import pandas as pd\n",
    "import numpy as np\n",
    "import groups_cols\n",
    "from matplotlib import pyplot as plt\n",
    "tables = {}"
   ]
  },
  {
   "cell_type": "markdown",
   "source": [
    "# Mean and std tables"
   ],
   "metadata": {
    "collapsed": false
   }
  },
  {
   "cell_type": "code",
   "execution_count": 2,
   "outputs": [],
   "source": [
    "iqr = pd.read_csv('IQR.csv', sep=';')"
   ],
   "metadata": {
    "collapsed": false,
    "pycharm": {
     "name": "#%%\n"
    }
   }
  },
  {
   "cell_type": "code",
   "execution_count": 3,
   "outputs": [
    {
     "data": {
      "text/plain": "   Unnamed: 0                             ACP                 pol   q3   q1  \\\n0           0                             all        POLICIES_buy  0.0  0.0   \n1           1                             all       POLICIES_rent  1.0  0.0   \n2           2                             all       POLICIES_wage  1.0  0.0   \n3           3                             all  POLICIES_no_policy  0.0  0.0   \n4           4  PROCESSING_ACPS_BELO HORIZONTE        POLICIES_buy  0.0  0.0   \n\n   median  IQR      mean       std     count  optimal_count  \n0     0.0  0.0  0.036194  0.186773  250592.0         9070.0  \n1     0.0  1.0  0.310333  0.462630  250070.0        77605.0  \n2     0.0  1.0  0.329212  0.469927  250015.0        82308.0  \n3     0.0  0.0  0.178652  0.383060  249323.0        44542.0  \n4     0.0  0.0  0.094223  0.292138    5487.0          517.0  ",
      "text/html": "<div>\n<style scoped>\n    .dataframe tbody tr th:only-of-type {\n        vertical-align: middle;\n    }\n\n    .dataframe tbody tr th {\n        vertical-align: top;\n    }\n\n    .dataframe thead th {\n        text-align: right;\n    }\n</style>\n<table border=\"1\" class=\"dataframe\">\n  <thead>\n    <tr style=\"text-align: right;\">\n      <th></th>\n      <th>Unnamed: 0</th>\n      <th>ACP</th>\n      <th>pol</th>\n      <th>q3</th>\n      <th>q1</th>\n      <th>median</th>\n      <th>IQR</th>\n      <th>mean</th>\n      <th>std</th>\n      <th>count</th>\n      <th>optimal_count</th>\n    </tr>\n  </thead>\n  <tbody>\n    <tr>\n      <th>0</th>\n      <td>0</td>\n      <td>all</td>\n      <td>POLICIES_buy</td>\n      <td>0.0</td>\n      <td>0.0</td>\n      <td>0.0</td>\n      <td>0.0</td>\n      <td>0.036194</td>\n      <td>0.186773</td>\n      <td>250592.0</td>\n      <td>9070.0</td>\n    </tr>\n    <tr>\n      <th>1</th>\n      <td>1</td>\n      <td>all</td>\n      <td>POLICIES_rent</td>\n      <td>1.0</td>\n      <td>0.0</td>\n      <td>0.0</td>\n      <td>1.0</td>\n      <td>0.310333</td>\n      <td>0.462630</td>\n      <td>250070.0</td>\n      <td>77605.0</td>\n    </tr>\n    <tr>\n      <th>2</th>\n      <td>2</td>\n      <td>all</td>\n      <td>POLICIES_wage</td>\n      <td>1.0</td>\n      <td>0.0</td>\n      <td>0.0</td>\n      <td>1.0</td>\n      <td>0.329212</td>\n      <td>0.469927</td>\n      <td>250015.0</td>\n      <td>82308.0</td>\n    </tr>\n    <tr>\n      <th>3</th>\n      <td>3</td>\n      <td>all</td>\n      <td>POLICIES_no_policy</td>\n      <td>0.0</td>\n      <td>0.0</td>\n      <td>0.0</td>\n      <td>0.0</td>\n      <td>0.178652</td>\n      <td>0.383060</td>\n      <td>249323.0</td>\n      <td>44542.0</td>\n    </tr>\n    <tr>\n      <th>4</th>\n      <td>4</td>\n      <td>PROCESSING_ACPS_BELO HORIZONTE</td>\n      <td>POLICIES_buy</td>\n      <td>0.0</td>\n      <td>0.0</td>\n      <td>0.0</td>\n      <td>0.0</td>\n      <td>0.094223</td>\n      <td>0.292138</td>\n      <td>5487.0</td>\n      <td>517.0</td>\n    </tr>\n  </tbody>\n</table>\n</div>"
     },
     "execution_count": 3,
     "metadata": {},
     "output_type": "execute_result"
    }
   ],
   "source": [
    "iqr.head()"
   ],
   "metadata": {
    "collapsed": false,
    "pycharm": {
     "name": "#%%\n"
    }
   }
  },
  {
   "cell_type": "code",
   "execution_count": 4,
   "outputs": [],
   "source": [
    "mean_policy_acp = pd.DataFrame()\n",
    "std_policy_acp = mean_policy_acp.copy()\n",
    "acps = ['all'] + groups_cols.abm_dummies['acps']\n",
    "\n",
    "for acp in acps:\n",
    "    row_mean = {'MR' : acp}\n",
    "    row_std = row_mean.copy()\n",
    "    for policy in ['POLICIES_no_policy','POLICIES_buy', 'POLICIES_rent', 'POLICIES_wage']:\n",
    "        dataframe_mean = iqr.loc[(iqr['ACP'] == acp) & (iqr['pol'] == policy)]['mean'].values[0]\n",
    "        dataframe_std = iqr.loc[(iqr['ACP'] == acp) & (iqr['pol'] == policy)]['std'].values[0]\n",
    "        if policy == 'POLICIES_no_policy':\n",
    "            mean = dataframe_mean*100\n",
    "            std = dataframe_std*100\n",
    "        else:\n",
    "            mean = (dataframe_mean*100-row_mean['POLICIES_no_policy'])\n",
    "            std = (dataframe_std*100-row_std['POLICIES_no_policy'])\n",
    "        row_mean[policy] = mean.round(decimals=2)\n",
    "        row_std[policy] = std.round(decimals=2)\n",
    "    mean_policy_acp = mean_policy_acp.append(row_mean,\n",
    "                ignore_index=True)\n",
    "    std_policy_acp = std_policy_acp.append(row_std,\n",
    "                ignore_index=True)\n",
    "\n",
    "for df in [mean_policy_acp, std_policy_acp]:\n",
    "    df.sort_values(ascending=False, by='POLICIES_no_policy', inplace=True)\n",
    "    df.replace({'MR': groups_cols.abm_dummies_show})\n",
    "\n",
    "mean_policy_acp = mean_policy_acp.replace(groups_cols.abm_dummies_show).rename(columns=groups_cols.abm_dummies_show)\n",
    "std_policy_acp = std_policy_acp.replace(groups_cols.abm_dummies_show).rename(columns=groups_cols.abm_dummies_show)"
   ],
   "metadata": {
    "collapsed": false,
    "pycharm": {
     "name": "#%%\n"
    }
   }
  },
  {
   "cell_type": "code",
   "execution_count": 5,
   "outputs": [
    {
     "data": {
      "text/plain": "                    MR  Policy: none  Policy: buy  Policy: rent  Policy: wage\n1       Belo Horizonte        100.00       -90.58          0.00          0.00\n7            São Paulo         29.84        -1.14         -0.90          7.23\n44      Rio de Janeiro         27.38        -0.12          1.11          1.33\n8            Joinville         19.43       -14.26          7.67          8.91\n9         Campo Grande         18.63       -15.02         10.02          8.91\n41             Pelotas         18.58       -15.81         10.24         10.71\n15         João Pessoa         18.47       -14.78         10.11          8.97\n17              Maceio         18.43       -15.06          9.84          9.83\n22             Maringá         18.14       -14.33         10.16         10.86\n42  Petrolina-Juazeiro         18.11       -13.97          9.16          9.25\n34               Crato         17.92       -15.45          9.81         10.55\n11    Feira de Santana         17.88       -14.90         10.29          9.08\n0                  all         17.87       -14.25         13.16         15.05\n24              Cuiabá         17.59       -14.91         10.70         10.21\n21          Uberlandia         17.57       -13.62         10.73         10.39\n14            Sorocaba         17.56       -14.45         11.14         10.60\n18                 SJC         17.54       -14.21         10.55          9.59\n28              Manaus         17.30       -14.58         11.94         11.14\n46       Volta Redonda         17.23       -14.12          9.72         11.38\n12            Ipatinga         17.22       -14.61         11.26         11.34\n26               NH-SL         17.21       -14.78         10.61         11.06\n23             Vitória         17.18       -14.97         11.86         10.99\n6               Recife         17.02       -14.62         11.65         10.69\n31      Campina Grande         16.96       -14.73         12.92         11.15\n13            Londrina         16.77       -13.63         11.96         11.48\n40               Natal         16.62       -14.53         10.81         11.59\n36       Florianópolis         16.50       -13.53         12.25         11.57\n19      Ilheus-Itabuna         16.50       -14.49         12.57         12.52\n38        Juiz de Fora         16.40       -12.68         11.81         10.90\n27            Teresina         16.21       -14.34         12.15         12.15\n39              Macapá         16.15       -13.75         11.67         12.36\n43      Ribeirão Preto         16.08       -14.28         12.20         12.16\n30             Aracaju         15.87       -13.97         11.93         11.73\n37             Goiânia         15.86       -14.32         13.58         12.45\n32              Campos         15.83       -13.76         13.06         11.73\n20            Sao Luis         15.73       -13.54         13.22         11.61\n33       Caxias do Sul         15.71       -13.06         13.46         11.89\n5             Salvador         15.04       -14.01         13.83         13.62\n45              Santos         14.67       -13.48         13.20         13.62\n10             Jundiai         14.56       -12.39         13.91         15.50\n16                SJRP         14.36       -12.68         13.23         14.07\n2            Fortaleza         13.99       -12.79         14.26         13.88\n35            Curitiba         12.37       -12.30         71.55         79.85\n25               Belém          8.00        -8.00         19.12         61.69\n3         Porto Alegre          4.62        -4.47         13.50         14.24\n4             Campinas          0.94        -0.94         63.56         97.53\n29            Brasília          0.00         0.00          0.00          0.00",
      "text/html": "<div>\n<style scoped>\n    .dataframe tbody tr th:only-of-type {\n        vertical-align: middle;\n    }\n\n    .dataframe tbody tr th {\n        vertical-align: top;\n    }\n\n    .dataframe thead th {\n        text-align: right;\n    }\n</style>\n<table border=\"1\" class=\"dataframe\">\n  <thead>\n    <tr style=\"text-align: right;\">\n      <th></th>\n      <th>MR</th>\n      <th>Policy: none</th>\n      <th>Policy: buy</th>\n      <th>Policy: rent</th>\n      <th>Policy: wage</th>\n    </tr>\n  </thead>\n  <tbody>\n    <tr>\n      <th>1</th>\n      <td>Belo Horizonte</td>\n      <td>100.00</td>\n      <td>-90.58</td>\n      <td>0.00</td>\n      <td>0.00</td>\n    </tr>\n    <tr>\n      <th>7</th>\n      <td>São Paulo</td>\n      <td>29.84</td>\n      <td>-1.14</td>\n      <td>-0.90</td>\n      <td>7.23</td>\n    </tr>\n    <tr>\n      <th>44</th>\n      <td>Rio de Janeiro</td>\n      <td>27.38</td>\n      <td>-0.12</td>\n      <td>1.11</td>\n      <td>1.33</td>\n    </tr>\n    <tr>\n      <th>8</th>\n      <td>Joinville</td>\n      <td>19.43</td>\n      <td>-14.26</td>\n      <td>7.67</td>\n      <td>8.91</td>\n    </tr>\n    <tr>\n      <th>9</th>\n      <td>Campo Grande</td>\n      <td>18.63</td>\n      <td>-15.02</td>\n      <td>10.02</td>\n      <td>8.91</td>\n    </tr>\n    <tr>\n      <th>41</th>\n      <td>Pelotas</td>\n      <td>18.58</td>\n      <td>-15.81</td>\n      <td>10.24</td>\n      <td>10.71</td>\n    </tr>\n    <tr>\n      <th>15</th>\n      <td>João Pessoa</td>\n      <td>18.47</td>\n      <td>-14.78</td>\n      <td>10.11</td>\n      <td>8.97</td>\n    </tr>\n    <tr>\n      <th>17</th>\n      <td>Maceio</td>\n      <td>18.43</td>\n      <td>-15.06</td>\n      <td>9.84</td>\n      <td>9.83</td>\n    </tr>\n    <tr>\n      <th>22</th>\n      <td>Maringá</td>\n      <td>18.14</td>\n      <td>-14.33</td>\n      <td>10.16</td>\n      <td>10.86</td>\n    </tr>\n    <tr>\n      <th>42</th>\n      <td>Petrolina-Juazeiro</td>\n      <td>18.11</td>\n      <td>-13.97</td>\n      <td>9.16</td>\n      <td>9.25</td>\n    </tr>\n    <tr>\n      <th>34</th>\n      <td>Crato</td>\n      <td>17.92</td>\n      <td>-15.45</td>\n      <td>9.81</td>\n      <td>10.55</td>\n    </tr>\n    <tr>\n      <th>11</th>\n      <td>Feira de Santana</td>\n      <td>17.88</td>\n      <td>-14.90</td>\n      <td>10.29</td>\n      <td>9.08</td>\n    </tr>\n    <tr>\n      <th>0</th>\n      <td>all</td>\n      <td>17.87</td>\n      <td>-14.25</td>\n      <td>13.16</td>\n      <td>15.05</td>\n    </tr>\n    <tr>\n      <th>24</th>\n      <td>Cuiabá</td>\n      <td>17.59</td>\n      <td>-14.91</td>\n      <td>10.70</td>\n      <td>10.21</td>\n    </tr>\n    <tr>\n      <th>21</th>\n      <td>Uberlandia</td>\n      <td>17.57</td>\n      <td>-13.62</td>\n      <td>10.73</td>\n      <td>10.39</td>\n    </tr>\n    <tr>\n      <th>14</th>\n      <td>Sorocaba</td>\n      <td>17.56</td>\n      <td>-14.45</td>\n      <td>11.14</td>\n      <td>10.60</td>\n    </tr>\n    <tr>\n      <th>18</th>\n      <td>SJC</td>\n      <td>17.54</td>\n      <td>-14.21</td>\n      <td>10.55</td>\n      <td>9.59</td>\n    </tr>\n    <tr>\n      <th>28</th>\n      <td>Manaus</td>\n      <td>17.30</td>\n      <td>-14.58</td>\n      <td>11.94</td>\n      <td>11.14</td>\n    </tr>\n    <tr>\n      <th>46</th>\n      <td>Volta Redonda</td>\n      <td>17.23</td>\n      <td>-14.12</td>\n      <td>9.72</td>\n      <td>11.38</td>\n    </tr>\n    <tr>\n      <th>12</th>\n      <td>Ipatinga</td>\n      <td>17.22</td>\n      <td>-14.61</td>\n      <td>11.26</td>\n      <td>11.34</td>\n    </tr>\n    <tr>\n      <th>26</th>\n      <td>NH-SL</td>\n      <td>17.21</td>\n      <td>-14.78</td>\n      <td>10.61</td>\n      <td>11.06</td>\n    </tr>\n    <tr>\n      <th>23</th>\n      <td>Vitória</td>\n      <td>17.18</td>\n      <td>-14.97</td>\n      <td>11.86</td>\n      <td>10.99</td>\n    </tr>\n    <tr>\n      <th>6</th>\n      <td>Recife</td>\n      <td>17.02</td>\n      <td>-14.62</td>\n      <td>11.65</td>\n      <td>10.69</td>\n    </tr>\n    <tr>\n      <th>31</th>\n      <td>Campina Grande</td>\n      <td>16.96</td>\n      <td>-14.73</td>\n      <td>12.92</td>\n      <td>11.15</td>\n    </tr>\n    <tr>\n      <th>13</th>\n      <td>Londrina</td>\n      <td>16.77</td>\n      <td>-13.63</td>\n      <td>11.96</td>\n      <td>11.48</td>\n    </tr>\n    <tr>\n      <th>40</th>\n      <td>Natal</td>\n      <td>16.62</td>\n      <td>-14.53</td>\n      <td>10.81</td>\n      <td>11.59</td>\n    </tr>\n    <tr>\n      <th>36</th>\n      <td>Florianópolis</td>\n      <td>16.50</td>\n      <td>-13.53</td>\n      <td>12.25</td>\n      <td>11.57</td>\n    </tr>\n    <tr>\n      <th>19</th>\n      <td>Ilheus-Itabuna</td>\n      <td>16.50</td>\n      <td>-14.49</td>\n      <td>12.57</td>\n      <td>12.52</td>\n    </tr>\n    <tr>\n      <th>38</th>\n      <td>Juiz de Fora</td>\n      <td>16.40</td>\n      <td>-12.68</td>\n      <td>11.81</td>\n      <td>10.90</td>\n    </tr>\n    <tr>\n      <th>27</th>\n      <td>Teresina</td>\n      <td>16.21</td>\n      <td>-14.34</td>\n      <td>12.15</td>\n      <td>12.15</td>\n    </tr>\n    <tr>\n      <th>39</th>\n      <td>Macapá</td>\n      <td>16.15</td>\n      <td>-13.75</td>\n      <td>11.67</td>\n      <td>12.36</td>\n    </tr>\n    <tr>\n      <th>43</th>\n      <td>Ribeirão Preto</td>\n      <td>16.08</td>\n      <td>-14.28</td>\n      <td>12.20</td>\n      <td>12.16</td>\n    </tr>\n    <tr>\n      <th>30</th>\n      <td>Aracaju</td>\n      <td>15.87</td>\n      <td>-13.97</td>\n      <td>11.93</td>\n      <td>11.73</td>\n    </tr>\n    <tr>\n      <th>37</th>\n      <td>Goiânia</td>\n      <td>15.86</td>\n      <td>-14.32</td>\n      <td>13.58</td>\n      <td>12.45</td>\n    </tr>\n    <tr>\n      <th>32</th>\n      <td>Campos</td>\n      <td>15.83</td>\n      <td>-13.76</td>\n      <td>13.06</td>\n      <td>11.73</td>\n    </tr>\n    <tr>\n      <th>20</th>\n      <td>Sao Luis</td>\n      <td>15.73</td>\n      <td>-13.54</td>\n      <td>13.22</td>\n      <td>11.61</td>\n    </tr>\n    <tr>\n      <th>33</th>\n      <td>Caxias do Sul</td>\n      <td>15.71</td>\n      <td>-13.06</td>\n      <td>13.46</td>\n      <td>11.89</td>\n    </tr>\n    <tr>\n      <th>5</th>\n      <td>Salvador</td>\n      <td>15.04</td>\n      <td>-14.01</td>\n      <td>13.83</td>\n      <td>13.62</td>\n    </tr>\n    <tr>\n      <th>45</th>\n      <td>Santos</td>\n      <td>14.67</td>\n      <td>-13.48</td>\n      <td>13.20</td>\n      <td>13.62</td>\n    </tr>\n    <tr>\n      <th>10</th>\n      <td>Jundiai</td>\n      <td>14.56</td>\n      <td>-12.39</td>\n      <td>13.91</td>\n      <td>15.50</td>\n    </tr>\n    <tr>\n      <th>16</th>\n      <td>SJRP</td>\n      <td>14.36</td>\n      <td>-12.68</td>\n      <td>13.23</td>\n      <td>14.07</td>\n    </tr>\n    <tr>\n      <th>2</th>\n      <td>Fortaleza</td>\n      <td>13.99</td>\n      <td>-12.79</td>\n      <td>14.26</td>\n      <td>13.88</td>\n    </tr>\n    <tr>\n      <th>35</th>\n      <td>Curitiba</td>\n      <td>12.37</td>\n      <td>-12.30</td>\n      <td>71.55</td>\n      <td>79.85</td>\n    </tr>\n    <tr>\n      <th>25</th>\n      <td>Belém</td>\n      <td>8.00</td>\n      <td>-8.00</td>\n      <td>19.12</td>\n      <td>61.69</td>\n    </tr>\n    <tr>\n      <th>3</th>\n      <td>Porto Alegre</td>\n      <td>4.62</td>\n      <td>-4.47</td>\n      <td>13.50</td>\n      <td>14.24</td>\n    </tr>\n    <tr>\n      <th>4</th>\n      <td>Campinas</td>\n      <td>0.94</td>\n      <td>-0.94</td>\n      <td>63.56</td>\n      <td>97.53</td>\n    </tr>\n    <tr>\n      <th>29</th>\n      <td>Brasília</td>\n      <td>0.00</td>\n      <td>0.00</td>\n      <td>0.00</td>\n      <td>0.00</td>\n    </tr>\n  </tbody>\n</table>\n</div>"
     },
     "execution_count": 5,
     "metadata": {},
     "output_type": "execute_result"
    }
   ],
   "source": [
    "mean_policy_acp"
   ],
   "metadata": {
    "collapsed": false,
    "pycharm": {
     "name": "#%%\n"
    }
   }
  },
  {
   "cell_type": "code",
   "execution_count": 6,
   "outputs": [
    {
     "data": {
      "text/plain": "                    MR  Policy: none  Policy: buy  Policy: rent  Policy: wage\n7            São Paulo         45.75        -0.51         -0.40          2.55\n44      Rio de Janeiro         44.59        -0.06          0.55          0.65\n8            Joinville         39.56       -17.41          4.89          5.51\n9         Campo Grande         38.94       -20.30          6.27          5.73\n41             Pelotas         38.90       -22.48          6.39          6.61\n15         João Pessoa         38.80       -19.95          6.38          5.82\n17              Maceio         38.78       -20.74          6.25          6.25\n22             Maringá         38.54       -19.39          6.51          6.84\n42  Petrolina-Juazeiro         38.51       -18.59          6.02          6.07\n34               Crato         38.35       -22.82          6.42          6.78\n11    Feira de Santana         38.32       -21.31          6.66          6.05\n0                  all         38.31       -19.63          7.95          8.68\n24              Cuiabá         38.08       -21.93          6.96          6.72\n21          Uberlandia         38.06       -18.59          6.99          6.82\n14            Sorocaba         38.05       -20.70          7.19          6.93\n18                 SJC         38.03       -20.09          6.91          6.43\n28              Manaus         37.82       -21.56          7.67          7.29\n46       Volta Redonda         37.77       -20.41          6.60          7.42\n12            Ipatinga         37.75       -21.81          7.38          7.42\n26               NH-SL         37.75       -22.36          7.06          7.28\n23             Vitória         37.72       -23.02          7.68          7.26\n6               Recife         37.58       -22.28          7.64          7.18\n31      Campina Grande         37.53       -22.75          8.24          7.42\n13            Londrina         37.36       -19.91          7.89          7.66\n40               Natal         37.23       -22.91          7.39          7.77\n36       Florianópolis         37.12       -20.15          8.14          7.81\n19      Ilheus-Itabuna         37.11       -23.08          8.30          8.28\n38        Juiz de Fora         37.03       -18.12          7.97          7.52\n27            Teresina         36.85       -23.30          8.22          8.23\n39              Macapá         36.80       -21.49          8.01          8.35\n43      Ribeirão Preto         36.74       -23.44          8.29          8.28\n30             Aracaju         36.54       -22.87          8.26          8.16\n37             Goiânia         36.53       -24.20          9.05          8.52\n32              Campos         36.50       -22.25          8.82          8.18\n20            Sao Luis         36.41       -21.76          8.94          8.16\n33       Caxias do Sul         36.39       -20.32          9.06          8.31\n5             Salvador         35.75       -25.64          9.57          9.47\n45              Santos         35.38       -24.54          9.45          9.66\n10             Jundiai         35.27       -20.71          9.86         10.58\n16                SJRP         35.07       -22.23          9.63         10.04\n2            Fortaleza         34.69       -23.80         10.33         10.15\n35            Curitiba         32.92       -30.22          3.81         -6.13\n25               Belém         27.12       -27.12         17.34         18.84\n3         Porto Alegre         20.99       -17.11         17.53         18.13\n4             Campinas          9.63        -9.63         38.22          2.64\n29            Brasília          0.00         0.00          0.00          0.00\n1       Belo Horizonte          0.00        29.21          0.00          0.00",
      "text/html": "<div>\n<style scoped>\n    .dataframe tbody tr th:only-of-type {\n        vertical-align: middle;\n    }\n\n    .dataframe tbody tr th {\n        vertical-align: top;\n    }\n\n    .dataframe thead th {\n        text-align: right;\n    }\n</style>\n<table border=\"1\" class=\"dataframe\">\n  <thead>\n    <tr style=\"text-align: right;\">\n      <th></th>\n      <th>MR</th>\n      <th>Policy: none</th>\n      <th>Policy: buy</th>\n      <th>Policy: rent</th>\n      <th>Policy: wage</th>\n    </tr>\n  </thead>\n  <tbody>\n    <tr>\n      <th>7</th>\n      <td>São Paulo</td>\n      <td>45.75</td>\n      <td>-0.51</td>\n      <td>-0.40</td>\n      <td>2.55</td>\n    </tr>\n    <tr>\n      <th>44</th>\n      <td>Rio de Janeiro</td>\n      <td>44.59</td>\n      <td>-0.06</td>\n      <td>0.55</td>\n      <td>0.65</td>\n    </tr>\n    <tr>\n      <th>8</th>\n      <td>Joinville</td>\n      <td>39.56</td>\n      <td>-17.41</td>\n      <td>4.89</td>\n      <td>5.51</td>\n    </tr>\n    <tr>\n      <th>9</th>\n      <td>Campo Grande</td>\n      <td>38.94</td>\n      <td>-20.30</td>\n      <td>6.27</td>\n      <td>5.73</td>\n    </tr>\n    <tr>\n      <th>41</th>\n      <td>Pelotas</td>\n      <td>38.90</td>\n      <td>-22.48</td>\n      <td>6.39</td>\n      <td>6.61</td>\n    </tr>\n    <tr>\n      <th>15</th>\n      <td>João Pessoa</td>\n      <td>38.80</td>\n      <td>-19.95</td>\n      <td>6.38</td>\n      <td>5.82</td>\n    </tr>\n    <tr>\n      <th>17</th>\n      <td>Maceio</td>\n      <td>38.78</td>\n      <td>-20.74</td>\n      <td>6.25</td>\n      <td>6.25</td>\n    </tr>\n    <tr>\n      <th>22</th>\n      <td>Maringá</td>\n      <td>38.54</td>\n      <td>-19.39</td>\n      <td>6.51</td>\n      <td>6.84</td>\n    </tr>\n    <tr>\n      <th>42</th>\n      <td>Petrolina-Juazeiro</td>\n      <td>38.51</td>\n      <td>-18.59</td>\n      <td>6.02</td>\n      <td>6.07</td>\n    </tr>\n    <tr>\n      <th>34</th>\n      <td>Crato</td>\n      <td>38.35</td>\n      <td>-22.82</td>\n      <td>6.42</td>\n      <td>6.78</td>\n    </tr>\n    <tr>\n      <th>11</th>\n      <td>Feira de Santana</td>\n      <td>38.32</td>\n      <td>-21.31</td>\n      <td>6.66</td>\n      <td>6.05</td>\n    </tr>\n    <tr>\n      <th>0</th>\n      <td>all</td>\n      <td>38.31</td>\n      <td>-19.63</td>\n      <td>7.95</td>\n      <td>8.68</td>\n    </tr>\n    <tr>\n      <th>24</th>\n      <td>Cuiabá</td>\n      <td>38.08</td>\n      <td>-21.93</td>\n      <td>6.96</td>\n      <td>6.72</td>\n    </tr>\n    <tr>\n      <th>21</th>\n      <td>Uberlandia</td>\n      <td>38.06</td>\n      <td>-18.59</td>\n      <td>6.99</td>\n      <td>6.82</td>\n    </tr>\n    <tr>\n      <th>14</th>\n      <td>Sorocaba</td>\n      <td>38.05</td>\n      <td>-20.70</td>\n      <td>7.19</td>\n      <td>6.93</td>\n    </tr>\n    <tr>\n      <th>18</th>\n      <td>SJC</td>\n      <td>38.03</td>\n      <td>-20.09</td>\n      <td>6.91</td>\n      <td>6.43</td>\n    </tr>\n    <tr>\n      <th>28</th>\n      <td>Manaus</td>\n      <td>37.82</td>\n      <td>-21.56</td>\n      <td>7.67</td>\n      <td>7.29</td>\n    </tr>\n    <tr>\n      <th>46</th>\n      <td>Volta Redonda</td>\n      <td>37.77</td>\n      <td>-20.41</td>\n      <td>6.60</td>\n      <td>7.42</td>\n    </tr>\n    <tr>\n      <th>12</th>\n      <td>Ipatinga</td>\n      <td>37.75</td>\n      <td>-21.81</td>\n      <td>7.38</td>\n      <td>7.42</td>\n    </tr>\n    <tr>\n      <th>26</th>\n      <td>NH-SL</td>\n      <td>37.75</td>\n      <td>-22.36</td>\n      <td>7.06</td>\n      <td>7.28</td>\n    </tr>\n    <tr>\n      <th>23</th>\n      <td>Vitória</td>\n      <td>37.72</td>\n      <td>-23.02</td>\n      <td>7.68</td>\n      <td>7.26</td>\n    </tr>\n    <tr>\n      <th>6</th>\n      <td>Recife</td>\n      <td>37.58</td>\n      <td>-22.28</td>\n      <td>7.64</td>\n      <td>7.18</td>\n    </tr>\n    <tr>\n      <th>31</th>\n      <td>Campina Grande</td>\n      <td>37.53</td>\n      <td>-22.75</td>\n      <td>8.24</td>\n      <td>7.42</td>\n    </tr>\n    <tr>\n      <th>13</th>\n      <td>Londrina</td>\n      <td>37.36</td>\n      <td>-19.91</td>\n      <td>7.89</td>\n      <td>7.66</td>\n    </tr>\n    <tr>\n      <th>40</th>\n      <td>Natal</td>\n      <td>37.23</td>\n      <td>-22.91</td>\n      <td>7.39</td>\n      <td>7.77</td>\n    </tr>\n    <tr>\n      <th>36</th>\n      <td>Florianópolis</td>\n      <td>37.12</td>\n      <td>-20.15</td>\n      <td>8.14</td>\n      <td>7.81</td>\n    </tr>\n    <tr>\n      <th>19</th>\n      <td>Ilheus-Itabuna</td>\n      <td>37.11</td>\n      <td>-23.08</td>\n      <td>8.30</td>\n      <td>8.28</td>\n    </tr>\n    <tr>\n      <th>38</th>\n      <td>Juiz de Fora</td>\n      <td>37.03</td>\n      <td>-18.12</td>\n      <td>7.97</td>\n      <td>7.52</td>\n    </tr>\n    <tr>\n      <th>27</th>\n      <td>Teresina</td>\n      <td>36.85</td>\n      <td>-23.30</td>\n      <td>8.22</td>\n      <td>8.23</td>\n    </tr>\n    <tr>\n      <th>39</th>\n      <td>Macapá</td>\n      <td>36.80</td>\n      <td>-21.49</td>\n      <td>8.01</td>\n      <td>8.35</td>\n    </tr>\n    <tr>\n      <th>43</th>\n      <td>Ribeirão Preto</td>\n      <td>36.74</td>\n      <td>-23.44</td>\n      <td>8.29</td>\n      <td>8.28</td>\n    </tr>\n    <tr>\n      <th>30</th>\n      <td>Aracaju</td>\n      <td>36.54</td>\n      <td>-22.87</td>\n      <td>8.26</td>\n      <td>8.16</td>\n    </tr>\n    <tr>\n      <th>37</th>\n      <td>Goiânia</td>\n      <td>36.53</td>\n      <td>-24.20</td>\n      <td>9.05</td>\n      <td>8.52</td>\n    </tr>\n    <tr>\n      <th>32</th>\n      <td>Campos</td>\n      <td>36.50</td>\n      <td>-22.25</td>\n      <td>8.82</td>\n      <td>8.18</td>\n    </tr>\n    <tr>\n      <th>20</th>\n      <td>Sao Luis</td>\n      <td>36.41</td>\n      <td>-21.76</td>\n      <td>8.94</td>\n      <td>8.16</td>\n    </tr>\n    <tr>\n      <th>33</th>\n      <td>Caxias do Sul</td>\n      <td>36.39</td>\n      <td>-20.32</td>\n      <td>9.06</td>\n      <td>8.31</td>\n    </tr>\n    <tr>\n      <th>5</th>\n      <td>Salvador</td>\n      <td>35.75</td>\n      <td>-25.64</td>\n      <td>9.57</td>\n      <td>9.47</td>\n    </tr>\n    <tr>\n      <th>45</th>\n      <td>Santos</td>\n      <td>35.38</td>\n      <td>-24.54</td>\n      <td>9.45</td>\n      <td>9.66</td>\n    </tr>\n    <tr>\n      <th>10</th>\n      <td>Jundiai</td>\n      <td>35.27</td>\n      <td>-20.71</td>\n      <td>9.86</td>\n      <td>10.58</td>\n    </tr>\n    <tr>\n      <th>16</th>\n      <td>SJRP</td>\n      <td>35.07</td>\n      <td>-22.23</td>\n      <td>9.63</td>\n      <td>10.04</td>\n    </tr>\n    <tr>\n      <th>2</th>\n      <td>Fortaleza</td>\n      <td>34.69</td>\n      <td>-23.80</td>\n      <td>10.33</td>\n      <td>10.15</td>\n    </tr>\n    <tr>\n      <th>35</th>\n      <td>Curitiba</td>\n      <td>32.92</td>\n      <td>-30.22</td>\n      <td>3.81</td>\n      <td>-6.13</td>\n    </tr>\n    <tr>\n      <th>25</th>\n      <td>Belém</td>\n      <td>27.12</td>\n      <td>-27.12</td>\n      <td>17.34</td>\n      <td>18.84</td>\n    </tr>\n    <tr>\n      <th>3</th>\n      <td>Porto Alegre</td>\n      <td>20.99</td>\n      <td>-17.11</td>\n      <td>17.53</td>\n      <td>18.13</td>\n    </tr>\n    <tr>\n      <th>4</th>\n      <td>Campinas</td>\n      <td>9.63</td>\n      <td>-9.63</td>\n      <td>38.22</td>\n      <td>2.64</td>\n    </tr>\n    <tr>\n      <th>29</th>\n      <td>Brasília</td>\n      <td>0.00</td>\n      <td>0.00</td>\n      <td>0.00</td>\n      <td>0.00</td>\n    </tr>\n    <tr>\n      <th>1</th>\n      <td>Belo Horizonte</td>\n      <td>0.00</td>\n      <td>29.21</td>\n      <td>0.00</td>\n      <td>0.00</td>\n    </tr>\n  </tbody>\n</table>\n</div>"
     },
     "execution_count": 6,
     "metadata": {},
     "output_type": "execute_result"
    }
   ],
   "source": [
    "std_policy_acp"
   ],
   "metadata": {
    "collapsed": false,
    "pycharm": {
     "name": "#%%\n"
    }
   }
  },
  {
   "cell_type": "markdown",
   "source": [
    "### No policy is in absolute value (%) and all other columns are in percentage points of difference to the No policy case. NH-SL: Novo Hamburgo/Sao Leopoldo, SJRP: Sao Jose do Rio Preto, SJC: Sao Jose dos Campos"
   ],
   "metadata": {
    "collapsed": false
   }
  },
  {
   "cell_type": "markdown",
   "source": [
    "# Differences in dummies"
   ],
   "metadata": {
    "collapsed": false
   }
  },
  {
   "cell_type": "code",
   "execution_count": 7,
   "outputs": [],
   "source": [
    "current = pd.read_csv('../pre_processed_data/counting_Current.csv', sep=';').round(decimals=4)\n",
    "current #.replace({'Unnamed: 0': groups_cols.abm_dummies_show}, inplace=True)\n",
    "current = current.rename(columns={'Unnamed: 0' : 'Dummy'})\n",
    "current.sort_values(ascending=False, by='optimal', inplace=True)"
   ],
   "metadata": {
    "collapsed": false,
    "pycharm": {
     "name": "#%%\n"
    }
   }
  },
  {
   "cell_type": "code",
   "execution_count": 8,
   "outputs": [
    {
     "data": {
      "text/plain": "                                           Dummy    size  optimal  \\\n13                     PROCESSING_ACPS_SAO PAULO  0.0106   1.0000   \n7                 PROCESSING_ACPS_BELO HORIZONTE  0.0200   0.8108   \n50                PROCESSING_ACPS_RIO DE JANEIRO  0.0181   0.5473   \n41                      PROCESSING_ACPS_CURITIBA  0.0106   0.4786   \n10                      PROCESSING_ACPS_CAMPINAS  0.0200   0.3288   \n..                                           ...     ...      ...   \n9                   PROCESSING_ACPS_PORTO ALEGRE  0.0200   0.0000   \n32  PROCESSING_ACPS_NOVO HAMBURGO - SAO LEOPOLDO  0.0106   0.0000   \n33                      PROCESSING_ACPS_TERESINA  0.0106   0.0000   \n34                        PROCESSING_ACPS_MANAUS  0.0106   0.0000   \n37                PROCESSING_ACPS_CAMPINA GRANDE  0.0106   0.0000   \n\n    non_optimal  optimal_count  non_optimal_count  \n13       0.0000            117                  0  \n7        0.1892            180                 42  \n50       0.4527            110                 91  \n41       0.5214             56                 61  \n10       0.6712             73                149  \n..          ...            ...                ...  \n9        1.0000              0                222  \n32       1.0000              0                117  \n33       1.0000              0                117  \n34       1.0000              0                117  \n37       1.0000              0                117  \n\n[62 rows x 6 columns]",
      "text/html": "<div>\n<style scoped>\n    .dataframe tbody tr th:only-of-type {\n        vertical-align: middle;\n    }\n\n    .dataframe tbody tr th {\n        vertical-align: top;\n    }\n\n    .dataframe thead th {\n        text-align: right;\n    }\n</style>\n<table border=\"1\" class=\"dataframe\">\n  <thead>\n    <tr style=\"text-align: right;\">\n      <th></th>\n      <th>Dummy</th>\n      <th>size</th>\n      <th>optimal</th>\n      <th>non_optimal</th>\n      <th>optimal_count</th>\n      <th>non_optimal_count</th>\n    </tr>\n  </thead>\n  <tbody>\n    <tr>\n      <th>13</th>\n      <td>PROCESSING_ACPS_SAO PAULO</td>\n      <td>0.0106</td>\n      <td>1.0000</td>\n      <td>0.0000</td>\n      <td>117</td>\n      <td>0</td>\n    </tr>\n    <tr>\n      <th>7</th>\n      <td>PROCESSING_ACPS_BELO HORIZONTE</td>\n      <td>0.0200</td>\n      <td>0.8108</td>\n      <td>0.1892</td>\n      <td>180</td>\n      <td>42</td>\n    </tr>\n    <tr>\n      <th>50</th>\n      <td>PROCESSING_ACPS_RIO DE JANEIRO</td>\n      <td>0.0181</td>\n      <td>0.5473</td>\n      <td>0.4527</td>\n      <td>110</td>\n      <td>91</td>\n    </tr>\n    <tr>\n      <th>41</th>\n      <td>PROCESSING_ACPS_CURITIBA</td>\n      <td>0.0106</td>\n      <td>0.4786</td>\n      <td>0.5214</td>\n      <td>56</td>\n      <td>61</td>\n    </tr>\n    <tr>\n      <th>10</th>\n      <td>PROCESSING_ACPS_CAMPINAS</td>\n      <td>0.0200</td>\n      <td>0.3288</td>\n      <td>0.6712</td>\n      <td>73</td>\n      <td>149</td>\n    </tr>\n    <tr>\n      <th>...</th>\n      <td>...</td>\n      <td>...</td>\n      <td>...</td>\n      <td>...</td>\n      <td>...</td>\n      <td>...</td>\n    </tr>\n    <tr>\n      <th>9</th>\n      <td>PROCESSING_ACPS_PORTO ALEGRE</td>\n      <td>0.0200</td>\n      <td>0.0000</td>\n      <td>1.0000</td>\n      <td>0</td>\n      <td>222</td>\n    </tr>\n    <tr>\n      <th>32</th>\n      <td>PROCESSING_ACPS_NOVO HAMBURGO - SAO LEOPOLDO</td>\n      <td>0.0106</td>\n      <td>0.0000</td>\n      <td>1.0000</td>\n      <td>0</td>\n      <td>117</td>\n    </tr>\n    <tr>\n      <th>33</th>\n      <td>PROCESSING_ACPS_TERESINA</td>\n      <td>0.0106</td>\n      <td>0.0000</td>\n      <td>1.0000</td>\n      <td>0</td>\n      <td>117</td>\n    </tr>\n    <tr>\n      <th>34</th>\n      <td>PROCESSING_ACPS_MANAUS</td>\n      <td>0.0106</td>\n      <td>0.0000</td>\n      <td>1.0000</td>\n      <td>0</td>\n      <td>117</td>\n    </tr>\n    <tr>\n      <th>37</th>\n      <td>PROCESSING_ACPS_CAMPINA GRANDE</td>\n      <td>0.0106</td>\n      <td>0.0000</td>\n      <td>1.0000</td>\n      <td>0</td>\n      <td>117</td>\n    </tr>\n  </tbody>\n</table>\n<p>62 rows × 6 columns</p>\n</div>"
     },
     "execution_count": 8,
     "metadata": {},
     "output_type": "execute_result"
    }
   ],
   "source": [
    "current"
   ],
   "metadata": {
    "collapsed": false,
    "pycharm": {
     "name": "#%%\n"
    }
   }
  },
  {
   "cell_type": "code",
   "execution_count": 9,
   "outputs": [],
   "source": [
    "tree = pd.read_csv('../pre_processed_data/counting_Tree.csv', sep=';').round(decimals=4)\n",
    "tree #.replace({'Unnamed: 0': groups_cols.abm_dummies_show}, inplace=True)\n",
    "tree = tree.rename(columns={'Unnamed: 0' : 'Dummy'})\n",
    "tree.sort_values(ascending=False, by='optimal', inplace=True)"
   ],
   "metadata": {
    "collapsed": false,
    "pycharm": {
     "name": "#%%\n"
    }
   }
  },
  {
   "cell_type": "code",
   "execution_count": 10,
   "outputs": [
    {
     "data": {
      "text/plain": "                             Dummy    size  optimal  non_optimal  \\\n7   PROCESSING_ACPS_BELO HORIZONTE  0.0217   0.7706       0.2294   \n41        PROCESSING_ACPS_CURITIBA  0.0215   0.4699       0.5301   \n10        PROCESSING_ACPS_CAMPINAS  0.0218   0.4101       0.5899   \n2                    POLICIES_wage  0.2500   0.3292       0.6708   \n13       PROCESSING_ACPS_SAO PAULO  0.0219   0.3110       0.6890   \n..                             ...     ...      ...          ...   \n8        PROCESSING_ACPS_FORTALEZA  0.0217   0.1795       0.8205   \n3               POLICIES_no_policy  0.2493   0.1787       0.8213   \n9     PROCESSING_ACPS_PORTO ALEGRE  0.0220   0.1052       0.8948   \n0                     POLICIES_buy  0.2506   0.0362       0.9638   \n35        PROCESSING_ACPS_BRASILIA  0.0219   0.0000       1.0000   \n\n    optimal_count  non_optimal_count  \n7           16698               4970  \n41          10112              11407  \n10           8943              12866  \n2           82308             167707  \n13           6814              15098  \n..            ...                ...  \n8            3891              17786  \n3           44542             204781  \n9            2313              19664  \n0            9070             241522  \n35              0              21898  \n\n[62 rows x 6 columns]",
      "text/html": "<div>\n<style scoped>\n    .dataframe tbody tr th:only-of-type {\n        vertical-align: middle;\n    }\n\n    .dataframe tbody tr th {\n        vertical-align: top;\n    }\n\n    .dataframe thead th {\n        text-align: right;\n    }\n</style>\n<table border=\"1\" class=\"dataframe\">\n  <thead>\n    <tr style=\"text-align: right;\">\n      <th></th>\n      <th>Dummy</th>\n      <th>size</th>\n      <th>optimal</th>\n      <th>non_optimal</th>\n      <th>optimal_count</th>\n      <th>non_optimal_count</th>\n    </tr>\n  </thead>\n  <tbody>\n    <tr>\n      <th>7</th>\n      <td>PROCESSING_ACPS_BELO HORIZONTE</td>\n      <td>0.0217</td>\n      <td>0.7706</td>\n      <td>0.2294</td>\n      <td>16698</td>\n      <td>4970</td>\n    </tr>\n    <tr>\n      <th>41</th>\n      <td>PROCESSING_ACPS_CURITIBA</td>\n      <td>0.0215</td>\n      <td>0.4699</td>\n      <td>0.5301</td>\n      <td>10112</td>\n      <td>11407</td>\n    </tr>\n    <tr>\n      <th>10</th>\n      <td>PROCESSING_ACPS_CAMPINAS</td>\n      <td>0.0218</td>\n      <td>0.4101</td>\n      <td>0.5899</td>\n      <td>8943</td>\n      <td>12866</td>\n    </tr>\n    <tr>\n      <th>2</th>\n      <td>POLICIES_wage</td>\n      <td>0.2500</td>\n      <td>0.3292</td>\n      <td>0.6708</td>\n      <td>82308</td>\n      <td>167707</td>\n    </tr>\n    <tr>\n      <th>13</th>\n      <td>PROCESSING_ACPS_SAO PAULO</td>\n      <td>0.0219</td>\n      <td>0.3110</td>\n      <td>0.6890</td>\n      <td>6814</td>\n      <td>15098</td>\n    </tr>\n    <tr>\n      <th>...</th>\n      <td>...</td>\n      <td>...</td>\n      <td>...</td>\n      <td>...</td>\n      <td>...</td>\n      <td>...</td>\n    </tr>\n    <tr>\n      <th>8</th>\n      <td>PROCESSING_ACPS_FORTALEZA</td>\n      <td>0.0217</td>\n      <td>0.1795</td>\n      <td>0.8205</td>\n      <td>3891</td>\n      <td>17786</td>\n    </tr>\n    <tr>\n      <th>3</th>\n      <td>POLICIES_no_policy</td>\n      <td>0.2493</td>\n      <td>0.1787</td>\n      <td>0.8213</td>\n      <td>44542</td>\n      <td>204781</td>\n    </tr>\n    <tr>\n      <th>9</th>\n      <td>PROCESSING_ACPS_PORTO ALEGRE</td>\n      <td>0.0220</td>\n      <td>0.1052</td>\n      <td>0.8948</td>\n      <td>2313</td>\n      <td>19664</td>\n    </tr>\n    <tr>\n      <th>0</th>\n      <td>POLICIES_buy</td>\n      <td>0.2506</td>\n      <td>0.0362</td>\n      <td>0.9638</td>\n      <td>9070</td>\n      <td>241522</td>\n    </tr>\n    <tr>\n      <th>35</th>\n      <td>PROCESSING_ACPS_BRASILIA</td>\n      <td>0.0219</td>\n      <td>0.0000</td>\n      <td>1.0000</td>\n      <td>0</td>\n      <td>21898</td>\n    </tr>\n  </tbody>\n</table>\n<p>62 rows × 6 columns</p>\n</div>"
     },
     "execution_count": 10,
     "metadata": {},
     "output_type": "execute_result"
    }
   ],
   "source": [
    "tree"
   ],
   "metadata": {
    "collapsed": false,
    "pycharm": {
     "name": "#%%\n"
    }
   }
  },
  {
   "cell_type": "markdown",
   "source": [
    "## differences in non-acp dummies"
   ],
   "metadata": {
    "collapsed": false,
    "pycharm": {
     "name": "#%% md\n"
    }
   }
  },
  {
   "cell_type": "code",
   "execution_count": 11,
   "outputs": [],
   "source": [
    "SON = pd.DataFrame()\n",
    "SON_acp = SON.copy()"
   ],
   "metadata": {
    "collapsed": false,
    "pycharm": {
     "name": "#%%\n"
    }
   }
  },
  {
   "cell_type": "code",
   "execution_count": 12,
   "outputs": [
    {
     "data": {
      "text/plain": "['POLICIES_buy',\n 'POLICIES_rent',\n 'POLICIES_wage',\n 'POLICIES_no_policy',\n 'T_LICENSES_PER_REGION_False',\n 'T_LICENSES_PER_REGION_True',\n 'T_LICENSES_PER_REGION_random',\n 'STARTING_DAY_2000-01-01',\n 'STARTING_DAY_2010-01-01',\n 'FPM_DISTRIBUTION_False',\n 'FPM_DISTRIBUTION_True',\n 'ALTERNATIVE0_False',\n 'ALTERNATIVE0_True',\n 'INTEREST_fixed',\n 'INTEREST_real',\n 'INTEREST_nominal']"
     },
     "execution_count": 12,
     "metadata": {},
     "output_type": "execute_result"
    }
   ],
   "source": [
    "dummies = list(groups_cols.abm_dummies_show.keys())\n",
    "dummies = [elem for elem in dummies if elem not in groups_cols.abm_dummies[\"acps\"]]\n",
    "dummies"
   ],
   "metadata": {
    "collapsed": false,
    "pycharm": {
     "name": "#%%\n"
    }
   }
  },
  {
   "cell_type": "code",
   "execution_count": 13,
   "outputs": [
    {
     "name": "stdout",
     "output_type": "stream",
     "text": [
      "{'Dummy': 'POLICIES_buy', 'Size: sur': 25.06, 'Size: ABM': 12.19, 'Opt: sur': 3.62, 'Opt: ABM': 2.59, 'Non-opt: sur': 96.38, 'Non-opt: ABM': 97.41}\n",
      "{'Dummy': 'POLICIES_rent', 'Size: sur': 25.009999999999998, 'Size: ABM': 12.19, 'Opt: sur': 31.03, 'Opt: ABM': 10.37, 'Non-opt: sur': 68.97, 'Non-opt: ABM': 89.63}\n",
      "{'Dummy': 'POLICIES_wage', 'Size: sur': 25.0, 'Size: ABM': 12.19, 'Opt: sur': 32.92, 'Opt: ABM': 13.930000000000001, 'Non-opt: sur': 67.08, 'Non-opt: ABM': 86.07000000000001}\n",
      "{'Dummy': 'POLICIES_no_policy', 'Size: sur': 24.93, 'Size: ABM': 63.43, 'Opt: sur': 17.87, 'Opt: ABM': 3.91, 'Non-opt: sur': 82.13000000000001, 'Non-opt: ABM': 96.09}\n",
      "{'Dummy': 'PROCESSING_ACPS_BELO HORIZONTE', 'Size: sur': 2.17, 'Size: ABM': 2.0, 'Opt: sur': 77.06, 'Opt: ABM': 81.08, 'Non-opt: sur': 22.939999999999998, 'Non-opt: ABM': 18.92}\n",
      "{'Dummy': 'PROCESSING_ACPS_FORTALEZA', 'Size: sur': 2.17, 'Size: ABM': 2.0, 'Opt: sur': 17.95, 'Opt: ABM': 3.15, 'Non-opt: sur': 82.05, 'Non-opt: ABM': 96.85000000000001}\n",
      "{'Dummy': 'PROCESSING_ACPS_PORTO ALEGRE', 'Size: sur': 2.1999999999999997, 'Size: ABM': 2.0, 'Opt: sur': 10.52, 'Opt: ABM': 0.0, 'Non-opt: sur': 89.48, 'Non-opt: ABM': 100.0}\n",
      "{'Dummy': 'PROCESSING_ACPS_CAMPINAS', 'Size: sur': 2.18, 'Size: ABM': 2.0, 'Opt: sur': 41.010000000000005, 'Opt: ABM': 32.879999999999995, 'Non-opt: sur': 58.989999999999995, 'Non-opt: ABM': 67.12}\n",
      "{'Dummy': 'PROCESSING_ACPS_SALVADOR', 'Size: sur': 2.17, 'Size: ABM': 1.06, 'Opt: sur': 18.27, 'Opt: ABM': 11.110000000000001, 'Non-opt: sur': 81.73, 'Non-opt: ABM': 88.89}\n",
      "{'Dummy': 'PROCESSING_ACPS_RECIFE', 'Size: sur': 2.17, 'Size: ABM': 1.06, 'Opt: sur': 18.92, 'Opt: ABM': 0.0, 'Non-opt: sur': 81.08, 'Non-opt: ABM': 100.0}\n",
      "{'Dummy': 'PROCESSING_ACPS_SAO PAULO', 'Size: sur': 2.19, 'Size: ABM': 1.06, 'Opt: sur': 31.1, 'Opt: ABM': 100.0, 'Non-opt: sur': 68.89999999999999, 'Non-opt: ABM': 0.0}\n",
      "{'Dummy': 'PROCESSING_ACPS_JOINVILLE', 'Size: sur': 2.16, 'Size: ABM': 0.3, 'Opt: sur': 19.99, 'Opt: ABM': 0.0, 'Non-opt: sur': 80.01, 'Non-opt: ABM': 100.0}\n",
      "{'Dummy': 'PROCESSING_ACPS_CAMPO GRANDE', 'Size: sur': 2.15, 'Size: ABM': 1.06, 'Opt: sur': 19.54, 'Opt: ABM': 0.0, 'Non-opt: sur': 80.46, 'Non-opt: ABM': 100.0}\n",
      "{'Dummy': 'PROCESSING_ACPS_JUNDIAI', 'Size: sur': 2.18, 'Size: ABM': 1.06, 'Opt: sur': 18.8, 'Opt: ABM': 0.0, 'Non-opt: sur': 81.2, 'Non-opt: ABM': 100.0}\n",
      "{'Dummy': 'PROCESSING_ACPS_FEIRA DE SANTANA', 'Size: sur': 2.16, 'Size: ABM': 1.06, 'Opt: sur': 18.89, 'Opt: ABM': 0.0, 'Non-opt: sur': 81.11, 'Non-opt: ABM': 100.0}\n",
      "{'Dummy': 'PROCESSING_ACPS_IPATINGA', 'Size: sur': 2.17, 'Size: ABM': 1.06, 'Opt: sur': 19.25, 'Opt: ABM': 0.0, 'Non-opt: sur': 80.75, 'Non-opt: ABM': 100.0}\n",
      "{'Dummy': 'PROCESSING_ACPS_LONDRINA', 'Size: sur': 2.18, 'Size: ABM': 1.06, 'Opt: sur': 19.24, 'Opt: ABM': 0.0, 'Non-opt: sur': 80.76, 'Non-opt: ABM': 100.0}\n",
      "{'Dummy': 'PROCESSING_ACPS_SOROCABA', 'Size: sur': 2.17, 'Size: ABM': 1.06, 'Opt: sur': 19.259999999999998, 'Opt: ABM': 0.0, 'Non-opt: sur': 80.74, 'Non-opt: ABM': 100.0}\n",
      "{'Dummy': 'PROCESSING_ACPS_JOAO PESSOA', 'Size: sur': 2.18, 'Size: ABM': 1.06, 'Opt: sur': 19.52, 'Opt: ABM': 0.0, 'Non-opt: sur': 80.47999999999999, 'Non-opt: ABM': 100.0}\n",
      "{'Dummy': 'PROCESSING_ACPS_SAO JOSE DO RIO PRETO', 'Size: sur': 2.17, 'Size: ABM': 1.06, 'Opt: sur': 17.97, 'Opt: ABM': 0.0, 'Non-opt: sur': 82.03, 'Non-opt: ABM': 100.0}\n",
      "{'Dummy': 'PROCESSING_ACPS_MACEIO', 'Size: sur': 2.16, 'Size: ABM': 1.06, 'Opt: sur': 19.66, 'Opt: ABM': 0.0, 'Non-opt: sur': 80.34, 'Non-opt: ABM': 100.0}\n",
      "{'Dummy': 'PROCESSING_ACPS_SAO JOSE DOS CAMPOS', 'Size: sur': 2.18, 'Size: ABM': 1.06, 'Opt: sur': 18.95, 'Opt: ABM': 0.0, 'Non-opt: sur': 81.05, 'Non-opt: ABM': 100.0}\n",
      "{'Dummy': 'PROCESSING_ACPS_ILHEUS - ITABUNA', 'Size: sur': 2.18, 'Size: ABM': 1.06, 'Opt: sur': 19.2, 'Opt: ABM': 0.0, 'Non-opt: sur': 80.80000000000001, 'Non-opt: ABM': 100.0}\n",
      "{'Dummy': 'PROCESSING_ACPS_SAO LUIS', 'Size: sur': 2.17, 'Size: ABM': 1.06, 'Opt: sur': 18.529999999999998, 'Opt: ABM': 0.0, 'Non-opt: sur': 81.47, 'Non-opt: ABM': 100.0}\n",
      "{'Dummy': 'PROCESSING_ACPS_UBERLANDIA', 'Size: sur': 2.18, 'Size: ABM': 1.06, 'Opt: sur': 19.43, 'Opt: ABM': 0.0, 'Non-opt: sur': 80.57, 'Non-opt: ABM': 100.0}\n",
      "{'Dummy': 'PROCESSING_ACPS_MARINGA', 'Size: sur': 2.16, 'Size: ABM': 1.06, 'Opt: sur': 19.900000000000002, 'Opt: ABM': 0.0, 'Non-opt: sur': 80.10000000000001, 'Non-opt: ABM': 100.0}\n",
      "{'Dummy': 'PROCESSING_ACPS_VITORIA', 'Size: sur': 2.1999999999999997, 'Size: ABM': 1.06, 'Opt: sur': 19.2, 'Opt: ABM': 0.0, 'Non-opt: sur': 80.80000000000001, 'Non-opt: ABM': 100.0}\n",
      "{'Dummy': 'PROCESSING_ACPS_CUIABA', 'Size: sur': 2.16, 'Size: ABM': 1.06, 'Opt: sur': 19.1, 'Opt: ABM': 0.0, 'Non-opt: sur': 80.9, 'Non-opt: ABM': 100.0}\n",
      "{'Dummy': 'PROCESSING_ACPS_BELEM', 'Size: sur': 2.18, 'Size: ABM': 1.06, 'Opt: sur': 26.490000000000002, 'Opt: ABM': 21.37, 'Non-opt: sur': 73.50999999999999, 'Non-opt: ABM': 78.63}\n",
      "{'Dummy': 'PROCESSING_ACPS_NOVO HAMBURGO - SAO LEOPOLDO', 'Size: sur': 2.16, 'Size: ABM': 1.06, 'Opt: sur': 18.98, 'Opt: ABM': 0.0, 'Non-opt: sur': 81.02000000000001, 'Non-opt: ABM': 100.0}\n",
      "{'Dummy': 'PROCESSING_ACPS_TERESINA', 'Size: sur': 2.19, 'Size: ABM': 1.06, 'Opt: sur': 18.81, 'Opt: ABM': 0.0, 'Non-opt: sur': 81.19, 'Non-opt: ABM': 100.0}\n",
      "{'Dummy': 'PROCESSING_ACPS_MANAUS', 'Size: sur': 2.17, 'Size: ABM': 1.06, 'Opt: sur': 19.42, 'Opt: ABM': 0.0, 'Non-opt: sur': 80.58, 'Non-opt: ABM': 100.0}\n",
      "{'Dummy': 'PROCESSING_ACPS_BRASILIA', 'Size: sur': 2.19, 'Size: ABM': 48.67, 'Opt: sur': 0.0, 'Opt: ABM': 1.06, 'Non-opt: sur': 100.0, 'Non-opt: ABM': 98.94}\n",
      "{'Dummy': 'T_LICENSES_PER_REGION_False', 'Size: sur': 33.43, 'Size: ABM': 0.19, 'Opt: sur': 21.36, 'Opt: ABM': 0.0, 'Non-opt: sur': 78.64, 'Non-opt: ABM': 100.0}\n",
      "{'Dummy': 'T_LICENSES_PER_REGION_True', 'Size: sur': 33.23, 'Size: ABM': 0.19, 'Opt: sur': 21.38, 'Opt: ABM': 0.0, 'Non-opt: sur': 78.62, 'Non-opt: ABM': 100.0}\n",
      "{'Dummy': 'T_LICENSES_PER_REGION_random', 'Size: sur': 33.339999999999996, 'Size: ABM': 99.62, 'Opt: sur': 21.32, 'Opt: ABM': 5.779999999999999, 'Non-opt: sur': 78.68, 'Non-opt: ABM': 94.22}\n",
      "{'Dummy': 'STARTING_DAY_2000-01-01', 'Size: sur': 49.99, 'Size: ABM': 0.76, 'Opt: sur': 21.26, 'Opt: ABM': 0.0, 'Non-opt: sur': 78.74, 'Non-opt: ABM': 100.0}\n",
      "{'Dummy': 'STARTING_DAY_2010-01-01', 'Size: sur': 50.01, 'Size: ABM': 99.24, 'Opt: sur': 21.45, 'Opt: ABM': 5.800000000000001, 'Non-opt: sur': 78.55, 'Non-opt: ABM': 94.19999999999999}\n",
      "{'Dummy': 'FPM_DISTRIBUTION_False', 'Size: sur': 49.97, 'Size: ABM': 0.38, 'Opt: sur': 21.310000000000002, 'Opt: ABM': 0.0, 'Non-opt: sur': 78.69, 'Non-opt: ABM': 100.0}\n",
      "{'Dummy': 'FPM_DISTRIBUTION_True', 'Size: sur': 50.029999999999994, 'Size: ABM': 99.62, 'Opt: sur': 21.4, 'Opt: ABM': 5.779999999999999, 'Non-opt: sur': 78.60000000000001, 'Non-opt: ABM': 94.22}\n",
      "{'Dummy': 'ALTERNATIVE0_False', 'Size: sur': 49.919999999999995, 'Size: ABM': 0.38, 'Opt: sur': 21.29, 'Opt: ABM': 0.0, 'Non-opt: sur': 78.71000000000001, 'Non-opt: ABM': 100.0}\n",
      "{'Dummy': 'ALTERNATIVE0_True', 'Size: sur': 50.080000000000005, 'Size: ABM': 99.62, 'Opt: sur': 21.42, 'Opt: ABM': 5.779999999999999, 'Non-opt: sur': 78.58000000000001, 'Non-opt: ABM': 94.22}\n",
      "{'Dummy': 'INTEREST_fixed', 'Size: sur': 33.35, 'Size: ABM': 0.19, 'Opt: sur': 21.37, 'Opt: ABM': 0.0, 'Non-opt: sur': 78.63, 'Non-opt: ABM': 100.0}\n",
      "{'Dummy': 'INTEREST_real', 'Size: sur': 33.33, 'Size: ABM': 99.62, 'Opt: sur': 21.37, 'Opt: ABM': 5.779999999999999, 'Non-opt: sur': 78.63, 'Non-opt: ABM': 94.22}\n",
      "{'Dummy': 'INTEREST_nominal', 'Size: sur': 33.32, 'Size: ABM': 0.19, 'Opt: sur': 21.32, 'Opt: ABM': 0.0, 'Non-opt: sur': 78.68, 'Non-opt: ABM': 100.0}\n",
      "{'Dummy': 'PROCESSING_ACPS_ARACAJU', 'Size: sur': 2.21, 'Size: ABM': 1.06, 'Opt: sur': 18.16, 'Opt: ABM': 0.0, 'Non-opt: sur': 81.84, 'Non-opt: ABM': 100.0}\n",
      "{'Dummy': 'PROCESSING_ACPS_CAMPINA GRANDE', 'Size: sur': 2.16, 'Size: ABM': 1.06, 'Opt: sur': 19.29, 'Opt: ABM': 0.0, 'Non-opt: sur': 80.71000000000001, 'Non-opt: ABM': 100.0}\n",
      "{'Dummy': 'PROCESSING_ACPS_CAMPOS DOS GOYTACAZES', 'Size: sur': 2.17, 'Size: ABM': 1.06, 'Opt: sur': 18.41, 'Opt: ABM': 0.0, 'Non-opt: sur': 81.58999999999999, 'Non-opt: ABM': 100.0}\n",
      "{'Dummy': 'PROCESSING_ACPS_CAXIAS DO SUL', 'Size: sur': 2.18, 'Size: ABM': 1.06, 'Opt: sur': 18.94, 'Opt: ABM': 0.0, 'Non-opt: sur': 81.06, 'Non-opt: ABM': 100.0}\n",
      "{'Dummy': 'PROCESSING_ACPS_CRAJUBAR', 'Size: sur': 2.18, 'Size: ABM': 1.06, 'Opt: sur': 19.07, 'Opt: ABM': 0.0, 'Non-opt: sur': 80.93, 'Non-opt: ABM': 100.0}\n",
      "{'Dummy': 'PROCESSING_ACPS_CURITIBA', 'Size: sur': 2.15, 'Size: ABM': 1.06, 'Opt: sur': 46.989999999999995, 'Opt: ABM': 47.86, 'Non-opt: sur': 53.010000000000005, 'Non-opt: ABM': 52.14}\n",
      "{'Dummy': 'PROCESSING_ACPS_FLORIANOPOLIS', 'Size: sur': 2.18, 'Size: ABM': 1.06, 'Opt: sur': 19.18, 'Opt: ABM': 0.0, 'Non-opt: sur': 80.82000000000001, 'Non-opt: ABM': 100.0}\n",
      "{'Dummy': 'PROCESSING_ACPS_GOIANIA', 'Size: sur': 2.16, 'Size: ABM': 1.06, 'Opt: sur': 18.759999999999998, 'Opt: ABM': 0.0, 'Non-opt: sur': 81.24, 'Non-opt: ABM': 100.0}\n",
      "{'Dummy': 'PROCESSING_ACPS_JUIZ DE FORA', 'Size: sur': 2.16, 'Size: ABM': 1.06, 'Opt: sur': 18.78, 'Opt: ABM': 0.0, 'Non-opt: sur': 81.22, 'Non-opt: ABM': 100.0}\n",
      "{'Dummy': 'PROCESSING_ACPS_MACAPA', 'Size: sur': 2.18, 'Size: ABM': 1.06, 'Opt: sur': 18.82, 'Opt: ABM': 0.0, 'Non-opt: sur': 81.17999999999999, 'Non-opt: ABM': 100.0}\n",
      "{'Dummy': 'PROCESSING_ACPS_NATAL', 'Size: sur': 2.19, 'Size: ABM': 1.06, 'Opt: sur': 18.54, 'Opt: ABM': 0.0, 'Non-opt: sur': 81.46, 'Non-opt: ABM': 100.0}\n",
      "{'Dummy': 'PROCESSING_ACPS_PELOTAS - RIO GRANDE', 'Size: sur': 2.16, 'Size: ABM': 1.06, 'Opt: sur': 19.81, 'Opt: ABM': 0.0, 'Non-opt: sur': 80.19, 'Non-opt: ABM': 100.0}\n",
      "{'Dummy': 'PROCESSING_ACPS_PETROLINA - JUAZEIRO', 'Size: sur': 2.18, 'Size: ABM': 1.06, 'Opt: sur': 19.21, 'Opt: ABM': 0.0, 'Non-opt: sur': 80.78999999999999, 'Non-opt: ABM': 100.0}\n",
      "{'Dummy': 'PROCESSING_ACPS_RIBEIRAO PRETO', 'Size: sur': 2.16, 'Size: ABM': 1.06, 'Opt: sur': 18.73, 'Opt: ABM': 0.0, 'Non-opt: sur': 81.27, 'Non-opt: ABM': 100.0}\n",
      "{'Dummy': 'PROCESSING_ACPS_RIO DE JANEIRO', 'Size: sur': 2.19, 'Size: ABM': 1.81, 'Opt: sur': 27.950000000000003, 'Opt: ABM': 54.730000000000004, 'Non-opt: sur': 72.05, 'Non-opt: ABM': 45.269999999999996}\n",
      "{'Dummy': 'PROCESSING_ACPS_SANTOS', 'Size: sur': 2.17, 'Size: ABM': 1.06, 'Opt: sur': 18.01, 'Opt: ABM': 0.0, 'Non-opt: sur': 81.99, 'Non-opt: ABM': 100.0}\n",
      "{'Dummy': 'PROCESSING_ACPS_VOLTA REDONDA - BARRA MANSA', 'Size: sur': 2.16, 'Size: ABM': 1.06, 'Opt: sur': 19.07, 'Opt: ABM': 0.0, 'Non-opt: sur': 80.93, 'Non-opt: ABM': 100.0}\n"
     ]
    }
   ],
   "source": [
    "for key in list(groups_cols.abm_dummies_show.keys()):\n",
    "    to_add = {'Dummy' : key,\n",
    "              'Size: sur': tree.loc[(tree['Dummy'] == key)]['size'].values[0]*100,\n",
    "              'Size: ABM': current.loc[(tree['Dummy'] == key)]['size'].values[0]*100,\n",
    "              'Opt: sur': tree.loc[(tree['Dummy'] == key)]['optimal'].values[0]*100,\n",
    "              'Opt: ABM': current.loc[(tree['Dummy'] == key)]['optimal'].values[0]*100,\n",
    "              'Non-opt: sur': tree.loc[(tree['Dummy'] == key)]['non_optimal'].values[0]*100,\n",
    "              'Non-opt: ABM': current.loc[(tree['Dummy'] == key)]['non_optimal'].values[0]*100\n",
    "    }\n",
    "    print(to_add)\n",
    "\n",
    "    if key in groups_cols.abm_dummies[\"acps\"]:\n",
    "        SON_acp = SON_acp.append(to_add, ignore_index=True)\n",
    "    else:\n",
    "        SON = SON.append(to_add, ignore_index=True)\n",
    "\n",
    "SON = SON.replace(groups_cols.abm_dummies_show)\n",
    "SON_acp = SON_acp.replace(groups_cols.abm_dummies_show)"
   ],
   "metadata": {
    "collapsed": false,
    "pycharm": {
     "name": "#%%\n"
    }
   }
  },
  {
   "cell_type": "code",
   "execution_count": 14,
   "outputs": [
    {
     "data": {
      "text/plain": "                  Dummy  Size: sur  Size: ABM  Opt: sur  Opt: ABM  \\\n0           Policy: buy      25.06      12.19      3.62      2.59   \n1          Policy: rent      25.01      12.19     31.03     10.37   \n2          Policy: wage      25.00      12.19     32.92     13.93   \n3          Policy: none      24.93      63.43     17.87      3.91   \n4       Licenses: False      33.43       0.19     21.36      0.00   \n5        Licenses: True      33.23       0.19     21.38      0.00   \n6      Licenses: Random      33.34      99.62     21.32      5.78   \n7             Jan. 2000      49.99       0.76     21.26      0.00   \n8             Jan. 2010      50.01      99.24     21.45      5.80   \n9            FPM: False      49.97       0.38     21.31      0.00   \n10            FPM: True      50.03      99.62     21.40      5.78   \n11  Alternative0: False      49.92       0.38     21.29      0.00   \n12   Alternative0: True      50.08      99.62     21.42      5.78   \n13      Interest: fixed      33.35       0.19     21.37      0.00   \n14       Interest: real      33.33      99.62     21.37      5.78   \n15    Interest: nominal      33.32       0.19     21.32      0.00   \n\n    Non-opt: sur  Non-opt: ABM  \n0          96.38         97.41  \n1          68.97         89.63  \n2          67.08         86.07  \n3          82.13         96.09  \n4          78.64        100.00  \n5          78.62        100.00  \n6          78.68         94.22  \n7          78.74        100.00  \n8          78.55         94.20  \n9          78.69        100.00  \n10         78.60         94.22  \n11         78.71        100.00  \n12         78.58         94.22  \n13         78.63        100.00  \n14         78.63         94.22  \n15         78.68        100.00  ",
      "text/html": "<div>\n<style scoped>\n    .dataframe tbody tr th:only-of-type {\n        vertical-align: middle;\n    }\n\n    .dataframe tbody tr th {\n        vertical-align: top;\n    }\n\n    .dataframe thead th {\n        text-align: right;\n    }\n</style>\n<table border=\"1\" class=\"dataframe\">\n  <thead>\n    <tr style=\"text-align: right;\">\n      <th></th>\n      <th>Dummy</th>\n      <th>Size: sur</th>\n      <th>Size: ABM</th>\n      <th>Opt: sur</th>\n      <th>Opt: ABM</th>\n      <th>Non-opt: sur</th>\n      <th>Non-opt: ABM</th>\n    </tr>\n  </thead>\n  <tbody>\n    <tr>\n      <th>0</th>\n      <td>Policy: buy</td>\n      <td>25.06</td>\n      <td>12.19</td>\n      <td>3.62</td>\n      <td>2.59</td>\n      <td>96.38</td>\n      <td>97.41</td>\n    </tr>\n    <tr>\n      <th>1</th>\n      <td>Policy: rent</td>\n      <td>25.01</td>\n      <td>12.19</td>\n      <td>31.03</td>\n      <td>10.37</td>\n      <td>68.97</td>\n      <td>89.63</td>\n    </tr>\n    <tr>\n      <th>2</th>\n      <td>Policy: wage</td>\n      <td>25.00</td>\n      <td>12.19</td>\n      <td>32.92</td>\n      <td>13.93</td>\n      <td>67.08</td>\n      <td>86.07</td>\n    </tr>\n    <tr>\n      <th>3</th>\n      <td>Policy: none</td>\n      <td>24.93</td>\n      <td>63.43</td>\n      <td>17.87</td>\n      <td>3.91</td>\n      <td>82.13</td>\n      <td>96.09</td>\n    </tr>\n    <tr>\n      <th>4</th>\n      <td>Licenses: False</td>\n      <td>33.43</td>\n      <td>0.19</td>\n      <td>21.36</td>\n      <td>0.00</td>\n      <td>78.64</td>\n      <td>100.00</td>\n    </tr>\n    <tr>\n      <th>5</th>\n      <td>Licenses: True</td>\n      <td>33.23</td>\n      <td>0.19</td>\n      <td>21.38</td>\n      <td>0.00</td>\n      <td>78.62</td>\n      <td>100.00</td>\n    </tr>\n    <tr>\n      <th>6</th>\n      <td>Licenses: Random</td>\n      <td>33.34</td>\n      <td>99.62</td>\n      <td>21.32</td>\n      <td>5.78</td>\n      <td>78.68</td>\n      <td>94.22</td>\n    </tr>\n    <tr>\n      <th>7</th>\n      <td>Jan. 2000</td>\n      <td>49.99</td>\n      <td>0.76</td>\n      <td>21.26</td>\n      <td>0.00</td>\n      <td>78.74</td>\n      <td>100.00</td>\n    </tr>\n    <tr>\n      <th>8</th>\n      <td>Jan. 2010</td>\n      <td>50.01</td>\n      <td>99.24</td>\n      <td>21.45</td>\n      <td>5.80</td>\n      <td>78.55</td>\n      <td>94.20</td>\n    </tr>\n    <tr>\n      <th>9</th>\n      <td>FPM: False</td>\n      <td>49.97</td>\n      <td>0.38</td>\n      <td>21.31</td>\n      <td>0.00</td>\n      <td>78.69</td>\n      <td>100.00</td>\n    </tr>\n    <tr>\n      <th>10</th>\n      <td>FPM: True</td>\n      <td>50.03</td>\n      <td>99.62</td>\n      <td>21.40</td>\n      <td>5.78</td>\n      <td>78.60</td>\n      <td>94.22</td>\n    </tr>\n    <tr>\n      <th>11</th>\n      <td>Alternative0: False</td>\n      <td>49.92</td>\n      <td>0.38</td>\n      <td>21.29</td>\n      <td>0.00</td>\n      <td>78.71</td>\n      <td>100.00</td>\n    </tr>\n    <tr>\n      <th>12</th>\n      <td>Alternative0: True</td>\n      <td>50.08</td>\n      <td>99.62</td>\n      <td>21.42</td>\n      <td>5.78</td>\n      <td>78.58</td>\n      <td>94.22</td>\n    </tr>\n    <tr>\n      <th>13</th>\n      <td>Interest: fixed</td>\n      <td>33.35</td>\n      <td>0.19</td>\n      <td>21.37</td>\n      <td>0.00</td>\n      <td>78.63</td>\n      <td>100.00</td>\n    </tr>\n    <tr>\n      <th>14</th>\n      <td>Interest: real</td>\n      <td>33.33</td>\n      <td>99.62</td>\n      <td>21.37</td>\n      <td>5.78</td>\n      <td>78.63</td>\n      <td>94.22</td>\n    </tr>\n    <tr>\n      <th>15</th>\n      <td>Interest: nominal</td>\n      <td>33.32</td>\n      <td>0.19</td>\n      <td>21.32</td>\n      <td>0.00</td>\n      <td>78.68</td>\n      <td>100.00</td>\n    </tr>\n  </tbody>\n</table>\n</div>"
     },
     "execution_count": 14,
     "metadata": {},
     "output_type": "execute_result"
    }
   ],
   "source": [
    "SON"
   ],
   "metadata": {
    "collapsed": false,
    "pycharm": {
     "name": "#%%\n"
    }
   }
  },
  {
   "cell_type": "code",
   "execution_count": 15,
   "outputs": [],
   "source": [
    "SON.sort_values(by='Dummy', inplace=True)\n",
    "SON_acp.sort_values(by='Dummy', inplace=True)"
   ],
   "metadata": {
    "collapsed": false,
    "pycharm": {
     "name": "#%%\n"
    }
   }
  },
  {
   "cell_type": "code",
   "execution_count": 16,
   "outputs": [
    {
     "data": {
      "text/plain": "                  Dummy  Size: sur  Size: ABM  Opt: sur  Opt: ABM  \\\n11  Alternative0: False      49.92       0.38     21.29      0.00   \n12   Alternative0: True      50.08      99.62     21.42      5.78   \n9            FPM: False      49.97       0.38     21.31      0.00   \n10            FPM: True      50.03      99.62     21.40      5.78   \n13      Interest: fixed      33.35       0.19     21.37      0.00   \n15    Interest: nominal      33.32       0.19     21.32      0.00   \n14       Interest: real      33.33      99.62     21.37      5.78   \n7             Jan. 2000      49.99       0.76     21.26      0.00   \n8             Jan. 2010      50.01      99.24     21.45      5.80   \n4       Licenses: False      33.43       0.19     21.36      0.00   \n6      Licenses: Random      33.34      99.62     21.32      5.78   \n5        Licenses: True      33.23       0.19     21.38      0.00   \n0           Policy: buy      25.06      12.19      3.62      2.59   \n3          Policy: none      24.93      63.43     17.87      3.91   \n1          Policy: rent      25.01      12.19     31.03     10.37   \n2          Policy: wage      25.00      12.19     32.92     13.93   \n\n    Non-opt: sur  Non-opt: ABM  \n11         78.71        100.00  \n12         78.58         94.22  \n9          78.69        100.00  \n10         78.60         94.22  \n13         78.63        100.00  \n15         78.68        100.00  \n14         78.63         94.22  \n7          78.74        100.00  \n8          78.55         94.20  \n4          78.64        100.00  \n6          78.68         94.22  \n5          78.62        100.00  \n0          96.38         97.41  \n3          82.13         96.09  \n1          68.97         89.63  \n2          67.08         86.07  ",
      "text/html": "<div>\n<style scoped>\n    .dataframe tbody tr th:only-of-type {\n        vertical-align: middle;\n    }\n\n    .dataframe tbody tr th {\n        vertical-align: top;\n    }\n\n    .dataframe thead th {\n        text-align: right;\n    }\n</style>\n<table border=\"1\" class=\"dataframe\">\n  <thead>\n    <tr style=\"text-align: right;\">\n      <th></th>\n      <th>Dummy</th>\n      <th>Size: sur</th>\n      <th>Size: ABM</th>\n      <th>Opt: sur</th>\n      <th>Opt: ABM</th>\n      <th>Non-opt: sur</th>\n      <th>Non-opt: ABM</th>\n    </tr>\n  </thead>\n  <tbody>\n    <tr>\n      <th>11</th>\n      <td>Alternative0: False</td>\n      <td>49.92</td>\n      <td>0.38</td>\n      <td>21.29</td>\n      <td>0.00</td>\n      <td>78.71</td>\n      <td>100.00</td>\n    </tr>\n    <tr>\n      <th>12</th>\n      <td>Alternative0: True</td>\n      <td>50.08</td>\n      <td>99.62</td>\n      <td>21.42</td>\n      <td>5.78</td>\n      <td>78.58</td>\n      <td>94.22</td>\n    </tr>\n    <tr>\n      <th>9</th>\n      <td>FPM: False</td>\n      <td>49.97</td>\n      <td>0.38</td>\n      <td>21.31</td>\n      <td>0.00</td>\n      <td>78.69</td>\n      <td>100.00</td>\n    </tr>\n    <tr>\n      <th>10</th>\n      <td>FPM: True</td>\n      <td>50.03</td>\n      <td>99.62</td>\n      <td>21.40</td>\n      <td>5.78</td>\n      <td>78.60</td>\n      <td>94.22</td>\n    </tr>\n    <tr>\n      <th>13</th>\n      <td>Interest: fixed</td>\n      <td>33.35</td>\n      <td>0.19</td>\n      <td>21.37</td>\n      <td>0.00</td>\n      <td>78.63</td>\n      <td>100.00</td>\n    </tr>\n    <tr>\n      <th>15</th>\n      <td>Interest: nominal</td>\n      <td>33.32</td>\n      <td>0.19</td>\n      <td>21.32</td>\n      <td>0.00</td>\n      <td>78.68</td>\n      <td>100.00</td>\n    </tr>\n    <tr>\n      <th>14</th>\n      <td>Interest: real</td>\n      <td>33.33</td>\n      <td>99.62</td>\n      <td>21.37</td>\n      <td>5.78</td>\n      <td>78.63</td>\n      <td>94.22</td>\n    </tr>\n    <tr>\n      <th>7</th>\n      <td>Jan. 2000</td>\n      <td>49.99</td>\n      <td>0.76</td>\n      <td>21.26</td>\n      <td>0.00</td>\n      <td>78.74</td>\n      <td>100.00</td>\n    </tr>\n    <tr>\n      <th>8</th>\n      <td>Jan. 2010</td>\n      <td>50.01</td>\n      <td>99.24</td>\n      <td>21.45</td>\n      <td>5.80</td>\n      <td>78.55</td>\n      <td>94.20</td>\n    </tr>\n    <tr>\n      <th>4</th>\n      <td>Licenses: False</td>\n      <td>33.43</td>\n      <td>0.19</td>\n      <td>21.36</td>\n      <td>0.00</td>\n      <td>78.64</td>\n      <td>100.00</td>\n    </tr>\n    <tr>\n      <th>6</th>\n      <td>Licenses: Random</td>\n      <td>33.34</td>\n      <td>99.62</td>\n      <td>21.32</td>\n      <td>5.78</td>\n      <td>78.68</td>\n      <td>94.22</td>\n    </tr>\n    <tr>\n      <th>5</th>\n      <td>Licenses: True</td>\n      <td>33.23</td>\n      <td>0.19</td>\n      <td>21.38</td>\n      <td>0.00</td>\n      <td>78.62</td>\n      <td>100.00</td>\n    </tr>\n    <tr>\n      <th>0</th>\n      <td>Policy: buy</td>\n      <td>25.06</td>\n      <td>12.19</td>\n      <td>3.62</td>\n      <td>2.59</td>\n      <td>96.38</td>\n      <td>97.41</td>\n    </tr>\n    <tr>\n      <th>3</th>\n      <td>Policy: none</td>\n      <td>24.93</td>\n      <td>63.43</td>\n      <td>17.87</td>\n      <td>3.91</td>\n      <td>82.13</td>\n      <td>96.09</td>\n    </tr>\n    <tr>\n      <th>1</th>\n      <td>Policy: rent</td>\n      <td>25.01</td>\n      <td>12.19</td>\n      <td>31.03</td>\n      <td>10.37</td>\n      <td>68.97</td>\n      <td>89.63</td>\n    </tr>\n    <tr>\n      <th>2</th>\n      <td>Policy: wage</td>\n      <td>25.00</td>\n      <td>12.19</td>\n      <td>32.92</td>\n      <td>13.93</td>\n      <td>67.08</td>\n      <td>86.07</td>\n    </tr>\n  </tbody>\n</table>\n</div>"
     },
     "execution_count": 16,
     "metadata": {},
     "output_type": "execute_result"
    }
   ],
   "source": [
    "SON"
   ],
   "metadata": {
    "collapsed": false,
    "pycharm": {
     "name": "#%%\n"
    }
   }
  },
  {
   "cell_type": "code",
   "execution_count": 17,
   "outputs": [
    {
     "data": {
      "text/plain": "                 Dummy  Size: sur  Size: ABM  Opt: sur  Opt: ABM  \\\n29             Aracaju       2.21       1.06     18.16      0.00   \n0       Belo Horizonte       2.17       2.00     77.06     81.08   \n24               Belém       2.18       1.06     26.49     21.37   \n28            Brasília       2.19      48.67      0.00      1.06   \n30      Campina Grande       2.16       1.06     19.29      0.00   \n3             Campinas       2.18       2.00     41.01     32.88   \n8         Campo Grande       2.15       1.06     19.54      0.00   \n31              Campos       2.17       1.06     18.41      0.00   \n32       Caxias do Sul       2.18       1.06     18.94      0.00   \n33               Crato       2.18       1.06     19.07      0.00   \n23              Cuiabá       2.16       1.06     19.10      0.00   \n34            Curitiba       2.15       1.06     46.99     47.86   \n10    Feira de Santana       2.16       1.06     18.89      0.00   \n35       Florianópolis       2.18       1.06     19.18      0.00   \n1            Fortaleza       2.17       2.00     17.95      3.15   \n36             Goiânia       2.16       1.06     18.76      0.00   \n18      Ilheus-Itabuna       2.18       1.06     19.20      0.00   \n11            Ipatinga       2.17       1.06     19.25      0.00   \n7            Joinville       2.16       0.30     19.99      0.00   \n14         João Pessoa       2.18       1.06     19.52      0.00   \n37        Juiz de Fora       2.16       1.06     18.78      0.00   \n9              Jundiai       2.18       1.06     18.80      0.00   \n12            Londrina       2.18       1.06     19.24      0.00   \n38              Macapá       2.18       1.06     18.82      0.00   \n16              Maceio       2.16       1.06     19.66      0.00   \n27              Manaus       2.17       1.06     19.42      0.00   \n21             Maringá       2.16       1.06     19.90      0.00   \n25               NH-SL       2.16       1.06     18.98      0.00   \n39               Natal       2.19       1.06     18.54      0.00   \n40             Pelotas       2.16       1.06     19.81      0.00   \n41  Petrolina-Juazeiro       2.18       1.06     19.21      0.00   \n2         Porto Alegre       2.20       2.00     10.52      0.00   \n5               Recife       2.17       1.06     18.92      0.00   \n42      Ribeirão Preto       2.16       1.06     18.73      0.00   \n43      Rio de Janeiro       2.19       1.81     27.95     54.73   \n17                 SJC       2.18       1.06     18.95      0.00   \n15                SJRP       2.17       1.06     17.97      0.00   \n4             Salvador       2.17       1.06     18.27     11.11   \n44              Santos       2.17       1.06     18.01      0.00   \n19            Sao Luis       2.17       1.06     18.53      0.00   \n13            Sorocaba       2.17       1.06     19.26      0.00   \n6            São Paulo       2.19       1.06     31.10    100.00   \n26            Teresina       2.19       1.06     18.81      0.00   \n20          Uberlandia       2.18       1.06     19.43      0.00   \n22             Vitória       2.20       1.06     19.20      0.00   \n45       Volta Redonda       2.16       1.06     19.07      0.00   \n\n    Non-opt: sur  Non-opt: ABM  \n29         81.84        100.00  \n0          22.94         18.92  \n24         73.51         78.63  \n28        100.00         98.94  \n30         80.71        100.00  \n3          58.99         67.12  \n8          80.46        100.00  \n31         81.59        100.00  \n32         81.06        100.00  \n33         80.93        100.00  \n23         80.90        100.00  \n34         53.01         52.14  \n10         81.11        100.00  \n35         80.82        100.00  \n1          82.05         96.85  \n36         81.24        100.00  \n18         80.80        100.00  \n11         80.75        100.00  \n7          80.01        100.00  \n14         80.48        100.00  \n37         81.22        100.00  \n9          81.20        100.00  \n12         80.76        100.00  \n38         81.18        100.00  \n16         80.34        100.00  \n27         80.58        100.00  \n21         80.10        100.00  \n25         81.02        100.00  \n39         81.46        100.00  \n40         80.19        100.00  \n41         80.79        100.00  \n2          89.48        100.00  \n5          81.08        100.00  \n42         81.27        100.00  \n43         72.05         45.27  \n17         81.05        100.00  \n15         82.03        100.00  \n4          81.73         88.89  \n44         81.99        100.00  \n19         81.47        100.00  \n13         80.74        100.00  \n6          68.90          0.00  \n26         81.19        100.00  \n20         80.57        100.00  \n22         80.80        100.00  \n45         80.93        100.00  ",
      "text/html": "<div>\n<style scoped>\n    .dataframe tbody tr th:only-of-type {\n        vertical-align: middle;\n    }\n\n    .dataframe tbody tr th {\n        vertical-align: top;\n    }\n\n    .dataframe thead th {\n        text-align: right;\n    }\n</style>\n<table border=\"1\" class=\"dataframe\">\n  <thead>\n    <tr style=\"text-align: right;\">\n      <th></th>\n      <th>Dummy</th>\n      <th>Size: sur</th>\n      <th>Size: ABM</th>\n      <th>Opt: sur</th>\n      <th>Opt: ABM</th>\n      <th>Non-opt: sur</th>\n      <th>Non-opt: ABM</th>\n    </tr>\n  </thead>\n  <tbody>\n    <tr>\n      <th>29</th>\n      <td>Aracaju</td>\n      <td>2.21</td>\n      <td>1.06</td>\n      <td>18.16</td>\n      <td>0.00</td>\n      <td>81.84</td>\n      <td>100.00</td>\n    </tr>\n    <tr>\n      <th>0</th>\n      <td>Belo Horizonte</td>\n      <td>2.17</td>\n      <td>2.00</td>\n      <td>77.06</td>\n      <td>81.08</td>\n      <td>22.94</td>\n      <td>18.92</td>\n    </tr>\n    <tr>\n      <th>24</th>\n      <td>Belém</td>\n      <td>2.18</td>\n      <td>1.06</td>\n      <td>26.49</td>\n      <td>21.37</td>\n      <td>73.51</td>\n      <td>78.63</td>\n    </tr>\n    <tr>\n      <th>28</th>\n      <td>Brasília</td>\n      <td>2.19</td>\n      <td>48.67</td>\n      <td>0.00</td>\n      <td>1.06</td>\n      <td>100.00</td>\n      <td>98.94</td>\n    </tr>\n    <tr>\n      <th>30</th>\n      <td>Campina Grande</td>\n      <td>2.16</td>\n      <td>1.06</td>\n      <td>19.29</td>\n      <td>0.00</td>\n      <td>80.71</td>\n      <td>100.00</td>\n    </tr>\n    <tr>\n      <th>3</th>\n      <td>Campinas</td>\n      <td>2.18</td>\n      <td>2.00</td>\n      <td>41.01</td>\n      <td>32.88</td>\n      <td>58.99</td>\n      <td>67.12</td>\n    </tr>\n    <tr>\n      <th>8</th>\n      <td>Campo Grande</td>\n      <td>2.15</td>\n      <td>1.06</td>\n      <td>19.54</td>\n      <td>0.00</td>\n      <td>80.46</td>\n      <td>100.00</td>\n    </tr>\n    <tr>\n      <th>31</th>\n      <td>Campos</td>\n      <td>2.17</td>\n      <td>1.06</td>\n      <td>18.41</td>\n      <td>0.00</td>\n      <td>81.59</td>\n      <td>100.00</td>\n    </tr>\n    <tr>\n      <th>32</th>\n      <td>Caxias do Sul</td>\n      <td>2.18</td>\n      <td>1.06</td>\n      <td>18.94</td>\n      <td>0.00</td>\n      <td>81.06</td>\n      <td>100.00</td>\n    </tr>\n    <tr>\n      <th>33</th>\n      <td>Crato</td>\n      <td>2.18</td>\n      <td>1.06</td>\n      <td>19.07</td>\n      <td>0.00</td>\n      <td>80.93</td>\n      <td>100.00</td>\n    </tr>\n    <tr>\n      <th>23</th>\n      <td>Cuiabá</td>\n      <td>2.16</td>\n      <td>1.06</td>\n      <td>19.10</td>\n      <td>0.00</td>\n      <td>80.90</td>\n      <td>100.00</td>\n    </tr>\n    <tr>\n      <th>34</th>\n      <td>Curitiba</td>\n      <td>2.15</td>\n      <td>1.06</td>\n      <td>46.99</td>\n      <td>47.86</td>\n      <td>53.01</td>\n      <td>52.14</td>\n    </tr>\n    <tr>\n      <th>10</th>\n      <td>Feira de Santana</td>\n      <td>2.16</td>\n      <td>1.06</td>\n      <td>18.89</td>\n      <td>0.00</td>\n      <td>81.11</td>\n      <td>100.00</td>\n    </tr>\n    <tr>\n      <th>35</th>\n      <td>Florianópolis</td>\n      <td>2.18</td>\n      <td>1.06</td>\n      <td>19.18</td>\n      <td>0.00</td>\n      <td>80.82</td>\n      <td>100.00</td>\n    </tr>\n    <tr>\n      <th>1</th>\n      <td>Fortaleza</td>\n      <td>2.17</td>\n      <td>2.00</td>\n      <td>17.95</td>\n      <td>3.15</td>\n      <td>82.05</td>\n      <td>96.85</td>\n    </tr>\n    <tr>\n      <th>36</th>\n      <td>Goiânia</td>\n      <td>2.16</td>\n      <td>1.06</td>\n      <td>18.76</td>\n      <td>0.00</td>\n      <td>81.24</td>\n      <td>100.00</td>\n    </tr>\n    <tr>\n      <th>18</th>\n      <td>Ilheus-Itabuna</td>\n      <td>2.18</td>\n      <td>1.06</td>\n      <td>19.20</td>\n      <td>0.00</td>\n      <td>80.80</td>\n      <td>100.00</td>\n    </tr>\n    <tr>\n      <th>11</th>\n      <td>Ipatinga</td>\n      <td>2.17</td>\n      <td>1.06</td>\n      <td>19.25</td>\n      <td>0.00</td>\n      <td>80.75</td>\n      <td>100.00</td>\n    </tr>\n    <tr>\n      <th>7</th>\n      <td>Joinville</td>\n      <td>2.16</td>\n      <td>0.30</td>\n      <td>19.99</td>\n      <td>0.00</td>\n      <td>80.01</td>\n      <td>100.00</td>\n    </tr>\n    <tr>\n      <th>14</th>\n      <td>João Pessoa</td>\n      <td>2.18</td>\n      <td>1.06</td>\n      <td>19.52</td>\n      <td>0.00</td>\n      <td>80.48</td>\n      <td>100.00</td>\n    </tr>\n    <tr>\n      <th>37</th>\n      <td>Juiz de Fora</td>\n      <td>2.16</td>\n      <td>1.06</td>\n      <td>18.78</td>\n      <td>0.00</td>\n      <td>81.22</td>\n      <td>100.00</td>\n    </tr>\n    <tr>\n      <th>9</th>\n      <td>Jundiai</td>\n      <td>2.18</td>\n      <td>1.06</td>\n      <td>18.80</td>\n      <td>0.00</td>\n      <td>81.20</td>\n      <td>100.00</td>\n    </tr>\n    <tr>\n      <th>12</th>\n      <td>Londrina</td>\n      <td>2.18</td>\n      <td>1.06</td>\n      <td>19.24</td>\n      <td>0.00</td>\n      <td>80.76</td>\n      <td>100.00</td>\n    </tr>\n    <tr>\n      <th>38</th>\n      <td>Macapá</td>\n      <td>2.18</td>\n      <td>1.06</td>\n      <td>18.82</td>\n      <td>0.00</td>\n      <td>81.18</td>\n      <td>100.00</td>\n    </tr>\n    <tr>\n      <th>16</th>\n      <td>Maceio</td>\n      <td>2.16</td>\n      <td>1.06</td>\n      <td>19.66</td>\n      <td>0.00</td>\n      <td>80.34</td>\n      <td>100.00</td>\n    </tr>\n    <tr>\n      <th>27</th>\n      <td>Manaus</td>\n      <td>2.17</td>\n      <td>1.06</td>\n      <td>19.42</td>\n      <td>0.00</td>\n      <td>80.58</td>\n      <td>100.00</td>\n    </tr>\n    <tr>\n      <th>21</th>\n      <td>Maringá</td>\n      <td>2.16</td>\n      <td>1.06</td>\n      <td>19.90</td>\n      <td>0.00</td>\n      <td>80.10</td>\n      <td>100.00</td>\n    </tr>\n    <tr>\n      <th>25</th>\n      <td>NH-SL</td>\n      <td>2.16</td>\n      <td>1.06</td>\n      <td>18.98</td>\n      <td>0.00</td>\n      <td>81.02</td>\n      <td>100.00</td>\n    </tr>\n    <tr>\n      <th>39</th>\n      <td>Natal</td>\n      <td>2.19</td>\n      <td>1.06</td>\n      <td>18.54</td>\n      <td>0.00</td>\n      <td>81.46</td>\n      <td>100.00</td>\n    </tr>\n    <tr>\n      <th>40</th>\n      <td>Pelotas</td>\n      <td>2.16</td>\n      <td>1.06</td>\n      <td>19.81</td>\n      <td>0.00</td>\n      <td>80.19</td>\n      <td>100.00</td>\n    </tr>\n    <tr>\n      <th>41</th>\n      <td>Petrolina-Juazeiro</td>\n      <td>2.18</td>\n      <td>1.06</td>\n      <td>19.21</td>\n      <td>0.00</td>\n      <td>80.79</td>\n      <td>100.00</td>\n    </tr>\n    <tr>\n      <th>2</th>\n      <td>Porto Alegre</td>\n      <td>2.20</td>\n      <td>2.00</td>\n      <td>10.52</td>\n      <td>0.00</td>\n      <td>89.48</td>\n      <td>100.00</td>\n    </tr>\n    <tr>\n      <th>5</th>\n      <td>Recife</td>\n      <td>2.17</td>\n      <td>1.06</td>\n      <td>18.92</td>\n      <td>0.00</td>\n      <td>81.08</td>\n      <td>100.00</td>\n    </tr>\n    <tr>\n      <th>42</th>\n      <td>Ribeirão Preto</td>\n      <td>2.16</td>\n      <td>1.06</td>\n      <td>18.73</td>\n      <td>0.00</td>\n      <td>81.27</td>\n      <td>100.00</td>\n    </tr>\n    <tr>\n      <th>43</th>\n      <td>Rio de Janeiro</td>\n      <td>2.19</td>\n      <td>1.81</td>\n      <td>27.95</td>\n      <td>54.73</td>\n      <td>72.05</td>\n      <td>45.27</td>\n    </tr>\n    <tr>\n      <th>17</th>\n      <td>SJC</td>\n      <td>2.18</td>\n      <td>1.06</td>\n      <td>18.95</td>\n      <td>0.00</td>\n      <td>81.05</td>\n      <td>100.00</td>\n    </tr>\n    <tr>\n      <th>15</th>\n      <td>SJRP</td>\n      <td>2.17</td>\n      <td>1.06</td>\n      <td>17.97</td>\n      <td>0.00</td>\n      <td>82.03</td>\n      <td>100.00</td>\n    </tr>\n    <tr>\n      <th>4</th>\n      <td>Salvador</td>\n      <td>2.17</td>\n      <td>1.06</td>\n      <td>18.27</td>\n      <td>11.11</td>\n      <td>81.73</td>\n      <td>88.89</td>\n    </tr>\n    <tr>\n      <th>44</th>\n      <td>Santos</td>\n      <td>2.17</td>\n      <td>1.06</td>\n      <td>18.01</td>\n      <td>0.00</td>\n      <td>81.99</td>\n      <td>100.00</td>\n    </tr>\n    <tr>\n      <th>19</th>\n      <td>Sao Luis</td>\n      <td>2.17</td>\n      <td>1.06</td>\n      <td>18.53</td>\n      <td>0.00</td>\n      <td>81.47</td>\n      <td>100.00</td>\n    </tr>\n    <tr>\n      <th>13</th>\n      <td>Sorocaba</td>\n      <td>2.17</td>\n      <td>1.06</td>\n      <td>19.26</td>\n      <td>0.00</td>\n      <td>80.74</td>\n      <td>100.00</td>\n    </tr>\n    <tr>\n      <th>6</th>\n      <td>São Paulo</td>\n      <td>2.19</td>\n      <td>1.06</td>\n      <td>31.10</td>\n      <td>100.00</td>\n      <td>68.90</td>\n      <td>0.00</td>\n    </tr>\n    <tr>\n      <th>26</th>\n      <td>Teresina</td>\n      <td>2.19</td>\n      <td>1.06</td>\n      <td>18.81</td>\n      <td>0.00</td>\n      <td>81.19</td>\n      <td>100.00</td>\n    </tr>\n    <tr>\n      <th>20</th>\n      <td>Uberlandia</td>\n      <td>2.18</td>\n      <td>1.06</td>\n      <td>19.43</td>\n      <td>0.00</td>\n      <td>80.57</td>\n      <td>100.00</td>\n    </tr>\n    <tr>\n      <th>22</th>\n      <td>Vitória</td>\n      <td>2.20</td>\n      <td>1.06</td>\n      <td>19.20</td>\n      <td>0.00</td>\n      <td>80.80</td>\n      <td>100.00</td>\n    </tr>\n    <tr>\n      <th>45</th>\n      <td>Volta Redonda</td>\n      <td>2.16</td>\n      <td>1.06</td>\n      <td>19.07</td>\n      <td>0.00</td>\n      <td>80.93</td>\n      <td>100.00</td>\n    </tr>\n  </tbody>\n</table>\n</div>"
     },
     "execution_count": 17,
     "metadata": {},
     "output_type": "execute_result"
    }
   ],
   "source": [
    "SON_acp"
   ],
   "metadata": {
    "collapsed": false,
    "pycharm": {
     "name": "#%%\n"
    }
   }
  },
  {
   "cell_type": "markdown",
   "source": [
    "# Comparison of parameters"
   ],
   "metadata": {
    "collapsed": false
   }
  },
  {
   "cell_type": "code",
   "execution_count": 18,
   "outputs": [
    {
     "data": {
      "text/plain": "                           Unnamed: 0  simulated_optimal  ml_optimal  \\\n0                  HIRING_SAMPLE_SIZE             0.0026      0.0004   \n1                        LABOR_MARKET             0.0044      0.0017   \n2    LOAN_PAYMENT_TO_PERMANENT_INCOME             0.0022      0.0008   \n3                              MARKUP            -0.0000     -0.0002   \n4                   MAX_LOAN_TO_VALUE             0.0022      0.0003   \n5     MUNICIPAL_EFFICIENCY_MANAGEMENT            -0.0007     -0.0008   \n6                 NEIGHBORHOOD_EFFECT            -0.0468     -0.0014   \n7                 OFFER_SIZE_ON_PRICE             0.0000     -0.0005   \n8                 PCT_DISTANCE_HIRING            -0.0088     -0.0055   \n9               PERCENTAGE_ACTUAL_POP            -0.2009     -0.4203   \n10  PERCENTAGE_ENTERING_ESTATE_MARKET            -0.0583     -0.0122   \n11         PERCENT_CONSTRUCTION_FIRMS            -0.0057     -0.0008   \n12                 POLICY_COEFFICIENT            -0.0047     -0.0032   \n13                        POLICY_DAYS            -0.0642     -0.0326   \n14                    POLICY_QUANTILE            -0.0603     -0.0158   \n15               PRIVATE_TRANSIT_COST            -0.0000     -0.0009   \n16              PRODUCTIVITY_EXPONENT             0.0033      0.0003   \n17     PRODUCTIVITY_MAGNITUDE_DIVISOR            -0.0071     -0.0015   \n18                PUBLIC_TRANSIT_COST            -0.0504     -0.0265   \n19                        SIZE_MARKET            -0.0005      0.0001   \n20                      STICKY_PRICES            -0.0000     -0.0001   \n21             TAX_ESTATE_TRANSACTION             0.0027      0.0002   \n22                         TOTAL_DAYS            -0.0223     -0.0165   \n\n    difference  \n0       0.0021  \n1       0.0027  \n2       0.0014  \n3       0.0002  \n4       0.0019  \n5       0.0001  \n6      -0.0454  \n7       0.0005  \n8      -0.0032  \n9       0.2194  \n10     -0.0461  \n11     -0.0048  \n12     -0.0016  \n13     -0.0317  \n14     -0.0444  \n15      0.0009  \n16      0.0031  \n17     -0.0057  \n18     -0.0239  \n19     -0.0006  \n20      0.0001  \n21      0.0025  \n22     -0.0057  ",
      "text/html": "<div>\n<style scoped>\n    .dataframe tbody tr th:only-of-type {\n        vertical-align: middle;\n    }\n\n    .dataframe tbody tr th {\n        vertical-align: top;\n    }\n\n    .dataframe thead th {\n        text-align: right;\n    }\n</style>\n<table border=\"1\" class=\"dataframe\">\n  <thead>\n    <tr style=\"text-align: right;\">\n      <th></th>\n      <th>Unnamed: 0</th>\n      <th>simulated_optimal</th>\n      <th>ml_optimal</th>\n      <th>difference</th>\n    </tr>\n  </thead>\n  <tbody>\n    <tr>\n      <th>0</th>\n      <td>HIRING_SAMPLE_SIZE</td>\n      <td>0.0026</td>\n      <td>0.0004</td>\n      <td>0.0021</td>\n    </tr>\n    <tr>\n      <th>1</th>\n      <td>LABOR_MARKET</td>\n      <td>0.0044</td>\n      <td>0.0017</td>\n      <td>0.0027</td>\n    </tr>\n    <tr>\n      <th>2</th>\n      <td>LOAN_PAYMENT_TO_PERMANENT_INCOME</td>\n      <td>0.0022</td>\n      <td>0.0008</td>\n      <td>0.0014</td>\n    </tr>\n    <tr>\n      <th>3</th>\n      <td>MARKUP</td>\n      <td>-0.0000</td>\n      <td>-0.0002</td>\n      <td>0.0002</td>\n    </tr>\n    <tr>\n      <th>4</th>\n      <td>MAX_LOAN_TO_VALUE</td>\n      <td>0.0022</td>\n      <td>0.0003</td>\n      <td>0.0019</td>\n    </tr>\n    <tr>\n      <th>5</th>\n      <td>MUNICIPAL_EFFICIENCY_MANAGEMENT</td>\n      <td>-0.0007</td>\n      <td>-0.0008</td>\n      <td>0.0001</td>\n    </tr>\n    <tr>\n      <th>6</th>\n      <td>NEIGHBORHOOD_EFFECT</td>\n      <td>-0.0468</td>\n      <td>-0.0014</td>\n      <td>-0.0454</td>\n    </tr>\n    <tr>\n      <th>7</th>\n      <td>OFFER_SIZE_ON_PRICE</td>\n      <td>0.0000</td>\n      <td>-0.0005</td>\n      <td>0.0005</td>\n    </tr>\n    <tr>\n      <th>8</th>\n      <td>PCT_DISTANCE_HIRING</td>\n      <td>-0.0088</td>\n      <td>-0.0055</td>\n      <td>-0.0032</td>\n    </tr>\n    <tr>\n      <th>9</th>\n      <td>PERCENTAGE_ACTUAL_POP</td>\n      <td>-0.2009</td>\n      <td>-0.4203</td>\n      <td>0.2194</td>\n    </tr>\n    <tr>\n      <th>10</th>\n      <td>PERCENTAGE_ENTERING_ESTATE_MARKET</td>\n      <td>-0.0583</td>\n      <td>-0.0122</td>\n      <td>-0.0461</td>\n    </tr>\n    <tr>\n      <th>11</th>\n      <td>PERCENT_CONSTRUCTION_FIRMS</td>\n      <td>-0.0057</td>\n      <td>-0.0008</td>\n      <td>-0.0048</td>\n    </tr>\n    <tr>\n      <th>12</th>\n      <td>POLICY_COEFFICIENT</td>\n      <td>-0.0047</td>\n      <td>-0.0032</td>\n      <td>-0.0016</td>\n    </tr>\n    <tr>\n      <th>13</th>\n      <td>POLICY_DAYS</td>\n      <td>-0.0642</td>\n      <td>-0.0326</td>\n      <td>-0.0317</td>\n    </tr>\n    <tr>\n      <th>14</th>\n      <td>POLICY_QUANTILE</td>\n      <td>-0.0603</td>\n      <td>-0.0158</td>\n      <td>-0.0444</td>\n    </tr>\n    <tr>\n      <th>15</th>\n      <td>PRIVATE_TRANSIT_COST</td>\n      <td>-0.0000</td>\n      <td>-0.0009</td>\n      <td>0.0009</td>\n    </tr>\n    <tr>\n      <th>16</th>\n      <td>PRODUCTIVITY_EXPONENT</td>\n      <td>0.0033</td>\n      <td>0.0003</td>\n      <td>0.0031</td>\n    </tr>\n    <tr>\n      <th>17</th>\n      <td>PRODUCTIVITY_MAGNITUDE_DIVISOR</td>\n      <td>-0.0071</td>\n      <td>-0.0015</td>\n      <td>-0.0057</td>\n    </tr>\n    <tr>\n      <th>18</th>\n      <td>PUBLIC_TRANSIT_COST</td>\n      <td>-0.0504</td>\n      <td>-0.0265</td>\n      <td>-0.0239</td>\n    </tr>\n    <tr>\n      <th>19</th>\n      <td>SIZE_MARKET</td>\n      <td>-0.0005</td>\n      <td>0.0001</td>\n      <td>-0.0006</td>\n    </tr>\n    <tr>\n      <th>20</th>\n      <td>STICKY_PRICES</td>\n      <td>-0.0000</td>\n      <td>-0.0001</td>\n      <td>0.0001</td>\n    </tr>\n    <tr>\n      <th>21</th>\n      <td>TAX_ESTATE_TRANSACTION</td>\n      <td>0.0027</td>\n      <td>0.0002</td>\n      <td>0.0025</td>\n    </tr>\n    <tr>\n      <th>22</th>\n      <td>TOTAL_DAYS</td>\n      <td>-0.0223</td>\n      <td>-0.0165</td>\n      <td>-0.0057</td>\n    </tr>\n  </tbody>\n</table>\n</div>"
     },
     "execution_count": 18,
     "metadata": {},
     "output_type": "execute_result"
    }
   ],
   "source": [
    "comp = pd.read_csv('../pre_processed_data/parameters_comparison.csv', sep=';').round(decimals=4)\n",
    "comp"
   ],
   "metadata": {
    "collapsed": false,
    "pycharm": {
     "name": "#%%\n"
    }
   }
  },
  {
   "cell_type": "code",
   "execution_count": 19,
   "outputs": [
    {
     "name": "stdout",
     "output_type": "stream",
     "text": [
      "{'Parameter': 'HIRING_SAMPLE_SIZE', 'Surrogate': 0.26, 'ABM': 0.04, 'Difference (p.p.)': -0.22}\n",
      "{'Parameter': 'LABOR_MARKET', 'Surrogate': 0.44, 'ABM': 0.16999999999999998, 'Difference (p.p.)': -0.27}\n",
      "{'Parameter': 'LOAN_PAYMENT_TO_PERMANENT_INCOME', 'Surrogate': 0.22, 'ABM': 0.08, 'Difference (p.p.)': -0.14}\n",
      "{'Parameter': 'MARKUP', 'Surrogate': -0.0, 'ABM': -0.02, 'Difference (p.p.)': -0.02}\n",
      "{'Parameter': 'MAX_LOAN_TO_VALUE', 'Surrogate': 0.22, 'ABM': 0.03, 'Difference (p.p.)': -0.19}\n",
      "{'Parameter': 'MUNICIPAL_EFFICIENCY_MANAGEMENT', 'Surrogate': -0.06999999999999999, 'ABM': -0.08, 'Difference (p.p.)': -0.010000000000000009}\n",
      "{'Parameter': 'NEIGHBORHOOD_EFFECT', 'Surrogate': -4.68, 'ABM': -0.13999999999999999, 'Difference (p.p.)': 4.54}\n",
      "{'Parameter': 'OFFER_SIZE_ON_PRICE', 'Surrogate': 0.0, 'ABM': -0.05, 'Difference (p.p.)': -0.05}\n",
      "{'Parameter': 'PCT_DISTANCE_HIRING', 'Surrogate': -0.88, 'ABM': -0.5499999999999999, 'Difference (p.p.)': 0.33000000000000007}\n",
      "{'Parameter': 'PERCENTAGE_ACTUAL_POP', 'Surrogate': -20.09, 'ABM': -42.03, 'Difference (p.p.)': -21.94}\n",
      "{'Parameter': 'PERCENTAGE_ENTERING_ESTATE_MARKET', 'Surrogate': -5.83, 'ABM': -1.22, 'Difference (p.p.)': 4.61}\n",
      "{'Parameter': 'PERCENT_CONSTRUCTION_FIRMS', 'Surrogate': -0.5700000000000001, 'ABM': -0.08, 'Difference (p.p.)': 0.49000000000000005}\n",
      "{'Parameter': 'POLICY_COEFFICIENT', 'Surrogate': -0.47000000000000003, 'ABM': -0.32, 'Difference (p.p.)': 0.15000000000000002}\n",
      "{'Parameter': 'POLICY_DAYS', 'Surrogate': -6.419999999999999, 'ABM': -3.26, 'Difference (p.p.)': 3.1599999999999993}\n",
      "{'Parameter': 'POLICY_QUANTILE', 'Surrogate': -6.03, 'ABM': -1.58, 'Difference (p.p.)': 4.45}\n",
      "{'Parameter': 'PRIVATE_TRANSIT_COST', 'Surrogate': -0.0, 'ABM': -0.09, 'Difference (p.p.)': -0.09}\n",
      "{'Parameter': 'PRODUCTIVITY_EXPONENT', 'Surrogate': 0.33, 'ABM': 0.03, 'Difference (p.p.)': -0.30000000000000004}\n",
      "{'Parameter': 'PRODUCTIVITY_MAGNITUDE_DIVISOR', 'Surrogate': -0.7100000000000001, 'ABM': -0.15, 'Difference (p.p.)': 0.56}\n",
      "{'Parameter': 'PUBLIC_TRANSIT_COST', 'Surrogate': -5.04, 'ABM': -2.65, 'Difference (p.p.)': 2.39}\n",
      "{'Parameter': 'SIZE_MARKET', 'Surrogate': -0.05, 'ABM': 0.01, 'Difference (p.p.)': 0.060000000000000005}\n",
      "{'Parameter': 'STICKY_PRICES', 'Surrogate': -0.0, 'ABM': -0.01, 'Difference (p.p.)': -0.01}\n",
      "{'Parameter': 'TAX_ESTATE_TRANSACTION', 'Surrogate': 0.27, 'ABM': 0.02, 'Difference (p.p.)': -0.25}\n",
      "{'Parameter': 'TOTAL_DAYS', 'Surrogate': -2.23, 'ABM': -1.6500000000000001, 'Difference (p.p.)': 0.5799999999999998}\n"
     ]
    }
   ],
   "source": [
    "params = pd.DataFrame()\n",
    "for row in range(0,len(comp['Unnamed: 0'])):\n",
    "    to_add = {'Parameter' : comp.iloc[row, 0],\n",
    "              'Surrogate': comp.iloc[row, 1]*100,\n",
    "              'ABM': comp.iloc[row, 2]*100,\n",
    "              'Difference (p.p.)': comp.iloc[row, 2]*100 - comp.iloc[row, 1]*100\n",
    "    }\n",
    "    print(to_add)\n",
    "    params = params.append(to_add, ignore_index=True)"
   ],
   "metadata": {
    "collapsed": false,
    "pycharm": {
     "name": "#%%\n"
    }
   }
  },
  {
   "cell_type": "code",
   "execution_count": 20,
   "outputs": [
    {
     "data": {
      "text/plain": "                                     Parameter  Surrogate    ABM  \\\n0                           Hiring sample size       0.26   0.04   \n1                           Hiring sample size       0.44   0.17   \n2                  Loan/permament income ratio       0.22   0.08   \n3                                       Markup      -0.00  -0.02   \n4                        Maximum Loan-to-Value       0.22   0.03   \n5              Municipal efficiency management      -0.07  -0.08   \n6                          Neighborhood effect      -4.68  -0.14   \n7   supply-demand effect on real estate prices       0.00  -0.05   \n8             % firms analyze commute distance      -0.88  -0.55   \n9                              % of population     -20.09 -42.03   \n10             % that enters the estate market      -5.83  -1.22   \n11                     % of construction firms      -0.57  -0.08   \n12                          Policy coefficient      -0.47  -0.32   \n13                                 Policy days      -6.42  -3.26   \n14                             Policy Quantile      -6.03  -1.58   \n15                     Cost of private transit      -0.00  -0.09   \n16                      Productivity: exponent       0.33   0.03   \n17                       Productivity: divisor      -0.71  -0.15   \n18                      Cost of public transit      -5.04  -2.65   \n19                       Perceived market size      -0.05   0.01   \n20                               Sticky Prices      -0.00  -0.01   \n21                Tax over estate transactions       0.27   0.02   \n22                                  Total Days      -2.23  -1.65   \n\n    Difference (p.p.)  \n0               -0.22  \n1               -0.27  \n2               -0.14  \n3               -0.02  \n4               -0.19  \n5               -0.01  \n6                4.54  \n7               -0.05  \n8                0.33  \n9              -21.94  \n10               4.61  \n11               0.49  \n12               0.15  \n13               3.16  \n14               4.45  \n15              -0.09  \n16              -0.30  \n17               0.56  \n18               2.39  \n19               0.06  \n20              -0.01  \n21              -0.25  \n22               0.58  ",
      "text/html": "<div>\n<style scoped>\n    .dataframe tbody tr th:only-of-type {\n        vertical-align: middle;\n    }\n\n    .dataframe tbody tr th {\n        vertical-align: top;\n    }\n\n    .dataframe thead th {\n        text-align: right;\n    }\n</style>\n<table border=\"1\" class=\"dataframe\">\n  <thead>\n    <tr style=\"text-align: right;\">\n      <th></th>\n      <th>Parameter</th>\n      <th>Surrogate</th>\n      <th>ABM</th>\n      <th>Difference (p.p.)</th>\n    </tr>\n  </thead>\n  <tbody>\n    <tr>\n      <th>0</th>\n      <td>Hiring sample size</td>\n      <td>0.26</td>\n      <td>0.04</td>\n      <td>-0.22</td>\n    </tr>\n    <tr>\n      <th>1</th>\n      <td>Hiring sample size</td>\n      <td>0.44</td>\n      <td>0.17</td>\n      <td>-0.27</td>\n    </tr>\n    <tr>\n      <th>2</th>\n      <td>Loan/permament income ratio</td>\n      <td>0.22</td>\n      <td>0.08</td>\n      <td>-0.14</td>\n    </tr>\n    <tr>\n      <th>3</th>\n      <td>Markup</td>\n      <td>-0.00</td>\n      <td>-0.02</td>\n      <td>-0.02</td>\n    </tr>\n    <tr>\n      <th>4</th>\n      <td>Maximum Loan-to-Value</td>\n      <td>0.22</td>\n      <td>0.03</td>\n      <td>-0.19</td>\n    </tr>\n    <tr>\n      <th>5</th>\n      <td>Municipal efficiency management</td>\n      <td>-0.07</td>\n      <td>-0.08</td>\n      <td>-0.01</td>\n    </tr>\n    <tr>\n      <th>6</th>\n      <td>Neighborhood effect</td>\n      <td>-4.68</td>\n      <td>-0.14</td>\n      <td>4.54</td>\n    </tr>\n    <tr>\n      <th>7</th>\n      <td>supply-demand effect on real estate prices</td>\n      <td>0.00</td>\n      <td>-0.05</td>\n      <td>-0.05</td>\n    </tr>\n    <tr>\n      <th>8</th>\n      <td>% firms analyze commute distance</td>\n      <td>-0.88</td>\n      <td>-0.55</td>\n      <td>0.33</td>\n    </tr>\n    <tr>\n      <th>9</th>\n      <td>% of population</td>\n      <td>-20.09</td>\n      <td>-42.03</td>\n      <td>-21.94</td>\n    </tr>\n    <tr>\n      <th>10</th>\n      <td>% that enters the estate market</td>\n      <td>-5.83</td>\n      <td>-1.22</td>\n      <td>4.61</td>\n    </tr>\n    <tr>\n      <th>11</th>\n      <td>% of construction firms</td>\n      <td>-0.57</td>\n      <td>-0.08</td>\n      <td>0.49</td>\n    </tr>\n    <tr>\n      <th>12</th>\n      <td>Policy coefficient</td>\n      <td>-0.47</td>\n      <td>-0.32</td>\n      <td>0.15</td>\n    </tr>\n    <tr>\n      <th>13</th>\n      <td>Policy days</td>\n      <td>-6.42</td>\n      <td>-3.26</td>\n      <td>3.16</td>\n    </tr>\n    <tr>\n      <th>14</th>\n      <td>Policy Quantile</td>\n      <td>-6.03</td>\n      <td>-1.58</td>\n      <td>4.45</td>\n    </tr>\n    <tr>\n      <th>15</th>\n      <td>Cost of private transit</td>\n      <td>-0.00</td>\n      <td>-0.09</td>\n      <td>-0.09</td>\n    </tr>\n    <tr>\n      <th>16</th>\n      <td>Productivity: exponent</td>\n      <td>0.33</td>\n      <td>0.03</td>\n      <td>-0.30</td>\n    </tr>\n    <tr>\n      <th>17</th>\n      <td>Productivity: divisor</td>\n      <td>-0.71</td>\n      <td>-0.15</td>\n      <td>0.56</td>\n    </tr>\n    <tr>\n      <th>18</th>\n      <td>Cost of public transit</td>\n      <td>-5.04</td>\n      <td>-2.65</td>\n      <td>2.39</td>\n    </tr>\n    <tr>\n      <th>19</th>\n      <td>Perceived market size</td>\n      <td>-0.05</td>\n      <td>0.01</td>\n      <td>0.06</td>\n    </tr>\n    <tr>\n      <th>20</th>\n      <td>Sticky Prices</td>\n      <td>-0.00</td>\n      <td>-0.01</td>\n      <td>-0.01</td>\n    </tr>\n    <tr>\n      <th>21</th>\n      <td>Tax over estate transactions</td>\n      <td>0.27</td>\n      <td>0.02</td>\n      <td>-0.25</td>\n    </tr>\n    <tr>\n      <th>22</th>\n      <td>Total Days</td>\n      <td>-2.23</td>\n      <td>-1.65</td>\n      <td>0.58</td>\n    </tr>\n  </tbody>\n</table>\n</div>"
     },
     "execution_count": 20,
     "metadata": {},
     "output_type": "execute_result"
    }
   ],
   "source": [
    "params.sort_values(by='Parameter', inplace=True)\n",
    "params.replace({'Parameter': groups_cols.abm_params_show}, inplace=True)\n",
    "params"
   ],
   "metadata": {
    "collapsed": false,
    "pycharm": {
     "name": "#%%\n"
    }
   }
  },
  {
   "cell_type": "code",
   "execution_count": 21,
   "outputs": [],
   "source": [
    "tables.update({'mean_policy_acp': mean_policy_acp.set_index('MR'),\n",
    "               'std_policy_acp': std_policy_acp.set_index('MR'),\n",
    "               \"SON\" : SON.set_index('Dummy'),\n",
    "               \"SON_acp\" : SON_acp.set_index('Dummy'),\n",
    "               \"params\" : params.set_index('Parameter')})"
   ],
   "metadata": {
    "collapsed": false,
    "pycharm": {
     "name": "#%%\n"
    }
   }
  },
  {
   "cell_type": "code",
   "execution_count": 26,
   "outputs": [
    {
     "data": {
      "text/plain": "{'mean_policy_acp':                     Policy: none  Policy: buy  Policy: rent  Policy: wage\n MR                                                                       \n Belo Horizonte            100.00       -90.58          0.00          0.00\n São Paulo                  29.84        -1.14         -0.90          7.23\n Rio de Janeiro             27.38        -0.12          1.11          1.33\n Joinville                  19.43       -14.26          7.67          8.91\n Campo Grande               18.63       -15.02         10.02          8.91\n Pelotas                    18.58       -15.81         10.24         10.71\n João Pessoa                18.47       -14.78         10.11          8.97\n Maceio                     18.43       -15.06          9.84          9.83\n Maringá                    18.14       -14.33         10.16         10.86\n Petrolina-Juazeiro         18.11       -13.97          9.16          9.25\n Crato                      17.92       -15.45          9.81         10.55\n Feira de Santana           17.88       -14.90         10.29          9.08\n all                        17.87       -14.25         13.16         15.05\n Cuiabá                     17.59       -14.91         10.70         10.21\n Uberlandia                 17.57       -13.62         10.73         10.39\n Sorocaba                   17.56       -14.45         11.14         10.60\n SJC                        17.54       -14.21         10.55          9.59\n Manaus                     17.30       -14.58         11.94         11.14\n Volta Redonda              17.23       -14.12          9.72         11.38\n Ipatinga                   17.22       -14.61         11.26         11.34\n NH-SL                      17.21       -14.78         10.61         11.06\n Vitória                    17.18       -14.97         11.86         10.99\n Recife                     17.02       -14.62         11.65         10.69\n Campina Grande             16.96       -14.73         12.92         11.15\n Londrina                   16.77       -13.63         11.96         11.48\n Natal                      16.62       -14.53         10.81         11.59\n Florianópolis              16.50       -13.53         12.25         11.57\n Ilheus-Itabuna             16.50       -14.49         12.57         12.52\n Juiz de Fora               16.40       -12.68         11.81         10.90\n Teresina                   16.21       -14.34         12.15         12.15\n Macapá                     16.15       -13.75         11.67         12.36\n Ribeirão Preto             16.08       -14.28         12.20         12.16\n Aracaju                    15.87       -13.97         11.93         11.73\n Goiânia                    15.86       -14.32         13.58         12.45\n Campos                     15.83       -13.76         13.06         11.73\n Sao Luis                   15.73       -13.54         13.22         11.61\n Caxias do Sul              15.71       -13.06         13.46         11.89\n Salvador                   15.04       -14.01         13.83         13.62\n Santos                     14.67       -13.48         13.20         13.62\n Jundiai                    14.56       -12.39         13.91         15.50\n SJRP                       14.36       -12.68         13.23         14.07\n Fortaleza                  13.99       -12.79         14.26         13.88\n Curitiba                   12.37       -12.30         71.55         79.85\n Belém                       8.00        -8.00         19.12         61.69\n Porto Alegre                4.62        -4.47         13.50         14.24\n Campinas                    0.94        -0.94         63.56         97.53\n Brasília                    0.00         0.00          0.00          0.00,\n 'std_policy_acp':                     Policy: none  Policy: buy  Policy: rent  Policy: wage\n MR                                                                       \n São Paulo                  45.75        -0.51         -0.40          2.55\n Rio de Janeiro             44.59        -0.06          0.55          0.65\n Joinville                  39.56       -17.41          4.89          5.51\n Campo Grande               38.94       -20.30          6.27          5.73\n Pelotas                    38.90       -22.48          6.39          6.61\n João Pessoa                38.80       -19.95          6.38          5.82\n Maceio                     38.78       -20.74          6.25          6.25\n Maringá                    38.54       -19.39          6.51          6.84\n Petrolina-Juazeiro         38.51       -18.59          6.02          6.07\n Crato                      38.35       -22.82          6.42          6.78\n Feira de Santana           38.32       -21.31          6.66          6.05\n all                        38.31       -19.63          7.95          8.68\n Cuiabá                     38.08       -21.93          6.96          6.72\n Uberlandia                 38.06       -18.59          6.99          6.82\n Sorocaba                   38.05       -20.70          7.19          6.93\n SJC                        38.03       -20.09          6.91          6.43\n Manaus                     37.82       -21.56          7.67          7.29\n Volta Redonda              37.77       -20.41          6.60          7.42\n Ipatinga                   37.75       -21.81          7.38          7.42\n NH-SL                      37.75       -22.36          7.06          7.28\n Vitória                    37.72       -23.02          7.68          7.26\n Recife                     37.58       -22.28          7.64          7.18\n Campina Grande             37.53       -22.75          8.24          7.42\n Londrina                   37.36       -19.91          7.89          7.66\n Natal                      37.23       -22.91          7.39          7.77\n Florianópolis              37.12       -20.15          8.14          7.81\n Ilheus-Itabuna             37.11       -23.08          8.30          8.28\n Juiz de Fora               37.03       -18.12          7.97          7.52\n Teresina                   36.85       -23.30          8.22          8.23\n Macapá                     36.80       -21.49          8.01          8.35\n Ribeirão Preto             36.74       -23.44          8.29          8.28\n Aracaju                    36.54       -22.87          8.26          8.16\n Goiânia                    36.53       -24.20          9.05          8.52\n Campos                     36.50       -22.25          8.82          8.18\n Sao Luis                   36.41       -21.76          8.94          8.16\n Caxias do Sul              36.39       -20.32          9.06          8.31\n Salvador                   35.75       -25.64          9.57          9.47\n Santos                     35.38       -24.54          9.45          9.66\n Jundiai                    35.27       -20.71          9.86         10.58\n SJRP                       35.07       -22.23          9.63         10.04\n Fortaleza                  34.69       -23.80         10.33         10.15\n Curitiba                   32.92       -30.22          3.81         -6.13\n Belém                      27.12       -27.12         17.34         18.84\n Porto Alegre               20.99       -17.11         17.53         18.13\n Campinas                    9.63        -9.63         38.22          2.64\n Brasília                    0.00         0.00          0.00          0.00\n Belo Horizonte              0.00        29.21          0.00          0.00,\n 'SON':                      Size: sur  Size: ABM  Opt: sur  Opt: ABM  Non-opt: sur  \\\n Dummy                                                                         \n Alternative0: False      49.92       0.38     21.29      0.00         78.71   \n Alternative0: True       50.08      99.62     21.42      5.78         78.58   \n FPM: False               49.97       0.38     21.31      0.00         78.69   \n FPM: True                50.03      99.62     21.40      5.78         78.60   \n Interest: fixed          33.35       0.19     21.37      0.00         78.63   \n Interest: nominal        33.32       0.19     21.32      0.00         78.68   \n Interest: real           33.33      99.62     21.37      5.78         78.63   \n Jan. 2000                49.99       0.76     21.26      0.00         78.74   \n Jan. 2010                50.01      99.24     21.45      5.80         78.55   \n Licenses: False          33.43       0.19     21.36      0.00         78.64   \n Licenses: Random         33.34      99.62     21.32      5.78         78.68   \n Licenses: True           33.23       0.19     21.38      0.00         78.62   \n Policy: buy              25.06      12.19      3.62      2.59         96.38   \n Policy: none             24.93      63.43     17.87      3.91         82.13   \n Policy: rent             25.01      12.19     31.03     10.37         68.97   \n Policy: wage             25.00      12.19     32.92     13.93         67.08   \n \n                      Non-opt: ABM  \n Dummy                              \n Alternative0: False        100.00  \n Alternative0: True          94.22  \n FPM: False                 100.00  \n FPM: True                   94.22  \n Interest: fixed            100.00  \n Interest: nominal          100.00  \n Interest: real              94.22  \n Jan. 2000                  100.00  \n Jan. 2010                   94.20  \n Licenses: False            100.00  \n Licenses: Random            94.22  \n Licenses: True             100.00  \n Policy: buy                 97.41  \n Policy: none                96.09  \n Policy: rent                89.63  \n Policy: wage                86.07  ,\n 'SON_acp':                     Size: sur  Size: ABM  Opt: sur  Opt: ABM  Non-opt: sur  \\\n Dummy                                                                        \n Aracaju                  2.21       1.06     18.16      0.00         81.84   \n Belo Horizonte           2.17       2.00     77.06     81.08         22.94   \n Belém                    2.18       1.06     26.49     21.37         73.51   \n Brasília                 2.19      48.67      0.00      1.06        100.00   \n Campina Grande           2.16       1.06     19.29      0.00         80.71   \n Campinas                 2.18       2.00     41.01     32.88         58.99   \n Campo Grande             2.15       1.06     19.54      0.00         80.46   \n Campos                   2.17       1.06     18.41      0.00         81.59   \n Caxias do Sul            2.18       1.06     18.94      0.00         81.06   \n Crato                    2.18       1.06     19.07      0.00         80.93   \n Cuiabá                   2.16       1.06     19.10      0.00         80.90   \n Curitiba                 2.15       1.06     46.99     47.86         53.01   \n Feira de Santana         2.16       1.06     18.89      0.00         81.11   \n Florianópolis            2.18       1.06     19.18      0.00         80.82   \n Fortaleza                2.17       2.00     17.95      3.15         82.05   \n Goiânia                  2.16       1.06     18.76      0.00         81.24   \n Ilheus-Itabuna           2.18       1.06     19.20      0.00         80.80   \n Ipatinga                 2.17       1.06     19.25      0.00         80.75   \n Joinville                2.16       0.30     19.99      0.00         80.01   \n João Pessoa              2.18       1.06     19.52      0.00         80.48   \n Juiz de Fora             2.16       1.06     18.78      0.00         81.22   \n Jundiai                  2.18       1.06     18.80      0.00         81.20   \n Londrina                 2.18       1.06     19.24      0.00         80.76   \n Macapá                   2.18       1.06     18.82      0.00         81.18   \n Maceio                   2.16       1.06     19.66      0.00         80.34   \n Manaus                   2.17       1.06     19.42      0.00         80.58   \n Maringá                  2.16       1.06     19.90      0.00         80.10   \n NH-SL                    2.16       1.06     18.98      0.00         81.02   \n Natal                    2.19       1.06     18.54      0.00         81.46   \n Pelotas                  2.16       1.06     19.81      0.00         80.19   \n Petrolina-Juazeiro       2.18       1.06     19.21      0.00         80.79   \n Porto Alegre             2.20       2.00     10.52      0.00         89.48   \n Recife                   2.17       1.06     18.92      0.00         81.08   \n Ribeirão Preto           2.16       1.06     18.73      0.00         81.27   \n Rio de Janeiro           2.19       1.81     27.95     54.73         72.05   \n SJC                      2.18       1.06     18.95      0.00         81.05   \n SJRP                     2.17       1.06     17.97      0.00         82.03   \n Salvador                 2.17       1.06     18.27     11.11         81.73   \n Santos                   2.17       1.06     18.01      0.00         81.99   \n Sao Luis                 2.17       1.06     18.53      0.00         81.47   \n Sorocaba                 2.17       1.06     19.26      0.00         80.74   \n São Paulo                2.19       1.06     31.10    100.00         68.90   \n Teresina                 2.19       1.06     18.81      0.00         81.19   \n Uberlandia               2.18       1.06     19.43      0.00         80.57   \n Vitória                  2.20       1.06     19.20      0.00         80.80   \n Volta Redonda            2.16       1.06     19.07      0.00         80.93   \n \n                     Non-opt: ABM  \n Dummy                             \n Aracaju                   100.00  \n Belo Horizonte             18.92  \n Belém                      78.63  \n Brasília                   98.94  \n Campina Grande            100.00  \n Campinas                   67.12  \n Campo Grande              100.00  \n Campos                    100.00  \n Caxias do Sul             100.00  \n Crato                     100.00  \n Cuiabá                    100.00  \n Curitiba                   52.14  \n Feira de Santana          100.00  \n Florianópolis             100.00  \n Fortaleza                  96.85  \n Goiânia                   100.00  \n Ilheus-Itabuna            100.00  \n Ipatinga                  100.00  \n Joinville                 100.00  \n João Pessoa               100.00  \n Juiz de Fora              100.00  \n Jundiai                   100.00  \n Londrina                  100.00  \n Macapá                    100.00  \n Maceio                    100.00  \n Manaus                    100.00  \n Maringá                   100.00  \n NH-SL                     100.00  \n Natal                     100.00  \n Pelotas                   100.00  \n Petrolina-Juazeiro        100.00  \n Porto Alegre              100.00  \n Recife                    100.00  \n Ribeirão Preto            100.00  \n Rio de Janeiro             45.27  \n SJC                       100.00  \n SJRP                      100.00  \n Salvador                   88.89  \n Santos                    100.00  \n Sao Luis                  100.00  \n Sorocaba                  100.00  \n São Paulo                   0.00  \n Teresina                  100.00  \n Uberlandia                100.00  \n Vitória                   100.00  \n Volta Redonda             100.00  ,\n 'params':                                             Surrogate    ABM  \\\n Parameter                                                      \n Hiring sample size                               0.26   0.04   \n Hiring sample size                               0.44   0.17   \n Loan/permament income ratio                      0.22   0.08   \n Markup                                          -0.00  -0.02   \n Maximum Loan-to-Value                            0.22   0.03   \n Municipal efficiency management                 -0.07  -0.08   \n Neighborhood effect                             -4.68  -0.14   \n supply-demand effect on real estate prices       0.00  -0.05   \n % firms analyze commute distance                -0.88  -0.55   \n % of population                                -20.09 -42.03   \n % that enters the estate market                 -5.83  -1.22   \n % of construction firms                         -0.57  -0.08   \n Policy coefficient                              -0.47  -0.32   \n Policy days                                     -6.42  -3.26   \n Policy Quantile                                 -6.03  -1.58   \n Cost of private transit                         -0.00  -0.09   \n Productivity: exponent                           0.33   0.03   \n Productivity: divisor                           -0.71  -0.15   \n Cost of public transit                          -5.04  -2.65   \n Perceived market size                           -0.05   0.01   \n Sticky Prices                                   -0.00  -0.01   \n Tax over estate transactions                     0.27   0.02   \n Total Days                                      -2.23  -1.65   \n \n                                             Difference (p.p.)  \n Parameter                                                      \n Hiring sample size                                      -0.22  \n Hiring sample size                                      -0.27  \n Loan/permament income ratio                             -0.14  \n Markup                                                  -0.02  \n Maximum Loan-to-Value                                   -0.19  \n Municipal efficiency management                         -0.01  \n Neighborhood effect                                      4.54  \n supply-demand effect on real estate prices              -0.05  \n % firms analyze commute distance                         0.33  \n % of population                                        -21.94  \n % that enters the estate market                          4.61  \n % of construction firms                                  0.49  \n Policy coefficient                                       0.15  \n Policy days                                              3.16  \n Policy Quantile                                          4.45  \n Cost of private transit                                 -0.09  \n Productivity: exponent                                  -0.30  \n Productivity: divisor                                    0.56  \n Cost of public transit                                   2.39  \n Perceived market size                                    0.06  \n Sticky Prices                                           -0.01  \n Tax over estate transactions                            -0.25  \n Total Days                                               0.58  }"
     },
     "execution_count": 26,
     "metadata": {},
     "output_type": "execute_result"
    }
   ],
   "source": [
    "tables"
   ],
   "metadata": {
    "collapsed": false,
    "pycharm": {
     "name": "#%%\n"
    }
   }
  },
  {
   "cell_type": "code",
   "execution_count": 27,
   "outputs": [
    {
     "name": "stdout",
     "output_type": "stream",
     "text": [
      "\\begin{tabular}{rrrr}\n",
      "\\toprule\n",
      " Policy: none &  Policy: buy &  Policy: rent &  Policy: wage \\\\\n",
      "       100.00 &       -90.58 &          0.00 &          0.00 \\\\\n",
      "\\midrule\n",
      "        29.84 &        -1.14 &         -0.90 &          7.23 \\\\\n",
      "        27.38 &        -0.12 &          1.11 &          1.33 \\\\\n",
      "        19.43 &       -14.26 &          7.67 &          8.91 \\\\\n",
      "        18.63 &       -15.02 &         10.02 &          8.91 \\\\\n",
      "        18.58 &       -15.81 &         10.24 &         10.71 \\\\\n",
      "        18.47 &       -14.78 &         10.11 &          8.97 \\\\\n",
      "        18.43 &       -15.06 &          9.84 &          9.83 \\\\\n",
      "        18.14 &       -14.33 &         10.16 &         10.86 \\\\\n",
      "        18.11 &       -13.97 &          9.16 &          9.25 \\\\\n",
      "        17.92 &       -15.45 &          9.81 &         10.55 \\\\\n",
      "        17.88 &       -14.90 &         10.29 &          9.08 \\\\\n",
      "        17.87 &       -14.25 &         13.16 &         15.05 \\\\\n",
      "        17.59 &       -14.91 &         10.70 &         10.21 \\\\\n",
      "        17.57 &       -13.62 &         10.73 &         10.39 \\\\\n",
      "        17.56 &       -14.45 &         11.14 &         10.60 \\\\\n",
      "        17.54 &       -14.21 &         10.55 &          9.59 \\\\\n",
      "        17.30 &       -14.58 &         11.94 &         11.14 \\\\\n",
      "        17.23 &       -14.12 &          9.72 &         11.38 \\\\\n",
      "        17.22 &       -14.61 &         11.26 &         11.34 \\\\\n",
      "        17.21 &       -14.78 &         10.61 &         11.06 \\\\\n",
      "        17.18 &       -14.97 &         11.86 &         10.99 \\\\\n",
      "        17.02 &       -14.62 &         11.65 &         10.69 \\\\\n",
      "        16.96 &       -14.73 &         12.92 &         11.15 \\\\\n",
      "        16.77 &       -13.63 &         11.96 &         11.48 \\\\\n",
      "        16.62 &       -14.53 &         10.81 &         11.59 \\\\\n",
      "        16.50 &       -13.53 &         12.25 &         11.57 \\\\\n",
      "        16.50 &       -14.49 &         12.57 &         12.52 \\\\\n",
      "        16.40 &       -12.68 &         11.81 &         10.90 \\\\\n",
      "        16.21 &       -14.34 &         12.15 &         12.15 \\\\\n",
      "        16.15 &       -13.75 &         11.67 &         12.36 \\\\\n",
      "        16.08 &       -14.28 &         12.20 &         12.16 \\\\\n",
      "        15.87 &       -13.97 &         11.93 &         11.73 \\\\\n",
      "        15.86 &       -14.32 &         13.58 &         12.45 \\\\\n",
      "        15.83 &       -13.76 &         13.06 &         11.73 \\\\\n",
      "        15.73 &       -13.54 &         13.22 &         11.61 \\\\\n",
      "        15.71 &       -13.06 &         13.46 &         11.89 \\\\\n",
      "        15.04 &       -14.01 &         13.83 &         13.62 \\\\\n",
      "        14.67 &       -13.48 &         13.20 &         13.62 \\\\\n",
      "        14.56 &       -12.39 &         13.91 &         15.50 \\\\\n",
      "        14.36 &       -12.68 &         13.23 &         14.07 \\\\\n",
      "        13.99 &       -12.79 &         14.26 &         13.88 \\\\\n",
      "        12.37 &       -12.30 &         71.55 &         79.85 \\\\\n",
      "         8.00 &        -8.00 &         19.12 &         61.69 \\\\\n",
      "         4.62 &        -4.47 &         13.50 &         14.24 \\\\\n",
      "         0.94 &        -0.94 &         63.56 &         97.53 \\\\\n",
      "         0.00 &         0.00 &          0.00 &          0.00 \\\\\n",
      "\\bottomrule\n",
      "\\end{tabular}\n",
      "\n",
      "\\begin{tabular}{rrrr}\n",
      "\\toprule\n",
      " Policy: none &  Policy: buy &  Policy: rent &  Policy: wage \\\\\n",
      "        45.75 &        -0.51 &         -0.40 &          2.55 \\\\\n",
      "\\midrule\n",
      "        44.59 &        -0.06 &          0.55 &          0.65 \\\\\n",
      "        39.56 &       -17.41 &          4.89 &          5.51 \\\\\n",
      "        38.94 &       -20.30 &          6.27 &          5.73 \\\\\n",
      "        38.90 &       -22.48 &          6.39 &          6.61 \\\\\n",
      "        38.80 &       -19.95 &          6.38 &          5.82 \\\\\n",
      "        38.78 &       -20.74 &          6.25 &          6.25 \\\\\n",
      "        38.54 &       -19.39 &          6.51 &          6.84 \\\\\n",
      "        38.51 &       -18.59 &          6.02 &          6.07 \\\\\n",
      "        38.35 &       -22.82 &          6.42 &          6.78 \\\\\n",
      "        38.32 &       -21.31 &          6.66 &          6.05 \\\\\n",
      "        38.31 &       -19.63 &          7.95 &          8.68 \\\\\n",
      "        38.08 &       -21.93 &          6.96 &          6.72 \\\\\n",
      "        38.06 &       -18.59 &          6.99 &          6.82 \\\\\n",
      "        38.05 &       -20.70 &          7.19 &          6.93 \\\\\n",
      "        38.03 &       -20.09 &          6.91 &          6.43 \\\\\n",
      "        37.82 &       -21.56 &          7.67 &          7.29 \\\\\n",
      "        37.77 &       -20.41 &          6.60 &          7.42 \\\\\n",
      "        37.75 &       -21.81 &          7.38 &          7.42 \\\\\n",
      "        37.75 &       -22.36 &          7.06 &          7.28 \\\\\n",
      "        37.72 &       -23.02 &          7.68 &          7.26 \\\\\n",
      "        37.58 &       -22.28 &          7.64 &          7.18 \\\\\n",
      "        37.53 &       -22.75 &          8.24 &          7.42 \\\\\n",
      "        37.36 &       -19.91 &          7.89 &          7.66 \\\\\n",
      "        37.23 &       -22.91 &          7.39 &          7.77 \\\\\n",
      "        37.12 &       -20.15 &          8.14 &          7.81 \\\\\n",
      "        37.11 &       -23.08 &          8.30 &          8.28 \\\\\n",
      "        37.03 &       -18.12 &          7.97 &          7.52 \\\\\n",
      "        36.85 &       -23.30 &          8.22 &          8.23 \\\\\n",
      "        36.80 &       -21.49 &          8.01 &          8.35 \\\\\n",
      "        36.74 &       -23.44 &          8.29 &          8.28 \\\\\n",
      "        36.54 &       -22.87 &          8.26 &          8.16 \\\\\n",
      "        36.53 &       -24.20 &          9.05 &          8.52 \\\\\n",
      "        36.50 &       -22.25 &          8.82 &          8.18 \\\\\n",
      "        36.41 &       -21.76 &          8.94 &          8.16 \\\\\n",
      "        36.39 &       -20.32 &          9.06 &          8.31 \\\\\n",
      "        35.75 &       -25.64 &          9.57 &          9.47 \\\\\n",
      "        35.38 &       -24.54 &          9.45 &          9.66 \\\\\n",
      "        35.27 &       -20.71 &          9.86 &         10.58 \\\\\n",
      "        35.07 &       -22.23 &          9.63 &         10.04 \\\\\n",
      "        34.69 &       -23.80 &         10.33 &         10.15 \\\\\n",
      "        32.92 &       -30.22 &          3.81 &         -6.13 \\\\\n",
      "        27.12 &       -27.12 &         17.34 &         18.84 \\\\\n",
      "        20.99 &       -17.11 &         17.53 &         18.13 \\\\\n",
      "         9.63 &        -9.63 &         38.22 &          2.64 \\\\\n",
      "         0.00 &         0.00 &          0.00 &          0.00 \\\\\n",
      "         0.00 &        29.21 &          0.00 &          0.00 \\\\\n",
      "\\bottomrule\n",
      "\\end{tabular}\n",
      "\n",
      "\\begin{tabular}{rrrrrr}\n",
      "\\toprule\n",
      " Size: sur &  Size: ABM &  Opt: sur &  Opt: ABM &  Non-opt: sur &  Non-opt: ABM \\\\\n",
      "     49.92 &       0.38 &     21.29 &      0.00 &         78.71 &        100.00 \\\\\n",
      "\\midrule\n",
      "     50.08 &      99.62 &     21.42 &      5.78 &         78.58 &         94.22 \\\\\n",
      "     49.97 &       0.38 &     21.31 &      0.00 &         78.69 &        100.00 \\\\\n",
      "     50.03 &      99.62 &     21.40 &      5.78 &         78.60 &         94.22 \\\\\n",
      "     33.35 &       0.19 &     21.37 &      0.00 &         78.63 &        100.00 \\\\\n",
      "     33.32 &       0.19 &     21.32 &      0.00 &         78.68 &        100.00 \\\\\n",
      "     33.33 &      99.62 &     21.37 &      5.78 &         78.63 &         94.22 \\\\\n",
      "     49.99 &       0.76 &     21.26 &      0.00 &         78.74 &        100.00 \\\\\n",
      "     50.01 &      99.24 &     21.45 &      5.80 &         78.55 &         94.20 \\\\\n",
      "     33.43 &       0.19 &     21.36 &      0.00 &         78.64 &        100.00 \\\\\n",
      "     33.34 &      99.62 &     21.32 &      5.78 &         78.68 &         94.22 \\\\\n",
      "     33.23 &       0.19 &     21.38 &      0.00 &         78.62 &        100.00 \\\\\n",
      "     25.06 &      12.19 &      3.62 &      2.59 &         96.38 &         97.41 \\\\\n",
      "     24.93 &      63.43 &     17.87 &      3.91 &         82.13 &         96.09 \\\\\n",
      "     25.01 &      12.19 &     31.03 &     10.37 &         68.97 &         89.63 \\\\\n",
      "     25.00 &      12.19 &     32.92 &     13.93 &         67.08 &         86.07 \\\\\n",
      "\\bottomrule\n",
      "\\end{tabular}\n",
      "\n",
      "\\begin{tabular}{rrrrrr}\n",
      "\\toprule\n",
      " Size: sur &  Size: ABM &  Opt: sur &  Opt: ABM &  Non-opt: sur &  Non-opt: ABM \\\\\n",
      "      2.21 &       1.06 &     18.16 &      0.00 &         81.84 &        100.00 \\\\\n",
      "\\midrule\n",
      "      2.17 &       2.00 &     77.06 &     81.08 &         22.94 &         18.92 \\\\\n",
      "      2.18 &       1.06 &     26.49 &     21.37 &         73.51 &         78.63 \\\\\n",
      "      2.19 &      48.67 &      0.00 &      1.06 &        100.00 &         98.94 \\\\\n",
      "      2.16 &       1.06 &     19.29 &      0.00 &         80.71 &        100.00 \\\\\n",
      "      2.18 &       2.00 &     41.01 &     32.88 &         58.99 &         67.12 \\\\\n",
      "      2.15 &       1.06 &     19.54 &      0.00 &         80.46 &        100.00 \\\\\n",
      "      2.17 &       1.06 &     18.41 &      0.00 &         81.59 &        100.00 \\\\\n",
      "      2.18 &       1.06 &     18.94 &      0.00 &         81.06 &        100.00 \\\\\n",
      "      2.18 &       1.06 &     19.07 &      0.00 &         80.93 &        100.00 \\\\\n",
      "      2.16 &       1.06 &     19.10 &      0.00 &         80.90 &        100.00 \\\\\n",
      "      2.15 &       1.06 &     46.99 &     47.86 &         53.01 &         52.14 \\\\\n",
      "      2.16 &       1.06 &     18.89 &      0.00 &         81.11 &        100.00 \\\\\n",
      "      2.18 &       1.06 &     19.18 &      0.00 &         80.82 &        100.00 \\\\\n",
      "      2.17 &       2.00 &     17.95 &      3.15 &         82.05 &         96.85 \\\\\n",
      "      2.16 &       1.06 &     18.76 &      0.00 &         81.24 &        100.00 \\\\\n",
      "      2.18 &       1.06 &     19.20 &      0.00 &         80.80 &        100.00 \\\\\n",
      "      2.17 &       1.06 &     19.25 &      0.00 &         80.75 &        100.00 \\\\\n",
      "      2.16 &       0.30 &     19.99 &      0.00 &         80.01 &        100.00 \\\\\n",
      "      2.18 &       1.06 &     19.52 &      0.00 &         80.48 &        100.00 \\\\\n",
      "      2.16 &       1.06 &     18.78 &      0.00 &         81.22 &        100.00 \\\\\n",
      "      2.18 &       1.06 &     18.80 &      0.00 &         81.20 &        100.00 \\\\\n",
      "      2.18 &       1.06 &     19.24 &      0.00 &         80.76 &        100.00 \\\\\n",
      "      2.18 &       1.06 &     18.82 &      0.00 &         81.18 &        100.00 \\\\\n",
      "      2.16 &       1.06 &     19.66 &      0.00 &         80.34 &        100.00 \\\\\n",
      "      2.17 &       1.06 &     19.42 &      0.00 &         80.58 &        100.00 \\\\\n",
      "      2.16 &       1.06 &     19.90 &      0.00 &         80.10 &        100.00 \\\\\n",
      "      2.16 &       1.06 &     18.98 &      0.00 &         81.02 &        100.00 \\\\\n",
      "      2.19 &       1.06 &     18.54 &      0.00 &         81.46 &        100.00 \\\\\n",
      "      2.16 &       1.06 &     19.81 &      0.00 &         80.19 &        100.00 \\\\\n",
      "      2.18 &       1.06 &     19.21 &      0.00 &         80.79 &        100.00 \\\\\n",
      "      2.20 &       2.00 &     10.52 &      0.00 &         89.48 &        100.00 \\\\\n",
      "      2.17 &       1.06 &     18.92 &      0.00 &         81.08 &        100.00 \\\\\n",
      "      2.16 &       1.06 &     18.73 &      0.00 &         81.27 &        100.00 \\\\\n",
      "      2.19 &       1.81 &     27.95 &     54.73 &         72.05 &         45.27 \\\\\n",
      "      2.18 &       1.06 &     18.95 &      0.00 &         81.05 &        100.00 \\\\\n",
      "      2.17 &       1.06 &     17.97 &      0.00 &         82.03 &        100.00 \\\\\n",
      "      2.17 &       1.06 &     18.27 &     11.11 &         81.73 &         88.89 \\\\\n",
      "      2.17 &       1.06 &     18.01 &      0.00 &         81.99 &        100.00 \\\\\n",
      "      2.17 &       1.06 &     18.53 &      0.00 &         81.47 &        100.00 \\\\\n",
      "      2.17 &       1.06 &     19.26 &      0.00 &         80.74 &        100.00 \\\\\n",
      "      2.19 &       1.06 &     31.10 &    100.00 &         68.90 &          0.00 \\\\\n",
      "      2.19 &       1.06 &     18.81 &      0.00 &         81.19 &        100.00 \\\\\n",
      "      2.18 &       1.06 &     19.43 &      0.00 &         80.57 &        100.00 \\\\\n",
      "      2.20 &       1.06 &     19.20 &      0.00 &         80.80 &        100.00 \\\\\n",
      "      2.16 &       1.06 &     19.07 &      0.00 &         80.93 &        100.00 \\\\\n",
      "\\bottomrule\n",
      "\\end{tabular}\n",
      "\n",
      "\\begin{tabular}{rrr}\n",
      "\\toprule\n",
      " Surrogate &    ABM &  Difference (p.p.) \\\\\n",
      "      0.26 &   0.04 &              -0.22 \\\\\n",
      "\\midrule\n",
      "      0.44 &   0.17 &              -0.27 \\\\\n",
      "      0.22 &   0.08 &              -0.14 \\\\\n",
      "     -0.00 &  -0.02 &              -0.02 \\\\\n",
      "      0.22 &   0.03 &              -0.19 \\\\\n",
      "     -0.07 &  -0.08 &              -0.01 \\\\\n",
      "     -4.68 &  -0.14 &               4.54 \\\\\n",
      "      0.00 &  -0.05 &              -0.05 \\\\\n",
      "     -0.88 &  -0.55 &               0.33 \\\\\n",
      "    -20.09 & -42.03 &             -21.94 \\\\\n",
      "     -5.83 &  -1.22 &               4.61 \\\\\n",
      "     -0.57 &  -0.08 &               0.49 \\\\\n",
      "     -0.47 &  -0.32 &               0.15 \\\\\n",
      "     -6.42 &  -3.26 &               3.16 \\\\\n",
      "     -6.03 &  -1.58 &               4.45 \\\\\n",
      "     -0.00 &  -0.09 &              -0.09 \\\\\n",
      "      0.33 &   0.03 &              -0.30 \\\\\n",
      "     -0.71 &  -0.15 &               0.56 \\\\\n",
      "     -5.04 &  -2.65 &               2.39 \\\\\n",
      "     -0.05 &   0.01 &               0.06 \\\\\n",
      "     -0.00 &  -0.01 &              -0.01 \\\\\n",
      "      0.27 &   0.02 &              -0.25 \\\\\n",
      "     -2.23 &  -1.65 &               0.58 \\\\\n",
      "\\bottomrule\n",
      "\\end{tabular}\n",
      "\n"
     ]
    }
   ],
   "source": [
    "for key in tables:\n",
    "    table = tables[key]\n",
    "    print(table.to_latex(index=False))\n",
    "    name = 'table_csvs/' + key + '.csv'\n",
    "    table.to_csv(name, index=False, sep=';')"
   ],
   "metadata": {
    "collapsed": false,
    "pycharm": {
     "name": "#%%\n"
    }
   }
  },
  {
   "cell_type": "markdown",
   "source": [
    "# Creating the histogram for the mean and standard deviations per MR"
   ],
   "metadata": {
    "collapsed": false
   }
  },
  {
   "cell_type": "code",
   "execution_count": 30,
   "outputs": [
    {
     "data": {
      "text/plain": "                    MR  Policy: none  Policy: buy  Policy: rent  Policy: wage\n1       Belo Horizonte        100.00       -90.58          0.00          0.00\n7            São Paulo         29.84        -1.14         -0.90          7.23\n44      Rio de Janeiro         27.38        -0.12          1.11          1.33\n8            Joinville         19.43       -14.26          7.67          8.91\n9         Campo Grande         18.63       -15.02         10.02          8.91\n41             Pelotas         18.58       -15.81         10.24         10.71\n15         João Pessoa         18.47       -14.78         10.11          8.97\n17              Maceio         18.43       -15.06          9.84          9.83\n22             Maringá         18.14       -14.33         10.16         10.86\n42  Petrolina-Juazeiro         18.11       -13.97          9.16          9.25\n34               Crato         17.92       -15.45          9.81         10.55\n11    Feira de Santana         17.88       -14.90         10.29          9.08\n0                  all         17.87       -14.25         13.16         15.05\n24              Cuiabá         17.59       -14.91         10.70         10.21\n21          Uberlandia         17.57       -13.62         10.73         10.39\n14            Sorocaba         17.56       -14.45         11.14         10.60\n18                 SJC         17.54       -14.21         10.55          9.59\n28              Manaus         17.30       -14.58         11.94         11.14\n46       Volta Redonda         17.23       -14.12          9.72         11.38\n12            Ipatinga         17.22       -14.61         11.26         11.34\n26               NH-SL         17.21       -14.78         10.61         11.06\n23             Vitória         17.18       -14.97         11.86         10.99\n6               Recife         17.02       -14.62         11.65         10.69\n31      Campina Grande         16.96       -14.73         12.92         11.15\n13            Londrina         16.77       -13.63         11.96         11.48\n40               Natal         16.62       -14.53         10.81         11.59\n36       Florianópolis         16.50       -13.53         12.25         11.57\n19      Ilheus-Itabuna         16.50       -14.49         12.57         12.52\n38        Juiz de Fora         16.40       -12.68         11.81         10.90\n27            Teresina         16.21       -14.34         12.15         12.15\n39              Macapá         16.15       -13.75         11.67         12.36\n43      Ribeirão Preto         16.08       -14.28         12.20         12.16\n30             Aracaju         15.87       -13.97         11.93         11.73\n37             Goiânia         15.86       -14.32         13.58         12.45\n32              Campos         15.83       -13.76         13.06         11.73\n20            Sao Luis         15.73       -13.54         13.22         11.61\n33       Caxias do Sul         15.71       -13.06         13.46         11.89\n5             Salvador         15.04       -14.01         13.83         13.62\n45              Santos         14.67       -13.48         13.20         13.62\n10             Jundiai         14.56       -12.39         13.91         15.50\n16                SJRP         14.36       -12.68         13.23         14.07\n2            Fortaleza         13.99       -12.79         14.26         13.88\n35            Curitiba         12.37       -12.30         71.55         79.85\n25               Belém          8.00        -8.00         19.12         61.69\n3         Porto Alegre          4.62        -4.47         13.50         14.24\n4             Campinas          0.94        -0.94         63.56         97.53\n29            Brasília          0.00         0.00          0.00          0.00",
      "text/html": "<div>\n<style scoped>\n    .dataframe tbody tr th:only-of-type {\n        vertical-align: middle;\n    }\n\n    .dataframe tbody tr th {\n        vertical-align: top;\n    }\n\n    .dataframe thead th {\n        text-align: right;\n    }\n</style>\n<table border=\"1\" class=\"dataframe\">\n  <thead>\n    <tr style=\"text-align: right;\">\n      <th></th>\n      <th>MR</th>\n      <th>Policy: none</th>\n      <th>Policy: buy</th>\n      <th>Policy: rent</th>\n      <th>Policy: wage</th>\n    </tr>\n  </thead>\n  <tbody>\n    <tr>\n      <th>1</th>\n      <td>Belo Horizonte</td>\n      <td>100.00</td>\n      <td>-90.58</td>\n      <td>0.00</td>\n      <td>0.00</td>\n    </tr>\n    <tr>\n      <th>7</th>\n      <td>São Paulo</td>\n      <td>29.84</td>\n      <td>-1.14</td>\n      <td>-0.90</td>\n      <td>7.23</td>\n    </tr>\n    <tr>\n      <th>44</th>\n      <td>Rio de Janeiro</td>\n      <td>27.38</td>\n      <td>-0.12</td>\n      <td>1.11</td>\n      <td>1.33</td>\n    </tr>\n    <tr>\n      <th>8</th>\n      <td>Joinville</td>\n      <td>19.43</td>\n      <td>-14.26</td>\n      <td>7.67</td>\n      <td>8.91</td>\n    </tr>\n    <tr>\n      <th>9</th>\n      <td>Campo Grande</td>\n      <td>18.63</td>\n      <td>-15.02</td>\n      <td>10.02</td>\n      <td>8.91</td>\n    </tr>\n    <tr>\n      <th>41</th>\n      <td>Pelotas</td>\n      <td>18.58</td>\n      <td>-15.81</td>\n      <td>10.24</td>\n      <td>10.71</td>\n    </tr>\n    <tr>\n      <th>15</th>\n      <td>João Pessoa</td>\n      <td>18.47</td>\n      <td>-14.78</td>\n      <td>10.11</td>\n      <td>8.97</td>\n    </tr>\n    <tr>\n      <th>17</th>\n      <td>Maceio</td>\n      <td>18.43</td>\n      <td>-15.06</td>\n      <td>9.84</td>\n      <td>9.83</td>\n    </tr>\n    <tr>\n      <th>22</th>\n      <td>Maringá</td>\n      <td>18.14</td>\n      <td>-14.33</td>\n      <td>10.16</td>\n      <td>10.86</td>\n    </tr>\n    <tr>\n      <th>42</th>\n      <td>Petrolina-Juazeiro</td>\n      <td>18.11</td>\n      <td>-13.97</td>\n      <td>9.16</td>\n      <td>9.25</td>\n    </tr>\n    <tr>\n      <th>34</th>\n      <td>Crato</td>\n      <td>17.92</td>\n      <td>-15.45</td>\n      <td>9.81</td>\n      <td>10.55</td>\n    </tr>\n    <tr>\n      <th>11</th>\n      <td>Feira de Santana</td>\n      <td>17.88</td>\n      <td>-14.90</td>\n      <td>10.29</td>\n      <td>9.08</td>\n    </tr>\n    <tr>\n      <th>0</th>\n      <td>all</td>\n      <td>17.87</td>\n      <td>-14.25</td>\n      <td>13.16</td>\n      <td>15.05</td>\n    </tr>\n    <tr>\n      <th>24</th>\n      <td>Cuiabá</td>\n      <td>17.59</td>\n      <td>-14.91</td>\n      <td>10.70</td>\n      <td>10.21</td>\n    </tr>\n    <tr>\n      <th>21</th>\n      <td>Uberlandia</td>\n      <td>17.57</td>\n      <td>-13.62</td>\n      <td>10.73</td>\n      <td>10.39</td>\n    </tr>\n    <tr>\n      <th>14</th>\n      <td>Sorocaba</td>\n      <td>17.56</td>\n      <td>-14.45</td>\n      <td>11.14</td>\n      <td>10.60</td>\n    </tr>\n    <tr>\n      <th>18</th>\n      <td>SJC</td>\n      <td>17.54</td>\n      <td>-14.21</td>\n      <td>10.55</td>\n      <td>9.59</td>\n    </tr>\n    <tr>\n      <th>28</th>\n      <td>Manaus</td>\n      <td>17.30</td>\n      <td>-14.58</td>\n      <td>11.94</td>\n      <td>11.14</td>\n    </tr>\n    <tr>\n      <th>46</th>\n      <td>Volta Redonda</td>\n      <td>17.23</td>\n      <td>-14.12</td>\n      <td>9.72</td>\n      <td>11.38</td>\n    </tr>\n    <tr>\n      <th>12</th>\n      <td>Ipatinga</td>\n      <td>17.22</td>\n      <td>-14.61</td>\n      <td>11.26</td>\n      <td>11.34</td>\n    </tr>\n    <tr>\n      <th>26</th>\n      <td>NH-SL</td>\n      <td>17.21</td>\n      <td>-14.78</td>\n      <td>10.61</td>\n      <td>11.06</td>\n    </tr>\n    <tr>\n      <th>23</th>\n      <td>Vitória</td>\n      <td>17.18</td>\n      <td>-14.97</td>\n      <td>11.86</td>\n      <td>10.99</td>\n    </tr>\n    <tr>\n      <th>6</th>\n      <td>Recife</td>\n      <td>17.02</td>\n      <td>-14.62</td>\n      <td>11.65</td>\n      <td>10.69</td>\n    </tr>\n    <tr>\n      <th>31</th>\n      <td>Campina Grande</td>\n      <td>16.96</td>\n      <td>-14.73</td>\n      <td>12.92</td>\n      <td>11.15</td>\n    </tr>\n    <tr>\n      <th>13</th>\n      <td>Londrina</td>\n      <td>16.77</td>\n      <td>-13.63</td>\n      <td>11.96</td>\n      <td>11.48</td>\n    </tr>\n    <tr>\n      <th>40</th>\n      <td>Natal</td>\n      <td>16.62</td>\n      <td>-14.53</td>\n      <td>10.81</td>\n      <td>11.59</td>\n    </tr>\n    <tr>\n      <th>36</th>\n      <td>Florianópolis</td>\n      <td>16.50</td>\n      <td>-13.53</td>\n      <td>12.25</td>\n      <td>11.57</td>\n    </tr>\n    <tr>\n      <th>19</th>\n      <td>Ilheus-Itabuna</td>\n      <td>16.50</td>\n      <td>-14.49</td>\n      <td>12.57</td>\n      <td>12.52</td>\n    </tr>\n    <tr>\n      <th>38</th>\n      <td>Juiz de Fora</td>\n      <td>16.40</td>\n      <td>-12.68</td>\n      <td>11.81</td>\n      <td>10.90</td>\n    </tr>\n    <tr>\n      <th>27</th>\n      <td>Teresina</td>\n      <td>16.21</td>\n      <td>-14.34</td>\n      <td>12.15</td>\n      <td>12.15</td>\n    </tr>\n    <tr>\n      <th>39</th>\n      <td>Macapá</td>\n      <td>16.15</td>\n      <td>-13.75</td>\n      <td>11.67</td>\n      <td>12.36</td>\n    </tr>\n    <tr>\n      <th>43</th>\n      <td>Ribeirão Preto</td>\n      <td>16.08</td>\n      <td>-14.28</td>\n      <td>12.20</td>\n      <td>12.16</td>\n    </tr>\n    <tr>\n      <th>30</th>\n      <td>Aracaju</td>\n      <td>15.87</td>\n      <td>-13.97</td>\n      <td>11.93</td>\n      <td>11.73</td>\n    </tr>\n    <tr>\n      <th>37</th>\n      <td>Goiânia</td>\n      <td>15.86</td>\n      <td>-14.32</td>\n      <td>13.58</td>\n      <td>12.45</td>\n    </tr>\n    <tr>\n      <th>32</th>\n      <td>Campos</td>\n      <td>15.83</td>\n      <td>-13.76</td>\n      <td>13.06</td>\n      <td>11.73</td>\n    </tr>\n    <tr>\n      <th>20</th>\n      <td>Sao Luis</td>\n      <td>15.73</td>\n      <td>-13.54</td>\n      <td>13.22</td>\n      <td>11.61</td>\n    </tr>\n    <tr>\n      <th>33</th>\n      <td>Caxias do Sul</td>\n      <td>15.71</td>\n      <td>-13.06</td>\n      <td>13.46</td>\n      <td>11.89</td>\n    </tr>\n    <tr>\n      <th>5</th>\n      <td>Salvador</td>\n      <td>15.04</td>\n      <td>-14.01</td>\n      <td>13.83</td>\n      <td>13.62</td>\n    </tr>\n    <tr>\n      <th>45</th>\n      <td>Santos</td>\n      <td>14.67</td>\n      <td>-13.48</td>\n      <td>13.20</td>\n      <td>13.62</td>\n    </tr>\n    <tr>\n      <th>10</th>\n      <td>Jundiai</td>\n      <td>14.56</td>\n      <td>-12.39</td>\n      <td>13.91</td>\n      <td>15.50</td>\n    </tr>\n    <tr>\n      <th>16</th>\n      <td>SJRP</td>\n      <td>14.36</td>\n      <td>-12.68</td>\n      <td>13.23</td>\n      <td>14.07</td>\n    </tr>\n    <tr>\n      <th>2</th>\n      <td>Fortaleza</td>\n      <td>13.99</td>\n      <td>-12.79</td>\n      <td>14.26</td>\n      <td>13.88</td>\n    </tr>\n    <tr>\n      <th>35</th>\n      <td>Curitiba</td>\n      <td>12.37</td>\n      <td>-12.30</td>\n      <td>71.55</td>\n      <td>79.85</td>\n    </tr>\n    <tr>\n      <th>25</th>\n      <td>Belém</td>\n      <td>8.00</td>\n      <td>-8.00</td>\n      <td>19.12</td>\n      <td>61.69</td>\n    </tr>\n    <tr>\n      <th>3</th>\n      <td>Porto Alegre</td>\n      <td>4.62</td>\n      <td>-4.47</td>\n      <td>13.50</td>\n      <td>14.24</td>\n    </tr>\n    <tr>\n      <th>4</th>\n      <td>Campinas</td>\n      <td>0.94</td>\n      <td>-0.94</td>\n      <td>63.56</td>\n      <td>97.53</td>\n    </tr>\n    <tr>\n      <th>29</th>\n      <td>Brasília</td>\n      <td>0.00</td>\n      <td>0.00</td>\n      <td>0.00</td>\n      <td>0.00</td>\n    </tr>\n  </tbody>\n</table>\n</div>"
     },
     "execution_count": 30,
     "metadata": {},
     "output_type": "execute_result"
    }
   ],
   "source": [
    "mean_policy_acp"
   ],
   "metadata": {
    "collapsed": false,
    "pycharm": {
     "name": "#%%\n"
    }
   }
  },
  {
   "cell_type": "code",
   "execution_count": 32,
   "outputs": [],
   "source": [
    "hist_mean = mean_policy_acp.copy()\n",
    "hist_std = std_policy_acp.copy()\n",
    "\n",
    "for col in ['Policy: buy', 'Policy: rent', 'Policy: wage']:\n",
    "    hist_mean[col] = mean_policy_acp.loc[:,['Policy: none',col]].sum(axis=1)\n",
    "    hist_std[col] = std_policy_acp.loc[:,['Policy: none',col]].sum(axis=1)"
   ],
   "metadata": {
    "collapsed": false,
    "pycharm": {
     "name": "#%%\n"
    }
   }
  },
  {
   "cell_type": "code",
   "execution_count": 33,
   "outputs": [
    {
     "data": {
      "text/plain": "                    MR  Policy: none  Policy: buy  Policy: rent  Policy: wage\n1       Belo Horizonte        100.00         9.42        100.00        100.00\n7            São Paulo         29.84        28.70         28.94         37.07\n44      Rio de Janeiro         27.38        27.26         28.49         28.71\n8            Joinville         19.43         5.17         27.10         28.34\n9         Campo Grande         18.63         3.61         28.65         27.54\n41             Pelotas         18.58         2.77         28.82         29.29\n15         João Pessoa         18.47         3.69         28.58         27.44\n17              Maceio         18.43         3.37         28.27         28.26\n22             Maringá         18.14         3.81         28.30         29.00\n42  Petrolina-Juazeiro         18.11         4.14         27.27         27.36\n34               Crato         17.92         2.47         27.73         28.47\n11    Feira de Santana         17.88         2.98         28.17         26.96\n0                  all         17.87         3.62         31.03         32.92\n24              Cuiabá         17.59         2.68         28.29         27.80\n21          Uberlandia         17.57         3.95         28.30         27.96\n14            Sorocaba         17.56         3.11         28.70         28.16\n18                 SJC         17.54         3.33         28.09         27.13\n28              Manaus         17.30         2.72         29.24         28.44\n46       Volta Redonda         17.23         3.11         26.95         28.61\n12            Ipatinga         17.22         2.61         28.48         28.56\n26               NH-SL         17.21         2.43         27.82         28.27\n23             Vitória         17.18         2.21         29.04         28.17\n6               Recife         17.02         2.40         28.67         27.71\n31      Campina Grande         16.96         2.23         29.88         28.11\n13            Londrina         16.77         3.14         28.73         28.25\n40               Natal         16.62         2.09         27.43         28.21\n36       Florianópolis         16.50         2.97         28.75         28.07\n19      Ilheus-Itabuna         16.50         2.01         29.07         29.02\n38        Juiz de Fora         16.40         3.72         28.21         27.30\n27            Teresina         16.21         1.87         28.36         28.36\n39              Macapá         16.15         2.40         27.82         28.51\n43      Ribeirão Preto         16.08         1.80         28.28         28.24\n30             Aracaju         15.87         1.90         27.80         27.60\n37             Goiânia         15.86         1.54         29.44         28.31\n32              Campos         15.83         2.07         28.89         27.56\n20            Sao Luis         15.73         2.19         28.95         27.34\n33       Caxias do Sul         15.71         2.65         29.17         27.60\n5             Salvador         15.04         1.03         28.87         28.66\n45              Santos         14.67         1.19         27.87         28.29\n10             Jundiai         14.56         2.17         28.47         30.06\n16                SJRP         14.36         1.68         27.59         28.43\n2            Fortaleza         13.99         1.20         28.25         27.87\n35            Curitiba         12.37         0.07         83.92         92.22\n25               Belém          8.00         0.00         27.12         69.69\n3         Porto Alegre          4.62         0.15         18.12         18.86\n4             Campinas          0.94         0.00         64.50         98.47\n29            Brasília          0.00         0.00          0.00          0.00",
      "text/html": "<div>\n<style scoped>\n    .dataframe tbody tr th:only-of-type {\n        vertical-align: middle;\n    }\n\n    .dataframe tbody tr th {\n        vertical-align: top;\n    }\n\n    .dataframe thead th {\n        text-align: right;\n    }\n</style>\n<table border=\"1\" class=\"dataframe\">\n  <thead>\n    <tr style=\"text-align: right;\">\n      <th></th>\n      <th>MR</th>\n      <th>Policy: none</th>\n      <th>Policy: buy</th>\n      <th>Policy: rent</th>\n      <th>Policy: wage</th>\n    </tr>\n  </thead>\n  <tbody>\n    <tr>\n      <th>1</th>\n      <td>Belo Horizonte</td>\n      <td>100.00</td>\n      <td>9.42</td>\n      <td>100.00</td>\n      <td>100.00</td>\n    </tr>\n    <tr>\n      <th>7</th>\n      <td>São Paulo</td>\n      <td>29.84</td>\n      <td>28.70</td>\n      <td>28.94</td>\n      <td>37.07</td>\n    </tr>\n    <tr>\n      <th>44</th>\n      <td>Rio de Janeiro</td>\n      <td>27.38</td>\n      <td>27.26</td>\n      <td>28.49</td>\n      <td>28.71</td>\n    </tr>\n    <tr>\n      <th>8</th>\n      <td>Joinville</td>\n      <td>19.43</td>\n      <td>5.17</td>\n      <td>27.10</td>\n      <td>28.34</td>\n    </tr>\n    <tr>\n      <th>9</th>\n      <td>Campo Grande</td>\n      <td>18.63</td>\n      <td>3.61</td>\n      <td>28.65</td>\n      <td>27.54</td>\n    </tr>\n    <tr>\n      <th>41</th>\n      <td>Pelotas</td>\n      <td>18.58</td>\n      <td>2.77</td>\n      <td>28.82</td>\n      <td>29.29</td>\n    </tr>\n    <tr>\n      <th>15</th>\n      <td>João Pessoa</td>\n      <td>18.47</td>\n      <td>3.69</td>\n      <td>28.58</td>\n      <td>27.44</td>\n    </tr>\n    <tr>\n      <th>17</th>\n      <td>Maceio</td>\n      <td>18.43</td>\n      <td>3.37</td>\n      <td>28.27</td>\n      <td>28.26</td>\n    </tr>\n    <tr>\n      <th>22</th>\n      <td>Maringá</td>\n      <td>18.14</td>\n      <td>3.81</td>\n      <td>28.30</td>\n      <td>29.00</td>\n    </tr>\n    <tr>\n      <th>42</th>\n      <td>Petrolina-Juazeiro</td>\n      <td>18.11</td>\n      <td>4.14</td>\n      <td>27.27</td>\n      <td>27.36</td>\n    </tr>\n    <tr>\n      <th>34</th>\n      <td>Crato</td>\n      <td>17.92</td>\n      <td>2.47</td>\n      <td>27.73</td>\n      <td>28.47</td>\n    </tr>\n    <tr>\n      <th>11</th>\n      <td>Feira de Santana</td>\n      <td>17.88</td>\n      <td>2.98</td>\n      <td>28.17</td>\n      <td>26.96</td>\n    </tr>\n    <tr>\n      <th>0</th>\n      <td>all</td>\n      <td>17.87</td>\n      <td>3.62</td>\n      <td>31.03</td>\n      <td>32.92</td>\n    </tr>\n    <tr>\n      <th>24</th>\n      <td>Cuiabá</td>\n      <td>17.59</td>\n      <td>2.68</td>\n      <td>28.29</td>\n      <td>27.80</td>\n    </tr>\n    <tr>\n      <th>21</th>\n      <td>Uberlandia</td>\n      <td>17.57</td>\n      <td>3.95</td>\n      <td>28.30</td>\n      <td>27.96</td>\n    </tr>\n    <tr>\n      <th>14</th>\n      <td>Sorocaba</td>\n      <td>17.56</td>\n      <td>3.11</td>\n      <td>28.70</td>\n      <td>28.16</td>\n    </tr>\n    <tr>\n      <th>18</th>\n      <td>SJC</td>\n      <td>17.54</td>\n      <td>3.33</td>\n      <td>28.09</td>\n      <td>27.13</td>\n    </tr>\n    <tr>\n      <th>28</th>\n      <td>Manaus</td>\n      <td>17.30</td>\n      <td>2.72</td>\n      <td>29.24</td>\n      <td>28.44</td>\n    </tr>\n    <tr>\n      <th>46</th>\n      <td>Volta Redonda</td>\n      <td>17.23</td>\n      <td>3.11</td>\n      <td>26.95</td>\n      <td>28.61</td>\n    </tr>\n    <tr>\n      <th>12</th>\n      <td>Ipatinga</td>\n      <td>17.22</td>\n      <td>2.61</td>\n      <td>28.48</td>\n      <td>28.56</td>\n    </tr>\n    <tr>\n      <th>26</th>\n      <td>NH-SL</td>\n      <td>17.21</td>\n      <td>2.43</td>\n      <td>27.82</td>\n      <td>28.27</td>\n    </tr>\n    <tr>\n      <th>23</th>\n      <td>Vitória</td>\n      <td>17.18</td>\n      <td>2.21</td>\n      <td>29.04</td>\n      <td>28.17</td>\n    </tr>\n    <tr>\n      <th>6</th>\n      <td>Recife</td>\n      <td>17.02</td>\n      <td>2.40</td>\n      <td>28.67</td>\n      <td>27.71</td>\n    </tr>\n    <tr>\n      <th>31</th>\n      <td>Campina Grande</td>\n      <td>16.96</td>\n      <td>2.23</td>\n      <td>29.88</td>\n      <td>28.11</td>\n    </tr>\n    <tr>\n      <th>13</th>\n      <td>Londrina</td>\n      <td>16.77</td>\n      <td>3.14</td>\n      <td>28.73</td>\n      <td>28.25</td>\n    </tr>\n    <tr>\n      <th>40</th>\n      <td>Natal</td>\n      <td>16.62</td>\n      <td>2.09</td>\n      <td>27.43</td>\n      <td>28.21</td>\n    </tr>\n    <tr>\n      <th>36</th>\n      <td>Florianópolis</td>\n      <td>16.50</td>\n      <td>2.97</td>\n      <td>28.75</td>\n      <td>28.07</td>\n    </tr>\n    <tr>\n      <th>19</th>\n      <td>Ilheus-Itabuna</td>\n      <td>16.50</td>\n      <td>2.01</td>\n      <td>29.07</td>\n      <td>29.02</td>\n    </tr>\n    <tr>\n      <th>38</th>\n      <td>Juiz de Fora</td>\n      <td>16.40</td>\n      <td>3.72</td>\n      <td>28.21</td>\n      <td>27.30</td>\n    </tr>\n    <tr>\n      <th>27</th>\n      <td>Teresina</td>\n      <td>16.21</td>\n      <td>1.87</td>\n      <td>28.36</td>\n      <td>28.36</td>\n    </tr>\n    <tr>\n      <th>39</th>\n      <td>Macapá</td>\n      <td>16.15</td>\n      <td>2.40</td>\n      <td>27.82</td>\n      <td>28.51</td>\n    </tr>\n    <tr>\n      <th>43</th>\n      <td>Ribeirão Preto</td>\n      <td>16.08</td>\n      <td>1.80</td>\n      <td>28.28</td>\n      <td>28.24</td>\n    </tr>\n    <tr>\n      <th>30</th>\n      <td>Aracaju</td>\n      <td>15.87</td>\n      <td>1.90</td>\n      <td>27.80</td>\n      <td>27.60</td>\n    </tr>\n    <tr>\n      <th>37</th>\n      <td>Goiânia</td>\n      <td>15.86</td>\n      <td>1.54</td>\n      <td>29.44</td>\n      <td>28.31</td>\n    </tr>\n    <tr>\n      <th>32</th>\n      <td>Campos</td>\n      <td>15.83</td>\n      <td>2.07</td>\n      <td>28.89</td>\n      <td>27.56</td>\n    </tr>\n    <tr>\n      <th>20</th>\n      <td>Sao Luis</td>\n      <td>15.73</td>\n      <td>2.19</td>\n      <td>28.95</td>\n      <td>27.34</td>\n    </tr>\n    <tr>\n      <th>33</th>\n      <td>Caxias do Sul</td>\n      <td>15.71</td>\n      <td>2.65</td>\n      <td>29.17</td>\n      <td>27.60</td>\n    </tr>\n    <tr>\n      <th>5</th>\n      <td>Salvador</td>\n      <td>15.04</td>\n      <td>1.03</td>\n      <td>28.87</td>\n      <td>28.66</td>\n    </tr>\n    <tr>\n      <th>45</th>\n      <td>Santos</td>\n      <td>14.67</td>\n      <td>1.19</td>\n      <td>27.87</td>\n      <td>28.29</td>\n    </tr>\n    <tr>\n      <th>10</th>\n      <td>Jundiai</td>\n      <td>14.56</td>\n      <td>2.17</td>\n      <td>28.47</td>\n      <td>30.06</td>\n    </tr>\n    <tr>\n      <th>16</th>\n      <td>SJRP</td>\n      <td>14.36</td>\n      <td>1.68</td>\n      <td>27.59</td>\n      <td>28.43</td>\n    </tr>\n    <tr>\n      <th>2</th>\n      <td>Fortaleza</td>\n      <td>13.99</td>\n      <td>1.20</td>\n      <td>28.25</td>\n      <td>27.87</td>\n    </tr>\n    <tr>\n      <th>35</th>\n      <td>Curitiba</td>\n      <td>12.37</td>\n      <td>0.07</td>\n      <td>83.92</td>\n      <td>92.22</td>\n    </tr>\n    <tr>\n      <th>25</th>\n      <td>Belém</td>\n      <td>8.00</td>\n      <td>0.00</td>\n      <td>27.12</td>\n      <td>69.69</td>\n    </tr>\n    <tr>\n      <th>3</th>\n      <td>Porto Alegre</td>\n      <td>4.62</td>\n      <td>0.15</td>\n      <td>18.12</td>\n      <td>18.86</td>\n    </tr>\n    <tr>\n      <th>4</th>\n      <td>Campinas</td>\n      <td>0.94</td>\n      <td>0.00</td>\n      <td>64.50</td>\n      <td>98.47</td>\n    </tr>\n    <tr>\n      <th>29</th>\n      <td>Brasília</td>\n      <td>0.00</td>\n      <td>0.00</td>\n      <td>0.00</td>\n      <td>0.00</td>\n    </tr>\n  </tbody>\n</table>\n</div>"
     },
     "execution_count": 33,
     "metadata": {},
     "output_type": "execute_result"
    }
   ],
   "source": [
    "hist_mean"
   ],
   "metadata": {
    "collapsed": false,
    "pycharm": {
     "name": "#%%\n"
    }
   }
  },
  {
   "cell_type": "code",
   "execution_count": 35,
   "outputs": [],
   "source": [
    "hist_std.sort_values(by='MR', inplace=True)\n",
    "hist_mean.sort_values(by='MR', inplace=True)"
   ],
   "metadata": {
    "collapsed": false,
    "pycharm": {
     "name": "#%%\n"
    }
   }
  },
  {
   "cell_type": "code",
   "execution_count": 36,
   "outputs": [
    {
     "data": {
      "text/plain": "                    MR  Policy: none  Policy: buy  Policy: rent  Policy: wage\n30             Aracaju         15.87         1.90         27.80         27.60\n1       Belo Horizonte        100.00         9.42        100.00        100.00\n25               Belém          8.00         0.00         27.12         69.69\n29            Brasília          0.00         0.00          0.00          0.00\n31      Campina Grande         16.96         2.23         29.88         28.11\n4             Campinas          0.94         0.00         64.50         98.47\n9         Campo Grande         18.63         3.61         28.65         27.54\n32              Campos         15.83         2.07         28.89         27.56\n33       Caxias do Sul         15.71         2.65         29.17         27.60\n34               Crato         17.92         2.47         27.73         28.47\n24              Cuiabá         17.59         2.68         28.29         27.80\n35            Curitiba         12.37         0.07         83.92         92.22\n11    Feira de Santana         17.88         2.98         28.17         26.96\n36       Florianópolis         16.50         2.97         28.75         28.07\n2            Fortaleza         13.99         1.20         28.25         27.87\n37             Goiânia         15.86         1.54         29.44         28.31\n19      Ilheus-Itabuna         16.50         2.01         29.07         29.02\n12            Ipatinga         17.22         2.61         28.48         28.56\n8            Joinville         19.43         5.17         27.10         28.34\n15         João Pessoa         18.47         3.69         28.58         27.44\n38        Juiz de Fora         16.40         3.72         28.21         27.30\n10             Jundiai         14.56         2.17         28.47         30.06\n13            Londrina         16.77         3.14         28.73         28.25\n39              Macapá         16.15         2.40         27.82         28.51\n17              Maceio         18.43         3.37         28.27         28.26\n28              Manaus         17.30         2.72         29.24         28.44\n22             Maringá         18.14         3.81         28.30         29.00\n26               NH-SL         17.21         2.43         27.82         28.27\n40               Natal         16.62         2.09         27.43         28.21\n41             Pelotas         18.58         2.77         28.82         29.29\n42  Petrolina-Juazeiro         18.11         4.14         27.27         27.36\n3         Porto Alegre          4.62         0.15         18.12         18.86\n6               Recife         17.02         2.40         28.67         27.71\n43      Ribeirão Preto         16.08         1.80         28.28         28.24\n44      Rio de Janeiro         27.38        27.26         28.49         28.71\n18                 SJC         17.54         3.33         28.09         27.13\n16                SJRP         14.36         1.68         27.59         28.43\n5             Salvador         15.04         1.03         28.87         28.66\n45              Santos         14.67         1.19         27.87         28.29\n20            Sao Luis         15.73         2.19         28.95         27.34\n14            Sorocaba         17.56         3.11         28.70         28.16\n7            São Paulo         29.84        28.70         28.94         37.07\n27            Teresina         16.21         1.87         28.36         28.36\n21          Uberlandia         17.57         3.95         28.30         27.96\n23             Vitória         17.18         2.21         29.04         28.17\n46       Volta Redonda         17.23         3.11         26.95         28.61\n0                  all         17.87         3.62         31.03         32.92",
      "text/html": "<div>\n<style scoped>\n    .dataframe tbody tr th:only-of-type {\n        vertical-align: middle;\n    }\n\n    .dataframe tbody tr th {\n        vertical-align: top;\n    }\n\n    .dataframe thead th {\n        text-align: right;\n    }\n</style>\n<table border=\"1\" class=\"dataframe\">\n  <thead>\n    <tr style=\"text-align: right;\">\n      <th></th>\n      <th>MR</th>\n      <th>Policy: none</th>\n      <th>Policy: buy</th>\n      <th>Policy: rent</th>\n      <th>Policy: wage</th>\n    </tr>\n  </thead>\n  <tbody>\n    <tr>\n      <th>30</th>\n      <td>Aracaju</td>\n      <td>15.87</td>\n      <td>1.90</td>\n      <td>27.80</td>\n      <td>27.60</td>\n    </tr>\n    <tr>\n      <th>1</th>\n      <td>Belo Horizonte</td>\n      <td>100.00</td>\n      <td>9.42</td>\n      <td>100.00</td>\n      <td>100.00</td>\n    </tr>\n    <tr>\n      <th>25</th>\n      <td>Belém</td>\n      <td>8.00</td>\n      <td>0.00</td>\n      <td>27.12</td>\n      <td>69.69</td>\n    </tr>\n    <tr>\n      <th>29</th>\n      <td>Brasília</td>\n      <td>0.00</td>\n      <td>0.00</td>\n      <td>0.00</td>\n      <td>0.00</td>\n    </tr>\n    <tr>\n      <th>31</th>\n      <td>Campina Grande</td>\n      <td>16.96</td>\n      <td>2.23</td>\n      <td>29.88</td>\n      <td>28.11</td>\n    </tr>\n    <tr>\n      <th>4</th>\n      <td>Campinas</td>\n      <td>0.94</td>\n      <td>0.00</td>\n      <td>64.50</td>\n      <td>98.47</td>\n    </tr>\n    <tr>\n      <th>9</th>\n      <td>Campo Grande</td>\n      <td>18.63</td>\n      <td>3.61</td>\n      <td>28.65</td>\n      <td>27.54</td>\n    </tr>\n    <tr>\n      <th>32</th>\n      <td>Campos</td>\n      <td>15.83</td>\n      <td>2.07</td>\n      <td>28.89</td>\n      <td>27.56</td>\n    </tr>\n    <tr>\n      <th>33</th>\n      <td>Caxias do Sul</td>\n      <td>15.71</td>\n      <td>2.65</td>\n      <td>29.17</td>\n      <td>27.60</td>\n    </tr>\n    <tr>\n      <th>34</th>\n      <td>Crato</td>\n      <td>17.92</td>\n      <td>2.47</td>\n      <td>27.73</td>\n      <td>28.47</td>\n    </tr>\n    <tr>\n      <th>24</th>\n      <td>Cuiabá</td>\n      <td>17.59</td>\n      <td>2.68</td>\n      <td>28.29</td>\n      <td>27.80</td>\n    </tr>\n    <tr>\n      <th>35</th>\n      <td>Curitiba</td>\n      <td>12.37</td>\n      <td>0.07</td>\n      <td>83.92</td>\n      <td>92.22</td>\n    </tr>\n    <tr>\n      <th>11</th>\n      <td>Feira de Santana</td>\n      <td>17.88</td>\n      <td>2.98</td>\n      <td>28.17</td>\n      <td>26.96</td>\n    </tr>\n    <tr>\n      <th>36</th>\n      <td>Florianópolis</td>\n      <td>16.50</td>\n      <td>2.97</td>\n      <td>28.75</td>\n      <td>28.07</td>\n    </tr>\n    <tr>\n      <th>2</th>\n      <td>Fortaleza</td>\n      <td>13.99</td>\n      <td>1.20</td>\n      <td>28.25</td>\n      <td>27.87</td>\n    </tr>\n    <tr>\n      <th>37</th>\n      <td>Goiânia</td>\n      <td>15.86</td>\n      <td>1.54</td>\n      <td>29.44</td>\n      <td>28.31</td>\n    </tr>\n    <tr>\n      <th>19</th>\n      <td>Ilheus-Itabuna</td>\n      <td>16.50</td>\n      <td>2.01</td>\n      <td>29.07</td>\n      <td>29.02</td>\n    </tr>\n    <tr>\n      <th>12</th>\n      <td>Ipatinga</td>\n      <td>17.22</td>\n      <td>2.61</td>\n      <td>28.48</td>\n      <td>28.56</td>\n    </tr>\n    <tr>\n      <th>8</th>\n      <td>Joinville</td>\n      <td>19.43</td>\n      <td>5.17</td>\n      <td>27.10</td>\n      <td>28.34</td>\n    </tr>\n    <tr>\n      <th>15</th>\n      <td>João Pessoa</td>\n      <td>18.47</td>\n      <td>3.69</td>\n      <td>28.58</td>\n      <td>27.44</td>\n    </tr>\n    <tr>\n      <th>38</th>\n      <td>Juiz de Fora</td>\n      <td>16.40</td>\n      <td>3.72</td>\n      <td>28.21</td>\n      <td>27.30</td>\n    </tr>\n    <tr>\n      <th>10</th>\n      <td>Jundiai</td>\n      <td>14.56</td>\n      <td>2.17</td>\n      <td>28.47</td>\n      <td>30.06</td>\n    </tr>\n    <tr>\n      <th>13</th>\n      <td>Londrina</td>\n      <td>16.77</td>\n      <td>3.14</td>\n      <td>28.73</td>\n      <td>28.25</td>\n    </tr>\n    <tr>\n      <th>39</th>\n      <td>Macapá</td>\n      <td>16.15</td>\n      <td>2.40</td>\n      <td>27.82</td>\n      <td>28.51</td>\n    </tr>\n    <tr>\n      <th>17</th>\n      <td>Maceio</td>\n      <td>18.43</td>\n      <td>3.37</td>\n      <td>28.27</td>\n      <td>28.26</td>\n    </tr>\n    <tr>\n      <th>28</th>\n      <td>Manaus</td>\n      <td>17.30</td>\n      <td>2.72</td>\n      <td>29.24</td>\n      <td>28.44</td>\n    </tr>\n    <tr>\n      <th>22</th>\n      <td>Maringá</td>\n      <td>18.14</td>\n      <td>3.81</td>\n      <td>28.30</td>\n      <td>29.00</td>\n    </tr>\n    <tr>\n      <th>26</th>\n      <td>NH-SL</td>\n      <td>17.21</td>\n      <td>2.43</td>\n      <td>27.82</td>\n      <td>28.27</td>\n    </tr>\n    <tr>\n      <th>40</th>\n      <td>Natal</td>\n      <td>16.62</td>\n      <td>2.09</td>\n      <td>27.43</td>\n      <td>28.21</td>\n    </tr>\n    <tr>\n      <th>41</th>\n      <td>Pelotas</td>\n      <td>18.58</td>\n      <td>2.77</td>\n      <td>28.82</td>\n      <td>29.29</td>\n    </tr>\n    <tr>\n      <th>42</th>\n      <td>Petrolina-Juazeiro</td>\n      <td>18.11</td>\n      <td>4.14</td>\n      <td>27.27</td>\n      <td>27.36</td>\n    </tr>\n    <tr>\n      <th>3</th>\n      <td>Porto Alegre</td>\n      <td>4.62</td>\n      <td>0.15</td>\n      <td>18.12</td>\n      <td>18.86</td>\n    </tr>\n    <tr>\n      <th>6</th>\n      <td>Recife</td>\n      <td>17.02</td>\n      <td>2.40</td>\n      <td>28.67</td>\n      <td>27.71</td>\n    </tr>\n    <tr>\n      <th>43</th>\n      <td>Ribeirão Preto</td>\n      <td>16.08</td>\n      <td>1.80</td>\n      <td>28.28</td>\n      <td>28.24</td>\n    </tr>\n    <tr>\n      <th>44</th>\n      <td>Rio de Janeiro</td>\n      <td>27.38</td>\n      <td>27.26</td>\n      <td>28.49</td>\n      <td>28.71</td>\n    </tr>\n    <tr>\n      <th>18</th>\n      <td>SJC</td>\n      <td>17.54</td>\n      <td>3.33</td>\n      <td>28.09</td>\n      <td>27.13</td>\n    </tr>\n    <tr>\n      <th>16</th>\n      <td>SJRP</td>\n      <td>14.36</td>\n      <td>1.68</td>\n      <td>27.59</td>\n      <td>28.43</td>\n    </tr>\n    <tr>\n      <th>5</th>\n      <td>Salvador</td>\n      <td>15.04</td>\n      <td>1.03</td>\n      <td>28.87</td>\n      <td>28.66</td>\n    </tr>\n    <tr>\n      <th>45</th>\n      <td>Santos</td>\n      <td>14.67</td>\n      <td>1.19</td>\n      <td>27.87</td>\n      <td>28.29</td>\n    </tr>\n    <tr>\n      <th>20</th>\n      <td>Sao Luis</td>\n      <td>15.73</td>\n      <td>2.19</td>\n      <td>28.95</td>\n      <td>27.34</td>\n    </tr>\n    <tr>\n      <th>14</th>\n      <td>Sorocaba</td>\n      <td>17.56</td>\n      <td>3.11</td>\n      <td>28.70</td>\n      <td>28.16</td>\n    </tr>\n    <tr>\n      <th>7</th>\n      <td>São Paulo</td>\n      <td>29.84</td>\n      <td>28.70</td>\n      <td>28.94</td>\n      <td>37.07</td>\n    </tr>\n    <tr>\n      <th>27</th>\n      <td>Teresina</td>\n      <td>16.21</td>\n      <td>1.87</td>\n      <td>28.36</td>\n      <td>28.36</td>\n    </tr>\n    <tr>\n      <th>21</th>\n      <td>Uberlandia</td>\n      <td>17.57</td>\n      <td>3.95</td>\n      <td>28.30</td>\n      <td>27.96</td>\n    </tr>\n    <tr>\n      <th>23</th>\n      <td>Vitória</td>\n      <td>17.18</td>\n      <td>2.21</td>\n      <td>29.04</td>\n      <td>28.17</td>\n    </tr>\n    <tr>\n      <th>46</th>\n      <td>Volta Redonda</td>\n      <td>17.23</td>\n      <td>3.11</td>\n      <td>26.95</td>\n      <td>28.61</td>\n    </tr>\n    <tr>\n      <th>0</th>\n      <td>all</td>\n      <td>17.87</td>\n      <td>3.62</td>\n      <td>31.03</td>\n      <td>32.92</td>\n    </tr>\n  </tbody>\n</table>\n</div>"
     },
     "execution_count": 36,
     "metadata": {},
     "output_type": "execute_result"
    }
   ],
   "source": [
    "hist_mean"
   ],
   "metadata": {
    "collapsed": false,
    "pycharm": {
     "name": "#%%\n"
    }
   }
  },
  {
   "cell_type": "code",
   "execution_count": 44,
   "outputs": [
    {
     "data": {
      "text/plain": "                    MR  Policy: none  Policy: buy  Policy: rent  Policy: wage\n30             Aracaju         36.54        13.67         44.80         44.70\n1       Belo Horizonte          0.00        29.21          0.00          0.00\n25               Belém         27.12         0.00         44.46         45.96\n29            Brasília          0.00         0.00          0.00          0.00\n31      Campina Grande         37.53        14.78         45.77         44.95\n4             Campinas          9.63         0.00         47.85         12.27\n9         Campo Grande         38.94        18.64         45.21         44.67\n32              Campos         36.50        14.25         45.32         44.68\n33       Caxias do Sul         36.39        16.07         45.45         44.70\n34               Crato         38.35        15.53         44.77         45.13\n24              Cuiabá         38.08        16.15         45.04         44.80\n35            Curitiba         32.92         2.70         36.73         26.79\n11    Feira de Santana         38.32        17.01         44.98         44.37\n36       Florianópolis         37.12        16.97         45.26         44.93\n2            Fortaleza         34.69        10.89         45.02         44.84\n37             Goiânia         36.53        12.33         45.58         45.05\n19      Ilheus-Itabuna         37.11        14.03         45.41         45.39\n12            Ipatinga         37.75        15.94         45.13         45.17\n8            Joinville         39.56        22.15         44.45         45.07\n15         João Pessoa         38.80        18.85         45.18         44.62\n38        Juiz de Fora         37.03        18.91         45.00         44.55\n10             Jundiai         35.27        14.56         45.13         45.85\n13            Londrina         37.36        17.45         45.25         45.02\n39              Macapá         36.80        15.31         44.81         45.15\n17              Maceio         38.78        18.04         45.03         45.03\n28              Manaus         37.82        16.26         45.49         45.11\n22             Maringá         38.54        19.15         45.05         45.38\n26               NH-SL         37.75        15.39         44.81         45.03\n40               Natal         37.23        14.32         44.62         45.00\n41             Pelotas         38.90        16.42         45.29         45.51\n42  Petrolina-Juazeiro         38.51        19.92         44.53         44.58\n3         Porto Alegre         20.99         3.88         38.52         39.12\n6               Recife         37.58        15.30         45.22         44.76\n43      Ribeirão Preto         36.74        13.30         45.03         45.02\n44      Rio de Janeiro         44.59        44.53         45.14         45.24\n18                 SJC         38.03        17.94         44.94         44.46\n16                SJRP         35.07        12.84         44.70         45.11\n5             Salvador         35.75        10.11         45.32         45.22\n45              Santos         35.38        10.84         44.83         45.04\n20            Sao Luis         36.41        14.65         45.35         44.57\n14            Sorocaba         38.05        17.35         45.24         44.98\n7            São Paulo         45.75        45.24         45.35         48.30\n27            Teresina         36.85        13.55         45.07         45.08\n21          Uberlandia         38.06        19.47         45.05         44.88\n23             Vitória         37.72        14.70         45.40         44.98\n46       Volta Redonda         37.77        17.36         44.37         45.19\n0                  all         38.31        18.68         46.26         46.99",
      "text/html": "<div>\n<style scoped>\n    .dataframe tbody tr th:only-of-type {\n        vertical-align: middle;\n    }\n\n    .dataframe tbody tr th {\n        vertical-align: top;\n    }\n\n    .dataframe thead th {\n        text-align: right;\n    }\n</style>\n<table border=\"1\" class=\"dataframe\">\n  <thead>\n    <tr style=\"text-align: right;\">\n      <th></th>\n      <th>MR</th>\n      <th>Policy: none</th>\n      <th>Policy: buy</th>\n      <th>Policy: rent</th>\n      <th>Policy: wage</th>\n    </tr>\n  </thead>\n  <tbody>\n    <tr>\n      <th>30</th>\n      <td>Aracaju</td>\n      <td>36.54</td>\n      <td>13.67</td>\n      <td>44.80</td>\n      <td>44.70</td>\n    </tr>\n    <tr>\n      <th>1</th>\n      <td>Belo Horizonte</td>\n      <td>0.00</td>\n      <td>29.21</td>\n      <td>0.00</td>\n      <td>0.00</td>\n    </tr>\n    <tr>\n      <th>25</th>\n      <td>Belém</td>\n      <td>27.12</td>\n      <td>0.00</td>\n      <td>44.46</td>\n      <td>45.96</td>\n    </tr>\n    <tr>\n      <th>29</th>\n      <td>Brasília</td>\n      <td>0.00</td>\n      <td>0.00</td>\n      <td>0.00</td>\n      <td>0.00</td>\n    </tr>\n    <tr>\n      <th>31</th>\n      <td>Campina Grande</td>\n      <td>37.53</td>\n      <td>14.78</td>\n      <td>45.77</td>\n      <td>44.95</td>\n    </tr>\n    <tr>\n      <th>4</th>\n      <td>Campinas</td>\n      <td>9.63</td>\n      <td>0.00</td>\n      <td>47.85</td>\n      <td>12.27</td>\n    </tr>\n    <tr>\n      <th>9</th>\n      <td>Campo Grande</td>\n      <td>38.94</td>\n      <td>18.64</td>\n      <td>45.21</td>\n      <td>44.67</td>\n    </tr>\n    <tr>\n      <th>32</th>\n      <td>Campos</td>\n      <td>36.50</td>\n      <td>14.25</td>\n      <td>45.32</td>\n      <td>44.68</td>\n    </tr>\n    <tr>\n      <th>33</th>\n      <td>Caxias do Sul</td>\n      <td>36.39</td>\n      <td>16.07</td>\n      <td>45.45</td>\n      <td>44.70</td>\n    </tr>\n    <tr>\n      <th>34</th>\n      <td>Crato</td>\n      <td>38.35</td>\n      <td>15.53</td>\n      <td>44.77</td>\n      <td>45.13</td>\n    </tr>\n    <tr>\n      <th>24</th>\n      <td>Cuiabá</td>\n      <td>38.08</td>\n      <td>16.15</td>\n      <td>45.04</td>\n      <td>44.80</td>\n    </tr>\n    <tr>\n      <th>35</th>\n      <td>Curitiba</td>\n      <td>32.92</td>\n      <td>2.70</td>\n      <td>36.73</td>\n      <td>26.79</td>\n    </tr>\n    <tr>\n      <th>11</th>\n      <td>Feira de Santana</td>\n      <td>38.32</td>\n      <td>17.01</td>\n      <td>44.98</td>\n      <td>44.37</td>\n    </tr>\n    <tr>\n      <th>36</th>\n      <td>Florianópolis</td>\n      <td>37.12</td>\n      <td>16.97</td>\n      <td>45.26</td>\n      <td>44.93</td>\n    </tr>\n    <tr>\n      <th>2</th>\n      <td>Fortaleza</td>\n      <td>34.69</td>\n      <td>10.89</td>\n      <td>45.02</td>\n      <td>44.84</td>\n    </tr>\n    <tr>\n      <th>37</th>\n      <td>Goiânia</td>\n      <td>36.53</td>\n      <td>12.33</td>\n      <td>45.58</td>\n      <td>45.05</td>\n    </tr>\n    <tr>\n      <th>19</th>\n      <td>Ilheus-Itabuna</td>\n      <td>37.11</td>\n      <td>14.03</td>\n      <td>45.41</td>\n      <td>45.39</td>\n    </tr>\n    <tr>\n      <th>12</th>\n      <td>Ipatinga</td>\n      <td>37.75</td>\n      <td>15.94</td>\n      <td>45.13</td>\n      <td>45.17</td>\n    </tr>\n    <tr>\n      <th>8</th>\n      <td>Joinville</td>\n      <td>39.56</td>\n      <td>22.15</td>\n      <td>44.45</td>\n      <td>45.07</td>\n    </tr>\n    <tr>\n      <th>15</th>\n      <td>João Pessoa</td>\n      <td>38.80</td>\n      <td>18.85</td>\n      <td>45.18</td>\n      <td>44.62</td>\n    </tr>\n    <tr>\n      <th>38</th>\n      <td>Juiz de Fora</td>\n      <td>37.03</td>\n      <td>18.91</td>\n      <td>45.00</td>\n      <td>44.55</td>\n    </tr>\n    <tr>\n      <th>10</th>\n      <td>Jundiai</td>\n      <td>35.27</td>\n      <td>14.56</td>\n      <td>45.13</td>\n      <td>45.85</td>\n    </tr>\n    <tr>\n      <th>13</th>\n      <td>Londrina</td>\n      <td>37.36</td>\n      <td>17.45</td>\n      <td>45.25</td>\n      <td>45.02</td>\n    </tr>\n    <tr>\n      <th>39</th>\n      <td>Macapá</td>\n      <td>36.80</td>\n      <td>15.31</td>\n      <td>44.81</td>\n      <td>45.15</td>\n    </tr>\n    <tr>\n      <th>17</th>\n      <td>Maceio</td>\n      <td>38.78</td>\n      <td>18.04</td>\n      <td>45.03</td>\n      <td>45.03</td>\n    </tr>\n    <tr>\n      <th>28</th>\n      <td>Manaus</td>\n      <td>37.82</td>\n      <td>16.26</td>\n      <td>45.49</td>\n      <td>45.11</td>\n    </tr>\n    <tr>\n      <th>22</th>\n      <td>Maringá</td>\n      <td>38.54</td>\n      <td>19.15</td>\n      <td>45.05</td>\n      <td>45.38</td>\n    </tr>\n    <tr>\n      <th>26</th>\n      <td>NH-SL</td>\n      <td>37.75</td>\n      <td>15.39</td>\n      <td>44.81</td>\n      <td>45.03</td>\n    </tr>\n    <tr>\n      <th>40</th>\n      <td>Natal</td>\n      <td>37.23</td>\n      <td>14.32</td>\n      <td>44.62</td>\n      <td>45.00</td>\n    </tr>\n    <tr>\n      <th>41</th>\n      <td>Pelotas</td>\n      <td>38.90</td>\n      <td>16.42</td>\n      <td>45.29</td>\n      <td>45.51</td>\n    </tr>\n    <tr>\n      <th>42</th>\n      <td>Petrolina-Juazeiro</td>\n      <td>38.51</td>\n      <td>19.92</td>\n      <td>44.53</td>\n      <td>44.58</td>\n    </tr>\n    <tr>\n      <th>3</th>\n      <td>Porto Alegre</td>\n      <td>20.99</td>\n      <td>3.88</td>\n      <td>38.52</td>\n      <td>39.12</td>\n    </tr>\n    <tr>\n      <th>6</th>\n      <td>Recife</td>\n      <td>37.58</td>\n      <td>15.30</td>\n      <td>45.22</td>\n      <td>44.76</td>\n    </tr>\n    <tr>\n      <th>43</th>\n      <td>Ribeirão Preto</td>\n      <td>36.74</td>\n      <td>13.30</td>\n      <td>45.03</td>\n      <td>45.02</td>\n    </tr>\n    <tr>\n      <th>44</th>\n      <td>Rio de Janeiro</td>\n      <td>44.59</td>\n      <td>44.53</td>\n      <td>45.14</td>\n      <td>45.24</td>\n    </tr>\n    <tr>\n      <th>18</th>\n      <td>SJC</td>\n      <td>38.03</td>\n      <td>17.94</td>\n      <td>44.94</td>\n      <td>44.46</td>\n    </tr>\n    <tr>\n      <th>16</th>\n      <td>SJRP</td>\n      <td>35.07</td>\n      <td>12.84</td>\n      <td>44.70</td>\n      <td>45.11</td>\n    </tr>\n    <tr>\n      <th>5</th>\n      <td>Salvador</td>\n      <td>35.75</td>\n      <td>10.11</td>\n      <td>45.32</td>\n      <td>45.22</td>\n    </tr>\n    <tr>\n      <th>45</th>\n      <td>Santos</td>\n      <td>35.38</td>\n      <td>10.84</td>\n      <td>44.83</td>\n      <td>45.04</td>\n    </tr>\n    <tr>\n      <th>20</th>\n      <td>Sao Luis</td>\n      <td>36.41</td>\n      <td>14.65</td>\n      <td>45.35</td>\n      <td>44.57</td>\n    </tr>\n    <tr>\n      <th>14</th>\n      <td>Sorocaba</td>\n      <td>38.05</td>\n      <td>17.35</td>\n      <td>45.24</td>\n      <td>44.98</td>\n    </tr>\n    <tr>\n      <th>7</th>\n      <td>São Paulo</td>\n      <td>45.75</td>\n      <td>45.24</td>\n      <td>45.35</td>\n      <td>48.30</td>\n    </tr>\n    <tr>\n      <th>27</th>\n      <td>Teresina</td>\n      <td>36.85</td>\n      <td>13.55</td>\n      <td>45.07</td>\n      <td>45.08</td>\n    </tr>\n    <tr>\n      <th>21</th>\n      <td>Uberlandia</td>\n      <td>38.06</td>\n      <td>19.47</td>\n      <td>45.05</td>\n      <td>44.88</td>\n    </tr>\n    <tr>\n      <th>23</th>\n      <td>Vitória</td>\n      <td>37.72</td>\n      <td>14.70</td>\n      <td>45.40</td>\n      <td>44.98</td>\n    </tr>\n    <tr>\n      <th>46</th>\n      <td>Volta Redonda</td>\n      <td>37.77</td>\n      <td>17.36</td>\n      <td>44.37</td>\n      <td>45.19</td>\n    </tr>\n    <tr>\n      <th>0</th>\n      <td>all</td>\n      <td>38.31</td>\n      <td>18.68</td>\n      <td>46.26</td>\n      <td>46.99</td>\n    </tr>\n  </tbody>\n</table>\n</div>"
     },
     "execution_count": 44,
     "metadata": {},
     "output_type": "execute_result"
    }
   ],
   "source": [
    "hist_std"
   ],
   "metadata": {
    "collapsed": false,
    "pycharm": {
     "name": "#%%\n"
    }
   }
  },
  {
   "cell_type": "code",
   "execution_count": 102,
   "outputs": [
    {
     "name": "stdout",
     "output_type": "stream",
     "text": [
      "{'MR': 'Aracaju', 'max': 52.41, 'value': 15.87, 'min': 0}\n",
      "{'MR': 'Aracaju', 'max': 15.569999999999997, 'value': 1.8999999999999986, 'min': 0}\n",
      "{'MR': 'Aracaju', 'max': 72.6, 'value': 27.799999999999997, 'min': 0}\n",
      "{'MR': 'Aracaju', 'max': 72.30000000000001, 'value': 27.6, 'min': 0}\n",
      "{'MR': 'Belo Horizonte', 'max': 100, 'value': 100.0, 'min': 100.0}\n",
      "{'MR': 'Belo Horizonte', 'max': 38.63, 'value': 9.420000000000002, 'min': 0}\n",
      "{'MR': 'Belo Horizonte', 'max': 100, 'value': 100.0, 'min': 100.0}\n",
      "{'MR': 'Belo Horizonte', 'max': 100, 'value': 100.0, 'min': 100.0}\n",
      "{'MR': 'Belém', 'max': 35.120000000000005, 'value': 8.0, 'min': 0}\n",
      "{'MR': 'Belém', 'max': 0.0, 'value': 0.0, 'min': 0}\n",
      "{'MR': 'Belém', 'max': 71.58, 'value': 27.12, 'min': 0}\n",
      "{'MR': 'Belém', 'max': 100, 'value': 69.69, 'min': 23.729999999999997}\n",
      "{'MR': 'Brasília', 'max': 0.0, 'value': 0.0, 'min': 0}\n",
      "{'MR': 'Brasília', 'max': 0.0, 'value': 0.0, 'min': 0}\n",
      "{'MR': 'Brasília', 'max': 0.0, 'value': 0.0, 'min': 0}\n",
      "{'MR': 'Brasília', 'max': 0.0, 'value': 0.0, 'min': 0}\n",
      "{'MR': 'Campina Grande', 'max': 54.49, 'value': 16.96, 'min': 0}\n",
      "{'MR': 'Campina Grande', 'max': 17.01, 'value': 2.2300000000000004, 'min': 0}\n",
      "{'MR': 'Campina Grande', 'max': 75.65, 'value': 29.880000000000003, 'min': 0}\n",
      "{'MR': 'Campina Grande', 'max': 73.06, 'value': 28.11, 'min': 0}\n",
      "{'MR': 'Campinas', 'max': 10.57, 'value': 0.94, 'min': 0}\n",
      "{'MR': 'Campinas', 'max': 0.0, 'value': 0.0, 'min': 0}\n",
      "{'MR': 'Campinas', 'max': 100, 'value': 64.5, 'min': 16.65}\n",
      "{'MR': 'Campinas', 'max': 100, 'value': 98.47, 'min': 86.2}\n",
      "{'MR': 'Campo Grande', 'max': 57.56999999999999, 'value': 18.63, 'min': 0}\n",
      "{'MR': 'Campo Grande', 'max': 22.249999999999996, 'value': 3.6099999999999994, 'min': 0}\n",
      "{'MR': 'Campo Grande', 'max': 73.85999999999999, 'value': 28.65, 'min': 0}\n",
      "{'MR': 'Campo Grande', 'max': 72.21000000000001, 'value': 27.54, 'min': 0}\n",
      "{'MR': 'Campos', 'max': 52.33, 'value': 15.83, 'min': 0}\n",
      "{'MR': 'Campos', 'max': 16.32, 'value': 2.0700000000000003, 'min': 0}\n",
      "{'MR': 'Campos', 'max': 74.21000000000001, 'value': 28.89, 'min': 0}\n",
      "{'MR': 'Campos', 'max': 72.24000000000001, 'value': 27.560000000000002, 'min': 0}\n",
      "{'MR': 'Caxias do Sul', 'max': 52.1, 'value': 15.71, 'min': 0}\n",
      "{'MR': 'Caxias do Sul', 'max': 18.72, 'value': 2.6500000000000004, 'min': 0}\n",
      "{'MR': 'Caxias do Sul', 'max': 74.62, 'value': 29.17, 'min': 0}\n",
      "{'MR': 'Caxias do Sul', 'max': 72.30000000000001, 'value': 27.6, 'min': 0}\n",
      "{'MR': 'Crato', 'max': 56.27, 'value': 17.92, 'min': 0}\n",
      "{'MR': 'Crato', 'max': 18.000000000000004, 'value': 2.4700000000000024, 'min': 0}\n",
      "{'MR': 'Crato', 'max': 72.5, 'value': 27.730000000000004, 'min': 0}\n",
      "{'MR': 'Crato', 'max': 73.60000000000001, 'value': 28.470000000000002, 'min': 0}\n",
      "{'MR': 'Cuiabá', 'max': 55.67, 'value': 17.59, 'min': 0}\n",
      "{'MR': 'Cuiabá', 'max': 18.83, 'value': 2.6799999999999997, 'min': 0}\n",
      "{'MR': 'Cuiabá', 'max': 73.33, 'value': 28.29, 'min': 0}\n",
      "{'MR': 'Cuiabá', 'max': 72.6, 'value': 27.8, 'min': 0}\n",
      "{'MR': 'Curitiba', 'max': 45.29, 'value': 12.37, 'min': 0}\n",
      "{'MR': 'Curitiba', 'max': 2.7700000000000014, 'value': 0.06999999999999851, 'min': 0}\n",
      "{'MR': 'Curitiba', 'max': 100, 'value': 83.92, 'min': 47.19}\n",
      "{'MR': 'Curitiba', 'max': 100, 'value': 92.22, 'min': 65.42999999999999}\n",
      "{'MR': 'Feira de Santana', 'max': 56.2, 'value': 17.88, 'min': 0}\n",
      "{'MR': 'Feira de Santana', 'max': 19.990000000000002, 'value': 2.9799999999999986, 'min': 0}\n",
      "{'MR': 'Feira de Santana', 'max': 73.15, 'value': 28.169999999999998, 'min': 0}\n",
      "{'MR': 'Feira de Santana', 'max': 71.33, 'value': 26.96, 'min': 0}\n",
      "{'MR': 'Florianópolis', 'max': 53.62, 'value': 16.5, 'min': 0}\n",
      "{'MR': 'Florianópolis', 'max': 19.939999999999998, 'value': 2.9700000000000006, 'min': 0}\n",
      "{'MR': 'Florianópolis', 'max': 74.00999999999999, 'value': 28.75, 'min': 0}\n",
      "{'MR': 'Florianópolis', 'max': 73.0, 'value': 28.07, 'min': 0}\n",
      "{'MR': 'Fortaleza', 'max': 48.68, 'value': 13.99, 'min': 0}\n",
      "{'MR': 'Fortaleza', 'max': 12.089999999999998, 'value': 1.200000000000001, 'min': 0}\n",
      "{'MR': 'Fortaleza', 'max': 73.27, 'value': 28.25, 'min': 0}\n",
      "{'MR': 'Fortaleza', 'max': 72.71, 'value': 27.87, 'min': 0}\n",
      "{'MR': 'Goiânia', 'max': 52.39, 'value': 15.86, 'min': 0}\n",
      "{'MR': 'Goiânia', 'max': 13.870000000000001, 'value': 1.5399999999999991, 'min': 0}\n",
      "{'MR': 'Goiânia', 'max': 75.02, 'value': 29.439999999999998, 'min': 0}\n",
      "{'MR': 'Goiânia', 'max': 73.36, 'value': 28.31, 'min': 0}\n",
      "{'MR': 'Ilheus-Itabuna', 'max': 53.61, 'value': 16.5, 'min': 0}\n",
      "{'MR': 'Ilheus-Itabuna', 'max': 16.04, 'value': 2.01, 'min': 0}\n",
      "{'MR': 'Ilheus-Itabuna', 'max': 74.47999999999999, 'value': 29.07, 'min': 0}\n",
      "{'MR': 'Ilheus-Itabuna', 'max': 74.41, 'value': 29.02, 'min': 0}\n",
      "{'MR': 'Ipatinga', 'max': 54.97, 'value': 17.22, 'min': 0}\n",
      "{'MR': 'Ipatinga', 'max': 18.55, 'value': 2.6099999999999994, 'min': 0}\n",
      "{'MR': 'Ipatinga', 'max': 73.61, 'value': 28.479999999999997, 'min': 0}\n",
      "{'MR': 'Ipatinga', 'max': 73.73, 'value': 28.56, 'min': 0}\n",
      "{'MR': 'Joinville', 'max': 58.99, 'value': 19.43, 'min': 0}\n",
      "{'MR': 'Joinville', 'max': 27.32, 'value': 5.17, 'min': 0}\n",
      "{'MR': 'Joinville', 'max': 71.55000000000001, 'value': 27.1, 'min': 0}\n",
      "{'MR': 'Joinville', 'max': 73.41, 'value': 28.34, 'min': 0}\n",
      "{'MR': 'João Pessoa', 'max': 57.269999999999996, 'value': 18.47, 'min': 0}\n",
      "{'MR': 'João Pessoa', 'max': 22.54, 'value': 3.6899999999999995, 'min': 0}\n",
      "{'MR': 'João Pessoa', 'max': 73.75999999999999, 'value': 28.58, 'min': 0}\n",
      "{'MR': 'João Pessoa', 'max': 72.06, 'value': 27.439999999999998, 'min': 0}\n",
      "{'MR': 'Juiz de Fora', 'max': 53.43, 'value': 16.4, 'min': 0}\n",
      "{'MR': 'Juiz de Fora', 'max': 22.63, 'value': 3.719999999999999, 'min': 0}\n",
      "{'MR': 'Juiz de Fora', 'max': 73.21000000000001, 'value': 28.21, 'min': 0}\n",
      "{'MR': 'Juiz de Fora', 'max': 71.85, 'value': 27.299999999999997, 'min': 0}\n",
      "{'MR': 'Jundiai', 'max': 49.830000000000005, 'value': 14.56, 'min': 0}\n",
      "{'MR': 'Jundiai', 'max': 16.730000000000004, 'value': 2.17, 'min': 0}\n",
      "{'MR': 'Jundiai', 'max': 73.6, 'value': 28.47, 'min': 0}\n",
      "{'MR': 'Jundiai', 'max': 75.91, 'value': 30.060000000000002, 'min': 0}\n",
      "{'MR': 'Londrina', 'max': 54.129999999999995, 'value': 16.77, 'min': 0}\n",
      "{'MR': 'Londrina', 'max': 20.589999999999996, 'value': 3.139999999999999, 'min': 0}\n",
      "{'MR': 'Londrina', 'max': 73.98, 'value': 28.73, 'min': 0}\n",
      "{'MR': 'Londrina', 'max': 73.27, 'value': 28.25, 'min': 0}\n",
      "{'MR': 'Macapá', 'max': 52.949999999999996, 'value': 16.15, 'min': 0}\n",
      "{'MR': 'Macapá', 'max': 17.709999999999997, 'value': 2.3999999999999986, 'min': 0}\n",
      "{'MR': 'Macapá', 'max': 72.63, 'value': 27.82, 'min': 0}\n",
      "{'MR': 'Macapá', 'max': 73.66, 'value': 28.509999999999998, 'min': 0}\n",
      "{'MR': 'Maceio', 'max': 57.21, 'value': 18.43, 'min': 0}\n",
      "{'MR': 'Maceio', 'max': 21.410000000000004, 'value': 3.369999999999999, 'min': 0}\n",
      "{'MR': 'Maceio', 'max': 73.3, 'value': 28.27, 'min': 0}\n",
      "{'MR': 'Maceio', 'max': 73.28999999999999, 'value': 28.259999999999998, 'min': 0}\n",
      "{'MR': 'Manaus', 'max': 55.120000000000005, 'value': 17.3, 'min': 0}\n",
      "{'MR': 'Manaus', 'max': 18.980000000000004, 'value': 2.7200000000000006, 'min': 0}\n",
      "{'MR': 'Manaus', 'max': 74.73, 'value': 29.240000000000002, 'min': 0}\n",
      "{'MR': 'Manaus', 'max': 73.55, 'value': 28.44, 'min': 0}\n",
      "{'MR': 'Maringá', 'max': 56.68, 'value': 18.14, 'min': 0}\n",
      "{'MR': 'Maringá', 'max': 22.96, 'value': 3.8100000000000005, 'min': 0}\n",
      "{'MR': 'Maringá', 'max': 73.35, 'value': 28.3, 'min': 0}\n",
      "{'MR': 'Maringá', 'max': 74.38, 'value': 29.0, 'min': 0}\n",
      "{'MR': 'NH-SL', 'max': 54.96, 'value': 17.21, 'min': 0}\n",
      "{'MR': 'NH-SL', 'max': 17.82, 'value': 2.4300000000000015, 'min': 0}\n",
      "{'MR': 'NH-SL', 'max': 72.63, 'value': 27.82, 'min': 0}\n",
      "{'MR': 'NH-SL', 'max': 73.30000000000001, 'value': 28.270000000000003, 'min': 0}\n",
      "{'MR': 'Natal', 'max': 53.849999999999994, 'value': 16.62, 'min': 0}\n",
      "{'MR': 'Natal', 'max': 16.409999999999997, 'value': 2.0900000000000016, 'min': 0}\n",
      "{'MR': 'Natal', 'max': 72.05, 'value': 27.43, 'min': 0}\n",
      "{'MR': 'Natal', 'max': 73.21000000000001, 'value': 28.21, 'min': 0}\n",
      "{'MR': 'Pelotas', 'max': 57.48, 'value': 18.58, 'min': 0}\n",
      "{'MR': 'Pelotas', 'max': 19.189999999999998, 'value': 2.769999999999998, 'min': 0}\n",
      "{'MR': 'Pelotas', 'max': 74.11, 'value': 28.82, 'min': 0}\n",
      "{'MR': 'Pelotas', 'max': 74.8, 'value': 29.29, 'min': 0}\n",
      "{'MR': 'Petrolina-Juazeiro', 'max': 56.62, 'value': 18.11, 'min': 0}\n",
      "{'MR': 'Petrolina-Juazeiro', 'max': 24.059999999999995, 'value': 4.139999999999999, 'min': 0}\n",
      "{'MR': 'Petrolina-Juazeiro', 'max': 71.8, 'value': 27.27, 'min': 0}\n",
      "{'MR': 'Petrolina-Juazeiro', 'max': 71.94, 'value': 27.36, 'min': 0}\n",
      "{'MR': 'Porto Alegre', 'max': 25.61, 'value': 4.62, 'min': 0}\n",
      "{'MR': 'Porto Alegre', 'max': 4.029999999999999, 'value': 0.15000000000000036, 'min': 0}\n",
      "{'MR': 'Porto Alegre', 'max': 56.64, 'value': 18.12, 'min': 0}\n",
      "{'MR': 'Porto Alegre', 'max': 57.98, 'value': 18.86, 'min': 0}\n",
      "{'MR': 'Recife', 'max': 54.599999999999994, 'value': 17.02, 'min': 0}\n",
      "{'MR': 'Recife', 'max': 17.699999999999996, 'value': 2.4000000000000004, 'min': 0}\n",
      "{'MR': 'Recife', 'max': 73.89, 'value': 28.67, 'min': 0}\n",
      "{'MR': 'Recife', 'max': 72.47, 'value': 27.71, 'min': 0}\n",
      "{'MR': 'Ribeirão Preto', 'max': 52.82, 'value': 16.08, 'min': 0}\n",
      "{'MR': 'Ribeirão Preto', 'max': 15.1, 'value': 1.799999999999999, 'min': 0}\n",
      "{'MR': 'Ribeirão Preto', 'max': 73.31, 'value': 28.279999999999998, 'min': 0}\n",
      "{'MR': 'Ribeirão Preto', 'max': 73.26, 'value': 28.24, 'min': 0}\n",
      "{'MR': 'Rio de Janeiro', 'max': 71.97, 'value': 27.38, 'min': 0}\n",
      "{'MR': 'Rio de Janeiro', 'max': 71.78999999999999, 'value': 27.259999999999998, 'min': 0}\n",
      "{'MR': 'Rio de Janeiro', 'max': 73.63, 'value': 28.49, 'min': 0}\n",
      "{'MR': 'Rio de Janeiro', 'max': 73.95, 'value': 28.71, 'min': 0}\n",
      "{'MR': 'SJC', 'max': 55.57, 'value': 17.54, 'min': 0}\n",
      "{'MR': 'SJC', 'max': 21.27, 'value': 3.3299999999999983, 'min': 0}\n",
      "{'MR': 'SJC', 'max': 73.03, 'value': 28.09, 'min': 0}\n",
      "{'MR': 'SJC', 'max': 71.59, 'value': 27.13, 'min': 0}\n",
      "{'MR': 'SJRP', 'max': 49.43, 'value': 14.36, 'min': 0}\n",
      "{'MR': 'SJRP', 'max': 14.52, 'value': 1.6799999999999997, 'min': 0}\n",
      "{'MR': 'SJRP', 'max': 72.29, 'value': 27.59, 'min': 0}\n",
      "{'MR': 'SJRP', 'max': 73.53999999999999, 'value': 28.43, 'min': 0}\n",
      "{'MR': 'Salvador', 'max': 50.79, 'value': 15.04, 'min': 0}\n",
      "{'MR': 'Salvador', 'max': 11.139999999999999, 'value': 1.0299999999999994, 'min': 0}\n",
      "{'MR': 'Salvador', 'max': 74.19, 'value': 28.869999999999997, 'min': 0}\n",
      "{'MR': 'Salvador', 'max': 73.88, 'value': 28.659999999999997, 'min': 0}\n",
      "{'MR': 'Santos', 'max': 50.050000000000004, 'value': 14.67, 'min': 0}\n",
      "{'MR': 'Santos', 'max': 12.030000000000003, 'value': 1.1899999999999995, 'min': 0}\n",
      "{'MR': 'Santos', 'max': 72.69999999999999, 'value': 27.869999999999997, 'min': 0}\n",
      "{'MR': 'Santos', 'max': 73.33000000000001, 'value': 28.29, 'min': 0}\n",
      "{'MR': 'Sao Luis', 'max': 52.14, 'value': 15.73, 'min': 0}\n",
      "{'MR': 'Sao Luis', 'max': 16.839999999999996, 'value': 2.1900000000000013, 'min': 0}\n",
      "{'MR': 'Sao Luis', 'max': 74.3, 'value': 28.950000000000003, 'min': 0}\n",
      "{'MR': 'Sao Luis', 'max': 71.91, 'value': 27.34, 'min': 0}\n",
      "{'MR': 'Sorocaba', 'max': 55.61, 'value': 17.56, 'min': 0}\n",
      "{'MR': 'Sorocaba', 'max': 20.459999999999997, 'value': 3.1099999999999994, 'min': 0}\n",
      "{'MR': 'Sorocaba', 'max': 73.94, 'value': 28.7, 'min': 0}\n",
      "{'MR': 'Sorocaba', 'max': 73.13999999999999, 'value': 28.159999999999997, 'min': 0}\n",
      "{'MR': 'São Paulo', 'max': 75.59, 'value': 29.84, 'min': 0}\n",
      "{'MR': 'São Paulo', 'max': 73.94, 'value': 28.7, 'min': 0}\n",
      "{'MR': 'São Paulo', 'max': 74.29, 'value': 28.94, 'min': 0}\n",
      "{'MR': 'São Paulo', 'max': 85.37, 'value': 37.07, 'min': 0}\n",
      "{'MR': 'Teresina', 'max': 53.06, 'value': 16.21, 'min': 0}\n",
      "{'MR': 'Teresina', 'max': 15.420000000000002, 'value': 1.870000000000001, 'min': 0}\n",
      "{'MR': 'Teresina', 'max': 73.43, 'value': 28.36, 'min': 0}\n",
      "{'MR': 'Teresina', 'max': 73.44, 'value': 28.36, 'min': 0}\n",
      "{'MR': 'Uberlandia', 'max': 55.63, 'value': 17.57, 'min': 0}\n",
      "{'MR': 'Uberlandia', 'max': 23.42, 'value': 3.950000000000001, 'min': 0}\n",
      "{'MR': 'Uberlandia', 'max': 73.35000000000001, 'value': 28.3, 'min': 0}\n",
      "{'MR': 'Uberlandia', 'max': 72.84, 'value': 27.96, 'min': 0}\n",
      "{'MR': 'Vitória', 'max': 54.9, 'value': 17.18, 'min': 0}\n",
      "{'MR': 'Vitória', 'max': 16.909999999999997, 'value': 2.209999999999999, 'min': 0}\n",
      "{'MR': 'Vitória', 'max': 74.44, 'value': 29.04, 'min': 0}\n",
      "{'MR': 'Vitória', 'max': 73.15, 'value': 28.17, 'min': 0}\n",
      "{'MR': 'Volta Redonda', 'max': 55.0, 'value': 17.23, 'min': 0}\n",
      "{'MR': 'Volta Redonda', 'max': 20.470000000000006, 'value': 3.110000000000001, 'min': 0}\n",
      "{'MR': 'Volta Redonda', 'max': 71.32000000000001, 'value': 26.950000000000003, 'min': 0}\n",
      "{'MR': 'Volta Redonda', 'max': 73.80000000000001, 'value': 28.61, 'min': 0}\n",
      "{'MR': 'all', 'max': 56.18000000000001, 'value': 17.87, 'min': 0}\n",
      "{'MR': 'all', 'max': 22.300000000000004, 'value': 3.620000000000001, 'min': 0}\n",
      "{'MR': 'all', 'max': 77.29, 'value': 31.03, 'min': 0}\n",
      "{'MR': 'all', 'max': 79.91, 'value': 32.92, 'min': 0}\n"
     ]
    }
   ],
   "source": [
    "no_policy, buy, rent, wage = pd.DataFrame(), pd.DataFrame(), pd.DataFrame(), pd.DataFrame()\n",
    "_dict = {'Policy: none' : no_policy,\n",
    "        'Policy: buy' : buy,\n",
    "        'Policy: rent' : rent,\n",
    "        'Policy: wage' : wage}\n",
    "\n",
    "for acp in list(hist_mean['MR']):\n",
    "    for policy in ['Policy: none', 'Policy: buy', 'Policy: rent', 'Policy: wage']:\n",
    "        row = {'MR' : hist_mean.loc[(hist_mean['MR'] == acp)]['MR'].values[0],\n",
    "               'max' : min(100,\n",
    "                           hist_mean.loc[(hist_mean['MR'] == acp)][policy].values[0] + hist_std.loc[(hist_std['MR'] == acp)][policy].values[0]),\n",
    "               'value' : hist_mean.loc[(hist_mean['MR'] == acp)][policy].values[0],\n",
    "               'min' : max(0,\n",
    "                           hist_mean.loc[(hist_mean['MR'] == acp)][policy].values[0] - hist_std.loc[(hist_std['MR'] == acp)][policy].values[0])}\n",
    "        print(row)\n",
    "        _dict[policy] = _dict[policy].append(row, ignore_index=True)\n",
    "\n",
    "_dict['Policy: buy'].sort_values(ascending=False, by='value', inplace=True)"
   ],
   "metadata": {
    "collapsed": false,
    "pycharm": {
     "name": "#%%\n"
    }
   }
  },
  {
   "cell_type": "code",
   "execution_count": 136,
   "outputs": [
    {
     "data": {
      "text/plain": "<Figure size 576x576 with 4 Axes>",
      "image/png": "[encoded data removed]"
     },
     "metadata": {
      "needs_background": "light"
     },
     "output_type": "display_data"
    }
   ],
   "source": [
    "_dict['Policy: buy'].sort_values(ascending=False, by='value', inplace=True)\n",
    "\n",
    "fig, axes = plt.subplots(nrows=4, ncols=1, squeeze=True, figsize=(8, 8))\n",
    "\n",
    "plt.tight_layout()\n",
    "plt.grid(axis=\"y\")\n",
    "\n",
    "plt.subplot(4, 1, 2).set_title('Policy: buy')\n",
    "plt.ylim((0, 100))\n",
    "\n",
    "_dict['Policy: buy'].set_index('MR').T.boxplot(widths = 0.6, column=list(_dict['Policy: buy']['MR'])).set(xticklabels=[])\n",
    "\n",
    "plt.subplot(4, 1, 1).set_title('Policy: none')\n",
    "_dict['Policy: none'].set_index('MR').T.boxplot(widths = 0.6, column=list(_dict['Policy: buy']['MR'])).set(xticklabels=[])\n",
    "\n",
    "plt.subplot(4, 1, 3).set_title('Policy: wage')\n",
    "_dict['Policy: wage'].set_index('MR').T.boxplot(widths = 0.6, column=list(_dict['Policy: buy']['MR'])).set(xticklabels=[])\n",
    "\n",
    "plt.subplot(4, 1, 4).set_title('Policy: rent')\n",
    "_dict['Policy: rent'].set_index('MR').T.boxplot(widths = 0.6, column=list(_dict['Policy: buy']['MR']))\n",
    "\n",
    "plt.xticks(rotation=90)\n",
    "\n",
    "\n",
    "plt.savefig(f'../text/figures/boxplot.png', bbox_inches='tight', transparent=True)\n",
    "plt.show()"
   ],
   "metadata": {
    "collapsed": false,
    "pycharm": {
     "name": "#%%\n"
    }
   }
  },
  {
   "cell_type": "markdown",
   "source": [],
   "metadata": {
    "collapsed": false
   }
  }
 ],
 "metadata": {
  "kernelspec": {
   "display_name": "Python 3",
   "language": "python",
   "name": "python3"
  },
  "language_info": {
   "codemirror_mode": {
    "name": "ipython",
    "version": 2
   },
   "file_extension": ".py",
   "mimetype": "text/x-python",
   "name": "python",
   "nbconvert_exporter": "python",
   "pygments_lexer": "ipython2",
   "version": "2.7.6"
  }
 },
 "nbformat": 4,
 "nbformat_minor": 0
}