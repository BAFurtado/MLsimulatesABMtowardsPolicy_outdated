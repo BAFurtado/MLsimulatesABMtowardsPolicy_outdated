{
 "cells": [
  {
   "cell_type": "code",
   "execution_count": 19,
   "metadata": {
    "collapsed": true
   },
   "outputs": [],
   "source": [
    "import pandas as pd\n",
    "import numpy as np\n",
    "import groups_cols"
   ]
  },
  {
   "cell_type": "code",
   "execution_count": 2,
   "outputs": [],
   "source": [
    "csv = pd.read_csv('../../Tree_gdp_index_75_gini_index_25_1000000_temp_stats.csv', sep=';')\n"
   ],
   "metadata": {
    "collapsed": false,
    "pycharm": {
     "name": "#%%\n"
    }
   }
  },
  {
   "cell_type": "code",
   "execution_count": 4,
   "outputs": [
    {
     "data": {
      "text/plain": "   WAGE_IGNORE_UNEMPLOYMENT_True  T_LICENSES_PER_REGION_False  \\\n0                              1                            0   \n1                              1                            1   \n2                              1                            0   \n3                              1                            0   \n4                              1                            1   \n\n   T_LICENSES_PER_REGION_True  T_LICENSES_PER_REGION_random  \\\n0                           1                             0   \n1                           0                             0   \n2                           1                             0   \n3                           1                             0   \n4                           0                             0   \n\n   STARTING_DAY_2000-01-01  STARTING_DAY_2010-01-01  PROCESSING_ACPS_ARACAJU  \\\n0                        1                        0                        0   \n1                        1                        0                        0   \n2                        0                        1                        0   \n3                        0                        1                        0   \n4                        1                        0                        0   \n\n   PROCESSING_ACPS_BELEM  PROCESSING_ACPS_BELO HORIZONTE  \\\n0                      0                               0   \n1                      0                               1   \n2                      0                               0   \n3                      0                               0   \n4                      0                               0   \n\n   PROCESSING_ACPS_BRASILIA  ...  POLICY_QUANTILE  PRIVATE_TRANSIT_COST  \\\n0                         0  ...         0.165026              0.352031   \n1                         0  ...         0.270604              0.231056   \n2                         0  ...         0.027547              0.340364   \n3                         0  ...         0.120448              0.203523   \n4                         0  ...         0.231800              0.238699   \n\n   PRODUCTIVITY_EXPONENT  PRODUCTIVITY_MAGNITUDE_DIVISOR  PUBLIC_TRANSIT_COST  \\\n0               0.788361                       14.406162             0.014693   \n1               0.565840                       19.901328             0.029353   \n2               0.642990                        5.819734             0.112379   \n3               0.554617                       11.317730             0.197332   \n4               0.597708                       10.108900             0.139565   \n\n   SIZE_MARKET  STICKY_PRICES  TAX_ESTATE_TRANSACTION   TOTAL_DAYS  Tree  \n0    12.716660       0.431376                0.005178  2096.178905     0  \n1    12.405633       0.648048                0.005348  2799.155416     1  \n2     8.065436       0.462010                0.005608  6673.748095     0  \n3     9.870673       0.659062                0.003858  3218.064349     0  \n4    13.389940       0.435022                0.005825  3546.727945     0  \n\n[5 rows x 87 columns]",
      "text/html": "<div>\n<style scoped>\n    .dataframe tbody tr th:only-of-type {\n        vertical-align: middle;\n    }\n\n    .dataframe tbody tr th {\n        vertical-align: top;\n    }\n\n    .dataframe thead th {\n        text-align: right;\n    }\n</style>\n<table border=\"1\" class=\"dataframe\">\n  <thead>\n    <tr style=\"text-align: right;\">\n      <th></th>\n      <th>WAGE_IGNORE_UNEMPLOYMENT_True</th>\n      <th>T_LICENSES_PER_REGION_False</th>\n      <th>T_LICENSES_PER_REGION_True</th>\n      <th>T_LICENSES_PER_REGION_random</th>\n      <th>STARTING_DAY_2000-01-01</th>\n      <th>STARTING_DAY_2010-01-01</th>\n      <th>PROCESSING_ACPS_ARACAJU</th>\n      <th>PROCESSING_ACPS_BELEM</th>\n      <th>PROCESSING_ACPS_BELO HORIZONTE</th>\n      <th>PROCESSING_ACPS_BRASILIA</th>\n      <th>...</th>\n      <th>POLICY_QUANTILE</th>\n      <th>PRIVATE_TRANSIT_COST</th>\n      <th>PRODUCTIVITY_EXPONENT</th>\n      <th>PRODUCTIVITY_MAGNITUDE_DIVISOR</th>\n      <th>PUBLIC_TRANSIT_COST</th>\n      <th>SIZE_MARKET</th>\n      <th>STICKY_PRICES</th>\n      <th>TAX_ESTATE_TRANSACTION</th>\n      <th>TOTAL_DAYS</th>\n      <th>Tree</th>\n    </tr>\n  </thead>\n  <tbody>\n    <tr>\n      <th>0</th>\n      <td>1</td>\n      <td>0</td>\n      <td>1</td>\n      <td>0</td>\n      <td>1</td>\n      <td>0</td>\n      <td>0</td>\n      <td>0</td>\n      <td>0</td>\n      <td>0</td>\n      <td>...</td>\n      <td>0.165026</td>\n      <td>0.352031</td>\n      <td>0.788361</td>\n      <td>14.406162</td>\n      <td>0.014693</td>\n      <td>12.716660</td>\n      <td>0.431376</td>\n      <td>0.005178</td>\n      <td>2096.178905</td>\n      <td>0</td>\n    </tr>\n    <tr>\n      <th>1</th>\n      <td>1</td>\n      <td>1</td>\n      <td>0</td>\n      <td>0</td>\n      <td>1</td>\n      <td>0</td>\n      <td>0</td>\n      <td>0</td>\n      <td>1</td>\n      <td>0</td>\n      <td>...</td>\n      <td>0.270604</td>\n      <td>0.231056</td>\n      <td>0.565840</td>\n      <td>19.901328</td>\n      <td>0.029353</td>\n      <td>12.405633</td>\n      <td>0.648048</td>\n      <td>0.005348</td>\n      <td>2799.155416</td>\n      <td>1</td>\n    </tr>\n    <tr>\n      <th>2</th>\n      <td>1</td>\n      <td>0</td>\n      <td>1</td>\n      <td>0</td>\n      <td>0</td>\n      <td>1</td>\n      <td>0</td>\n      <td>0</td>\n      <td>0</td>\n      <td>0</td>\n      <td>...</td>\n      <td>0.027547</td>\n      <td>0.340364</td>\n      <td>0.642990</td>\n      <td>5.819734</td>\n      <td>0.112379</td>\n      <td>8.065436</td>\n      <td>0.462010</td>\n      <td>0.005608</td>\n      <td>6673.748095</td>\n      <td>0</td>\n    </tr>\n    <tr>\n      <th>3</th>\n      <td>1</td>\n      <td>0</td>\n      <td>1</td>\n      <td>0</td>\n      <td>0</td>\n      <td>1</td>\n      <td>0</td>\n      <td>0</td>\n      <td>0</td>\n      <td>0</td>\n      <td>...</td>\n      <td>0.120448</td>\n      <td>0.203523</td>\n      <td>0.554617</td>\n      <td>11.317730</td>\n      <td>0.197332</td>\n      <td>9.870673</td>\n      <td>0.659062</td>\n      <td>0.003858</td>\n      <td>3218.064349</td>\n      <td>0</td>\n    </tr>\n    <tr>\n      <th>4</th>\n      <td>1</td>\n      <td>1</td>\n      <td>0</td>\n      <td>0</td>\n      <td>1</td>\n      <td>0</td>\n      <td>0</td>\n      <td>0</td>\n      <td>0</td>\n      <td>0</td>\n      <td>...</td>\n      <td>0.231800</td>\n      <td>0.238699</td>\n      <td>0.597708</td>\n      <td>10.108900</td>\n      <td>0.139565</td>\n      <td>13.389940</td>\n      <td>0.435022</td>\n      <td>0.005825</td>\n      <td>3546.727945</td>\n      <td>0</td>\n    </tr>\n  </tbody>\n</table>\n<p>5 rows × 87 columns</p>\n</div>"
     },
     "execution_count": 4,
     "metadata": {},
     "output_type": "execute_result"
    }
   ],
   "source": [
    "csv.head()"
   ],
   "metadata": {
    "collapsed": false,
    "pycharm": {
     "name": "#%%\n"
    }
   }
  },
  {
   "cell_type": "markdown",
   "source": [],
   "metadata": {
    "collapsed": false
   }
  },
  {
   "cell_type": "code",
   "execution_count": 5,
   "outputs": [],
   "source": [
    "iqr = pd.read_csv('IQR.csv', sep=';')"
   ],
   "metadata": {
    "collapsed": false,
    "pycharm": {
     "name": "#%%\n"
    }
   }
  },
  {
   "cell_type": "code",
   "execution_count": 6,
   "outputs": [
    {
     "data": {
      "text/plain": "   Unnamed: 0                             ACP                 pol   q3   q1  \\\n0           0                             all        POLICIES_buy  0.0  0.0   \n1           1                             all       POLICIES_rent  1.0  0.0   \n2           2                             all       POLICIES_wage  1.0  0.0   \n3           3                             all  POLICIES_no_policy  0.0  0.0   \n4           4  PROCESSING_ACPS_BELO HORIZONTE        POLICIES_buy  0.0  0.0   \n\n   median  IQR      mean       std     count  \n0     0.0  0.0  0.036194  0.186773  250592.0  \n1     0.0  1.0  0.310333  0.462630  250070.0  \n2     0.0  1.0  0.329212  0.469927  250015.0  \n3     0.0  0.0  0.178652  0.383060  249323.0  \n4     0.0  0.0  0.094223  0.292138    5487.0  ",
      "text/html": "<div>\n<style scoped>\n    .dataframe tbody tr th:only-of-type {\n        vertical-align: middle;\n    }\n\n    .dataframe tbody tr th {\n        vertical-align: top;\n    }\n\n    .dataframe thead th {\n        text-align: right;\n    }\n</style>\n<table border=\"1\" class=\"dataframe\">\n  <thead>\n    <tr style=\"text-align: right;\">\n      <th></th>\n      <th>Unnamed: 0</th>\n      <th>ACP</th>\n      <th>pol</th>\n      <th>q3</th>\n      <th>q1</th>\n      <th>median</th>\n      <th>IQR</th>\n      <th>mean</th>\n      <th>std</th>\n      <th>count</th>\n    </tr>\n  </thead>\n  <tbody>\n    <tr>\n      <th>0</th>\n      <td>0</td>\n      <td>all</td>\n      <td>POLICIES_buy</td>\n      <td>0.0</td>\n      <td>0.0</td>\n      <td>0.0</td>\n      <td>0.0</td>\n      <td>0.036194</td>\n      <td>0.186773</td>\n      <td>250592.0</td>\n    </tr>\n    <tr>\n      <th>1</th>\n      <td>1</td>\n      <td>all</td>\n      <td>POLICIES_rent</td>\n      <td>1.0</td>\n      <td>0.0</td>\n      <td>0.0</td>\n      <td>1.0</td>\n      <td>0.310333</td>\n      <td>0.462630</td>\n      <td>250070.0</td>\n    </tr>\n    <tr>\n      <th>2</th>\n      <td>2</td>\n      <td>all</td>\n      <td>POLICIES_wage</td>\n      <td>1.0</td>\n      <td>0.0</td>\n      <td>0.0</td>\n      <td>1.0</td>\n      <td>0.329212</td>\n      <td>0.469927</td>\n      <td>250015.0</td>\n    </tr>\n    <tr>\n      <th>3</th>\n      <td>3</td>\n      <td>all</td>\n      <td>POLICIES_no_policy</td>\n      <td>0.0</td>\n      <td>0.0</td>\n      <td>0.0</td>\n      <td>0.0</td>\n      <td>0.178652</td>\n      <td>0.383060</td>\n      <td>249323.0</td>\n    </tr>\n    <tr>\n      <th>4</th>\n      <td>4</td>\n      <td>PROCESSING_ACPS_BELO HORIZONTE</td>\n      <td>POLICIES_buy</td>\n      <td>0.0</td>\n      <td>0.0</td>\n      <td>0.0</td>\n      <td>0.0</td>\n      <td>0.094223</td>\n      <td>0.292138</td>\n      <td>5487.0</td>\n    </tr>\n  </tbody>\n</table>\n</div>"
     },
     "execution_count": 6,
     "metadata": {},
     "output_type": "execute_result"
    }
   ],
   "source": [
    "iqr.head()\n"
   ],
   "metadata": {
    "collapsed": false,
    "pycharm": {
     "name": "#%%\n"
    }
   }
  },
  {
   "cell_type": "code",
   "execution_count": 16,
   "outputs": [],
   "source": [
    "mean_policy_acp = pd.DataFrame(columns=[['','Absolute Value', 'Difference to baseline (p.p.)','',''],['Municipality', 'No Policy', 'Buy', 'Rent', 'Wage']])"
   ],
   "metadata": {
    "collapsed": false,
    "pycharm": {
     "name": "#%%\n"
    }
   }
  },
  {
   "cell_type": "code",
   "execution_count": 17,
   "outputs": [
    {
     "data": {
      "text/plain": "Empty DataFrame\nColumns: [(, Municipality), (Absolute Value, No Policy), (Difference to baseline (p.p.), Buy), (, Rent), (, Wage)]\nIndex: []",
      "text/html": "<div>\n<style scoped>\n    .dataframe tbody tr th:only-of-type {\n        vertical-align: middle;\n    }\n\n    .dataframe tbody tr th {\n        vertical-align: top;\n    }\n\n    .dataframe thead tr th {\n        text-align: left;\n    }\n</style>\n<table border=\"1\" class=\"dataframe\">\n  <thead>\n    <tr>\n      <th></th>\n      <th></th>\n      <th>Absolute Value</th>\n      <th>Difference to baseline (p.p.)</th>\n      <th colspan=\"2\" halign=\"left\"></th>\n    </tr>\n    <tr>\n      <th></th>\n      <th>Municipality</th>\n      <th>No Policy</th>\n      <th>Buy</th>\n      <th>Rent</th>\n      <th>Wage</th>\n    </tr>\n  </thead>\n  <tbody>\n  </tbody>\n</table>\n</div>"
     },
     "execution_count": 17,
     "metadata": {},
     "output_type": "execute_result"
    }
   ],
   "source": [
    "mean_policy_acp"
   ],
   "metadata": {
    "collapsed": false,
    "pycharm": {
     "name": "#%%\n"
    }
   }
  },
  {
   "cell_type": "code",
   "execution_count": null,
   "outputs": [],
   "source": [
    "iqr.loc()"
   ],
   "metadata": {
    "collapsed": false,
    "pycharm": {
     "name": "#%%\n"
    }
   }
  },
  {
   "cell_type": "code",
   "execution_count": 23,
   "outputs": [
    {
     "ename": "TypeError",
     "evalue": "append() got an unexpected keyword argument 'rows'",
     "output_type": "error",
     "traceback": [
      "\u001B[1;31m---------------------------------------------------------------------------\u001B[0m",
      "\u001B[1;31mTypeError\u001B[0m                                 Traceback (most recent call last)",
      "\u001B[1;32m<ipython-input-23-c8f532587030>\u001B[0m in \u001B[0;36m<module>\u001B[1;34m\u001B[0m\n\u001B[0;32m      1\u001B[0m \u001B[0macps\u001B[0m \u001B[1;33m=\u001B[0m \u001B[1;33m[\u001B[0m\u001B[1;34m'all'\u001B[0m\u001B[1;33m]\u001B[0m \u001B[1;33m+\u001B[0m \u001B[0mgroups_cols\u001B[0m\u001B[1;33m.\u001B[0m\u001B[0mabm_dummies\u001B[0m\u001B[1;33m[\u001B[0m\u001B[1;34m'acps'\u001B[0m\u001B[1;33m]\u001B[0m\u001B[1;33m\u001B[0m\u001B[1;33m\u001B[0m\u001B[0m\n\u001B[1;32m----> 2\u001B[1;33m \u001B[0mmean_policy_acp\u001B[0m\u001B[1;33m.\u001B[0m\u001B[0mappend\u001B[0m\u001B[1;33m(\u001B[0m\u001B[0mrows\u001B[0m\u001B[1;33m=\u001B[0m\u001B[1;33m[\u001B[0m\u001B[0macps\u001B[0m\u001B[1;33m]\u001B[0m\u001B[1;33m)\u001B[0m\u001B[1;33m\u001B[0m\u001B[1;33m\u001B[0m\u001B[0m\n\u001B[0m",
      "\u001B[1;31mTypeError\u001B[0m: append() got an unexpected keyword argument 'rows'"
     ]
    }
   ],
   "source": [
    "acps = ['all'] + groups_cols.abm_dummies['acps']\n",
    "mean_policy_acp.append([acps])"
   ],
   "metadata": {
    "collapsed": false,
    "pycharm": {
     "name": "#%%\n"
    }
   }
  },
  {
   "cell_type": "code",
   "execution_count": 22,
   "outputs": [
    {
     "data": {
      "text/plain": "['all',\n 'PROCESSING_ACPS_BELO HORIZONTE',\n 'PROCESSING_ACPS_FORTALEZA',\n 'PROCESSING_ACPS_PORTO ALEGRE',\n 'PROCESSING_ACPS_CAMPINAS',\n 'PROCESSING_ACPS_SALVADOR',\n 'PROCESSING_ACPS_RECIFE',\n 'PROCESSING_ACPS_SAO PAULO',\n 'PROCESSING_ACPS_JOINVILLE',\n 'PROCESSING_ACPS_CAMPO GRANDE',\n 'PROCESSING_ACPS_JUNDIAI',\n 'PROCESSING_ACPS_FEIRA DE SANTANA',\n 'PROCESSING_ACPS_IPATINGA',\n 'PROCESSING_ACPS_LONDRINA',\n 'PROCESSING_ACPS_SOROCABA',\n 'PROCESSING_ACPS_JOAO PESSOA',\n 'PROCESSING_ACPS_SAO JOSE DO RIO PRETO',\n 'PROCESSING_ACPS_MACEIO',\n 'PROCESSING_ACPS_SAO JOSE DOS CAMPOS',\n 'PROCESSING_ACPS_ILHEUS - ITABUNA',\n 'PROCESSING_ACPS_SAO LUIS',\n 'PROCESSING_ACPS_UBERLANDIA',\n 'PROCESSING_ACPS_MARINGA',\n 'PROCESSING_ACPS_VITORIA',\n 'PROCESSING_ACPS_CUIABA',\n 'PROCESSING_ACPS_BELEM',\n 'PROCESSING_ACPS_NOVO HAMBURGO - SAO LEOPOLDO',\n 'PROCESSING_ACPS_TERESINA',\n 'PROCESSING_ACPS_MANAUS',\n 'PROCESSING_ACPS_BRASILIA']"
     },
     "execution_count": 22,
     "metadata": {},
     "output_type": "execute_result"
    }
   ],
   "source": [
    "acps"
   ],
   "metadata": {
    "collapsed": false,
    "pycharm": {
     "name": "#%%\n"
    }
   }
  },
  {
   "cell_type": "code",
   "execution_count": null,
   "outputs": [],
   "source": [],
   "metadata": {
    "collapsed": false,
    "pycharm": {
     "name": "#%%\n"
    }
   }
  }
 ],
 "metadata": {
  "kernelspec": {
   "display_name": "Python 3",
   "language": "python",
   "name": "python3"
  },
  "language_info": {
   "codemirror_mode": {
    "name": "ipython",
    "version": 2
   },
   "file_extension": ".py",
   "mimetype": "text/x-python",
   "name": "python",
   "nbconvert_exporter": "python",
   "pygments_lexer": "ipython2",
   "version": "2.7.6"
  }
 },
 "nbformat": 4,
 "nbformat_minor": 0
}