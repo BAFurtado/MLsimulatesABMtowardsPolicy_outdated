{
 "cells": [
  {
   "cell_type": "code",
   "execution_count": 315,
   "metadata": {
    "collapsed": true
   },
   "outputs": [],
   "source": [
    "import pandas as pd\n",
    "import numpy as np\n",
    "import groups_cols\n",
    "from matplotlib import pyplot as plt\n",
    "tables = {}"
   ]
  },
  {
   "cell_type": "markdown",
   "source": [
    "# Mean and std tables"
   ],
   "metadata": {
    "collapsed": false
   }
  },
  {
   "cell_type": "code",
   "execution_count": 2,
   "outputs": [],
   "source": [
    "iqr = pd.read_csv('IQR.csv', sep=';')\n",
    "iqr = iqr.set_index('ACP')"
   ],
   "metadata": {
    "collapsed": false,
    "pycharm": {
     "name": "#%%\n"
    }
   }
  },
  {
   "cell_type": "code",
   "execution_count": 3,
   "outputs": [
    {
     "data": {
      "text/plain": "                                Unnamed: 0                 pol   q3   q1  \\\nACP                                                                        \nall                                      0        POLICIES_buy  0.0  0.0   \nall                                      1       POLICIES_rent  1.0  0.0   \nall                                      2       POLICIES_wage  1.0  0.0   \nall                                      3  POLICIES_no_policy  0.0  0.0   \nPROCESSING_ACPS_BELO HORIZONTE           4        POLICIES_buy  0.0  0.0   \n\n                                median  IQR      mean       std     count  \nACP                                                                        \nall                                0.0  0.0  0.036194  0.186773  250592.0  \nall                                0.0  1.0  0.310333  0.462630  250070.0  \nall                                0.0  1.0  0.329212  0.469927  250015.0  \nall                                0.0  0.0  0.178652  0.383060  249323.0  \nPROCESSING_ACPS_BELO HORIZONTE     0.0  0.0  0.094223  0.292138    5487.0  ",
      "text/html": "<div>\n<style scoped>\n    .dataframe tbody tr th:only-of-type {\n        vertical-align: middle;\n    }\n\n    .dataframe tbody tr th {\n        vertical-align: top;\n    }\n\n    .dataframe thead th {\n        text-align: right;\n    }\n</style>\n<table border=\"1\" class=\"dataframe\">\n  <thead>\n    <tr style=\"text-align: right;\">\n      <th></th>\n      <th>Unnamed: 0</th>\n      <th>pol</th>\n      <th>q3</th>\n      <th>q1</th>\n      <th>median</th>\n      <th>IQR</th>\n      <th>mean</th>\n      <th>std</th>\n      <th>count</th>\n    </tr>\n    <tr>\n      <th>ACP</th>\n      <th></th>\n      <th></th>\n      <th></th>\n      <th></th>\n      <th></th>\n      <th></th>\n      <th></th>\n      <th></th>\n      <th></th>\n    </tr>\n  </thead>\n  <tbody>\n    <tr>\n      <th>all</th>\n      <td>0</td>\n      <td>POLICIES_buy</td>\n      <td>0.0</td>\n      <td>0.0</td>\n      <td>0.0</td>\n      <td>0.0</td>\n      <td>0.036194</td>\n      <td>0.186773</td>\n      <td>250592.0</td>\n    </tr>\n    <tr>\n      <th>all</th>\n      <td>1</td>\n      <td>POLICIES_rent</td>\n      <td>1.0</td>\n      <td>0.0</td>\n      <td>0.0</td>\n      <td>1.0</td>\n      <td>0.310333</td>\n      <td>0.462630</td>\n      <td>250070.0</td>\n    </tr>\n    <tr>\n      <th>all</th>\n      <td>2</td>\n      <td>POLICIES_wage</td>\n      <td>1.0</td>\n      <td>0.0</td>\n      <td>0.0</td>\n      <td>1.0</td>\n      <td>0.329212</td>\n      <td>0.469927</td>\n      <td>250015.0</td>\n    </tr>\n    <tr>\n      <th>all</th>\n      <td>3</td>\n      <td>POLICIES_no_policy</td>\n      <td>0.0</td>\n      <td>0.0</td>\n      <td>0.0</td>\n      <td>0.0</td>\n      <td>0.178652</td>\n      <td>0.383060</td>\n      <td>249323.0</td>\n    </tr>\n    <tr>\n      <th>PROCESSING_ACPS_BELO HORIZONTE</th>\n      <td>4</td>\n      <td>POLICIES_buy</td>\n      <td>0.0</td>\n      <td>0.0</td>\n      <td>0.0</td>\n      <td>0.0</td>\n      <td>0.094223</td>\n      <td>0.292138</td>\n      <td>5487.0</td>\n    </tr>\n  </tbody>\n</table>\n</div>"
     },
     "execution_count": 3,
     "metadata": {},
     "output_type": "execute_result"
    }
   ],
   "source": [
    "iqr.head()"
   ],
   "metadata": {
    "collapsed": false,
    "pycharm": {
     "name": "#%%\n"
    }
   }
  },
  {
   "cell_type": "code",
   "execution_count": 4,
   "outputs": [],
   "source": [
    "mean_policy_acp = pd.DataFrame(columns=[['Municipality', 'No policy', 'Buy', 'Rent', 'Wage']])\n",
    "std_policy_acp = mean_policy_acp.copy()\n",
    "acps = ['all'] + groups_cols.abm_dummies['acps']\n",
    "\n",
    "for acp in acps:\n",
    "    row_mean = [acp]\n",
    "    row_std = row_mean.copy()\n",
    "    for policy in ['POLICIES_no_policy','POLICIES_buy', 'POLICIES_rent', 'POLICIES_wage']:\n",
    "        dataframe_mean = iqr.groupby(['ACP','pol'])['mean'].mean()\n",
    "        dataframe_std = iqr.groupby(['ACP','pol'])['std'].mean()\n",
    "        if policy == 'POLICIES_no_policy':\n",
    "            mean = dataframe_mean[acp, policy].round(decimals=4)*100\n",
    "            std = dataframe_std[acp, policy].round(decimals=4)*100\n",
    "        else:\n",
    "            mean = (dataframe_mean[acp, policy].round(decimals=4)*100-row_mean[1])\n",
    "            std = (dataframe_std[acp, policy].round(decimals=4)*100-row_std[1])\n",
    "        row_mean.append(mean)\n",
    "        row_std.append(std)\n",
    "    mean_policy_acp.at[acp] = row_mean\n",
    "    std_policy_acp.at[acp] = row_std\n",
    "\n",
    "for df in [mean_policy_acp, std_policy_acp]:\n",
    "    df.reset_index(drop=True, inplace=True)\n",
    "    df.sort_values(ascending=False, by=('No policy',), inplace=True)\n",
    "    df.replace({('Municipality',): groups_cols.abm_dummies_show})\n",
    "\n",
    "mean_policy_acp = mean_policy_acp.replace({('Municipality',): groups_cols.abm_dummies_show})\n",
    "std_policy_acp = std_policy_acp.replace({('Municipality',): groups_cols.abm_dummies_show})"
   ],
   "metadata": {
    "collapsed": false,
    "pycharm": {
     "name": "#%%\n"
    }
   }
  },
  {
   "cell_type": "code",
   "execution_count": 5,
   "outputs": [
    {
     "data": {
      "text/plain": "        Municipality No policy    Buy   Rent   Wage\n1     Belo Horizonte     100.0 -90.58    0.0    0.0\n7          Sao Paulo     29.84  -1.14   -0.9   7.23\n8          Joinville     19.43 -14.26   7.67   8.91\n9       Campo Grande     18.63 -15.02  10.02   8.91\n15       Joao Pessoa     18.47 -14.78  10.11   8.97\n17            Maceio     18.43 -15.06   9.84   9.83\n22           Maringa     18.14 -14.33  10.16  10.86\n11  Feira de Santana     17.88  -14.9  10.29   9.08\n0                all     17.87 -14.25  13.16  15.05\n24            Cuiaba     17.59 -14.91   10.7  10.21\n21        Uberlandia     17.57 -13.62  10.73  10.39\n14          Sorocaba     17.56 -14.45  11.14   10.6\n18               SJC     17.54 -14.21  10.55   9.59\n28            Manaus      17.3 -14.58  11.94  11.14\n12          Ipatinga     17.22 -14.61  11.26  11.34\n26             NH-SL     17.21 -14.78  10.61  11.06\n23           Vitoria     17.18 -14.97  11.86  10.99\n6             Recife     17.02 -14.62  11.65  10.69\n13          Londrina     16.77 -13.63  11.96  11.48\n19    Ilheus-Itabuna      16.5 -14.49  12.57  12.52\n27          Teresina     16.21 -14.34  12.15  12.15\n20          Sao Luis     15.73 -13.54  13.22  11.61\n5           Salvador     15.04 -14.01  13.83  13.62\n10           Jundiai     14.56 -12.39  13.91   15.5\n16              SJRP     14.36 -12.68  13.23  14.07\n2          Fortaleza     13.99 -12.79  14.26  13.88\n25             Belem       8.0   -8.0  19.12  61.69\n3       Porto Alegre      4.62  -4.47   13.5  14.24\n4           Campinas      0.94  -0.94  63.56  97.53\n29          Brasilia       0.0    0.0    0.0    0.0",
      "text/html": "<div>\n<style scoped>\n    .dataframe tbody tr th:only-of-type {\n        vertical-align: middle;\n    }\n\n    .dataframe tbody tr th {\n        vertical-align: top;\n    }\n\n    .dataframe thead tr th {\n        text-align: left;\n    }\n</style>\n<table border=\"1\" class=\"dataframe\">\n  <thead>\n    <tr>\n      <th></th>\n      <th>Municipality</th>\n      <th>No policy</th>\n      <th>Buy</th>\n      <th>Rent</th>\n      <th>Wage</th>\n    </tr>\n  </thead>\n  <tbody>\n    <tr>\n      <th>1</th>\n      <td>Belo Horizonte</td>\n      <td>100.0</td>\n      <td>-90.58</td>\n      <td>0.0</td>\n      <td>0.0</td>\n    </tr>\n    <tr>\n      <th>7</th>\n      <td>Sao Paulo</td>\n      <td>29.84</td>\n      <td>-1.14</td>\n      <td>-0.9</td>\n      <td>7.23</td>\n    </tr>\n    <tr>\n      <th>8</th>\n      <td>Joinville</td>\n      <td>19.43</td>\n      <td>-14.26</td>\n      <td>7.67</td>\n      <td>8.91</td>\n    </tr>\n    <tr>\n      <th>9</th>\n      <td>Campo Grande</td>\n      <td>18.63</td>\n      <td>-15.02</td>\n      <td>10.02</td>\n      <td>8.91</td>\n    </tr>\n    <tr>\n      <th>15</th>\n      <td>Joao Pessoa</td>\n      <td>18.47</td>\n      <td>-14.78</td>\n      <td>10.11</td>\n      <td>8.97</td>\n    </tr>\n    <tr>\n      <th>17</th>\n      <td>Maceio</td>\n      <td>18.43</td>\n      <td>-15.06</td>\n      <td>9.84</td>\n      <td>9.83</td>\n    </tr>\n    <tr>\n      <th>22</th>\n      <td>Maringa</td>\n      <td>18.14</td>\n      <td>-14.33</td>\n      <td>10.16</td>\n      <td>10.86</td>\n    </tr>\n    <tr>\n      <th>11</th>\n      <td>Feira de Santana</td>\n      <td>17.88</td>\n      <td>-14.9</td>\n      <td>10.29</td>\n      <td>9.08</td>\n    </tr>\n    <tr>\n      <th>0</th>\n      <td>all</td>\n      <td>17.87</td>\n      <td>-14.25</td>\n      <td>13.16</td>\n      <td>15.05</td>\n    </tr>\n    <tr>\n      <th>24</th>\n      <td>Cuiaba</td>\n      <td>17.59</td>\n      <td>-14.91</td>\n      <td>10.7</td>\n      <td>10.21</td>\n    </tr>\n    <tr>\n      <th>21</th>\n      <td>Uberlandia</td>\n      <td>17.57</td>\n      <td>-13.62</td>\n      <td>10.73</td>\n      <td>10.39</td>\n    </tr>\n    <tr>\n      <th>14</th>\n      <td>Sorocaba</td>\n      <td>17.56</td>\n      <td>-14.45</td>\n      <td>11.14</td>\n      <td>10.6</td>\n    </tr>\n    <tr>\n      <th>18</th>\n      <td>SJC</td>\n      <td>17.54</td>\n      <td>-14.21</td>\n      <td>10.55</td>\n      <td>9.59</td>\n    </tr>\n    <tr>\n      <th>28</th>\n      <td>Manaus</td>\n      <td>17.3</td>\n      <td>-14.58</td>\n      <td>11.94</td>\n      <td>11.14</td>\n    </tr>\n    <tr>\n      <th>12</th>\n      <td>Ipatinga</td>\n      <td>17.22</td>\n      <td>-14.61</td>\n      <td>11.26</td>\n      <td>11.34</td>\n    </tr>\n    <tr>\n      <th>26</th>\n      <td>NH-SL</td>\n      <td>17.21</td>\n      <td>-14.78</td>\n      <td>10.61</td>\n      <td>11.06</td>\n    </tr>\n    <tr>\n      <th>23</th>\n      <td>Vitoria</td>\n      <td>17.18</td>\n      <td>-14.97</td>\n      <td>11.86</td>\n      <td>10.99</td>\n    </tr>\n    <tr>\n      <th>6</th>\n      <td>Recife</td>\n      <td>17.02</td>\n      <td>-14.62</td>\n      <td>11.65</td>\n      <td>10.69</td>\n    </tr>\n    <tr>\n      <th>13</th>\n      <td>Londrina</td>\n      <td>16.77</td>\n      <td>-13.63</td>\n      <td>11.96</td>\n      <td>11.48</td>\n    </tr>\n    <tr>\n      <th>19</th>\n      <td>Ilheus-Itabuna</td>\n      <td>16.5</td>\n      <td>-14.49</td>\n      <td>12.57</td>\n      <td>12.52</td>\n    </tr>\n    <tr>\n      <th>27</th>\n      <td>Teresina</td>\n      <td>16.21</td>\n      <td>-14.34</td>\n      <td>12.15</td>\n      <td>12.15</td>\n    </tr>\n    <tr>\n      <th>20</th>\n      <td>Sao Luis</td>\n      <td>15.73</td>\n      <td>-13.54</td>\n      <td>13.22</td>\n      <td>11.61</td>\n    </tr>\n    <tr>\n      <th>5</th>\n      <td>Salvador</td>\n      <td>15.04</td>\n      <td>-14.01</td>\n      <td>13.83</td>\n      <td>13.62</td>\n    </tr>\n    <tr>\n      <th>10</th>\n      <td>Jundiai</td>\n      <td>14.56</td>\n      <td>-12.39</td>\n      <td>13.91</td>\n      <td>15.5</td>\n    </tr>\n    <tr>\n      <th>16</th>\n      <td>SJRP</td>\n      <td>14.36</td>\n      <td>-12.68</td>\n      <td>13.23</td>\n      <td>14.07</td>\n    </tr>\n    <tr>\n      <th>2</th>\n      <td>Fortaleza</td>\n      <td>13.99</td>\n      <td>-12.79</td>\n      <td>14.26</td>\n      <td>13.88</td>\n    </tr>\n    <tr>\n      <th>25</th>\n      <td>Belem</td>\n      <td>8.0</td>\n      <td>-8.0</td>\n      <td>19.12</td>\n      <td>61.69</td>\n    </tr>\n    <tr>\n      <th>3</th>\n      <td>Porto Alegre</td>\n      <td>4.62</td>\n      <td>-4.47</td>\n      <td>13.5</td>\n      <td>14.24</td>\n    </tr>\n    <tr>\n      <th>4</th>\n      <td>Campinas</td>\n      <td>0.94</td>\n      <td>-0.94</td>\n      <td>63.56</td>\n      <td>97.53</td>\n    </tr>\n    <tr>\n      <th>29</th>\n      <td>Brasilia</td>\n      <td>0.0</td>\n      <td>0.0</td>\n      <td>0.0</td>\n      <td>0.0</td>\n    </tr>\n  </tbody>\n</table>\n</div>"
     },
     "execution_count": 5,
     "metadata": {},
     "output_type": "execute_result"
    }
   ],
   "source": [
    "mean_policy_acp"
   ],
   "metadata": {
    "collapsed": false,
    "pycharm": {
     "name": "#%%\n"
    }
   }
  },
  {
   "cell_type": "code",
   "execution_count": 6,
   "outputs": [
    {
     "data": {
      "text/plain": "        Municipality No policy    Buy   Rent   Wage\n7          Sao Paulo     45.75  -0.51   -0.4   2.55\n8          Joinville     39.56 -17.41   4.89   5.51\n9       Campo Grande     38.94  -20.3   6.27   5.73\n15       Joao Pessoa      38.8 -19.95   6.38   5.82\n17            Maceio     38.78 -20.74   6.25   6.25\n22           Maringa     38.54 -19.39   6.51   6.84\n11  Feira de Santana     38.32 -21.31   6.66   6.05\n0                all     38.31 -19.63   7.95   8.68\n24            Cuiaba     38.08 -21.93   6.96   6.72\n21        Uberlandia     38.06 -18.59   6.99   6.82\n14          Sorocaba     38.05  -20.7   7.19   6.93\n18               SJC     38.03 -20.09   6.91   6.43\n28            Manaus     37.82 -21.56   7.67   7.29\n26             NH-SL     37.75 -22.36   7.06   7.28\n12          Ipatinga     37.75 -21.81   7.38   7.42\n23           Vitoria     37.72 -23.02   7.68   7.26\n6             Recife     37.58 -22.28   7.64   7.18\n13          Londrina     37.36 -19.91   7.89   7.66\n19    Ilheus-Itabuna     37.11 -23.08    8.3   8.28\n27          Teresina     36.85  -23.3   8.22   8.23\n20          Sao Luis     36.41 -21.76   8.94   8.16\n5           Salvador     35.75 -25.64   9.57   9.47\n10           Jundiai     35.27 -20.71   9.86  10.58\n16              SJRP     35.07 -22.23   9.63  10.04\n2          Fortaleza     34.69  -23.8  10.33  10.15\n25             Belem     27.12 -27.12  17.34  18.84\n3       Porto Alegre     20.99 -17.11  17.53  18.13\n4           Campinas      9.63  -9.63  38.22   2.64\n1     Belo Horizonte       0.0  29.21    0.0    0.0\n29          Brasilia       0.0    0.0    0.0    0.0",
      "text/html": "<div>\n<style scoped>\n    .dataframe tbody tr th:only-of-type {\n        vertical-align: middle;\n    }\n\n    .dataframe tbody tr th {\n        vertical-align: top;\n    }\n\n    .dataframe thead tr th {\n        text-align: left;\n    }\n</style>\n<table border=\"1\" class=\"dataframe\">\n  <thead>\n    <tr>\n      <th></th>\n      <th>Municipality</th>\n      <th>No policy</th>\n      <th>Buy</th>\n      <th>Rent</th>\n      <th>Wage</th>\n    </tr>\n  </thead>\n  <tbody>\n    <tr>\n      <th>7</th>\n      <td>Sao Paulo</td>\n      <td>45.75</td>\n      <td>-0.51</td>\n      <td>-0.4</td>\n      <td>2.55</td>\n    </tr>\n    <tr>\n      <th>8</th>\n      <td>Joinville</td>\n      <td>39.56</td>\n      <td>-17.41</td>\n      <td>4.89</td>\n      <td>5.51</td>\n    </tr>\n    <tr>\n      <th>9</th>\n      <td>Campo Grande</td>\n      <td>38.94</td>\n      <td>-20.3</td>\n      <td>6.27</td>\n      <td>5.73</td>\n    </tr>\n    <tr>\n      <th>15</th>\n      <td>Joao Pessoa</td>\n      <td>38.8</td>\n      <td>-19.95</td>\n      <td>6.38</td>\n      <td>5.82</td>\n    </tr>\n    <tr>\n      <th>17</th>\n      <td>Maceio</td>\n      <td>38.78</td>\n      <td>-20.74</td>\n      <td>6.25</td>\n      <td>6.25</td>\n    </tr>\n    <tr>\n      <th>22</th>\n      <td>Maringa</td>\n      <td>38.54</td>\n      <td>-19.39</td>\n      <td>6.51</td>\n      <td>6.84</td>\n    </tr>\n    <tr>\n      <th>11</th>\n      <td>Feira de Santana</td>\n      <td>38.32</td>\n      <td>-21.31</td>\n      <td>6.66</td>\n      <td>6.05</td>\n    </tr>\n    <tr>\n      <th>0</th>\n      <td>all</td>\n      <td>38.31</td>\n      <td>-19.63</td>\n      <td>7.95</td>\n      <td>8.68</td>\n    </tr>\n    <tr>\n      <th>24</th>\n      <td>Cuiaba</td>\n      <td>38.08</td>\n      <td>-21.93</td>\n      <td>6.96</td>\n      <td>6.72</td>\n    </tr>\n    <tr>\n      <th>21</th>\n      <td>Uberlandia</td>\n      <td>38.06</td>\n      <td>-18.59</td>\n      <td>6.99</td>\n      <td>6.82</td>\n    </tr>\n    <tr>\n      <th>14</th>\n      <td>Sorocaba</td>\n      <td>38.05</td>\n      <td>-20.7</td>\n      <td>7.19</td>\n      <td>6.93</td>\n    </tr>\n    <tr>\n      <th>18</th>\n      <td>SJC</td>\n      <td>38.03</td>\n      <td>-20.09</td>\n      <td>6.91</td>\n      <td>6.43</td>\n    </tr>\n    <tr>\n      <th>28</th>\n      <td>Manaus</td>\n      <td>37.82</td>\n      <td>-21.56</td>\n      <td>7.67</td>\n      <td>7.29</td>\n    </tr>\n    <tr>\n      <th>26</th>\n      <td>NH-SL</td>\n      <td>37.75</td>\n      <td>-22.36</td>\n      <td>7.06</td>\n      <td>7.28</td>\n    </tr>\n    <tr>\n      <th>12</th>\n      <td>Ipatinga</td>\n      <td>37.75</td>\n      <td>-21.81</td>\n      <td>7.38</td>\n      <td>7.42</td>\n    </tr>\n    <tr>\n      <th>23</th>\n      <td>Vitoria</td>\n      <td>37.72</td>\n      <td>-23.02</td>\n      <td>7.68</td>\n      <td>7.26</td>\n    </tr>\n    <tr>\n      <th>6</th>\n      <td>Recife</td>\n      <td>37.58</td>\n      <td>-22.28</td>\n      <td>7.64</td>\n      <td>7.18</td>\n    </tr>\n    <tr>\n      <th>13</th>\n      <td>Londrina</td>\n      <td>37.36</td>\n      <td>-19.91</td>\n      <td>7.89</td>\n      <td>7.66</td>\n    </tr>\n    <tr>\n      <th>19</th>\n      <td>Ilheus-Itabuna</td>\n      <td>37.11</td>\n      <td>-23.08</td>\n      <td>8.3</td>\n      <td>8.28</td>\n    </tr>\n    <tr>\n      <th>27</th>\n      <td>Teresina</td>\n      <td>36.85</td>\n      <td>-23.3</td>\n      <td>8.22</td>\n      <td>8.23</td>\n    </tr>\n    <tr>\n      <th>20</th>\n      <td>Sao Luis</td>\n      <td>36.41</td>\n      <td>-21.76</td>\n      <td>8.94</td>\n      <td>8.16</td>\n    </tr>\n    <tr>\n      <th>5</th>\n      <td>Salvador</td>\n      <td>35.75</td>\n      <td>-25.64</td>\n      <td>9.57</td>\n      <td>9.47</td>\n    </tr>\n    <tr>\n      <th>10</th>\n      <td>Jundiai</td>\n      <td>35.27</td>\n      <td>-20.71</td>\n      <td>9.86</td>\n      <td>10.58</td>\n    </tr>\n    <tr>\n      <th>16</th>\n      <td>SJRP</td>\n      <td>35.07</td>\n      <td>-22.23</td>\n      <td>9.63</td>\n      <td>10.04</td>\n    </tr>\n    <tr>\n      <th>2</th>\n      <td>Fortaleza</td>\n      <td>34.69</td>\n      <td>-23.8</td>\n      <td>10.33</td>\n      <td>10.15</td>\n    </tr>\n    <tr>\n      <th>25</th>\n      <td>Belem</td>\n      <td>27.12</td>\n      <td>-27.12</td>\n      <td>17.34</td>\n      <td>18.84</td>\n    </tr>\n    <tr>\n      <th>3</th>\n      <td>Porto Alegre</td>\n      <td>20.99</td>\n      <td>-17.11</td>\n      <td>17.53</td>\n      <td>18.13</td>\n    </tr>\n    <tr>\n      <th>4</th>\n      <td>Campinas</td>\n      <td>9.63</td>\n      <td>-9.63</td>\n      <td>38.22</td>\n      <td>2.64</td>\n    </tr>\n    <tr>\n      <th>1</th>\n      <td>Belo Horizonte</td>\n      <td>0.0</td>\n      <td>29.21</td>\n      <td>0.0</td>\n      <td>0.0</td>\n    </tr>\n    <tr>\n      <th>29</th>\n      <td>Brasilia</td>\n      <td>0.0</td>\n      <td>0.0</td>\n      <td>0.0</td>\n      <td>0.0</td>\n    </tr>\n  </tbody>\n</table>\n</div>"
     },
     "execution_count": 6,
     "metadata": {},
     "output_type": "execute_result"
    }
   ],
   "source": [
    "std_policy_acp"
   ],
   "metadata": {
    "collapsed": false,
    "pycharm": {
     "name": "#%%\n"
    }
   }
  },
  {
   "cell_type": "markdown",
   "source": [
    "### No policy is in absolute value (%) and all other columns are in percentage points of difference to the No policy case. NH-SL: Novo Hamburgo/Sao Leopoldo, SJRP: Sao Jose do Rio Preto, SJC: Sao Jose dos Campos"
   ],
   "metadata": {
    "collapsed": false
   }
  },
  {
   "cell_type": "markdown",
   "source": [
    "# Differences in dummies"
   ],
   "metadata": {
    "collapsed": false
   }
  },
  {
   "cell_type": "code",
   "execution_count": 7,
   "outputs": [],
   "source": [
    "current = pd.read_csv('../pre_processed_data/counting_Current.csv', sep=';').round(decimals=4)\n",
    "current.replace({'Unnamed: 0': groups_cols.abm_dummies_show}, inplace=True)"
   ],
   "metadata": {
    "collapsed": false,
    "pycharm": {
     "name": "#%%\n"
    }
   }
  },
  {
   "cell_type": "code",
   "execution_count": 8,
   "outputs": [
    {
     "data": {
      "text/plain": "             Unnamed: 0    size  optimal  non-optimal\n0           Policy: buy  0.1219   0.0259       0.9741\n1          Policy: rent  0.1219   0.1037       0.8963\n2          Policy: wage  0.1219   0.1393       0.8607\n3          Policy: none  0.6343   0.0391       0.9609\n4       Interest: fixed  0.0019   0.0000       1.0000\n5        Interest: real  0.9962   0.0578       0.9422\n6     Interest: nominal  0.0019   0.0000       1.0000\n7        Belo Horizonte  0.0200   0.8108       0.1892\n8             Fortaleza  0.0200   0.0315       0.9685\n9          Porto Alegre  0.0200   0.0000       1.0000\n10             Campinas  0.0200   0.3288       0.6712\n11             Salvador  0.0106   0.1111       0.8889\n12               Recife  0.0106   0.0000       1.0000\n13            Sao Paulo  0.0106   1.0000       0.0000\n14            Joinville  0.0030   0.0000       1.0000\n15         Campo Grande  0.0106   0.0000       1.0000\n16              Jundiai  0.0106   0.0000       1.0000\n17     Feira de Santana  0.0106   0.0000       1.0000\n18             Ipatinga  0.0106   0.0000       1.0000\n19             Londrina  0.0106   0.0000       1.0000\n20             Sorocaba  0.0106   0.0000       1.0000\n21          Joao Pessoa  0.0106   0.0000       1.0000\n22                 SJRP  0.0106   0.0000       1.0000\n23               Maceio  0.0106   0.0000       1.0000\n24                  SJC  0.0106   0.0000       1.0000\n25       Ilheus-Itabuna  0.0106   0.0000       1.0000\n26             Sao Luis  0.0106   0.0000       1.0000\n27           Uberlandia  0.0106   0.0000       1.0000\n28              Maringa  0.0106   0.0000       1.0000\n29              Vitoria  0.0106   0.0000       1.0000\n30               Cuiaba  0.0106   0.0000       1.0000\n31                Belem  0.0106   0.2137       0.7863\n32                NH-SL  0.0106   0.0000       1.0000\n33             Teresina  0.0106   0.0000       1.0000\n34               Manaus  0.0106   0.0000       1.0000\n35             Brasilia  0.4867   0.0106       0.9894\n36      Licenses: False  0.0019   0.0000       1.0000\n37       Licenses: True  0.0019   0.0000       1.0000\n38     Licenses: Random  0.9962   0.0578       0.9422\n39            Jan. 2000  0.0076   0.0000       1.0000\n40            Jan. 2010  0.9924   0.0580       0.9420\n41           FPM: False  0.0038   0.0000       1.0000\n42            FPM: True  0.9962   0.0578       0.9422\n43  Alternative0: False  0.0038   0.0000       1.0000\n44   Alternative0: True  0.9962   0.0578       0.9422",
      "text/html": "<div>\n<style scoped>\n    .dataframe tbody tr th:only-of-type {\n        vertical-align: middle;\n    }\n\n    .dataframe tbody tr th {\n        vertical-align: top;\n    }\n\n    .dataframe thead th {\n        text-align: right;\n    }\n</style>\n<table border=\"1\" class=\"dataframe\">\n  <thead>\n    <tr style=\"text-align: right;\">\n      <th></th>\n      <th>Unnamed: 0</th>\n      <th>size</th>\n      <th>optimal</th>\n      <th>non-optimal</th>\n    </tr>\n  </thead>\n  <tbody>\n    <tr>\n      <th>0</th>\n      <td>Policy: buy</td>\n      <td>0.1219</td>\n      <td>0.0259</td>\n      <td>0.9741</td>\n    </tr>\n    <tr>\n      <th>1</th>\n      <td>Policy: rent</td>\n      <td>0.1219</td>\n      <td>0.1037</td>\n      <td>0.8963</td>\n    </tr>\n    <tr>\n      <th>2</th>\n      <td>Policy: wage</td>\n      <td>0.1219</td>\n      <td>0.1393</td>\n      <td>0.8607</td>\n    </tr>\n    <tr>\n      <th>3</th>\n      <td>Policy: none</td>\n      <td>0.6343</td>\n      <td>0.0391</td>\n      <td>0.9609</td>\n    </tr>\n    <tr>\n      <th>4</th>\n      <td>Interest: fixed</td>\n      <td>0.0019</td>\n      <td>0.0000</td>\n      <td>1.0000</td>\n    </tr>\n    <tr>\n      <th>5</th>\n      <td>Interest: real</td>\n      <td>0.9962</td>\n      <td>0.0578</td>\n      <td>0.9422</td>\n    </tr>\n    <tr>\n      <th>6</th>\n      <td>Interest: nominal</td>\n      <td>0.0019</td>\n      <td>0.0000</td>\n      <td>1.0000</td>\n    </tr>\n    <tr>\n      <th>7</th>\n      <td>Belo Horizonte</td>\n      <td>0.0200</td>\n      <td>0.8108</td>\n      <td>0.1892</td>\n    </tr>\n    <tr>\n      <th>8</th>\n      <td>Fortaleza</td>\n      <td>0.0200</td>\n      <td>0.0315</td>\n      <td>0.9685</td>\n    </tr>\n    <tr>\n      <th>9</th>\n      <td>Porto Alegre</td>\n      <td>0.0200</td>\n      <td>0.0000</td>\n      <td>1.0000</td>\n    </tr>\n    <tr>\n      <th>10</th>\n      <td>Campinas</td>\n      <td>0.0200</td>\n      <td>0.3288</td>\n      <td>0.6712</td>\n    </tr>\n    <tr>\n      <th>11</th>\n      <td>Salvador</td>\n      <td>0.0106</td>\n      <td>0.1111</td>\n      <td>0.8889</td>\n    </tr>\n    <tr>\n      <th>12</th>\n      <td>Recife</td>\n      <td>0.0106</td>\n      <td>0.0000</td>\n      <td>1.0000</td>\n    </tr>\n    <tr>\n      <th>13</th>\n      <td>Sao Paulo</td>\n      <td>0.0106</td>\n      <td>1.0000</td>\n      <td>0.0000</td>\n    </tr>\n    <tr>\n      <th>14</th>\n      <td>Joinville</td>\n      <td>0.0030</td>\n      <td>0.0000</td>\n      <td>1.0000</td>\n    </tr>\n    <tr>\n      <th>15</th>\n      <td>Campo Grande</td>\n      <td>0.0106</td>\n      <td>0.0000</td>\n      <td>1.0000</td>\n    </tr>\n    <tr>\n      <th>16</th>\n      <td>Jundiai</td>\n      <td>0.0106</td>\n      <td>0.0000</td>\n      <td>1.0000</td>\n    </tr>\n    <tr>\n      <th>17</th>\n      <td>Feira de Santana</td>\n      <td>0.0106</td>\n      <td>0.0000</td>\n      <td>1.0000</td>\n    </tr>\n    <tr>\n      <th>18</th>\n      <td>Ipatinga</td>\n      <td>0.0106</td>\n      <td>0.0000</td>\n      <td>1.0000</td>\n    </tr>\n    <tr>\n      <th>19</th>\n      <td>Londrina</td>\n      <td>0.0106</td>\n      <td>0.0000</td>\n      <td>1.0000</td>\n    </tr>\n    <tr>\n      <th>20</th>\n      <td>Sorocaba</td>\n      <td>0.0106</td>\n      <td>0.0000</td>\n      <td>1.0000</td>\n    </tr>\n    <tr>\n      <th>21</th>\n      <td>Joao Pessoa</td>\n      <td>0.0106</td>\n      <td>0.0000</td>\n      <td>1.0000</td>\n    </tr>\n    <tr>\n      <th>22</th>\n      <td>SJRP</td>\n      <td>0.0106</td>\n      <td>0.0000</td>\n      <td>1.0000</td>\n    </tr>\n    <tr>\n      <th>23</th>\n      <td>Maceio</td>\n      <td>0.0106</td>\n      <td>0.0000</td>\n      <td>1.0000</td>\n    </tr>\n    <tr>\n      <th>24</th>\n      <td>SJC</td>\n      <td>0.0106</td>\n      <td>0.0000</td>\n      <td>1.0000</td>\n    </tr>\n    <tr>\n      <th>25</th>\n      <td>Ilheus-Itabuna</td>\n      <td>0.0106</td>\n      <td>0.0000</td>\n      <td>1.0000</td>\n    </tr>\n    <tr>\n      <th>26</th>\n      <td>Sao Luis</td>\n      <td>0.0106</td>\n      <td>0.0000</td>\n      <td>1.0000</td>\n    </tr>\n    <tr>\n      <th>27</th>\n      <td>Uberlandia</td>\n      <td>0.0106</td>\n      <td>0.0000</td>\n      <td>1.0000</td>\n    </tr>\n    <tr>\n      <th>28</th>\n      <td>Maringa</td>\n      <td>0.0106</td>\n      <td>0.0000</td>\n      <td>1.0000</td>\n    </tr>\n    <tr>\n      <th>29</th>\n      <td>Vitoria</td>\n      <td>0.0106</td>\n      <td>0.0000</td>\n      <td>1.0000</td>\n    </tr>\n    <tr>\n      <th>30</th>\n      <td>Cuiaba</td>\n      <td>0.0106</td>\n      <td>0.0000</td>\n      <td>1.0000</td>\n    </tr>\n    <tr>\n      <th>31</th>\n      <td>Belem</td>\n      <td>0.0106</td>\n      <td>0.2137</td>\n      <td>0.7863</td>\n    </tr>\n    <tr>\n      <th>32</th>\n      <td>NH-SL</td>\n      <td>0.0106</td>\n      <td>0.0000</td>\n      <td>1.0000</td>\n    </tr>\n    <tr>\n      <th>33</th>\n      <td>Teresina</td>\n      <td>0.0106</td>\n      <td>0.0000</td>\n      <td>1.0000</td>\n    </tr>\n    <tr>\n      <th>34</th>\n      <td>Manaus</td>\n      <td>0.0106</td>\n      <td>0.0000</td>\n      <td>1.0000</td>\n    </tr>\n    <tr>\n      <th>35</th>\n      <td>Brasilia</td>\n      <td>0.4867</td>\n      <td>0.0106</td>\n      <td>0.9894</td>\n    </tr>\n    <tr>\n      <th>36</th>\n      <td>Licenses: False</td>\n      <td>0.0019</td>\n      <td>0.0000</td>\n      <td>1.0000</td>\n    </tr>\n    <tr>\n      <th>37</th>\n      <td>Licenses: True</td>\n      <td>0.0019</td>\n      <td>0.0000</td>\n      <td>1.0000</td>\n    </tr>\n    <tr>\n      <th>38</th>\n      <td>Licenses: Random</td>\n      <td>0.9962</td>\n      <td>0.0578</td>\n      <td>0.9422</td>\n    </tr>\n    <tr>\n      <th>39</th>\n      <td>Jan. 2000</td>\n      <td>0.0076</td>\n      <td>0.0000</td>\n      <td>1.0000</td>\n    </tr>\n    <tr>\n      <th>40</th>\n      <td>Jan. 2010</td>\n      <td>0.9924</td>\n      <td>0.0580</td>\n      <td>0.9420</td>\n    </tr>\n    <tr>\n      <th>41</th>\n      <td>FPM: False</td>\n      <td>0.0038</td>\n      <td>0.0000</td>\n      <td>1.0000</td>\n    </tr>\n    <tr>\n      <th>42</th>\n      <td>FPM: True</td>\n      <td>0.9962</td>\n      <td>0.0578</td>\n      <td>0.9422</td>\n    </tr>\n    <tr>\n      <th>43</th>\n      <td>Alternative0: False</td>\n      <td>0.0038</td>\n      <td>0.0000</td>\n      <td>1.0000</td>\n    </tr>\n    <tr>\n      <th>44</th>\n      <td>Alternative0: True</td>\n      <td>0.9962</td>\n      <td>0.0578</td>\n      <td>0.9422</td>\n    </tr>\n  </tbody>\n</table>\n</div>"
     },
     "execution_count": 8,
     "metadata": {},
     "output_type": "execute_result"
    }
   ],
   "source": [
    "current"
   ],
   "metadata": {
    "collapsed": false,
    "pycharm": {
     "name": "#%%\n"
    }
   }
  },
  {
   "cell_type": "code",
   "execution_count": 9,
   "outputs": [],
   "source": [
    "tree = pd.read_csv('../pre_processed_data/counting_Tree.csv', sep=';').round(decimals=4)\n",
    "tree.replace({'Unnamed: 0': groups_cols.abm_dummies_show}, inplace=True)"
   ],
   "metadata": {
    "collapsed": false,
    "pycharm": {
     "name": "#%%\n"
    }
   }
  },
  {
   "cell_type": "markdown",
   "source": [
    "## differences in non-acp dummies"
   ],
   "metadata": {
    "collapsed": false,
    "pycharm": {
     "name": "#%% md\n"
    }
   }
  },
  {
   "cell_type": "code",
   "execution_count": 10,
   "outputs": [],
   "source": [
    "SON = pd.DataFrame()\n",
    "SON_acp = SON.copy()\n",
    "non_acps = list(range(0,7)) + list(range(36, 45))"
   ],
   "metadata": {
    "collapsed": false,
    "pycharm": {
     "name": "#%%\n"
    }
   }
  },
  {
   "cell_type": "code",
   "execution_count": 11,
   "outputs": [
    {
     "name": "stdout",
     "output_type": "stream",
     "text": [
      "{'Dummy': 'Policy: buy', 'Size: sur': 25.06, 'Size: ABM': 12.19, 'Opt: sur': 3.62, 'Opt: ABM': 2.59, 'Non-opt: sur': 96.38, 'Non-opt: ABM': 97.41}\n",
      "{'Dummy': 'Policy: rent', 'Size: sur': 25.009999999999998, 'Size: ABM': 12.19, 'Opt: sur': 31.03, 'Opt: ABM': 10.37, 'Non-opt: sur': 68.97, 'Non-opt: ABM': 89.63}\n",
      "{'Dummy': 'Policy: wage', 'Size: sur': 25.0, 'Size: ABM': 12.19, 'Opt: sur': 32.92, 'Opt: ABM': 13.930000000000001, 'Non-opt: sur': 67.08, 'Non-opt: ABM': 86.07000000000001}\n",
      "{'Dummy': 'Policy: none', 'Size: sur': 24.93, 'Size: ABM': 63.43, 'Opt: sur': 17.87, 'Opt: ABM': 3.91, 'Non-opt: sur': 82.13000000000001, 'Non-opt: ABM': 96.09}\n",
      "{'Dummy': 'Interest: fixed', 'Size: sur': 33.35, 'Size: ABM': 0.19, 'Opt: sur': 21.37, 'Opt: ABM': 0.0, 'Non-opt: sur': 78.63, 'Non-opt: ABM': 100.0}\n",
      "{'Dummy': 'Interest: real', 'Size: sur': 33.33, 'Size: ABM': 99.62, 'Opt: sur': 21.37, 'Opt: ABM': 5.779999999999999, 'Non-opt: sur': 78.63, 'Non-opt: ABM': 94.22}\n",
      "{'Dummy': 'Interest: nominal', 'Size: sur': 33.32, 'Size: ABM': 0.19, 'Opt: sur': 21.32, 'Opt: ABM': 0.0, 'Non-opt: sur': 78.68, 'Non-opt: ABM': 100.0}\n",
      "{'Dummy': 'Licenses: False', 'Size: sur': 33.43, 'Size: ABM': 0.19, 'Opt: sur': 21.36, 'Opt: ABM': 0.0, 'Non-opt: sur': 78.64, 'Non-opt: ABM': 100.0}\n",
      "{'Dummy': 'Licenses: True', 'Size: sur': 33.23, 'Size: ABM': 0.19, 'Opt: sur': 21.38, 'Opt: ABM': 0.0, 'Non-opt: sur': 78.62, 'Non-opt: ABM': 100.0}\n",
      "{'Dummy': 'Licenses: Random', 'Size: sur': 33.339999999999996, 'Size: ABM': 99.62, 'Opt: sur': 21.32, 'Opt: ABM': 5.779999999999999, 'Non-opt: sur': 78.68, 'Non-opt: ABM': 94.22}\n",
      "{'Dummy': 'Jan. 2000', 'Size: sur': 49.99, 'Size: ABM': 0.76, 'Opt: sur': 21.26, 'Opt: ABM': 0.0, 'Non-opt: sur': 78.74, 'Non-opt: ABM': 100.0}\n",
      "{'Dummy': 'Jan. 2010', 'Size: sur': 50.01, 'Size: ABM': 99.24, 'Opt: sur': 21.45, 'Opt: ABM': 5.800000000000001, 'Non-opt: sur': 78.55, 'Non-opt: ABM': 94.19999999999999}\n",
      "{'Dummy': 'FPM: False', 'Size: sur': 49.97, 'Size: ABM': 0.38, 'Opt: sur': 21.310000000000002, 'Opt: ABM': 0.0, 'Non-opt: sur': 78.69, 'Non-opt: ABM': 100.0}\n",
      "{'Dummy': 'FPM: True', 'Size: sur': 50.029999999999994, 'Size: ABM': 99.62, 'Opt: sur': 21.4, 'Opt: ABM': 5.779999999999999, 'Non-opt: sur': 78.60000000000001, 'Non-opt: ABM': 94.22}\n",
      "{'Dummy': 'Alternative0: False', 'Size: sur': 49.919999999999995, 'Size: ABM': 0.38, 'Opt: sur': 21.29, 'Opt: ABM': 0.0, 'Non-opt: sur': 78.71000000000001, 'Non-opt: ABM': 100.0}\n",
      "{'Dummy': 'Alternative0: True', 'Size: sur': 50.080000000000005, 'Size: ABM': 99.62, 'Opt: sur': 21.42, 'Opt: ABM': 5.779999999999999, 'Non-opt: sur': 78.58000000000001, 'Non-opt: ABM': 94.22}\n"
     ]
    }
   ],
   "source": [
    "for row in non_acps:\n",
    "    to_add = {'Dummy' : tree.iloc[row, 0],\n",
    "              'Size: sur': tree.iloc[row, 1]*100,\n",
    "              'Size: ABM': current.iloc[row, 1]*100,\n",
    "              'Opt: sur': tree.iloc[row, 2]*100,\n",
    "              'Opt: ABM': current.iloc[row, 2]*100,\n",
    "              'Non-opt: sur': tree.iloc[row, 3]*100,\n",
    "              'Non-opt: ABM': current.iloc[row, 3]*100\n",
    "    }\n",
    "    print(to_add)\n",
    "    SON = SON.append(to_add, ignore_index=True)"
   ],
   "metadata": {
    "collapsed": false,
    "pycharm": {
     "name": "#%%\n"
    }
   }
  },
  {
   "cell_type": "code",
   "execution_count": 12,
   "outputs": [],
   "source": [
    "SON.sort_values(by='Non-opt: sur', inplace=True)"
   ],
   "metadata": {
    "collapsed": false,
    "pycharm": {
     "name": "#%%\n"
    }
   }
  },
  {
   "cell_type": "code",
   "execution_count": 13,
   "outputs": [
    {
     "data": {
      "text/plain": "                  Dummy  Size: sur  Size: ABM  Opt: sur  Opt: ABM  \\\n2          Policy: wage      25.00      12.19     32.92     13.93   \n1          Policy: rent      25.01      12.19     31.03     10.37   \n11            Jan. 2010      50.01      99.24     21.45      5.80   \n15   Alternative0: True      50.08      99.62     21.42      5.78   \n13            FPM: True      50.03      99.62     21.40      5.78   \n8        Licenses: True      33.23       0.19     21.38      0.00   \n4       Interest: fixed      33.35       0.19     21.37      0.00   \n5        Interest: real      33.33      99.62     21.37      5.78   \n7       Licenses: False      33.43       0.19     21.36      0.00   \n6     Interest: nominal      33.32       0.19     21.32      0.00   \n9      Licenses: Random      33.34      99.62     21.32      5.78   \n12           FPM: False      49.97       0.38     21.31      0.00   \n14  Alternative0: False      49.92       0.38     21.29      0.00   \n10            Jan. 2000      49.99       0.76     21.26      0.00   \n3          Policy: none      24.93      63.43     17.87      3.91   \n0           Policy: buy      25.06      12.19      3.62      2.59   \n\n    Non-opt: sur  Non-opt: ABM  \n2          67.08         86.07  \n1          68.97         89.63  \n11         78.55         94.20  \n15         78.58         94.22  \n13         78.60         94.22  \n8          78.62        100.00  \n4          78.63        100.00  \n5          78.63         94.22  \n7          78.64        100.00  \n6          78.68        100.00  \n9          78.68         94.22  \n12         78.69        100.00  \n14         78.71        100.00  \n10         78.74        100.00  \n3          82.13         96.09  \n0          96.38         97.41  ",
      "text/html": "<div>\n<style scoped>\n    .dataframe tbody tr th:only-of-type {\n        vertical-align: middle;\n    }\n\n    .dataframe tbody tr th {\n        vertical-align: top;\n    }\n\n    .dataframe thead th {\n        text-align: right;\n    }\n</style>\n<table border=\"1\" class=\"dataframe\">\n  <thead>\n    <tr style=\"text-align: right;\">\n      <th></th>\n      <th>Dummy</th>\n      <th>Size: sur</th>\n      <th>Size: ABM</th>\n      <th>Opt: sur</th>\n      <th>Opt: ABM</th>\n      <th>Non-opt: sur</th>\n      <th>Non-opt: ABM</th>\n    </tr>\n  </thead>\n  <tbody>\n    <tr>\n      <th>2</th>\n      <td>Policy: wage</td>\n      <td>25.00</td>\n      <td>12.19</td>\n      <td>32.92</td>\n      <td>13.93</td>\n      <td>67.08</td>\n      <td>86.07</td>\n    </tr>\n    <tr>\n      <th>1</th>\n      <td>Policy: rent</td>\n      <td>25.01</td>\n      <td>12.19</td>\n      <td>31.03</td>\n      <td>10.37</td>\n      <td>68.97</td>\n      <td>89.63</td>\n    </tr>\n    <tr>\n      <th>11</th>\n      <td>Jan. 2010</td>\n      <td>50.01</td>\n      <td>99.24</td>\n      <td>21.45</td>\n      <td>5.80</td>\n      <td>78.55</td>\n      <td>94.20</td>\n    </tr>\n    <tr>\n      <th>15</th>\n      <td>Alternative0: True</td>\n      <td>50.08</td>\n      <td>99.62</td>\n      <td>21.42</td>\n      <td>5.78</td>\n      <td>78.58</td>\n      <td>94.22</td>\n    </tr>\n    <tr>\n      <th>13</th>\n      <td>FPM: True</td>\n      <td>50.03</td>\n      <td>99.62</td>\n      <td>21.40</td>\n      <td>5.78</td>\n      <td>78.60</td>\n      <td>94.22</td>\n    </tr>\n    <tr>\n      <th>8</th>\n      <td>Licenses: True</td>\n      <td>33.23</td>\n      <td>0.19</td>\n      <td>21.38</td>\n      <td>0.00</td>\n      <td>78.62</td>\n      <td>100.00</td>\n    </tr>\n    <tr>\n      <th>4</th>\n      <td>Interest: fixed</td>\n      <td>33.35</td>\n      <td>0.19</td>\n      <td>21.37</td>\n      <td>0.00</td>\n      <td>78.63</td>\n      <td>100.00</td>\n    </tr>\n    <tr>\n      <th>5</th>\n      <td>Interest: real</td>\n      <td>33.33</td>\n      <td>99.62</td>\n      <td>21.37</td>\n      <td>5.78</td>\n      <td>78.63</td>\n      <td>94.22</td>\n    </tr>\n    <tr>\n      <th>7</th>\n      <td>Licenses: False</td>\n      <td>33.43</td>\n      <td>0.19</td>\n      <td>21.36</td>\n      <td>0.00</td>\n      <td>78.64</td>\n      <td>100.00</td>\n    </tr>\n    <tr>\n      <th>6</th>\n      <td>Interest: nominal</td>\n      <td>33.32</td>\n      <td>0.19</td>\n      <td>21.32</td>\n      <td>0.00</td>\n      <td>78.68</td>\n      <td>100.00</td>\n    </tr>\n    <tr>\n      <th>9</th>\n      <td>Licenses: Random</td>\n      <td>33.34</td>\n      <td>99.62</td>\n      <td>21.32</td>\n      <td>5.78</td>\n      <td>78.68</td>\n      <td>94.22</td>\n    </tr>\n    <tr>\n      <th>12</th>\n      <td>FPM: False</td>\n      <td>49.97</td>\n      <td>0.38</td>\n      <td>21.31</td>\n      <td>0.00</td>\n      <td>78.69</td>\n      <td>100.00</td>\n    </tr>\n    <tr>\n      <th>14</th>\n      <td>Alternative0: False</td>\n      <td>49.92</td>\n      <td>0.38</td>\n      <td>21.29</td>\n      <td>0.00</td>\n      <td>78.71</td>\n      <td>100.00</td>\n    </tr>\n    <tr>\n      <th>10</th>\n      <td>Jan. 2000</td>\n      <td>49.99</td>\n      <td>0.76</td>\n      <td>21.26</td>\n      <td>0.00</td>\n      <td>78.74</td>\n      <td>100.00</td>\n    </tr>\n    <tr>\n      <th>3</th>\n      <td>Policy: none</td>\n      <td>24.93</td>\n      <td>63.43</td>\n      <td>17.87</td>\n      <td>3.91</td>\n      <td>82.13</td>\n      <td>96.09</td>\n    </tr>\n    <tr>\n      <th>0</th>\n      <td>Policy: buy</td>\n      <td>25.06</td>\n      <td>12.19</td>\n      <td>3.62</td>\n      <td>2.59</td>\n      <td>96.38</td>\n      <td>97.41</td>\n    </tr>\n  </tbody>\n</table>\n</div>"
     },
     "execution_count": 13,
     "metadata": {},
     "output_type": "execute_result"
    }
   ],
   "source": [
    "SON"
   ],
   "metadata": {
    "collapsed": false,
    "pycharm": {
     "name": "#%%\n"
    }
   }
  },
  {
   "cell_type": "markdown",
   "source": [
    "## differences in acp dummies"
   ],
   "metadata": {
    "collapsed": false
   }
  },
  {
   "cell_type": "code",
   "execution_count": 14,
   "outputs": [
    {
     "name": "stdout",
     "output_type": "stream",
     "text": [
      "{'Dummy': 'Belo Horizonte', 'Size: sur': 2.17, 'Size: ABM': 2.0, 'Opt: sur': 77.06, 'Opt: ABM': 81.08, 'Non-opt: sur': 22.939999999999998, 'Non-opt: ABM': 18.92}\n",
      "{'Dummy': 'Fortaleza', 'Size: sur': 2.17, 'Size: ABM': 2.0, 'Opt: sur': 17.95, 'Opt: ABM': 3.15, 'Non-opt: sur': 82.05, 'Non-opt: ABM': 96.85000000000001}\n",
      "{'Dummy': 'Porto Alegre', 'Size: sur': 2.1999999999999997, 'Size: ABM': 2.0, 'Opt: sur': 10.52, 'Opt: ABM': 0.0, 'Non-opt: sur': 89.48, 'Non-opt: ABM': 100.0}\n",
      "{'Dummy': 'Campinas', 'Size: sur': 2.18, 'Size: ABM': 2.0, 'Opt: sur': 41.010000000000005, 'Opt: ABM': 32.879999999999995, 'Non-opt: sur': 58.989999999999995, 'Non-opt: ABM': 67.12}\n",
      "{'Dummy': 'Salvador', 'Size: sur': 2.17, 'Size: ABM': 1.06, 'Opt: sur': 18.27, 'Opt: ABM': 11.110000000000001, 'Non-opt: sur': 81.73, 'Non-opt: ABM': 88.89}\n",
      "{'Dummy': 'Recife', 'Size: sur': 2.17, 'Size: ABM': 1.06, 'Opt: sur': 18.92, 'Opt: ABM': 0.0, 'Non-opt: sur': 81.08, 'Non-opt: ABM': 100.0}\n",
      "{'Dummy': 'Sao Paulo', 'Size: sur': 2.19, 'Size: ABM': 1.06, 'Opt: sur': 31.1, 'Opt: ABM': 100.0, 'Non-opt: sur': 68.89999999999999, 'Non-opt: ABM': 0.0}\n",
      "{'Dummy': 'Joinville', 'Size: sur': 2.16, 'Size: ABM': 0.3, 'Opt: sur': 19.99, 'Opt: ABM': 0.0, 'Non-opt: sur': 80.01, 'Non-opt: ABM': 100.0}\n",
      "{'Dummy': 'Campo Grande', 'Size: sur': 2.15, 'Size: ABM': 1.06, 'Opt: sur': 19.54, 'Opt: ABM': 0.0, 'Non-opt: sur': 80.46, 'Non-opt: ABM': 100.0}\n",
      "{'Dummy': 'Jundiai', 'Size: sur': 2.18, 'Size: ABM': 1.06, 'Opt: sur': 18.8, 'Opt: ABM': 0.0, 'Non-opt: sur': 81.2, 'Non-opt: ABM': 100.0}\n",
      "{'Dummy': 'Feira de Santana', 'Size: sur': 2.16, 'Size: ABM': 1.06, 'Opt: sur': 18.89, 'Opt: ABM': 0.0, 'Non-opt: sur': 81.11, 'Non-opt: ABM': 100.0}\n",
      "{'Dummy': 'Ipatinga', 'Size: sur': 2.17, 'Size: ABM': 1.06, 'Opt: sur': 19.25, 'Opt: ABM': 0.0, 'Non-opt: sur': 80.75, 'Non-opt: ABM': 100.0}\n",
      "{'Dummy': 'Londrina', 'Size: sur': 2.18, 'Size: ABM': 1.06, 'Opt: sur': 19.24, 'Opt: ABM': 0.0, 'Non-opt: sur': 80.76, 'Non-opt: ABM': 100.0}\n",
      "{'Dummy': 'Sorocaba', 'Size: sur': 2.17, 'Size: ABM': 1.06, 'Opt: sur': 19.259999999999998, 'Opt: ABM': 0.0, 'Non-opt: sur': 80.74, 'Non-opt: ABM': 100.0}\n",
      "{'Dummy': 'Joao Pessoa', 'Size: sur': 2.18, 'Size: ABM': 1.06, 'Opt: sur': 19.52, 'Opt: ABM': 0.0, 'Non-opt: sur': 80.47999999999999, 'Non-opt: ABM': 100.0}\n",
      "{'Dummy': 'SJRP', 'Size: sur': 2.17, 'Size: ABM': 1.06, 'Opt: sur': 17.97, 'Opt: ABM': 0.0, 'Non-opt: sur': 82.03, 'Non-opt: ABM': 100.0}\n",
      "{'Dummy': 'Maceio', 'Size: sur': 2.16, 'Size: ABM': 1.06, 'Opt: sur': 19.66, 'Opt: ABM': 0.0, 'Non-opt: sur': 80.34, 'Non-opt: ABM': 100.0}\n",
      "{'Dummy': 'SJC', 'Size: sur': 2.18, 'Size: ABM': 1.06, 'Opt: sur': 18.95, 'Opt: ABM': 0.0, 'Non-opt: sur': 81.05, 'Non-opt: ABM': 100.0}\n",
      "{'Dummy': 'Ilheus-Itabuna', 'Size: sur': 2.18, 'Size: ABM': 1.06, 'Opt: sur': 19.2, 'Opt: ABM': 0.0, 'Non-opt: sur': 80.80000000000001, 'Non-opt: ABM': 100.0}\n",
      "{'Dummy': 'Sao Luis', 'Size: sur': 2.17, 'Size: ABM': 1.06, 'Opt: sur': 18.529999999999998, 'Opt: ABM': 0.0, 'Non-opt: sur': 81.47, 'Non-opt: ABM': 100.0}\n",
      "{'Dummy': 'Uberlandia', 'Size: sur': 2.18, 'Size: ABM': 1.06, 'Opt: sur': 19.43, 'Opt: ABM': 0.0, 'Non-opt: sur': 80.57, 'Non-opt: ABM': 100.0}\n",
      "{'Dummy': 'Maringa', 'Size: sur': 2.16, 'Size: ABM': 1.06, 'Opt: sur': 19.900000000000002, 'Opt: ABM': 0.0, 'Non-opt: sur': 80.10000000000001, 'Non-opt: ABM': 100.0}\n",
      "{'Dummy': 'Vitoria', 'Size: sur': 2.1999999999999997, 'Size: ABM': 1.06, 'Opt: sur': 19.2, 'Opt: ABM': 0.0, 'Non-opt: sur': 80.80000000000001, 'Non-opt: ABM': 100.0}\n",
      "{'Dummy': 'Cuiaba', 'Size: sur': 2.16, 'Size: ABM': 1.06, 'Opt: sur': 19.1, 'Opt: ABM': 0.0, 'Non-opt: sur': 80.9, 'Non-opt: ABM': 100.0}\n",
      "{'Dummy': 'Belem', 'Size: sur': 2.18, 'Size: ABM': 1.06, 'Opt: sur': 26.490000000000002, 'Opt: ABM': 21.37, 'Non-opt: sur': 73.50999999999999, 'Non-opt: ABM': 78.63}\n",
      "{'Dummy': 'NH-SL', 'Size: sur': 2.16, 'Size: ABM': 1.06, 'Opt: sur': 18.98, 'Opt: ABM': 0.0, 'Non-opt: sur': 81.02000000000001, 'Non-opt: ABM': 100.0}\n",
      "{'Dummy': 'Teresina', 'Size: sur': 2.19, 'Size: ABM': 1.06, 'Opt: sur': 18.81, 'Opt: ABM': 0.0, 'Non-opt: sur': 81.19, 'Non-opt: ABM': 100.0}\n",
      "{'Dummy': 'Manaus', 'Size: sur': 2.17, 'Size: ABM': 1.06, 'Opt: sur': 19.42, 'Opt: ABM': 0.0, 'Non-opt: sur': 80.58, 'Non-opt: ABM': 100.0}\n",
      "{'Dummy': 'Brasilia', 'Size: sur': 2.19, 'Size: ABM': 48.67, 'Opt: sur': 0.0, 'Opt: ABM': 1.06, 'Non-opt: sur': 100.0, 'Non-opt: ABM': 98.94}\n"
     ]
    }
   ],
   "source": [
    "for row in range(7,36):\n",
    "    to_add = {'Dummy' : tree.iloc[row, 0],\n",
    "              'Size: sur': tree.iloc[row, 1]*100,\n",
    "              'Size: ABM': current.iloc[row, 1]*100,\n",
    "              'Opt: sur': tree.iloc[row, 2]*100,\n",
    "              'Opt: ABM': current.iloc[row, 2]*100,\n",
    "              'Non-opt: sur': tree.iloc[row, 3]*100,\n",
    "              'Non-opt: ABM': current.iloc[row, 3]*100\n",
    "    }\n",
    "    print(to_add)\n",
    "    SON_acp = SON_acp.append(to_add, ignore_index=True)"
   ],
   "metadata": {
    "collapsed": false,
    "pycharm": {
     "name": "#%%\n"
    }
   }
  },
  {
   "cell_type": "code",
   "execution_count": 15,
   "outputs": [],
   "source": [
    "SON_acp.sort_values(by='Non-opt: sur', inplace=True)"
   ],
   "metadata": {
    "collapsed": false,
    "pycharm": {
     "name": "#%%\n"
    }
   }
  },
  {
   "cell_type": "code",
   "execution_count": 16,
   "outputs": [
    {
     "data": {
      "text/plain": "               Dummy  Size: sur  Size: ABM  Opt: sur  Opt: ABM  Non-opt: sur  \\\n0     Belo Horizonte       2.17       2.00     77.06     81.08         22.94   \n3           Campinas       2.18       2.00     41.01     32.88         58.99   \n6          Sao Paulo       2.19       1.06     31.10    100.00         68.90   \n24             Belem       2.18       1.06     26.49     21.37         73.51   \n7          Joinville       2.16       0.30     19.99      0.00         80.01   \n21           Maringa       2.16       1.06     19.90      0.00         80.10   \n16            Maceio       2.16       1.06     19.66      0.00         80.34   \n8       Campo Grande       2.15       1.06     19.54      0.00         80.46   \n14       Joao Pessoa       2.18       1.06     19.52      0.00         80.48   \n20        Uberlandia       2.18       1.06     19.43      0.00         80.57   \n27            Manaus       2.17       1.06     19.42      0.00         80.58   \n13          Sorocaba       2.17       1.06     19.26      0.00         80.74   \n11          Ipatinga       2.17       1.06     19.25      0.00         80.75   \n12          Londrina       2.18       1.06     19.24      0.00         80.76   \n18    Ilheus-Itabuna       2.18       1.06     19.20      0.00         80.80   \n22           Vitoria       2.20       1.06     19.20      0.00         80.80   \n23            Cuiaba       2.16       1.06     19.10      0.00         80.90   \n25             NH-SL       2.16       1.06     18.98      0.00         81.02   \n17               SJC       2.18       1.06     18.95      0.00         81.05   \n5             Recife       2.17       1.06     18.92      0.00         81.08   \n10  Feira de Santana       2.16       1.06     18.89      0.00         81.11   \n26          Teresina       2.19       1.06     18.81      0.00         81.19   \n9            Jundiai       2.18       1.06     18.80      0.00         81.20   \n19          Sao Luis       2.17       1.06     18.53      0.00         81.47   \n4           Salvador       2.17       1.06     18.27     11.11         81.73   \n15              SJRP       2.17       1.06     17.97      0.00         82.03   \n1          Fortaleza       2.17       2.00     17.95      3.15         82.05   \n2       Porto Alegre       2.20       2.00     10.52      0.00         89.48   \n28          Brasilia       2.19      48.67      0.00      1.06        100.00   \n\n    Non-opt: ABM  \n0          18.92  \n3          67.12  \n6           0.00  \n24         78.63  \n7         100.00  \n21        100.00  \n16        100.00  \n8         100.00  \n14        100.00  \n20        100.00  \n27        100.00  \n13        100.00  \n11        100.00  \n12        100.00  \n18        100.00  \n22        100.00  \n23        100.00  \n25        100.00  \n17        100.00  \n5         100.00  \n10        100.00  \n26        100.00  \n9         100.00  \n19        100.00  \n4          88.89  \n15        100.00  \n1          96.85  \n2         100.00  \n28         98.94  ",
      "text/html": "<div>\n<style scoped>\n    .dataframe tbody tr th:only-of-type {\n        vertical-align: middle;\n    }\n\n    .dataframe tbody tr th {\n        vertical-align: top;\n    }\n\n    .dataframe thead th {\n        text-align: right;\n    }\n</style>\n<table border=\"1\" class=\"dataframe\">\n  <thead>\n    <tr style=\"text-align: right;\">\n      <th></th>\n      <th>Dummy</th>\n      <th>Size: sur</th>\n      <th>Size: ABM</th>\n      <th>Opt: sur</th>\n      <th>Opt: ABM</th>\n      <th>Non-opt: sur</th>\n      <th>Non-opt: ABM</th>\n    </tr>\n  </thead>\n  <tbody>\n    <tr>\n      <th>0</th>\n      <td>Belo Horizonte</td>\n      <td>2.17</td>\n      <td>2.00</td>\n      <td>77.06</td>\n      <td>81.08</td>\n      <td>22.94</td>\n      <td>18.92</td>\n    </tr>\n    <tr>\n      <th>3</th>\n      <td>Campinas</td>\n      <td>2.18</td>\n      <td>2.00</td>\n      <td>41.01</td>\n      <td>32.88</td>\n      <td>58.99</td>\n      <td>67.12</td>\n    </tr>\n    <tr>\n      <th>6</th>\n      <td>Sao Paulo</td>\n      <td>2.19</td>\n      <td>1.06</td>\n      <td>31.10</td>\n      <td>100.00</td>\n      <td>68.90</td>\n      <td>0.00</td>\n    </tr>\n    <tr>\n      <th>24</th>\n      <td>Belem</td>\n      <td>2.18</td>\n      <td>1.06</td>\n      <td>26.49</td>\n      <td>21.37</td>\n      <td>73.51</td>\n      <td>78.63</td>\n    </tr>\n    <tr>\n      <th>7</th>\n      <td>Joinville</td>\n      <td>2.16</td>\n      <td>0.30</td>\n      <td>19.99</td>\n      <td>0.00</td>\n      <td>80.01</td>\n      <td>100.00</td>\n    </tr>\n    <tr>\n      <th>21</th>\n      <td>Maringa</td>\n      <td>2.16</td>\n      <td>1.06</td>\n      <td>19.90</td>\n      <td>0.00</td>\n      <td>80.10</td>\n      <td>100.00</td>\n    </tr>\n    <tr>\n      <th>16</th>\n      <td>Maceio</td>\n      <td>2.16</td>\n      <td>1.06</td>\n      <td>19.66</td>\n      <td>0.00</td>\n      <td>80.34</td>\n      <td>100.00</td>\n    </tr>\n    <tr>\n      <th>8</th>\n      <td>Campo Grande</td>\n      <td>2.15</td>\n      <td>1.06</td>\n      <td>19.54</td>\n      <td>0.00</td>\n      <td>80.46</td>\n      <td>100.00</td>\n    </tr>\n    <tr>\n      <th>14</th>\n      <td>Joao Pessoa</td>\n      <td>2.18</td>\n      <td>1.06</td>\n      <td>19.52</td>\n      <td>0.00</td>\n      <td>80.48</td>\n      <td>100.00</td>\n    </tr>\n    <tr>\n      <th>20</th>\n      <td>Uberlandia</td>\n      <td>2.18</td>\n      <td>1.06</td>\n      <td>19.43</td>\n      <td>0.00</td>\n      <td>80.57</td>\n      <td>100.00</td>\n    </tr>\n    <tr>\n      <th>27</th>\n      <td>Manaus</td>\n      <td>2.17</td>\n      <td>1.06</td>\n      <td>19.42</td>\n      <td>0.00</td>\n      <td>80.58</td>\n      <td>100.00</td>\n    </tr>\n    <tr>\n      <th>13</th>\n      <td>Sorocaba</td>\n      <td>2.17</td>\n      <td>1.06</td>\n      <td>19.26</td>\n      <td>0.00</td>\n      <td>80.74</td>\n      <td>100.00</td>\n    </tr>\n    <tr>\n      <th>11</th>\n      <td>Ipatinga</td>\n      <td>2.17</td>\n      <td>1.06</td>\n      <td>19.25</td>\n      <td>0.00</td>\n      <td>80.75</td>\n      <td>100.00</td>\n    </tr>\n    <tr>\n      <th>12</th>\n      <td>Londrina</td>\n      <td>2.18</td>\n      <td>1.06</td>\n      <td>19.24</td>\n      <td>0.00</td>\n      <td>80.76</td>\n      <td>100.00</td>\n    </tr>\n    <tr>\n      <th>18</th>\n      <td>Ilheus-Itabuna</td>\n      <td>2.18</td>\n      <td>1.06</td>\n      <td>19.20</td>\n      <td>0.00</td>\n      <td>80.80</td>\n      <td>100.00</td>\n    </tr>\n    <tr>\n      <th>22</th>\n      <td>Vitoria</td>\n      <td>2.20</td>\n      <td>1.06</td>\n      <td>19.20</td>\n      <td>0.00</td>\n      <td>80.80</td>\n      <td>100.00</td>\n    </tr>\n    <tr>\n      <th>23</th>\n      <td>Cuiaba</td>\n      <td>2.16</td>\n      <td>1.06</td>\n      <td>19.10</td>\n      <td>0.00</td>\n      <td>80.90</td>\n      <td>100.00</td>\n    </tr>\n    <tr>\n      <th>25</th>\n      <td>NH-SL</td>\n      <td>2.16</td>\n      <td>1.06</td>\n      <td>18.98</td>\n      <td>0.00</td>\n      <td>81.02</td>\n      <td>100.00</td>\n    </tr>\n    <tr>\n      <th>17</th>\n      <td>SJC</td>\n      <td>2.18</td>\n      <td>1.06</td>\n      <td>18.95</td>\n      <td>0.00</td>\n      <td>81.05</td>\n      <td>100.00</td>\n    </tr>\n    <tr>\n      <th>5</th>\n      <td>Recife</td>\n      <td>2.17</td>\n      <td>1.06</td>\n      <td>18.92</td>\n      <td>0.00</td>\n      <td>81.08</td>\n      <td>100.00</td>\n    </tr>\n    <tr>\n      <th>10</th>\n      <td>Feira de Santana</td>\n      <td>2.16</td>\n      <td>1.06</td>\n      <td>18.89</td>\n      <td>0.00</td>\n      <td>81.11</td>\n      <td>100.00</td>\n    </tr>\n    <tr>\n      <th>26</th>\n      <td>Teresina</td>\n      <td>2.19</td>\n      <td>1.06</td>\n      <td>18.81</td>\n      <td>0.00</td>\n      <td>81.19</td>\n      <td>100.00</td>\n    </tr>\n    <tr>\n      <th>9</th>\n      <td>Jundiai</td>\n      <td>2.18</td>\n      <td>1.06</td>\n      <td>18.80</td>\n      <td>0.00</td>\n      <td>81.20</td>\n      <td>100.00</td>\n    </tr>\n    <tr>\n      <th>19</th>\n      <td>Sao Luis</td>\n      <td>2.17</td>\n      <td>1.06</td>\n      <td>18.53</td>\n      <td>0.00</td>\n      <td>81.47</td>\n      <td>100.00</td>\n    </tr>\n    <tr>\n      <th>4</th>\n      <td>Salvador</td>\n      <td>2.17</td>\n      <td>1.06</td>\n      <td>18.27</td>\n      <td>11.11</td>\n      <td>81.73</td>\n      <td>88.89</td>\n    </tr>\n    <tr>\n      <th>15</th>\n      <td>SJRP</td>\n      <td>2.17</td>\n      <td>1.06</td>\n      <td>17.97</td>\n      <td>0.00</td>\n      <td>82.03</td>\n      <td>100.00</td>\n    </tr>\n    <tr>\n      <th>1</th>\n      <td>Fortaleza</td>\n      <td>2.17</td>\n      <td>2.00</td>\n      <td>17.95</td>\n      <td>3.15</td>\n      <td>82.05</td>\n      <td>96.85</td>\n    </tr>\n    <tr>\n      <th>2</th>\n      <td>Porto Alegre</td>\n      <td>2.20</td>\n      <td>2.00</td>\n      <td>10.52</td>\n      <td>0.00</td>\n      <td>89.48</td>\n      <td>100.00</td>\n    </tr>\n    <tr>\n      <th>28</th>\n      <td>Brasilia</td>\n      <td>2.19</td>\n      <td>48.67</td>\n      <td>0.00</td>\n      <td>1.06</td>\n      <td>100.00</td>\n      <td>98.94</td>\n    </tr>\n  </tbody>\n</table>\n</div>"
     },
     "execution_count": 16,
     "metadata": {},
     "output_type": "execute_result"
    }
   ],
   "source": [
    "SON_acp"
   ],
   "metadata": {
    "collapsed": false,
    "pycharm": {
     "name": "#%%\n"
    }
   }
  },
  {
   "cell_type": "markdown",
   "source": [
    "# Comparison of parameters"
   ],
   "metadata": {
    "collapsed": false
   }
  },
  {
   "cell_type": "code",
   "execution_count": 17,
   "outputs": [
    {
     "data": {
      "text/plain": "                                    Unnamed: 0  simulated_optimal  ml_optimal  \\\n0                           Hiring sample size             0.0026      0.0004   \n1                           Hiring sample size             0.0044      0.0017   \n2                  Loan/permament income ratio             0.0022      0.0008   \n3                                       Markup            -0.0000     -0.0002   \n4                        Maximum Loan-to-Value             0.0022      0.0003   \n5              Municipal efficiency management            -0.0007     -0.0008   \n6                          Neighborhood effect            -0.0468     -0.0014   \n7   supply-demand effect on real estate prices             0.0000     -0.0005   \n8             % firms analyze commute distance            -0.0088     -0.0055   \n9                              % of population            -0.2009     -0.4203   \n10             % that enters the estate market            -0.0583     -0.0122   \n11                     % of construction firms            -0.0057     -0.0008   \n12                          Policy coefficient            -0.0047     -0.0032   \n13                                 Policy days            -0.0642     -0.0326   \n14                             Policy Quantile            -0.0603     -0.0158   \n15                     Cost of private transit            -0.0000     -0.0009   \n16                      Productivity: exponent             0.0033      0.0003   \n17                       Productivity: divisor            -0.0071     -0.0015   \n18                      Cost of public transit            -0.0504     -0.0265   \n19                       Perceived market size            -0.0005      0.0001   \n20                               Sticky Prices            -0.0000     -0.0001   \n21                Tax over estate transactions             0.0027      0.0002   \n22                                  Total Days            -0.0223     -0.0165   \n\n    difference  \n0       0.0021  \n1       0.0027  \n2       0.0014  \n3       0.0002  \n4       0.0019  \n5       0.0001  \n6      -0.0454  \n7       0.0005  \n8      -0.0032  \n9       0.2194  \n10     -0.0461  \n11     -0.0048  \n12     -0.0016  \n13     -0.0317  \n14     -0.0444  \n15      0.0009  \n16      0.0031  \n17     -0.0057  \n18     -0.0239  \n19     -0.0006  \n20      0.0001  \n21      0.0025  \n22     -0.0057  ",
      "text/html": "<div>\n<style scoped>\n    .dataframe tbody tr th:only-of-type {\n        vertical-align: middle;\n    }\n\n    .dataframe tbody tr th {\n        vertical-align: top;\n    }\n\n    .dataframe thead th {\n        text-align: right;\n    }\n</style>\n<table border=\"1\" class=\"dataframe\">\n  <thead>\n    <tr style=\"text-align: right;\">\n      <th></th>\n      <th>Unnamed: 0</th>\n      <th>simulated_optimal</th>\n      <th>ml_optimal</th>\n      <th>difference</th>\n    </tr>\n  </thead>\n  <tbody>\n    <tr>\n      <th>0</th>\n      <td>Hiring sample size</td>\n      <td>0.0026</td>\n      <td>0.0004</td>\n      <td>0.0021</td>\n    </tr>\n    <tr>\n      <th>1</th>\n      <td>Hiring sample size</td>\n      <td>0.0044</td>\n      <td>0.0017</td>\n      <td>0.0027</td>\n    </tr>\n    <tr>\n      <th>2</th>\n      <td>Loan/permament income ratio</td>\n      <td>0.0022</td>\n      <td>0.0008</td>\n      <td>0.0014</td>\n    </tr>\n    <tr>\n      <th>3</th>\n      <td>Markup</td>\n      <td>-0.0000</td>\n      <td>-0.0002</td>\n      <td>0.0002</td>\n    </tr>\n    <tr>\n      <th>4</th>\n      <td>Maximum Loan-to-Value</td>\n      <td>0.0022</td>\n      <td>0.0003</td>\n      <td>0.0019</td>\n    </tr>\n    <tr>\n      <th>5</th>\n      <td>Municipal efficiency management</td>\n      <td>-0.0007</td>\n      <td>-0.0008</td>\n      <td>0.0001</td>\n    </tr>\n    <tr>\n      <th>6</th>\n      <td>Neighborhood effect</td>\n      <td>-0.0468</td>\n      <td>-0.0014</td>\n      <td>-0.0454</td>\n    </tr>\n    <tr>\n      <th>7</th>\n      <td>supply-demand effect on real estate prices</td>\n      <td>0.0000</td>\n      <td>-0.0005</td>\n      <td>0.0005</td>\n    </tr>\n    <tr>\n      <th>8</th>\n      <td>% firms analyze commute distance</td>\n      <td>-0.0088</td>\n      <td>-0.0055</td>\n      <td>-0.0032</td>\n    </tr>\n    <tr>\n      <th>9</th>\n      <td>% of population</td>\n      <td>-0.2009</td>\n      <td>-0.4203</td>\n      <td>0.2194</td>\n    </tr>\n    <tr>\n      <th>10</th>\n      <td>% that enters the estate market</td>\n      <td>-0.0583</td>\n      <td>-0.0122</td>\n      <td>-0.0461</td>\n    </tr>\n    <tr>\n      <th>11</th>\n      <td>% of construction firms</td>\n      <td>-0.0057</td>\n      <td>-0.0008</td>\n      <td>-0.0048</td>\n    </tr>\n    <tr>\n      <th>12</th>\n      <td>Policy coefficient</td>\n      <td>-0.0047</td>\n      <td>-0.0032</td>\n      <td>-0.0016</td>\n    </tr>\n    <tr>\n      <th>13</th>\n      <td>Policy days</td>\n      <td>-0.0642</td>\n      <td>-0.0326</td>\n      <td>-0.0317</td>\n    </tr>\n    <tr>\n      <th>14</th>\n      <td>Policy Quantile</td>\n      <td>-0.0603</td>\n      <td>-0.0158</td>\n      <td>-0.0444</td>\n    </tr>\n    <tr>\n      <th>15</th>\n      <td>Cost of private transit</td>\n      <td>-0.0000</td>\n      <td>-0.0009</td>\n      <td>0.0009</td>\n    </tr>\n    <tr>\n      <th>16</th>\n      <td>Productivity: exponent</td>\n      <td>0.0033</td>\n      <td>0.0003</td>\n      <td>0.0031</td>\n    </tr>\n    <tr>\n      <th>17</th>\n      <td>Productivity: divisor</td>\n      <td>-0.0071</td>\n      <td>-0.0015</td>\n      <td>-0.0057</td>\n    </tr>\n    <tr>\n      <th>18</th>\n      <td>Cost of public transit</td>\n      <td>-0.0504</td>\n      <td>-0.0265</td>\n      <td>-0.0239</td>\n    </tr>\n    <tr>\n      <th>19</th>\n      <td>Perceived market size</td>\n      <td>-0.0005</td>\n      <td>0.0001</td>\n      <td>-0.0006</td>\n    </tr>\n    <tr>\n      <th>20</th>\n      <td>Sticky Prices</td>\n      <td>-0.0000</td>\n      <td>-0.0001</td>\n      <td>0.0001</td>\n    </tr>\n    <tr>\n      <th>21</th>\n      <td>Tax over estate transactions</td>\n      <td>0.0027</td>\n      <td>0.0002</td>\n      <td>0.0025</td>\n    </tr>\n    <tr>\n      <th>22</th>\n      <td>Total Days</td>\n      <td>-0.0223</td>\n      <td>-0.0165</td>\n      <td>-0.0057</td>\n    </tr>\n  </tbody>\n</table>\n</div>"
     },
     "execution_count": 17,
     "metadata": {},
     "output_type": "execute_result"
    }
   ],
   "source": [
    "comp = pd.read_csv('../pre_processed_data/parameters_comparison.csv', sep=';').round(decimals=4)\n",
    "comp.replace({'Unnamed: 0': groups_cols.abm_params_show}, inplace=True)\n",
    "comp"
   ],
   "metadata": {
    "collapsed": false,
    "pycharm": {
     "name": "#%%\n"
    }
   }
  },
  {
   "cell_type": "code",
   "execution_count": 18,
   "outputs": [
    {
     "name": "stdout",
     "output_type": "stream",
     "text": [
      "{'Dummy': 'Hiring sample size', 'Surrogate': 0.26, 'ABM': 0.04, 'Difference (p.p.)': -0.22}\n",
      "{'Dummy': 'Hiring sample size', 'Surrogate': 0.44, 'ABM': 0.16999999999999998, 'Difference (p.p.)': -0.27}\n",
      "{'Dummy': 'Loan/permament income ratio', 'Surrogate': 0.22, 'ABM': 0.08, 'Difference (p.p.)': -0.14}\n",
      "{'Dummy': 'Markup', 'Surrogate': -0.0, 'ABM': -0.02, 'Difference (p.p.)': -0.02}\n",
      "{'Dummy': 'Maximum Loan-to-Value', 'Surrogate': 0.22, 'ABM': 0.03, 'Difference (p.p.)': -0.19}\n",
      "{'Dummy': 'Municipal efficiency management', 'Surrogate': -0.06999999999999999, 'ABM': -0.08, 'Difference (p.p.)': -0.010000000000000009}\n",
      "{'Dummy': 'Neighborhood effect', 'Surrogate': -4.68, 'ABM': -0.13999999999999999, 'Difference (p.p.)': 4.54}\n",
      "{'Dummy': 'supply-demand effect on real estate prices', 'Surrogate': 0.0, 'ABM': -0.05, 'Difference (p.p.)': -0.05}\n",
      "{'Dummy': '% firms analyze commute distance', 'Surrogate': -0.88, 'ABM': -0.5499999999999999, 'Difference (p.p.)': 0.33000000000000007}\n",
      "{'Dummy': '% of population', 'Surrogate': -20.09, 'ABM': -42.03, 'Difference (p.p.)': -21.94}\n",
      "{'Dummy': '% that enters the estate market', 'Surrogate': -5.83, 'ABM': -1.22, 'Difference (p.p.)': 4.61}\n",
      "{'Dummy': '% of construction firms', 'Surrogate': -0.5700000000000001, 'ABM': -0.08, 'Difference (p.p.)': 0.49000000000000005}\n",
      "{'Dummy': 'Policy coefficient', 'Surrogate': -0.47000000000000003, 'ABM': -0.32, 'Difference (p.p.)': 0.15000000000000002}\n",
      "{'Dummy': 'Policy days', 'Surrogate': -6.419999999999999, 'ABM': -3.26, 'Difference (p.p.)': 3.1599999999999993}\n",
      "{'Dummy': 'Policy Quantile', 'Surrogate': -6.03, 'ABM': -1.58, 'Difference (p.p.)': 4.45}\n",
      "{'Dummy': 'Cost of private transit', 'Surrogate': -0.0, 'ABM': -0.09, 'Difference (p.p.)': -0.09}\n",
      "{'Dummy': 'Productivity: exponent', 'Surrogate': 0.33, 'ABM': 0.03, 'Difference (p.p.)': -0.30000000000000004}\n",
      "{'Dummy': 'Productivity: divisor', 'Surrogate': -0.7100000000000001, 'ABM': -0.15, 'Difference (p.p.)': 0.56}\n",
      "{'Dummy': 'Cost of public transit', 'Surrogate': -5.04, 'ABM': -2.65, 'Difference (p.p.)': 2.39}\n",
      "{'Dummy': 'Perceived market size', 'Surrogate': -0.05, 'ABM': 0.01, 'Difference (p.p.)': 0.060000000000000005}\n",
      "{'Dummy': 'Sticky Prices', 'Surrogate': -0.0, 'ABM': -0.01, 'Difference (p.p.)': -0.01}\n",
      "{'Dummy': 'Tax over estate transactions', 'Surrogate': 0.27, 'ABM': 0.02, 'Difference (p.p.)': -0.25}\n",
      "{'Dummy': 'Total Days', 'Surrogate': -2.23, 'ABM': -1.6500000000000001, 'Difference (p.p.)': 0.5799999999999998}\n"
     ]
    }
   ],
   "source": [
    "params = pd.DataFrame()\n",
    "for row in range(0,len(comp['Unnamed: 0'])):\n",
    "    to_add = {'Dummy' : comp.iloc[row, 0],\n",
    "              'Surrogate': comp.iloc[row, 1]*100,\n",
    "              'ABM': comp.iloc[row, 2]*100,\n",
    "              'Difference (p.p.)': comp.iloc[row, 2]*100 - comp.iloc[row, 1]*100\n",
    "    }\n",
    "    print(to_add)\n",
    "    params = params.append(to_add, ignore_index=True)"
   ],
   "metadata": {
    "collapsed": false,
    "pycharm": {
     "name": "#%%\n"
    }
   }
  },
  {
   "cell_type": "code",
   "execution_count": 19,
   "outputs": [],
   "source": [
    "params.sort_values(by='Difference (p.p.)', inplace=True)"
   ],
   "metadata": {
    "collapsed": false,
    "pycharm": {
     "name": "#%%\n"
    }
   }
  },
  {
   "cell_type": "code",
   "execution_count": 20,
   "outputs": [
    {
     "data": {
      "text/plain": "                                         Dummy  Surrogate    ABM  \\\n9                              % of population     -20.09 -42.03   \n16                      Productivity: exponent       0.33   0.03   \n1                           Hiring sample size       0.44   0.17   \n21                Tax over estate transactions       0.27   0.02   \n0                           Hiring sample size       0.26   0.04   \n4                        Maximum Loan-to-Value       0.22   0.03   \n2                  Loan/permament income ratio       0.22   0.08   \n15                     Cost of private transit      -0.00  -0.09   \n7   supply-demand effect on real estate prices       0.00  -0.05   \n3                                       Markup      -0.00  -0.02   \n5              Municipal efficiency management      -0.07  -0.08   \n20                               Sticky Prices      -0.00  -0.01   \n19                       Perceived market size      -0.05   0.01   \n12                          Policy coefficient      -0.47  -0.32   \n8             % firms analyze commute distance      -0.88  -0.55   \n11                     % of construction firms      -0.57  -0.08   \n17                       Productivity: divisor      -0.71  -0.15   \n22                                  Total Days      -2.23  -1.65   \n18                      Cost of public transit      -5.04  -2.65   \n13                                 Policy days      -6.42  -3.26   \n14                             Policy Quantile      -6.03  -1.58   \n6                          Neighborhood effect      -4.68  -0.14   \n10             % that enters the estate market      -5.83  -1.22   \n\n    Difference (p.p.)  \n9              -21.94  \n16              -0.30  \n1               -0.27  \n21              -0.25  \n0               -0.22  \n4               -0.19  \n2               -0.14  \n15              -0.09  \n7               -0.05  \n3               -0.02  \n5               -0.01  \n20              -0.01  \n19               0.06  \n12               0.15  \n8                0.33  \n11               0.49  \n17               0.56  \n22               0.58  \n18               2.39  \n13               3.16  \n14               4.45  \n6                4.54  \n10               4.61  ",
      "text/html": "<div>\n<style scoped>\n    .dataframe tbody tr th:only-of-type {\n        vertical-align: middle;\n    }\n\n    .dataframe tbody tr th {\n        vertical-align: top;\n    }\n\n    .dataframe thead th {\n        text-align: right;\n    }\n</style>\n<table border=\"1\" class=\"dataframe\">\n  <thead>\n    <tr style=\"text-align: right;\">\n      <th></th>\n      <th>Dummy</th>\n      <th>Surrogate</th>\n      <th>ABM</th>\n      <th>Difference (p.p.)</th>\n    </tr>\n  </thead>\n  <tbody>\n    <tr>\n      <th>9</th>\n      <td>% of population</td>\n      <td>-20.09</td>\n      <td>-42.03</td>\n      <td>-21.94</td>\n    </tr>\n    <tr>\n      <th>16</th>\n      <td>Productivity: exponent</td>\n      <td>0.33</td>\n      <td>0.03</td>\n      <td>-0.30</td>\n    </tr>\n    <tr>\n      <th>1</th>\n      <td>Hiring sample size</td>\n      <td>0.44</td>\n      <td>0.17</td>\n      <td>-0.27</td>\n    </tr>\n    <tr>\n      <th>21</th>\n      <td>Tax over estate transactions</td>\n      <td>0.27</td>\n      <td>0.02</td>\n      <td>-0.25</td>\n    </tr>\n    <tr>\n      <th>0</th>\n      <td>Hiring sample size</td>\n      <td>0.26</td>\n      <td>0.04</td>\n      <td>-0.22</td>\n    </tr>\n    <tr>\n      <th>4</th>\n      <td>Maximum Loan-to-Value</td>\n      <td>0.22</td>\n      <td>0.03</td>\n      <td>-0.19</td>\n    </tr>\n    <tr>\n      <th>2</th>\n      <td>Loan/permament income ratio</td>\n      <td>0.22</td>\n      <td>0.08</td>\n      <td>-0.14</td>\n    </tr>\n    <tr>\n      <th>15</th>\n      <td>Cost of private transit</td>\n      <td>-0.00</td>\n      <td>-0.09</td>\n      <td>-0.09</td>\n    </tr>\n    <tr>\n      <th>7</th>\n      <td>supply-demand effect on real estate prices</td>\n      <td>0.00</td>\n      <td>-0.05</td>\n      <td>-0.05</td>\n    </tr>\n    <tr>\n      <th>3</th>\n      <td>Markup</td>\n      <td>-0.00</td>\n      <td>-0.02</td>\n      <td>-0.02</td>\n    </tr>\n    <tr>\n      <th>5</th>\n      <td>Municipal efficiency management</td>\n      <td>-0.07</td>\n      <td>-0.08</td>\n      <td>-0.01</td>\n    </tr>\n    <tr>\n      <th>20</th>\n      <td>Sticky Prices</td>\n      <td>-0.00</td>\n      <td>-0.01</td>\n      <td>-0.01</td>\n    </tr>\n    <tr>\n      <th>19</th>\n      <td>Perceived market size</td>\n      <td>-0.05</td>\n      <td>0.01</td>\n      <td>0.06</td>\n    </tr>\n    <tr>\n      <th>12</th>\n      <td>Policy coefficient</td>\n      <td>-0.47</td>\n      <td>-0.32</td>\n      <td>0.15</td>\n    </tr>\n    <tr>\n      <th>8</th>\n      <td>% firms analyze commute distance</td>\n      <td>-0.88</td>\n      <td>-0.55</td>\n      <td>0.33</td>\n    </tr>\n    <tr>\n      <th>11</th>\n      <td>% of construction firms</td>\n      <td>-0.57</td>\n      <td>-0.08</td>\n      <td>0.49</td>\n    </tr>\n    <tr>\n      <th>17</th>\n      <td>Productivity: divisor</td>\n      <td>-0.71</td>\n      <td>-0.15</td>\n      <td>0.56</td>\n    </tr>\n    <tr>\n      <th>22</th>\n      <td>Total Days</td>\n      <td>-2.23</td>\n      <td>-1.65</td>\n      <td>0.58</td>\n    </tr>\n    <tr>\n      <th>18</th>\n      <td>Cost of public transit</td>\n      <td>-5.04</td>\n      <td>-2.65</td>\n      <td>2.39</td>\n    </tr>\n    <tr>\n      <th>13</th>\n      <td>Policy days</td>\n      <td>-6.42</td>\n      <td>-3.26</td>\n      <td>3.16</td>\n    </tr>\n    <tr>\n      <th>14</th>\n      <td>Policy Quantile</td>\n      <td>-6.03</td>\n      <td>-1.58</td>\n      <td>4.45</td>\n    </tr>\n    <tr>\n      <th>6</th>\n      <td>Neighborhood effect</td>\n      <td>-4.68</td>\n      <td>-0.14</td>\n      <td>4.54</td>\n    </tr>\n    <tr>\n      <th>10</th>\n      <td>% that enters the estate market</td>\n      <td>-5.83</td>\n      <td>-1.22</td>\n      <td>4.61</td>\n    </tr>\n  </tbody>\n</table>\n</div>"
     },
     "execution_count": 20,
     "metadata": {},
     "output_type": "execute_result"
    }
   ],
   "source": [
    "params"
   ],
   "metadata": {
    "collapsed": false,
    "pycharm": {
     "name": "#%%\n"
    }
   }
  },
  {
   "cell_type": "code",
   "execution_count": 21,
   "outputs": [],
   "source": [
    "tables.update({'mean_policy_acp': mean_policy_acp,\n",
    "               'std_policy_acp': std_policy_acp,\n",
    "               \"SON\" : SON,\n",
    "               \"SON_acp\" : SON_acp,\n",
    "               \"params\" : params})"
   ],
   "metadata": {
    "collapsed": false,
    "pycharm": {
     "name": "#%%\n"
    }
   }
  },
  {
   "cell_type": "code",
   "execution_count": 24,
   "outputs": [
    {
     "name": "stdout",
     "output_type": "stream",
     "text": [
      "\\begin{tabular}{lllll}\n",
      "\\toprule\n",
      "    Municipality & No policy &    Buy &   Rent &   Wage \\\\\n",
      "\\midrule\n",
      "  Belo Horizonte &     100.0 & -90.58 &    0.0 &    0.0 \\\\\n",
      "       Sao Paulo &     29.84 &  -1.14 &   -0.9 &   7.23 \\\\\n",
      "       Joinville &     19.43 & -14.26 &   7.67 &   8.91 \\\\\n",
      "    Campo Grande &     18.63 & -15.02 &  10.02 &   8.91 \\\\\n",
      "     Joao Pessoa &     18.47 & -14.78 &  10.11 &   8.97 \\\\\n",
      "          Maceio &     18.43 & -15.06 &   9.84 &   9.83 \\\\\n",
      "         Maringa &     18.14 & -14.33 &  10.16 &  10.86 \\\\\n",
      "Feira de Santana &     17.88 &  -14.9 &  10.29 &   9.08 \\\\\n",
      "             all &     17.87 & -14.25 &  13.16 &  15.05 \\\\\n",
      "          Cuiaba &     17.59 & -14.91 &   10.7 &  10.21 \\\\\n",
      "      Uberlandia &     17.57 & -13.62 &  10.73 &  10.39 \\\\\n",
      "        Sorocaba &     17.56 & -14.45 &  11.14 &   10.6 \\\\\n",
      "             SJC &     17.54 & -14.21 &  10.55 &   9.59 \\\\\n",
      "          Manaus &      17.3 & -14.58 &  11.94 &  11.14 \\\\\n",
      "        Ipatinga &     17.22 & -14.61 &  11.26 &  11.34 \\\\\n",
      "           NH-SL &     17.21 & -14.78 &  10.61 &  11.06 \\\\\n",
      "         Vitoria &     17.18 & -14.97 &  11.86 &  10.99 \\\\\n",
      "          Recife &     17.02 & -14.62 &  11.65 &  10.69 \\\\\n",
      "        Londrina &     16.77 & -13.63 &  11.96 &  11.48 \\\\\n",
      "  Ilheus-Itabuna &      16.5 & -14.49 &  12.57 &  12.52 \\\\\n",
      "        Teresina &     16.21 & -14.34 &  12.15 &  12.15 \\\\\n",
      "        Sao Luis &     15.73 & -13.54 &  13.22 &  11.61 \\\\\n",
      "        Salvador &     15.04 & -14.01 &  13.83 &  13.62 \\\\\n",
      "         Jundiai &     14.56 & -12.39 &  13.91 &   15.5 \\\\\n",
      "            SJRP &     14.36 & -12.68 &  13.23 &  14.07 \\\\\n",
      "       Fortaleza &     13.99 & -12.79 &  14.26 &  13.88 \\\\\n",
      "           Belem &       8.0 &   -8.0 &  19.12 &  61.69 \\\\\n",
      "    Porto Alegre &      4.62 &  -4.47 &   13.5 &  14.24 \\\\\n",
      "        Campinas &      0.94 &  -0.94 &  63.56 &  97.53 \\\\\n",
      "        Brasilia &       0.0 &    0.0 &    0.0 &    0.0 \\\\\n",
      "\\bottomrule\n",
      "\\end{tabular}\n",
      "\n",
      "\\begin{tabular}{lllll}\n",
      "\\toprule\n",
      "    Municipality & No policy &    Buy &   Rent &   Wage \\\\\n",
      "\\midrule\n",
      "       Sao Paulo &     45.75 &  -0.51 &   -0.4 &   2.55 \\\\\n",
      "       Joinville &     39.56 & -17.41 &   4.89 &   5.51 \\\\\n",
      "    Campo Grande &     38.94 &  -20.3 &   6.27 &   5.73 \\\\\n",
      "     Joao Pessoa &      38.8 & -19.95 &   6.38 &   5.82 \\\\\n",
      "          Maceio &     38.78 & -20.74 &   6.25 &   6.25 \\\\\n",
      "         Maringa &     38.54 & -19.39 &   6.51 &   6.84 \\\\\n",
      "Feira de Santana &     38.32 & -21.31 &   6.66 &   6.05 \\\\\n",
      "             all &     38.31 & -19.63 &   7.95 &   8.68 \\\\\n",
      "          Cuiaba &     38.08 & -21.93 &   6.96 &   6.72 \\\\\n",
      "      Uberlandia &     38.06 & -18.59 &   6.99 &   6.82 \\\\\n",
      "        Sorocaba &     38.05 &  -20.7 &   7.19 &   6.93 \\\\\n",
      "             SJC &     38.03 & -20.09 &   6.91 &   6.43 \\\\\n",
      "          Manaus &     37.82 & -21.56 &   7.67 &   7.29 \\\\\n",
      "           NH-SL &     37.75 & -22.36 &   7.06 &   7.28 \\\\\n",
      "        Ipatinga &     37.75 & -21.81 &   7.38 &   7.42 \\\\\n",
      "         Vitoria &     37.72 & -23.02 &   7.68 &   7.26 \\\\\n",
      "          Recife &     37.58 & -22.28 &   7.64 &   7.18 \\\\\n",
      "        Londrina &     37.36 & -19.91 &   7.89 &   7.66 \\\\\n",
      "  Ilheus-Itabuna &     37.11 & -23.08 &    8.3 &   8.28 \\\\\n",
      "        Teresina &     36.85 &  -23.3 &   8.22 &   8.23 \\\\\n",
      "        Sao Luis &     36.41 & -21.76 &   8.94 &   8.16 \\\\\n",
      "        Salvador &     35.75 & -25.64 &   9.57 &   9.47 \\\\\n",
      "         Jundiai &     35.27 & -20.71 &   9.86 &  10.58 \\\\\n",
      "            SJRP &     35.07 & -22.23 &   9.63 &  10.04 \\\\\n",
      "       Fortaleza &     34.69 &  -23.8 &  10.33 &  10.15 \\\\\n",
      "           Belem &     27.12 & -27.12 &  17.34 &  18.84 \\\\\n",
      "    Porto Alegre &     20.99 & -17.11 &  17.53 &  18.13 \\\\\n",
      "        Campinas &      9.63 &  -9.63 &  38.22 &   2.64 \\\\\n",
      "  Belo Horizonte &       0.0 &  29.21 &    0.0 &    0.0 \\\\\n",
      "        Brasilia &       0.0 &    0.0 &    0.0 &    0.0 \\\\\n",
      "\\bottomrule\n",
      "\\end{tabular}\n",
      "\n",
      "\\begin{tabular}{lrrrrrr}\n",
      "\\toprule\n",
      "              Dummy &  Size: sur &  Size: ABM &  Opt: sur &  Opt: ABM &  Non-opt: sur &  Non-opt: ABM \\\\\n",
      "\\midrule\n",
      "       Policy: wage &      25.00 &      12.19 &     32.92 &     13.93 &         67.08 &         86.07 \\\\\n",
      "       Policy: rent &      25.01 &      12.19 &     31.03 &     10.37 &         68.97 &         89.63 \\\\\n",
      "          Jan. 2010 &      50.01 &      99.24 &     21.45 &      5.80 &         78.55 &         94.20 \\\\\n",
      " Alternative0: True &      50.08 &      99.62 &     21.42 &      5.78 &         78.58 &         94.22 \\\\\n",
      "          FPM: True &      50.03 &      99.62 &     21.40 &      5.78 &         78.60 &         94.22 \\\\\n",
      "     Licenses: True &      33.23 &       0.19 &     21.38 &      0.00 &         78.62 &        100.00 \\\\\n",
      "    Interest: fixed &      33.35 &       0.19 &     21.37 &      0.00 &         78.63 &        100.00 \\\\\n",
      "     Interest: real &      33.33 &      99.62 &     21.37 &      5.78 &         78.63 &         94.22 \\\\\n",
      "    Licenses: False &      33.43 &       0.19 &     21.36 &      0.00 &         78.64 &        100.00 \\\\\n",
      "  Interest: nominal &      33.32 &       0.19 &     21.32 &      0.00 &         78.68 &        100.00 \\\\\n",
      "   Licenses: Random &      33.34 &      99.62 &     21.32 &      5.78 &         78.68 &         94.22 \\\\\n",
      "         FPM: False &      49.97 &       0.38 &     21.31 &      0.00 &         78.69 &        100.00 \\\\\n",
      "Alternative0: False &      49.92 &       0.38 &     21.29 &      0.00 &         78.71 &        100.00 \\\\\n",
      "          Jan. 2000 &      49.99 &       0.76 &     21.26 &      0.00 &         78.74 &        100.00 \\\\\n",
      "       Policy: none &      24.93 &      63.43 &     17.87 &      3.91 &         82.13 &         96.09 \\\\\n",
      "        Policy: buy &      25.06 &      12.19 &      3.62 &      2.59 &         96.38 &         97.41 \\\\\n",
      "\\bottomrule\n",
      "\\end{tabular}\n",
      "\n",
      "\\begin{tabular}{lrrrrrr}\n",
      "\\toprule\n",
      "           Dummy &  Size: sur &  Size: ABM &  Opt: sur &  Opt: ABM &  Non-opt: sur &  Non-opt: ABM \\\\\n",
      "\\midrule\n",
      "  Belo Horizonte &       2.17 &       2.00 &     77.06 &     81.08 &         22.94 &         18.92 \\\\\n",
      "        Campinas &       2.18 &       2.00 &     41.01 &     32.88 &         58.99 &         67.12 \\\\\n",
      "       Sao Paulo &       2.19 &       1.06 &     31.10 &    100.00 &         68.90 &          0.00 \\\\\n",
      "           Belem &       2.18 &       1.06 &     26.49 &     21.37 &         73.51 &         78.63 \\\\\n",
      "       Joinville &       2.16 &       0.30 &     19.99 &      0.00 &         80.01 &        100.00 \\\\\n",
      "         Maringa &       2.16 &       1.06 &     19.90 &      0.00 &         80.10 &        100.00 \\\\\n",
      "          Maceio &       2.16 &       1.06 &     19.66 &      0.00 &         80.34 &        100.00 \\\\\n",
      "    Campo Grande &       2.15 &       1.06 &     19.54 &      0.00 &         80.46 &        100.00 \\\\\n",
      "     Joao Pessoa &       2.18 &       1.06 &     19.52 &      0.00 &         80.48 &        100.00 \\\\\n",
      "      Uberlandia &       2.18 &       1.06 &     19.43 &      0.00 &         80.57 &        100.00 \\\\\n",
      "          Manaus &       2.17 &       1.06 &     19.42 &      0.00 &         80.58 &        100.00 \\\\\n",
      "        Sorocaba &       2.17 &       1.06 &     19.26 &      0.00 &         80.74 &        100.00 \\\\\n",
      "        Ipatinga &       2.17 &       1.06 &     19.25 &      0.00 &         80.75 &        100.00 \\\\\n",
      "        Londrina &       2.18 &       1.06 &     19.24 &      0.00 &         80.76 &        100.00 \\\\\n",
      "  Ilheus-Itabuna &       2.18 &       1.06 &     19.20 &      0.00 &         80.80 &        100.00 \\\\\n",
      "         Vitoria &       2.20 &       1.06 &     19.20 &      0.00 &         80.80 &        100.00 \\\\\n",
      "          Cuiaba &       2.16 &       1.06 &     19.10 &      0.00 &         80.90 &        100.00 \\\\\n",
      "           NH-SL &       2.16 &       1.06 &     18.98 &      0.00 &         81.02 &        100.00 \\\\\n",
      "             SJC &       2.18 &       1.06 &     18.95 &      0.00 &         81.05 &        100.00 \\\\\n",
      "          Recife &       2.17 &       1.06 &     18.92 &      0.00 &         81.08 &        100.00 \\\\\n",
      "Feira de Santana &       2.16 &       1.06 &     18.89 &      0.00 &         81.11 &        100.00 \\\\\n",
      "        Teresina &       2.19 &       1.06 &     18.81 &      0.00 &         81.19 &        100.00 \\\\\n",
      "         Jundiai &       2.18 &       1.06 &     18.80 &      0.00 &         81.20 &        100.00 \\\\\n",
      "        Sao Luis &       2.17 &       1.06 &     18.53 &      0.00 &         81.47 &        100.00 \\\\\n",
      "        Salvador &       2.17 &       1.06 &     18.27 &     11.11 &         81.73 &         88.89 \\\\\n",
      "            SJRP &       2.17 &       1.06 &     17.97 &      0.00 &         82.03 &        100.00 \\\\\n",
      "       Fortaleza &       2.17 &       2.00 &     17.95 &      3.15 &         82.05 &         96.85 \\\\\n",
      "    Porto Alegre &       2.20 &       2.00 &     10.52 &      0.00 &         89.48 &        100.00 \\\\\n",
      "        Brasilia &       2.19 &      48.67 &      0.00 &      1.06 &        100.00 &         98.94 \\\\\n",
      "\\bottomrule\n",
      "\\end{tabular}\n",
      "\n",
      "\\begin{tabular}{lrrr}\n",
      "\\toprule\n",
      "                                     Dummy &  Surrogate &    ABM &  Difference (p.p.) \\\\\n",
      "\\midrule\n",
      "                           \\% of population &     -20.09 & -42.03 &             -21.94 \\\\\n",
      "                    Productivity: exponent &       0.33 &   0.03 &              -0.30 \\\\\n",
      "                        Hiring sample size &       0.44 &   0.17 &              -0.27 \\\\\n",
      "              Tax over estate transactions &       0.27 &   0.02 &              -0.25 \\\\\n",
      "                        Hiring sample size &       0.26 &   0.04 &              -0.22 \\\\\n",
      "                     Maximum Loan-to-Value &       0.22 &   0.03 &              -0.19 \\\\\n",
      "               Loan/permament income ratio &       0.22 &   0.08 &              -0.14 \\\\\n",
      "                   Cost of private transit &      -0.00 &  -0.09 &              -0.09 \\\\\n",
      "supply-demand effect on real estate prices &       0.00 &  -0.05 &              -0.05 \\\\\n",
      "                                    Markup &      -0.00 &  -0.02 &              -0.02 \\\\\n",
      "           Municipal efficiency management &      -0.07 &  -0.08 &              -0.01 \\\\\n",
      "                             Sticky Prices &      -0.00 &  -0.01 &              -0.01 \\\\\n",
      "                     Perceived market size &      -0.05 &   0.01 &               0.06 \\\\\n",
      "                        Policy coefficient &      -0.47 &  -0.32 &               0.15 \\\\\n",
      "          \\% firms analyze commute distance &      -0.88 &  -0.55 &               0.33 \\\\\n",
      "                   \\% of construction firms &      -0.57 &  -0.08 &               0.49 \\\\\n",
      "                     Productivity: divisor &      -0.71 &  -0.15 &               0.56 \\\\\n",
      "                                Total Days &      -2.23 &  -1.65 &               0.58 \\\\\n",
      "                    Cost of public transit &      -5.04 &  -2.65 &               2.39 \\\\\n",
      "                               Policy days &      -6.42 &  -3.26 &               3.16 \\\\\n",
      "                           Policy Quantile &      -6.03 &  -1.58 &               4.45 \\\\\n",
      "                       Neighborhood effect &      -4.68 &  -0.14 &               4.54 \\\\\n",
      "           \\% that enters the estate market &      -5.83 &  -1.22 &               4.61 \\\\\n",
      "\\bottomrule\n",
      "\\end{tabular}\n",
      "\n"
     ]
    }
   ],
   "source": [
    "for _ in tables:\n",
    "    table = tables[_]\n",
    "    print(table.to_latex(index=False))\n",
    "    name = 'table_csvs/' + _ + '.csv'\n",
    "    table.to_csv(name, index=False, sep=';')"
   ],
   "metadata": {
    "collapsed": false,
    "pycharm": {
     "name": "#%%\n"
    }
   }
  },
  {
   "cell_type": "markdown",
   "source": [
    "# Creating the histogram for the mean and standard deviations per MR"
   ],
   "metadata": {
    "collapsed": false
   }
  },
  {
   "cell_type": "code",
   "execution_count": 26,
   "outputs": [
    {
     "data": {
      "text/plain": "        Municipality No policy    Buy   Rent   Wage\n1     Belo Horizonte     100.0 -90.58    0.0    0.0\n7          Sao Paulo     29.84  -1.14   -0.9   7.23\n8          Joinville     19.43 -14.26   7.67   8.91\n9       Campo Grande     18.63 -15.02  10.02   8.91\n15       Joao Pessoa     18.47 -14.78  10.11   8.97\n17            Maceio     18.43 -15.06   9.84   9.83\n22           Maringa     18.14 -14.33  10.16  10.86\n11  Feira de Santana     17.88  -14.9  10.29   9.08\n0                all     17.87 -14.25  13.16  15.05\n24            Cuiaba     17.59 -14.91   10.7  10.21\n21        Uberlandia     17.57 -13.62  10.73  10.39\n14          Sorocaba     17.56 -14.45  11.14   10.6\n18               SJC     17.54 -14.21  10.55   9.59\n28            Manaus      17.3 -14.58  11.94  11.14\n12          Ipatinga     17.22 -14.61  11.26  11.34\n26             NH-SL     17.21 -14.78  10.61  11.06\n23           Vitoria     17.18 -14.97  11.86  10.99\n6             Recife     17.02 -14.62  11.65  10.69\n13          Londrina     16.77 -13.63  11.96  11.48\n19    Ilheus-Itabuna      16.5 -14.49  12.57  12.52\n27          Teresina     16.21 -14.34  12.15  12.15\n20          Sao Luis     15.73 -13.54  13.22  11.61\n5           Salvador     15.04 -14.01  13.83  13.62\n10           Jundiai     14.56 -12.39  13.91   15.5\n16              SJRP     14.36 -12.68  13.23  14.07\n2          Fortaleza     13.99 -12.79  14.26  13.88\n25             Belem       8.0   -8.0  19.12  61.69\n3       Porto Alegre      4.62  -4.47   13.5  14.24\n4           Campinas      0.94  -0.94  63.56  97.53\n29          Brasilia       0.0    0.0    0.0    0.0",
      "text/html": "<div>\n<style scoped>\n    .dataframe tbody tr th:only-of-type {\n        vertical-align: middle;\n    }\n\n    .dataframe tbody tr th {\n        vertical-align: top;\n    }\n\n    .dataframe thead tr th {\n        text-align: left;\n    }\n</style>\n<table border=\"1\" class=\"dataframe\">\n  <thead>\n    <tr>\n      <th></th>\n      <th>Municipality</th>\n      <th>No policy</th>\n      <th>Buy</th>\n      <th>Rent</th>\n      <th>Wage</th>\n    </tr>\n  </thead>\n  <tbody>\n    <tr>\n      <th>1</th>\n      <td>Belo Horizonte</td>\n      <td>100.0</td>\n      <td>-90.58</td>\n      <td>0.0</td>\n      <td>0.0</td>\n    </tr>\n    <tr>\n      <th>7</th>\n      <td>Sao Paulo</td>\n      <td>29.84</td>\n      <td>-1.14</td>\n      <td>-0.9</td>\n      <td>7.23</td>\n    </tr>\n    <tr>\n      <th>8</th>\n      <td>Joinville</td>\n      <td>19.43</td>\n      <td>-14.26</td>\n      <td>7.67</td>\n      <td>8.91</td>\n    </tr>\n    <tr>\n      <th>9</th>\n      <td>Campo Grande</td>\n      <td>18.63</td>\n      <td>-15.02</td>\n      <td>10.02</td>\n      <td>8.91</td>\n    </tr>\n    <tr>\n      <th>15</th>\n      <td>Joao Pessoa</td>\n      <td>18.47</td>\n      <td>-14.78</td>\n      <td>10.11</td>\n      <td>8.97</td>\n    </tr>\n    <tr>\n      <th>17</th>\n      <td>Maceio</td>\n      <td>18.43</td>\n      <td>-15.06</td>\n      <td>9.84</td>\n      <td>9.83</td>\n    </tr>\n    <tr>\n      <th>22</th>\n      <td>Maringa</td>\n      <td>18.14</td>\n      <td>-14.33</td>\n      <td>10.16</td>\n      <td>10.86</td>\n    </tr>\n    <tr>\n      <th>11</th>\n      <td>Feira de Santana</td>\n      <td>17.88</td>\n      <td>-14.9</td>\n      <td>10.29</td>\n      <td>9.08</td>\n    </tr>\n    <tr>\n      <th>0</th>\n      <td>all</td>\n      <td>17.87</td>\n      <td>-14.25</td>\n      <td>13.16</td>\n      <td>15.05</td>\n    </tr>\n    <tr>\n      <th>24</th>\n      <td>Cuiaba</td>\n      <td>17.59</td>\n      <td>-14.91</td>\n      <td>10.7</td>\n      <td>10.21</td>\n    </tr>\n    <tr>\n      <th>21</th>\n      <td>Uberlandia</td>\n      <td>17.57</td>\n      <td>-13.62</td>\n      <td>10.73</td>\n      <td>10.39</td>\n    </tr>\n    <tr>\n      <th>14</th>\n      <td>Sorocaba</td>\n      <td>17.56</td>\n      <td>-14.45</td>\n      <td>11.14</td>\n      <td>10.6</td>\n    </tr>\n    <tr>\n      <th>18</th>\n      <td>SJC</td>\n      <td>17.54</td>\n      <td>-14.21</td>\n      <td>10.55</td>\n      <td>9.59</td>\n    </tr>\n    <tr>\n      <th>28</th>\n      <td>Manaus</td>\n      <td>17.3</td>\n      <td>-14.58</td>\n      <td>11.94</td>\n      <td>11.14</td>\n    </tr>\n    <tr>\n      <th>12</th>\n      <td>Ipatinga</td>\n      <td>17.22</td>\n      <td>-14.61</td>\n      <td>11.26</td>\n      <td>11.34</td>\n    </tr>\n    <tr>\n      <th>26</th>\n      <td>NH-SL</td>\n      <td>17.21</td>\n      <td>-14.78</td>\n      <td>10.61</td>\n      <td>11.06</td>\n    </tr>\n    <tr>\n      <th>23</th>\n      <td>Vitoria</td>\n      <td>17.18</td>\n      <td>-14.97</td>\n      <td>11.86</td>\n      <td>10.99</td>\n    </tr>\n    <tr>\n      <th>6</th>\n      <td>Recife</td>\n      <td>17.02</td>\n      <td>-14.62</td>\n      <td>11.65</td>\n      <td>10.69</td>\n    </tr>\n    <tr>\n      <th>13</th>\n      <td>Londrina</td>\n      <td>16.77</td>\n      <td>-13.63</td>\n      <td>11.96</td>\n      <td>11.48</td>\n    </tr>\n    <tr>\n      <th>19</th>\n      <td>Ilheus-Itabuna</td>\n      <td>16.5</td>\n      <td>-14.49</td>\n      <td>12.57</td>\n      <td>12.52</td>\n    </tr>\n    <tr>\n      <th>27</th>\n      <td>Teresina</td>\n      <td>16.21</td>\n      <td>-14.34</td>\n      <td>12.15</td>\n      <td>12.15</td>\n    </tr>\n    <tr>\n      <th>20</th>\n      <td>Sao Luis</td>\n      <td>15.73</td>\n      <td>-13.54</td>\n      <td>13.22</td>\n      <td>11.61</td>\n    </tr>\n    <tr>\n      <th>5</th>\n      <td>Salvador</td>\n      <td>15.04</td>\n      <td>-14.01</td>\n      <td>13.83</td>\n      <td>13.62</td>\n    </tr>\n    <tr>\n      <th>10</th>\n      <td>Jundiai</td>\n      <td>14.56</td>\n      <td>-12.39</td>\n      <td>13.91</td>\n      <td>15.5</td>\n    </tr>\n    <tr>\n      <th>16</th>\n      <td>SJRP</td>\n      <td>14.36</td>\n      <td>-12.68</td>\n      <td>13.23</td>\n      <td>14.07</td>\n    </tr>\n    <tr>\n      <th>2</th>\n      <td>Fortaleza</td>\n      <td>13.99</td>\n      <td>-12.79</td>\n      <td>14.26</td>\n      <td>13.88</td>\n    </tr>\n    <tr>\n      <th>25</th>\n      <td>Belem</td>\n      <td>8.0</td>\n      <td>-8.0</td>\n      <td>19.12</td>\n      <td>61.69</td>\n    </tr>\n    <tr>\n      <th>3</th>\n      <td>Porto Alegre</td>\n      <td>4.62</td>\n      <td>-4.47</td>\n      <td>13.5</td>\n      <td>14.24</td>\n    </tr>\n    <tr>\n      <th>4</th>\n      <td>Campinas</td>\n      <td>0.94</td>\n      <td>-0.94</td>\n      <td>63.56</td>\n      <td>97.53</td>\n    </tr>\n    <tr>\n      <th>29</th>\n      <td>Brasilia</td>\n      <td>0.0</td>\n      <td>0.0</td>\n      <td>0.0</td>\n      <td>0.0</td>\n    </tr>\n  </tbody>\n</table>\n</div>"
     },
     "execution_count": 26,
     "metadata": {},
     "output_type": "execute_result"
    }
   ],
   "source": [
    "mean_policy_acp"
   ],
   "metadata": {
    "collapsed": false,
    "pycharm": {
     "name": "#%%\n"
    }
   }
  },
  {
   "cell_type": "code",
   "execution_count": 229,
   "outputs": [],
   "source": [
    "hist_mean = mean_policy_acp.copy()\n",
    "hist_std = std_policy_acp.copy()\n",
    "\n",
    "for col in ['Buy', 'Rent', 'Wage']:\n",
    "    hist_mean[col] = mean_policy_acp.loc[:,['No policy',col]].sum(axis=1)\n",
    "    hist_std[col] = std_policy_acp.loc[:,['No policy',col]].sum(axis=1)"
   ],
   "metadata": {
    "collapsed": false,
    "pycharm": {
     "name": "#%%\n"
    }
   }
  },
  {
   "cell_type": "code",
   "execution_count": 234,
   "outputs": [],
   "source": [
    "hist_std.sort_values(by=('Municipality',), inplace=True)\n",
    "hist_mean.sort_values(by=('Municipality',), inplace=True)"
   ],
   "metadata": {
    "collapsed": false,
    "pycharm": {
     "name": "#%%\n"
    }
   }
  },
  {
   "cell_type": "code",
   "execution_count": 235,
   "outputs": [
    {
     "data": {
      "text/plain": "        Municipality No policy    Buy    Rent    Wage\n25             Belem       8.0   0.00   27.12   69.69\n1     Belo Horizonte     100.0   9.42  100.00  100.00\n29          Brasilia       0.0   0.00    0.00    0.00\n4           Campinas      0.94   0.00   64.50   98.47\n9       Campo Grande     18.63   3.61   28.65   27.54\n24            Cuiaba     17.59   2.68   28.29   27.80\n11  Feira de Santana     17.88   2.98   28.17   26.96\n2          Fortaleza     13.99   1.20   28.25   27.87\n19    Ilheus-Itabuna      16.5   2.01   29.07   29.02\n12          Ipatinga     17.22   2.61   28.48   28.56\n15       Joao Pessoa     18.47   3.69   28.58   27.44\n8          Joinville     19.43   5.17   27.10   28.34\n10           Jundiai     14.56   2.17   28.47   30.06\n13          Londrina     16.77   3.14   28.73   28.25\n17            Maceio     18.43   3.37   28.27   28.26\n28            Manaus      17.3   2.72   29.24   28.44\n22           Maringa     18.14   3.81   28.30   29.00\n26             NH-SL     17.21   2.43   27.82   28.27\n3       Porto Alegre      4.62   0.15   18.12   18.86\n6             Recife     17.02   2.40   28.67   27.71\n18               SJC     17.54   3.33   28.09   27.13\n16              SJRP     14.36   1.68   27.59   28.43\n5           Salvador     15.04   1.03   28.87   28.66\n20          Sao Luis     15.73   2.19   28.95   27.34\n7          Sao Paulo     29.84  28.70   28.94   37.07\n14          Sorocaba     17.56   3.11   28.70   28.16\n27          Teresina     16.21   1.87   28.36   28.36\n21        Uberlandia     17.57   3.95   28.30   27.96\n23           Vitoria     17.18   2.21   29.04   28.17\n0                all     17.87   3.62   31.03   32.92",
      "text/html": "<div>\n<style scoped>\n    .dataframe tbody tr th:only-of-type {\n        vertical-align: middle;\n    }\n\n    .dataframe tbody tr th {\n        vertical-align: top;\n    }\n\n    .dataframe thead tr th {\n        text-align: left;\n    }\n</style>\n<table border=\"1\" class=\"dataframe\">\n  <thead>\n    <tr>\n      <th></th>\n      <th>Municipality</th>\n      <th>No policy</th>\n      <th>Buy</th>\n      <th>Rent</th>\n      <th>Wage</th>\n    </tr>\n  </thead>\n  <tbody>\n    <tr>\n      <th>25</th>\n      <td>Belem</td>\n      <td>8.0</td>\n      <td>0.00</td>\n      <td>27.12</td>\n      <td>69.69</td>\n    </tr>\n    <tr>\n      <th>1</th>\n      <td>Belo Horizonte</td>\n      <td>100.0</td>\n      <td>9.42</td>\n      <td>100.00</td>\n      <td>100.00</td>\n    </tr>\n    <tr>\n      <th>29</th>\n      <td>Brasilia</td>\n      <td>0.0</td>\n      <td>0.00</td>\n      <td>0.00</td>\n      <td>0.00</td>\n    </tr>\n    <tr>\n      <th>4</th>\n      <td>Campinas</td>\n      <td>0.94</td>\n      <td>0.00</td>\n      <td>64.50</td>\n      <td>98.47</td>\n    </tr>\n    <tr>\n      <th>9</th>\n      <td>Campo Grande</td>\n      <td>18.63</td>\n      <td>3.61</td>\n      <td>28.65</td>\n      <td>27.54</td>\n    </tr>\n    <tr>\n      <th>24</th>\n      <td>Cuiaba</td>\n      <td>17.59</td>\n      <td>2.68</td>\n      <td>28.29</td>\n      <td>27.80</td>\n    </tr>\n    <tr>\n      <th>11</th>\n      <td>Feira de Santana</td>\n      <td>17.88</td>\n      <td>2.98</td>\n      <td>28.17</td>\n      <td>26.96</td>\n    </tr>\n    <tr>\n      <th>2</th>\n      <td>Fortaleza</td>\n      <td>13.99</td>\n      <td>1.20</td>\n      <td>28.25</td>\n      <td>27.87</td>\n    </tr>\n    <tr>\n      <th>19</th>\n      <td>Ilheus-Itabuna</td>\n      <td>16.5</td>\n      <td>2.01</td>\n      <td>29.07</td>\n      <td>29.02</td>\n    </tr>\n    <tr>\n      <th>12</th>\n      <td>Ipatinga</td>\n      <td>17.22</td>\n      <td>2.61</td>\n      <td>28.48</td>\n      <td>28.56</td>\n    </tr>\n    <tr>\n      <th>15</th>\n      <td>Joao Pessoa</td>\n      <td>18.47</td>\n      <td>3.69</td>\n      <td>28.58</td>\n      <td>27.44</td>\n    </tr>\n    <tr>\n      <th>8</th>\n      <td>Joinville</td>\n      <td>19.43</td>\n      <td>5.17</td>\n      <td>27.10</td>\n      <td>28.34</td>\n    </tr>\n    <tr>\n      <th>10</th>\n      <td>Jundiai</td>\n      <td>14.56</td>\n      <td>2.17</td>\n      <td>28.47</td>\n      <td>30.06</td>\n    </tr>\n    <tr>\n      <th>13</th>\n      <td>Londrina</td>\n      <td>16.77</td>\n      <td>3.14</td>\n      <td>28.73</td>\n      <td>28.25</td>\n    </tr>\n    <tr>\n      <th>17</th>\n      <td>Maceio</td>\n      <td>18.43</td>\n      <td>3.37</td>\n      <td>28.27</td>\n      <td>28.26</td>\n    </tr>\n    <tr>\n      <th>28</th>\n      <td>Manaus</td>\n      <td>17.3</td>\n      <td>2.72</td>\n      <td>29.24</td>\n      <td>28.44</td>\n    </tr>\n    <tr>\n      <th>22</th>\n      <td>Maringa</td>\n      <td>18.14</td>\n      <td>3.81</td>\n      <td>28.30</td>\n      <td>29.00</td>\n    </tr>\n    <tr>\n      <th>26</th>\n      <td>NH-SL</td>\n      <td>17.21</td>\n      <td>2.43</td>\n      <td>27.82</td>\n      <td>28.27</td>\n    </tr>\n    <tr>\n      <th>3</th>\n      <td>Porto Alegre</td>\n      <td>4.62</td>\n      <td>0.15</td>\n      <td>18.12</td>\n      <td>18.86</td>\n    </tr>\n    <tr>\n      <th>6</th>\n      <td>Recife</td>\n      <td>17.02</td>\n      <td>2.40</td>\n      <td>28.67</td>\n      <td>27.71</td>\n    </tr>\n    <tr>\n      <th>18</th>\n      <td>SJC</td>\n      <td>17.54</td>\n      <td>3.33</td>\n      <td>28.09</td>\n      <td>27.13</td>\n    </tr>\n    <tr>\n      <th>16</th>\n      <td>SJRP</td>\n      <td>14.36</td>\n      <td>1.68</td>\n      <td>27.59</td>\n      <td>28.43</td>\n    </tr>\n    <tr>\n      <th>5</th>\n      <td>Salvador</td>\n      <td>15.04</td>\n      <td>1.03</td>\n      <td>28.87</td>\n      <td>28.66</td>\n    </tr>\n    <tr>\n      <th>20</th>\n      <td>Sao Luis</td>\n      <td>15.73</td>\n      <td>2.19</td>\n      <td>28.95</td>\n      <td>27.34</td>\n    </tr>\n    <tr>\n      <th>7</th>\n      <td>Sao Paulo</td>\n      <td>29.84</td>\n      <td>28.70</td>\n      <td>28.94</td>\n      <td>37.07</td>\n    </tr>\n    <tr>\n      <th>14</th>\n      <td>Sorocaba</td>\n      <td>17.56</td>\n      <td>3.11</td>\n      <td>28.70</td>\n      <td>28.16</td>\n    </tr>\n    <tr>\n      <th>27</th>\n      <td>Teresina</td>\n      <td>16.21</td>\n      <td>1.87</td>\n      <td>28.36</td>\n      <td>28.36</td>\n    </tr>\n    <tr>\n      <th>21</th>\n      <td>Uberlandia</td>\n      <td>17.57</td>\n      <td>3.95</td>\n      <td>28.30</td>\n      <td>27.96</td>\n    </tr>\n    <tr>\n      <th>23</th>\n      <td>Vitoria</td>\n      <td>17.18</td>\n      <td>2.21</td>\n      <td>29.04</td>\n      <td>28.17</td>\n    </tr>\n    <tr>\n      <th>0</th>\n      <td>all</td>\n      <td>17.87</td>\n      <td>3.62</td>\n      <td>31.03</td>\n      <td>32.92</td>\n    </tr>\n  </tbody>\n</table>\n</div>"
     },
     "execution_count": 235,
     "metadata": {},
     "output_type": "execute_result"
    }
   ],
   "source": [
    "hist_mean"
   ],
   "metadata": {
    "collapsed": false,
    "pycharm": {
     "name": "#%%\n"
    }
   }
  },
  {
   "cell_type": "code",
   "execution_count": 239,
   "outputs": [
    {
     "data": {
      "text/plain": "        Municipality No policy    Buy   Rent   Wage\n25             Belem     27.12   0.00  44.46  45.96\n1     Belo Horizonte       0.0  29.21   0.00   0.00\n29          Brasilia       0.0   0.00   0.00   0.00\n4           Campinas      9.63   0.00  47.85  12.27\n9       Campo Grande     38.94  18.64  45.21  44.67\n24            Cuiaba     38.08  16.15  45.04  44.80\n11  Feira de Santana     38.32  17.01  44.98  44.37\n2          Fortaleza     34.69  10.89  45.02  44.84\n19    Ilheus-Itabuna     37.11  14.03  45.41  45.39\n12          Ipatinga     37.75  15.94  45.13  45.17\n15       Joao Pessoa      38.8  18.85  45.18  44.62\n8          Joinville     39.56  22.15  44.45  45.07\n10           Jundiai     35.27  14.56  45.13  45.85\n13          Londrina     37.36  17.45  45.25  45.02\n17            Maceio     38.78  18.04  45.03  45.03\n28            Manaus     37.82  16.26  45.49  45.11\n22           Maringa     38.54  19.15  45.05  45.38\n26             NH-SL     37.75  15.39  44.81  45.03\n3       Porto Alegre     20.99   3.88  38.52  39.12\n6             Recife     37.58  15.30  45.22  44.76\n18               SJC     38.03  17.94  44.94  44.46\n16              SJRP     35.07  12.84  44.70  45.11\n5           Salvador     35.75  10.11  45.32  45.22\n20          Sao Luis     36.41  14.65  45.35  44.57\n7          Sao Paulo     45.75  45.24  45.35  48.30\n14          Sorocaba     38.05  17.35  45.24  44.98\n27          Teresina     36.85  13.55  45.07  45.08\n21        Uberlandia     38.06  19.47  45.05  44.88\n23           Vitoria     37.72  14.70  45.40  44.98\n0                all     38.31  18.68  46.26  46.99",
      "text/html": "<div>\n<style scoped>\n    .dataframe tbody tr th:only-of-type {\n        vertical-align: middle;\n    }\n\n    .dataframe tbody tr th {\n        vertical-align: top;\n    }\n\n    .dataframe thead tr th {\n        text-align: left;\n    }\n</style>\n<table border=\"1\" class=\"dataframe\">\n  <thead>\n    <tr>\n      <th></th>\n      <th>Municipality</th>\n      <th>No policy</th>\n      <th>Buy</th>\n      <th>Rent</th>\n      <th>Wage</th>\n    </tr>\n  </thead>\n  <tbody>\n    <tr>\n      <th>25</th>\n      <td>Belem</td>\n      <td>27.12</td>\n      <td>0.00</td>\n      <td>44.46</td>\n      <td>45.96</td>\n    </tr>\n    <tr>\n      <th>1</th>\n      <td>Belo Horizonte</td>\n      <td>0.0</td>\n      <td>29.21</td>\n      <td>0.00</td>\n      <td>0.00</td>\n    </tr>\n    <tr>\n      <th>29</th>\n      <td>Brasilia</td>\n      <td>0.0</td>\n      <td>0.00</td>\n      <td>0.00</td>\n      <td>0.00</td>\n    </tr>\n    <tr>\n      <th>4</th>\n      <td>Campinas</td>\n      <td>9.63</td>\n      <td>0.00</td>\n      <td>47.85</td>\n      <td>12.27</td>\n    </tr>\n    <tr>\n      <th>9</th>\n      <td>Campo Grande</td>\n      <td>38.94</td>\n      <td>18.64</td>\n      <td>45.21</td>\n      <td>44.67</td>\n    </tr>\n    <tr>\n      <th>24</th>\n      <td>Cuiaba</td>\n      <td>38.08</td>\n      <td>16.15</td>\n      <td>45.04</td>\n      <td>44.80</td>\n    </tr>\n    <tr>\n      <th>11</th>\n      <td>Feira de Santana</td>\n      <td>38.32</td>\n      <td>17.01</td>\n      <td>44.98</td>\n      <td>44.37</td>\n    </tr>\n    <tr>\n      <th>2</th>\n      <td>Fortaleza</td>\n      <td>34.69</td>\n      <td>10.89</td>\n      <td>45.02</td>\n      <td>44.84</td>\n    </tr>\n    <tr>\n      <th>19</th>\n      <td>Ilheus-Itabuna</td>\n      <td>37.11</td>\n      <td>14.03</td>\n      <td>45.41</td>\n      <td>45.39</td>\n    </tr>\n    <tr>\n      <th>12</th>\n      <td>Ipatinga</td>\n      <td>37.75</td>\n      <td>15.94</td>\n      <td>45.13</td>\n      <td>45.17</td>\n    </tr>\n    <tr>\n      <th>15</th>\n      <td>Joao Pessoa</td>\n      <td>38.8</td>\n      <td>18.85</td>\n      <td>45.18</td>\n      <td>44.62</td>\n    </tr>\n    <tr>\n      <th>8</th>\n      <td>Joinville</td>\n      <td>39.56</td>\n      <td>22.15</td>\n      <td>44.45</td>\n      <td>45.07</td>\n    </tr>\n    <tr>\n      <th>10</th>\n      <td>Jundiai</td>\n      <td>35.27</td>\n      <td>14.56</td>\n      <td>45.13</td>\n      <td>45.85</td>\n    </tr>\n    <tr>\n      <th>13</th>\n      <td>Londrina</td>\n      <td>37.36</td>\n      <td>17.45</td>\n      <td>45.25</td>\n      <td>45.02</td>\n    </tr>\n    <tr>\n      <th>17</th>\n      <td>Maceio</td>\n      <td>38.78</td>\n      <td>18.04</td>\n      <td>45.03</td>\n      <td>45.03</td>\n    </tr>\n    <tr>\n      <th>28</th>\n      <td>Manaus</td>\n      <td>37.82</td>\n      <td>16.26</td>\n      <td>45.49</td>\n      <td>45.11</td>\n    </tr>\n    <tr>\n      <th>22</th>\n      <td>Maringa</td>\n      <td>38.54</td>\n      <td>19.15</td>\n      <td>45.05</td>\n      <td>45.38</td>\n    </tr>\n    <tr>\n      <th>26</th>\n      <td>NH-SL</td>\n      <td>37.75</td>\n      <td>15.39</td>\n      <td>44.81</td>\n      <td>45.03</td>\n    </tr>\n    <tr>\n      <th>3</th>\n      <td>Porto Alegre</td>\n      <td>20.99</td>\n      <td>3.88</td>\n      <td>38.52</td>\n      <td>39.12</td>\n    </tr>\n    <tr>\n      <th>6</th>\n      <td>Recife</td>\n      <td>37.58</td>\n      <td>15.30</td>\n      <td>45.22</td>\n      <td>44.76</td>\n    </tr>\n    <tr>\n      <th>18</th>\n      <td>SJC</td>\n      <td>38.03</td>\n      <td>17.94</td>\n      <td>44.94</td>\n      <td>44.46</td>\n    </tr>\n    <tr>\n      <th>16</th>\n      <td>SJRP</td>\n      <td>35.07</td>\n      <td>12.84</td>\n      <td>44.70</td>\n      <td>45.11</td>\n    </tr>\n    <tr>\n      <th>5</th>\n      <td>Salvador</td>\n      <td>35.75</td>\n      <td>10.11</td>\n      <td>45.32</td>\n      <td>45.22</td>\n    </tr>\n    <tr>\n      <th>20</th>\n      <td>Sao Luis</td>\n      <td>36.41</td>\n      <td>14.65</td>\n      <td>45.35</td>\n      <td>44.57</td>\n    </tr>\n    <tr>\n      <th>7</th>\n      <td>Sao Paulo</td>\n      <td>45.75</td>\n      <td>45.24</td>\n      <td>45.35</td>\n      <td>48.30</td>\n    </tr>\n    <tr>\n      <th>14</th>\n      <td>Sorocaba</td>\n      <td>38.05</td>\n      <td>17.35</td>\n      <td>45.24</td>\n      <td>44.98</td>\n    </tr>\n    <tr>\n      <th>27</th>\n      <td>Teresina</td>\n      <td>36.85</td>\n      <td>13.55</td>\n      <td>45.07</td>\n      <td>45.08</td>\n    </tr>\n    <tr>\n      <th>21</th>\n      <td>Uberlandia</td>\n      <td>38.06</td>\n      <td>19.47</td>\n      <td>45.05</td>\n      <td>44.88</td>\n    </tr>\n    <tr>\n      <th>23</th>\n      <td>Vitoria</td>\n      <td>37.72</td>\n      <td>14.70</td>\n      <td>45.40</td>\n      <td>44.98</td>\n    </tr>\n    <tr>\n      <th>0</th>\n      <td>all</td>\n      <td>38.31</td>\n      <td>18.68</td>\n      <td>46.26</td>\n      <td>46.99</td>\n    </tr>\n  </tbody>\n</table>\n</div>"
     },
     "execution_count": 239,
     "metadata": {},
     "output_type": "execute_result"
    }
   ],
   "source": [
    "hist_std"
   ],
   "metadata": {
    "collapsed": false,
    "pycharm": {
     "name": "#%%\n"
    }
   }
  },
  {
   "cell_type": "code",
   "execution_count": 186,
   "outputs": [
    {
     "ename": "ValueError",
     "evalue": "Must have equal len keys and value when setting with an ndarray",
     "output_type": "error",
     "traceback": [
      "\u001B[1;31m---------------------------------------------------------------------------\u001B[0m",
      "\u001B[1;31mValueError\u001B[0m                                Traceback (most recent call last)",
      "\u001B[1;32m<ipython-input-186-dbad9c1bd91f>\u001B[0m in \u001B[0;36m<module>\u001B[1;34m\u001B[0m\n\u001B[0;32m      1\u001B[0m \u001B[1;32mfor\u001B[0m \u001B[0macp\u001B[0m \u001B[1;32min\u001B[0m \u001B[0mrange\u001B[0m\u001B[1;33m(\u001B[0m\u001B[1;36m0\u001B[0m\u001B[1;33m,\u001B[0m\u001B[1;36m30\u001B[0m\u001B[1;33m)\u001B[0m\u001B[1;33m:\u001B[0m\u001B[1;33m\u001B[0m\u001B[1;33m\u001B[0m\u001B[0m\n\u001B[0;32m      2\u001B[0m     \u001B[1;32mfor\u001B[0m \u001B[0mcol\u001B[0m \u001B[1;32min\u001B[0m \u001B[1;33m[\u001B[0m\u001B[1;34m'Buy'\u001B[0m\u001B[1;33m,\u001B[0m \u001B[1;34m'Rent'\u001B[0m\u001B[1;33m,\u001B[0m \u001B[1;34m'Wage'\u001B[0m\u001B[1;33m]\u001B[0m\u001B[1;33m:\u001B[0m\u001B[1;33m\u001B[0m\u001B[1;33m\u001B[0m\u001B[0m\n\u001B[1;32m----> 3\u001B[1;33m         hist_mean.loc[acp, col] = list(zip(hist_mean.loc[acp, col] - hist_std.loc[acp, col],\n\u001B[0m\u001B[0;32m      4\u001B[0m                                            hist_mean.loc[acp, col] + hist_std.loc[acp, col]))\n",
      "\u001B[1;32m~\\Anaconda3\\lib\\site-packages\\pandas\\core\\indexing.py\u001B[0m in \u001B[0;36m__setitem__\u001B[1;34m(self, key, value)\u001B[0m\n\u001B[0;32m    721\u001B[0m \u001B[1;33m\u001B[0m\u001B[0m\n\u001B[0;32m    722\u001B[0m         \u001B[0miloc\u001B[0m \u001B[1;33m=\u001B[0m \u001B[0mself\u001B[0m \u001B[1;32mif\u001B[0m \u001B[0mself\u001B[0m\u001B[1;33m.\u001B[0m\u001B[0mname\u001B[0m \u001B[1;33m==\u001B[0m \u001B[1;34m\"iloc\"\u001B[0m \u001B[1;32melse\u001B[0m \u001B[0mself\u001B[0m\u001B[1;33m.\u001B[0m\u001B[0mobj\u001B[0m\u001B[1;33m.\u001B[0m\u001B[0miloc\u001B[0m\u001B[1;33m\u001B[0m\u001B[1;33m\u001B[0m\u001B[0m\n\u001B[1;32m--> 723\u001B[1;33m         \u001B[0miloc\u001B[0m\u001B[1;33m.\u001B[0m\u001B[0m_setitem_with_indexer\u001B[0m\u001B[1;33m(\u001B[0m\u001B[0mindexer\u001B[0m\u001B[1;33m,\u001B[0m \u001B[0mvalue\u001B[0m\u001B[1;33m,\u001B[0m \u001B[0mself\u001B[0m\u001B[1;33m.\u001B[0m\u001B[0mname\u001B[0m\u001B[1;33m)\u001B[0m\u001B[1;33m\u001B[0m\u001B[1;33m\u001B[0m\u001B[0m\n\u001B[0m\u001B[0;32m    724\u001B[0m \u001B[1;33m\u001B[0m\u001B[0m\n\u001B[0;32m    725\u001B[0m     \u001B[1;32mdef\u001B[0m \u001B[0m_validate_key\u001B[0m\u001B[1;33m(\u001B[0m\u001B[0mself\u001B[0m\u001B[1;33m,\u001B[0m \u001B[0mkey\u001B[0m\u001B[1;33m,\u001B[0m \u001B[0maxis\u001B[0m\u001B[1;33m:\u001B[0m \u001B[0mint\u001B[0m\u001B[1;33m)\u001B[0m\u001B[1;33m:\u001B[0m\u001B[1;33m\u001B[0m\u001B[1;33m\u001B[0m\u001B[0m\n",
      "\u001B[1;32m~\\Anaconda3\\lib\\site-packages\\pandas\\core\\indexing.py\u001B[0m in \u001B[0;36m_setitem_with_indexer\u001B[1;34m(self, indexer, value, name)\u001B[0m\n\u001B[0;32m   1728\u001B[0m         \u001B[1;32mif\u001B[0m \u001B[0mtake_split_path\u001B[0m\u001B[1;33m:\u001B[0m\u001B[1;33m\u001B[0m\u001B[1;33m\u001B[0m\u001B[0m\n\u001B[0;32m   1729\u001B[0m             \u001B[1;31m# We have to operate column-wise\u001B[0m\u001B[1;33m\u001B[0m\u001B[1;33m\u001B[0m\u001B[1;33m\u001B[0m\u001B[0m\n\u001B[1;32m-> 1730\u001B[1;33m             \u001B[0mself\u001B[0m\u001B[1;33m.\u001B[0m\u001B[0m_setitem_with_indexer_split_path\u001B[0m\u001B[1;33m(\u001B[0m\u001B[0mindexer\u001B[0m\u001B[1;33m,\u001B[0m \u001B[0mvalue\u001B[0m\u001B[1;33m,\u001B[0m \u001B[0mname\u001B[0m\u001B[1;33m)\u001B[0m\u001B[1;33m\u001B[0m\u001B[1;33m\u001B[0m\u001B[0m\n\u001B[0m\u001B[0;32m   1731\u001B[0m         \u001B[1;32melse\u001B[0m\u001B[1;33m:\u001B[0m\u001B[1;33m\u001B[0m\u001B[1;33m\u001B[0m\u001B[0m\n\u001B[0;32m   1732\u001B[0m             \u001B[0mself\u001B[0m\u001B[1;33m.\u001B[0m\u001B[0m_setitem_single_block\u001B[0m\u001B[1;33m(\u001B[0m\u001B[0mindexer\u001B[0m\u001B[1;33m,\u001B[0m \u001B[0mvalue\u001B[0m\u001B[1;33m,\u001B[0m \u001B[0mname\u001B[0m\u001B[1;33m)\u001B[0m\u001B[1;33m\u001B[0m\u001B[1;33m\u001B[0m\u001B[0m\n",
      "\u001B[1;32m~\\Anaconda3\\lib\\site-packages\\pandas\\core\\indexing.py\u001B[0m in \u001B[0;36m_setitem_with_indexer_split_path\u001B[1;34m(self, indexer, value, name)\u001B[0m\n\u001B[0;32m   1767\u001B[0m \u001B[1;33m\u001B[0m\u001B[0m\n\u001B[0;32m   1768\u001B[0m             \u001B[1;32melif\u001B[0m \u001B[0mnp\u001B[0m\u001B[1;33m.\u001B[0m\u001B[0mndim\u001B[0m\u001B[1;33m(\u001B[0m\u001B[0mvalue\u001B[0m\u001B[1;33m)\u001B[0m \u001B[1;33m==\u001B[0m \u001B[1;36m2\u001B[0m\u001B[1;33m:\u001B[0m\u001B[1;33m\u001B[0m\u001B[1;33m\u001B[0m\u001B[0m\n\u001B[1;32m-> 1769\u001B[1;33m                 \u001B[0mself\u001B[0m\u001B[1;33m.\u001B[0m\u001B[0m_setitem_with_indexer_2d_value\u001B[0m\u001B[1;33m(\u001B[0m\u001B[0mindexer\u001B[0m\u001B[1;33m,\u001B[0m \u001B[0mvalue\u001B[0m\u001B[1;33m)\u001B[0m\u001B[1;33m\u001B[0m\u001B[1;33m\u001B[0m\u001B[0m\n\u001B[0m\u001B[0;32m   1770\u001B[0m \u001B[1;33m\u001B[0m\u001B[0m\n\u001B[0;32m   1771\u001B[0m             \u001B[1;32melif\u001B[0m \u001B[0mlen\u001B[0m\u001B[1;33m(\u001B[0m\u001B[0milocs\u001B[0m\u001B[1;33m)\u001B[0m \u001B[1;33m==\u001B[0m \u001B[1;36m1\u001B[0m \u001B[1;32mand\u001B[0m \u001B[0mlplane_indexer\u001B[0m \u001B[1;33m==\u001B[0m \u001B[0mlen\u001B[0m\u001B[1;33m(\u001B[0m\u001B[0mvalue\u001B[0m\u001B[1;33m)\u001B[0m \u001B[1;32mand\u001B[0m \u001B[1;32mnot\u001B[0m \u001B[0mis_scalar\u001B[0m\u001B[1;33m(\u001B[0m\u001B[0mpi\u001B[0m\u001B[1;33m)\u001B[0m\u001B[1;33m:\u001B[0m\u001B[1;33m\u001B[0m\u001B[1;33m\u001B[0m\u001B[0m\n",
      "\u001B[1;32m~\\Anaconda3\\lib\\site-packages\\pandas\\core\\indexing.py\u001B[0m in \u001B[0;36m_setitem_with_indexer_2d_value\u001B[1;34m(self, indexer, value)\u001B[0m\n\u001B[0;32m   1827\u001B[0m         \u001B[0mvalue\u001B[0m \u001B[1;33m=\u001B[0m \u001B[0mnp\u001B[0m\u001B[1;33m.\u001B[0m\u001B[0marray\u001B[0m\u001B[1;33m(\u001B[0m\u001B[0mvalue\u001B[0m\u001B[1;33m,\u001B[0m \u001B[0mdtype\u001B[0m\u001B[1;33m=\u001B[0m\u001B[0mobject\u001B[0m\u001B[1;33m)\u001B[0m\u001B[1;33m\u001B[0m\u001B[1;33m\u001B[0m\u001B[0m\n\u001B[0;32m   1828\u001B[0m         \u001B[1;32mif\u001B[0m \u001B[0mlen\u001B[0m\u001B[1;33m(\u001B[0m\u001B[0milocs\u001B[0m\u001B[1;33m)\u001B[0m \u001B[1;33m!=\u001B[0m \u001B[0mvalue\u001B[0m\u001B[1;33m.\u001B[0m\u001B[0mshape\u001B[0m\u001B[1;33m[\u001B[0m\u001B[1;36m1\u001B[0m\u001B[1;33m]\u001B[0m\u001B[1;33m:\u001B[0m\u001B[1;33m\u001B[0m\u001B[1;33m\u001B[0m\u001B[0m\n\u001B[1;32m-> 1829\u001B[1;33m             raise ValueError(\n\u001B[0m\u001B[0;32m   1830\u001B[0m                 \u001B[1;34m\"Must have equal len keys and value when setting with an ndarray\"\u001B[0m\u001B[1;33m\u001B[0m\u001B[1;33m\u001B[0m\u001B[0m\n\u001B[0;32m   1831\u001B[0m             )\n",
      "\u001B[1;31mValueError\u001B[0m: Must have equal len keys and value when setting with an ndarray"
     ]
    }
   ],
   "source": [
    "for acp in range(0,30):\n",
    "    for col in ['Buy', 'Rent', 'Wage']:\n",
    "        hist_mean.loc[acp, col] = list(zip(hist_mean.loc[acp, col] - hist_std.loc[acp, col],\n",
    "                                           hist_mean.loc[acp, col] + hist_std.loc[acp, col]))"
   ],
   "metadata": {
    "collapsed": false,
    "pycharm": {
     "name": "#%%\n"
    }
   }
  },
  {
   "cell_type": "code",
   "execution_count": 236,
   "outputs": [
    {
     "name": "stdout",
     "output_type": "stream",
     "text": [
      "{'Municipality': 'all', 'max': 56.18000000000001, 'value': 17.87, 'min': 0}\n",
      "{'Municipality': 'all', 'max': 22.3, 'value': 3.620000000000001, 'min': 0}\n",
      "{'Municipality': 'all', 'max': 77.28999999999999, 'value': 31.03, 'min': 0}\n",
      "{'Municipality': 'all', 'max': 79.91, 'value': 32.92, 'min': 0}\n",
      "{'Municipality': 'Belo Horizonte', 'max': 100, 'value': 100.0, 'min': 100.0}\n",
      "{'Municipality': 'Belo Horizonte', 'max': 38.63, 'value': 9.420000000000002, 'min': 0}\n",
      "{'Municipality': 'Belo Horizonte', 'max': 100, 'value': 100.0, 'min': 100.0}\n",
      "{'Municipality': 'Belo Horizonte', 'max': 100, 'value': 100.0, 'min': 100.0}\n",
      "{'Municipality': 'Fortaleza', 'max': 48.68, 'value': 13.99, 'min': 0}\n",
      "{'Municipality': 'Fortaleza', 'max': 12.09, 'value': 1.1999999999999993, 'min': 0}\n",
      "{'Municipality': 'Fortaleza', 'max': 73.27, 'value': 28.249999999999996, 'min': 0}\n",
      "{'Municipality': 'Fortaleza', 'max': 72.71000000000001, 'value': 27.87, 'min': 0}\n",
      "{'Municipality': 'Porto Alegre', 'max': 25.610000000000003, 'value': 4.62, 'min': 0}\n",
      "{'Municipality': 'Porto Alegre', 'max': 4.029999999999999, 'value': 0.15000000000000036, 'min': 0}\n",
      "{'Municipality': 'Porto Alegre', 'max': 56.64, 'value': 18.12, 'min': 0}\n",
      "{'Municipality': 'Porto Alegre', 'max': 57.98, 'value': 18.86, 'min': 0}\n",
      "{'Municipality': 'Campinas', 'max': 10.569999999999999, 'value': 0.9400000000000001, 'min': 0}\n",
      "{'Municipality': 'Campinas', 'max': 0.0, 'value': 0.0, 'min': 0}\n",
      "{'Municipality': 'Campinas', 'max': 100, 'value': 64.5, 'min': 16.650000000000006}\n",
      "{'Municipality': 'Campinas', 'max': 100, 'value': 98.47, 'min': 86.2}\n",
      "{'Municipality': 'Salvador', 'max': 50.79, 'value': 15.040000000000001, 'min': 0}\n",
      "{'Municipality': 'Salvador', 'max': 11.139999999999999, 'value': 1.0299999999999994, 'min': 0}\n",
      "{'Municipality': 'Salvador', 'max': 74.19, 'value': 28.87, 'min': 0}\n",
      "{'Municipality': 'Salvador', 'max': 73.88, 'value': 28.660000000000004, 'min': 0}\n",
      "{'Municipality': 'Recife', 'max': 54.60000000000001, 'value': 17.02, 'min': 0}\n",
      "{'Municipality': 'Recife', 'max': 17.699999999999996, 'value': 2.4000000000000004, 'min': 0}\n",
      "{'Municipality': 'Recife', 'max': 73.89, 'value': 28.67, 'min': 0}\n",
      "{'Municipality': 'Recife', 'max': 72.47, 'value': 27.71, 'min': 0}\n",
      "{'Municipality': 'Sao Paulo', 'max': 75.59, 'value': 29.84, 'min': 0}\n",
      "{'Municipality': 'Sao Paulo', 'max': 73.94, 'value': 28.7, 'min': 0}\n",
      "{'Municipality': 'Sao Paulo', 'max': 74.28999999999999, 'value': 28.939999999999998, 'min': 0}\n",
      "{'Municipality': 'Sao Paulo', 'max': 85.37, 'value': 37.07, 'min': 0}\n",
      "{'Municipality': 'Joinville', 'max': 58.99, 'value': 19.43, 'min': 0}\n",
      "{'Municipality': 'Joinville', 'max': 27.32, 'value': 5.17, 'min': 0}\n",
      "{'Municipality': 'Joinville', 'max': 71.55000000000001, 'value': 27.1, 'min': 0}\n",
      "{'Municipality': 'Joinville', 'max': 73.41, 'value': 28.34, 'min': 0}\n",
      "{'Municipality': 'Campo Grande', 'max': 57.57000000000001, 'value': 18.63, 'min': 0}\n",
      "{'Municipality': 'Campo Grande', 'max': 22.25, 'value': 3.6099999999999994, 'min': 0}\n",
      "{'Municipality': 'Campo Grande', 'max': 73.86, 'value': 28.65, 'min': 0}\n",
      "{'Municipality': 'Campo Grande', 'max': 72.21000000000001, 'value': 27.54, 'min': 0}\n",
      "{'Municipality': 'Jundiai', 'max': 49.830000000000005, 'value': 14.56, 'min': 0}\n",
      "{'Municipality': 'Jundiai', 'max': 16.730000000000004, 'value': 2.17, 'min': 0}\n",
      "{'Municipality': 'Jundiai', 'max': 73.6, 'value': 28.470000000000002, 'min': 0}\n",
      "{'Municipality': 'Jundiai', 'max': 75.91, 'value': 30.06, 'min': 0}\n",
      "{'Municipality': 'Feira de Santana', 'max': 56.2, 'value': 17.88, 'min': 0}\n",
      "{'Municipality': 'Feira de Santana', 'max': 19.990000000000002, 'value': 2.9800000000000004, 'min': 0}\n",
      "{'Municipality': 'Feira de Santana', 'max': 73.15, 'value': 28.17, 'min': 0}\n",
      "{'Municipality': 'Feira de Santana', 'max': 71.33, 'value': 26.96, 'min': 0}\n",
      "{'Municipality': 'Ipatinga', 'max': 54.97, 'value': 17.22, 'min': 0}\n",
      "{'Municipality': 'Ipatinga', 'max': 18.549999999999997, 'value': 2.6099999999999994, 'min': 0}\n",
      "{'Municipality': 'Ipatinga', 'max': 73.61, 'value': 28.48, 'min': 0}\n",
      "{'Municipality': 'Ipatinga', 'max': 73.73, 'value': 28.560000000000002, 'min': 0}\n",
      "{'Municipality': 'Londrina', 'max': 54.129999999999995, 'value': 16.77, 'min': 0}\n",
      "{'Municipality': 'Londrina', 'max': 20.59, 'value': 3.1400000000000006, 'min': 0}\n",
      "{'Municipality': 'Londrina', 'max': 73.98, 'value': 28.73, 'min': 0}\n",
      "{'Municipality': 'Londrina', 'max': 73.27, 'value': 28.249999999999996, 'min': 0}\n",
      "{'Municipality': 'Sorocaba', 'max': 55.61, 'value': 17.560000000000002, 'min': 0}\n",
      "{'Municipality': 'Sorocaba', 'max': 20.459999999999997, 'value': 3.1099999999999994, 'min': 0}\n",
      "{'Municipality': 'Sorocaba', 'max': 73.94, 'value': 28.7, 'min': 0}\n",
      "{'Municipality': 'Sorocaba', 'max': 73.14, 'value': 28.16, 'min': 0}\n",
      "{'Municipality': 'Joao Pessoa', 'max': 57.27, 'value': 18.47, 'min': 0}\n",
      "{'Municipality': 'Joao Pessoa', 'max': 22.540000000000003, 'value': 3.6900000000000013, 'min': 0}\n",
      "{'Municipality': 'Joao Pessoa', 'max': 73.75999999999999, 'value': 28.58, 'min': 0}\n",
      "{'Municipality': 'Joao Pessoa', 'max': 72.06, 'value': 27.439999999999998, 'min': 0}\n",
      "{'Municipality': 'SJRP', 'max': 49.43, 'value': 14.360000000000001, 'min': 0}\n",
      "{'Municipality': 'SJRP', 'max': 14.519999999999996, 'value': 1.6799999999999997, 'min': 0}\n",
      "{'Municipality': 'SJRP', 'max': 72.28999999999999, 'value': 27.589999999999996, 'min': 0}\n",
      "{'Municipality': 'SJRP', 'max': 73.53999999999999, 'value': 28.43, 'min': 0}\n",
      "{'Municipality': 'Maceio', 'max': 57.21, 'value': 18.43, 'min': 0}\n",
      "{'Municipality': 'Maceio', 'max': 21.41, 'value': 3.370000000000001, 'min': 0}\n",
      "{'Municipality': 'Maceio', 'max': 73.3, 'value': 28.27, 'min': 0}\n",
      "{'Municipality': 'Maceio', 'max': 73.29, 'value': 28.26, 'min': 0}\n",
      "{'Municipality': 'SJC', 'max': 55.57, 'value': 17.54, 'min': 0}\n",
      "{'Municipality': 'SJC', 'max': 21.270000000000003, 'value': 3.33, 'min': 0}\n",
      "{'Municipality': 'SJC', 'max': 73.03, 'value': 28.09, 'min': 0}\n",
      "{'Municipality': 'SJC', 'max': 71.59, 'value': 27.13, 'min': 0}\n",
      "{'Municipality': 'Ilheus-Itabuna', 'max': 53.61, 'value': 16.5, 'min': 0}\n",
      "{'Municipality': 'Ilheus-Itabuna', 'max': 16.04, 'value': 2.01, 'min': 0}\n",
      "{'Municipality': 'Ilheus-Itabuna', 'max': 74.48, 'value': 29.07, 'min': 0}\n",
      "{'Municipality': 'Ilheus-Itabuna', 'max': 74.41, 'value': 29.020000000000003, 'min': 0}\n",
      "{'Municipality': 'Sao Luis', 'max': 52.14, 'value': 15.73, 'min': 0}\n",
      "{'Municipality': 'Sao Luis', 'max': 16.839999999999996, 'value': 2.1899999999999995, 'min': 0}\n",
      "{'Municipality': 'Sao Luis', 'max': 74.3, 'value': 28.95, 'min': 0}\n",
      "{'Municipality': 'Sao Luis', 'max': 71.91, 'value': 27.339999999999996, 'min': 0}\n",
      "{'Municipality': 'Uberlandia', 'max': 55.63, 'value': 17.57, 'min': 0}\n",
      "{'Municipality': 'Uberlandia', 'max': 23.42, 'value': 3.9499999999999993, 'min': 0}\n",
      "{'Municipality': 'Uberlandia', 'max': 73.35, 'value': 28.299999999999997, 'min': 0}\n",
      "{'Municipality': 'Uberlandia', 'max': 72.84, 'value': 27.96, 'min': 0}\n",
      "{'Municipality': 'Maringa', 'max': 56.68, 'value': 18.14, 'min': 0}\n",
      "{'Municipality': 'Maringa', 'max': 22.96, 'value': 3.8100000000000005, 'min': 0}\n",
      "{'Municipality': 'Maringa', 'max': 73.35, 'value': 28.299999999999997, 'min': 0}\n",
      "{'Municipality': 'Maringa', 'max': 74.38, 'value': 28.999999999999996, 'min': 0}\n",
      "{'Municipality': 'Vitoria', 'max': 54.9, 'value': 17.18, 'min': 0}\n",
      "{'Municipality': 'Vitoria', 'max': 16.91, 'value': 2.210000000000001, 'min': 0}\n",
      "{'Municipality': 'Vitoria', 'max': 74.44, 'value': 29.04, 'min': 0}\n",
      "{'Municipality': 'Vitoria', 'max': 73.15, 'value': 28.17, 'min': 0}\n",
      "{'Municipality': 'Cuiaba', 'max': 55.67, 'value': 17.59, 'min': 0}\n",
      "{'Municipality': 'Cuiaba', 'max': 18.830000000000002, 'value': 2.6799999999999997, 'min': 0}\n",
      "{'Municipality': 'Cuiaba', 'max': 73.33, 'value': 28.29, 'min': 0}\n",
      "{'Municipality': 'Cuiaba', 'max': 72.60000000000001, 'value': 27.800000000000004, 'min': 0}\n",
      "{'Municipality': 'Belem', 'max': 35.120000000000005, 'value': 8.0, 'min': 0}\n",
      "{'Municipality': 'Belem', 'max': 0.0, 'value': 0.0, 'min': 0}\n",
      "{'Municipality': 'Belem', 'max': 71.58, 'value': 27.12, 'min': 0}\n",
      "{'Municipality': 'Belem', 'max': 100, 'value': 69.69, 'min': 23.729999999999997}\n",
      "{'Municipality': 'NH-SL', 'max': 54.96, 'value': 17.21, 'min': 0}\n",
      "{'Municipality': 'NH-SL', 'max': 17.82, 'value': 2.4299999999999997, 'min': 0}\n",
      "{'Municipality': 'NH-SL', 'max': 72.63, 'value': 27.82, 'min': 0}\n",
      "{'Municipality': 'NH-SL', 'max': 73.3, 'value': 28.27, 'min': 0}\n",
      "{'Municipality': 'Teresina', 'max': 53.06, 'value': 16.21, 'min': 0}\n",
      "{'Municipality': 'Teresina', 'max': 15.420000000000002, 'value': 1.870000000000001, 'min': 0}\n",
      "{'Municipality': 'Teresina', 'max': 73.43, 'value': 28.360000000000003, 'min': 0}\n",
      "{'Municipality': 'Teresina', 'max': 73.44, 'value': 28.360000000000003, 'min': 0}\n",
      "{'Municipality': 'Manaus', 'max': 55.12, 'value': 17.299999999999997, 'min': 0}\n",
      "{'Municipality': 'Manaus', 'max': 18.979999999999997, 'value': 2.719999999999999, 'min': 0}\n",
      "{'Municipality': 'Manaus', 'max': 74.73, 'value': 29.24, 'min': 0}\n",
      "{'Municipality': 'Manaus', 'max': 73.55, 'value': 28.439999999999998, 'min': 0}\n",
      "{'Municipality': 'Brasilia', 'max': 0.0, 'value': 0.0, 'min': 0}\n",
      "{'Municipality': 'Brasilia', 'max': 0.0, 'value': 0.0, 'min': 0}\n",
      "{'Municipality': 'Brasilia', 'max': 0.0, 'value': 0.0, 'min': 0}\n",
      "{'Municipality': 'Brasilia', 'max': 0.0, 'value': 0.0, 'min': 0}\n"
     ]
    }
   ],
   "source": [
    "no_policy, buy, rent, wage = pd.DataFrame(), pd.DataFrame(), pd.DataFrame(), pd.DataFrame()\n",
    "dict = {'No policy' : no_policy,\n",
    "        'Buy' : buy,\n",
    "        'Rent' : rent,\n",
    "        'Wage' : wage}\n",
    "\n",
    "for acp in range(0,30):\n",
    "    for policy in ['No policy', 'Buy', 'Rent', 'Wage']:\n",
    "        row = {'Municipality' : hist_mean.loc[acp, 'Municipality'].Municipality,\n",
    "               'max' : min(100,hist_mean.loc[acp, policy].values[0] + hist_std.loc[acp, policy].values[0]),\n",
    "               'value' : hist_mean.loc[acp, policy].values[0],\n",
    "               'min' : max(0,hist_mean.loc[acp, policy].values[0] - hist_std.loc[acp, policy].values[0])}\n",
    "        print(row)\n",
    "        dict[policy] = dict[policy].append(row, ignore_index=True)"
   ],
   "metadata": {
    "collapsed": false,
    "pycharm": {
     "name": "#%%\n"
    }
   }
  },
  {
   "cell_type": "code",
   "execution_count": 254,
   "outputs": [
    {
     "data": {
      "text/plain": "                 0               1          2             3         4   \\\nMunicipality    all  Belo Horizonte  Fortaleza  Porto Alegre  Campinas   \nmax           79.91           100.0      72.71         57.98     100.0   \nvalue         32.92           100.0      27.87         18.86     98.47   \nmin             0.0           100.0        0.0           0.0      86.2   \n\n                    5       6          7          8             9   ...  \\\nMunicipality  Salvador  Recife  Sao Paulo  Joinville  Campo Grande  ...   \nmax              73.88   72.47      85.37      73.41         72.21  ...   \nvalue            28.66   27.71      37.07      28.34         27.54  ...   \nmin                0.0     0.0        0.0        0.0           0.0  ...   \n\n                    20          21       22       23      24     25     26  \\\nMunicipality  Sao Luis  Uberlandia  Maringa  Vitoria  Cuiaba  Belem  NH-SL   \nmax              71.91       72.84    74.38    73.15    72.6  100.0   73.3   \nvalue            27.34       27.96     29.0    28.17    27.8  69.69  28.27   \nmin                0.0         0.0      0.0      0.0     0.0  23.73    0.0   \n\n                    27      28        29  \nMunicipality  Teresina  Manaus  Brasilia  \nmax              73.44   73.55       0.0  \nvalue            28.36   28.44       0.0  \nmin                0.0     0.0       0.0  \n\n[4 rows x 30 columns]",
      "text/html": "<div>\n<style scoped>\n    .dataframe tbody tr th:only-of-type {\n        vertical-align: middle;\n    }\n\n    .dataframe tbody tr th {\n        vertical-align: top;\n    }\n\n    .dataframe thead th {\n        text-align: right;\n    }\n</style>\n<table border=\"1\" class=\"dataframe\">\n  <thead>\n    <tr style=\"text-align: right;\">\n      <th></th>\n      <th>0</th>\n      <th>1</th>\n      <th>2</th>\n      <th>3</th>\n      <th>4</th>\n      <th>5</th>\n      <th>6</th>\n      <th>7</th>\n      <th>8</th>\n      <th>9</th>\n      <th>...</th>\n      <th>20</th>\n      <th>21</th>\n      <th>22</th>\n      <th>23</th>\n      <th>24</th>\n      <th>25</th>\n      <th>26</th>\n      <th>27</th>\n      <th>28</th>\n      <th>29</th>\n    </tr>\n  </thead>\n  <tbody>\n    <tr>\n      <th>Municipality</th>\n      <td>all</td>\n      <td>Belo Horizonte</td>\n      <td>Fortaleza</td>\n      <td>Porto Alegre</td>\n      <td>Campinas</td>\n      <td>Salvador</td>\n      <td>Recife</td>\n      <td>Sao Paulo</td>\n      <td>Joinville</td>\n      <td>Campo Grande</td>\n      <td>...</td>\n      <td>Sao Luis</td>\n      <td>Uberlandia</td>\n      <td>Maringa</td>\n      <td>Vitoria</td>\n      <td>Cuiaba</td>\n      <td>Belem</td>\n      <td>NH-SL</td>\n      <td>Teresina</td>\n      <td>Manaus</td>\n      <td>Brasilia</td>\n    </tr>\n    <tr>\n      <th>max</th>\n      <td>79.91</td>\n      <td>100.0</td>\n      <td>72.71</td>\n      <td>57.98</td>\n      <td>100.0</td>\n      <td>73.88</td>\n      <td>72.47</td>\n      <td>85.37</td>\n      <td>73.41</td>\n      <td>72.21</td>\n      <td>...</td>\n      <td>71.91</td>\n      <td>72.84</td>\n      <td>74.38</td>\n      <td>73.15</td>\n      <td>72.6</td>\n      <td>100.0</td>\n      <td>73.3</td>\n      <td>73.44</td>\n      <td>73.55</td>\n      <td>0.0</td>\n    </tr>\n    <tr>\n      <th>value</th>\n      <td>32.92</td>\n      <td>100.0</td>\n      <td>27.87</td>\n      <td>18.86</td>\n      <td>98.47</td>\n      <td>28.66</td>\n      <td>27.71</td>\n      <td>37.07</td>\n      <td>28.34</td>\n      <td>27.54</td>\n      <td>...</td>\n      <td>27.34</td>\n      <td>27.96</td>\n      <td>29.0</td>\n      <td>28.17</td>\n      <td>27.8</td>\n      <td>69.69</td>\n      <td>28.27</td>\n      <td>28.36</td>\n      <td>28.44</td>\n      <td>0.0</td>\n    </tr>\n    <tr>\n      <th>min</th>\n      <td>0.0</td>\n      <td>100.0</td>\n      <td>0.0</td>\n      <td>0.0</td>\n      <td>86.2</td>\n      <td>0.0</td>\n      <td>0.0</td>\n      <td>0.0</td>\n      <td>0.0</td>\n      <td>0.0</td>\n      <td>...</td>\n      <td>0.0</td>\n      <td>0.0</td>\n      <td>0.0</td>\n      <td>0.0</td>\n      <td>0.0</td>\n      <td>23.73</td>\n      <td>0.0</td>\n      <td>0.0</td>\n      <td>0.0</td>\n      <td>0.0</td>\n    </tr>\n  </tbody>\n</table>\n<p>4 rows × 30 columns</p>\n</div>"
     },
     "execution_count": 254,
     "metadata": {},
     "output_type": "execute_result"
    }
   ],
   "source": [
    "dict['Wage'].transpose()"
   ],
   "metadata": {
    "collapsed": false,
    "pycharm": {
     "name": "#%%\n"
    }
   }
  },
  {
   "cell_type": "code",
   "execution_count": 272,
   "outputs": [
    {
     "data": {
      "text/plain": "        Municipality     max   value     min\n0                all   79.91   32.92    0.00\n1     Belo Horizonte  100.00  100.00  100.00\n2          Fortaleza   72.71   27.87    0.00\n3       Porto Alegre   57.98   18.86    0.00\n4           Campinas  100.00   98.47   86.20\n5           Salvador   73.88   28.66    0.00\n6             Recife   72.47   27.71    0.00\n7          Sao Paulo   85.37   37.07    0.00\n8          Joinville   73.41   28.34    0.00\n9       Campo Grande   72.21   27.54    0.00\n10           Jundiai   75.91   30.06    0.00\n11  Feira de Santana   71.33   26.96    0.00\n12          Ipatinga   73.73   28.56    0.00\n13          Londrina   73.27   28.25    0.00\n14          Sorocaba   73.14   28.16    0.00\n15       Joao Pessoa   72.06   27.44    0.00\n16              SJRP   73.54   28.43    0.00\n17            Maceio   73.29   28.26    0.00\n18               SJC   71.59   27.13    0.00\n19    Ilheus-Itabuna   74.41   29.02    0.00\n20          Sao Luis   71.91   27.34    0.00\n21        Uberlandia   72.84   27.96    0.00\n22           Maringa   74.38   29.00    0.00\n23           Vitoria   73.15   28.17    0.00\n24            Cuiaba   72.60   27.80    0.00\n25             Belem  100.00   69.69   23.73\n26             NH-SL   73.30   28.27    0.00\n27          Teresina   73.44   28.36    0.00\n28            Manaus   73.55   28.44    0.00\n29          Brasilia    0.00    0.00    0.00",
      "text/html": "<div>\n<style scoped>\n    .dataframe tbody tr th:only-of-type {\n        vertical-align: middle;\n    }\n\n    .dataframe tbody tr th {\n        vertical-align: top;\n    }\n\n    .dataframe thead th {\n        text-align: right;\n    }\n</style>\n<table border=\"1\" class=\"dataframe\">\n  <thead>\n    <tr style=\"text-align: right;\">\n      <th></th>\n      <th>Municipality</th>\n      <th>max</th>\n      <th>value</th>\n      <th>min</th>\n    </tr>\n  </thead>\n  <tbody>\n    <tr>\n      <th>0</th>\n      <td>all</td>\n      <td>79.91</td>\n      <td>32.92</td>\n      <td>0.00</td>\n    </tr>\n    <tr>\n      <th>1</th>\n      <td>Belo Horizonte</td>\n      <td>100.00</td>\n      <td>100.00</td>\n      <td>100.00</td>\n    </tr>\n    <tr>\n      <th>2</th>\n      <td>Fortaleza</td>\n      <td>72.71</td>\n      <td>27.87</td>\n      <td>0.00</td>\n    </tr>\n    <tr>\n      <th>3</th>\n      <td>Porto Alegre</td>\n      <td>57.98</td>\n      <td>18.86</td>\n      <td>0.00</td>\n    </tr>\n    <tr>\n      <th>4</th>\n      <td>Campinas</td>\n      <td>100.00</td>\n      <td>98.47</td>\n      <td>86.20</td>\n    </tr>\n    <tr>\n      <th>5</th>\n      <td>Salvador</td>\n      <td>73.88</td>\n      <td>28.66</td>\n      <td>0.00</td>\n    </tr>\n    <tr>\n      <th>6</th>\n      <td>Recife</td>\n      <td>72.47</td>\n      <td>27.71</td>\n      <td>0.00</td>\n    </tr>\n    <tr>\n      <th>7</th>\n      <td>Sao Paulo</td>\n      <td>85.37</td>\n      <td>37.07</td>\n      <td>0.00</td>\n    </tr>\n    <tr>\n      <th>8</th>\n      <td>Joinville</td>\n      <td>73.41</td>\n      <td>28.34</td>\n      <td>0.00</td>\n    </tr>\n    <tr>\n      <th>9</th>\n      <td>Campo Grande</td>\n      <td>72.21</td>\n      <td>27.54</td>\n      <td>0.00</td>\n    </tr>\n    <tr>\n      <th>10</th>\n      <td>Jundiai</td>\n      <td>75.91</td>\n      <td>30.06</td>\n      <td>0.00</td>\n    </tr>\n    <tr>\n      <th>11</th>\n      <td>Feira de Santana</td>\n      <td>71.33</td>\n      <td>26.96</td>\n      <td>0.00</td>\n    </tr>\n    <tr>\n      <th>12</th>\n      <td>Ipatinga</td>\n      <td>73.73</td>\n      <td>28.56</td>\n      <td>0.00</td>\n    </tr>\n    <tr>\n      <th>13</th>\n      <td>Londrina</td>\n      <td>73.27</td>\n      <td>28.25</td>\n      <td>0.00</td>\n    </tr>\n    <tr>\n      <th>14</th>\n      <td>Sorocaba</td>\n      <td>73.14</td>\n      <td>28.16</td>\n      <td>0.00</td>\n    </tr>\n    <tr>\n      <th>15</th>\n      <td>Joao Pessoa</td>\n      <td>72.06</td>\n      <td>27.44</td>\n      <td>0.00</td>\n    </tr>\n    <tr>\n      <th>16</th>\n      <td>SJRP</td>\n      <td>73.54</td>\n      <td>28.43</td>\n      <td>0.00</td>\n    </tr>\n    <tr>\n      <th>17</th>\n      <td>Maceio</td>\n      <td>73.29</td>\n      <td>28.26</td>\n      <td>0.00</td>\n    </tr>\n    <tr>\n      <th>18</th>\n      <td>SJC</td>\n      <td>71.59</td>\n      <td>27.13</td>\n      <td>0.00</td>\n    </tr>\n    <tr>\n      <th>19</th>\n      <td>Ilheus-Itabuna</td>\n      <td>74.41</td>\n      <td>29.02</td>\n      <td>0.00</td>\n    </tr>\n    <tr>\n      <th>20</th>\n      <td>Sao Luis</td>\n      <td>71.91</td>\n      <td>27.34</td>\n      <td>0.00</td>\n    </tr>\n    <tr>\n      <th>21</th>\n      <td>Uberlandia</td>\n      <td>72.84</td>\n      <td>27.96</td>\n      <td>0.00</td>\n    </tr>\n    <tr>\n      <th>22</th>\n      <td>Maringa</td>\n      <td>74.38</td>\n      <td>29.00</td>\n      <td>0.00</td>\n    </tr>\n    <tr>\n      <th>23</th>\n      <td>Vitoria</td>\n      <td>73.15</td>\n      <td>28.17</td>\n      <td>0.00</td>\n    </tr>\n    <tr>\n      <th>24</th>\n      <td>Cuiaba</td>\n      <td>72.60</td>\n      <td>27.80</td>\n      <td>0.00</td>\n    </tr>\n    <tr>\n      <th>25</th>\n      <td>Belem</td>\n      <td>100.00</td>\n      <td>69.69</td>\n      <td>23.73</td>\n    </tr>\n    <tr>\n      <th>26</th>\n      <td>NH-SL</td>\n      <td>73.30</td>\n      <td>28.27</td>\n      <td>0.00</td>\n    </tr>\n    <tr>\n      <th>27</th>\n      <td>Teresina</td>\n      <td>73.44</td>\n      <td>28.36</td>\n      <td>0.00</td>\n    </tr>\n    <tr>\n      <th>28</th>\n      <td>Manaus</td>\n      <td>73.55</td>\n      <td>28.44</td>\n      <td>0.00</td>\n    </tr>\n    <tr>\n      <th>29</th>\n      <td>Brasilia</td>\n      <td>0.00</td>\n      <td>0.00</td>\n      <td>0.00</td>\n    </tr>\n  </tbody>\n</table>\n</div>"
     },
     "execution_count": 272,
     "metadata": {},
     "output_type": "execute_result"
    }
   ],
   "source": [
    "dict['Wage']"
   ],
   "metadata": {
    "collapsed": false,
    "pycharm": {
     "name": "#%%\n"
    }
   }
  },
  {
   "cell_type": "code",
   "execution_count": 289,
   "outputs": [
    {
     "data": {
      "text/plain": "<Figure size 432x288 with 1 Axes>",
      "image/png": "[encoded data removed]"
     },
     "metadata": {
      "needs_background": "light"
     },
     "output_type": "display_data"
    }
   ],
   "source": [
    "fig = dict['Buy'].set_index('Municipality').T.boxplot(widths = 0.3)"
   ],
   "metadata": {
    "collapsed": false,
    "pycharm": {
     "name": "#%%\n"
    }
   }
  },
  {
   "cell_type": "code",
   "execution_count": 368,
   "outputs": [
    {
     "data": {
      "text/plain": "<Figure size 576x576 with 4 Axes>",
      "image/png": "[encoded data removed]"
     },
     "metadata": {
      "needs_background": "light"
     },
     "output_type": "display_data"
    }
   ],
   "source": [
    "plt.figure(figsize=(8, 8))\n",
    "plt.ylim((0, 100))\n",
    "plt.tight_layout()\n",
    "\n",
    "plt.subplot(4, 1, 1).set_title('No Policy')\n",
    "dict['No policy'].set_index('Municipality').T.boxplot(widths = 0.6, labels=None).set(xticklabels=[])\n",
    "\n",
    "plt.subplot(4, 1, 2).set_title('Policy: Buy')\n",
    "dict['Buy'].set_index('Municipality').T.boxplot(widths = 0.6).set(xticklabels=[])\n",
    "\n",
    "plt.subplot(4, 1, 3).set_title('Policy: Wage')\n",
    "dict['Wage'].set_index('Municipality').T.boxplot(widths = 0.6).set(xticklabels=[])\n",
    "\n",
    "plt.subplot(4, 1, 4).set_title('Policy: Rent')\n",
    "dict['Rent'].set_index('Municipality').T.boxplot(widths = 0.6)\n",
    "\n",
    "plt.xticks(rotation=90)\n",
    "\n",
    "\n",
    "plt.savefig(f'../text/figures/boxplot.png', bbox_inches='tight', transparent=True)\n",
    "plt.show()"
   ],
   "metadata": {
    "collapsed": false,
    "pycharm": {
     "name": "#%%\n"
    }
   }
  },
  {
   "cell_type": "markdown",
   "source": [],
   "metadata": {
    "collapsed": false
   }
  }
 ],
 "metadata": {
  "kernelspec": {
   "display_name": "Python 3",
   "language": "python",
   "name": "python3"
  },
  "language_info": {
   "codemirror_mode": {
    "name": "ipython",
    "version": 2
   },
   "file_extension": ".py",
   "mimetype": "text/x-python",
   "name": "python",
   "nbconvert_exporter": "python",
   "pygments_lexer": "ipython2",
   "version": "2.7.6"
  }
 },
 "nbformat": 4,
 "nbformat_minor": 0
}