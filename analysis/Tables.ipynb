{
 "cells": [
  {
   "cell_type": "code",
   "execution_count": 1,
   "metadata": {
    "collapsed": true
   },
   "outputs": [],
   "source": [
    "import pandas as pd\n",
    "import numpy as np\n",
    "import groups_cols"
   ]
  },
  {
   "cell_type": "code",
   "execution_count": 2,
   "outputs": [],
   "source": [
    "csv = pd.read_csv('../../Tree_gdp_index_75_gini_index_25_1000000_temp_stats.csv', sep=';')\n"
   ],
   "metadata": {
    "collapsed": false,
    "pycharm": {
     "name": "#%%\n"
    }
   }
  },
  {
   "cell_type": "code",
   "execution_count": 3,
   "outputs": [
    {
     "data": {
      "text/plain": "   WAGE_IGNORE_UNEMPLOYMENT_True  T_LICENSES_PER_REGION_False  \\\n0                              1                            0   \n1                              1                            1   \n2                              1                            0   \n3                              1                            0   \n4                              1                            1   \n\n   T_LICENSES_PER_REGION_True  T_LICENSES_PER_REGION_random  \\\n0                           1                             0   \n1                           0                             0   \n2                           1                             0   \n3                           1                             0   \n4                           0                             0   \n\n   STARTING_DAY_2000-01-01  STARTING_DAY_2010-01-01  PROCESSING_ACPS_ARACAJU  \\\n0                        1                        0                        0   \n1                        1                        0                        0   \n2                        0                        1                        0   \n3                        0                        1                        0   \n4                        1                        0                        0   \n\n   PROCESSING_ACPS_BELEM  PROCESSING_ACPS_BELO HORIZONTE  \\\n0                      0                               0   \n1                      0                               1   \n2                      0                               0   \n3                      0                               0   \n4                      0                               0   \n\n   PROCESSING_ACPS_BRASILIA  ...  POLICY_QUANTILE  PRIVATE_TRANSIT_COST  \\\n0                         0  ...         0.165026              0.352031   \n1                         0  ...         0.270604              0.231056   \n2                         0  ...         0.027547              0.340364   \n3                         0  ...         0.120448              0.203523   \n4                         0  ...         0.231800              0.238699   \n\n   PRODUCTIVITY_EXPONENT  PRODUCTIVITY_MAGNITUDE_DIVISOR  PUBLIC_TRANSIT_COST  \\\n0               0.788361                       14.406162             0.014693   \n1               0.565840                       19.901328             0.029353   \n2               0.642990                        5.819734             0.112379   \n3               0.554617                       11.317730             0.197332   \n4               0.597708                       10.108900             0.139565   \n\n   SIZE_MARKET  STICKY_PRICES  TAX_ESTATE_TRANSACTION   TOTAL_DAYS  Tree  \n0    12.716660       0.431376                0.005178  2096.178905     0  \n1    12.405633       0.648048                0.005348  2799.155416     1  \n2     8.065436       0.462010                0.005608  6673.748095     0  \n3     9.870673       0.659062                0.003858  3218.064349     0  \n4    13.389940       0.435022                0.005825  3546.727945     0  \n\n[5 rows x 87 columns]",
      "text/html": "<div>\n<style scoped>\n    .dataframe tbody tr th:only-of-type {\n        vertical-align: middle;\n    }\n\n    .dataframe tbody tr th {\n        vertical-align: top;\n    }\n\n    .dataframe thead th {\n        text-align: right;\n    }\n</style>\n<table border=\"1\" class=\"dataframe\">\n  <thead>\n    <tr style=\"text-align: right;\">\n      <th></th>\n      <th>WAGE_IGNORE_UNEMPLOYMENT_True</th>\n      <th>T_LICENSES_PER_REGION_False</th>\n      <th>T_LICENSES_PER_REGION_True</th>\n      <th>T_LICENSES_PER_REGION_random</th>\n      <th>STARTING_DAY_2000-01-01</th>\n      <th>STARTING_DAY_2010-01-01</th>\n      <th>PROCESSING_ACPS_ARACAJU</th>\n      <th>PROCESSING_ACPS_BELEM</th>\n      <th>PROCESSING_ACPS_BELO HORIZONTE</th>\n      <th>PROCESSING_ACPS_BRASILIA</th>\n      <th>...</th>\n      <th>POLICY_QUANTILE</th>\n      <th>PRIVATE_TRANSIT_COST</th>\n      <th>PRODUCTIVITY_EXPONENT</th>\n      <th>PRODUCTIVITY_MAGNITUDE_DIVISOR</th>\n      <th>PUBLIC_TRANSIT_COST</th>\n      <th>SIZE_MARKET</th>\n      <th>STICKY_PRICES</th>\n      <th>TAX_ESTATE_TRANSACTION</th>\n      <th>TOTAL_DAYS</th>\n      <th>Tree</th>\n    </tr>\n  </thead>\n  <tbody>\n    <tr>\n      <th>0</th>\n      <td>1</td>\n      <td>0</td>\n      <td>1</td>\n      <td>0</td>\n      <td>1</td>\n      <td>0</td>\n      <td>0</td>\n      <td>0</td>\n      <td>0</td>\n      <td>0</td>\n      <td>...</td>\n      <td>0.165026</td>\n      <td>0.352031</td>\n      <td>0.788361</td>\n      <td>14.406162</td>\n      <td>0.014693</td>\n      <td>12.716660</td>\n      <td>0.431376</td>\n      <td>0.005178</td>\n      <td>2096.178905</td>\n      <td>0</td>\n    </tr>\n    <tr>\n      <th>1</th>\n      <td>1</td>\n      <td>1</td>\n      <td>0</td>\n      <td>0</td>\n      <td>1</td>\n      <td>0</td>\n      <td>0</td>\n      <td>0</td>\n      <td>1</td>\n      <td>0</td>\n      <td>...</td>\n      <td>0.270604</td>\n      <td>0.231056</td>\n      <td>0.565840</td>\n      <td>19.901328</td>\n      <td>0.029353</td>\n      <td>12.405633</td>\n      <td>0.648048</td>\n      <td>0.005348</td>\n      <td>2799.155416</td>\n      <td>1</td>\n    </tr>\n    <tr>\n      <th>2</th>\n      <td>1</td>\n      <td>0</td>\n      <td>1</td>\n      <td>0</td>\n      <td>0</td>\n      <td>1</td>\n      <td>0</td>\n      <td>0</td>\n      <td>0</td>\n      <td>0</td>\n      <td>...</td>\n      <td>0.027547</td>\n      <td>0.340364</td>\n      <td>0.642990</td>\n      <td>5.819734</td>\n      <td>0.112379</td>\n      <td>8.065436</td>\n      <td>0.462010</td>\n      <td>0.005608</td>\n      <td>6673.748095</td>\n      <td>0</td>\n    </tr>\n    <tr>\n      <th>3</th>\n      <td>1</td>\n      <td>0</td>\n      <td>1</td>\n      <td>0</td>\n      <td>0</td>\n      <td>1</td>\n      <td>0</td>\n      <td>0</td>\n      <td>0</td>\n      <td>0</td>\n      <td>...</td>\n      <td>0.120448</td>\n      <td>0.203523</td>\n      <td>0.554617</td>\n      <td>11.317730</td>\n      <td>0.197332</td>\n      <td>9.870673</td>\n      <td>0.659062</td>\n      <td>0.003858</td>\n      <td>3218.064349</td>\n      <td>0</td>\n    </tr>\n    <tr>\n      <th>4</th>\n      <td>1</td>\n      <td>1</td>\n      <td>0</td>\n      <td>0</td>\n      <td>1</td>\n      <td>0</td>\n      <td>0</td>\n      <td>0</td>\n      <td>0</td>\n      <td>0</td>\n      <td>...</td>\n      <td>0.231800</td>\n      <td>0.238699</td>\n      <td>0.597708</td>\n      <td>10.108900</td>\n      <td>0.139565</td>\n      <td>13.389940</td>\n      <td>0.435022</td>\n      <td>0.005825</td>\n      <td>3546.727945</td>\n      <td>0</td>\n    </tr>\n  </tbody>\n</table>\n<p>5 rows × 87 columns</p>\n</div>"
     },
     "execution_count": 3,
     "metadata": {},
     "output_type": "execute_result"
    }
   ],
   "source": [
    "csv.head()"
   ],
   "metadata": {
    "collapsed": false,
    "pycharm": {
     "name": "#%%\n"
    }
   }
  },
  {
   "cell_type": "markdown",
   "source": [],
   "metadata": {
    "collapsed": false
   }
  },
  {
   "cell_type": "code",
   "execution_count": 4,
   "outputs": [],
   "source": [
    "iqr = pd.read_csv('IQR.csv', sep=';')\n",
    "iqr = iqr.set_index('ACP')"
   ],
   "metadata": {
    "collapsed": false,
    "pycharm": {
     "name": "#%%\n"
    }
   }
  },
  {
   "cell_type": "code",
   "execution_count": 59,
   "outputs": [
    {
     "data": {
      "text/plain": "                                Unnamed: 0                 pol   q3   q1  \\\nACP                                                                        \nall                                      0        POLICIES_buy  0.0  0.0   \nall                                      1       POLICIES_rent  1.0  0.0   \nall                                      2       POLICIES_wage  1.0  0.0   \nall                                      3  POLICIES_no_policy  0.0  0.0   \nPROCESSING_ACPS_BELO HORIZONTE           4        POLICIES_buy  0.0  0.0   \n\n                                median  IQR      mean       std     count  \nACP                                                                        \nall                                0.0  0.0  0.036194  0.186773  250592.0  \nall                                0.0  1.0  0.310333  0.462630  250070.0  \nall                                0.0  1.0  0.329212  0.469927  250015.0  \nall                                0.0  0.0  0.178652  0.383060  249323.0  \nPROCESSING_ACPS_BELO HORIZONTE     0.0  0.0  0.094223  0.292138    5487.0  ",
      "text/html": "<div>\n<style scoped>\n    .dataframe tbody tr th:only-of-type {\n        vertical-align: middle;\n    }\n\n    .dataframe tbody tr th {\n        vertical-align: top;\n    }\n\n    .dataframe thead th {\n        text-align: right;\n    }\n</style>\n<table border=\"1\" class=\"dataframe\">\n  <thead>\n    <tr style=\"text-align: right;\">\n      <th></th>\n      <th>Unnamed: 0</th>\n      <th>pol</th>\n      <th>q3</th>\n      <th>q1</th>\n      <th>median</th>\n      <th>IQR</th>\n      <th>mean</th>\n      <th>std</th>\n      <th>count</th>\n    </tr>\n    <tr>\n      <th>ACP</th>\n      <th></th>\n      <th></th>\n      <th></th>\n      <th></th>\n      <th></th>\n      <th></th>\n      <th></th>\n      <th></th>\n      <th></th>\n    </tr>\n  </thead>\n  <tbody>\n    <tr>\n      <th>all</th>\n      <td>0</td>\n      <td>POLICIES_buy</td>\n      <td>0.0</td>\n      <td>0.0</td>\n      <td>0.0</td>\n      <td>0.0</td>\n      <td>0.036194</td>\n      <td>0.186773</td>\n      <td>250592.0</td>\n    </tr>\n    <tr>\n      <th>all</th>\n      <td>1</td>\n      <td>POLICIES_rent</td>\n      <td>1.0</td>\n      <td>0.0</td>\n      <td>0.0</td>\n      <td>1.0</td>\n      <td>0.310333</td>\n      <td>0.462630</td>\n      <td>250070.0</td>\n    </tr>\n    <tr>\n      <th>all</th>\n      <td>2</td>\n      <td>POLICIES_wage</td>\n      <td>1.0</td>\n      <td>0.0</td>\n      <td>0.0</td>\n      <td>1.0</td>\n      <td>0.329212</td>\n      <td>0.469927</td>\n      <td>250015.0</td>\n    </tr>\n    <tr>\n      <th>all</th>\n      <td>3</td>\n      <td>POLICIES_no_policy</td>\n      <td>0.0</td>\n      <td>0.0</td>\n      <td>0.0</td>\n      <td>0.0</td>\n      <td>0.178652</td>\n      <td>0.383060</td>\n      <td>249323.0</td>\n    </tr>\n    <tr>\n      <th>PROCESSING_ACPS_BELO HORIZONTE</th>\n      <td>4</td>\n      <td>POLICIES_buy</td>\n      <td>0.0</td>\n      <td>0.0</td>\n      <td>0.0</td>\n      <td>0.0</td>\n      <td>0.094223</td>\n      <td>0.292138</td>\n      <td>5487.0</td>\n    </tr>\n  </tbody>\n</table>\n</div>"
     },
     "execution_count": 59,
     "metadata": {},
     "output_type": "execute_result"
    }
   ],
   "source": [
    "iqr.head()"
   ],
   "metadata": {
    "collapsed": false,
    "pycharm": {
     "name": "#%%\n"
    }
   }
  },
  {
   "cell_type": "code",
   "execution_count": 78,
   "outputs": [],
   "source": [
    "header = ['','Absolute Value', 'Difference to baseline (p.p.)','','']\n",
    "mean_policy_acp = pd.DataFrame(columns=[['Municipality', 'No Policy', 'Buy', 'Rent', 'Wage']])\n",
    "mean_policy_acp.set_index('Municipality')\n",
    "std_policy_acp = mean_policy_acp.copy()"
   ],
   "metadata": {
    "collapsed": false,
    "pycharm": {
     "name": "#%%\n"
    }
   }
  },
  {
   "cell_type": "code",
   "execution_count": 79,
   "outputs": [
    {
     "data": {
      "text/plain": "Empty DataFrame\nColumns: [(Municipality,), (No Policy,), (Buy,), (Rent,), (Wage,)]\nIndex: []",
      "text/html": "<div>\n<style scoped>\n    .dataframe tbody tr th:only-of-type {\n        vertical-align: middle;\n    }\n\n    .dataframe tbody tr th {\n        vertical-align: top;\n    }\n\n    .dataframe thead tr th {\n        text-align: left;\n    }\n</style>\n<table border=\"1\" class=\"dataframe\">\n  <thead>\n    <tr>\n      <th></th>\n      <th>Municipality</th>\n      <th>No Policy</th>\n      <th>Buy</th>\n      <th>Rent</th>\n      <th>Wage</th>\n    </tr>\n  </thead>\n  <tbody>\n  </tbody>\n</table>\n</div>"
     },
     "execution_count": 79,
     "metadata": {},
     "output_type": "execute_result"
    }
   ],
   "source": [
    "std_policy_acp"
   ],
   "metadata": {
    "collapsed": false,
    "pycharm": {
     "name": "#%%\n"
    }
   }
  },
  {
   "cell_type": "code",
   "execution_count": 80,
   "outputs": [],
   "source": [
    "acps = ['all'] + groups_cols.abm_dummies['acps']\n",
    "\n",
    "for acp in acps:\n",
    "    row_mean = [acp]\n",
    "    row_std = row_mean.copy()\n",
    "    for policy in ['POLICIES_no_policy','POLICIES_buy', 'POLICIES_rent', 'POLICIES_wage']:\n",
    "        dataframe_mean = iqr.groupby(['ACP','pol'])['mean'].mean()\n",
    "        dataframe_std = iqr.groupby(['ACP','pol'])['std'].mean()\n",
    "        if policy == 'POLICIES_no_policy':\n",
    "            mean = dataframe_mean[acp, policy]\n",
    "            std = dataframe_std[acp, policy]\n",
    "        else:\n",
    "            mean = (dataframe_mean[acp, policy]-row_mean[1])*100\n",
    "            std = (dataframe_std[acp, policy]-row_std[1])*100\n",
    "        row_mean.append(mean)\n",
    "        row_std.append(std)\n",
    "    mean_policy_acp.at[acp] = row_mean\n",
    "    std_policy_acp.at[acp] = row_std\n"
   ],
   "metadata": {
    "collapsed": false,
    "pycharm": {
     "name": "#%%\n"
    }
   }
  },
  {
   "cell_type": "code",
   "execution_count": 81,
   "outputs": [
    {
     "data": {
      "text/plain": "                                                                              Municipality  \\\nall                                                                                    all   \nPROCESSING_ACPS_BELO HORIZONTE                              PROCESSING_ACPS_BELO HORIZONTE   \nPROCESSING_ACPS_FORTALEZA                                        PROCESSING_ACPS_FORTALEZA   \nPROCESSING_ACPS_PORTO ALEGRE                                  PROCESSING_ACPS_PORTO ALEGRE   \nPROCESSING_ACPS_CAMPINAS                                          PROCESSING_ACPS_CAMPINAS   \nPROCESSING_ACPS_SALVADOR                                          PROCESSING_ACPS_SALVADOR   \nPROCESSING_ACPS_RECIFE                                              PROCESSING_ACPS_RECIFE   \nPROCESSING_ACPS_SAO PAULO                                        PROCESSING_ACPS_SAO PAULO   \nPROCESSING_ACPS_JOINVILLE                                        PROCESSING_ACPS_JOINVILLE   \nPROCESSING_ACPS_CAMPO GRANDE                                  PROCESSING_ACPS_CAMPO GRANDE   \nPROCESSING_ACPS_JUNDIAI                                            PROCESSING_ACPS_JUNDIAI   \nPROCESSING_ACPS_FEIRA DE SANTANA                          PROCESSING_ACPS_FEIRA DE SANTANA   \nPROCESSING_ACPS_IPATINGA                                          PROCESSING_ACPS_IPATINGA   \nPROCESSING_ACPS_LONDRINA                                          PROCESSING_ACPS_LONDRINA   \nPROCESSING_ACPS_SOROCABA                                          PROCESSING_ACPS_SOROCABA   \nPROCESSING_ACPS_JOAO PESSOA                                    PROCESSING_ACPS_JOAO PESSOA   \nPROCESSING_ACPS_SAO JOSE DO RIO PRETO                PROCESSING_ACPS_SAO JOSE DO RIO PRETO   \nPROCESSING_ACPS_MACEIO                                              PROCESSING_ACPS_MACEIO   \nPROCESSING_ACPS_SAO JOSE DOS CAMPOS                    PROCESSING_ACPS_SAO JOSE DOS CAMPOS   \nPROCESSING_ACPS_ILHEUS - ITABUNA                          PROCESSING_ACPS_ILHEUS - ITABUNA   \nPROCESSING_ACPS_SAO LUIS                                          PROCESSING_ACPS_SAO LUIS   \nPROCESSING_ACPS_UBERLANDIA                                      PROCESSING_ACPS_UBERLANDIA   \nPROCESSING_ACPS_MARINGA                                            PROCESSING_ACPS_MARINGA   \nPROCESSING_ACPS_VITORIA                                            PROCESSING_ACPS_VITORIA   \nPROCESSING_ACPS_CUIABA                                              PROCESSING_ACPS_CUIABA   \nPROCESSING_ACPS_BELEM                                                PROCESSING_ACPS_BELEM   \nPROCESSING_ACPS_NOVO HAMBURGO - SAO LEOPOLDO  PROCESSING_ACPS_NOVO HAMBURGO - SAO LEOPOLDO   \nPROCESSING_ACPS_TERESINA                                          PROCESSING_ACPS_TERESINA   \nPROCESSING_ACPS_MANAUS                                              PROCESSING_ACPS_MANAUS   \nPROCESSING_ACPS_BRASILIA                                          PROCESSING_ACPS_BRASILIA   \n\n                                             No Policy        Buy       Rent  \\\nall                                           0.178652  -14.24575  13.168132   \nPROCESSING_ACPS_BELO HORIZONTE                     1.0 -90.577729        0.0   \nPROCESSING_ACPS_FORTALEZA                     0.139893 -12.788953  14.255852   \nPROCESSING_ACPS_PORTO ALEGRE                  0.046176  -4.466664  13.507309   \nPROCESSING_ACPS_CAMPINAS                      0.009365  -0.936467  63.562328   \nPROCESSING_ACPS_SALVADOR                      0.150387  -14.00497  13.833874   \nPROCESSING_ACPS_RECIFE                        0.170229 -14.624631  11.644874   \nPROCESSING_ACPS_SAO PAULO                     0.298364   -1.13452  -0.897977   \nPROCESSING_ACPS_JOINVILLE                     0.194263 -14.252916   7.671196   \nPROCESSING_ACPS_CAMPO GRANDE                  0.186349 -15.028671  10.012794   \nPROCESSING_ACPS_JUNDIAI                       0.145606 -12.393804   13.90791   \nPROCESSING_ACPS_FEIRA DE SANTANA              0.178772 -14.895631  10.291025   \nPROCESSING_ACPS_IPATINGA                      0.172169 -14.607123  11.267911   \nPROCESSING_ACPS_LONDRINA                      0.167749 -13.630488  11.955886   \nPROCESSING_ACPS_SOROCABA                      0.175627 -14.454295  11.137571   \nPROCESSING_ACPS_JOAO PESSOA                   0.184657 -14.776348  10.110985   \nPROCESSING_ACPS_SAO JOSE DO RIO PRETO         0.143631 -12.687624  13.225054   \nPROCESSING_ACPS_MACEIO                        0.184332 -15.067253   9.834915   \nPROCESSING_ACPS_SAO JOSE DOS CAMPOS            0.17539 -14.211149  10.547563   \nPROCESSING_ACPS_ILHEUS - ITABUNA               0.16495 -14.487668  12.579855   \nPROCESSING_ACPS_SAO LUIS                      0.157347 -13.541738  13.217976   \nPROCESSING_ACPS_UBERLANDIA                     0.17572  -13.62415  10.730575   \nPROCESSING_ACPS_MARINGA                       0.181443 -14.331168  10.157634   \nPROCESSING_ACPS_VITORIA                       0.171821 -14.972426  11.861254   \nPROCESSING_ACPS_CUIABA                        0.175924 -14.911703  10.693399   \nPROCESSING_ACPS_BELEM                         0.079963  -7.996289  19.126092   \nPROCESSING_ACPS_NOVO HAMBURGO - SAO LEOPOLDO  0.172148 -14.787134  10.603543   \nPROCESSING_ACPS_TERESINA                      0.162108 -14.340041  12.149336   \nPROCESSING_ACPS_MANAUS                         0.17297 -14.580902  11.942233   \nPROCESSING_ACPS_BRASILIA                           0.0        0.0        0.0   \n\n                                                   Wage  \nall                                           15.056046  \nPROCESSING_ACPS_BELO HORIZONTE                      0.0  \nPROCESSING_ACPS_FORTALEZA                     13.882617  \nPROCESSING_ACPS_PORTO ALEGRE                  14.239668  \nPROCESSING_ACPS_CAMPINAS                       97.53487  \nPROCESSING_ACPS_SALVADOR                      13.625011  \nPROCESSING_ACPS_RECIFE                        10.685949  \nPROCESSING_ACPS_SAO PAULO                      7.235171  \nPROCESSING_ACPS_JOINVILLE                      8.915856  \nPROCESSING_ACPS_CAMPO GRANDE                   8.908452  \nPROCESSING_ACPS_JUNDIAI                       15.503102  \nPROCESSING_ACPS_FEIRA DE SANTANA               9.082048  \nPROCESSING_ACPS_IPATINGA                      11.346699  \nPROCESSING_ACPS_LONDRINA                      11.478419  \nPROCESSING_ACPS_SOROCABA                      10.593359  \nPROCESSING_ACPS_JOAO PESSOA                    8.972866  \nPROCESSING_ACPS_SAO JOSE DO RIO PRETO         14.063119  \nPROCESSING_ACPS_MACEIO                         9.825691  \nPROCESSING_ACPS_SAO JOSE DOS CAMPOS            9.592901  \nPROCESSING_ACPS_ILHEUS - ITABUNA              12.529621  \nPROCESSING_ACPS_SAO LUIS                      11.601685  \nPROCESSING_ACPS_UBERLANDIA                    10.387182  \nPROCESSING_ACPS_MARINGA                       10.857216  \nPROCESSING_ACPS_VITORIA                       10.986437  \nPROCESSING_ACPS_CUIABA                        10.206807  \nPROCESSING_ACPS_BELEM                         61.697955  \nPROCESSING_ACPS_NOVO HAMBURGO - SAO LEOPOLDO  11.055034  \nPROCESSING_ACPS_TERESINA                      12.151233  \nPROCESSING_ACPS_MANAUS                        11.139984  \nPROCESSING_ACPS_BRASILIA                            0.0  ",
      "text/html": "<div>\n<style scoped>\n    .dataframe tbody tr th:only-of-type {\n        vertical-align: middle;\n    }\n\n    .dataframe tbody tr th {\n        vertical-align: top;\n    }\n\n    .dataframe thead tr th {\n        text-align: left;\n    }\n</style>\n<table border=\"1\" class=\"dataframe\">\n  <thead>\n    <tr>\n      <th></th>\n      <th>Municipality</th>\n      <th>No Policy</th>\n      <th>Buy</th>\n      <th>Rent</th>\n      <th>Wage</th>\n    </tr>\n  </thead>\n  <tbody>\n    <tr>\n      <th>all</th>\n      <td>all</td>\n      <td>0.178652</td>\n      <td>-14.24575</td>\n      <td>13.168132</td>\n      <td>15.056046</td>\n    </tr>\n    <tr>\n      <th>PROCESSING_ACPS_BELO HORIZONTE</th>\n      <td>PROCESSING_ACPS_BELO HORIZONTE</td>\n      <td>1.0</td>\n      <td>-90.577729</td>\n      <td>0.0</td>\n      <td>0.0</td>\n    </tr>\n    <tr>\n      <th>PROCESSING_ACPS_FORTALEZA</th>\n      <td>PROCESSING_ACPS_FORTALEZA</td>\n      <td>0.139893</td>\n      <td>-12.788953</td>\n      <td>14.255852</td>\n      <td>13.882617</td>\n    </tr>\n    <tr>\n      <th>PROCESSING_ACPS_PORTO ALEGRE</th>\n      <td>PROCESSING_ACPS_PORTO ALEGRE</td>\n      <td>0.046176</td>\n      <td>-4.466664</td>\n      <td>13.507309</td>\n      <td>14.239668</td>\n    </tr>\n    <tr>\n      <th>PROCESSING_ACPS_CAMPINAS</th>\n      <td>PROCESSING_ACPS_CAMPINAS</td>\n      <td>0.009365</td>\n      <td>-0.936467</td>\n      <td>63.562328</td>\n      <td>97.53487</td>\n    </tr>\n    <tr>\n      <th>PROCESSING_ACPS_SALVADOR</th>\n      <td>PROCESSING_ACPS_SALVADOR</td>\n      <td>0.150387</td>\n      <td>-14.00497</td>\n      <td>13.833874</td>\n      <td>13.625011</td>\n    </tr>\n    <tr>\n      <th>PROCESSING_ACPS_RECIFE</th>\n      <td>PROCESSING_ACPS_RECIFE</td>\n      <td>0.170229</td>\n      <td>-14.624631</td>\n      <td>11.644874</td>\n      <td>10.685949</td>\n    </tr>\n    <tr>\n      <th>PROCESSING_ACPS_SAO PAULO</th>\n      <td>PROCESSING_ACPS_SAO PAULO</td>\n      <td>0.298364</td>\n      <td>-1.13452</td>\n      <td>-0.897977</td>\n      <td>7.235171</td>\n    </tr>\n    <tr>\n      <th>PROCESSING_ACPS_JOINVILLE</th>\n      <td>PROCESSING_ACPS_JOINVILLE</td>\n      <td>0.194263</td>\n      <td>-14.252916</td>\n      <td>7.671196</td>\n      <td>8.915856</td>\n    </tr>\n    <tr>\n      <th>PROCESSING_ACPS_CAMPO GRANDE</th>\n      <td>PROCESSING_ACPS_CAMPO GRANDE</td>\n      <td>0.186349</td>\n      <td>-15.028671</td>\n      <td>10.012794</td>\n      <td>8.908452</td>\n    </tr>\n    <tr>\n      <th>PROCESSING_ACPS_JUNDIAI</th>\n      <td>PROCESSING_ACPS_JUNDIAI</td>\n      <td>0.145606</td>\n      <td>-12.393804</td>\n      <td>13.90791</td>\n      <td>15.503102</td>\n    </tr>\n    <tr>\n      <th>PROCESSING_ACPS_FEIRA DE SANTANA</th>\n      <td>PROCESSING_ACPS_FEIRA DE SANTANA</td>\n      <td>0.178772</td>\n      <td>-14.895631</td>\n      <td>10.291025</td>\n      <td>9.082048</td>\n    </tr>\n    <tr>\n      <th>PROCESSING_ACPS_IPATINGA</th>\n      <td>PROCESSING_ACPS_IPATINGA</td>\n      <td>0.172169</td>\n      <td>-14.607123</td>\n      <td>11.267911</td>\n      <td>11.346699</td>\n    </tr>\n    <tr>\n      <th>PROCESSING_ACPS_LONDRINA</th>\n      <td>PROCESSING_ACPS_LONDRINA</td>\n      <td>0.167749</td>\n      <td>-13.630488</td>\n      <td>11.955886</td>\n      <td>11.478419</td>\n    </tr>\n    <tr>\n      <th>PROCESSING_ACPS_SOROCABA</th>\n      <td>PROCESSING_ACPS_SOROCABA</td>\n      <td>0.175627</td>\n      <td>-14.454295</td>\n      <td>11.137571</td>\n      <td>10.593359</td>\n    </tr>\n    <tr>\n      <th>PROCESSING_ACPS_JOAO PESSOA</th>\n      <td>PROCESSING_ACPS_JOAO PESSOA</td>\n      <td>0.184657</td>\n      <td>-14.776348</td>\n      <td>10.110985</td>\n      <td>8.972866</td>\n    </tr>\n    <tr>\n      <th>PROCESSING_ACPS_SAO JOSE DO RIO PRETO</th>\n      <td>PROCESSING_ACPS_SAO JOSE DO RIO PRETO</td>\n      <td>0.143631</td>\n      <td>-12.687624</td>\n      <td>13.225054</td>\n      <td>14.063119</td>\n    </tr>\n    <tr>\n      <th>PROCESSING_ACPS_MACEIO</th>\n      <td>PROCESSING_ACPS_MACEIO</td>\n      <td>0.184332</td>\n      <td>-15.067253</td>\n      <td>9.834915</td>\n      <td>9.825691</td>\n    </tr>\n    <tr>\n      <th>PROCESSING_ACPS_SAO JOSE DOS CAMPOS</th>\n      <td>PROCESSING_ACPS_SAO JOSE DOS CAMPOS</td>\n      <td>0.17539</td>\n      <td>-14.211149</td>\n      <td>10.547563</td>\n      <td>9.592901</td>\n    </tr>\n    <tr>\n      <th>PROCESSING_ACPS_ILHEUS - ITABUNA</th>\n      <td>PROCESSING_ACPS_ILHEUS - ITABUNA</td>\n      <td>0.16495</td>\n      <td>-14.487668</td>\n      <td>12.579855</td>\n      <td>12.529621</td>\n    </tr>\n    <tr>\n      <th>PROCESSING_ACPS_SAO LUIS</th>\n      <td>PROCESSING_ACPS_SAO LUIS</td>\n      <td>0.157347</td>\n      <td>-13.541738</td>\n      <td>13.217976</td>\n      <td>11.601685</td>\n    </tr>\n    <tr>\n      <th>PROCESSING_ACPS_UBERLANDIA</th>\n      <td>PROCESSING_ACPS_UBERLANDIA</td>\n      <td>0.17572</td>\n      <td>-13.62415</td>\n      <td>10.730575</td>\n      <td>10.387182</td>\n    </tr>\n    <tr>\n      <th>PROCESSING_ACPS_MARINGA</th>\n      <td>PROCESSING_ACPS_MARINGA</td>\n      <td>0.181443</td>\n      <td>-14.331168</td>\n      <td>10.157634</td>\n      <td>10.857216</td>\n    </tr>\n    <tr>\n      <th>PROCESSING_ACPS_VITORIA</th>\n      <td>PROCESSING_ACPS_VITORIA</td>\n      <td>0.171821</td>\n      <td>-14.972426</td>\n      <td>11.861254</td>\n      <td>10.986437</td>\n    </tr>\n    <tr>\n      <th>PROCESSING_ACPS_CUIABA</th>\n      <td>PROCESSING_ACPS_CUIABA</td>\n      <td>0.175924</td>\n      <td>-14.911703</td>\n      <td>10.693399</td>\n      <td>10.206807</td>\n    </tr>\n    <tr>\n      <th>PROCESSING_ACPS_BELEM</th>\n      <td>PROCESSING_ACPS_BELEM</td>\n      <td>0.079963</td>\n      <td>-7.996289</td>\n      <td>19.126092</td>\n      <td>61.697955</td>\n    </tr>\n    <tr>\n      <th>PROCESSING_ACPS_NOVO HAMBURGO - SAO LEOPOLDO</th>\n      <td>PROCESSING_ACPS_NOVO HAMBURGO - SAO LEOPOLDO</td>\n      <td>0.172148</td>\n      <td>-14.787134</td>\n      <td>10.603543</td>\n      <td>11.055034</td>\n    </tr>\n    <tr>\n      <th>PROCESSING_ACPS_TERESINA</th>\n      <td>PROCESSING_ACPS_TERESINA</td>\n      <td>0.162108</td>\n      <td>-14.340041</td>\n      <td>12.149336</td>\n      <td>12.151233</td>\n    </tr>\n    <tr>\n      <th>PROCESSING_ACPS_MANAUS</th>\n      <td>PROCESSING_ACPS_MANAUS</td>\n      <td>0.17297</td>\n      <td>-14.580902</td>\n      <td>11.942233</td>\n      <td>11.139984</td>\n    </tr>\n    <tr>\n      <th>PROCESSING_ACPS_BRASILIA</th>\n      <td>PROCESSING_ACPS_BRASILIA</td>\n      <td>0.0</td>\n      <td>0.0</td>\n      <td>0.0</td>\n      <td>0.0</td>\n    </tr>\n  </tbody>\n</table>\n</div>"
     },
     "execution_count": 81,
     "metadata": {},
     "output_type": "execute_result"
    }
   ],
   "source": [
    "mean_policy_acp"
   ],
   "metadata": {
    "collapsed": false,
    "pycharm": {
     "name": "#%%\n"
    }
   }
  },
  {
   "cell_type": "code",
   "execution_count": 82,
   "outputs": [
    {
     "data": {
      "text/plain": "                                                                              Municipality  \\\nall                                                                                    all   \nPROCESSING_ACPS_BELO HORIZONTE                              PROCESSING_ACPS_BELO HORIZONTE   \nPROCESSING_ACPS_FORTALEZA                                        PROCESSING_ACPS_FORTALEZA   \nPROCESSING_ACPS_PORTO ALEGRE                                  PROCESSING_ACPS_PORTO ALEGRE   \nPROCESSING_ACPS_CAMPINAS                                          PROCESSING_ACPS_CAMPINAS   \nPROCESSING_ACPS_SALVADOR                                          PROCESSING_ACPS_SALVADOR   \nPROCESSING_ACPS_RECIFE                                              PROCESSING_ACPS_RECIFE   \nPROCESSING_ACPS_SAO PAULO                                        PROCESSING_ACPS_SAO PAULO   \nPROCESSING_ACPS_JOINVILLE                                        PROCESSING_ACPS_JOINVILLE   \nPROCESSING_ACPS_CAMPO GRANDE                                  PROCESSING_ACPS_CAMPO GRANDE   \nPROCESSING_ACPS_JUNDIAI                                            PROCESSING_ACPS_JUNDIAI   \nPROCESSING_ACPS_FEIRA DE SANTANA                          PROCESSING_ACPS_FEIRA DE SANTANA   \nPROCESSING_ACPS_IPATINGA                                          PROCESSING_ACPS_IPATINGA   \nPROCESSING_ACPS_LONDRINA                                          PROCESSING_ACPS_LONDRINA   \nPROCESSING_ACPS_SOROCABA                                          PROCESSING_ACPS_SOROCABA   \nPROCESSING_ACPS_JOAO PESSOA                                    PROCESSING_ACPS_JOAO PESSOA   \nPROCESSING_ACPS_SAO JOSE DO RIO PRETO                PROCESSING_ACPS_SAO JOSE DO RIO PRETO   \nPROCESSING_ACPS_MACEIO                                              PROCESSING_ACPS_MACEIO   \nPROCESSING_ACPS_SAO JOSE DOS CAMPOS                    PROCESSING_ACPS_SAO JOSE DOS CAMPOS   \nPROCESSING_ACPS_ILHEUS - ITABUNA                          PROCESSING_ACPS_ILHEUS - ITABUNA   \nPROCESSING_ACPS_SAO LUIS                                          PROCESSING_ACPS_SAO LUIS   \nPROCESSING_ACPS_UBERLANDIA                                      PROCESSING_ACPS_UBERLANDIA   \nPROCESSING_ACPS_MARINGA                                            PROCESSING_ACPS_MARINGA   \nPROCESSING_ACPS_VITORIA                                            PROCESSING_ACPS_VITORIA   \nPROCESSING_ACPS_CUIABA                                              PROCESSING_ACPS_CUIABA   \nPROCESSING_ACPS_BELEM                                                PROCESSING_ACPS_BELEM   \nPROCESSING_ACPS_NOVO HAMBURGO - SAO LEOPOLDO  PROCESSING_ACPS_NOVO HAMBURGO - SAO LEOPOLDO   \nPROCESSING_ACPS_TERESINA                                          PROCESSING_ACPS_TERESINA   \nPROCESSING_ACPS_MANAUS                                              PROCESSING_ACPS_MANAUS   \nPROCESSING_ACPS_BRASILIA                                          PROCESSING_ACPS_BRASILIA   \n\n                                             No Policy        Buy       Rent  \\\nall                                            0.38306 -19.628718   7.956947   \nPROCESSING_ACPS_BELO HORIZONTE                     0.0  29.213831        0.0   \nPROCESSING_ACPS_FORTALEZA                     0.346875 -23.797679  10.331608   \nPROCESSING_ACPS_PORTO ALEGRE                  0.209866 -17.104719  17.535862   \nPROCESSING_ACPS_CAMPINAS                      0.096317  -9.631705  38.219992   \nPROCESSING_ACPS_SALVADOR                       0.35745 -25.630462   9.571979   \nPROCESSING_ACPS_RECIFE                        0.375834 -22.283898    7.63759   \nPROCESSING_ACPS_SAO PAULO                      0.45754  -0.516965  -0.406352   \nPROCESSING_ACPS_JOINVILLE                     0.395632 -17.414324   4.883096   \nPROCESSING_ACPS_CAMPO GRANDE                  0.389388 -20.294242   6.272679   \nPROCESSING_ACPS_JUNDIAI                       0.352711 -20.711405   9.855359   \nPROCESSING_ACPS_FEIRA DE SANTANA              0.383161 -21.308274   6.665797   \nPROCESSING_ACPS_IPATINGA                      0.377528 -21.810039   7.381466   \nPROCESSING_ACPS_LONDRINA                      0.373643  -19.91283   7.886312   \nPROCESSING_ACPS_SOROCABA                      0.380503 -20.695715   7.186026   \nPROCESSING_ACPS_JOAO PESSOA                   0.388019 -19.951862   6.375981   \nPROCESSING_ACPS_SAO JOSE DO RIO PRETO         0.350715 -22.236414   9.624226   \nPROCESSING_ACPS_MACEIO                        0.387755 -20.740398   6.254805   \nPROCESSING_ACPS_SAO JOSE DOS CAMPOS           0.380301 -20.093697   6.912156   \nPROCESSING_ACPS_ILHEUS - ITABUNA              0.371136 -23.088341   8.297216   \nPROCESSING_ACPS_SAO LUIS                      0.364128 -21.767335   8.941502   \nPROCESSING_ACPS_UBERLANDIA                    0.380582 -18.585129   6.988707   \nPROCESSING_ACPS_MARINGA                       0.385384 -19.387231   6.508113   \nPROCESSING_ACPS_VITORIA                       0.377225 -23.022734   7.673778   \nPROCESSING_ACPS_CUIABA                        0.380756 -21.923617   6.963243   \nPROCESSING_ACPS_BELEM                         0.271236 -27.123575  17.335559   \nPROCESSING_ACPS_NOVO HAMBURGO - SAO LEOPOLDO  0.377509 -22.360285   7.059532   \nPROCESSING_ACPS_TERESINA                      0.368549 -23.306069   8.219596   \nPROCESSING_ACPS_MANAUS                        0.378221 -21.566907   7.664026   \nPROCESSING_ACPS_BRASILIA                           0.0        0.0        0.0   \n\n                                                   Wage  \nall                                            8.686669  \nPROCESSING_ACPS_BELO HORIZONTE                      0.0  \nPROCESSING_ACPS_FORTALEZA                     10.149331  \nPROCESSING_ACPS_PORTO ALEGRE                  18.130299  \nPROCESSING_ACPS_CAMPINAS                       2.637339  \nPROCESSING_ACPS_SALVADOR                       9.474017  \nPROCESSING_ACPS_RECIFE                         7.172676  \nPROCESSING_ACPS_SAO PAULO                      2.545644  \nPROCESSING_ACPS_JOINVILLE                      5.502704  \nPROCESSING_ACPS_CAMPO GRANDE                   5.734434  \nPROCESSING_ACPS_JUNDIAI                       10.582433  \nPROCESSING_ACPS_FEIRA DE SANTANA               6.058681  \nPROCESSING_ACPS_IPATINGA                       7.418939  \nPROCESSING_ACPS_LONDRINA                       7.658797  \nPROCESSING_ACPS_SOROCABA                       6.925759  \nPROCESSING_ACPS_JOAO PESSOA                    5.818511  \nPROCESSING_ACPS_SAO JOSE DO RIO PRETO         10.034716  \nPROCESSING_ACPS_MACEIO                         6.250353  \nPROCESSING_ACPS_SAO JOSE DOS CAMPOS            6.433988  \nPROCESSING_ACPS_ILHEUS - ITABUNA               8.274034  \nPROCESSING_ACPS_SAO LUIS                       8.155835  \nPROCESSING_ACPS_UBERLANDIA                     6.821689  \nPROCESSING_ACPS_MARINGA                        6.838445  \nPROCESSING_ACPS_VITORIA                         7.25961  \nPROCESSING_ACPS_CUIABA                          6.72539  \nPROCESSING_ACPS_BELEM                         18.834414  \nPROCESSING_ACPS_NOVO HAMBURGO - SAO LEOPOLDO   7.280208  \nPROCESSING_ACPS_TERESINA                       8.220507  \nPROCESSING_ACPS_MANAUS                         7.289245  \nPROCESSING_ACPS_BRASILIA                            0.0  ",
      "text/html": "<div>\n<style scoped>\n    .dataframe tbody tr th:only-of-type {\n        vertical-align: middle;\n    }\n\n    .dataframe tbody tr th {\n        vertical-align: top;\n    }\n\n    .dataframe thead tr th {\n        text-align: left;\n    }\n</style>\n<table border=\"1\" class=\"dataframe\">\n  <thead>\n    <tr>\n      <th></th>\n      <th>Municipality</th>\n      <th>No Policy</th>\n      <th>Buy</th>\n      <th>Rent</th>\n      <th>Wage</th>\n    </tr>\n  </thead>\n  <tbody>\n    <tr>\n      <th>all</th>\n      <td>all</td>\n      <td>0.38306</td>\n      <td>-19.628718</td>\n      <td>7.956947</td>\n      <td>8.686669</td>\n    </tr>\n    <tr>\n      <th>PROCESSING_ACPS_BELO HORIZONTE</th>\n      <td>PROCESSING_ACPS_BELO HORIZONTE</td>\n      <td>0.0</td>\n      <td>29.213831</td>\n      <td>0.0</td>\n      <td>0.0</td>\n    </tr>\n    <tr>\n      <th>PROCESSING_ACPS_FORTALEZA</th>\n      <td>PROCESSING_ACPS_FORTALEZA</td>\n      <td>0.346875</td>\n      <td>-23.797679</td>\n      <td>10.331608</td>\n      <td>10.149331</td>\n    </tr>\n    <tr>\n      <th>PROCESSING_ACPS_PORTO ALEGRE</th>\n      <td>PROCESSING_ACPS_PORTO ALEGRE</td>\n      <td>0.209866</td>\n      <td>-17.104719</td>\n      <td>17.535862</td>\n      <td>18.130299</td>\n    </tr>\n    <tr>\n      <th>PROCESSING_ACPS_CAMPINAS</th>\n      <td>PROCESSING_ACPS_CAMPINAS</td>\n      <td>0.096317</td>\n      <td>-9.631705</td>\n      <td>38.219992</td>\n      <td>2.637339</td>\n    </tr>\n    <tr>\n      <th>PROCESSING_ACPS_SALVADOR</th>\n      <td>PROCESSING_ACPS_SALVADOR</td>\n      <td>0.35745</td>\n      <td>-25.630462</td>\n      <td>9.571979</td>\n      <td>9.474017</td>\n    </tr>\n    <tr>\n      <th>PROCESSING_ACPS_RECIFE</th>\n      <td>PROCESSING_ACPS_RECIFE</td>\n      <td>0.375834</td>\n      <td>-22.283898</td>\n      <td>7.63759</td>\n      <td>7.172676</td>\n    </tr>\n    <tr>\n      <th>PROCESSING_ACPS_SAO PAULO</th>\n      <td>PROCESSING_ACPS_SAO PAULO</td>\n      <td>0.45754</td>\n      <td>-0.516965</td>\n      <td>-0.406352</td>\n      <td>2.545644</td>\n    </tr>\n    <tr>\n      <th>PROCESSING_ACPS_JOINVILLE</th>\n      <td>PROCESSING_ACPS_JOINVILLE</td>\n      <td>0.395632</td>\n      <td>-17.414324</td>\n      <td>4.883096</td>\n      <td>5.502704</td>\n    </tr>\n    <tr>\n      <th>PROCESSING_ACPS_CAMPO GRANDE</th>\n      <td>PROCESSING_ACPS_CAMPO GRANDE</td>\n      <td>0.389388</td>\n      <td>-20.294242</td>\n      <td>6.272679</td>\n      <td>5.734434</td>\n    </tr>\n    <tr>\n      <th>PROCESSING_ACPS_JUNDIAI</th>\n      <td>PROCESSING_ACPS_JUNDIAI</td>\n      <td>0.352711</td>\n      <td>-20.711405</td>\n      <td>9.855359</td>\n      <td>10.582433</td>\n    </tr>\n    <tr>\n      <th>PROCESSING_ACPS_FEIRA DE SANTANA</th>\n      <td>PROCESSING_ACPS_FEIRA DE SANTANA</td>\n      <td>0.383161</td>\n      <td>-21.308274</td>\n      <td>6.665797</td>\n      <td>6.058681</td>\n    </tr>\n    <tr>\n      <th>PROCESSING_ACPS_IPATINGA</th>\n      <td>PROCESSING_ACPS_IPATINGA</td>\n      <td>0.377528</td>\n      <td>-21.810039</td>\n      <td>7.381466</td>\n      <td>7.418939</td>\n    </tr>\n    <tr>\n      <th>PROCESSING_ACPS_LONDRINA</th>\n      <td>PROCESSING_ACPS_LONDRINA</td>\n      <td>0.373643</td>\n      <td>-19.91283</td>\n      <td>7.886312</td>\n      <td>7.658797</td>\n    </tr>\n    <tr>\n      <th>PROCESSING_ACPS_SOROCABA</th>\n      <td>PROCESSING_ACPS_SOROCABA</td>\n      <td>0.380503</td>\n      <td>-20.695715</td>\n      <td>7.186026</td>\n      <td>6.925759</td>\n    </tr>\n    <tr>\n      <th>PROCESSING_ACPS_JOAO PESSOA</th>\n      <td>PROCESSING_ACPS_JOAO PESSOA</td>\n      <td>0.388019</td>\n      <td>-19.951862</td>\n      <td>6.375981</td>\n      <td>5.818511</td>\n    </tr>\n    <tr>\n      <th>PROCESSING_ACPS_SAO JOSE DO RIO PRETO</th>\n      <td>PROCESSING_ACPS_SAO JOSE DO RIO PRETO</td>\n      <td>0.350715</td>\n      <td>-22.236414</td>\n      <td>9.624226</td>\n      <td>10.034716</td>\n    </tr>\n    <tr>\n      <th>PROCESSING_ACPS_MACEIO</th>\n      <td>PROCESSING_ACPS_MACEIO</td>\n      <td>0.387755</td>\n      <td>-20.740398</td>\n      <td>6.254805</td>\n      <td>6.250353</td>\n    </tr>\n    <tr>\n      <th>PROCESSING_ACPS_SAO JOSE DOS CAMPOS</th>\n      <td>PROCESSING_ACPS_SAO JOSE DOS CAMPOS</td>\n      <td>0.380301</td>\n      <td>-20.093697</td>\n      <td>6.912156</td>\n      <td>6.433988</td>\n    </tr>\n    <tr>\n      <th>PROCESSING_ACPS_ILHEUS - ITABUNA</th>\n      <td>PROCESSING_ACPS_ILHEUS - ITABUNA</td>\n      <td>0.371136</td>\n      <td>-23.088341</td>\n      <td>8.297216</td>\n      <td>8.274034</td>\n    </tr>\n    <tr>\n      <th>PROCESSING_ACPS_SAO LUIS</th>\n      <td>PROCESSING_ACPS_SAO LUIS</td>\n      <td>0.364128</td>\n      <td>-21.767335</td>\n      <td>8.941502</td>\n      <td>8.155835</td>\n    </tr>\n    <tr>\n      <th>PROCESSING_ACPS_UBERLANDIA</th>\n      <td>PROCESSING_ACPS_UBERLANDIA</td>\n      <td>0.380582</td>\n      <td>-18.585129</td>\n      <td>6.988707</td>\n      <td>6.821689</td>\n    </tr>\n    <tr>\n      <th>PROCESSING_ACPS_MARINGA</th>\n      <td>PROCESSING_ACPS_MARINGA</td>\n      <td>0.385384</td>\n      <td>-19.387231</td>\n      <td>6.508113</td>\n      <td>6.838445</td>\n    </tr>\n    <tr>\n      <th>PROCESSING_ACPS_VITORIA</th>\n      <td>PROCESSING_ACPS_VITORIA</td>\n      <td>0.377225</td>\n      <td>-23.022734</td>\n      <td>7.673778</td>\n      <td>7.25961</td>\n    </tr>\n    <tr>\n      <th>PROCESSING_ACPS_CUIABA</th>\n      <td>PROCESSING_ACPS_CUIABA</td>\n      <td>0.380756</td>\n      <td>-21.923617</td>\n      <td>6.963243</td>\n      <td>6.72539</td>\n    </tr>\n    <tr>\n      <th>PROCESSING_ACPS_BELEM</th>\n      <td>PROCESSING_ACPS_BELEM</td>\n      <td>0.271236</td>\n      <td>-27.123575</td>\n      <td>17.335559</td>\n      <td>18.834414</td>\n    </tr>\n    <tr>\n      <th>PROCESSING_ACPS_NOVO HAMBURGO - SAO LEOPOLDO</th>\n      <td>PROCESSING_ACPS_NOVO HAMBURGO - SAO LEOPOLDO</td>\n      <td>0.377509</td>\n      <td>-22.360285</td>\n      <td>7.059532</td>\n      <td>7.280208</td>\n    </tr>\n    <tr>\n      <th>PROCESSING_ACPS_TERESINA</th>\n      <td>PROCESSING_ACPS_TERESINA</td>\n      <td>0.368549</td>\n      <td>-23.306069</td>\n      <td>8.219596</td>\n      <td>8.220507</td>\n    </tr>\n    <tr>\n      <th>PROCESSING_ACPS_MANAUS</th>\n      <td>PROCESSING_ACPS_MANAUS</td>\n      <td>0.378221</td>\n      <td>-21.566907</td>\n      <td>7.664026</td>\n      <td>7.289245</td>\n    </tr>\n    <tr>\n      <th>PROCESSING_ACPS_BRASILIA</th>\n      <td>PROCESSING_ACPS_BRASILIA</td>\n      <td>0.0</td>\n      <td>0.0</td>\n      <td>0.0</td>\n      <td>0.0</td>\n    </tr>\n  </tbody>\n</table>\n</div>"
     },
     "execution_count": 82,
     "metadata": {},
     "output_type": "execute_result"
    }
   ],
   "source": [
    "std_policy_acp\n"
   ],
   "metadata": {
    "collapsed": false,
    "pycharm": {
     "name": "#%%\n"
    }
   }
  }
 ],
 "metadata": {
  "kernelspec": {
   "display_name": "Python 3",
   "language": "python",
   "name": "python3"
  },
  "language_info": {
   "codemirror_mode": {
    "name": "ipython",
    "version": 2
   },
   "file_extension": ".py",
   "mimetype": "text/x-python",
   "name": "python",
   "nbconvert_exporter": "python",
   "pygments_lexer": "ipython2",
   "version": "2.7.6"
  }
 },
 "nbformat": 4,
 "nbformat_minor": 0
}