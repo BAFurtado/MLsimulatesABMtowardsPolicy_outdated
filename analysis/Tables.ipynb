{
 "cells": [
  {
   "cell_type": "code",
   "execution_count": 36,
   "metadata": {
    "collapsed": true
   },
   "outputs": [],
   "source": [
    "import pandas as pd\n",
    "import numpy as np\n",
    "import groups_cols\n",
    "from matplotlib import pyplot as plt\n",
    "tables = {}"
   ]
  },
  {
   "cell_type": "markdown",
   "source": [
    "# Mean and std tables"
   ],
   "metadata": {
    "collapsed": false
   }
  },
  {
   "cell_type": "code",
   "execution_count": 37,
   "outputs": [],
   "source": [
    "iqr = pd.read_csv('IQR.csv', sep=';')"
   ],
   "metadata": {
    "collapsed": false,
    "pycharm": {
     "name": "#%%\n"
    }
   }
  },
  {
   "cell_type": "code",
   "execution_count": 38,
   "outputs": [
    {
     "data": {
      "text/plain": "   Unnamed: 0                             ACP                 pol   q3   q1  \\\n0           0                             all        POLICIES_buy  0.0  0.0   \n1           1                             all       POLICIES_rent  1.0  0.0   \n2           2                             all       POLICIES_wage  1.0  0.0   \n3           3                             all  POLICIES_no_policy  0.0  0.0   \n4           4  PROCESSING_ACPS_BELO HORIZONTE        POLICIES_buy  0.0  0.0   \n\n   median  IQR      mean       std     count  \n0     0.0  0.0  0.036194  0.186773  250592.0  \n1     0.0  1.0  0.310333  0.462630  250070.0  \n2     0.0  1.0  0.329212  0.469927  250015.0  \n3     0.0  0.0  0.178652  0.383060  249323.0  \n4     0.0  0.0  0.094223  0.292138    5487.0  ",
      "text/html": "<div>\n<style scoped>\n    .dataframe tbody tr th:only-of-type {\n        vertical-align: middle;\n    }\n\n    .dataframe tbody tr th {\n        vertical-align: top;\n    }\n\n    .dataframe thead th {\n        text-align: right;\n    }\n</style>\n<table border=\"1\" class=\"dataframe\">\n  <thead>\n    <tr style=\"text-align: right;\">\n      <th></th>\n      <th>Unnamed: 0</th>\n      <th>ACP</th>\n      <th>pol</th>\n      <th>q3</th>\n      <th>q1</th>\n      <th>median</th>\n      <th>IQR</th>\n      <th>mean</th>\n      <th>std</th>\n      <th>count</th>\n    </tr>\n  </thead>\n  <tbody>\n    <tr>\n      <th>0</th>\n      <td>0</td>\n      <td>all</td>\n      <td>POLICIES_buy</td>\n      <td>0.0</td>\n      <td>0.0</td>\n      <td>0.0</td>\n      <td>0.0</td>\n      <td>0.036194</td>\n      <td>0.186773</td>\n      <td>250592.0</td>\n    </tr>\n    <tr>\n      <th>1</th>\n      <td>1</td>\n      <td>all</td>\n      <td>POLICIES_rent</td>\n      <td>1.0</td>\n      <td>0.0</td>\n      <td>0.0</td>\n      <td>1.0</td>\n      <td>0.310333</td>\n      <td>0.462630</td>\n      <td>250070.0</td>\n    </tr>\n    <tr>\n      <th>2</th>\n      <td>2</td>\n      <td>all</td>\n      <td>POLICIES_wage</td>\n      <td>1.0</td>\n      <td>0.0</td>\n      <td>0.0</td>\n      <td>1.0</td>\n      <td>0.329212</td>\n      <td>0.469927</td>\n      <td>250015.0</td>\n    </tr>\n    <tr>\n      <th>3</th>\n      <td>3</td>\n      <td>all</td>\n      <td>POLICIES_no_policy</td>\n      <td>0.0</td>\n      <td>0.0</td>\n      <td>0.0</td>\n      <td>0.0</td>\n      <td>0.178652</td>\n      <td>0.383060</td>\n      <td>249323.0</td>\n    </tr>\n    <tr>\n      <th>4</th>\n      <td>4</td>\n      <td>PROCESSING_ACPS_BELO HORIZONTE</td>\n      <td>POLICIES_buy</td>\n      <td>0.0</td>\n      <td>0.0</td>\n      <td>0.0</td>\n      <td>0.0</td>\n      <td>0.094223</td>\n      <td>0.292138</td>\n      <td>5487.0</td>\n    </tr>\n  </tbody>\n</table>\n</div>"
     },
     "execution_count": 38,
     "metadata": {},
     "output_type": "execute_result"
    }
   ],
   "source": [
    "iqr.head()"
   ],
   "metadata": {
    "collapsed": false,
    "pycharm": {
     "name": "#%%\n"
    }
   }
  },
  {
   "cell_type": "code",
   "execution_count": 39,
   "outputs": [
    {
     "data": {
      "text/plain": "0.0361942919167411"
     },
     "execution_count": 39,
     "metadata": {},
     "output_type": "execute_result"
    }
   ],
   "source": [
    "iqr.loc[(iqr['ACP'] == 'all') & (iqr['pol'] == 'POLICIES_buy')]['mean'].values[0]"
   ],
   "metadata": {
    "collapsed": false,
    "pycharm": {
     "name": "#%%\n"
    }
   }
  },
  {
   "cell_type": "code",
   "execution_count": 40,
   "outputs": [],
   "source": [
    "mean_policy_acp = pd.DataFrame(columns=[['MR', 'No policy', 'Buy', 'Rent', 'Wage']])\n",
    "std_policy_acp = mean_policy_acp.copy()\n",
    "acps = ['all'] + groups_cols.abm_dummies['acps']\n",
    "\n",
    "for acp in acps:\n",
    "    row_mean = [acp]\n",
    "    row_std = row_mean.copy()\n",
    "    for policy in ['POLICIES_no_policy','POLICIES_buy', 'POLICIES_rent', 'POLICIES_wage']:\n",
    "        dataframe_mean = iqr.loc[(iqr['ACP'] == acp) & (iqr['pol'] == policy)]['mean'].values[0]\n",
    "        dataframe_std = iqr.loc[(iqr['ACP'] == acp) & (iqr['pol'] == policy)]['std'].values[0]\n",
    "        if policy == 'POLICIES_no_policy':\n",
    "            mean = dataframe_mean.round(decimals=4)*100\n",
    "            std = dataframe_std.round(decimals=4)*100\n",
    "        else:\n",
    "            mean = (dataframe_mean.round(decimals=4)*100-row_mean[1])\n",
    "            std = (dataframe_std.round(decimals=4)*100-row_std[1])\n",
    "        row_mean.append(mean)\n",
    "        row_std.append(std)\n",
    "    mean_policy_acp.at[acp] = row_mean\n",
    "    std_policy_acp.at[acp] = row_std\n",
    "\n",
    "for df in [mean_policy_acp, std_policy_acp]:\n",
    "    df.reset_index(drop=True, inplace=True)\n",
    "    df.sort_values(ascending=False, by=('No policy',), inplace=True)\n",
    "    df.replace({('MR',): groups_cols.abm_dummies_show})\n",
    "\n",
    "mean_policy_acp = mean_policy_acp.replace({('MR',): groups_cols.abm_dummies_show})\n",
    "std_policy_acp = std_policy_acp.replace({('MR',): groups_cols.abm_dummies_show})"
   ],
   "metadata": {
    "collapsed": false,
    "pycharm": {
     "name": "#%%\n"
    }
   }
  },
  {
   "cell_type": "code",
   "execution_count": 41,
   "outputs": [
    {
     "data": {
      "text/plain": "                    MR No policy    Buy   Rent   Wage\n1       Belo Horizonte     100.0 -90.58    0.0    0.0\n7            São Paulo     29.84  -1.14   -0.9   7.23\n44      Rio de Janeiro     27.38  -0.12   1.11   1.33\n8            Joinville     19.43 -14.26   7.67   8.91\n9         Campo Grande     18.63 -15.02  10.02   8.91\n41             Pelotas     18.58 -15.81  10.24  10.71\n15         João Pessoa     18.47 -14.78  10.11   8.97\n17              Maceio     18.43 -15.06   9.84   9.83\n22             Maringá     18.14 -14.33  10.16  10.86\n42  Petrolina-Juazeiro     18.11 -13.97   9.16   9.25\n34               Crato     17.92 -15.45   9.81  10.55\n11    Feira de Santana     17.88  -14.9  10.29   9.08\n0                  all     17.87 -14.25  13.16  15.05\n24              Cuiabá     17.59 -14.91   10.7  10.21\n21          Uberlandia     17.57 -13.62  10.73  10.39\n14            Sorocaba     17.56 -14.45  11.14   10.6\n18                 SJC     17.54 -14.21  10.55   9.59\n28              Manaus      17.3 -14.58  11.94  11.14\n46       Volta Redonda     17.23 -14.12   9.72  11.38\n12            Ipatinga     17.22 -14.61  11.26  11.34\n26               NH-SL     17.21 -14.78  10.61  11.06\n23             Vitória     17.18 -14.97  11.86  10.99\n6               Recife     17.02 -14.62  11.65  10.69\n31      Campina Grande     16.96 -14.73  12.92  11.15\n13            Londrina     16.77 -13.63  11.96  11.48\n40               Natal     16.62 -14.53  10.81  11.59\n36       Florianópolis      16.5 -13.53  12.25  11.57\n19      Ilheus-Itabuna      16.5 -14.49  12.57  12.52\n38        Juiz de Fora      16.4 -12.68  11.81   10.9\n27            Teresina     16.21 -14.34  12.15  12.15\n39              Macapá     16.15 -13.75  11.67  12.36\n43      Ribeirão Preto     16.08 -14.28   12.2  12.16\n30             Aracaju     15.87 -13.97  11.93  11.73\n37             Goiânia     15.86 -14.32  13.58  12.45\n32              Campos     15.83 -13.76  13.06  11.73\n20            Sao Luis     15.73 -13.54  13.22  11.61\n33       Caxias do Sul     15.71 -13.06  13.46  11.89\n5             Salvador     15.04 -14.01  13.83  13.62\n45              Santos     14.67 -13.48   13.2  13.62\n10             Jundiai     14.56 -12.39  13.91   15.5\n16                SJRP     14.36 -12.68  13.23  14.07\n2            Fortaleza     13.99 -12.79  14.26  13.88\n35            Curitiba     12.37  -12.3  71.55  79.85\n25               Belém       8.0   -8.0  19.12  61.69\n3         Porto Alegre      4.62  -4.47   13.5  14.24\n4             Campinas      0.94  -0.94  63.56  97.53\n29            Brasília       0.0    0.0    0.0    0.0",
      "text/html": "<div>\n<style scoped>\n    .dataframe tbody tr th:only-of-type {\n        vertical-align: middle;\n    }\n\n    .dataframe tbody tr th {\n        vertical-align: top;\n    }\n\n    .dataframe thead tr th {\n        text-align: left;\n    }\n</style>\n<table border=\"1\" class=\"dataframe\">\n  <thead>\n    <tr>\n      <th></th>\n      <th>MR</th>\n      <th>No policy</th>\n      <th>Buy</th>\n      <th>Rent</th>\n      <th>Wage</th>\n    </tr>\n  </thead>\n  <tbody>\n    <tr>\n      <th>1</th>\n      <td>Belo Horizonte</td>\n      <td>100.0</td>\n      <td>-90.58</td>\n      <td>0.0</td>\n      <td>0.0</td>\n    </tr>\n    <tr>\n      <th>7</th>\n      <td>São Paulo</td>\n      <td>29.84</td>\n      <td>-1.14</td>\n      <td>-0.9</td>\n      <td>7.23</td>\n    </tr>\n    <tr>\n      <th>44</th>\n      <td>Rio de Janeiro</td>\n      <td>27.38</td>\n      <td>-0.12</td>\n      <td>1.11</td>\n      <td>1.33</td>\n    </tr>\n    <tr>\n      <th>8</th>\n      <td>Joinville</td>\n      <td>19.43</td>\n      <td>-14.26</td>\n      <td>7.67</td>\n      <td>8.91</td>\n    </tr>\n    <tr>\n      <th>9</th>\n      <td>Campo Grande</td>\n      <td>18.63</td>\n      <td>-15.02</td>\n      <td>10.02</td>\n      <td>8.91</td>\n    </tr>\n    <tr>\n      <th>41</th>\n      <td>Pelotas</td>\n      <td>18.58</td>\n      <td>-15.81</td>\n      <td>10.24</td>\n      <td>10.71</td>\n    </tr>\n    <tr>\n      <th>15</th>\n      <td>João Pessoa</td>\n      <td>18.47</td>\n      <td>-14.78</td>\n      <td>10.11</td>\n      <td>8.97</td>\n    </tr>\n    <tr>\n      <th>17</th>\n      <td>Maceio</td>\n      <td>18.43</td>\n      <td>-15.06</td>\n      <td>9.84</td>\n      <td>9.83</td>\n    </tr>\n    <tr>\n      <th>22</th>\n      <td>Maringá</td>\n      <td>18.14</td>\n      <td>-14.33</td>\n      <td>10.16</td>\n      <td>10.86</td>\n    </tr>\n    <tr>\n      <th>42</th>\n      <td>Petrolina-Juazeiro</td>\n      <td>18.11</td>\n      <td>-13.97</td>\n      <td>9.16</td>\n      <td>9.25</td>\n    </tr>\n    <tr>\n      <th>34</th>\n      <td>Crato</td>\n      <td>17.92</td>\n      <td>-15.45</td>\n      <td>9.81</td>\n      <td>10.55</td>\n    </tr>\n    <tr>\n      <th>11</th>\n      <td>Feira de Santana</td>\n      <td>17.88</td>\n      <td>-14.9</td>\n      <td>10.29</td>\n      <td>9.08</td>\n    </tr>\n    <tr>\n      <th>0</th>\n      <td>all</td>\n      <td>17.87</td>\n      <td>-14.25</td>\n      <td>13.16</td>\n      <td>15.05</td>\n    </tr>\n    <tr>\n      <th>24</th>\n      <td>Cuiabá</td>\n      <td>17.59</td>\n      <td>-14.91</td>\n      <td>10.7</td>\n      <td>10.21</td>\n    </tr>\n    <tr>\n      <th>21</th>\n      <td>Uberlandia</td>\n      <td>17.57</td>\n      <td>-13.62</td>\n      <td>10.73</td>\n      <td>10.39</td>\n    </tr>\n    <tr>\n      <th>14</th>\n      <td>Sorocaba</td>\n      <td>17.56</td>\n      <td>-14.45</td>\n      <td>11.14</td>\n      <td>10.6</td>\n    </tr>\n    <tr>\n      <th>18</th>\n      <td>SJC</td>\n      <td>17.54</td>\n      <td>-14.21</td>\n      <td>10.55</td>\n      <td>9.59</td>\n    </tr>\n    <tr>\n      <th>28</th>\n      <td>Manaus</td>\n      <td>17.3</td>\n      <td>-14.58</td>\n      <td>11.94</td>\n      <td>11.14</td>\n    </tr>\n    <tr>\n      <th>46</th>\n      <td>Volta Redonda</td>\n      <td>17.23</td>\n      <td>-14.12</td>\n      <td>9.72</td>\n      <td>11.38</td>\n    </tr>\n    <tr>\n      <th>12</th>\n      <td>Ipatinga</td>\n      <td>17.22</td>\n      <td>-14.61</td>\n      <td>11.26</td>\n      <td>11.34</td>\n    </tr>\n    <tr>\n      <th>26</th>\n      <td>NH-SL</td>\n      <td>17.21</td>\n      <td>-14.78</td>\n      <td>10.61</td>\n      <td>11.06</td>\n    </tr>\n    <tr>\n      <th>23</th>\n      <td>Vitória</td>\n      <td>17.18</td>\n      <td>-14.97</td>\n      <td>11.86</td>\n      <td>10.99</td>\n    </tr>\n    <tr>\n      <th>6</th>\n      <td>Recife</td>\n      <td>17.02</td>\n      <td>-14.62</td>\n      <td>11.65</td>\n      <td>10.69</td>\n    </tr>\n    <tr>\n      <th>31</th>\n      <td>Campina Grande</td>\n      <td>16.96</td>\n      <td>-14.73</td>\n      <td>12.92</td>\n      <td>11.15</td>\n    </tr>\n    <tr>\n      <th>13</th>\n      <td>Londrina</td>\n      <td>16.77</td>\n      <td>-13.63</td>\n      <td>11.96</td>\n      <td>11.48</td>\n    </tr>\n    <tr>\n      <th>40</th>\n      <td>Natal</td>\n      <td>16.62</td>\n      <td>-14.53</td>\n      <td>10.81</td>\n      <td>11.59</td>\n    </tr>\n    <tr>\n      <th>36</th>\n      <td>Florianópolis</td>\n      <td>16.5</td>\n      <td>-13.53</td>\n      <td>12.25</td>\n      <td>11.57</td>\n    </tr>\n    <tr>\n      <th>19</th>\n      <td>Ilheus-Itabuna</td>\n      <td>16.5</td>\n      <td>-14.49</td>\n      <td>12.57</td>\n      <td>12.52</td>\n    </tr>\n    <tr>\n      <th>38</th>\n      <td>Juiz de Fora</td>\n      <td>16.4</td>\n      <td>-12.68</td>\n      <td>11.81</td>\n      <td>10.9</td>\n    </tr>\n    <tr>\n      <th>27</th>\n      <td>Teresina</td>\n      <td>16.21</td>\n      <td>-14.34</td>\n      <td>12.15</td>\n      <td>12.15</td>\n    </tr>\n    <tr>\n      <th>39</th>\n      <td>Macapá</td>\n      <td>16.15</td>\n      <td>-13.75</td>\n      <td>11.67</td>\n      <td>12.36</td>\n    </tr>\n    <tr>\n      <th>43</th>\n      <td>Ribeirão Preto</td>\n      <td>16.08</td>\n      <td>-14.28</td>\n      <td>12.2</td>\n      <td>12.16</td>\n    </tr>\n    <tr>\n      <th>30</th>\n      <td>Aracaju</td>\n      <td>15.87</td>\n      <td>-13.97</td>\n      <td>11.93</td>\n      <td>11.73</td>\n    </tr>\n    <tr>\n      <th>37</th>\n      <td>Goiânia</td>\n      <td>15.86</td>\n      <td>-14.32</td>\n      <td>13.58</td>\n      <td>12.45</td>\n    </tr>\n    <tr>\n      <th>32</th>\n      <td>Campos</td>\n      <td>15.83</td>\n      <td>-13.76</td>\n      <td>13.06</td>\n      <td>11.73</td>\n    </tr>\n    <tr>\n      <th>20</th>\n      <td>Sao Luis</td>\n      <td>15.73</td>\n      <td>-13.54</td>\n      <td>13.22</td>\n      <td>11.61</td>\n    </tr>\n    <tr>\n      <th>33</th>\n      <td>Caxias do Sul</td>\n      <td>15.71</td>\n      <td>-13.06</td>\n      <td>13.46</td>\n      <td>11.89</td>\n    </tr>\n    <tr>\n      <th>5</th>\n      <td>Salvador</td>\n      <td>15.04</td>\n      <td>-14.01</td>\n      <td>13.83</td>\n      <td>13.62</td>\n    </tr>\n    <tr>\n      <th>45</th>\n      <td>Santos</td>\n      <td>14.67</td>\n      <td>-13.48</td>\n      <td>13.2</td>\n      <td>13.62</td>\n    </tr>\n    <tr>\n      <th>10</th>\n      <td>Jundiai</td>\n      <td>14.56</td>\n      <td>-12.39</td>\n      <td>13.91</td>\n      <td>15.5</td>\n    </tr>\n    <tr>\n      <th>16</th>\n      <td>SJRP</td>\n      <td>14.36</td>\n      <td>-12.68</td>\n      <td>13.23</td>\n      <td>14.07</td>\n    </tr>\n    <tr>\n      <th>2</th>\n      <td>Fortaleza</td>\n      <td>13.99</td>\n      <td>-12.79</td>\n      <td>14.26</td>\n      <td>13.88</td>\n    </tr>\n    <tr>\n      <th>35</th>\n      <td>Curitiba</td>\n      <td>12.37</td>\n      <td>-12.3</td>\n      <td>71.55</td>\n      <td>79.85</td>\n    </tr>\n    <tr>\n      <th>25</th>\n      <td>Belém</td>\n      <td>8.0</td>\n      <td>-8.0</td>\n      <td>19.12</td>\n      <td>61.69</td>\n    </tr>\n    <tr>\n      <th>3</th>\n      <td>Porto Alegre</td>\n      <td>4.62</td>\n      <td>-4.47</td>\n      <td>13.5</td>\n      <td>14.24</td>\n    </tr>\n    <tr>\n      <th>4</th>\n      <td>Campinas</td>\n      <td>0.94</td>\n      <td>-0.94</td>\n      <td>63.56</td>\n      <td>97.53</td>\n    </tr>\n    <tr>\n      <th>29</th>\n      <td>Brasília</td>\n      <td>0.0</td>\n      <td>0.0</td>\n      <td>0.0</td>\n      <td>0.0</td>\n    </tr>\n  </tbody>\n</table>\n</div>"
     },
     "execution_count": 41,
     "metadata": {},
     "output_type": "execute_result"
    }
   ],
   "source": [
    "mean_policy_acp"
   ],
   "metadata": {
    "collapsed": false,
    "pycharm": {
     "name": "#%%\n"
    }
   }
  },
  {
   "cell_type": "code",
   "execution_count": 42,
   "outputs": [
    {
     "data": {
      "text/plain": "                    MR No policy    Buy   Rent   Wage\n7            São Paulo     45.75  -0.51   -0.4   2.55\n44      Rio de Janeiro     44.59  -0.06   0.55   0.65\n8            Joinville     39.56 -17.41   4.89   5.51\n9         Campo Grande     38.94  -20.3   6.27   5.73\n41             Pelotas      38.9 -22.48   6.39   6.61\n15         João Pessoa      38.8 -19.95   6.38   5.82\n17              Maceio     38.78 -20.74   6.25   6.25\n22             Maringá     38.54 -19.39   6.51   6.84\n42  Petrolina-Juazeiro     38.51 -18.59   6.02   6.07\n34               Crato     38.35 -22.82   6.42   6.78\n11    Feira de Santana     38.32 -21.31   6.66   6.05\n0                  all     38.31 -19.63   7.95   8.68\n24              Cuiabá     38.08 -21.93   6.96   6.72\n21          Uberlandia     38.06 -18.59   6.99   6.82\n14            Sorocaba     38.05  -20.7   7.19   6.93\n18                 SJC     38.03 -20.09   6.91   6.43\n28              Manaus     37.82 -21.56   7.67   7.29\n46       Volta Redonda     37.77 -20.41    6.6   7.42\n12            Ipatinga     37.75 -21.81   7.38   7.42\n26               NH-SL     37.75 -22.36   7.06   7.28\n23             Vitória     37.72 -23.02   7.68   7.26\n6               Recife     37.58 -22.28   7.64   7.18\n31      Campina Grande     37.53 -22.75   8.24   7.42\n13            Londrina     37.36 -19.91   7.89   7.66\n40               Natal     37.23 -22.91   7.39   7.77\n36       Florianópolis     37.12 -20.15   8.14   7.81\n19      Ilheus-Itabuna     37.11 -23.08    8.3   8.28\n38        Juiz de Fora     37.03 -18.12   7.97   7.52\n27            Teresina     36.85  -23.3   8.22   8.23\n39              Macapá      36.8 -21.49   8.01   8.35\n43      Ribeirão Preto     36.74 -23.44   8.29   8.28\n30             Aracaju     36.54 -22.87   8.26   8.16\n37             Goiânia     36.53  -24.2   9.05   8.52\n32              Campos      36.5 -22.25   8.82   8.18\n20            Sao Luis     36.41 -21.76   8.94   8.16\n33       Caxias do Sul     36.39 -20.32   9.06   8.31\n5             Salvador     35.75 -25.64   9.57   9.47\n45              Santos     35.38 -24.54   9.45   9.66\n10             Jundiai     35.27 -20.71   9.86  10.58\n16                SJRP     35.07 -22.23   9.63  10.04\n2            Fortaleza     34.69  -23.8  10.33  10.15\n35            Curitiba     32.92 -30.22   3.81  -6.13\n25               Belém     27.12 -27.12  17.34  18.84\n3         Porto Alegre     20.99 -17.11  17.53  18.13\n4             Campinas      9.63  -9.63  38.22   2.64\n29            Brasília       0.0    0.0    0.0    0.0\n1       Belo Horizonte       0.0  29.21    0.0    0.0",
      "text/html": "<div>\n<style scoped>\n    .dataframe tbody tr th:only-of-type {\n        vertical-align: middle;\n    }\n\n    .dataframe tbody tr th {\n        vertical-align: top;\n    }\n\n    .dataframe thead tr th {\n        text-align: left;\n    }\n</style>\n<table border=\"1\" class=\"dataframe\">\n  <thead>\n    <tr>\n      <th></th>\n      <th>MR</th>\n      <th>No policy</th>\n      <th>Buy</th>\n      <th>Rent</th>\n      <th>Wage</th>\n    </tr>\n  </thead>\n  <tbody>\n    <tr>\n      <th>7</th>\n      <td>São Paulo</td>\n      <td>45.75</td>\n      <td>-0.51</td>\n      <td>-0.4</td>\n      <td>2.55</td>\n    </tr>\n    <tr>\n      <th>44</th>\n      <td>Rio de Janeiro</td>\n      <td>44.59</td>\n      <td>-0.06</td>\n      <td>0.55</td>\n      <td>0.65</td>\n    </tr>\n    <tr>\n      <th>8</th>\n      <td>Joinville</td>\n      <td>39.56</td>\n      <td>-17.41</td>\n      <td>4.89</td>\n      <td>5.51</td>\n    </tr>\n    <tr>\n      <th>9</th>\n      <td>Campo Grande</td>\n      <td>38.94</td>\n      <td>-20.3</td>\n      <td>6.27</td>\n      <td>5.73</td>\n    </tr>\n    <tr>\n      <th>41</th>\n      <td>Pelotas</td>\n      <td>38.9</td>\n      <td>-22.48</td>\n      <td>6.39</td>\n      <td>6.61</td>\n    </tr>\n    <tr>\n      <th>15</th>\n      <td>João Pessoa</td>\n      <td>38.8</td>\n      <td>-19.95</td>\n      <td>6.38</td>\n      <td>5.82</td>\n    </tr>\n    <tr>\n      <th>17</th>\n      <td>Maceio</td>\n      <td>38.78</td>\n      <td>-20.74</td>\n      <td>6.25</td>\n      <td>6.25</td>\n    </tr>\n    <tr>\n      <th>22</th>\n      <td>Maringá</td>\n      <td>38.54</td>\n      <td>-19.39</td>\n      <td>6.51</td>\n      <td>6.84</td>\n    </tr>\n    <tr>\n      <th>42</th>\n      <td>Petrolina-Juazeiro</td>\n      <td>38.51</td>\n      <td>-18.59</td>\n      <td>6.02</td>\n      <td>6.07</td>\n    </tr>\n    <tr>\n      <th>34</th>\n      <td>Crato</td>\n      <td>38.35</td>\n      <td>-22.82</td>\n      <td>6.42</td>\n      <td>6.78</td>\n    </tr>\n    <tr>\n      <th>11</th>\n      <td>Feira de Santana</td>\n      <td>38.32</td>\n      <td>-21.31</td>\n      <td>6.66</td>\n      <td>6.05</td>\n    </tr>\n    <tr>\n      <th>0</th>\n      <td>all</td>\n      <td>38.31</td>\n      <td>-19.63</td>\n      <td>7.95</td>\n      <td>8.68</td>\n    </tr>\n    <tr>\n      <th>24</th>\n      <td>Cuiabá</td>\n      <td>38.08</td>\n      <td>-21.93</td>\n      <td>6.96</td>\n      <td>6.72</td>\n    </tr>\n    <tr>\n      <th>21</th>\n      <td>Uberlandia</td>\n      <td>38.06</td>\n      <td>-18.59</td>\n      <td>6.99</td>\n      <td>6.82</td>\n    </tr>\n    <tr>\n      <th>14</th>\n      <td>Sorocaba</td>\n      <td>38.05</td>\n      <td>-20.7</td>\n      <td>7.19</td>\n      <td>6.93</td>\n    </tr>\n    <tr>\n      <th>18</th>\n      <td>SJC</td>\n      <td>38.03</td>\n      <td>-20.09</td>\n      <td>6.91</td>\n      <td>6.43</td>\n    </tr>\n    <tr>\n      <th>28</th>\n      <td>Manaus</td>\n      <td>37.82</td>\n      <td>-21.56</td>\n      <td>7.67</td>\n      <td>7.29</td>\n    </tr>\n    <tr>\n      <th>46</th>\n      <td>Volta Redonda</td>\n      <td>37.77</td>\n      <td>-20.41</td>\n      <td>6.6</td>\n      <td>7.42</td>\n    </tr>\n    <tr>\n      <th>12</th>\n      <td>Ipatinga</td>\n      <td>37.75</td>\n      <td>-21.81</td>\n      <td>7.38</td>\n      <td>7.42</td>\n    </tr>\n    <tr>\n      <th>26</th>\n      <td>NH-SL</td>\n      <td>37.75</td>\n      <td>-22.36</td>\n      <td>7.06</td>\n      <td>7.28</td>\n    </tr>\n    <tr>\n      <th>23</th>\n      <td>Vitória</td>\n      <td>37.72</td>\n      <td>-23.02</td>\n      <td>7.68</td>\n      <td>7.26</td>\n    </tr>\n    <tr>\n      <th>6</th>\n      <td>Recife</td>\n      <td>37.58</td>\n      <td>-22.28</td>\n      <td>7.64</td>\n      <td>7.18</td>\n    </tr>\n    <tr>\n      <th>31</th>\n      <td>Campina Grande</td>\n      <td>37.53</td>\n      <td>-22.75</td>\n      <td>8.24</td>\n      <td>7.42</td>\n    </tr>\n    <tr>\n      <th>13</th>\n      <td>Londrina</td>\n      <td>37.36</td>\n      <td>-19.91</td>\n      <td>7.89</td>\n      <td>7.66</td>\n    </tr>\n    <tr>\n      <th>40</th>\n      <td>Natal</td>\n      <td>37.23</td>\n      <td>-22.91</td>\n      <td>7.39</td>\n      <td>7.77</td>\n    </tr>\n    <tr>\n      <th>36</th>\n      <td>Florianópolis</td>\n      <td>37.12</td>\n      <td>-20.15</td>\n      <td>8.14</td>\n      <td>7.81</td>\n    </tr>\n    <tr>\n      <th>19</th>\n      <td>Ilheus-Itabuna</td>\n      <td>37.11</td>\n      <td>-23.08</td>\n      <td>8.3</td>\n      <td>8.28</td>\n    </tr>\n    <tr>\n      <th>38</th>\n      <td>Juiz de Fora</td>\n      <td>37.03</td>\n      <td>-18.12</td>\n      <td>7.97</td>\n      <td>7.52</td>\n    </tr>\n    <tr>\n      <th>27</th>\n      <td>Teresina</td>\n      <td>36.85</td>\n      <td>-23.3</td>\n      <td>8.22</td>\n      <td>8.23</td>\n    </tr>\n    <tr>\n      <th>39</th>\n      <td>Macapá</td>\n      <td>36.8</td>\n      <td>-21.49</td>\n      <td>8.01</td>\n      <td>8.35</td>\n    </tr>\n    <tr>\n      <th>43</th>\n      <td>Ribeirão Preto</td>\n      <td>36.74</td>\n      <td>-23.44</td>\n      <td>8.29</td>\n      <td>8.28</td>\n    </tr>\n    <tr>\n      <th>30</th>\n      <td>Aracaju</td>\n      <td>36.54</td>\n      <td>-22.87</td>\n      <td>8.26</td>\n      <td>8.16</td>\n    </tr>\n    <tr>\n      <th>37</th>\n      <td>Goiânia</td>\n      <td>36.53</td>\n      <td>-24.2</td>\n      <td>9.05</td>\n      <td>8.52</td>\n    </tr>\n    <tr>\n      <th>32</th>\n      <td>Campos</td>\n      <td>36.5</td>\n      <td>-22.25</td>\n      <td>8.82</td>\n      <td>8.18</td>\n    </tr>\n    <tr>\n      <th>20</th>\n      <td>Sao Luis</td>\n      <td>36.41</td>\n      <td>-21.76</td>\n      <td>8.94</td>\n      <td>8.16</td>\n    </tr>\n    <tr>\n      <th>33</th>\n      <td>Caxias do Sul</td>\n      <td>36.39</td>\n      <td>-20.32</td>\n      <td>9.06</td>\n      <td>8.31</td>\n    </tr>\n    <tr>\n      <th>5</th>\n      <td>Salvador</td>\n      <td>35.75</td>\n      <td>-25.64</td>\n      <td>9.57</td>\n      <td>9.47</td>\n    </tr>\n    <tr>\n      <th>45</th>\n      <td>Santos</td>\n      <td>35.38</td>\n      <td>-24.54</td>\n      <td>9.45</td>\n      <td>9.66</td>\n    </tr>\n    <tr>\n      <th>10</th>\n      <td>Jundiai</td>\n      <td>35.27</td>\n      <td>-20.71</td>\n      <td>9.86</td>\n      <td>10.58</td>\n    </tr>\n    <tr>\n      <th>16</th>\n      <td>SJRP</td>\n      <td>35.07</td>\n      <td>-22.23</td>\n      <td>9.63</td>\n      <td>10.04</td>\n    </tr>\n    <tr>\n      <th>2</th>\n      <td>Fortaleza</td>\n      <td>34.69</td>\n      <td>-23.8</td>\n      <td>10.33</td>\n      <td>10.15</td>\n    </tr>\n    <tr>\n      <th>35</th>\n      <td>Curitiba</td>\n      <td>32.92</td>\n      <td>-30.22</td>\n      <td>3.81</td>\n      <td>-6.13</td>\n    </tr>\n    <tr>\n      <th>25</th>\n      <td>Belém</td>\n      <td>27.12</td>\n      <td>-27.12</td>\n      <td>17.34</td>\n      <td>18.84</td>\n    </tr>\n    <tr>\n      <th>3</th>\n      <td>Porto Alegre</td>\n      <td>20.99</td>\n      <td>-17.11</td>\n      <td>17.53</td>\n      <td>18.13</td>\n    </tr>\n    <tr>\n      <th>4</th>\n      <td>Campinas</td>\n      <td>9.63</td>\n      <td>-9.63</td>\n      <td>38.22</td>\n      <td>2.64</td>\n    </tr>\n    <tr>\n      <th>29</th>\n      <td>Brasília</td>\n      <td>0.0</td>\n      <td>0.0</td>\n      <td>0.0</td>\n      <td>0.0</td>\n    </tr>\n    <tr>\n      <th>1</th>\n      <td>Belo Horizonte</td>\n      <td>0.0</td>\n      <td>29.21</td>\n      <td>0.0</td>\n      <td>0.0</td>\n    </tr>\n  </tbody>\n</table>\n</div>"
     },
     "execution_count": 42,
     "metadata": {},
     "output_type": "execute_result"
    }
   ],
   "source": [
    "std_policy_acp"
   ],
   "metadata": {
    "collapsed": false,
    "pycharm": {
     "name": "#%%\n"
    }
   }
  },
  {
   "cell_type": "markdown",
   "source": [
    "### No policy is in absolute value (%) and all other columns are in percentage points of difference to the No policy case. NH-SL: Novo Hamburgo/Sao Leopoldo, SJRP: Sao Jose do Rio Preto, SJC: Sao Jose dos Campos"
   ],
   "metadata": {
    "collapsed": false
   }
  },
  {
   "cell_type": "markdown",
   "source": [
    "# Differences in dummies"
   ],
   "metadata": {
    "collapsed": false
   }
  },
  {
   "cell_type": "code",
   "execution_count": 43,
   "outputs": [],
   "source": [
    "current = pd.read_csv('../pre_processed_data/counting_Current.csv', sep=';').round(decimals=4)\n",
    "current.replace({'Unnamed: 0': groups_cols.abm_dummies_show}, inplace=True)"
   ],
   "metadata": {
    "collapsed": false,
    "pycharm": {
     "name": "#%%\n"
    }
   }
  },
  {
   "cell_type": "code",
   "execution_count": 44,
   "outputs": [
    {
     "data": {
      "text/plain": "             Unnamed: 0    size  optimal  non-optimal\n0           Policy: buy  0.1219   0.0259       0.9741\n1          Policy: rent  0.1219   0.1037       0.8963\n2          Policy: wage  0.1219   0.1393       0.8607\n3          Policy: none  0.6343   0.0391       0.9609\n4       Interest: fixed  0.0019   0.0000       1.0000\n..                  ...     ...      ...          ...\n57            Jan. 2010  0.9924   0.0580       0.9420\n58           FPM: False  0.0038   0.0000       1.0000\n59            FPM: True  0.9962   0.0578       0.9422\n60  Alternative0: False  0.0038   0.0000       1.0000\n61   Alternative0: True  0.9962   0.0578       0.9422\n\n[62 rows x 4 columns]",
      "text/html": "<div>\n<style scoped>\n    .dataframe tbody tr th:only-of-type {\n        vertical-align: middle;\n    }\n\n    .dataframe tbody tr th {\n        vertical-align: top;\n    }\n\n    .dataframe thead th {\n        text-align: right;\n    }\n</style>\n<table border=\"1\" class=\"dataframe\">\n  <thead>\n    <tr style=\"text-align: right;\">\n      <th></th>\n      <th>Unnamed: 0</th>\n      <th>size</th>\n      <th>optimal</th>\n      <th>non-optimal</th>\n    </tr>\n  </thead>\n  <tbody>\n    <tr>\n      <th>0</th>\n      <td>Policy: buy</td>\n      <td>0.1219</td>\n      <td>0.0259</td>\n      <td>0.9741</td>\n    </tr>\n    <tr>\n      <th>1</th>\n      <td>Policy: rent</td>\n      <td>0.1219</td>\n      <td>0.1037</td>\n      <td>0.8963</td>\n    </tr>\n    <tr>\n      <th>2</th>\n      <td>Policy: wage</td>\n      <td>0.1219</td>\n      <td>0.1393</td>\n      <td>0.8607</td>\n    </tr>\n    <tr>\n      <th>3</th>\n      <td>Policy: none</td>\n      <td>0.6343</td>\n      <td>0.0391</td>\n      <td>0.9609</td>\n    </tr>\n    <tr>\n      <th>4</th>\n      <td>Interest: fixed</td>\n      <td>0.0019</td>\n      <td>0.0000</td>\n      <td>1.0000</td>\n    </tr>\n    <tr>\n      <th>...</th>\n      <td>...</td>\n      <td>...</td>\n      <td>...</td>\n      <td>...</td>\n    </tr>\n    <tr>\n      <th>57</th>\n      <td>Jan. 2010</td>\n      <td>0.9924</td>\n      <td>0.0580</td>\n      <td>0.9420</td>\n    </tr>\n    <tr>\n      <th>58</th>\n      <td>FPM: False</td>\n      <td>0.0038</td>\n      <td>0.0000</td>\n      <td>1.0000</td>\n    </tr>\n    <tr>\n      <th>59</th>\n      <td>FPM: True</td>\n      <td>0.9962</td>\n      <td>0.0578</td>\n      <td>0.9422</td>\n    </tr>\n    <tr>\n      <th>60</th>\n      <td>Alternative0: False</td>\n      <td>0.0038</td>\n      <td>0.0000</td>\n      <td>1.0000</td>\n    </tr>\n    <tr>\n      <th>61</th>\n      <td>Alternative0: True</td>\n      <td>0.9962</td>\n      <td>0.0578</td>\n      <td>0.9422</td>\n    </tr>\n  </tbody>\n</table>\n<p>62 rows × 4 columns</p>\n</div>"
     },
     "execution_count": 44,
     "metadata": {},
     "output_type": "execute_result"
    }
   ],
   "source": [
    "current"
   ],
   "metadata": {
    "collapsed": false,
    "pycharm": {
     "name": "#%%\n"
    }
   }
  },
  {
   "cell_type": "code",
   "execution_count": 45,
   "outputs": [],
   "source": [
    "tree = pd.read_csv('../pre_processed_data/counting_Tree.csv', sep=';').round(decimals=4)\n",
    "tree.replace({'Unnamed: 0': groups_cols.abm_dummies_show}, inplace=True)"
   ],
   "metadata": {
    "collapsed": false,
    "pycharm": {
     "name": "#%%\n"
    }
   }
  },
  {
   "cell_type": "markdown",
   "source": [
    "## differences in non-acp dummies"
   ],
   "metadata": {
    "collapsed": false,
    "pycharm": {
     "name": "#%% md\n"
    }
   }
  },
  {
   "cell_type": "code",
   "execution_count": 46,
   "outputs": [],
   "source": [
    "SON = pd.DataFrame()\n",
    "SON_acp = SON.copy()\n",
    "non_acps = list(range(0,7)) + list(range(36, 45))"
   ],
   "metadata": {
    "collapsed": false,
    "pycharm": {
     "name": "#%%\n"
    }
   }
  },
  {
   "cell_type": "code",
   "execution_count": 47,
   "outputs": [
    {
     "name": "stdout",
     "output_type": "stream",
     "text": [
      "{'Dummy': 'Policy: buy', 'Size: sur': 25.06, 'Size: ABM': 12.19, 'Opt: sur': 3.62, 'Opt: ABM': 2.59, 'Non-opt: sur': 96.38, 'Non-opt: ABM': 97.41}\n",
      "{'Dummy': 'Policy: rent', 'Size: sur': 25.009999999999998, 'Size: ABM': 12.19, 'Opt: sur': 31.03, 'Opt: ABM': 10.37, 'Non-opt: sur': 68.97, 'Non-opt: ABM': 89.63}\n",
      "{'Dummy': 'Policy: wage', 'Size: sur': 25.0, 'Size: ABM': 12.19, 'Opt: sur': 32.92, 'Opt: ABM': 13.930000000000001, 'Non-opt: sur': 67.08, 'Non-opt: ABM': 86.07000000000001}\n",
      "{'Dummy': 'Policy: none', 'Size: sur': 24.93, 'Size: ABM': 63.43, 'Opt: sur': 17.87, 'Opt: ABM': 3.91, 'Non-opt: sur': 82.13000000000001, 'Non-opt: ABM': 96.09}\n",
      "{'Dummy': 'Interest: fixed', 'Size: sur': 33.35, 'Size: ABM': 0.19, 'Opt: sur': 21.37, 'Opt: ABM': 0.0, 'Non-opt: sur': 78.63, 'Non-opt: ABM': 100.0}\n",
      "{'Dummy': 'Interest: real', 'Size: sur': 33.33, 'Size: ABM': 99.62, 'Opt: sur': 21.37, 'Opt: ABM': 5.779999999999999, 'Non-opt: sur': 78.63, 'Non-opt: ABM': 94.22}\n",
      "{'Dummy': 'Interest: nominal', 'Size: sur': 33.32, 'Size: ABM': 0.19, 'Opt: sur': 21.32, 'Opt: ABM': 0.0, 'Non-opt: sur': 78.68, 'Non-opt: ABM': 100.0}\n",
      "{'Dummy': 'Aracaju', 'Size: sur': 2.21, 'Size: ABM': 1.06, 'Opt: sur': 18.16, 'Opt: ABM': 0.0, 'Non-opt: sur': 81.84, 'Non-opt: ABM': 100.0}\n",
      "{'Dummy': 'Campina Grande', 'Size: sur': 2.16, 'Size: ABM': 1.06, 'Opt: sur': 19.29, 'Opt: ABM': 0.0, 'Non-opt: sur': 80.71000000000001, 'Non-opt: ABM': 100.0}\n",
      "{'Dummy': 'Campos', 'Size: sur': 2.17, 'Size: ABM': 1.06, 'Opt: sur': 18.41, 'Opt: ABM': 0.0, 'Non-opt: sur': 81.58999999999999, 'Non-opt: ABM': 100.0}\n",
      "{'Dummy': 'Caxias do Sul', 'Size: sur': 2.18, 'Size: ABM': 1.06, 'Opt: sur': 18.94, 'Opt: ABM': 0.0, 'Non-opt: sur': 81.06, 'Non-opt: ABM': 100.0}\n",
      "{'Dummy': 'Crato', 'Size: sur': 2.18, 'Size: ABM': 1.06, 'Opt: sur': 19.07, 'Opt: ABM': 0.0, 'Non-opt: sur': 80.93, 'Non-opt: ABM': 100.0}\n",
      "{'Dummy': 'Curitiba', 'Size: sur': 2.15, 'Size: ABM': 1.06, 'Opt: sur': 46.989999999999995, 'Opt: ABM': 47.86, 'Non-opt: sur': 53.010000000000005, 'Non-opt: ABM': 52.14}\n",
      "{'Dummy': 'Florianópolis', 'Size: sur': 2.18, 'Size: ABM': 1.06, 'Opt: sur': 19.18, 'Opt: ABM': 0.0, 'Non-opt: sur': 80.82000000000001, 'Non-opt: ABM': 100.0}\n",
      "{'Dummy': 'Goiânia', 'Size: sur': 2.16, 'Size: ABM': 1.06, 'Opt: sur': 18.759999999999998, 'Opt: ABM': 0.0, 'Non-opt: sur': 81.24, 'Non-opt: ABM': 100.0}\n",
      "{'Dummy': 'Juiz de Fora', 'Size: sur': 2.16, 'Size: ABM': 1.06, 'Opt: sur': 18.78, 'Opt: ABM': 0.0, 'Non-opt: sur': 81.22, 'Non-opt: ABM': 100.0}\n"
     ]
    }
   ],
   "source": [
    "for row in non_acps:\n",
    "    to_add = {'Dummy' : tree.iloc[row, 0],\n",
    "              'Size: sur': tree.iloc[row, 1]*100,\n",
    "              'Size: ABM': current.iloc[row, 1]*100,\n",
    "              'Opt: sur': tree.iloc[row, 2]*100,\n",
    "              'Opt: ABM': current.iloc[row, 2]*100,\n",
    "              'Non-opt: sur': tree.iloc[row, 3]*100,\n",
    "              'Non-opt: ABM': current.iloc[row, 3]*100\n",
    "    }\n",
    "    print(to_add)\n",
    "    SON = SON.append(to_add, ignore_index=True)"
   ],
   "metadata": {
    "collapsed": false,
    "pycharm": {
     "name": "#%%\n"
    }
   }
  },
  {
   "cell_type": "code",
   "execution_count": 48,
   "outputs": [],
   "source": [
    "SON.sort_values(by='Non-opt: sur', inplace=True)"
   ],
   "metadata": {
    "collapsed": false,
    "pycharm": {
     "name": "#%%\n"
    }
   }
  },
  {
   "cell_type": "code",
   "execution_count": 49,
   "outputs": [
    {
     "data": {
      "text/plain": "                Dummy  Size: sur  Size: ABM  Opt: sur  Opt: ABM  Non-opt: sur  \\\n12           Curitiba       2.15       1.06     46.99     47.86         53.01   \n2        Policy: wage      25.00      12.19     32.92     13.93         67.08   \n1        Policy: rent      25.01      12.19     31.03     10.37         68.97   \n4     Interest: fixed      33.35       0.19     21.37      0.00         78.63   \n5      Interest: real      33.33      99.62     21.37      5.78         78.63   \n6   Interest: nominal      33.32       0.19     21.32      0.00         78.68   \n8      Campina Grande       2.16       1.06     19.29      0.00         80.71   \n13      Florianópolis       2.18       1.06     19.18      0.00         80.82   \n11              Crato       2.18       1.06     19.07      0.00         80.93   \n10      Caxias do Sul       2.18       1.06     18.94      0.00         81.06   \n15       Juiz de Fora       2.16       1.06     18.78      0.00         81.22   \n14            Goiânia       2.16       1.06     18.76      0.00         81.24   \n9              Campos       2.17       1.06     18.41      0.00         81.59   \n7             Aracaju       2.21       1.06     18.16      0.00         81.84   \n3        Policy: none      24.93      63.43     17.87      3.91         82.13   \n0         Policy: buy      25.06      12.19      3.62      2.59         96.38   \n\n    Non-opt: ABM  \n12         52.14  \n2          86.07  \n1          89.63  \n4         100.00  \n5          94.22  \n6         100.00  \n8         100.00  \n13        100.00  \n11        100.00  \n10        100.00  \n15        100.00  \n14        100.00  \n9         100.00  \n7         100.00  \n3          96.09  \n0          97.41  ",
      "text/html": "<div>\n<style scoped>\n    .dataframe tbody tr th:only-of-type {\n        vertical-align: middle;\n    }\n\n    .dataframe tbody tr th {\n        vertical-align: top;\n    }\n\n    .dataframe thead th {\n        text-align: right;\n    }\n</style>\n<table border=\"1\" class=\"dataframe\">\n  <thead>\n    <tr style=\"text-align: right;\">\n      <th></th>\n      <th>Dummy</th>\n      <th>Size: sur</th>\n      <th>Size: ABM</th>\n      <th>Opt: sur</th>\n      <th>Opt: ABM</th>\n      <th>Non-opt: sur</th>\n      <th>Non-opt: ABM</th>\n    </tr>\n  </thead>\n  <tbody>\n    <tr>\n      <th>12</th>\n      <td>Curitiba</td>\n      <td>2.15</td>\n      <td>1.06</td>\n      <td>46.99</td>\n      <td>47.86</td>\n      <td>53.01</td>\n      <td>52.14</td>\n    </tr>\n    <tr>\n      <th>2</th>\n      <td>Policy: wage</td>\n      <td>25.00</td>\n      <td>12.19</td>\n      <td>32.92</td>\n      <td>13.93</td>\n      <td>67.08</td>\n      <td>86.07</td>\n    </tr>\n    <tr>\n      <th>1</th>\n      <td>Policy: rent</td>\n      <td>25.01</td>\n      <td>12.19</td>\n      <td>31.03</td>\n      <td>10.37</td>\n      <td>68.97</td>\n      <td>89.63</td>\n    </tr>\n    <tr>\n      <th>4</th>\n      <td>Interest: fixed</td>\n      <td>33.35</td>\n      <td>0.19</td>\n      <td>21.37</td>\n      <td>0.00</td>\n      <td>78.63</td>\n      <td>100.00</td>\n    </tr>\n    <tr>\n      <th>5</th>\n      <td>Interest: real</td>\n      <td>33.33</td>\n      <td>99.62</td>\n      <td>21.37</td>\n      <td>5.78</td>\n      <td>78.63</td>\n      <td>94.22</td>\n    </tr>\n    <tr>\n      <th>6</th>\n      <td>Interest: nominal</td>\n      <td>33.32</td>\n      <td>0.19</td>\n      <td>21.32</td>\n      <td>0.00</td>\n      <td>78.68</td>\n      <td>100.00</td>\n    </tr>\n    <tr>\n      <th>8</th>\n      <td>Campina Grande</td>\n      <td>2.16</td>\n      <td>1.06</td>\n      <td>19.29</td>\n      <td>0.00</td>\n      <td>80.71</td>\n      <td>100.00</td>\n    </tr>\n    <tr>\n      <th>13</th>\n      <td>Florianópolis</td>\n      <td>2.18</td>\n      <td>1.06</td>\n      <td>19.18</td>\n      <td>0.00</td>\n      <td>80.82</td>\n      <td>100.00</td>\n    </tr>\n    <tr>\n      <th>11</th>\n      <td>Crato</td>\n      <td>2.18</td>\n      <td>1.06</td>\n      <td>19.07</td>\n      <td>0.00</td>\n      <td>80.93</td>\n      <td>100.00</td>\n    </tr>\n    <tr>\n      <th>10</th>\n      <td>Caxias do Sul</td>\n      <td>2.18</td>\n      <td>1.06</td>\n      <td>18.94</td>\n      <td>0.00</td>\n      <td>81.06</td>\n      <td>100.00</td>\n    </tr>\n    <tr>\n      <th>15</th>\n      <td>Juiz de Fora</td>\n      <td>2.16</td>\n      <td>1.06</td>\n      <td>18.78</td>\n      <td>0.00</td>\n      <td>81.22</td>\n      <td>100.00</td>\n    </tr>\n    <tr>\n      <th>14</th>\n      <td>Goiânia</td>\n      <td>2.16</td>\n      <td>1.06</td>\n      <td>18.76</td>\n      <td>0.00</td>\n      <td>81.24</td>\n      <td>100.00</td>\n    </tr>\n    <tr>\n      <th>9</th>\n      <td>Campos</td>\n      <td>2.17</td>\n      <td>1.06</td>\n      <td>18.41</td>\n      <td>0.00</td>\n      <td>81.59</td>\n      <td>100.00</td>\n    </tr>\n    <tr>\n      <th>7</th>\n      <td>Aracaju</td>\n      <td>2.21</td>\n      <td>1.06</td>\n      <td>18.16</td>\n      <td>0.00</td>\n      <td>81.84</td>\n      <td>100.00</td>\n    </tr>\n    <tr>\n      <th>3</th>\n      <td>Policy: none</td>\n      <td>24.93</td>\n      <td>63.43</td>\n      <td>17.87</td>\n      <td>3.91</td>\n      <td>82.13</td>\n      <td>96.09</td>\n    </tr>\n    <tr>\n      <th>0</th>\n      <td>Policy: buy</td>\n      <td>25.06</td>\n      <td>12.19</td>\n      <td>3.62</td>\n      <td>2.59</td>\n      <td>96.38</td>\n      <td>97.41</td>\n    </tr>\n  </tbody>\n</table>\n</div>"
     },
     "execution_count": 49,
     "metadata": {},
     "output_type": "execute_result"
    }
   ],
   "source": [
    "SON"
   ],
   "metadata": {
    "collapsed": false,
    "pycharm": {
     "name": "#%%\n"
    }
   }
  },
  {
   "cell_type": "markdown",
   "source": [
    "## differences in acp dummies"
   ],
   "metadata": {
    "collapsed": false
   }
  },
  {
   "cell_type": "code",
   "execution_count": 50,
   "outputs": [
    {
     "name": "stdout",
     "output_type": "stream",
     "text": [
      "{'Dummy': 'Belo Horizonte', 'Size: sur': 2.17, 'Size: ABM': 2.0, 'Opt: sur': 77.06, 'Opt: ABM': 81.08, 'Non-opt: sur': 22.939999999999998, 'Non-opt: ABM': 18.92}\n",
      "{'Dummy': 'Fortaleza', 'Size: sur': 2.17, 'Size: ABM': 2.0, 'Opt: sur': 17.95, 'Opt: ABM': 3.15, 'Non-opt: sur': 82.05, 'Non-opt: ABM': 96.85000000000001}\n",
      "{'Dummy': 'Porto Alegre', 'Size: sur': 2.1999999999999997, 'Size: ABM': 2.0, 'Opt: sur': 10.52, 'Opt: ABM': 0.0, 'Non-opt: sur': 89.48, 'Non-opt: ABM': 100.0}\n",
      "{'Dummy': 'Campinas', 'Size: sur': 2.18, 'Size: ABM': 2.0, 'Opt: sur': 41.010000000000005, 'Opt: ABM': 32.879999999999995, 'Non-opt: sur': 58.989999999999995, 'Non-opt: ABM': 67.12}\n",
      "{'Dummy': 'Salvador', 'Size: sur': 2.17, 'Size: ABM': 1.06, 'Opt: sur': 18.27, 'Opt: ABM': 11.110000000000001, 'Non-opt: sur': 81.73, 'Non-opt: ABM': 88.89}\n",
      "{'Dummy': 'Recife', 'Size: sur': 2.17, 'Size: ABM': 1.06, 'Opt: sur': 18.92, 'Opt: ABM': 0.0, 'Non-opt: sur': 81.08, 'Non-opt: ABM': 100.0}\n",
      "{'Dummy': 'São Paulo', 'Size: sur': 2.19, 'Size: ABM': 1.06, 'Opt: sur': 31.1, 'Opt: ABM': 100.0, 'Non-opt: sur': 68.89999999999999, 'Non-opt: ABM': 0.0}\n",
      "{'Dummy': 'Joinville', 'Size: sur': 2.16, 'Size: ABM': 0.3, 'Opt: sur': 19.99, 'Opt: ABM': 0.0, 'Non-opt: sur': 80.01, 'Non-opt: ABM': 100.0}\n",
      "{'Dummy': 'Campo Grande', 'Size: sur': 2.15, 'Size: ABM': 1.06, 'Opt: sur': 19.54, 'Opt: ABM': 0.0, 'Non-opt: sur': 80.46, 'Non-opt: ABM': 100.0}\n",
      "{'Dummy': 'Jundiai', 'Size: sur': 2.18, 'Size: ABM': 1.06, 'Opt: sur': 18.8, 'Opt: ABM': 0.0, 'Non-opt: sur': 81.2, 'Non-opt: ABM': 100.0}\n",
      "{'Dummy': 'Feira de Santana', 'Size: sur': 2.16, 'Size: ABM': 1.06, 'Opt: sur': 18.89, 'Opt: ABM': 0.0, 'Non-opt: sur': 81.11, 'Non-opt: ABM': 100.0}\n",
      "{'Dummy': 'Ipatinga', 'Size: sur': 2.17, 'Size: ABM': 1.06, 'Opt: sur': 19.25, 'Opt: ABM': 0.0, 'Non-opt: sur': 80.75, 'Non-opt: ABM': 100.0}\n",
      "{'Dummy': 'Londrina', 'Size: sur': 2.18, 'Size: ABM': 1.06, 'Opt: sur': 19.24, 'Opt: ABM': 0.0, 'Non-opt: sur': 80.76, 'Non-opt: ABM': 100.0}\n",
      "{'Dummy': 'Sorocaba', 'Size: sur': 2.17, 'Size: ABM': 1.06, 'Opt: sur': 19.259999999999998, 'Opt: ABM': 0.0, 'Non-opt: sur': 80.74, 'Non-opt: ABM': 100.0}\n",
      "{'Dummy': 'João Pessoa', 'Size: sur': 2.18, 'Size: ABM': 1.06, 'Opt: sur': 19.52, 'Opt: ABM': 0.0, 'Non-opt: sur': 80.47999999999999, 'Non-opt: ABM': 100.0}\n",
      "{'Dummy': 'SJRP', 'Size: sur': 2.17, 'Size: ABM': 1.06, 'Opt: sur': 17.97, 'Opt: ABM': 0.0, 'Non-opt: sur': 82.03, 'Non-opt: ABM': 100.0}\n",
      "{'Dummy': 'Maceio', 'Size: sur': 2.16, 'Size: ABM': 1.06, 'Opt: sur': 19.66, 'Opt: ABM': 0.0, 'Non-opt: sur': 80.34, 'Non-opt: ABM': 100.0}\n",
      "{'Dummy': 'SJC', 'Size: sur': 2.18, 'Size: ABM': 1.06, 'Opt: sur': 18.95, 'Opt: ABM': 0.0, 'Non-opt: sur': 81.05, 'Non-opt: ABM': 100.0}\n",
      "{'Dummy': 'Ilheus-Itabuna', 'Size: sur': 2.18, 'Size: ABM': 1.06, 'Opt: sur': 19.2, 'Opt: ABM': 0.0, 'Non-opt: sur': 80.80000000000001, 'Non-opt: ABM': 100.0}\n",
      "{'Dummy': 'Sao Luis', 'Size: sur': 2.17, 'Size: ABM': 1.06, 'Opt: sur': 18.529999999999998, 'Opt: ABM': 0.0, 'Non-opt: sur': 81.47, 'Non-opt: ABM': 100.0}\n",
      "{'Dummy': 'Uberlandia', 'Size: sur': 2.18, 'Size: ABM': 1.06, 'Opt: sur': 19.43, 'Opt: ABM': 0.0, 'Non-opt: sur': 80.57, 'Non-opt: ABM': 100.0}\n",
      "{'Dummy': 'Maringá', 'Size: sur': 2.16, 'Size: ABM': 1.06, 'Opt: sur': 19.900000000000002, 'Opt: ABM': 0.0, 'Non-opt: sur': 80.10000000000001, 'Non-opt: ABM': 100.0}\n",
      "{'Dummy': 'Vitória', 'Size: sur': 2.1999999999999997, 'Size: ABM': 1.06, 'Opt: sur': 19.2, 'Opt: ABM': 0.0, 'Non-opt: sur': 80.80000000000001, 'Non-opt: ABM': 100.0}\n",
      "{'Dummy': 'Cuiabá', 'Size: sur': 2.16, 'Size: ABM': 1.06, 'Opt: sur': 19.1, 'Opt: ABM': 0.0, 'Non-opt: sur': 80.9, 'Non-opt: ABM': 100.0}\n",
      "{'Dummy': 'Belém', 'Size: sur': 2.18, 'Size: ABM': 1.06, 'Opt: sur': 26.490000000000002, 'Opt: ABM': 21.37, 'Non-opt: sur': 73.50999999999999, 'Non-opt: ABM': 78.63}\n",
      "{'Dummy': 'NH-SL', 'Size: sur': 2.16, 'Size: ABM': 1.06, 'Opt: sur': 18.98, 'Opt: ABM': 0.0, 'Non-opt: sur': 81.02000000000001, 'Non-opt: ABM': 100.0}\n",
      "{'Dummy': 'Teresina', 'Size: sur': 2.19, 'Size: ABM': 1.06, 'Opt: sur': 18.81, 'Opt: ABM': 0.0, 'Non-opt: sur': 81.19, 'Non-opt: ABM': 100.0}\n",
      "{'Dummy': 'Manaus', 'Size: sur': 2.17, 'Size: ABM': 1.06, 'Opt: sur': 19.42, 'Opt: ABM': 0.0, 'Non-opt: sur': 80.58, 'Non-opt: ABM': 100.0}\n",
      "{'Dummy': 'Brasília', 'Size: sur': 2.19, 'Size: ABM': 48.67, 'Opt: sur': 0.0, 'Opt: ABM': 1.06, 'Non-opt: sur': 100.0, 'Non-opt: ABM': 98.94}\n"
     ]
    }
   ],
   "source": [
    "for row in range(7,36):\n",
    "    to_add = {'Dummy' : tree.iloc[row, 0],\n",
    "              'Size: sur': tree.iloc[row, 1]*100,\n",
    "              'Size: ABM': current.iloc[row, 1]*100,\n",
    "              'Opt: sur': tree.iloc[row, 2]*100,\n",
    "              'Opt: ABM': current.iloc[row, 2]*100,\n",
    "              'Non-opt: sur': tree.iloc[row, 3]*100,\n",
    "              'Non-opt: ABM': current.iloc[row, 3]*100\n",
    "    }\n",
    "    print(to_add)\n",
    "    SON_acp = SON_acp.append(to_add, ignore_index=True)"
   ],
   "metadata": {
    "collapsed": false,
    "pycharm": {
     "name": "#%%\n"
    }
   }
  },
  {
   "cell_type": "code",
   "execution_count": 51,
   "outputs": [],
   "source": [
    "SON_acp.sort_values(by='Non-opt: sur', inplace=True)"
   ],
   "metadata": {
    "collapsed": false,
    "pycharm": {
     "name": "#%%\n"
    }
   }
  },
  {
   "cell_type": "code",
   "execution_count": 52,
   "outputs": [
    {
     "data": {
      "text/plain": "               Dummy  Size: sur  Size: ABM  Opt: sur  Opt: ABM  Non-opt: sur  \\\n0     Belo Horizonte       2.17       2.00     77.06     81.08         22.94   \n3           Campinas       2.18       2.00     41.01     32.88         58.99   \n6          São Paulo       2.19       1.06     31.10    100.00         68.90   \n24             Belém       2.18       1.06     26.49     21.37         73.51   \n7          Joinville       2.16       0.30     19.99      0.00         80.01   \n21           Maringá       2.16       1.06     19.90      0.00         80.10   \n16            Maceio       2.16       1.06     19.66      0.00         80.34   \n8       Campo Grande       2.15       1.06     19.54      0.00         80.46   \n14       João Pessoa       2.18       1.06     19.52      0.00         80.48   \n20        Uberlandia       2.18       1.06     19.43      0.00         80.57   \n27            Manaus       2.17       1.06     19.42      0.00         80.58   \n13          Sorocaba       2.17       1.06     19.26      0.00         80.74   \n11          Ipatinga       2.17       1.06     19.25      0.00         80.75   \n12          Londrina       2.18       1.06     19.24      0.00         80.76   \n18    Ilheus-Itabuna       2.18       1.06     19.20      0.00         80.80   \n22           Vitória       2.20       1.06     19.20      0.00         80.80   \n23            Cuiabá       2.16       1.06     19.10      0.00         80.90   \n25             NH-SL       2.16       1.06     18.98      0.00         81.02   \n17               SJC       2.18       1.06     18.95      0.00         81.05   \n5             Recife       2.17       1.06     18.92      0.00         81.08   \n10  Feira de Santana       2.16       1.06     18.89      0.00         81.11   \n26          Teresina       2.19       1.06     18.81      0.00         81.19   \n9            Jundiai       2.18       1.06     18.80      0.00         81.20   \n19          Sao Luis       2.17       1.06     18.53      0.00         81.47   \n4           Salvador       2.17       1.06     18.27     11.11         81.73   \n15              SJRP       2.17       1.06     17.97      0.00         82.03   \n1          Fortaleza       2.17       2.00     17.95      3.15         82.05   \n2       Porto Alegre       2.20       2.00     10.52      0.00         89.48   \n28          Brasília       2.19      48.67      0.00      1.06        100.00   \n\n    Non-opt: ABM  \n0          18.92  \n3          67.12  \n6           0.00  \n24         78.63  \n7         100.00  \n21        100.00  \n16        100.00  \n8         100.00  \n14        100.00  \n20        100.00  \n27        100.00  \n13        100.00  \n11        100.00  \n12        100.00  \n18        100.00  \n22        100.00  \n23        100.00  \n25        100.00  \n17        100.00  \n5         100.00  \n10        100.00  \n26        100.00  \n9         100.00  \n19        100.00  \n4          88.89  \n15        100.00  \n1          96.85  \n2         100.00  \n28         98.94  ",
      "text/html": "<div>\n<style scoped>\n    .dataframe tbody tr th:only-of-type {\n        vertical-align: middle;\n    }\n\n    .dataframe tbody tr th {\n        vertical-align: top;\n    }\n\n    .dataframe thead th {\n        text-align: right;\n    }\n</style>\n<table border=\"1\" class=\"dataframe\">\n  <thead>\n    <tr style=\"text-align: right;\">\n      <th></th>\n      <th>Dummy</th>\n      <th>Size: sur</th>\n      <th>Size: ABM</th>\n      <th>Opt: sur</th>\n      <th>Opt: ABM</th>\n      <th>Non-opt: sur</th>\n      <th>Non-opt: ABM</th>\n    </tr>\n  </thead>\n  <tbody>\n    <tr>\n      <th>0</th>\n      <td>Belo Horizonte</td>\n      <td>2.17</td>\n      <td>2.00</td>\n      <td>77.06</td>\n      <td>81.08</td>\n      <td>22.94</td>\n      <td>18.92</td>\n    </tr>\n    <tr>\n      <th>3</th>\n      <td>Campinas</td>\n      <td>2.18</td>\n      <td>2.00</td>\n      <td>41.01</td>\n      <td>32.88</td>\n      <td>58.99</td>\n      <td>67.12</td>\n    </tr>\n    <tr>\n      <th>6</th>\n      <td>São Paulo</td>\n      <td>2.19</td>\n      <td>1.06</td>\n      <td>31.10</td>\n      <td>100.00</td>\n      <td>68.90</td>\n      <td>0.00</td>\n    </tr>\n    <tr>\n      <th>24</th>\n      <td>Belém</td>\n      <td>2.18</td>\n      <td>1.06</td>\n      <td>26.49</td>\n      <td>21.37</td>\n      <td>73.51</td>\n      <td>78.63</td>\n    </tr>\n    <tr>\n      <th>7</th>\n      <td>Joinville</td>\n      <td>2.16</td>\n      <td>0.30</td>\n      <td>19.99</td>\n      <td>0.00</td>\n      <td>80.01</td>\n      <td>100.00</td>\n    </tr>\n    <tr>\n      <th>21</th>\n      <td>Maringá</td>\n      <td>2.16</td>\n      <td>1.06</td>\n      <td>19.90</td>\n      <td>0.00</td>\n      <td>80.10</td>\n      <td>100.00</td>\n    </tr>\n    <tr>\n      <th>16</th>\n      <td>Maceio</td>\n      <td>2.16</td>\n      <td>1.06</td>\n      <td>19.66</td>\n      <td>0.00</td>\n      <td>80.34</td>\n      <td>100.00</td>\n    </tr>\n    <tr>\n      <th>8</th>\n      <td>Campo Grande</td>\n      <td>2.15</td>\n      <td>1.06</td>\n      <td>19.54</td>\n      <td>0.00</td>\n      <td>80.46</td>\n      <td>100.00</td>\n    </tr>\n    <tr>\n      <th>14</th>\n      <td>João Pessoa</td>\n      <td>2.18</td>\n      <td>1.06</td>\n      <td>19.52</td>\n      <td>0.00</td>\n      <td>80.48</td>\n      <td>100.00</td>\n    </tr>\n    <tr>\n      <th>20</th>\n      <td>Uberlandia</td>\n      <td>2.18</td>\n      <td>1.06</td>\n      <td>19.43</td>\n      <td>0.00</td>\n      <td>80.57</td>\n      <td>100.00</td>\n    </tr>\n    <tr>\n      <th>27</th>\n      <td>Manaus</td>\n      <td>2.17</td>\n      <td>1.06</td>\n      <td>19.42</td>\n      <td>0.00</td>\n      <td>80.58</td>\n      <td>100.00</td>\n    </tr>\n    <tr>\n      <th>13</th>\n      <td>Sorocaba</td>\n      <td>2.17</td>\n      <td>1.06</td>\n      <td>19.26</td>\n      <td>0.00</td>\n      <td>80.74</td>\n      <td>100.00</td>\n    </tr>\n    <tr>\n      <th>11</th>\n      <td>Ipatinga</td>\n      <td>2.17</td>\n      <td>1.06</td>\n      <td>19.25</td>\n      <td>0.00</td>\n      <td>80.75</td>\n      <td>100.00</td>\n    </tr>\n    <tr>\n      <th>12</th>\n      <td>Londrina</td>\n      <td>2.18</td>\n      <td>1.06</td>\n      <td>19.24</td>\n      <td>0.00</td>\n      <td>80.76</td>\n      <td>100.00</td>\n    </tr>\n    <tr>\n      <th>18</th>\n      <td>Ilheus-Itabuna</td>\n      <td>2.18</td>\n      <td>1.06</td>\n      <td>19.20</td>\n      <td>0.00</td>\n      <td>80.80</td>\n      <td>100.00</td>\n    </tr>\n    <tr>\n      <th>22</th>\n      <td>Vitória</td>\n      <td>2.20</td>\n      <td>1.06</td>\n      <td>19.20</td>\n      <td>0.00</td>\n      <td>80.80</td>\n      <td>100.00</td>\n    </tr>\n    <tr>\n      <th>23</th>\n      <td>Cuiabá</td>\n      <td>2.16</td>\n      <td>1.06</td>\n      <td>19.10</td>\n      <td>0.00</td>\n      <td>80.90</td>\n      <td>100.00</td>\n    </tr>\n    <tr>\n      <th>25</th>\n      <td>NH-SL</td>\n      <td>2.16</td>\n      <td>1.06</td>\n      <td>18.98</td>\n      <td>0.00</td>\n      <td>81.02</td>\n      <td>100.00</td>\n    </tr>\n    <tr>\n      <th>17</th>\n      <td>SJC</td>\n      <td>2.18</td>\n      <td>1.06</td>\n      <td>18.95</td>\n      <td>0.00</td>\n      <td>81.05</td>\n      <td>100.00</td>\n    </tr>\n    <tr>\n      <th>5</th>\n      <td>Recife</td>\n      <td>2.17</td>\n      <td>1.06</td>\n      <td>18.92</td>\n      <td>0.00</td>\n      <td>81.08</td>\n      <td>100.00</td>\n    </tr>\n    <tr>\n      <th>10</th>\n      <td>Feira de Santana</td>\n      <td>2.16</td>\n      <td>1.06</td>\n      <td>18.89</td>\n      <td>0.00</td>\n      <td>81.11</td>\n      <td>100.00</td>\n    </tr>\n    <tr>\n      <th>26</th>\n      <td>Teresina</td>\n      <td>2.19</td>\n      <td>1.06</td>\n      <td>18.81</td>\n      <td>0.00</td>\n      <td>81.19</td>\n      <td>100.00</td>\n    </tr>\n    <tr>\n      <th>9</th>\n      <td>Jundiai</td>\n      <td>2.18</td>\n      <td>1.06</td>\n      <td>18.80</td>\n      <td>0.00</td>\n      <td>81.20</td>\n      <td>100.00</td>\n    </tr>\n    <tr>\n      <th>19</th>\n      <td>Sao Luis</td>\n      <td>2.17</td>\n      <td>1.06</td>\n      <td>18.53</td>\n      <td>0.00</td>\n      <td>81.47</td>\n      <td>100.00</td>\n    </tr>\n    <tr>\n      <th>4</th>\n      <td>Salvador</td>\n      <td>2.17</td>\n      <td>1.06</td>\n      <td>18.27</td>\n      <td>11.11</td>\n      <td>81.73</td>\n      <td>88.89</td>\n    </tr>\n    <tr>\n      <th>15</th>\n      <td>SJRP</td>\n      <td>2.17</td>\n      <td>1.06</td>\n      <td>17.97</td>\n      <td>0.00</td>\n      <td>82.03</td>\n      <td>100.00</td>\n    </tr>\n    <tr>\n      <th>1</th>\n      <td>Fortaleza</td>\n      <td>2.17</td>\n      <td>2.00</td>\n      <td>17.95</td>\n      <td>3.15</td>\n      <td>82.05</td>\n      <td>96.85</td>\n    </tr>\n    <tr>\n      <th>2</th>\n      <td>Porto Alegre</td>\n      <td>2.20</td>\n      <td>2.00</td>\n      <td>10.52</td>\n      <td>0.00</td>\n      <td>89.48</td>\n      <td>100.00</td>\n    </tr>\n    <tr>\n      <th>28</th>\n      <td>Brasília</td>\n      <td>2.19</td>\n      <td>48.67</td>\n      <td>0.00</td>\n      <td>1.06</td>\n      <td>100.00</td>\n      <td>98.94</td>\n    </tr>\n  </tbody>\n</table>\n</div>"
     },
     "execution_count": 52,
     "metadata": {},
     "output_type": "execute_result"
    }
   ],
   "source": [
    "SON_acp"
   ],
   "metadata": {
    "collapsed": false,
    "pycharm": {
     "name": "#%%\n"
    }
   }
  },
  {
   "cell_type": "markdown",
   "source": [
    "# Comparison of parameters"
   ],
   "metadata": {
    "collapsed": false
   }
  },
  {
   "cell_type": "code",
   "execution_count": 53,
   "outputs": [
    {
     "data": {
      "text/plain": "                                    Unnamed: 0  simulated_optimal  ml_optimal  \\\n0                           Hiring sample size             0.0026      0.0004   \n1                           Hiring sample size             0.0044      0.0017   \n2                  Loan/permament income ratio             0.0022      0.0008   \n3                                       Markup            -0.0000     -0.0002   \n4                        Maximum Loan-to-Value             0.0022      0.0003   \n5              Municipal efficiency management            -0.0007     -0.0008   \n6                          Neighborhood effect            -0.0468     -0.0014   \n7   supply-demand effect on real estate prices             0.0000     -0.0005   \n8             % firms analyze commute distance            -0.0088     -0.0055   \n9                              % of population            -0.2009     -0.4203   \n10             % that enters the estate market            -0.0583     -0.0122   \n11                     % of construction firms            -0.0057     -0.0008   \n12                          Policy coefficient            -0.0047     -0.0032   \n13                                 Policy days            -0.0642     -0.0326   \n14                             Policy Quantile            -0.0603     -0.0158   \n15                     Cost of private transit            -0.0000     -0.0009   \n16                      Productivity: exponent             0.0033      0.0003   \n17                       Productivity: divisor            -0.0071     -0.0015   \n18                      Cost of public transit            -0.0504     -0.0265   \n19                       Perceived market size            -0.0005      0.0001   \n20                               Sticky Prices            -0.0000     -0.0001   \n21                Tax over estate transactions             0.0027      0.0002   \n22                                  Total Days            -0.0223     -0.0165   \n\n    difference  \n0       0.0021  \n1       0.0027  \n2       0.0014  \n3       0.0002  \n4       0.0019  \n5       0.0001  \n6      -0.0454  \n7       0.0005  \n8      -0.0032  \n9       0.2194  \n10     -0.0461  \n11     -0.0048  \n12     -0.0016  \n13     -0.0317  \n14     -0.0444  \n15      0.0009  \n16      0.0031  \n17     -0.0057  \n18     -0.0239  \n19     -0.0006  \n20      0.0001  \n21      0.0025  \n22     -0.0057  ",
      "text/html": "<div>\n<style scoped>\n    .dataframe tbody tr th:only-of-type {\n        vertical-align: middle;\n    }\n\n    .dataframe tbody tr th {\n        vertical-align: top;\n    }\n\n    .dataframe thead th {\n        text-align: right;\n    }\n</style>\n<table border=\"1\" class=\"dataframe\">\n  <thead>\n    <tr style=\"text-align: right;\">\n      <th></th>\n      <th>Unnamed: 0</th>\n      <th>simulated_optimal</th>\n      <th>ml_optimal</th>\n      <th>difference</th>\n    </tr>\n  </thead>\n  <tbody>\n    <tr>\n      <th>0</th>\n      <td>Hiring sample size</td>\n      <td>0.0026</td>\n      <td>0.0004</td>\n      <td>0.0021</td>\n    </tr>\n    <tr>\n      <th>1</th>\n      <td>Hiring sample size</td>\n      <td>0.0044</td>\n      <td>0.0017</td>\n      <td>0.0027</td>\n    </tr>\n    <tr>\n      <th>2</th>\n      <td>Loan/permament income ratio</td>\n      <td>0.0022</td>\n      <td>0.0008</td>\n      <td>0.0014</td>\n    </tr>\n    <tr>\n      <th>3</th>\n      <td>Markup</td>\n      <td>-0.0000</td>\n      <td>-0.0002</td>\n      <td>0.0002</td>\n    </tr>\n    <tr>\n      <th>4</th>\n      <td>Maximum Loan-to-Value</td>\n      <td>0.0022</td>\n      <td>0.0003</td>\n      <td>0.0019</td>\n    </tr>\n    <tr>\n      <th>5</th>\n      <td>Municipal efficiency management</td>\n      <td>-0.0007</td>\n      <td>-0.0008</td>\n      <td>0.0001</td>\n    </tr>\n    <tr>\n      <th>6</th>\n      <td>Neighborhood effect</td>\n      <td>-0.0468</td>\n      <td>-0.0014</td>\n      <td>-0.0454</td>\n    </tr>\n    <tr>\n      <th>7</th>\n      <td>supply-demand effect on real estate prices</td>\n      <td>0.0000</td>\n      <td>-0.0005</td>\n      <td>0.0005</td>\n    </tr>\n    <tr>\n      <th>8</th>\n      <td>% firms analyze commute distance</td>\n      <td>-0.0088</td>\n      <td>-0.0055</td>\n      <td>-0.0032</td>\n    </tr>\n    <tr>\n      <th>9</th>\n      <td>% of population</td>\n      <td>-0.2009</td>\n      <td>-0.4203</td>\n      <td>0.2194</td>\n    </tr>\n    <tr>\n      <th>10</th>\n      <td>% that enters the estate market</td>\n      <td>-0.0583</td>\n      <td>-0.0122</td>\n      <td>-0.0461</td>\n    </tr>\n    <tr>\n      <th>11</th>\n      <td>% of construction firms</td>\n      <td>-0.0057</td>\n      <td>-0.0008</td>\n      <td>-0.0048</td>\n    </tr>\n    <tr>\n      <th>12</th>\n      <td>Policy coefficient</td>\n      <td>-0.0047</td>\n      <td>-0.0032</td>\n      <td>-0.0016</td>\n    </tr>\n    <tr>\n      <th>13</th>\n      <td>Policy days</td>\n      <td>-0.0642</td>\n      <td>-0.0326</td>\n      <td>-0.0317</td>\n    </tr>\n    <tr>\n      <th>14</th>\n      <td>Policy Quantile</td>\n      <td>-0.0603</td>\n      <td>-0.0158</td>\n      <td>-0.0444</td>\n    </tr>\n    <tr>\n      <th>15</th>\n      <td>Cost of private transit</td>\n      <td>-0.0000</td>\n      <td>-0.0009</td>\n      <td>0.0009</td>\n    </tr>\n    <tr>\n      <th>16</th>\n      <td>Productivity: exponent</td>\n      <td>0.0033</td>\n      <td>0.0003</td>\n      <td>0.0031</td>\n    </tr>\n    <tr>\n      <th>17</th>\n      <td>Productivity: divisor</td>\n      <td>-0.0071</td>\n      <td>-0.0015</td>\n      <td>-0.0057</td>\n    </tr>\n    <tr>\n      <th>18</th>\n      <td>Cost of public transit</td>\n      <td>-0.0504</td>\n      <td>-0.0265</td>\n      <td>-0.0239</td>\n    </tr>\n    <tr>\n      <th>19</th>\n      <td>Perceived market size</td>\n      <td>-0.0005</td>\n      <td>0.0001</td>\n      <td>-0.0006</td>\n    </tr>\n    <tr>\n      <th>20</th>\n      <td>Sticky Prices</td>\n      <td>-0.0000</td>\n      <td>-0.0001</td>\n      <td>0.0001</td>\n    </tr>\n    <tr>\n      <th>21</th>\n      <td>Tax over estate transactions</td>\n      <td>0.0027</td>\n      <td>0.0002</td>\n      <td>0.0025</td>\n    </tr>\n    <tr>\n      <th>22</th>\n      <td>Total Days</td>\n      <td>-0.0223</td>\n      <td>-0.0165</td>\n      <td>-0.0057</td>\n    </tr>\n  </tbody>\n</table>\n</div>"
     },
     "execution_count": 53,
     "metadata": {},
     "output_type": "execute_result"
    }
   ],
   "source": [
    "comp = pd.read_csv('../pre_processed_data/parameters_comparison.csv', sep=';').round(decimals=4)\n",
    "comp.replace({'Unnamed: 0': groups_cols.abm_params_show}, inplace=True)\n",
    "comp"
   ],
   "metadata": {
    "collapsed": false,
    "pycharm": {
     "name": "#%%\n"
    }
   }
  },
  {
   "cell_type": "code",
   "execution_count": 54,
   "outputs": [
    {
     "name": "stdout",
     "output_type": "stream",
     "text": [
      "{'Dummy': 'Hiring sample size', 'Surrogate': 0.26, 'ABM': 0.04, 'Difference (p.p.)': -0.22}\n",
      "{'Dummy': 'Hiring sample size', 'Surrogate': 0.44, 'ABM': 0.16999999999999998, 'Difference (p.p.)': -0.27}\n",
      "{'Dummy': 'Loan/permament income ratio', 'Surrogate': 0.22, 'ABM': 0.08, 'Difference (p.p.)': -0.14}\n",
      "{'Dummy': 'Markup', 'Surrogate': -0.0, 'ABM': -0.02, 'Difference (p.p.)': -0.02}\n",
      "{'Dummy': 'Maximum Loan-to-Value', 'Surrogate': 0.22, 'ABM': 0.03, 'Difference (p.p.)': -0.19}\n",
      "{'Dummy': 'Municipal efficiency management', 'Surrogate': -0.06999999999999999, 'ABM': -0.08, 'Difference (p.p.)': -0.010000000000000009}\n",
      "{'Dummy': 'Neighborhood effect', 'Surrogate': -4.68, 'ABM': -0.13999999999999999, 'Difference (p.p.)': 4.54}\n",
      "{'Dummy': 'supply-demand effect on real estate prices', 'Surrogate': 0.0, 'ABM': -0.05, 'Difference (p.p.)': -0.05}\n",
      "{'Dummy': '% firms analyze commute distance', 'Surrogate': -0.88, 'ABM': -0.5499999999999999, 'Difference (p.p.)': 0.33000000000000007}\n",
      "{'Dummy': '% of population', 'Surrogate': -20.09, 'ABM': -42.03, 'Difference (p.p.)': -21.94}\n",
      "{'Dummy': '% that enters the estate market', 'Surrogate': -5.83, 'ABM': -1.22, 'Difference (p.p.)': 4.61}\n",
      "{'Dummy': '% of construction firms', 'Surrogate': -0.5700000000000001, 'ABM': -0.08, 'Difference (p.p.)': 0.49000000000000005}\n",
      "{'Dummy': 'Policy coefficient', 'Surrogate': -0.47000000000000003, 'ABM': -0.32, 'Difference (p.p.)': 0.15000000000000002}\n",
      "{'Dummy': 'Policy days', 'Surrogate': -6.419999999999999, 'ABM': -3.26, 'Difference (p.p.)': 3.1599999999999993}\n",
      "{'Dummy': 'Policy Quantile', 'Surrogate': -6.03, 'ABM': -1.58, 'Difference (p.p.)': 4.45}\n",
      "{'Dummy': 'Cost of private transit', 'Surrogate': -0.0, 'ABM': -0.09, 'Difference (p.p.)': -0.09}\n",
      "{'Dummy': 'Productivity: exponent', 'Surrogate': 0.33, 'ABM': 0.03, 'Difference (p.p.)': -0.30000000000000004}\n",
      "{'Dummy': 'Productivity: divisor', 'Surrogate': -0.7100000000000001, 'ABM': -0.15, 'Difference (p.p.)': 0.56}\n",
      "{'Dummy': 'Cost of public transit', 'Surrogate': -5.04, 'ABM': -2.65, 'Difference (p.p.)': 2.39}\n",
      "{'Dummy': 'Perceived market size', 'Surrogate': -0.05, 'ABM': 0.01, 'Difference (p.p.)': 0.060000000000000005}\n",
      "{'Dummy': 'Sticky Prices', 'Surrogate': -0.0, 'ABM': -0.01, 'Difference (p.p.)': -0.01}\n",
      "{'Dummy': 'Tax over estate transactions', 'Surrogate': 0.27, 'ABM': 0.02, 'Difference (p.p.)': -0.25}\n",
      "{'Dummy': 'Total Days', 'Surrogate': -2.23, 'ABM': -1.6500000000000001, 'Difference (p.p.)': 0.5799999999999998}\n"
     ]
    }
   ],
   "source": [
    "params = pd.DataFrame()\n",
    "for row in range(0,len(comp['Unnamed: 0'])):\n",
    "    to_add = {'Dummy' : comp.iloc[row, 0],\n",
    "              'Surrogate': comp.iloc[row, 1]*100,\n",
    "              'ABM': comp.iloc[row, 2]*100,\n",
    "              'Difference (p.p.)': comp.iloc[row, 2]*100 - comp.iloc[row, 1]*100\n",
    "    }\n",
    "    print(to_add)\n",
    "    params = params.append(to_add, ignore_index=True)"
   ],
   "metadata": {
    "collapsed": false,
    "pycharm": {
     "name": "#%%\n"
    }
   }
  },
  {
   "cell_type": "code",
   "execution_count": 55,
   "outputs": [],
   "source": [
    "params.sort_values(by='Difference (p.p.)', inplace=True)"
   ],
   "metadata": {
    "collapsed": false,
    "pycharm": {
     "name": "#%%\n"
    }
   }
  },
  {
   "cell_type": "code",
   "execution_count": 56,
   "outputs": [
    {
     "data": {
      "text/plain": "                                         Dummy  Surrogate    ABM  \\\n9                              % of population     -20.09 -42.03   \n16                      Productivity: exponent       0.33   0.03   \n1                           Hiring sample size       0.44   0.17   \n21                Tax over estate transactions       0.27   0.02   \n0                           Hiring sample size       0.26   0.04   \n4                        Maximum Loan-to-Value       0.22   0.03   \n2                  Loan/permament income ratio       0.22   0.08   \n15                     Cost of private transit      -0.00  -0.09   \n7   supply-demand effect on real estate prices       0.00  -0.05   \n3                                       Markup      -0.00  -0.02   \n5              Municipal efficiency management      -0.07  -0.08   \n20                               Sticky Prices      -0.00  -0.01   \n19                       Perceived market size      -0.05   0.01   \n12                          Policy coefficient      -0.47  -0.32   \n8             % firms analyze commute distance      -0.88  -0.55   \n11                     % of construction firms      -0.57  -0.08   \n17                       Productivity: divisor      -0.71  -0.15   \n22                                  Total Days      -2.23  -1.65   \n18                      Cost of public transit      -5.04  -2.65   \n13                                 Policy days      -6.42  -3.26   \n14                             Policy Quantile      -6.03  -1.58   \n6                          Neighborhood effect      -4.68  -0.14   \n10             % that enters the estate market      -5.83  -1.22   \n\n    Difference (p.p.)  \n9              -21.94  \n16              -0.30  \n1               -0.27  \n21              -0.25  \n0               -0.22  \n4               -0.19  \n2               -0.14  \n15              -0.09  \n7               -0.05  \n3               -0.02  \n5               -0.01  \n20              -0.01  \n19               0.06  \n12               0.15  \n8                0.33  \n11               0.49  \n17               0.56  \n22               0.58  \n18               2.39  \n13               3.16  \n14               4.45  \n6                4.54  \n10               4.61  ",
      "text/html": "<div>\n<style scoped>\n    .dataframe tbody tr th:only-of-type {\n        vertical-align: middle;\n    }\n\n    .dataframe tbody tr th {\n        vertical-align: top;\n    }\n\n    .dataframe thead th {\n        text-align: right;\n    }\n</style>\n<table border=\"1\" class=\"dataframe\">\n  <thead>\n    <tr style=\"text-align: right;\">\n      <th></th>\n      <th>Dummy</th>\n      <th>Surrogate</th>\n      <th>ABM</th>\n      <th>Difference (p.p.)</th>\n    </tr>\n  </thead>\n  <tbody>\n    <tr>\n      <th>9</th>\n      <td>% of population</td>\n      <td>-20.09</td>\n      <td>-42.03</td>\n      <td>-21.94</td>\n    </tr>\n    <tr>\n      <th>16</th>\n      <td>Productivity: exponent</td>\n      <td>0.33</td>\n      <td>0.03</td>\n      <td>-0.30</td>\n    </tr>\n    <tr>\n      <th>1</th>\n      <td>Hiring sample size</td>\n      <td>0.44</td>\n      <td>0.17</td>\n      <td>-0.27</td>\n    </tr>\n    <tr>\n      <th>21</th>\n      <td>Tax over estate transactions</td>\n      <td>0.27</td>\n      <td>0.02</td>\n      <td>-0.25</td>\n    </tr>\n    <tr>\n      <th>0</th>\n      <td>Hiring sample size</td>\n      <td>0.26</td>\n      <td>0.04</td>\n      <td>-0.22</td>\n    </tr>\n    <tr>\n      <th>4</th>\n      <td>Maximum Loan-to-Value</td>\n      <td>0.22</td>\n      <td>0.03</td>\n      <td>-0.19</td>\n    </tr>\n    <tr>\n      <th>2</th>\n      <td>Loan/permament income ratio</td>\n      <td>0.22</td>\n      <td>0.08</td>\n      <td>-0.14</td>\n    </tr>\n    <tr>\n      <th>15</th>\n      <td>Cost of private transit</td>\n      <td>-0.00</td>\n      <td>-0.09</td>\n      <td>-0.09</td>\n    </tr>\n    <tr>\n      <th>7</th>\n      <td>supply-demand effect on real estate prices</td>\n      <td>0.00</td>\n      <td>-0.05</td>\n      <td>-0.05</td>\n    </tr>\n    <tr>\n      <th>3</th>\n      <td>Markup</td>\n      <td>-0.00</td>\n      <td>-0.02</td>\n      <td>-0.02</td>\n    </tr>\n    <tr>\n      <th>5</th>\n      <td>Municipal efficiency management</td>\n      <td>-0.07</td>\n      <td>-0.08</td>\n      <td>-0.01</td>\n    </tr>\n    <tr>\n      <th>20</th>\n      <td>Sticky Prices</td>\n      <td>-0.00</td>\n      <td>-0.01</td>\n      <td>-0.01</td>\n    </tr>\n    <tr>\n      <th>19</th>\n      <td>Perceived market size</td>\n      <td>-0.05</td>\n      <td>0.01</td>\n      <td>0.06</td>\n    </tr>\n    <tr>\n      <th>12</th>\n      <td>Policy coefficient</td>\n      <td>-0.47</td>\n      <td>-0.32</td>\n      <td>0.15</td>\n    </tr>\n    <tr>\n      <th>8</th>\n      <td>% firms analyze commute distance</td>\n      <td>-0.88</td>\n      <td>-0.55</td>\n      <td>0.33</td>\n    </tr>\n    <tr>\n      <th>11</th>\n      <td>% of construction firms</td>\n      <td>-0.57</td>\n      <td>-0.08</td>\n      <td>0.49</td>\n    </tr>\n    <tr>\n      <th>17</th>\n      <td>Productivity: divisor</td>\n      <td>-0.71</td>\n      <td>-0.15</td>\n      <td>0.56</td>\n    </tr>\n    <tr>\n      <th>22</th>\n      <td>Total Days</td>\n      <td>-2.23</td>\n      <td>-1.65</td>\n      <td>0.58</td>\n    </tr>\n    <tr>\n      <th>18</th>\n      <td>Cost of public transit</td>\n      <td>-5.04</td>\n      <td>-2.65</td>\n      <td>2.39</td>\n    </tr>\n    <tr>\n      <th>13</th>\n      <td>Policy days</td>\n      <td>-6.42</td>\n      <td>-3.26</td>\n      <td>3.16</td>\n    </tr>\n    <tr>\n      <th>14</th>\n      <td>Policy Quantile</td>\n      <td>-6.03</td>\n      <td>-1.58</td>\n      <td>4.45</td>\n    </tr>\n    <tr>\n      <th>6</th>\n      <td>Neighborhood effect</td>\n      <td>-4.68</td>\n      <td>-0.14</td>\n      <td>4.54</td>\n    </tr>\n    <tr>\n      <th>10</th>\n      <td>% that enters the estate market</td>\n      <td>-5.83</td>\n      <td>-1.22</td>\n      <td>4.61</td>\n    </tr>\n  </tbody>\n</table>\n</div>"
     },
     "execution_count": 56,
     "metadata": {},
     "output_type": "execute_result"
    }
   ],
   "source": [
    "params"
   ],
   "metadata": {
    "collapsed": false,
    "pycharm": {
     "name": "#%%\n"
    }
   }
  },
  {
   "cell_type": "code",
   "execution_count": 57,
   "outputs": [],
   "source": [
    "tables.update({'mean_policy_acp': mean_policy_acp,\n",
    "               'std_policy_acp': std_policy_acp,\n",
    "               \"SON\" : SON,\n",
    "               \"SON_acp\" : SON_acp,\n",
    "               \"params\" : params})"
   ],
   "metadata": {
    "collapsed": false,
    "pycharm": {
     "name": "#%%\n"
    }
   }
  },
  {
   "cell_type": "code",
   "execution_count": 58,
   "outputs": [
    {
     "name": "stdout",
     "output_type": "stream",
     "text": [
      "\\begin{tabular}{lllll}\n",
      "\\toprule\n",
      "                MR & No policy &    Buy &   Rent &   Wage \\\\\n",
      "\\midrule\n",
      "    Belo Horizonte &     100.0 & -90.58 &    0.0 &    0.0 \\\\\n",
      "         São Paulo &     29.84 &  -1.14 &   -0.9 &   7.23 \\\\\n",
      "    Rio de Janeiro &     27.38 &  -0.12 &   1.11 &   1.33 \\\\\n",
      "         Joinville &     19.43 & -14.26 &   7.67 &   8.91 \\\\\n",
      "      Campo Grande &     18.63 & -15.02 &  10.02 &   8.91 \\\\\n",
      "           Pelotas &     18.58 & -15.81 &  10.24 &  10.71 \\\\\n",
      "       João Pessoa &     18.47 & -14.78 &  10.11 &   8.97 \\\\\n",
      "            Maceio &     18.43 & -15.06 &   9.84 &   9.83 \\\\\n",
      "           Maringá &     18.14 & -14.33 &  10.16 &  10.86 \\\\\n",
      "Petrolina-Juazeiro &     18.11 & -13.97 &   9.16 &   9.25 \\\\\n",
      "             Crato &     17.92 & -15.45 &   9.81 &  10.55 \\\\\n",
      "  Feira de Santana &     17.88 &  -14.9 &  10.29 &   9.08 \\\\\n",
      "               all &     17.87 & -14.25 &  13.16 &  15.05 \\\\\n",
      "            Cuiabá &     17.59 & -14.91 &   10.7 &  10.21 \\\\\n",
      "        Uberlandia &     17.57 & -13.62 &  10.73 &  10.39 \\\\\n",
      "          Sorocaba &     17.56 & -14.45 &  11.14 &   10.6 \\\\\n",
      "               SJC &     17.54 & -14.21 &  10.55 &   9.59 \\\\\n",
      "            Manaus &      17.3 & -14.58 &  11.94 &  11.14 \\\\\n",
      "     Volta Redonda &     17.23 & -14.12 &   9.72 &  11.38 \\\\\n",
      "          Ipatinga &     17.22 & -14.61 &  11.26 &  11.34 \\\\\n",
      "             NH-SL &     17.21 & -14.78 &  10.61 &  11.06 \\\\\n",
      "           Vitória &     17.18 & -14.97 &  11.86 &  10.99 \\\\\n",
      "            Recife &     17.02 & -14.62 &  11.65 &  10.69 \\\\\n",
      "    Campina Grande &     16.96 & -14.73 &  12.92 &  11.15 \\\\\n",
      "          Londrina &     16.77 & -13.63 &  11.96 &  11.48 \\\\\n",
      "             Natal &     16.62 & -14.53 &  10.81 &  11.59 \\\\\n",
      "     Florianópolis &      16.5 & -13.53 &  12.25 &  11.57 \\\\\n",
      "    Ilheus-Itabuna &      16.5 & -14.49 &  12.57 &  12.52 \\\\\n",
      "      Juiz de Fora &      16.4 & -12.68 &  11.81 &   10.9 \\\\\n",
      "          Teresina &     16.21 & -14.34 &  12.15 &  12.15 \\\\\n",
      "            Macapá &     16.15 & -13.75 &  11.67 &  12.36 \\\\\n",
      "    Ribeirão Preto &     16.08 & -14.28 &   12.2 &  12.16 \\\\\n",
      "           Aracaju &     15.87 & -13.97 &  11.93 &  11.73 \\\\\n",
      "           Goiânia &     15.86 & -14.32 &  13.58 &  12.45 \\\\\n",
      "            Campos &     15.83 & -13.76 &  13.06 &  11.73 \\\\\n",
      "          Sao Luis &     15.73 & -13.54 &  13.22 &  11.61 \\\\\n",
      "     Caxias do Sul &     15.71 & -13.06 &  13.46 &  11.89 \\\\\n",
      "          Salvador &     15.04 & -14.01 &  13.83 &  13.62 \\\\\n",
      "            Santos &     14.67 & -13.48 &   13.2 &  13.62 \\\\\n",
      "           Jundiai &     14.56 & -12.39 &  13.91 &   15.5 \\\\\n",
      "              SJRP &     14.36 & -12.68 &  13.23 &  14.07 \\\\\n",
      "         Fortaleza &     13.99 & -12.79 &  14.26 &  13.88 \\\\\n",
      "          Curitiba &     12.37 &  -12.3 &  71.55 &  79.85 \\\\\n",
      "             Belém &       8.0 &   -8.0 &  19.12 &  61.69 \\\\\n",
      "      Porto Alegre &      4.62 &  -4.47 &   13.5 &  14.24 \\\\\n",
      "          Campinas &      0.94 &  -0.94 &  63.56 &  97.53 \\\\\n",
      "          Brasília &       0.0 &    0.0 &    0.0 &    0.0 \\\\\n",
      "\\bottomrule\n",
      "\\end{tabular}\n",
      "\n",
      "\\begin{tabular}{lllll}\n",
      "\\toprule\n",
      "                MR & No policy &    Buy &   Rent &   Wage \\\\\n",
      "\\midrule\n",
      "         São Paulo &     45.75 &  -0.51 &   -0.4 &   2.55 \\\\\n",
      "    Rio de Janeiro &     44.59 &  -0.06 &   0.55 &   0.65 \\\\\n",
      "         Joinville &     39.56 & -17.41 &   4.89 &   5.51 \\\\\n",
      "      Campo Grande &     38.94 &  -20.3 &   6.27 &   5.73 \\\\\n",
      "           Pelotas &      38.9 & -22.48 &   6.39 &   6.61 \\\\\n",
      "       João Pessoa &      38.8 & -19.95 &   6.38 &   5.82 \\\\\n",
      "            Maceio &     38.78 & -20.74 &   6.25 &   6.25 \\\\\n",
      "           Maringá &     38.54 & -19.39 &   6.51 &   6.84 \\\\\n",
      "Petrolina-Juazeiro &     38.51 & -18.59 &   6.02 &   6.07 \\\\\n",
      "             Crato &     38.35 & -22.82 &   6.42 &   6.78 \\\\\n",
      "  Feira de Santana &     38.32 & -21.31 &   6.66 &   6.05 \\\\\n",
      "               all &     38.31 & -19.63 &   7.95 &   8.68 \\\\\n",
      "            Cuiabá &     38.08 & -21.93 &   6.96 &   6.72 \\\\\n",
      "        Uberlandia &     38.06 & -18.59 &   6.99 &   6.82 \\\\\n",
      "          Sorocaba &     38.05 &  -20.7 &   7.19 &   6.93 \\\\\n",
      "               SJC &     38.03 & -20.09 &   6.91 &   6.43 \\\\\n",
      "            Manaus &     37.82 & -21.56 &   7.67 &   7.29 \\\\\n",
      "     Volta Redonda &     37.77 & -20.41 &    6.6 &   7.42 \\\\\n",
      "          Ipatinga &     37.75 & -21.81 &   7.38 &   7.42 \\\\\n",
      "             NH-SL &     37.75 & -22.36 &   7.06 &   7.28 \\\\\n",
      "           Vitória &     37.72 & -23.02 &   7.68 &   7.26 \\\\\n",
      "            Recife &     37.58 & -22.28 &   7.64 &   7.18 \\\\\n",
      "    Campina Grande &     37.53 & -22.75 &   8.24 &   7.42 \\\\\n",
      "          Londrina &     37.36 & -19.91 &   7.89 &   7.66 \\\\\n",
      "             Natal &     37.23 & -22.91 &   7.39 &   7.77 \\\\\n",
      "     Florianópolis &     37.12 & -20.15 &   8.14 &   7.81 \\\\\n",
      "    Ilheus-Itabuna &     37.11 & -23.08 &    8.3 &   8.28 \\\\\n",
      "      Juiz de Fora &     37.03 & -18.12 &   7.97 &   7.52 \\\\\n",
      "          Teresina &     36.85 &  -23.3 &   8.22 &   8.23 \\\\\n",
      "            Macapá &      36.8 & -21.49 &   8.01 &   8.35 \\\\\n",
      "    Ribeirão Preto &     36.74 & -23.44 &   8.29 &   8.28 \\\\\n",
      "           Aracaju &     36.54 & -22.87 &   8.26 &   8.16 \\\\\n",
      "           Goiânia &     36.53 &  -24.2 &   9.05 &   8.52 \\\\\n",
      "            Campos &      36.5 & -22.25 &   8.82 &   8.18 \\\\\n",
      "          Sao Luis &     36.41 & -21.76 &   8.94 &   8.16 \\\\\n",
      "     Caxias do Sul &     36.39 & -20.32 &   9.06 &   8.31 \\\\\n",
      "          Salvador &     35.75 & -25.64 &   9.57 &   9.47 \\\\\n",
      "            Santos &     35.38 & -24.54 &   9.45 &   9.66 \\\\\n",
      "           Jundiai &     35.27 & -20.71 &   9.86 &  10.58 \\\\\n",
      "              SJRP &     35.07 & -22.23 &   9.63 &  10.04 \\\\\n",
      "         Fortaleza &     34.69 &  -23.8 &  10.33 &  10.15 \\\\\n",
      "          Curitiba &     32.92 & -30.22 &   3.81 &  -6.13 \\\\\n",
      "             Belém &     27.12 & -27.12 &  17.34 &  18.84 \\\\\n",
      "      Porto Alegre &     20.99 & -17.11 &  17.53 &  18.13 \\\\\n",
      "          Campinas &      9.63 &  -9.63 &  38.22 &   2.64 \\\\\n",
      "          Brasília &       0.0 &    0.0 &    0.0 &    0.0 \\\\\n",
      "    Belo Horizonte &       0.0 &  29.21 &    0.0 &    0.0 \\\\\n",
      "\\bottomrule\n",
      "\\end{tabular}\n",
      "\n",
      "\\begin{tabular}{lrrrrrr}\n",
      "\\toprule\n",
      "            Dummy &  Size: sur &  Size: ABM &  Opt: sur &  Opt: ABM &  Non-opt: sur &  Non-opt: ABM \\\\\n",
      "\\midrule\n",
      "         Curitiba &       2.15 &       1.06 &     46.99 &     47.86 &         53.01 &         52.14 \\\\\n",
      "     Policy: wage &      25.00 &      12.19 &     32.92 &     13.93 &         67.08 &         86.07 \\\\\n",
      "     Policy: rent &      25.01 &      12.19 &     31.03 &     10.37 &         68.97 &         89.63 \\\\\n",
      "  Interest: fixed &      33.35 &       0.19 &     21.37 &      0.00 &         78.63 &        100.00 \\\\\n",
      "   Interest: real &      33.33 &      99.62 &     21.37 &      5.78 &         78.63 &         94.22 \\\\\n",
      "Interest: nominal &      33.32 &       0.19 &     21.32 &      0.00 &         78.68 &        100.00 \\\\\n",
      "   Campina Grande &       2.16 &       1.06 &     19.29 &      0.00 &         80.71 &        100.00 \\\\\n",
      "    Florianópolis &       2.18 &       1.06 &     19.18 &      0.00 &         80.82 &        100.00 \\\\\n",
      "            Crato &       2.18 &       1.06 &     19.07 &      0.00 &         80.93 &        100.00 \\\\\n",
      "    Caxias do Sul &       2.18 &       1.06 &     18.94 &      0.00 &         81.06 &        100.00 \\\\\n",
      "     Juiz de Fora &       2.16 &       1.06 &     18.78 &      0.00 &         81.22 &        100.00 \\\\\n",
      "          Goiânia &       2.16 &       1.06 &     18.76 &      0.00 &         81.24 &        100.00 \\\\\n",
      "           Campos &       2.17 &       1.06 &     18.41 &      0.00 &         81.59 &        100.00 \\\\\n",
      "          Aracaju &       2.21 &       1.06 &     18.16 &      0.00 &         81.84 &        100.00 \\\\\n",
      "     Policy: none &      24.93 &      63.43 &     17.87 &      3.91 &         82.13 &         96.09 \\\\\n",
      "      Policy: buy &      25.06 &      12.19 &      3.62 &      2.59 &         96.38 &         97.41 \\\\\n",
      "\\bottomrule\n",
      "\\end{tabular}\n",
      "\n",
      "\\begin{tabular}{lrrrrrr}\n",
      "\\toprule\n",
      "           Dummy &  Size: sur &  Size: ABM &  Opt: sur &  Opt: ABM &  Non-opt: sur &  Non-opt: ABM \\\\\n",
      "\\midrule\n",
      "  Belo Horizonte &       2.17 &       2.00 &     77.06 &     81.08 &         22.94 &         18.92 \\\\\n",
      "        Campinas &       2.18 &       2.00 &     41.01 &     32.88 &         58.99 &         67.12 \\\\\n",
      "       São Paulo &       2.19 &       1.06 &     31.10 &    100.00 &         68.90 &          0.00 \\\\\n",
      "           Belém &       2.18 &       1.06 &     26.49 &     21.37 &         73.51 &         78.63 \\\\\n",
      "       Joinville &       2.16 &       0.30 &     19.99 &      0.00 &         80.01 &        100.00 \\\\\n",
      "         Maringá &       2.16 &       1.06 &     19.90 &      0.00 &         80.10 &        100.00 \\\\\n",
      "          Maceio &       2.16 &       1.06 &     19.66 &      0.00 &         80.34 &        100.00 \\\\\n",
      "    Campo Grande &       2.15 &       1.06 &     19.54 &      0.00 &         80.46 &        100.00 \\\\\n",
      "     João Pessoa &       2.18 &       1.06 &     19.52 &      0.00 &         80.48 &        100.00 \\\\\n",
      "      Uberlandia &       2.18 &       1.06 &     19.43 &      0.00 &         80.57 &        100.00 \\\\\n",
      "          Manaus &       2.17 &       1.06 &     19.42 &      0.00 &         80.58 &        100.00 \\\\\n",
      "        Sorocaba &       2.17 &       1.06 &     19.26 &      0.00 &         80.74 &        100.00 \\\\\n",
      "        Ipatinga &       2.17 &       1.06 &     19.25 &      0.00 &         80.75 &        100.00 \\\\\n",
      "        Londrina &       2.18 &       1.06 &     19.24 &      0.00 &         80.76 &        100.00 \\\\\n",
      "  Ilheus-Itabuna &       2.18 &       1.06 &     19.20 &      0.00 &         80.80 &        100.00 \\\\\n",
      "         Vitória &       2.20 &       1.06 &     19.20 &      0.00 &         80.80 &        100.00 \\\\\n",
      "          Cuiabá &       2.16 &       1.06 &     19.10 &      0.00 &         80.90 &        100.00 \\\\\n",
      "           NH-SL &       2.16 &       1.06 &     18.98 &      0.00 &         81.02 &        100.00 \\\\\n",
      "             SJC &       2.18 &       1.06 &     18.95 &      0.00 &         81.05 &        100.00 \\\\\n",
      "          Recife &       2.17 &       1.06 &     18.92 &      0.00 &         81.08 &        100.00 \\\\\n",
      "Feira de Santana &       2.16 &       1.06 &     18.89 &      0.00 &         81.11 &        100.00 \\\\\n",
      "        Teresina &       2.19 &       1.06 &     18.81 &      0.00 &         81.19 &        100.00 \\\\\n",
      "         Jundiai &       2.18 &       1.06 &     18.80 &      0.00 &         81.20 &        100.00 \\\\\n",
      "        Sao Luis &       2.17 &       1.06 &     18.53 &      0.00 &         81.47 &        100.00 \\\\\n",
      "        Salvador &       2.17 &       1.06 &     18.27 &     11.11 &         81.73 &         88.89 \\\\\n",
      "            SJRP &       2.17 &       1.06 &     17.97 &      0.00 &         82.03 &        100.00 \\\\\n",
      "       Fortaleza &       2.17 &       2.00 &     17.95 &      3.15 &         82.05 &         96.85 \\\\\n",
      "    Porto Alegre &       2.20 &       2.00 &     10.52 &      0.00 &         89.48 &        100.00 \\\\\n",
      "        Brasília &       2.19 &      48.67 &      0.00 &      1.06 &        100.00 &         98.94 \\\\\n",
      "\\bottomrule\n",
      "\\end{tabular}\n",
      "\n",
      "\\begin{tabular}{lrrr}\n",
      "\\toprule\n",
      "                                     Dummy &  Surrogate &    ABM &  Difference (p.p.) \\\\\n",
      "\\midrule\n",
      "                           \\% of population &     -20.09 & -42.03 &             -21.94 \\\\\n",
      "                    Productivity: exponent &       0.33 &   0.03 &              -0.30 \\\\\n",
      "                        Hiring sample size &       0.44 &   0.17 &              -0.27 \\\\\n",
      "              Tax over estate transactions &       0.27 &   0.02 &              -0.25 \\\\\n",
      "                        Hiring sample size &       0.26 &   0.04 &              -0.22 \\\\\n",
      "                     Maximum Loan-to-Value &       0.22 &   0.03 &              -0.19 \\\\\n",
      "               Loan/permament income ratio &       0.22 &   0.08 &              -0.14 \\\\\n",
      "                   Cost of private transit &      -0.00 &  -0.09 &              -0.09 \\\\\n",
      "supply-demand effect on real estate prices &       0.00 &  -0.05 &              -0.05 \\\\\n",
      "                                    Markup &      -0.00 &  -0.02 &              -0.02 \\\\\n",
      "           Municipal efficiency management &      -0.07 &  -0.08 &              -0.01 \\\\\n",
      "                             Sticky Prices &      -0.00 &  -0.01 &              -0.01 \\\\\n",
      "                     Perceived market size &      -0.05 &   0.01 &               0.06 \\\\\n",
      "                        Policy coefficient &      -0.47 &  -0.32 &               0.15 \\\\\n",
      "          \\% firms analyze commute distance &      -0.88 &  -0.55 &               0.33 \\\\\n",
      "                   \\% of construction firms &      -0.57 &  -0.08 &               0.49 \\\\\n",
      "                     Productivity: divisor &      -0.71 &  -0.15 &               0.56 \\\\\n",
      "                                Total Days &      -2.23 &  -1.65 &               0.58 \\\\\n",
      "                    Cost of public transit &      -5.04 &  -2.65 &               2.39 \\\\\n",
      "                               Policy days &      -6.42 &  -3.26 &               3.16 \\\\\n",
      "                           Policy Quantile &      -6.03 &  -1.58 &               4.45 \\\\\n",
      "                       Neighborhood effect &      -4.68 &  -0.14 &               4.54 \\\\\n",
      "           \\% that enters the estate market &      -5.83 &  -1.22 &               4.61 \\\\\n",
      "\\bottomrule\n",
      "\\end{tabular}\n",
      "\n"
     ]
    }
   ],
   "source": [
    "for _ in tables:\n",
    "    table = tables[_]\n",
    "    print(table.to_latex(index=False))\n",
    "    name = 'table_csvs/' + _ + '.csv'\n",
    "    table.to_csv(name, index=False, sep=';')"
   ],
   "metadata": {
    "collapsed": false,
    "pycharm": {
     "name": "#%%\n"
    }
   }
  },
  {
   "cell_type": "markdown",
   "source": [
    "# Creating the histogram for the mean and standard deviations per MR"
   ],
   "metadata": {
    "collapsed": false
   }
  },
  {
   "cell_type": "code",
   "execution_count": 59,
   "outputs": [
    {
     "data": {
      "text/plain": "                    MR No policy    Buy   Rent   Wage\n1       Belo Horizonte     100.0 -90.58    0.0    0.0\n7            São Paulo     29.84  -1.14   -0.9   7.23\n44      Rio de Janeiro     27.38  -0.12   1.11   1.33\n8            Joinville     19.43 -14.26   7.67   8.91\n9         Campo Grande     18.63 -15.02  10.02   8.91\n41             Pelotas     18.58 -15.81  10.24  10.71\n15         João Pessoa     18.47 -14.78  10.11   8.97\n17              Maceio     18.43 -15.06   9.84   9.83\n22             Maringá     18.14 -14.33  10.16  10.86\n42  Petrolina-Juazeiro     18.11 -13.97   9.16   9.25\n34               Crato     17.92 -15.45   9.81  10.55\n11    Feira de Santana     17.88  -14.9  10.29   9.08\n0                  all     17.87 -14.25  13.16  15.05\n24              Cuiabá     17.59 -14.91   10.7  10.21\n21          Uberlandia     17.57 -13.62  10.73  10.39\n14            Sorocaba     17.56 -14.45  11.14   10.6\n18                 SJC     17.54 -14.21  10.55   9.59\n28              Manaus      17.3 -14.58  11.94  11.14\n46       Volta Redonda     17.23 -14.12   9.72  11.38\n12            Ipatinga     17.22 -14.61  11.26  11.34\n26               NH-SL     17.21 -14.78  10.61  11.06\n23             Vitória     17.18 -14.97  11.86  10.99\n6               Recife     17.02 -14.62  11.65  10.69\n31      Campina Grande     16.96 -14.73  12.92  11.15\n13            Londrina     16.77 -13.63  11.96  11.48\n40               Natal     16.62 -14.53  10.81  11.59\n36       Florianópolis      16.5 -13.53  12.25  11.57\n19      Ilheus-Itabuna      16.5 -14.49  12.57  12.52\n38        Juiz de Fora      16.4 -12.68  11.81   10.9\n27            Teresina     16.21 -14.34  12.15  12.15\n39              Macapá     16.15 -13.75  11.67  12.36\n43      Ribeirão Preto     16.08 -14.28   12.2  12.16\n30             Aracaju     15.87 -13.97  11.93  11.73\n37             Goiânia     15.86 -14.32  13.58  12.45\n32              Campos     15.83 -13.76  13.06  11.73\n20            Sao Luis     15.73 -13.54  13.22  11.61\n33       Caxias do Sul     15.71 -13.06  13.46  11.89\n5             Salvador     15.04 -14.01  13.83  13.62\n45              Santos     14.67 -13.48   13.2  13.62\n10             Jundiai     14.56 -12.39  13.91   15.5\n16                SJRP     14.36 -12.68  13.23  14.07\n2            Fortaleza     13.99 -12.79  14.26  13.88\n35            Curitiba     12.37  -12.3  71.55  79.85\n25               Belém       8.0   -8.0  19.12  61.69\n3         Porto Alegre      4.62  -4.47   13.5  14.24\n4             Campinas      0.94  -0.94  63.56  97.53\n29            Brasília       0.0    0.0    0.0    0.0",
      "text/html": "<div>\n<style scoped>\n    .dataframe tbody tr th:only-of-type {\n        vertical-align: middle;\n    }\n\n    .dataframe tbody tr th {\n        vertical-align: top;\n    }\n\n    .dataframe thead tr th {\n        text-align: left;\n    }\n</style>\n<table border=\"1\" class=\"dataframe\">\n  <thead>\n    <tr>\n      <th></th>\n      <th>MR</th>\n      <th>No policy</th>\n      <th>Buy</th>\n      <th>Rent</th>\n      <th>Wage</th>\n    </tr>\n  </thead>\n  <tbody>\n    <tr>\n      <th>1</th>\n      <td>Belo Horizonte</td>\n      <td>100.0</td>\n      <td>-90.58</td>\n      <td>0.0</td>\n      <td>0.0</td>\n    </tr>\n    <tr>\n      <th>7</th>\n      <td>São Paulo</td>\n      <td>29.84</td>\n      <td>-1.14</td>\n      <td>-0.9</td>\n      <td>7.23</td>\n    </tr>\n    <tr>\n      <th>44</th>\n      <td>Rio de Janeiro</td>\n      <td>27.38</td>\n      <td>-0.12</td>\n      <td>1.11</td>\n      <td>1.33</td>\n    </tr>\n    <tr>\n      <th>8</th>\n      <td>Joinville</td>\n      <td>19.43</td>\n      <td>-14.26</td>\n      <td>7.67</td>\n      <td>8.91</td>\n    </tr>\n    <tr>\n      <th>9</th>\n      <td>Campo Grande</td>\n      <td>18.63</td>\n      <td>-15.02</td>\n      <td>10.02</td>\n      <td>8.91</td>\n    </tr>\n    <tr>\n      <th>41</th>\n      <td>Pelotas</td>\n      <td>18.58</td>\n      <td>-15.81</td>\n      <td>10.24</td>\n      <td>10.71</td>\n    </tr>\n    <tr>\n      <th>15</th>\n      <td>João Pessoa</td>\n      <td>18.47</td>\n      <td>-14.78</td>\n      <td>10.11</td>\n      <td>8.97</td>\n    </tr>\n    <tr>\n      <th>17</th>\n      <td>Maceio</td>\n      <td>18.43</td>\n      <td>-15.06</td>\n      <td>9.84</td>\n      <td>9.83</td>\n    </tr>\n    <tr>\n      <th>22</th>\n      <td>Maringá</td>\n      <td>18.14</td>\n      <td>-14.33</td>\n      <td>10.16</td>\n      <td>10.86</td>\n    </tr>\n    <tr>\n      <th>42</th>\n      <td>Petrolina-Juazeiro</td>\n      <td>18.11</td>\n      <td>-13.97</td>\n      <td>9.16</td>\n      <td>9.25</td>\n    </tr>\n    <tr>\n      <th>34</th>\n      <td>Crato</td>\n      <td>17.92</td>\n      <td>-15.45</td>\n      <td>9.81</td>\n      <td>10.55</td>\n    </tr>\n    <tr>\n      <th>11</th>\n      <td>Feira de Santana</td>\n      <td>17.88</td>\n      <td>-14.9</td>\n      <td>10.29</td>\n      <td>9.08</td>\n    </tr>\n    <tr>\n      <th>0</th>\n      <td>all</td>\n      <td>17.87</td>\n      <td>-14.25</td>\n      <td>13.16</td>\n      <td>15.05</td>\n    </tr>\n    <tr>\n      <th>24</th>\n      <td>Cuiabá</td>\n      <td>17.59</td>\n      <td>-14.91</td>\n      <td>10.7</td>\n      <td>10.21</td>\n    </tr>\n    <tr>\n      <th>21</th>\n      <td>Uberlandia</td>\n      <td>17.57</td>\n      <td>-13.62</td>\n      <td>10.73</td>\n      <td>10.39</td>\n    </tr>\n    <tr>\n      <th>14</th>\n      <td>Sorocaba</td>\n      <td>17.56</td>\n      <td>-14.45</td>\n      <td>11.14</td>\n      <td>10.6</td>\n    </tr>\n    <tr>\n      <th>18</th>\n      <td>SJC</td>\n      <td>17.54</td>\n      <td>-14.21</td>\n      <td>10.55</td>\n      <td>9.59</td>\n    </tr>\n    <tr>\n      <th>28</th>\n      <td>Manaus</td>\n      <td>17.3</td>\n      <td>-14.58</td>\n      <td>11.94</td>\n      <td>11.14</td>\n    </tr>\n    <tr>\n      <th>46</th>\n      <td>Volta Redonda</td>\n      <td>17.23</td>\n      <td>-14.12</td>\n      <td>9.72</td>\n      <td>11.38</td>\n    </tr>\n    <tr>\n      <th>12</th>\n      <td>Ipatinga</td>\n      <td>17.22</td>\n      <td>-14.61</td>\n      <td>11.26</td>\n      <td>11.34</td>\n    </tr>\n    <tr>\n      <th>26</th>\n      <td>NH-SL</td>\n      <td>17.21</td>\n      <td>-14.78</td>\n      <td>10.61</td>\n      <td>11.06</td>\n    </tr>\n    <tr>\n      <th>23</th>\n      <td>Vitória</td>\n      <td>17.18</td>\n      <td>-14.97</td>\n      <td>11.86</td>\n      <td>10.99</td>\n    </tr>\n    <tr>\n      <th>6</th>\n      <td>Recife</td>\n      <td>17.02</td>\n      <td>-14.62</td>\n      <td>11.65</td>\n      <td>10.69</td>\n    </tr>\n    <tr>\n      <th>31</th>\n      <td>Campina Grande</td>\n      <td>16.96</td>\n      <td>-14.73</td>\n      <td>12.92</td>\n      <td>11.15</td>\n    </tr>\n    <tr>\n      <th>13</th>\n      <td>Londrina</td>\n      <td>16.77</td>\n      <td>-13.63</td>\n      <td>11.96</td>\n      <td>11.48</td>\n    </tr>\n    <tr>\n      <th>40</th>\n      <td>Natal</td>\n      <td>16.62</td>\n      <td>-14.53</td>\n      <td>10.81</td>\n      <td>11.59</td>\n    </tr>\n    <tr>\n      <th>36</th>\n      <td>Florianópolis</td>\n      <td>16.5</td>\n      <td>-13.53</td>\n      <td>12.25</td>\n      <td>11.57</td>\n    </tr>\n    <tr>\n      <th>19</th>\n      <td>Ilheus-Itabuna</td>\n      <td>16.5</td>\n      <td>-14.49</td>\n      <td>12.57</td>\n      <td>12.52</td>\n    </tr>\n    <tr>\n      <th>38</th>\n      <td>Juiz de Fora</td>\n      <td>16.4</td>\n      <td>-12.68</td>\n      <td>11.81</td>\n      <td>10.9</td>\n    </tr>\n    <tr>\n      <th>27</th>\n      <td>Teresina</td>\n      <td>16.21</td>\n      <td>-14.34</td>\n      <td>12.15</td>\n      <td>12.15</td>\n    </tr>\n    <tr>\n      <th>39</th>\n      <td>Macapá</td>\n      <td>16.15</td>\n      <td>-13.75</td>\n      <td>11.67</td>\n      <td>12.36</td>\n    </tr>\n    <tr>\n      <th>43</th>\n      <td>Ribeirão Preto</td>\n      <td>16.08</td>\n      <td>-14.28</td>\n      <td>12.2</td>\n      <td>12.16</td>\n    </tr>\n    <tr>\n      <th>30</th>\n      <td>Aracaju</td>\n      <td>15.87</td>\n      <td>-13.97</td>\n      <td>11.93</td>\n      <td>11.73</td>\n    </tr>\n    <tr>\n      <th>37</th>\n      <td>Goiânia</td>\n      <td>15.86</td>\n      <td>-14.32</td>\n      <td>13.58</td>\n      <td>12.45</td>\n    </tr>\n    <tr>\n      <th>32</th>\n      <td>Campos</td>\n      <td>15.83</td>\n      <td>-13.76</td>\n      <td>13.06</td>\n      <td>11.73</td>\n    </tr>\n    <tr>\n      <th>20</th>\n      <td>Sao Luis</td>\n      <td>15.73</td>\n      <td>-13.54</td>\n      <td>13.22</td>\n      <td>11.61</td>\n    </tr>\n    <tr>\n      <th>33</th>\n      <td>Caxias do Sul</td>\n      <td>15.71</td>\n      <td>-13.06</td>\n      <td>13.46</td>\n      <td>11.89</td>\n    </tr>\n    <tr>\n      <th>5</th>\n      <td>Salvador</td>\n      <td>15.04</td>\n      <td>-14.01</td>\n      <td>13.83</td>\n      <td>13.62</td>\n    </tr>\n    <tr>\n      <th>45</th>\n      <td>Santos</td>\n      <td>14.67</td>\n      <td>-13.48</td>\n      <td>13.2</td>\n      <td>13.62</td>\n    </tr>\n    <tr>\n      <th>10</th>\n      <td>Jundiai</td>\n      <td>14.56</td>\n      <td>-12.39</td>\n      <td>13.91</td>\n      <td>15.5</td>\n    </tr>\n    <tr>\n      <th>16</th>\n      <td>SJRP</td>\n      <td>14.36</td>\n      <td>-12.68</td>\n      <td>13.23</td>\n      <td>14.07</td>\n    </tr>\n    <tr>\n      <th>2</th>\n      <td>Fortaleza</td>\n      <td>13.99</td>\n      <td>-12.79</td>\n      <td>14.26</td>\n      <td>13.88</td>\n    </tr>\n    <tr>\n      <th>35</th>\n      <td>Curitiba</td>\n      <td>12.37</td>\n      <td>-12.3</td>\n      <td>71.55</td>\n      <td>79.85</td>\n    </tr>\n    <tr>\n      <th>25</th>\n      <td>Belém</td>\n      <td>8.0</td>\n      <td>-8.0</td>\n      <td>19.12</td>\n      <td>61.69</td>\n    </tr>\n    <tr>\n      <th>3</th>\n      <td>Porto Alegre</td>\n      <td>4.62</td>\n      <td>-4.47</td>\n      <td>13.5</td>\n      <td>14.24</td>\n    </tr>\n    <tr>\n      <th>4</th>\n      <td>Campinas</td>\n      <td>0.94</td>\n      <td>-0.94</td>\n      <td>63.56</td>\n      <td>97.53</td>\n    </tr>\n    <tr>\n      <th>29</th>\n      <td>Brasília</td>\n      <td>0.0</td>\n      <td>0.0</td>\n      <td>0.0</td>\n      <td>0.0</td>\n    </tr>\n  </tbody>\n</table>\n</div>"
     },
     "execution_count": 59,
     "metadata": {},
     "output_type": "execute_result"
    }
   ],
   "source": [
    "mean_policy_acp"
   ],
   "metadata": {
    "collapsed": false,
    "pycharm": {
     "name": "#%%\n"
    }
   }
  },
  {
   "cell_type": "code",
   "execution_count": 60,
   "outputs": [],
   "source": [
    "hist_mean = mean_policy_acp.copy()\n",
    "hist_std = std_policy_acp.copy()\n",
    "\n",
    "for col in ['Buy', 'Rent', 'Wage']:\n",
    "    hist_mean[col] = mean_policy_acp.loc[:,['No policy',col]].sum(axis=1)\n",
    "    hist_std[col] = std_policy_acp.loc[:,['No policy',col]].sum(axis=1)"
   ],
   "metadata": {
    "collapsed": false,
    "pycharm": {
     "name": "#%%\n"
    }
   }
  },
  {
   "cell_type": "code",
   "execution_count": 61,
   "outputs": [
    {
     "data": {
      "text/plain": "                    MR No policy    Buy    Rent    Wage\n1       Belo Horizonte     100.0   9.42  100.00  100.00\n7            São Paulo     29.84  28.70   28.94   37.07\n44      Rio de Janeiro     27.38  27.26   28.49   28.71\n8            Joinville     19.43   5.17   27.10   28.34\n9         Campo Grande     18.63   3.61   28.65   27.54\n41             Pelotas     18.58   2.77   28.82   29.29\n15         João Pessoa     18.47   3.69   28.58   27.44\n17              Maceio     18.43   3.37   28.27   28.26\n22             Maringá     18.14   3.81   28.30   29.00\n42  Petrolina-Juazeiro     18.11   4.14   27.27   27.36\n34               Crato     17.92   2.47   27.73   28.47\n11    Feira de Santana     17.88   2.98   28.17   26.96\n0                  all     17.87   3.62   31.03   32.92\n24              Cuiabá     17.59   2.68   28.29   27.80\n21          Uberlandia     17.57   3.95   28.30   27.96\n14            Sorocaba     17.56   3.11   28.70   28.16\n18                 SJC     17.54   3.33   28.09   27.13\n28              Manaus      17.3   2.72   29.24   28.44\n46       Volta Redonda     17.23   3.11   26.95   28.61\n12            Ipatinga     17.22   2.61   28.48   28.56\n26               NH-SL     17.21   2.43   27.82   28.27\n23             Vitória     17.18   2.21   29.04   28.17\n6               Recife     17.02   2.40   28.67   27.71\n31      Campina Grande     16.96   2.23   29.88   28.11\n13            Londrina     16.77   3.14   28.73   28.25\n40               Natal     16.62   2.09   27.43   28.21\n36       Florianópolis      16.5   2.97   28.75   28.07\n19      Ilheus-Itabuna      16.5   2.01   29.07   29.02\n38        Juiz de Fora      16.4   3.72   28.21   27.30\n27            Teresina     16.21   1.87   28.36   28.36\n39              Macapá     16.15   2.40   27.82   28.51\n43      Ribeirão Preto     16.08   1.80   28.28   28.24\n30             Aracaju     15.87   1.90   27.80   27.60\n37             Goiânia     15.86   1.54   29.44   28.31\n32              Campos     15.83   2.07   28.89   27.56\n20            Sao Luis     15.73   2.19   28.95   27.34\n33       Caxias do Sul     15.71   2.65   29.17   27.60\n5             Salvador     15.04   1.03   28.87   28.66\n45              Santos     14.67   1.19   27.87   28.29\n10             Jundiai     14.56   2.17   28.47   30.06\n16                SJRP     14.36   1.68   27.59   28.43\n2            Fortaleza     13.99   1.20   28.25   27.87\n35            Curitiba     12.37   0.07   83.92   92.22\n25               Belém       8.0   0.00   27.12   69.69\n3         Porto Alegre      4.62   0.15   18.12   18.86\n4             Campinas      0.94   0.00   64.50   98.47\n29            Brasília       0.0   0.00    0.00    0.00",
      "text/html": "<div>\n<style scoped>\n    .dataframe tbody tr th:only-of-type {\n        vertical-align: middle;\n    }\n\n    .dataframe tbody tr th {\n        vertical-align: top;\n    }\n\n    .dataframe thead tr th {\n        text-align: left;\n    }\n</style>\n<table border=\"1\" class=\"dataframe\">\n  <thead>\n    <tr>\n      <th></th>\n      <th>MR</th>\n      <th>No policy</th>\n      <th>Buy</th>\n      <th>Rent</th>\n      <th>Wage</th>\n    </tr>\n  </thead>\n  <tbody>\n    <tr>\n      <th>1</th>\n      <td>Belo Horizonte</td>\n      <td>100.0</td>\n      <td>9.42</td>\n      <td>100.00</td>\n      <td>100.00</td>\n    </tr>\n    <tr>\n      <th>7</th>\n      <td>São Paulo</td>\n      <td>29.84</td>\n      <td>28.70</td>\n      <td>28.94</td>\n      <td>37.07</td>\n    </tr>\n    <tr>\n      <th>44</th>\n      <td>Rio de Janeiro</td>\n      <td>27.38</td>\n      <td>27.26</td>\n      <td>28.49</td>\n      <td>28.71</td>\n    </tr>\n    <tr>\n      <th>8</th>\n      <td>Joinville</td>\n      <td>19.43</td>\n      <td>5.17</td>\n      <td>27.10</td>\n      <td>28.34</td>\n    </tr>\n    <tr>\n      <th>9</th>\n      <td>Campo Grande</td>\n      <td>18.63</td>\n      <td>3.61</td>\n      <td>28.65</td>\n      <td>27.54</td>\n    </tr>\n    <tr>\n      <th>41</th>\n      <td>Pelotas</td>\n      <td>18.58</td>\n      <td>2.77</td>\n      <td>28.82</td>\n      <td>29.29</td>\n    </tr>\n    <tr>\n      <th>15</th>\n      <td>João Pessoa</td>\n      <td>18.47</td>\n      <td>3.69</td>\n      <td>28.58</td>\n      <td>27.44</td>\n    </tr>\n    <tr>\n      <th>17</th>\n      <td>Maceio</td>\n      <td>18.43</td>\n      <td>3.37</td>\n      <td>28.27</td>\n      <td>28.26</td>\n    </tr>\n    <tr>\n      <th>22</th>\n      <td>Maringá</td>\n      <td>18.14</td>\n      <td>3.81</td>\n      <td>28.30</td>\n      <td>29.00</td>\n    </tr>\n    <tr>\n      <th>42</th>\n      <td>Petrolina-Juazeiro</td>\n      <td>18.11</td>\n      <td>4.14</td>\n      <td>27.27</td>\n      <td>27.36</td>\n    </tr>\n    <tr>\n      <th>34</th>\n      <td>Crato</td>\n      <td>17.92</td>\n      <td>2.47</td>\n      <td>27.73</td>\n      <td>28.47</td>\n    </tr>\n    <tr>\n      <th>11</th>\n      <td>Feira de Santana</td>\n      <td>17.88</td>\n      <td>2.98</td>\n      <td>28.17</td>\n      <td>26.96</td>\n    </tr>\n    <tr>\n      <th>0</th>\n      <td>all</td>\n      <td>17.87</td>\n      <td>3.62</td>\n      <td>31.03</td>\n      <td>32.92</td>\n    </tr>\n    <tr>\n      <th>24</th>\n      <td>Cuiabá</td>\n      <td>17.59</td>\n      <td>2.68</td>\n      <td>28.29</td>\n      <td>27.80</td>\n    </tr>\n    <tr>\n      <th>21</th>\n      <td>Uberlandia</td>\n      <td>17.57</td>\n      <td>3.95</td>\n      <td>28.30</td>\n      <td>27.96</td>\n    </tr>\n    <tr>\n      <th>14</th>\n      <td>Sorocaba</td>\n      <td>17.56</td>\n      <td>3.11</td>\n      <td>28.70</td>\n      <td>28.16</td>\n    </tr>\n    <tr>\n      <th>18</th>\n      <td>SJC</td>\n      <td>17.54</td>\n      <td>3.33</td>\n      <td>28.09</td>\n      <td>27.13</td>\n    </tr>\n    <tr>\n      <th>28</th>\n      <td>Manaus</td>\n      <td>17.3</td>\n      <td>2.72</td>\n      <td>29.24</td>\n      <td>28.44</td>\n    </tr>\n    <tr>\n      <th>46</th>\n      <td>Volta Redonda</td>\n      <td>17.23</td>\n      <td>3.11</td>\n      <td>26.95</td>\n      <td>28.61</td>\n    </tr>\n    <tr>\n      <th>12</th>\n      <td>Ipatinga</td>\n      <td>17.22</td>\n      <td>2.61</td>\n      <td>28.48</td>\n      <td>28.56</td>\n    </tr>\n    <tr>\n      <th>26</th>\n      <td>NH-SL</td>\n      <td>17.21</td>\n      <td>2.43</td>\n      <td>27.82</td>\n      <td>28.27</td>\n    </tr>\n    <tr>\n      <th>23</th>\n      <td>Vitória</td>\n      <td>17.18</td>\n      <td>2.21</td>\n      <td>29.04</td>\n      <td>28.17</td>\n    </tr>\n    <tr>\n      <th>6</th>\n      <td>Recife</td>\n      <td>17.02</td>\n      <td>2.40</td>\n      <td>28.67</td>\n      <td>27.71</td>\n    </tr>\n    <tr>\n      <th>31</th>\n      <td>Campina Grande</td>\n      <td>16.96</td>\n      <td>2.23</td>\n      <td>29.88</td>\n      <td>28.11</td>\n    </tr>\n    <tr>\n      <th>13</th>\n      <td>Londrina</td>\n      <td>16.77</td>\n      <td>3.14</td>\n      <td>28.73</td>\n      <td>28.25</td>\n    </tr>\n    <tr>\n      <th>40</th>\n      <td>Natal</td>\n      <td>16.62</td>\n      <td>2.09</td>\n      <td>27.43</td>\n      <td>28.21</td>\n    </tr>\n    <tr>\n      <th>36</th>\n      <td>Florianópolis</td>\n      <td>16.5</td>\n      <td>2.97</td>\n      <td>28.75</td>\n      <td>28.07</td>\n    </tr>\n    <tr>\n      <th>19</th>\n      <td>Ilheus-Itabuna</td>\n      <td>16.5</td>\n      <td>2.01</td>\n      <td>29.07</td>\n      <td>29.02</td>\n    </tr>\n    <tr>\n      <th>38</th>\n      <td>Juiz de Fora</td>\n      <td>16.4</td>\n      <td>3.72</td>\n      <td>28.21</td>\n      <td>27.30</td>\n    </tr>\n    <tr>\n      <th>27</th>\n      <td>Teresina</td>\n      <td>16.21</td>\n      <td>1.87</td>\n      <td>28.36</td>\n      <td>28.36</td>\n    </tr>\n    <tr>\n      <th>39</th>\n      <td>Macapá</td>\n      <td>16.15</td>\n      <td>2.40</td>\n      <td>27.82</td>\n      <td>28.51</td>\n    </tr>\n    <tr>\n      <th>43</th>\n      <td>Ribeirão Preto</td>\n      <td>16.08</td>\n      <td>1.80</td>\n      <td>28.28</td>\n      <td>28.24</td>\n    </tr>\n    <tr>\n      <th>30</th>\n      <td>Aracaju</td>\n      <td>15.87</td>\n      <td>1.90</td>\n      <td>27.80</td>\n      <td>27.60</td>\n    </tr>\n    <tr>\n      <th>37</th>\n      <td>Goiânia</td>\n      <td>15.86</td>\n      <td>1.54</td>\n      <td>29.44</td>\n      <td>28.31</td>\n    </tr>\n    <tr>\n      <th>32</th>\n      <td>Campos</td>\n      <td>15.83</td>\n      <td>2.07</td>\n      <td>28.89</td>\n      <td>27.56</td>\n    </tr>\n    <tr>\n      <th>20</th>\n      <td>Sao Luis</td>\n      <td>15.73</td>\n      <td>2.19</td>\n      <td>28.95</td>\n      <td>27.34</td>\n    </tr>\n    <tr>\n      <th>33</th>\n      <td>Caxias do Sul</td>\n      <td>15.71</td>\n      <td>2.65</td>\n      <td>29.17</td>\n      <td>27.60</td>\n    </tr>\n    <tr>\n      <th>5</th>\n      <td>Salvador</td>\n      <td>15.04</td>\n      <td>1.03</td>\n      <td>28.87</td>\n      <td>28.66</td>\n    </tr>\n    <tr>\n      <th>45</th>\n      <td>Santos</td>\n      <td>14.67</td>\n      <td>1.19</td>\n      <td>27.87</td>\n      <td>28.29</td>\n    </tr>\n    <tr>\n      <th>10</th>\n      <td>Jundiai</td>\n      <td>14.56</td>\n      <td>2.17</td>\n      <td>28.47</td>\n      <td>30.06</td>\n    </tr>\n    <tr>\n      <th>16</th>\n      <td>SJRP</td>\n      <td>14.36</td>\n      <td>1.68</td>\n      <td>27.59</td>\n      <td>28.43</td>\n    </tr>\n    <tr>\n      <th>2</th>\n      <td>Fortaleza</td>\n      <td>13.99</td>\n      <td>1.20</td>\n      <td>28.25</td>\n      <td>27.87</td>\n    </tr>\n    <tr>\n      <th>35</th>\n      <td>Curitiba</td>\n      <td>12.37</td>\n      <td>0.07</td>\n      <td>83.92</td>\n      <td>92.22</td>\n    </tr>\n    <tr>\n      <th>25</th>\n      <td>Belém</td>\n      <td>8.0</td>\n      <td>0.00</td>\n      <td>27.12</td>\n      <td>69.69</td>\n    </tr>\n    <tr>\n      <th>3</th>\n      <td>Porto Alegre</td>\n      <td>4.62</td>\n      <td>0.15</td>\n      <td>18.12</td>\n      <td>18.86</td>\n    </tr>\n    <tr>\n      <th>4</th>\n      <td>Campinas</td>\n      <td>0.94</td>\n      <td>0.00</td>\n      <td>64.50</td>\n      <td>98.47</td>\n    </tr>\n    <tr>\n      <th>29</th>\n      <td>Brasília</td>\n      <td>0.0</td>\n      <td>0.00</td>\n      <td>0.00</td>\n      <td>0.00</td>\n    </tr>\n  </tbody>\n</table>\n</div>"
     },
     "execution_count": 61,
     "metadata": {},
     "output_type": "execute_result"
    }
   ],
   "source": [
    "hist_mean"
   ],
   "metadata": {
    "collapsed": false,
    "pycharm": {
     "name": "#%%\n"
    }
   }
  },
  {
   "cell_type": "code",
   "execution_count": 62,
   "outputs": [],
   "source": [
    "hist_std.sort_values(by=('MR',), inplace=True)\n",
    "hist_mean.sort_values(by=('MR',), inplace=True)"
   ],
   "metadata": {
    "collapsed": false,
    "pycharm": {
     "name": "#%%\n"
    }
   }
  },
  {
   "cell_type": "code",
   "execution_count": 63,
   "outputs": [
    {
     "data": {
      "text/plain": "                    MR No policy    Buy    Rent    Wage\n30             Aracaju     15.87   1.90   27.80   27.60\n1       Belo Horizonte     100.0   9.42  100.00  100.00\n25               Belém       8.0   0.00   27.12   69.69\n29            Brasília       0.0   0.00    0.00    0.00\n31      Campina Grande     16.96   2.23   29.88   28.11\n4             Campinas      0.94   0.00   64.50   98.47\n9         Campo Grande     18.63   3.61   28.65   27.54\n32              Campos     15.83   2.07   28.89   27.56\n33       Caxias do Sul     15.71   2.65   29.17   27.60\n34               Crato     17.92   2.47   27.73   28.47\n24              Cuiabá     17.59   2.68   28.29   27.80\n35            Curitiba     12.37   0.07   83.92   92.22\n11    Feira de Santana     17.88   2.98   28.17   26.96\n36       Florianópolis      16.5   2.97   28.75   28.07\n2            Fortaleza     13.99   1.20   28.25   27.87\n37             Goiânia     15.86   1.54   29.44   28.31\n19      Ilheus-Itabuna      16.5   2.01   29.07   29.02\n12            Ipatinga     17.22   2.61   28.48   28.56\n8            Joinville     19.43   5.17   27.10   28.34\n15         João Pessoa     18.47   3.69   28.58   27.44\n38        Juiz de Fora      16.4   3.72   28.21   27.30\n10             Jundiai     14.56   2.17   28.47   30.06\n13            Londrina     16.77   3.14   28.73   28.25\n39              Macapá     16.15   2.40   27.82   28.51\n17              Maceio     18.43   3.37   28.27   28.26\n28              Manaus      17.3   2.72   29.24   28.44\n22             Maringá     18.14   3.81   28.30   29.00\n26               NH-SL     17.21   2.43   27.82   28.27\n40               Natal     16.62   2.09   27.43   28.21\n41             Pelotas     18.58   2.77   28.82   29.29\n42  Petrolina-Juazeiro     18.11   4.14   27.27   27.36\n3         Porto Alegre      4.62   0.15   18.12   18.86\n6               Recife     17.02   2.40   28.67   27.71\n43      Ribeirão Preto     16.08   1.80   28.28   28.24\n44      Rio de Janeiro     27.38  27.26   28.49   28.71\n18                 SJC     17.54   3.33   28.09   27.13\n16                SJRP     14.36   1.68   27.59   28.43\n5             Salvador     15.04   1.03   28.87   28.66\n45              Santos     14.67   1.19   27.87   28.29\n20            Sao Luis     15.73   2.19   28.95   27.34\n14            Sorocaba     17.56   3.11   28.70   28.16\n7            São Paulo     29.84  28.70   28.94   37.07\n27            Teresina     16.21   1.87   28.36   28.36\n21          Uberlandia     17.57   3.95   28.30   27.96\n23             Vitória     17.18   2.21   29.04   28.17\n46       Volta Redonda     17.23   3.11   26.95   28.61\n0                  all     17.87   3.62   31.03   32.92",
      "text/html": "<div>\n<style scoped>\n    .dataframe tbody tr th:only-of-type {\n        vertical-align: middle;\n    }\n\n    .dataframe tbody tr th {\n        vertical-align: top;\n    }\n\n    .dataframe thead tr th {\n        text-align: left;\n    }\n</style>\n<table border=\"1\" class=\"dataframe\">\n  <thead>\n    <tr>\n      <th></th>\n      <th>MR</th>\n      <th>No policy</th>\n      <th>Buy</th>\n      <th>Rent</th>\n      <th>Wage</th>\n    </tr>\n  </thead>\n  <tbody>\n    <tr>\n      <th>30</th>\n      <td>Aracaju</td>\n      <td>15.87</td>\n      <td>1.90</td>\n      <td>27.80</td>\n      <td>27.60</td>\n    </tr>\n    <tr>\n      <th>1</th>\n      <td>Belo Horizonte</td>\n      <td>100.0</td>\n      <td>9.42</td>\n      <td>100.00</td>\n      <td>100.00</td>\n    </tr>\n    <tr>\n      <th>25</th>\n      <td>Belém</td>\n      <td>8.0</td>\n      <td>0.00</td>\n      <td>27.12</td>\n      <td>69.69</td>\n    </tr>\n    <tr>\n      <th>29</th>\n      <td>Brasília</td>\n      <td>0.0</td>\n      <td>0.00</td>\n      <td>0.00</td>\n      <td>0.00</td>\n    </tr>\n    <tr>\n      <th>31</th>\n      <td>Campina Grande</td>\n      <td>16.96</td>\n      <td>2.23</td>\n      <td>29.88</td>\n      <td>28.11</td>\n    </tr>\n    <tr>\n      <th>4</th>\n      <td>Campinas</td>\n      <td>0.94</td>\n      <td>0.00</td>\n      <td>64.50</td>\n      <td>98.47</td>\n    </tr>\n    <tr>\n      <th>9</th>\n      <td>Campo Grande</td>\n      <td>18.63</td>\n      <td>3.61</td>\n      <td>28.65</td>\n      <td>27.54</td>\n    </tr>\n    <tr>\n      <th>32</th>\n      <td>Campos</td>\n      <td>15.83</td>\n      <td>2.07</td>\n      <td>28.89</td>\n      <td>27.56</td>\n    </tr>\n    <tr>\n      <th>33</th>\n      <td>Caxias do Sul</td>\n      <td>15.71</td>\n      <td>2.65</td>\n      <td>29.17</td>\n      <td>27.60</td>\n    </tr>\n    <tr>\n      <th>34</th>\n      <td>Crato</td>\n      <td>17.92</td>\n      <td>2.47</td>\n      <td>27.73</td>\n      <td>28.47</td>\n    </tr>\n    <tr>\n      <th>24</th>\n      <td>Cuiabá</td>\n      <td>17.59</td>\n      <td>2.68</td>\n      <td>28.29</td>\n      <td>27.80</td>\n    </tr>\n    <tr>\n      <th>35</th>\n      <td>Curitiba</td>\n      <td>12.37</td>\n      <td>0.07</td>\n      <td>83.92</td>\n      <td>92.22</td>\n    </tr>\n    <tr>\n      <th>11</th>\n      <td>Feira de Santana</td>\n      <td>17.88</td>\n      <td>2.98</td>\n      <td>28.17</td>\n      <td>26.96</td>\n    </tr>\n    <tr>\n      <th>36</th>\n      <td>Florianópolis</td>\n      <td>16.5</td>\n      <td>2.97</td>\n      <td>28.75</td>\n      <td>28.07</td>\n    </tr>\n    <tr>\n      <th>2</th>\n      <td>Fortaleza</td>\n      <td>13.99</td>\n      <td>1.20</td>\n      <td>28.25</td>\n      <td>27.87</td>\n    </tr>\n    <tr>\n      <th>37</th>\n      <td>Goiânia</td>\n      <td>15.86</td>\n      <td>1.54</td>\n      <td>29.44</td>\n      <td>28.31</td>\n    </tr>\n    <tr>\n      <th>19</th>\n      <td>Ilheus-Itabuna</td>\n      <td>16.5</td>\n      <td>2.01</td>\n      <td>29.07</td>\n      <td>29.02</td>\n    </tr>\n    <tr>\n      <th>12</th>\n      <td>Ipatinga</td>\n      <td>17.22</td>\n      <td>2.61</td>\n      <td>28.48</td>\n      <td>28.56</td>\n    </tr>\n    <tr>\n      <th>8</th>\n      <td>Joinville</td>\n      <td>19.43</td>\n      <td>5.17</td>\n      <td>27.10</td>\n      <td>28.34</td>\n    </tr>\n    <tr>\n      <th>15</th>\n      <td>João Pessoa</td>\n      <td>18.47</td>\n      <td>3.69</td>\n      <td>28.58</td>\n      <td>27.44</td>\n    </tr>\n    <tr>\n      <th>38</th>\n      <td>Juiz de Fora</td>\n      <td>16.4</td>\n      <td>3.72</td>\n      <td>28.21</td>\n      <td>27.30</td>\n    </tr>\n    <tr>\n      <th>10</th>\n      <td>Jundiai</td>\n      <td>14.56</td>\n      <td>2.17</td>\n      <td>28.47</td>\n      <td>30.06</td>\n    </tr>\n    <tr>\n      <th>13</th>\n      <td>Londrina</td>\n      <td>16.77</td>\n      <td>3.14</td>\n      <td>28.73</td>\n      <td>28.25</td>\n    </tr>\n    <tr>\n      <th>39</th>\n      <td>Macapá</td>\n      <td>16.15</td>\n      <td>2.40</td>\n      <td>27.82</td>\n      <td>28.51</td>\n    </tr>\n    <tr>\n      <th>17</th>\n      <td>Maceio</td>\n      <td>18.43</td>\n      <td>3.37</td>\n      <td>28.27</td>\n      <td>28.26</td>\n    </tr>\n    <tr>\n      <th>28</th>\n      <td>Manaus</td>\n      <td>17.3</td>\n      <td>2.72</td>\n      <td>29.24</td>\n      <td>28.44</td>\n    </tr>\n    <tr>\n      <th>22</th>\n      <td>Maringá</td>\n      <td>18.14</td>\n      <td>3.81</td>\n      <td>28.30</td>\n      <td>29.00</td>\n    </tr>\n    <tr>\n      <th>26</th>\n      <td>NH-SL</td>\n      <td>17.21</td>\n      <td>2.43</td>\n      <td>27.82</td>\n      <td>28.27</td>\n    </tr>\n    <tr>\n      <th>40</th>\n      <td>Natal</td>\n      <td>16.62</td>\n      <td>2.09</td>\n      <td>27.43</td>\n      <td>28.21</td>\n    </tr>\n    <tr>\n      <th>41</th>\n      <td>Pelotas</td>\n      <td>18.58</td>\n      <td>2.77</td>\n      <td>28.82</td>\n      <td>29.29</td>\n    </tr>\n    <tr>\n      <th>42</th>\n      <td>Petrolina-Juazeiro</td>\n      <td>18.11</td>\n      <td>4.14</td>\n      <td>27.27</td>\n      <td>27.36</td>\n    </tr>\n    <tr>\n      <th>3</th>\n      <td>Porto Alegre</td>\n      <td>4.62</td>\n      <td>0.15</td>\n      <td>18.12</td>\n      <td>18.86</td>\n    </tr>\n    <tr>\n      <th>6</th>\n      <td>Recife</td>\n      <td>17.02</td>\n      <td>2.40</td>\n      <td>28.67</td>\n      <td>27.71</td>\n    </tr>\n    <tr>\n      <th>43</th>\n      <td>Ribeirão Preto</td>\n      <td>16.08</td>\n      <td>1.80</td>\n      <td>28.28</td>\n      <td>28.24</td>\n    </tr>\n    <tr>\n      <th>44</th>\n      <td>Rio de Janeiro</td>\n      <td>27.38</td>\n      <td>27.26</td>\n      <td>28.49</td>\n      <td>28.71</td>\n    </tr>\n    <tr>\n      <th>18</th>\n      <td>SJC</td>\n      <td>17.54</td>\n      <td>3.33</td>\n      <td>28.09</td>\n      <td>27.13</td>\n    </tr>\n    <tr>\n      <th>16</th>\n      <td>SJRP</td>\n      <td>14.36</td>\n      <td>1.68</td>\n      <td>27.59</td>\n      <td>28.43</td>\n    </tr>\n    <tr>\n      <th>5</th>\n      <td>Salvador</td>\n      <td>15.04</td>\n      <td>1.03</td>\n      <td>28.87</td>\n      <td>28.66</td>\n    </tr>\n    <tr>\n      <th>45</th>\n      <td>Santos</td>\n      <td>14.67</td>\n      <td>1.19</td>\n      <td>27.87</td>\n      <td>28.29</td>\n    </tr>\n    <tr>\n      <th>20</th>\n      <td>Sao Luis</td>\n      <td>15.73</td>\n      <td>2.19</td>\n      <td>28.95</td>\n      <td>27.34</td>\n    </tr>\n    <tr>\n      <th>14</th>\n      <td>Sorocaba</td>\n      <td>17.56</td>\n      <td>3.11</td>\n      <td>28.70</td>\n      <td>28.16</td>\n    </tr>\n    <tr>\n      <th>7</th>\n      <td>São Paulo</td>\n      <td>29.84</td>\n      <td>28.70</td>\n      <td>28.94</td>\n      <td>37.07</td>\n    </tr>\n    <tr>\n      <th>27</th>\n      <td>Teresina</td>\n      <td>16.21</td>\n      <td>1.87</td>\n      <td>28.36</td>\n      <td>28.36</td>\n    </tr>\n    <tr>\n      <th>21</th>\n      <td>Uberlandia</td>\n      <td>17.57</td>\n      <td>3.95</td>\n      <td>28.30</td>\n      <td>27.96</td>\n    </tr>\n    <tr>\n      <th>23</th>\n      <td>Vitória</td>\n      <td>17.18</td>\n      <td>2.21</td>\n      <td>29.04</td>\n      <td>28.17</td>\n    </tr>\n    <tr>\n      <th>46</th>\n      <td>Volta Redonda</td>\n      <td>17.23</td>\n      <td>3.11</td>\n      <td>26.95</td>\n      <td>28.61</td>\n    </tr>\n    <tr>\n      <th>0</th>\n      <td>all</td>\n      <td>17.87</td>\n      <td>3.62</td>\n      <td>31.03</td>\n      <td>32.92</td>\n    </tr>\n  </tbody>\n</table>\n</div>"
     },
     "execution_count": 63,
     "metadata": {},
     "output_type": "execute_result"
    }
   ],
   "source": [
    "hist_mean"
   ],
   "metadata": {
    "collapsed": false,
    "pycharm": {
     "name": "#%%\n"
    }
   }
  },
  {
   "cell_type": "code",
   "execution_count": 64,
   "outputs": [
    {
     "data": {
      "text/plain": "                    MR No policy    Buy   Rent   Wage\n30             Aracaju     36.54  13.67  44.80  44.70\n1       Belo Horizonte       0.0  29.21   0.00   0.00\n25               Belém     27.12   0.00  44.46  45.96\n29            Brasília       0.0   0.00   0.00   0.00\n31      Campina Grande     37.53  14.78  45.77  44.95\n4             Campinas      9.63   0.00  47.85  12.27\n9         Campo Grande     38.94  18.64  45.21  44.67\n32              Campos      36.5  14.25  45.32  44.68\n33       Caxias do Sul     36.39  16.07  45.45  44.70\n34               Crato     38.35  15.53  44.77  45.13\n24              Cuiabá     38.08  16.15  45.04  44.80\n35            Curitiba     32.92   2.70  36.73  26.79\n11    Feira de Santana     38.32  17.01  44.98  44.37\n36       Florianópolis     37.12  16.97  45.26  44.93\n2            Fortaleza     34.69  10.89  45.02  44.84\n37             Goiânia     36.53  12.33  45.58  45.05\n19      Ilheus-Itabuna     37.11  14.03  45.41  45.39\n12            Ipatinga     37.75  15.94  45.13  45.17\n8            Joinville     39.56  22.15  44.45  45.07\n15         João Pessoa      38.8  18.85  45.18  44.62\n38        Juiz de Fora     37.03  18.91  45.00  44.55\n10             Jundiai     35.27  14.56  45.13  45.85\n13            Londrina     37.36  17.45  45.25  45.02\n39              Macapá      36.8  15.31  44.81  45.15\n17              Maceio     38.78  18.04  45.03  45.03\n28              Manaus     37.82  16.26  45.49  45.11\n22             Maringá     38.54  19.15  45.05  45.38\n26               NH-SL     37.75  15.39  44.81  45.03\n40               Natal     37.23  14.32  44.62  45.00\n41             Pelotas      38.9  16.42  45.29  45.51\n42  Petrolina-Juazeiro     38.51  19.92  44.53  44.58\n3         Porto Alegre     20.99   3.88  38.52  39.12\n6               Recife     37.58  15.30  45.22  44.76\n43      Ribeirão Preto     36.74  13.30  45.03  45.02\n44      Rio de Janeiro     44.59  44.53  45.14  45.24\n18                 SJC     38.03  17.94  44.94  44.46\n16                SJRP     35.07  12.84  44.70  45.11\n5             Salvador     35.75  10.11  45.32  45.22\n45              Santos     35.38  10.84  44.83  45.04\n20            Sao Luis     36.41  14.65  45.35  44.57\n14            Sorocaba     38.05  17.35  45.24  44.98\n7            São Paulo     45.75  45.24  45.35  48.30\n27            Teresina     36.85  13.55  45.07  45.08\n21          Uberlandia     38.06  19.47  45.05  44.88\n23             Vitória     37.72  14.70  45.40  44.98\n46       Volta Redonda     37.77  17.36  44.37  45.19\n0                  all     38.31  18.68  46.26  46.99",
      "text/html": "<div>\n<style scoped>\n    .dataframe tbody tr th:only-of-type {\n        vertical-align: middle;\n    }\n\n    .dataframe tbody tr th {\n        vertical-align: top;\n    }\n\n    .dataframe thead tr th {\n        text-align: left;\n    }\n</style>\n<table border=\"1\" class=\"dataframe\">\n  <thead>\n    <tr>\n      <th></th>\n      <th>MR</th>\n      <th>No policy</th>\n      <th>Buy</th>\n      <th>Rent</th>\n      <th>Wage</th>\n    </tr>\n  </thead>\n  <tbody>\n    <tr>\n      <th>30</th>\n      <td>Aracaju</td>\n      <td>36.54</td>\n      <td>13.67</td>\n      <td>44.80</td>\n      <td>44.70</td>\n    </tr>\n    <tr>\n      <th>1</th>\n      <td>Belo Horizonte</td>\n      <td>0.0</td>\n      <td>29.21</td>\n      <td>0.00</td>\n      <td>0.00</td>\n    </tr>\n    <tr>\n      <th>25</th>\n      <td>Belém</td>\n      <td>27.12</td>\n      <td>0.00</td>\n      <td>44.46</td>\n      <td>45.96</td>\n    </tr>\n    <tr>\n      <th>29</th>\n      <td>Brasília</td>\n      <td>0.0</td>\n      <td>0.00</td>\n      <td>0.00</td>\n      <td>0.00</td>\n    </tr>\n    <tr>\n      <th>31</th>\n      <td>Campina Grande</td>\n      <td>37.53</td>\n      <td>14.78</td>\n      <td>45.77</td>\n      <td>44.95</td>\n    </tr>\n    <tr>\n      <th>4</th>\n      <td>Campinas</td>\n      <td>9.63</td>\n      <td>0.00</td>\n      <td>47.85</td>\n      <td>12.27</td>\n    </tr>\n    <tr>\n      <th>9</th>\n      <td>Campo Grande</td>\n      <td>38.94</td>\n      <td>18.64</td>\n      <td>45.21</td>\n      <td>44.67</td>\n    </tr>\n    <tr>\n      <th>32</th>\n      <td>Campos</td>\n      <td>36.5</td>\n      <td>14.25</td>\n      <td>45.32</td>\n      <td>44.68</td>\n    </tr>\n    <tr>\n      <th>33</th>\n      <td>Caxias do Sul</td>\n      <td>36.39</td>\n      <td>16.07</td>\n      <td>45.45</td>\n      <td>44.70</td>\n    </tr>\n    <tr>\n      <th>34</th>\n      <td>Crato</td>\n      <td>38.35</td>\n      <td>15.53</td>\n      <td>44.77</td>\n      <td>45.13</td>\n    </tr>\n    <tr>\n      <th>24</th>\n      <td>Cuiabá</td>\n      <td>38.08</td>\n      <td>16.15</td>\n      <td>45.04</td>\n      <td>44.80</td>\n    </tr>\n    <tr>\n      <th>35</th>\n      <td>Curitiba</td>\n      <td>32.92</td>\n      <td>2.70</td>\n      <td>36.73</td>\n      <td>26.79</td>\n    </tr>\n    <tr>\n      <th>11</th>\n      <td>Feira de Santana</td>\n      <td>38.32</td>\n      <td>17.01</td>\n      <td>44.98</td>\n      <td>44.37</td>\n    </tr>\n    <tr>\n      <th>36</th>\n      <td>Florianópolis</td>\n      <td>37.12</td>\n      <td>16.97</td>\n      <td>45.26</td>\n      <td>44.93</td>\n    </tr>\n    <tr>\n      <th>2</th>\n      <td>Fortaleza</td>\n      <td>34.69</td>\n      <td>10.89</td>\n      <td>45.02</td>\n      <td>44.84</td>\n    </tr>\n    <tr>\n      <th>37</th>\n      <td>Goiânia</td>\n      <td>36.53</td>\n      <td>12.33</td>\n      <td>45.58</td>\n      <td>45.05</td>\n    </tr>\n    <tr>\n      <th>19</th>\n      <td>Ilheus-Itabuna</td>\n      <td>37.11</td>\n      <td>14.03</td>\n      <td>45.41</td>\n      <td>45.39</td>\n    </tr>\n    <tr>\n      <th>12</th>\n      <td>Ipatinga</td>\n      <td>37.75</td>\n      <td>15.94</td>\n      <td>45.13</td>\n      <td>45.17</td>\n    </tr>\n    <tr>\n      <th>8</th>\n      <td>Joinville</td>\n      <td>39.56</td>\n      <td>22.15</td>\n      <td>44.45</td>\n      <td>45.07</td>\n    </tr>\n    <tr>\n      <th>15</th>\n      <td>João Pessoa</td>\n      <td>38.8</td>\n      <td>18.85</td>\n      <td>45.18</td>\n      <td>44.62</td>\n    </tr>\n    <tr>\n      <th>38</th>\n      <td>Juiz de Fora</td>\n      <td>37.03</td>\n      <td>18.91</td>\n      <td>45.00</td>\n      <td>44.55</td>\n    </tr>\n    <tr>\n      <th>10</th>\n      <td>Jundiai</td>\n      <td>35.27</td>\n      <td>14.56</td>\n      <td>45.13</td>\n      <td>45.85</td>\n    </tr>\n    <tr>\n      <th>13</th>\n      <td>Londrina</td>\n      <td>37.36</td>\n      <td>17.45</td>\n      <td>45.25</td>\n      <td>45.02</td>\n    </tr>\n    <tr>\n      <th>39</th>\n      <td>Macapá</td>\n      <td>36.8</td>\n      <td>15.31</td>\n      <td>44.81</td>\n      <td>45.15</td>\n    </tr>\n    <tr>\n      <th>17</th>\n      <td>Maceio</td>\n      <td>38.78</td>\n      <td>18.04</td>\n      <td>45.03</td>\n      <td>45.03</td>\n    </tr>\n    <tr>\n      <th>28</th>\n      <td>Manaus</td>\n      <td>37.82</td>\n      <td>16.26</td>\n      <td>45.49</td>\n      <td>45.11</td>\n    </tr>\n    <tr>\n      <th>22</th>\n      <td>Maringá</td>\n      <td>38.54</td>\n      <td>19.15</td>\n      <td>45.05</td>\n      <td>45.38</td>\n    </tr>\n    <tr>\n      <th>26</th>\n      <td>NH-SL</td>\n      <td>37.75</td>\n      <td>15.39</td>\n      <td>44.81</td>\n      <td>45.03</td>\n    </tr>\n    <tr>\n      <th>40</th>\n      <td>Natal</td>\n      <td>37.23</td>\n      <td>14.32</td>\n      <td>44.62</td>\n      <td>45.00</td>\n    </tr>\n    <tr>\n      <th>41</th>\n      <td>Pelotas</td>\n      <td>38.9</td>\n      <td>16.42</td>\n      <td>45.29</td>\n      <td>45.51</td>\n    </tr>\n    <tr>\n      <th>42</th>\n      <td>Petrolina-Juazeiro</td>\n      <td>38.51</td>\n      <td>19.92</td>\n      <td>44.53</td>\n      <td>44.58</td>\n    </tr>\n    <tr>\n      <th>3</th>\n      <td>Porto Alegre</td>\n      <td>20.99</td>\n      <td>3.88</td>\n      <td>38.52</td>\n      <td>39.12</td>\n    </tr>\n    <tr>\n      <th>6</th>\n      <td>Recife</td>\n      <td>37.58</td>\n      <td>15.30</td>\n      <td>45.22</td>\n      <td>44.76</td>\n    </tr>\n    <tr>\n      <th>43</th>\n      <td>Ribeirão Preto</td>\n      <td>36.74</td>\n      <td>13.30</td>\n      <td>45.03</td>\n      <td>45.02</td>\n    </tr>\n    <tr>\n      <th>44</th>\n      <td>Rio de Janeiro</td>\n      <td>44.59</td>\n      <td>44.53</td>\n      <td>45.14</td>\n      <td>45.24</td>\n    </tr>\n    <tr>\n      <th>18</th>\n      <td>SJC</td>\n      <td>38.03</td>\n      <td>17.94</td>\n      <td>44.94</td>\n      <td>44.46</td>\n    </tr>\n    <tr>\n      <th>16</th>\n      <td>SJRP</td>\n      <td>35.07</td>\n      <td>12.84</td>\n      <td>44.70</td>\n      <td>45.11</td>\n    </tr>\n    <tr>\n      <th>5</th>\n      <td>Salvador</td>\n      <td>35.75</td>\n      <td>10.11</td>\n      <td>45.32</td>\n      <td>45.22</td>\n    </tr>\n    <tr>\n      <th>45</th>\n      <td>Santos</td>\n      <td>35.38</td>\n      <td>10.84</td>\n      <td>44.83</td>\n      <td>45.04</td>\n    </tr>\n    <tr>\n      <th>20</th>\n      <td>Sao Luis</td>\n      <td>36.41</td>\n      <td>14.65</td>\n      <td>45.35</td>\n      <td>44.57</td>\n    </tr>\n    <tr>\n      <th>14</th>\n      <td>Sorocaba</td>\n      <td>38.05</td>\n      <td>17.35</td>\n      <td>45.24</td>\n      <td>44.98</td>\n    </tr>\n    <tr>\n      <th>7</th>\n      <td>São Paulo</td>\n      <td>45.75</td>\n      <td>45.24</td>\n      <td>45.35</td>\n      <td>48.30</td>\n    </tr>\n    <tr>\n      <th>27</th>\n      <td>Teresina</td>\n      <td>36.85</td>\n      <td>13.55</td>\n      <td>45.07</td>\n      <td>45.08</td>\n    </tr>\n    <tr>\n      <th>21</th>\n      <td>Uberlandia</td>\n      <td>38.06</td>\n      <td>19.47</td>\n      <td>45.05</td>\n      <td>44.88</td>\n    </tr>\n    <tr>\n      <th>23</th>\n      <td>Vitória</td>\n      <td>37.72</td>\n      <td>14.70</td>\n      <td>45.40</td>\n      <td>44.98</td>\n    </tr>\n    <tr>\n      <th>46</th>\n      <td>Volta Redonda</td>\n      <td>37.77</td>\n      <td>17.36</td>\n      <td>44.37</td>\n      <td>45.19</td>\n    </tr>\n    <tr>\n      <th>0</th>\n      <td>all</td>\n      <td>38.31</td>\n      <td>18.68</td>\n      <td>46.26</td>\n      <td>46.99</td>\n    </tr>\n  </tbody>\n</table>\n</div>"
     },
     "execution_count": 64,
     "metadata": {},
     "output_type": "execute_result"
    }
   ],
   "source": [
    "hist_std"
   ],
   "metadata": {
    "collapsed": false,
    "pycharm": {
     "name": "#%%\n"
    }
   }
  },
  {
   "cell_type": "code",
   "execution_count": 65,
   "outputs": [
    {
     "data": {
      "text/plain": "47"
     },
     "execution_count": 65,
     "metadata": {},
     "output_type": "execute_result"
    }
   ],
   "source": [
    "len(hist_std.iloc[:,0])"
   ],
   "metadata": {
    "collapsed": false,
    "pycharm": {
     "name": "#%%\n"
    }
   }
  },
  {
   "cell_type": "code",
   "execution_count": 67,
   "outputs": [
    {
     "name": "stdout",
     "output_type": "stream",
     "text": [
      "{'MR': 'all', 'max': 56.18000000000001, 'value': 17.87, 'min': 0}\n",
      "{'MR': 'all', 'max': 22.3, 'value': 3.620000000000001, 'min': 0}\n",
      "{'MR': 'all', 'max': 77.28999999999999, 'value': 31.03, 'min': 0}\n",
      "{'MR': 'all', 'max': 79.91, 'value': 32.92, 'min': 0}\n",
      "{'MR': 'Belo Horizonte', 'max': 100, 'value': 100.0, 'min': 100.0}\n",
      "{'MR': 'Belo Horizonte', 'max': 38.63, 'value': 9.420000000000002, 'min': 0}\n",
      "{'MR': 'Belo Horizonte', 'max': 100, 'value': 100.0, 'min': 100.0}\n",
      "{'MR': 'Belo Horizonte', 'max': 100, 'value': 100.0, 'min': 100.0}\n",
      "{'MR': 'Fortaleza', 'max': 48.68, 'value': 13.99, 'min': 0}\n",
      "{'MR': 'Fortaleza', 'max': 12.09, 'value': 1.1999999999999993, 'min': 0}\n",
      "{'MR': 'Fortaleza', 'max': 73.27, 'value': 28.249999999999996, 'min': 0}\n",
      "{'MR': 'Fortaleza', 'max': 72.71000000000001, 'value': 27.87, 'min': 0}\n",
      "{'MR': 'Porto Alegre', 'max': 25.610000000000003, 'value': 4.62, 'min': 0}\n",
      "{'MR': 'Porto Alegre', 'max': 4.029999999999999, 'value': 0.15000000000000036, 'min': 0}\n",
      "{'MR': 'Porto Alegre', 'max': 56.64, 'value': 18.12, 'min': 0}\n",
      "{'MR': 'Porto Alegre', 'max': 57.98, 'value': 18.86, 'min': 0}\n",
      "{'MR': 'Campinas', 'max': 10.569999999999999, 'value': 0.9400000000000001, 'min': 0}\n",
      "{'MR': 'Campinas', 'max': 0.0, 'value': 0.0, 'min': 0}\n",
      "{'MR': 'Campinas', 'max': 100, 'value': 64.5, 'min': 16.650000000000006}\n",
      "{'MR': 'Campinas', 'max': 100, 'value': 98.47, 'min': 86.2}\n",
      "{'MR': 'Salvador', 'max': 50.79, 'value': 15.040000000000001, 'min': 0}\n",
      "{'MR': 'Salvador', 'max': 11.139999999999999, 'value': 1.0299999999999994, 'min': 0}\n",
      "{'MR': 'Salvador', 'max': 74.19, 'value': 28.87, 'min': 0}\n",
      "{'MR': 'Salvador', 'max': 73.88, 'value': 28.660000000000004, 'min': 0}\n",
      "{'MR': 'Recife', 'max': 54.60000000000001, 'value': 17.02, 'min': 0}\n",
      "{'MR': 'Recife', 'max': 17.699999999999996, 'value': 2.4000000000000004, 'min': 0}\n",
      "{'MR': 'Recife', 'max': 73.89, 'value': 28.67, 'min': 0}\n",
      "{'MR': 'Recife', 'max': 72.47, 'value': 27.71, 'min': 0}\n",
      "{'MR': 'São Paulo', 'max': 75.59, 'value': 29.84, 'min': 0}\n",
      "{'MR': 'São Paulo', 'max': 73.94, 'value': 28.7, 'min': 0}\n",
      "{'MR': 'São Paulo', 'max': 74.28999999999999, 'value': 28.939999999999998, 'min': 0}\n",
      "{'MR': 'São Paulo', 'max': 85.37, 'value': 37.07, 'min': 0}\n",
      "{'MR': 'Joinville', 'max': 58.99, 'value': 19.43, 'min': 0}\n",
      "{'MR': 'Joinville', 'max': 27.32, 'value': 5.17, 'min': 0}\n",
      "{'MR': 'Joinville', 'max': 71.55000000000001, 'value': 27.1, 'min': 0}\n",
      "{'MR': 'Joinville', 'max': 73.41, 'value': 28.34, 'min': 0}\n",
      "{'MR': 'Campo Grande', 'max': 57.57000000000001, 'value': 18.63, 'min': 0}\n",
      "{'MR': 'Campo Grande', 'max': 22.25, 'value': 3.6099999999999994, 'min': 0}\n",
      "{'MR': 'Campo Grande', 'max': 73.86, 'value': 28.65, 'min': 0}\n",
      "{'MR': 'Campo Grande', 'max': 72.21000000000001, 'value': 27.54, 'min': 0}\n",
      "{'MR': 'Jundiai', 'max': 49.830000000000005, 'value': 14.56, 'min': 0}\n",
      "{'MR': 'Jundiai', 'max': 16.730000000000004, 'value': 2.17, 'min': 0}\n",
      "{'MR': 'Jundiai', 'max': 73.6, 'value': 28.470000000000002, 'min': 0}\n",
      "{'MR': 'Jundiai', 'max': 75.91, 'value': 30.06, 'min': 0}\n",
      "{'MR': 'Feira de Santana', 'max': 56.2, 'value': 17.88, 'min': 0}\n",
      "{'MR': 'Feira de Santana', 'max': 19.990000000000002, 'value': 2.9800000000000004, 'min': 0}\n",
      "{'MR': 'Feira de Santana', 'max': 73.15, 'value': 28.17, 'min': 0}\n",
      "{'MR': 'Feira de Santana', 'max': 71.33, 'value': 26.96, 'min': 0}\n",
      "{'MR': 'Ipatinga', 'max': 54.97, 'value': 17.22, 'min': 0}\n",
      "{'MR': 'Ipatinga', 'max': 18.549999999999997, 'value': 2.6099999999999994, 'min': 0}\n",
      "{'MR': 'Ipatinga', 'max': 73.61, 'value': 28.48, 'min': 0}\n",
      "{'MR': 'Ipatinga', 'max': 73.73, 'value': 28.560000000000002, 'min': 0}\n",
      "{'MR': 'Londrina', 'max': 54.129999999999995, 'value': 16.77, 'min': 0}\n",
      "{'MR': 'Londrina', 'max': 20.59, 'value': 3.1400000000000006, 'min': 0}\n",
      "{'MR': 'Londrina', 'max': 73.98, 'value': 28.73, 'min': 0}\n",
      "{'MR': 'Londrina', 'max': 73.27, 'value': 28.249999999999996, 'min': 0}\n",
      "{'MR': 'Sorocaba', 'max': 55.61, 'value': 17.560000000000002, 'min': 0}\n",
      "{'MR': 'Sorocaba', 'max': 20.459999999999997, 'value': 3.1099999999999994, 'min': 0}\n",
      "{'MR': 'Sorocaba', 'max': 73.94, 'value': 28.7, 'min': 0}\n",
      "{'MR': 'Sorocaba', 'max': 73.14, 'value': 28.16, 'min': 0}\n",
      "{'MR': 'João Pessoa', 'max': 57.27, 'value': 18.47, 'min': 0}\n",
      "{'MR': 'João Pessoa', 'max': 22.540000000000003, 'value': 3.6900000000000013, 'min': 0}\n",
      "{'MR': 'João Pessoa', 'max': 73.75999999999999, 'value': 28.58, 'min': 0}\n",
      "{'MR': 'João Pessoa', 'max': 72.06, 'value': 27.439999999999998, 'min': 0}\n",
      "{'MR': 'SJRP', 'max': 49.43, 'value': 14.360000000000001, 'min': 0}\n",
      "{'MR': 'SJRP', 'max': 14.519999999999996, 'value': 1.6799999999999997, 'min': 0}\n",
      "{'MR': 'SJRP', 'max': 72.28999999999999, 'value': 27.589999999999996, 'min': 0}\n",
      "{'MR': 'SJRP', 'max': 73.53999999999999, 'value': 28.43, 'min': 0}\n",
      "{'MR': 'Maceio', 'max': 57.21, 'value': 18.43, 'min': 0}\n",
      "{'MR': 'Maceio', 'max': 21.41, 'value': 3.370000000000001, 'min': 0}\n",
      "{'MR': 'Maceio', 'max': 73.3, 'value': 28.27, 'min': 0}\n",
      "{'MR': 'Maceio', 'max': 73.29, 'value': 28.26, 'min': 0}\n",
      "{'MR': 'SJC', 'max': 55.57, 'value': 17.54, 'min': 0}\n",
      "{'MR': 'SJC', 'max': 21.270000000000003, 'value': 3.33, 'min': 0}\n",
      "{'MR': 'SJC', 'max': 73.03, 'value': 28.09, 'min': 0}\n",
      "{'MR': 'SJC', 'max': 71.59, 'value': 27.13, 'min': 0}\n",
      "{'MR': 'Ilheus-Itabuna', 'max': 53.61, 'value': 16.5, 'min': 0}\n",
      "{'MR': 'Ilheus-Itabuna', 'max': 16.04, 'value': 2.01, 'min': 0}\n",
      "{'MR': 'Ilheus-Itabuna', 'max': 74.48, 'value': 29.07, 'min': 0}\n",
      "{'MR': 'Ilheus-Itabuna', 'max': 74.41, 'value': 29.020000000000003, 'min': 0}\n",
      "{'MR': 'Sao Luis', 'max': 52.14, 'value': 15.73, 'min': 0}\n",
      "{'MR': 'Sao Luis', 'max': 16.839999999999996, 'value': 2.1899999999999995, 'min': 0}\n",
      "{'MR': 'Sao Luis', 'max': 74.3, 'value': 28.95, 'min': 0}\n",
      "{'MR': 'Sao Luis', 'max': 71.91, 'value': 27.339999999999996, 'min': 0}\n",
      "{'MR': 'Uberlandia', 'max': 55.63, 'value': 17.57, 'min': 0}\n",
      "{'MR': 'Uberlandia', 'max': 23.42, 'value': 3.9499999999999993, 'min': 0}\n",
      "{'MR': 'Uberlandia', 'max': 73.35, 'value': 28.299999999999997, 'min': 0}\n",
      "{'MR': 'Uberlandia', 'max': 72.84, 'value': 27.96, 'min': 0}\n",
      "{'MR': 'Maringá', 'max': 56.68, 'value': 18.14, 'min': 0}\n",
      "{'MR': 'Maringá', 'max': 22.96, 'value': 3.8100000000000005, 'min': 0}\n",
      "{'MR': 'Maringá', 'max': 73.35, 'value': 28.299999999999997, 'min': 0}\n",
      "{'MR': 'Maringá', 'max': 74.38, 'value': 28.999999999999996, 'min': 0}\n",
      "{'MR': 'Vitória', 'max': 54.9, 'value': 17.18, 'min': 0}\n",
      "{'MR': 'Vitória', 'max': 16.91, 'value': 2.210000000000001, 'min': 0}\n",
      "{'MR': 'Vitória', 'max': 74.44, 'value': 29.04, 'min': 0}\n",
      "{'MR': 'Vitória', 'max': 73.15, 'value': 28.17, 'min': 0}\n",
      "{'MR': 'Cuiabá', 'max': 55.67, 'value': 17.59, 'min': 0}\n",
      "{'MR': 'Cuiabá', 'max': 18.830000000000002, 'value': 2.6799999999999997, 'min': 0}\n",
      "{'MR': 'Cuiabá', 'max': 73.33, 'value': 28.29, 'min': 0}\n",
      "{'MR': 'Cuiabá', 'max': 72.60000000000001, 'value': 27.800000000000004, 'min': 0}\n",
      "{'MR': 'Belém', 'max': 35.120000000000005, 'value': 8.0, 'min': 0}\n",
      "{'MR': 'Belém', 'max': 0.0, 'value': 0.0, 'min': 0}\n",
      "{'MR': 'Belém', 'max': 71.58, 'value': 27.12, 'min': 0}\n",
      "{'MR': 'Belém', 'max': 100, 'value': 69.69, 'min': 23.729999999999997}\n",
      "{'MR': 'NH-SL', 'max': 54.96, 'value': 17.21, 'min': 0}\n",
      "{'MR': 'NH-SL', 'max': 17.82, 'value': 2.4299999999999997, 'min': 0}\n",
      "{'MR': 'NH-SL', 'max': 72.63, 'value': 27.82, 'min': 0}\n",
      "{'MR': 'NH-SL', 'max': 73.3, 'value': 28.27, 'min': 0}\n",
      "{'MR': 'Teresina', 'max': 53.06, 'value': 16.21, 'min': 0}\n",
      "{'MR': 'Teresina', 'max': 15.420000000000002, 'value': 1.870000000000001, 'min': 0}\n",
      "{'MR': 'Teresina', 'max': 73.43, 'value': 28.360000000000003, 'min': 0}\n",
      "{'MR': 'Teresina', 'max': 73.44, 'value': 28.360000000000003, 'min': 0}\n",
      "{'MR': 'Manaus', 'max': 55.12, 'value': 17.299999999999997, 'min': 0}\n",
      "{'MR': 'Manaus', 'max': 18.979999999999997, 'value': 2.719999999999999, 'min': 0}\n",
      "{'MR': 'Manaus', 'max': 74.73, 'value': 29.24, 'min': 0}\n",
      "{'MR': 'Manaus', 'max': 73.55, 'value': 28.439999999999998, 'min': 0}\n",
      "{'MR': 'Brasília', 'max': 0.0, 'value': 0.0, 'min': 0}\n",
      "{'MR': 'Brasília', 'max': 0.0, 'value': 0.0, 'min': 0}\n",
      "{'MR': 'Brasília', 'max': 0.0, 'value': 0.0, 'min': 0}\n",
      "{'MR': 'Brasília', 'max': 0.0, 'value': 0.0, 'min': 0}\n",
      "{'MR': 'Aracaju', 'max': 52.41, 'value': 15.870000000000001, 'min': 0}\n",
      "{'MR': 'Aracaju', 'max': 15.569999999999999, 'value': 1.9000000000000004, 'min': 0}\n",
      "{'MR': 'Aracaju', 'max': 72.60000000000001, 'value': 27.800000000000004, 'min': 0}\n",
      "{'MR': 'Aracaju', 'max': 72.30000000000001, 'value': 27.6, 'min': 0}\n",
      "{'MR': 'Campina Grande', 'max': 54.49, 'value': 16.96, 'min': 0}\n",
      "{'MR': 'Campina Grande', 'max': 17.01, 'value': 2.2300000000000004, 'min': 0}\n",
      "{'MR': 'Campina Grande', 'max': 75.65, 'value': 29.880000000000003, 'min': 0}\n",
      "{'MR': 'Campina Grande', 'max': 73.06, 'value': 28.110000000000003, 'min': 0}\n",
      "{'MR': 'Campos', 'max': 52.33, 'value': 15.83, 'min': 0}\n",
      "{'MR': 'Campos', 'max': 16.32, 'value': 2.0700000000000003, 'min': 0}\n",
      "{'MR': 'Campos', 'max': 74.21000000000001, 'value': 28.89, 'min': 0}\n",
      "{'MR': 'Campos', 'max': 72.24000000000001, 'value': 27.560000000000002, 'min': 0}\n",
      "{'MR': 'Caxias do Sul', 'max': 52.1, 'value': 15.709999999999999, 'min': 0}\n",
      "{'MR': 'Caxias do Sul', 'max': 18.72, 'value': 2.6500000000000004, 'min': 0}\n",
      "{'MR': 'Caxias do Sul', 'max': 74.62, 'value': 29.17, 'min': 0}\n",
      "{'MR': 'Caxias do Sul', 'max': 72.30000000000001, 'value': 27.6, 'min': 0}\n",
      "{'MR': 'Crato', 'max': 56.269999999999996, 'value': 17.919999999999998, 'min': 0}\n",
      "{'MR': 'Crato', 'max': 18.0, 'value': 2.469999999999999, 'min': 0}\n",
      "{'MR': 'Crato', 'max': 72.5, 'value': 27.73, 'min': 0}\n",
      "{'MR': 'Crato', 'max': 73.6, 'value': 28.470000000000002, 'min': 0}\n",
      "{'MR': 'Curitiba', 'max': 45.290000000000006, 'value': 12.370000000000001, 'min': 0}\n",
      "{'MR': 'Curitiba', 'max': 2.7699999999999996, 'value': 0.07000000000000028, 'min': 0}\n",
      "{'MR': 'Curitiba', 'max': 100, 'value': 83.91999999999999, 'min': 47.18999999999998}\n",
      "{'MR': 'Curitiba', 'max': 100, 'value': 92.22, 'min': 65.42999999999999}\n",
      "{'MR': 'Florianópolis', 'max': 53.62, 'value': 16.5, 'min': 0}\n",
      "{'MR': 'Florianópolis', 'max': 19.939999999999998, 'value': 2.9700000000000006, 'min': 0}\n",
      "{'MR': 'Florianópolis', 'max': 74.00999999999999, 'value': 28.749999999999996, 'min': 0}\n",
      "{'MR': 'Florianópolis', 'max': 73.0, 'value': 28.07, 'min': 0}\n",
      "{'MR': 'Goiânia', 'max': 52.39, 'value': 15.86, 'min': 0}\n",
      "{'MR': 'Goiânia', 'max': 13.869999999999997, 'value': 1.5399999999999991, 'min': 0}\n",
      "{'MR': 'Goiânia', 'max': 75.02, 'value': 29.439999999999998, 'min': 0}\n",
      "{'MR': 'Goiânia', 'max': 73.36000000000001, 'value': 28.310000000000002, 'min': 0}\n",
      "{'MR': 'Juiz de Fora', 'max': 53.43000000000001, 'value': 16.400000000000002, 'min': 0}\n",
      "{'MR': 'Juiz de Fora', 'max': 22.63, 'value': 3.719999999999999, 'min': 0}\n",
      "{'MR': 'Juiz de Fora', 'max': 73.21000000000001, 'value': 28.21, 'min': 0}\n",
      "{'MR': 'Juiz de Fora', 'max': 71.85, 'value': 27.3, 'min': 0}\n",
      "{'MR': 'Macapá', 'max': 52.95, 'value': 16.150000000000002, 'min': 0}\n",
      "{'MR': 'Macapá', 'max': 17.71, 'value': 2.4000000000000004, 'min': 0}\n",
      "{'MR': 'Macapá', 'max': 72.63, 'value': 27.82, 'min': 0}\n",
      "{'MR': 'Macapá', 'max': 73.66, 'value': 28.51, 'min': 0}\n",
      "{'MR': 'Natal', 'max': 53.85, 'value': 16.619999999999997, 'min': 0}\n",
      "{'MR': 'Natal', 'max': 16.41, 'value': 2.09, 'min': 0}\n",
      "{'MR': 'Natal', 'max': 72.05, 'value': 27.43, 'min': 0}\n",
      "{'MR': 'Natal', 'max': 73.21000000000001, 'value': 28.21, 'min': 0}\n",
      "{'MR': 'Pelotas', 'max': 57.48, 'value': 18.58, 'min': 0}\n",
      "{'MR': 'Pelotas', 'max': 19.19, 'value': 2.7699999999999996, 'min': 0}\n",
      "{'MR': 'Pelotas', 'max': 74.11, 'value': 28.82, 'min': 0}\n",
      "{'MR': 'Pelotas', 'max': 74.8, 'value': 29.29, 'min': 0}\n",
      "{'MR': 'Petrolina-Juazeiro', 'max': 56.62, 'value': 18.11, 'min': 0}\n",
      "{'MR': 'Petrolina-Juazeiro', 'max': 24.06, 'value': 4.140000000000001, 'min': 0}\n",
      "{'MR': 'Petrolina-Juazeiro', 'max': 71.8, 'value': 27.27, 'min': 0}\n",
      "{'MR': 'Petrolina-Juazeiro', 'max': 71.94, 'value': 27.36, 'min': 0}\n",
      "{'MR': 'Ribeirão Preto', 'max': 52.82, 'value': 16.08, 'min': 0}\n",
      "{'MR': 'Ribeirão Preto', 'max': 15.100000000000001, 'value': 1.8000000000000007, 'min': 0}\n",
      "{'MR': 'Ribeirão Preto', 'max': 73.31, 'value': 28.28, 'min': 0}\n",
      "{'MR': 'Ribeirão Preto', 'max': 73.25999999999999, 'value': 28.24, 'min': 0}\n",
      "{'MR': 'Rio de Janeiro', 'max': 71.97, 'value': 27.38, 'min': 0}\n",
      "{'MR': 'Rio de Janeiro', 'max': 71.78999999999999, 'value': 27.26, 'min': 0}\n",
      "{'MR': 'Rio de Janeiro', 'max': 73.63, 'value': 28.49, 'min': 0}\n",
      "{'MR': 'Rio de Janeiro', 'max': 73.95, 'value': 28.71, 'min': 0}\n",
      "{'MR': 'Santos', 'max': 50.050000000000004, 'value': 14.67, 'min': 0}\n",
      "{'MR': 'Santos', 'max': 12.03, 'value': 1.1899999999999995, 'min': 0}\n",
      "{'MR': 'Santos', 'max': 72.7, 'value': 27.87, 'min': 0}\n",
      "{'MR': 'Santos', 'max': 73.33, 'value': 28.29, 'min': 0}\n",
      "{'MR': 'Volta Redonda', 'max': 55.0, 'value': 17.23, 'min': 0}\n",
      "{'MR': 'Volta Redonda', 'max': 20.47, 'value': 3.1099999999999994, 'min': 0}\n",
      "{'MR': 'Volta Redonda', 'max': 71.32, 'value': 26.950000000000003, 'min': 0}\n",
      "{'MR': 'Volta Redonda', 'max': 73.80000000000001, 'value': 28.610000000000003, 'min': 0}\n"
     ]
    }
   ],
   "source": [
    "no_policy, buy, rent, wage = pd.DataFrame(), pd.DataFrame(), pd.DataFrame(), pd.DataFrame()\n",
    "_dict = {'No policy' : no_policy,\n",
    "        'Buy' : buy,\n",
    "        'Rent' : rent,\n",
    "        'Wage' : wage}\n",
    "\n",
    "for acp in range(0,len(hist_std.iloc[:,0])):\n",
    "    for policy in ['No policy', 'Buy', 'Rent', 'Wage']:\n",
    "        row = {'MR' : hist_mean.loc[acp, 'MR'].MR,\n",
    "               'max' : min(100,hist_mean.loc[acp, policy].values[0] + hist_std.loc[acp, policy].values[0]),\n",
    "               'value' : hist_mean.loc[acp, policy].values[0],\n",
    "               'min' : max(0,hist_mean.loc[acp, policy].values[0] - hist_std.loc[acp, policy].values[0])}\n",
    "        print(row)\n",
    "        _dict[policy] = _dict[policy].append(row, ignore_index=True)"
   ],
   "metadata": {
    "collapsed": false,
    "pycharm": {
     "name": "#%%\n"
    }
   }
  },
  {
   "cell_type": "code",
   "execution_count": 68,
   "outputs": [
    {
     "data": {
      "text/plain": "          0               1          2             3         4         5   \\\nMR       all  Belo Horizonte  Fortaleza  Porto Alegre  Campinas  Salvador   \nmax    79.91           100.0      72.71         57.98     100.0     73.88   \nvalue  32.92           100.0      27.87         18.86     98.47     28.66   \nmin      0.0           100.0        0.0           0.0      86.2       0.0   \n\n           6          7          8             9   ...       37            38  \\\nMR     Recife  São Paulo  Joinville  Campo Grande  ...  Goiânia  Juiz de Fora   \nmax     72.47      85.37      73.41         72.21  ...    73.36         71.85   \nvalue   27.71      37.07      28.34         27.54  ...    28.31          27.3   \nmin       0.0        0.0        0.0           0.0  ...      0.0           0.0   \n\n           39     40       41                  42              43  \\\nMR     Macapá  Natal  Pelotas  Petrolina-Juazeiro  Ribeirão Preto   \nmax     73.66  73.21     74.8               71.94           73.26   \nvalue   28.51  28.21    29.29               27.36           28.24   \nmin       0.0    0.0      0.0                 0.0             0.0   \n\n                   44      45             46  \nMR     Rio de Janeiro  Santos  Volta Redonda  \nmax             73.95   73.33           73.8  \nvalue           28.71   28.29          28.61  \nmin               0.0     0.0            0.0  \n\n[4 rows x 47 columns]",
      "text/html": "<div>\n<style scoped>\n    .dataframe tbody tr th:only-of-type {\n        vertical-align: middle;\n    }\n\n    .dataframe tbody tr th {\n        vertical-align: top;\n    }\n\n    .dataframe thead th {\n        text-align: right;\n    }\n</style>\n<table border=\"1\" class=\"dataframe\">\n  <thead>\n    <tr style=\"text-align: right;\">\n      <th></th>\n      <th>0</th>\n      <th>1</th>\n      <th>2</th>\n      <th>3</th>\n      <th>4</th>\n      <th>5</th>\n      <th>6</th>\n      <th>7</th>\n      <th>8</th>\n      <th>9</th>\n      <th>...</th>\n      <th>37</th>\n      <th>38</th>\n      <th>39</th>\n      <th>40</th>\n      <th>41</th>\n      <th>42</th>\n      <th>43</th>\n      <th>44</th>\n      <th>45</th>\n      <th>46</th>\n    </tr>\n  </thead>\n  <tbody>\n    <tr>\n      <th>MR</th>\n      <td>all</td>\n      <td>Belo Horizonte</td>\n      <td>Fortaleza</td>\n      <td>Porto Alegre</td>\n      <td>Campinas</td>\n      <td>Salvador</td>\n      <td>Recife</td>\n      <td>São Paulo</td>\n      <td>Joinville</td>\n      <td>Campo Grande</td>\n      <td>...</td>\n      <td>Goiânia</td>\n      <td>Juiz de Fora</td>\n      <td>Macapá</td>\n      <td>Natal</td>\n      <td>Pelotas</td>\n      <td>Petrolina-Juazeiro</td>\n      <td>Ribeirão Preto</td>\n      <td>Rio de Janeiro</td>\n      <td>Santos</td>\n      <td>Volta Redonda</td>\n    </tr>\n    <tr>\n      <th>max</th>\n      <td>79.91</td>\n      <td>100.0</td>\n      <td>72.71</td>\n      <td>57.98</td>\n      <td>100.0</td>\n      <td>73.88</td>\n      <td>72.47</td>\n      <td>85.37</td>\n      <td>73.41</td>\n      <td>72.21</td>\n      <td>...</td>\n      <td>73.36</td>\n      <td>71.85</td>\n      <td>73.66</td>\n      <td>73.21</td>\n      <td>74.8</td>\n      <td>71.94</td>\n      <td>73.26</td>\n      <td>73.95</td>\n      <td>73.33</td>\n      <td>73.8</td>\n    </tr>\n    <tr>\n      <th>value</th>\n      <td>32.92</td>\n      <td>100.0</td>\n      <td>27.87</td>\n      <td>18.86</td>\n      <td>98.47</td>\n      <td>28.66</td>\n      <td>27.71</td>\n      <td>37.07</td>\n      <td>28.34</td>\n      <td>27.54</td>\n      <td>...</td>\n      <td>28.31</td>\n      <td>27.3</td>\n      <td>28.51</td>\n      <td>28.21</td>\n      <td>29.29</td>\n      <td>27.36</td>\n      <td>28.24</td>\n      <td>28.71</td>\n      <td>28.29</td>\n      <td>28.61</td>\n    </tr>\n    <tr>\n      <th>min</th>\n      <td>0.0</td>\n      <td>100.0</td>\n      <td>0.0</td>\n      <td>0.0</td>\n      <td>86.2</td>\n      <td>0.0</td>\n      <td>0.0</td>\n      <td>0.0</td>\n      <td>0.0</td>\n      <td>0.0</td>\n      <td>...</td>\n      <td>0.0</td>\n      <td>0.0</td>\n      <td>0.0</td>\n      <td>0.0</td>\n      <td>0.0</td>\n      <td>0.0</td>\n      <td>0.0</td>\n      <td>0.0</td>\n      <td>0.0</td>\n      <td>0.0</td>\n    </tr>\n  </tbody>\n</table>\n<p>4 rows × 47 columns</p>\n</div>"
     },
     "execution_count": 68,
     "metadata": {},
     "output_type": "execute_result"
    }
   ],
   "source": [
    "_dict['Wage'].transpose()"
   ],
   "metadata": {
    "collapsed": false,
    "pycharm": {
     "name": "#%%\n"
    }
   }
  },
  {
   "cell_type": "code",
   "execution_count": 69,
   "outputs": [
    {
     "data": {
      "text/plain": "<Figure size 576x576 with 4 Axes>",
      "image/png": "[encoded data removed]"
     },
     "metadata": {
      "needs_background": "light"
     },
     "output_type": "display_data"
    }
   ],
   "source": [
    "plt.figure(figsize=(8, 8))\n",
    "plt.ylim((0, 100))\n",
    "plt.tight_layout()\n",
    "\n",
    "plt.subplot(4, 1, 1).set_title('No Policy')\n",
    "_dict['No policy'].set_index('MR').T.boxplot(widths = 0.6, labels=None).set(xticklabels=[])\n",
    "\n",
    "plt.subplot(4, 1, 2).set_title('Policy: Buy')\n",
    "_dict['Buy'].set_index('MR').T.boxplot(widths = 0.6).set(xticklabels=[])\n",
    "\n",
    "plt.subplot(4, 1, 3).set_title('Policy: Wage')\n",
    "_dict['Wage'].set_index('MR').T.boxplot(widths = 0.6).set(xticklabels=[])\n",
    "\n",
    "plt.subplot(4, 1, 4).set_title('Policy: Rent')\n",
    "_dict['Rent'].set_index('MR').T.boxplot(widths = 0.6)\n",
    "\n",
    "plt.xticks(rotation=90)\n",
    "\n",
    "\n",
    "plt.savefig(f'../text/figures/boxplot.png', bbox_inches='tight', transparent=True)\n",
    "plt.show()"
   ],
   "metadata": {
    "collapsed": false,
    "pycharm": {
     "name": "#%%\n"
    }
   }
  },
  {
   "cell_type": "markdown",
   "source": [],
   "metadata": {
    "collapsed": false
   }
  }
 ],
 "metadata": {
  "kernelspec": {
   "display_name": "Python 3",
   "language": "python",
   "name": "python3"
  },
  "language_info": {
   "codemirror_mode": {
    "name": "ipython",
    "version": 2
   },
   "file_extension": ".py",
   "mimetype": "text/x-python",
   "name": "python",
   "nbconvert_exporter": "python",
   "pygments_lexer": "ipython2",
   "version": "2.7.6"
  }
 },
 "nbformat": 4,
 "nbformat_minor": 0
}